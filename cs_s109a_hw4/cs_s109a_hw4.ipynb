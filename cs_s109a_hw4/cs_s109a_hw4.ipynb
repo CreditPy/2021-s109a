{
 "cells": [
  {
   "cell_type": "markdown",
   "metadata": {
    "button": false,
    "new_sheet": false,
    "run_control": {
     "read_only": false
    }
   },
   "source": [
    "# <img style=\"float: left; padding-right: 10px; width: 45px\" src=\"https://github.com/Harvard-IACS/2021-s109a/blob/master/lectures/crest.png?raw=true\"> CS-S109A Introduction to Data Science \n",
    "\n",
    "## Homework 4:  Logistic Regression and PCA\n",
    "\n",
    "**Harvard University**<br/>\n",
    "**Summer 2021**<br/>\n",
    "**Instructors**: Kevin Rader\n",
    "\n",
    "\n",
    "<hr style='height:2px'>\n",
    "\n",
    "---\n",
    "\n"
   ]
  },
  {
   "cell_type": "code",
   "execution_count": 1,
   "metadata": {},
   "outputs": [
    {
     "data": {
      "text/html": [
       "<style>\n",
       "blockquote { background: #AEDE94; }\n",
       "h1 { \n",
       "    padding-top: 25px;\n",
       "    padding-bottom: 25px;\n",
       "    text-align: left; \n",
       "    padding-left: 10px;\n",
       "    background-color: #DDDDDD; \n",
       "    color: black;\n",
       "}\n",
       "h2 { \n",
       "    padding-top: 10px;\n",
       "    padding-bottom: 10px;\n",
       "    text-align: left; \n",
       "    padding-left: 5px;\n",
       "    background-color: #EEEEEE; \n",
       "    color: black;\n",
       "}\n",
       "\n",
       "div.exercise {\n",
       "\tbackground-color: #ffcccc;\n",
       "\tborder-color: #E9967A; \t\n",
       "\tborder-left: 5px solid #800080; \n",
       "\tpadding: 0.5em;\n",
       "}\n",
       "\n",
       "div.exercise-r {\n",
       "\tbackground-color: #fce8e8;\n",
       "\tborder-color: #E9967A; \t\n",
       "\tborder-left: 5px solid #800080; \n",
       "\tpadding: 0.5em;\n",
       "}\n",
       "\n",
       "\n",
       "span.sub-q {\n",
       "\tfont-weight: bold;\n",
       "}\n",
       "div.theme {\n",
       "\tbackground-color: #DDDDDD;\n",
       "\tborder-color: #E9967A; \t\n",
       "\tborder-left: 5px solid #800080; \n",
       "\tpadding: 0.5em;\n",
       "\tfont-size: 18pt;\n",
       "}\n",
       "div.gc { \n",
       "\tbackground-color: #AEDE94;\n",
       "\tborder-color: #E9967A; \t \n",
       "\tborder-left: 5px solid #800080; \n",
       "\tpadding: 0.5em;\n",
       "\tfont-size: 12pt;\n",
       "}\n",
       "p.q1 { \n",
       "    padding-top: 5px;\n",
       "    padding-bottom: 5px;\n",
       "    text-align: left; \n",
       "    padding-left: 5px;\n",
       "    background-color: #EEEEEE; \n",
       "    color: black;\n",
       "}\n",
       "header {\n",
       "   padding-top: 35px;\n",
       "    padding-bottom: 35px;\n",
       "    text-align: left; \n",
       "    padding-left: 10px;\n",
       "    background-color: #DDDDDD; \n",
       "    color: black;\n",
       "}\n",
       "</style>\n",
       "\n"
      ],
      "text/plain": [
       "<IPython.core.display.HTML object>"
      ]
     },
     "execution_count": 1,
     "metadata": {},
     "output_type": "execute_result"
    }
   ],
   "source": [
    "## RUN THIS CELL TO GET THE RIGHT FORMATTING \n",
    "import requests\n",
    "from IPython.core.display import HTML\n",
    "styles = requests.get(\"https://raw.githubusercontent.com/Harvard-IACS/2018-CS109A/master/content/styles/cs109.css\").text\n",
    "HTML(styles)"
   ]
  },
  {
   "cell_type": "markdown",
   "metadata": {},
   "source": [
    "### INSTRUCTIONS\n",
    "\n",
    "- To submit your assignment follow the instructions given in Canvas.\n",
    "- Restart the kernel and run the whole notebook again before you submit. \n",
    "- If you submit individually and you have worked with someone, please include the name of your [one] partner below. \n",
    "- As much as possible, try and stick to the hints and functions we import at the top of the homework, as those are the ideas and tools the class supports and is aiming to teach. And if a problem specifies a particular library you're required to use that library, and possibly others from the import list.\n",
    "- Please use .head() when viewing data. Do not submit a notebook that is excessively long because output was not suppressed or otherwise limited. "
   ]
  },
  {
   "cell_type": "markdown",
   "metadata": {},
   "source": [
    "**Partners: Sunil Kumar Shambulingaiah and Steven Devisch** "
   ]
  },
  {
   "cell_type": "code",
   "execution_count": 2,
   "metadata": {},
   "outputs": [],
   "source": [
    "import numpy as np\n",
    "import pandas as pd\n",
    "import sklearn as sk\n",
    "\n",
    "from sklearn.linear_model import LogisticRegression\n",
    "from sklearn.linear_model import LogisticRegressionCV\n",
    "\n",
    "from sklearn.neighbors import KNeighborsClassifier\n",
    "from sklearn.model_selection import cross_val_score\n",
    "from sklearn.metrics import accuracy_score\n",
    "from sklearn.model_selection import KFold\n",
    "from sklearn.preprocessing import MinMaxScaler\n",
    "from sklearn.model_selection import train_test_split\n",
    "from sklearn import metrics\n",
    "from sklearn.decomposition import PCA\n",
    "\n",
    "import matplotlib\n",
    "import matplotlib.pyplot as plt\n",
    "%matplotlib inline\n",
    "\n",
    "import zipfile\n",
    "\n",
    "\n",
    "import seaborn as sns\n",
    "sns.set()\n",
    "\n",
    "# if you want to do a 2-sample t-test:\n",
    "from scipy.stats import ttest_ind"
   ]
  },
  {
   "cell_type": "markdown",
   "metadata": {},
   "source": [
    "<div class='theme'> Cancer Classification from Gene Expressions </div>\n",
    "\n",
    "In this problem, we will build a classification model to distinguish between two related classes of cancer, acute lymphoblastic leukemia (ALL) and acute myeloid leukemia (AML), using gene expression measurements. The dataset is provided in the file `data/genomic_data.csv`. Each row in this file corresponds to a tumor tissue sample from a patient with one of the two forms of Leukemia. The first column contains the cancer type, with **0 indicating the ALL** class and **1 indicating the AML** class. Columns 2-7130 contain expression levels of 7129 genes recorded from each tissue sample. \n",
    "\n",
    "In the following questions, we will use linear and logistic regression to build classification models for this data set. \n"
   ]
  },
  {
   "cell_type": "markdown",
   "metadata": {},
   "source": [
    "<div class='exercise'><b> Question 1 [15 pts]: Data Exploration </b></div>\n",
    "\n",
    "The first step is to split the observations into an approximate 75-25 train-test split.  Below is some code to do this for you (we want to make sure everyone has the same splits). It also prints the dataset's shape before splitting and after splitting. `Cancer_type` is our target column.\n",
    "\n",
    "\n",
    "**1.1** Take a peek at your training set: you should notice the severe differences in the measurements from one gene to the next (some are negative, some hover around zero, and some are well into the thousands). To account for these differences in scale and variability, normalize each predictor to vary between 0 and 1. **NOTE: for the entirety of this homework assignment, you will use these normalized values, not the original, raw values**. Normalizing genomic data is a fairly standard first step.\n",
    "\n",
    "\n",
    "**1.2** The training set contains more predictors than observations. What problem(s) can this lead to in fitting a classification model to such a dataset? Explain in 3 or fewer sentences.\n",
    "\n",
    "\n",
    "**1.3** Determine which single gene individually discriminates between the two cancer classes the best (consider every gene in the dataset) and call it `best_predictor`.\n",
    "\n",
    "Plot two histograms of your `best_predictor` -- one using the training set and another using the testing set. The histogram should clearly distinguish two different `Cancer_type` classes.\n",
    "\n",
    "**Hint:** You may use any reasonable approach to determine the `best_predictor`, but please use something very simple (whether taught in this class or elsewhere).\n",
    "\n",
    "\n",
    "**1.4** Using `best_predictor`, create a classification model by simply eye-balling a value for this gene that would discriminate the two classes the best (do not use an algorithm to determine for you the optimal coefficient or threshold; we are asking you to provide a rough estimate / model by manual inspection). Justify your choice in 1-2 sentences. Report the accuracy of your hand-chosen model on the test set.\n",
    "\n",
    "<hr> "
   ]
  },
  {
   "cell_type": "markdown",
   "metadata": {},
   "source": [
    "\n",
    "### Answers"
   ]
  },
  {
   "cell_type": "markdown",
   "metadata": {},
   "source": [
    "**The first step is to split the observations into an approximate 75-25 train-test split. Below is some code to do this for you (we want to make sure everyone has the same splits). Print dataset shape before splitting and after splitting. `Cancer_type` is our target column.**"
   ]
  },
  {
   "cell_type": "code",
   "execution_count": 3,
   "metadata": {},
   "outputs": [],
   "source": [
    "np.random.seed(10)\n",
    "df = pd.read_csv('data/genomic_data.csv', index_col=0)\n",
    "X_train, X_test, y_train, y_test = train_test_split(df.loc[:, df.columns != 'Cancer_type'], \n",
    "                                                         df.Cancer_type, test_size=0.25, \n",
    "                                                         random_state = 109, \n",
    "                                                         stratify = df.Cancer_type)"
   ]
  },
  {
   "cell_type": "code",
   "execution_count": 4,
   "metadata": {},
   "outputs": [
    {
     "name": "stdout",
     "output_type": "stream",
     "text": [
      "(752, 7130)\n",
      "(564, 7129) (188, 7129) (564,) (188,)\n",
      "0.0    0.511968\n",
      "1.0    0.488032\n",
      "Name: Cancer_type, dtype: float64\n"
     ]
    }
   ],
   "source": [
    "print(df.shape)\n",
    "print(X_train.shape, X_test.shape, y_train.shape, y_test.shape)\n",
    "print(df.Cancer_type.value_counts(normalize=True))"
   ]
  },
  {
   "cell_type": "markdown",
   "metadata": {},
   "source": [
    "**Comment:** there seem to be more columns than rows. The dataset does seem to be balanced, "
   ]
  },
  {
   "cell_type": "markdown",
   "metadata": {},
   "source": [
    "**1.1 Take a peek at your training set: you should notice the severe differences in the measurements from one gene to the next (some are negative, some hover around zero, and some are well into the thousands). To account for these differences in scale and variability, normalize each predictor to vary between 0 and 1. **NOTE: for the entirety of this homework assignment, you will use these normalized values, not the original, raw values.**\n"
   ]
  },
  {
   "cell_type": "code",
   "execution_count": 5,
   "metadata": {},
   "outputs": [
    {
     "data": {
      "text/html": [
       "<div>\n",
       "<style scoped>\n",
       "    .dataframe tbody tr th:only-of-type {\n",
       "        vertical-align: middle;\n",
       "    }\n",
       "\n",
       "    .dataframe tbody tr th {\n",
       "        vertical-align: top;\n",
       "    }\n",
       "\n",
       "    .dataframe thead th {\n",
       "        text-align: right;\n",
       "    }\n",
       "</style>\n",
       "<table border=\"1\" class=\"dataframe\">\n",
       "  <thead>\n",
       "    <tr style=\"text-align: right;\">\n",
       "      <th></th>\n",
       "      <th>AFFX-BioB-5_at</th>\n",
       "      <th>AFFX-BioB-M_at</th>\n",
       "      <th>AFFX-BioB-3_at</th>\n",
       "      <th>AFFX-BioC-5_at</th>\n",
       "      <th>AFFX-BioC-3_at</th>\n",
       "      <th>AFFX-BioDn-5_at</th>\n",
       "      <th>AFFX-BioDn-3_at</th>\n",
       "      <th>AFFX-CreX-5_at</th>\n",
       "      <th>AFFX-CreX-3_at</th>\n",
       "      <th>AFFX-BioB-5_st</th>\n",
       "      <th>...</th>\n",
       "      <th>U48730_at</th>\n",
       "      <th>U58516_at</th>\n",
       "      <th>U73738_at</th>\n",
       "      <th>X06956_at</th>\n",
       "      <th>X16699_at</th>\n",
       "      <th>X83863_at</th>\n",
       "      <th>Z17240_at</th>\n",
       "      <th>L49218_f_at</th>\n",
       "      <th>M71243_f_at</th>\n",
       "      <th>Z78285_f_at</th>\n",
       "    </tr>\n",
       "  </thead>\n",
       "  <tbody>\n",
       "    <tr>\n",
       "      <td>count</td>\n",
       "      <td>564.000000</td>\n",
       "      <td>564.000000</td>\n",
       "      <td>564.000000</td>\n",
       "      <td>564.000000</td>\n",
       "      <td>564.000000</td>\n",
       "      <td>564.000000</td>\n",
       "      <td>564.000000</td>\n",
       "      <td>564.000000</td>\n",
       "      <td>564.000000</td>\n",
       "      <td>564.000000</td>\n",
       "      <td>...</td>\n",
       "      <td>564.000000</td>\n",
       "      <td>564.000000</td>\n",
       "      <td>564.000000</td>\n",
       "      <td>564.000000</td>\n",
       "      <td>564.000000</td>\n",
       "      <td>564.000000</td>\n",
       "      <td>564.000000</td>\n",
       "      <td>564.000000</td>\n",
       "      <td>564.000000</td>\n",
       "      <td>564.000000</td>\n",
       "    </tr>\n",
       "    <tr>\n",
       "      <td>mean</td>\n",
       "      <td>-117.907036</td>\n",
       "      <td>-163.527476</td>\n",
       "      <td>26.835753</td>\n",
       "      <td>210.370847</td>\n",
       "      <td>-248.657677</td>\n",
       "      <td>-406.595313</td>\n",
       "      <td>-28.764782</td>\n",
       "      <td>-190.080423</td>\n",
       "      <td>74.023263</td>\n",
       "      <td>94.750752</td>\n",
       "      <td>...</td>\n",
       "      <td>162.952887</td>\n",
       "      <td>698.676059</td>\n",
       "      <td>2.962852</td>\n",
       "      <td>415.726722</td>\n",
       "      <td>-50.791438</td>\n",
       "      <td>833.447504</td>\n",
       "      <td>329.612463</td>\n",
       "      <td>7.808718</td>\n",
       "      <td>520.229369</td>\n",
       "      <td>-24.088765</td>\n",
       "    </tr>\n",
       "    <tr>\n",
       "      <td>std</td>\n",
       "      <td>169.792429</td>\n",
       "      <td>189.691312</td>\n",
       "      <td>205.798155</td>\n",
       "      <td>205.008971</td>\n",
       "      <td>209.564816</td>\n",
       "      <td>258.448200</td>\n",
       "      <td>541.128517</td>\n",
       "      <td>162.728073</td>\n",
       "      <td>175.291394</td>\n",
       "      <td>356.386595</td>\n",
       "      <td>...</td>\n",
       "      <td>164.794952</td>\n",
       "      <td>521.178135</td>\n",
       "      <td>151.324810</td>\n",
       "      <td>580.873231</td>\n",
       "      <td>106.535986</td>\n",
       "      <td>820.213770</td>\n",
       "      <td>370.829412</td>\n",
       "      <td>84.859351</td>\n",
       "      <td>936.957523</td>\n",
       "      <td>72.056218</td>\n",
       "    </tr>\n",
       "    <tr>\n",
       "      <td>min</td>\n",
       "      <td>-894.789505</td>\n",
       "      <td>-1095.737090</td>\n",
       "      <td>-645.439001</td>\n",
       "      <td>-425.750627</td>\n",
       "      <td>-1154.285694</td>\n",
       "      <td>-1091.492494</td>\n",
       "      <td>-2066.516448</td>\n",
       "      <td>-728.996262</td>\n",
       "      <td>-770.025847</td>\n",
       "      <td>-1176.663615</td>\n",
       "      <td>...</td>\n",
       "      <td>-416.206278</td>\n",
       "      <td>-1010.430536</td>\n",
       "      <td>-447.077819</td>\n",
       "      <td>-1870.955269</td>\n",
       "      <td>-432.967768</td>\n",
       "      <td>-2151.593119</td>\n",
       "      <td>-651.051441</td>\n",
       "      <td>-255.419724</td>\n",
       "      <td>-2754.665185</td>\n",
       "      <td>-237.864216</td>\n",
       "    </tr>\n",
       "    <tr>\n",
       "      <td>25%</td>\n",
       "      <td>-225.038171</td>\n",
       "      <td>-274.322819</td>\n",
       "      <td>-95.270925</td>\n",
       "      <td>84.245857</td>\n",
       "      <td>-379.511872</td>\n",
       "      <td>-566.993723</td>\n",
       "      <td>-342.364586</td>\n",
       "      <td>-300.978001</td>\n",
       "      <td>-20.279803</td>\n",
       "      <td>-122.958169</td>\n",
       "      <td>...</td>\n",
       "      <td>68.056179</td>\n",
       "      <td>354.959208</td>\n",
       "      <td>-88.764266</td>\n",
       "      <td>96.448742</td>\n",
       "      <td>-105.297264</td>\n",
       "      <td>274.126036</td>\n",
       "      <td>89.320933</td>\n",
       "      <td>-41.845553</td>\n",
       "      <td>-49.150550</td>\n",
       "      <td>-73.781203</td>\n",
       "    </tr>\n",
       "    <tr>\n",
       "      <td>50%</td>\n",
       "      <td>-107.412549</td>\n",
       "      <td>-146.993065</td>\n",
       "      <td>20.548933</td>\n",
       "      <td>213.143203</td>\n",
       "      <td>-228.639073</td>\n",
       "      <td>-432.747578</td>\n",
       "      <td>-49.602631</td>\n",
       "      <td>-179.079214</td>\n",
       "      <td>88.038576</td>\n",
       "      <td>102.087963</td>\n",
       "      <td>...</td>\n",
       "      <td>153.844059</td>\n",
       "      <td>679.200114</td>\n",
       "      <td>8.707703</td>\n",
       "      <td>379.423043</td>\n",
       "      <td>-35.816408</td>\n",
       "      <td>776.498538</td>\n",
       "      <td>290.209261</td>\n",
       "      <td>7.337169</td>\n",
       "      <td>460.622697</td>\n",
       "      <td>-25.003950</td>\n",
       "    </tr>\n",
       "    <tr>\n",
       "      <td>75%</td>\n",
       "      <td>-6.157261</td>\n",
       "      <td>-43.097489</td>\n",
       "      <td>127.413838</td>\n",
       "      <td>331.513199</td>\n",
       "      <td>-115.153022</td>\n",
       "      <td>-251.990616</td>\n",
       "      <td>324.333687</td>\n",
       "      <td>-73.891345</td>\n",
       "      <td>186.391086</td>\n",
       "      <td>284.218792</td>\n",
       "      <td>...</td>\n",
       "      <td>265.721675</td>\n",
       "      <td>1058.612890</td>\n",
       "      <td>95.688864</td>\n",
       "      <td>718.826611</td>\n",
       "      <td>19.827732</td>\n",
       "      <td>1321.287958</td>\n",
       "      <td>520.922602</td>\n",
       "      <td>62.512588</td>\n",
       "      <td>1109.915839</td>\n",
       "      <td>20.020152</td>\n",
       "    </tr>\n",
       "    <tr>\n",
       "      <td>max</td>\n",
       "      <td>516.618491</td>\n",
       "      <td>384.626762</td>\n",
       "      <td>696.983127</td>\n",
       "      <td>1022.560525</td>\n",
       "      <td>308.876677</td>\n",
       "      <td>607.737258</td>\n",
       "      <td>1385.881293</td>\n",
       "      <td>263.634029</td>\n",
       "      <td>589.778466</td>\n",
       "      <td>1355.537180</td>\n",
       "      <td>...</td>\n",
       "      <td>686.321597</td>\n",
       "      <td>2522.188808</td>\n",
       "      <td>481.820516</td>\n",
       "      <td>3982.980299</td>\n",
       "      <td>215.047697</td>\n",
       "      <td>3743.264860</td>\n",
       "      <td>1996.244626</td>\n",
       "      <td>274.575647</td>\n",
       "      <td>3315.374276</td>\n",
       "      <td>224.773440</td>\n",
       "    </tr>\n",
       "  </tbody>\n",
       "</table>\n",
       "<p>8 rows × 7129 columns</p>\n",
       "</div>"
      ],
      "text/plain": [
       "       AFFX-BioB-5_at  AFFX-BioB-M_at  AFFX-BioB-3_at  AFFX-BioC-5_at  \\\n",
       "count      564.000000      564.000000      564.000000      564.000000   \n",
       "mean      -117.907036     -163.527476       26.835753      210.370847   \n",
       "std        169.792429      189.691312      205.798155      205.008971   \n",
       "min       -894.789505    -1095.737090     -645.439001     -425.750627   \n",
       "25%       -225.038171     -274.322819      -95.270925       84.245857   \n",
       "50%       -107.412549     -146.993065       20.548933      213.143203   \n",
       "75%         -6.157261      -43.097489      127.413838      331.513199   \n",
       "max        516.618491      384.626762      696.983127     1022.560525   \n",
       "\n",
       "       AFFX-BioC-3_at  AFFX-BioDn-5_at  AFFX-BioDn-3_at  AFFX-CreX-5_at  \\\n",
       "count      564.000000       564.000000       564.000000      564.000000   \n",
       "mean      -248.657677      -406.595313       -28.764782     -190.080423   \n",
       "std        209.564816       258.448200       541.128517      162.728073   \n",
       "min      -1154.285694     -1091.492494     -2066.516448     -728.996262   \n",
       "25%       -379.511872      -566.993723      -342.364586     -300.978001   \n",
       "50%       -228.639073      -432.747578       -49.602631     -179.079214   \n",
       "75%       -115.153022      -251.990616       324.333687      -73.891345   \n",
       "max        308.876677       607.737258      1385.881293      263.634029   \n",
       "\n",
       "       AFFX-CreX-3_at  AFFX-BioB-5_st  ...   U48730_at    U58516_at  \\\n",
       "count      564.000000      564.000000  ...  564.000000   564.000000   \n",
       "mean        74.023263       94.750752  ...  162.952887   698.676059   \n",
       "std        175.291394      356.386595  ...  164.794952   521.178135   \n",
       "min       -770.025847    -1176.663615  ... -416.206278 -1010.430536   \n",
       "25%        -20.279803     -122.958169  ...   68.056179   354.959208   \n",
       "50%         88.038576      102.087963  ...  153.844059   679.200114   \n",
       "75%        186.391086      284.218792  ...  265.721675  1058.612890   \n",
       "max        589.778466     1355.537180  ...  686.321597  2522.188808   \n",
       "\n",
       "        U73738_at    X06956_at   X16699_at    X83863_at    Z17240_at  \\\n",
       "count  564.000000   564.000000  564.000000   564.000000   564.000000   \n",
       "mean     2.962852   415.726722  -50.791438   833.447504   329.612463   \n",
       "std    151.324810   580.873231  106.535986   820.213770   370.829412   \n",
       "min   -447.077819 -1870.955269 -432.967768 -2151.593119  -651.051441   \n",
       "25%    -88.764266    96.448742 -105.297264   274.126036    89.320933   \n",
       "50%      8.707703   379.423043  -35.816408   776.498538   290.209261   \n",
       "75%     95.688864   718.826611   19.827732  1321.287958   520.922602   \n",
       "max    481.820516  3982.980299  215.047697  3743.264860  1996.244626   \n",
       "\n",
       "       L49218_f_at  M71243_f_at  Z78285_f_at  \n",
       "count   564.000000   564.000000   564.000000  \n",
       "mean      7.808718   520.229369   -24.088765  \n",
       "std      84.859351   936.957523    72.056218  \n",
       "min    -255.419724 -2754.665185  -237.864216  \n",
       "25%     -41.845553   -49.150550   -73.781203  \n",
       "50%       7.337169   460.622697   -25.003950  \n",
       "75%      62.512588  1109.915839    20.020152  \n",
       "max     274.575647  3315.374276   224.773440  \n",
       "\n",
       "[8 rows x 7129 columns]"
      ]
     },
     "execution_count": 5,
     "metadata": {},
     "output_type": "execute_result"
    }
   ],
   "source": [
    "X_train.describe()"
   ]
  },
  {
   "cell_type": "code",
   "execution_count": 6,
   "metadata": {},
   "outputs": [
    {
     "name": "stdout",
     "output_type": "stream",
     "text": [
      "(564, 7129)\n"
     ]
    },
    {
     "data": {
      "text/html": [
       "<div>\n",
       "<style scoped>\n",
       "    .dataframe tbody tr th:only-of-type {\n",
       "        vertical-align: middle;\n",
       "    }\n",
       "\n",
       "    .dataframe tbody tr th {\n",
       "        vertical-align: top;\n",
       "    }\n",
       "\n",
       "    .dataframe thead th {\n",
       "        text-align: right;\n",
       "    }\n",
       "</style>\n",
       "<table border=\"1\" class=\"dataframe\">\n",
       "  <thead>\n",
       "    <tr style=\"text-align: right;\">\n",
       "      <th></th>\n",
       "      <th>AFFX-BioB-5_at</th>\n",
       "      <th>AFFX-BioB-M_at</th>\n",
       "      <th>AFFX-BioB-3_at</th>\n",
       "      <th>AFFX-BioC-5_at</th>\n",
       "      <th>AFFX-BioC-3_at</th>\n",
       "      <th>AFFX-BioDn-5_at</th>\n",
       "      <th>AFFX-BioDn-3_at</th>\n",
       "      <th>AFFX-CreX-5_at</th>\n",
       "      <th>AFFX-CreX-3_at</th>\n",
       "      <th>AFFX-BioB-5_st</th>\n",
       "      <th>...</th>\n",
       "      <th>U48730_at</th>\n",
       "      <th>U58516_at</th>\n",
       "      <th>U73738_at</th>\n",
       "      <th>X06956_at</th>\n",
       "      <th>X16699_at</th>\n",
       "      <th>X83863_at</th>\n",
       "      <th>Z17240_at</th>\n",
       "      <th>L49218_f_at</th>\n",
       "      <th>M71243_f_at</th>\n",
       "      <th>Z78285_f_at</th>\n",
       "    </tr>\n",
       "  </thead>\n",
       "  <tbody>\n",
       "    <tr>\n",
       "      <td>0</td>\n",
       "      <td>0.619351</td>\n",
       "      <td>0.945349</td>\n",
       "      <td>0.817396</td>\n",
       "      <td>0.841058</td>\n",
       "      <td>0.683758</td>\n",
       "      <td>0.360329</td>\n",
       "      <td>0.461770</td>\n",
       "      <td>0.601425</td>\n",
       "      <td>0.827058</td>\n",
       "      <td>0.225030</td>\n",
       "      <td>...</td>\n",
       "      <td>0.685016</td>\n",
       "      <td>0.504484</td>\n",
       "      <td>0.469944</td>\n",
       "      <td>0.105544</td>\n",
       "      <td>0.722699</td>\n",
       "      <td>0.631021</td>\n",
       "      <td>0.216853</td>\n",
       "      <td>0.742124</td>\n",
       "      <td>0.312083</td>\n",
       "      <td>0.621290</td>\n",
       "    </tr>\n",
       "    <tr>\n",
       "      <td>1</td>\n",
       "      <td>0.493430</td>\n",
       "      <td>0.593738</td>\n",
       "      <td>0.582163</td>\n",
       "      <td>0.475156</td>\n",
       "      <td>0.784989</td>\n",
       "      <td>0.183778</td>\n",
       "      <td>0.792969</td>\n",
       "      <td>0.795903</td>\n",
       "      <td>0.255178</td>\n",
       "      <td>0.549755</td>\n",
       "      <td>...</td>\n",
       "      <td>0.449506</td>\n",
       "      <td>0.303861</td>\n",
       "      <td>0.565232</td>\n",
       "      <td>0.494874</td>\n",
       "      <td>0.608248</td>\n",
       "      <td>0.480530</td>\n",
       "      <td>0.233495</td>\n",
       "      <td>0.704078</td>\n",
       "      <td>0.754073</td>\n",
       "      <td>0.485576</td>\n",
       "    </tr>\n",
       "    <tr>\n",
       "      <td>2</td>\n",
       "      <td>0.453711</td>\n",
       "      <td>0.638256</td>\n",
       "      <td>0.737430</td>\n",
       "      <td>0.665891</td>\n",
       "      <td>0.515745</td>\n",
       "      <td>0.427893</td>\n",
       "      <td>0.496062</td>\n",
       "      <td>0.488115</td>\n",
       "      <td>0.730907</td>\n",
       "      <td>0.546633</td>\n",
       "      <td>...</td>\n",
       "      <td>0.899386</td>\n",
       "      <td>0.550748</td>\n",
       "      <td>0.113228</td>\n",
       "      <td>0.094507</td>\n",
       "      <td>0.261622</td>\n",
       "      <td>0.418446</td>\n",
       "      <td>0.551573</td>\n",
       "      <td>0.821525</td>\n",
       "      <td>0.633380</td>\n",
       "      <td>0.623126</td>\n",
       "    </tr>\n",
       "    <tr>\n",
       "      <td>3</td>\n",
       "      <td>0.497778</td>\n",
       "      <td>0.726115</td>\n",
       "      <td>0.426631</td>\n",
       "      <td>0.408176</td>\n",
       "      <td>0.574250</td>\n",
       "      <td>0.315588</td>\n",
       "      <td>0.691303</td>\n",
       "      <td>0.698345</td>\n",
       "      <td>0.819778</td>\n",
       "      <td>0.446504</td>\n",
       "      <td>...</td>\n",
       "      <td>0.558269</td>\n",
       "      <td>0.372834</td>\n",
       "      <td>0.507707</td>\n",
       "      <td>0.391318</td>\n",
       "      <td>0.598964</td>\n",
       "      <td>0.568479</td>\n",
       "      <td>0.318087</td>\n",
       "      <td>0.495726</td>\n",
       "      <td>0.505263</td>\n",
       "      <td>0.486846</td>\n",
       "    </tr>\n",
       "    <tr>\n",
       "      <td>4</td>\n",
       "      <td>0.572308</td>\n",
       "      <td>0.685343</td>\n",
       "      <td>0.413806</td>\n",
       "      <td>0.432270</td>\n",
       "      <td>0.619183</td>\n",
       "      <td>0.612995</td>\n",
       "      <td>0.554375</td>\n",
       "      <td>0.674835</td>\n",
       "      <td>0.640734</td>\n",
       "      <td>0.475720</td>\n",
       "      <td>...</td>\n",
       "      <td>0.760584</td>\n",
       "      <td>0.516456</td>\n",
       "      <td>0.433381</td>\n",
       "      <td>0.508760</td>\n",
       "      <td>0.693013</td>\n",
       "      <td>0.509524</td>\n",
       "      <td>0.466636</td>\n",
       "      <td>0.561463</td>\n",
       "      <td>0.507653</td>\n",
       "      <td>0.467111</td>\n",
       "    </tr>\n",
       "  </tbody>\n",
       "</table>\n",
       "<p>5 rows × 7129 columns</p>\n",
       "</div>"
      ],
      "text/plain": [
       "   AFFX-BioB-5_at  AFFX-BioB-M_at  AFFX-BioB-3_at  AFFX-BioC-5_at  \\\n",
       "0        0.619351        0.945349        0.817396        0.841058   \n",
       "1        0.493430        0.593738        0.582163        0.475156   \n",
       "2        0.453711        0.638256        0.737430        0.665891   \n",
       "3        0.497778        0.726115        0.426631        0.408176   \n",
       "4        0.572308        0.685343        0.413806        0.432270   \n",
       "\n",
       "   AFFX-BioC-3_at  AFFX-BioDn-5_at  AFFX-BioDn-3_at  AFFX-CreX-5_at  \\\n",
       "0        0.683758         0.360329         0.461770        0.601425   \n",
       "1        0.784989         0.183778         0.792969        0.795903   \n",
       "2        0.515745         0.427893         0.496062        0.488115   \n",
       "3        0.574250         0.315588         0.691303        0.698345   \n",
       "4        0.619183         0.612995         0.554375        0.674835   \n",
       "\n",
       "   AFFX-CreX-3_at  AFFX-BioB-5_st  ...  U48730_at  U58516_at  U73738_at  \\\n",
       "0        0.827058        0.225030  ...   0.685016   0.504484   0.469944   \n",
       "1        0.255178        0.549755  ...   0.449506   0.303861   0.565232   \n",
       "2        0.730907        0.546633  ...   0.899386   0.550748   0.113228   \n",
       "3        0.819778        0.446504  ...   0.558269   0.372834   0.507707   \n",
       "4        0.640734        0.475720  ...   0.760584   0.516456   0.433381   \n",
       "\n",
       "   X06956_at  X16699_at  X83863_at  Z17240_at  L49218_f_at  M71243_f_at  \\\n",
       "0   0.105544   0.722699   0.631021   0.216853     0.742124     0.312083   \n",
       "1   0.494874   0.608248   0.480530   0.233495     0.704078     0.754073   \n",
       "2   0.094507   0.261622   0.418446   0.551573     0.821525     0.633380   \n",
       "3   0.391318   0.598964   0.568479   0.318087     0.495726     0.505263   \n",
       "4   0.508760   0.693013   0.509524   0.466636     0.561463     0.507653   \n",
       "\n",
       "   Z78285_f_at  \n",
       "0     0.621290  \n",
       "1     0.485576  \n",
       "2     0.623126  \n",
       "3     0.486846  \n",
       "4     0.467111  \n",
       "\n",
       "[5 rows x 7129 columns]"
      ]
     },
     "execution_count": 6,
     "metadata": {},
     "output_type": "execute_result"
    }
   ],
   "source": [
    "# archive column names as scale_transformer produces an array, removing column names\n",
    "columns = X_train.columns\n",
    "# scale the datasets\n",
    "# use minmaxscalar as some predictors are negative\n",
    "scale_transformer = MinMaxScaler(copy=True).fit(X_train)\n",
    "X_train = pd.DataFrame(scale_transformer.transform(X_train))\n",
    "X_test = pd.DataFrame(scale_transformer.transform(X_test))\n",
    "\n",
    "# reapply columns\n",
    "X_train.columns = columns\n",
    "X_test.columns = columns\n",
    "\n",
    "print(X_train.shape)\n",
    "X_train.head()"
   ]
  },
  {
   "cell_type": "markdown",
   "metadata": {},
   "source": [
    "**1.2 The training set contains more predictors than observations. What problem(s) can this lead to in fitting a classification model to such a dataset? Explain in 3 or fewer sentences.**"
   ]
  },
  {
   "cell_type": "markdown",
   "metadata": {},
   "source": [
    "It is likely the predictors are correlated. The parameters are unidentifiable. Predictions on the training set will be perfect, but not on the test set."
   ]
  },
  {
   "cell_type": "markdown",
   "metadata": {},
   "source": [
    "**1.3 Determine which single gene individually discriminates between the two cancer classes the best (consider every gene in the dataset) and call it `best_predictor`.**\n",
    "\n",
    "**Plot two histograms of your `best_predictor` -- one using the training set and another using the testing set. The histogram should clearly distinguish two different `Cancer_type` classes.**"
   ]
  },
  {
   "cell_type": "code",
   "execution_count": 7,
   "metadata": {},
   "outputs": [],
   "source": [
    "best_accuracy = -1\n",
    "best_model = None\n",
    "\n",
    "predictors = X_train.columns\n",
    "for predictor in predictors:\n",
    "    \n",
    "    logref = LogisticRegression(solver='liblinear', max_iter=1000, C=100000)\n",
    "    logref.fit(X_train[predictor].values.reshape(-1, 1), y_train)\n",
    "    y_hat_test = logref.predict(X_test[predictor].values.reshape(-1, 1))\n",
    "    cur_accuracy = accuracy_score(y_test.to_numpy(), y_hat_test)\n",
    "\n",
    "    if cur_accuracy > best_accuracy:\n",
    "        best_accuracy = cur_accuracy\n",
    "        best_model = logref\n",
    "        best_predictor = predictor"
   ]
  },
  {
   "cell_type": "code",
   "execution_count": 8,
   "metadata": {},
   "outputs": [
    {
     "name": "stdout",
     "output_type": "stream",
     "text": [
      "Best found logistic regression model: LogisticRegression(C=100000, class_weight=None, dual=False, fit_intercept=True,\n",
      "                   intercept_scaling=1, l1_ratio=None, max_iter=1000,\n",
      "                   multi_class='warn', n_jobs=None, penalty='l2',\n",
      "                   random_state=None, solver='liblinear', tol=0.0001, verbose=0,\n",
      "                   warm_start=False) \n",
      "Accuracy score: 0.7340425531914894\n"
     ]
    }
   ],
   "source": [
    "print(\"Best found logistic regression model:\", best_model,\"\\nAccuracy score:\", best_accuracy)"
   ]
  },
  {
   "cell_type": "code",
   "execution_count": 9,
   "metadata": {},
   "outputs": [
    {
     "name": "stdout",
     "output_type": "stream",
     "text": [
      "The best found logistic regression model uses this variable: Y08612_at\n"
     ]
    }
   ],
   "source": [
    "print(\"The best found logistic regression model uses this variable:\", best_predictor)"
   ]
  },
  {
   "cell_type": "code",
   "execution_count": 10,
   "metadata": {},
   "outputs": [
    {
     "data": {
      "text/plain": [
       "Text(0.5, 0.98, 'Histogram comparions between train and test set for best predictor: Y08612_at')"
      ]
     },
     "execution_count": 10,
     "metadata": {},
     "output_type": "execute_result"
    },
    {
     "data": {
      "image/png": "[encoded data removed]",
      "text/plain": [
       "<Figure size 1080x360 with 2 Axes>"
      ]
     },
     "metadata": {
      "needs_background": "light"
     },
     "output_type": "display_data"
    }
   ],
   "source": [
    "# 2 graphs side by side\n",
    "fig, ax = plt.subplots(1, 2, figsize=(15, 5))\n",
    "\n",
    "# historgram on training set \n",
    "ax[0].hist(X_train[best_predictor][y_train.values==1], alpha=0.5, label = 'AML')\n",
    "ax[0].hist(X_train[best_predictor][y_train.values==0], alpha=0.5, label = 'ALL')\n",
    "ax[0].set_xlabel('Standardized predictor ' +  best_predictor)\n",
    "ax[0].set_ylabel('Number of cancer cases')\n",
    "ax[0].set_title('AML and ALL distribution in train set by values of predictor ' +  best_predictor)\n",
    "ax[0].legend()\n",
    "\n",
    "ax[1].hist(X_test[best_predictor][y_test.values==1], alpha=0.5, label = 'AML')\n",
    "ax[1].hist(X_test[best_predictor][y_test.values==0], alpha=0.5, label = 'ALL')\n",
    "ax[1].set_xlabel('Standardized predictor ' +  best_predictor)\n",
    "ax[1].set_ylabel('Number of cancer cases')\n",
    "ax[1].set_title('AML and ALL distribution in test set by values of predictor ' +  best_predictor)\n",
    "ax[1].legend()\n",
    "\n",
    "fig.tight_layout(pad=3.0)\n",
    "fig.suptitle(\"Histogram comparions between train and test set for best predictor: \" + best_predictor, fontsize=12)"
   ]
  },
  {
   "cell_type": "markdown",
   "metadata": {},
   "source": [
    "**Comment**: The histograms for bot the train and test set demonstrat how the best predictor correlates more with ALL at higher values of the predictor, and more with AML at lower values."
   ]
  },
  {
   "cell_type": "markdown",
   "metadata": {},
   "source": [
    "**1.4 Using `best_predictor`, create a classification model by simply eye-balling a value for this gene that would discriminate the two classes the best (do not use an algorithm to determine for you the optimal coefficient or threshold; we are asking you to provide a rough estimate / model by manual inspection). Justify your choice in 1-2 sentences. Report the accuracy of your hand-chosen model on the test set.**\n"
   ]
  },
  {
   "cell_type": "code",
   "execution_count": 11,
   "metadata": {},
   "outputs": [
    {
     "name": "stdout",
     "output_type": "stream",
     "text": [
      "The eye-ball model has an accuracy of: 0.25 on the test set\n"
     ]
    }
   ],
   "source": [
    "\n",
    "# default to ALL\n",
    "y_hat_test[:] = 0\n",
    "\n",
    "# set threshold for ALL above 0.5\n",
    "thresh = 0.5\n",
    "AML_indices = X_test[best_predictor].values > thresh\n",
    "# set to AML if predictor exceeds the threshold value\n",
    "y_hat_test[AML_indices] = 1\n",
    "\n",
    "#@Sunil something's wrong in this calculation. Accuracy should be closer to 66% (see below)\n",
    "eyeball_accuracy = accuracy_score(y_hat_test, y_test.to_numpy())\n",
    "print(\"The eye-ball model has an accuracy of: \" + str(eyeball_accuracy) + \" on the test set\")"
   ]
  },
  {
   "cell_type": "markdown",
   "metadata": {},
   "source": [
    "---"
   ]
  },
  {
   "cell_type": "markdown",
   "metadata": {},
   "source": [
    "<div class='exercise'> <b> Question 2 [35pts]: Logistic Regression Modeling </b> </div>\n",
    "\n",
    "\n",
    "**2.1** Fit a simple logistic regression model to the training set using the single gene predictor `best_predictor` to predict cancer type.  Carefully interpret the coefficient estimates for this model.\n",
    "\n",
    "*Remember, you need to set the regularization parameter for sklearn's logistic regression function to be a very large value in order to **not** regularize (use `C=100000` or `penalty = \"none\"`).\n",
    "\n",
    "**2.2** Plot the logistic curves for the model in 2.1 ($y$-axis is probability scale, $x$-axis is `best_predictor`).  Interpret this plot: at what values of your `best_predictor` will you predict the patient to have ALL?  How does this compare to your eeballed value from 1.4?\n",
    "\n",
    "**2.3** Calculate the training and test classification accuracies of this model in 2.1. How do these compare to the eye-balled model from 1.4?\n",
    "\n",
    "\n",
    "**2.4** Next, fit a multiple logistic regression model with **all** the gene predictors from the data set (reminder: for this assignment, we are always using the normalized values). How does the classification accuracy of this model compare with the models fitted with a single gene (on both the training and test sets)?  \n",
    "\n",
    "**2.5** Print out and interpret the logistic regression coefficients for  `best_predictor` from both the simple logistic and multiple logistic regression models from the previous two parts.  Do they agree or disagree?  What does this indicate?\n",
    "\n",
    "**2.6** Now let's use regularization to improve the predictions from the multiple logistic regression model. Specifically, use LASSO-like regularization and 5-fold cross-validation to fit the model on the training set (choose between 20 reasonable values of $\\lambda$). Report the classification accuracy on both the training and testing set.\n",
    "\n",
    "**2.7** How many predictors are considered as important features in this regularized model?  What does that say about the full logistic regression model in problem 2.4?"
   ]
  },
  {
   "cell_type": "markdown",
   "metadata": {},
   "source": [
    "\n",
    "## Answers"
   ]
  },
  {
   "cell_type": "markdown",
   "metadata": {},
   "source": [
    "**2.1 Fit a simple logistic regression model to the training set using the single gene predictor `best_predictor` to predict cancer type. Carefully interpret the coefficient estimates for this model.**"
   ]
  },
  {
   "cell_type": "code",
   "execution_count": 12,
   "metadata": {},
   "outputs": [
    {
     "name": "stdout",
     "output_type": "stream",
     "text": [
      "Accuracy for a model with 'best' predictor Y08612_at is: 0.7340425531914894\n",
      "[[1.60120164]]\n"
     ]
    }
   ],
   "source": [
    "logreg = LogisticRegression(solver='liblinear', max_iter=1000, C=100000)\n",
    "logreg.fit(X_train[best_predictor].values.reshape(-1, 1), y_train)\n",
    "y_hat_test = logreg.predict(X_test[best_predictor].values.reshape(-1, 1))\n",
    "cur_accuracy = accuracy_score(y_test.to_numpy(), y_hat_test)\n",
    "print(\"Accuracy for a model with 'best' predictor \" + best_predictor + \" is: \" + str(cur_accuracy))\n",
    "print(logref.coef_)"
   ]
  },
  {
   "cell_type": "code",
   "execution_count": 13,
   "metadata": {},
   "outputs": [],
   "source": [
    "# convert log odds into odds for the coeffinet associated with the best predictor\n",
    "odds = np.exp(logreg.coef_[0])"
   ]
  },
  {
   "cell_type": "markdown",
   "metadata": {},
   "source": [
    "**Coefficient interpretation:** For every one-unit increase in the best predictor 'Y08612_at', the odds that the observation is in AML are 0.00233 times as large as the odds that the observation is not in AML when all other variables are held constant."
   ]
  },
  {
   "cell_type": "markdown",
   "metadata": {},
   "source": [
    "**2.2 Plot the logistic curves for the model in 2.1 ($y$-axis is probability scale, $x$-axis is `best_predictor`).  Interpret this plot: at what values of your `best_predictor` will you predict the patient to have ALL?  How does this compare to your eeballed value from 1.4?**\n"
   ]
  },
  {
   "cell_type": "code",
   "execution_count": 14,
   "metadata": {},
   "outputs": [
    {
     "data": {
      "text/plain": [
       "[Text(0, 0.5, 'Probability'),\n",
       " Text(0.5, 0, 'Best predictor: Y08612_at'),\n",
       " Text(0.5, 1.0, 'Logistic curve for the best predictor model')]"
      ]
     },
     "execution_count": 14,
     "metadata": {},
     "output_type": "execute_result"
    },
    {
     "data": {
      "image/png": "[encoded data removed]",
      "text/plain": [
       "<Figure size 432x288 with 1 Axes>"
      ]
     },
     "metadata": {
      "needs_background": "light"
     },
     "output_type": "display_data"
    }
   ],
   "source": [
    "# seaborn provides a convenient method to plotting logistic curves\n",
    "sbplt = sns.regplot(x=X_train[best_predictor], y=y_train.values, logistic=True)\n",
    "# add a horizontal line at the cut-off point\n",
    "sbplt.axhline(0.5, c='red', alpha=0.5)\n",
    "sbplt.set(xlabel='Best predictor: ' + best_predictor, ylabel='Probability', title='Logistic curve for the best predictor model')"
   ]
  },
  {
   "cell_type": "markdown",
   "metadata": {},
   "source": [
    "**Comment**: We observe that the prediction flips at a Y08612_at value of a little bit below 0.5. This is similar to our ealier guess. At values below 0.5 for standardized Y08612_at, we predict a patient to have ALL."
   ]
  },
  {
   "cell_type": "markdown",
   "metadata": {},
   "source": [
    "**2.3 Calculate the training and test classification accuracies of this model in 2.1.  How do these compare to the eye-balled model from 1.4?**"
   ]
  },
  {
   "cell_type": "code",
   "execution_count": 15,
   "metadata": {},
   "outputs": [
    {
     "name": "stdout",
     "output_type": "stream",
     "text": [
      "Accuracy on the training set is: 0.6648936170212766\n",
      "Accuracy on the test set is: 0.7340425531914894\n"
     ]
    }
   ],
   "source": [
    "# calculate training accuracies\n",
    "y_hat_train = logreg.predict(X_train[best_predictor].values.reshape(-1, 1))\n",
    "train_accuracy = accuracy_score(y_train.to_numpy(), y_hat_train)\n",
    "print(\"Accuracy on the training set is:\", train_accuracy)\n",
    "\n",
    "# calculate test accuracies\n",
    "y_hat_test = logreg.predict(X_test[best_predictor].values.reshape(-1, 1))\n",
    "test_accuracy = accuracy_score(y_test.to_numpy(), y_hat_test)\n",
    "print(\"Accuracy on the test set is:\", test_accuracy)"
   ]
  },
  {
   "cell_type": "markdown",
   "metadata": {},
   "source": [
    "**Comment:** The eyeballed model and the logistic regression model perform similarly. This seems reasonable. \n"
   ]
  },
  {
   "cell_type": "markdown",
   "metadata": {},
   "source": [
    "**2.4 Next, fit a multiple logistic regression model with *all* the gene predictors from the data set (reminder: for this assignment, we are always using the normalized values). How does the classification accuracy of this model compare with the models fitted with a single gene (on both the training and test sets)?**\n"
   ]
  },
  {
   "cell_type": "code",
   "execution_count": 16,
   "metadata": {},
   "outputs": [
    {
     "name": "stdout",
     "output_type": "stream",
     "text": [
      "Accuracy on the training set is: 1.0\n",
      "Accuracy on the test set is: 0.7925531914893617\n"
     ]
    }
   ],
   "source": [
    "# fit a model with all predictors (without regularizing)\n",
    "logreg_all = LogisticRegression(solver='liblinear', max_iter=1000, C=100000)\n",
    "logreg_all.fit(X_train, y_train)\n",
    "\n",
    "# calculate training accuracies\n",
    "y_hat_train = logreg_all.predict(X_train)\n",
    "train_accuracy = accuracy_score(y_train.to_numpy(), y_hat_train)\n",
    "print(\"Accuracy on the training set is:\", train_accuracy)\n",
    "\n",
    "# calculate test accuracies\n",
    "y_hat_test_all = logreg_all.predict(X_test)\n",
    "test_accuracy = accuracy_score(y_test.to_numpy(), y_hat_test_all)\n",
    "print(\"Accuracy on the test set is:\", test_accuracy)\n"
   ]
  },
  {
   "cell_type": "markdown",
   "metadata": {},
   "source": [
    "**Comment:** As anticipated above since there are more predictors than observations, model accuracy for the training set becomes 100%. Model accuracy for the test set has increased as well."
   ]
  },
  {
   "cell_type": "markdown",
   "metadata": {},
   "source": [
    "**2.5 Print out and interpret the logistic regression coefficients for `best_predictor` from both the simple logistic and multiple logistic regression models from the previous two parts.  Do they agree or disagree?  What does this indicate?**"
   ]
  },
  {
   "cell_type": "code",
   "execution_count": 17,
   "metadata": {},
   "outputs": [
    {
     "data": {
      "text/plain": [
       "array([[ 0.44665596,  0.25503626, -0.27250935, ..., -0.13285564,\n",
       "         0.342134  ,  0.23650392]])"
      ]
     },
     "execution_count": 17,
     "metadata": {},
     "output_type": "execute_result"
    }
   ],
   "source": [
    "logreg_all.coef_"
   ]
  },
  {
   "cell_type": "code",
   "execution_count": 18,
   "metadata": {},
   "outputs": [
    {
     "name": "stdout",
     "output_type": "stream",
     "text": [
      "The coefficient for best_predictor in simple logistic regression is: 1.6012016388142722\n",
      "The coefficient for best_predictor in multiple logistic regression is: -0.6156007681999647\n"
     ]
    }
   ],
   "source": [
    "# store the position of the best predictor\n",
    "best_pred_pos = X_train.columns.get_loc(best_predictor)\n",
    "\n",
    "# coef_list = np.ndarray.tolist(logreg_all.coef_)\n",
    "# coef_list[0][best_pred_pos]\n",
    "print('The coefficient for best_predictor in simple logistic regression is:', logref.coef_[0][0])\n",
    "print('The coefficient for best_predictor in multiple logistic regression is:', logreg_all.coef_[0][best_pred_pos])\n",
    "\n"
   ]
  },
  {
   "cell_type": "markdown",
   "metadata": {},
   "source": [
    "**Comment:** The coefficients for simple and multiple logistic regression are very different. This is likely due to high collinearity between the different variables."
   ]
  },
  {
   "cell_type": "markdown",
   "metadata": {},
   "source": [
    "**2.6 Now let's use regularization to improve the predictions from the multiple logistic regression model. Specifically, use LASSO-like regularization and 5-fold cross-validation to fit the model on the training set (choose between 20 reasonable values of $\\lambda$). Report the classification accuracy on both the training and testing set.**"
   ]
  },
  {
   "cell_type": "code",
   "execution_count": 19,
   "metadata": {},
   "outputs": [],
   "source": [
    "#Your answer\n",
    "best_accuracy = -1\n",
    "best_model = None\n",
    "accuracies = []\n",
    "\n",
    "# experiment with different values of different order of magnitudes\n",
    "cs_vals = np.ndarray.tolist((np.ones(20)*10)**np.arange(-10,10,1).astype(int))\n",
    "# overriding cs_vals as only integers work\n",
    "cs_vals = [1,2,3,4,5,6,7,8,9,10,20,30,40,50,60,70,80,90,100,1000]\n",
    "# @ Sunil. subseting cvals to lower number as 20 take long to compute. Put back befor submitting.\n",
    "cs_vals = [4,5,6]\n",
    "\n",
    "# adding a solver choice in case we also want to experiment with different solvers\n",
    "solvers = ['liblinear']\n",
    "for c in cs_vals:\n",
    "    for sol in solvers:\n",
    "        # use l1 for lasso and 5 cross validation (cv) folds\n",
    "        logref =  LogisticRegressionCV(Cs=c, solver=sol, penalty='l1', cv=5)\n",
    "        logref.fit(X_train, y_train)\n",
    "        y_hat_test = logref.predict(X_test)\n",
    "        cur_accuracy = accuracy_score(y_test.to_numpy(), y_hat_test)\n",
    "        \n",
    "        # adding accuracy to a list in case we want to show how accuracy changes with lambda\n",
    "        accuracies.append(cur_accuracy)\n",
    "        if cur_accuracy > best_accuracy:\n",
    "            best_accuracy = cur_accuracy\n",
    "            best_reg_model = logref\n",
    "            best_lambda = c\n",
    "            \n",
    "# predictions\n",
    "y_train_pred = best_reg_model.predict(X_train) \n",
    "y_test_pred = best_reg_model.predict(X_test)\n",
    "\n",
    "# accuracy\n",
    "train_score = accuracy_score(y_train, y_train_pred)\n",
    "test_score = accuracy_score(y_test, y_test_pred)"
   ]
  },
  {
   "cell_type": "code",
   "execution_count": 20,
   "metadata": {},
   "outputs": [
    {
     "name": "stdout",
     "output_type": "stream",
     "text": [
      "The best lambda was: 6\n",
      "Errors on the training set were: 0.898936170212766\n",
      "Errors on the test set were: 0.8776595744680851\n"
     ]
    }
   ],
   "source": [
    "print(\"The best lambda was:\", best_lambda)\n",
    "print(\"Errors on the training set were:\", train_score)\n",
    "print(\"Errors on the test set were:\",test_score)"
   ]
  },
  {
   "cell_type": "markdown",
   "metadata": {},
   "source": [
    "**Comment**: after regularization, test scores improved significantly"
   ]
  },
  {
   "cell_type": "markdown",
   "metadata": {},
   "source": [
    "**2.7 How many predictors are considered as important features in this regularized model?  What does that say about the full logistic regression model in problem 2.4?**\n"
   ]
  },
  {
   "cell_type": "code",
   "execution_count": 21,
   "metadata": {},
   "outputs": [
    {
     "name": "stdout",
     "output_type": "stream",
     "text": [
      "The number of non-zero coefficients in the model is: 19\n"
     ]
    }
   ],
   "source": [
    "# calculate the number of non-zero coeffients in the model\n",
    "print(\"The number of non-zero coefficients in the model is:\", sum(x > 0 for x in best_reg_model.coef_[0]))"
   ]
  },
  {
   "cell_type": "markdown",
   "metadata": {},
   "source": [
    "**Comment** The regularized model retained nineteen predictors. We can conclude that the initial predictor set - as used in the full logistic regression model - was highly correlated."
   ]
  },
  {
   "cell_type": "markdown",
   "metadata": {},
   "source": [
    "---"
   ]
  },
  {
   "cell_type": "markdown",
   "metadata": {},
   "source": [
    "<div class='exercise'> <b> Question 3 [10pts]: $k$-NN Classification </b> </div>"
   ]
  },
  {
   "cell_type": "markdown",
   "metadata": {},
   "source": [
    "**3.1** Use 5-fold cross-validation to select $k$ for a $k$-NN classification model based on the full predictor set.  Choose between `ks = [1,3,5,7,10,15,20,50,100]`. \n",
    "\n",
    "**3.2** Provide the confusion matrix for 3 models: (i) the full multiple logistic regression model from 2.4, (ii) the best regularized model from 2.6, and (iii) the best $k$-NN from the previous part. Report the false positive and false negative rates (all in the test set).  Briefly interpret what you notice."
   ]
  },
  {
   "cell_type": "markdown",
   "metadata": {},
   "source": [
    "\n",
    "### Answers"
   ]
  },
  {
   "cell_type": "markdown",
   "metadata": {},
   "source": [
    "**3.1 Use 5-fold cross-validation to select $k$ for a $k$-NN classification model based on the full predictor set.  Choose between `ks = [1,3,5,7,10,15,20,50,100]`.  Report your chosen $k$, and report the misclassification rate on both the train and test sets for the model using your chosen $k$.**"
   ]
  },
  {
   "cell_type": "code",
   "execution_count": 22,
   "metadata": {},
   "outputs": [],
   "source": [
    "ks = [1,3,5,7,10,15,20,50,100]\n",
    "cv_folds = 5\n",
    "best_accuracy = -1\n",
    "acc = []\n",
    "\n",
    "for k in ks:\n",
    "    knn_model = KNeighborsClassifier(k)\n",
    "    cur_accuracy = np.mean(cross_val_score(knn_model, X_train, y_train, cv=cv_folds))\n",
    "    acc.append(cur_accuracy)\n",
    "    if cur_accuracy > best_accuracy:\n",
    "        best_accuracy = cur_accuracy\n",
    "        best_knn_model = knn_model \n",
    "        best_k = k"
   ]
  },
  {
   "cell_type": "code",
   "execution_count": 23,
   "metadata": {},
   "outputs": [
    {
     "data": {
      "text/plain": [
       "Text(0, 0.5, 'Classification accuracy')"
      ]
     },
     "execution_count": 23,
     "metadata": {},
     "output_type": "execute_result"
    },
    {
     "data": {
      "image/png": "[encoded data removed]",
      "text/plain": [
       "<Figure size 576x432 with 1 Axes>"
      ]
     },
     "metadata": {
      "needs_background": "light"
     },
     "output_type": "display_data"
    }
   ],
   "source": [
    "plt.figure(figsize = (8,6))    \n",
    "plt.plot(ks, acc)\n",
    "plt.xlabel('k value')\n",
    "plt.ylabel('Classification accuracy')"
   ]
  },
  {
   "cell_type": "code",
   "execution_count": 24,
   "metadata": {},
   "outputs": [
    {
     "name": "stdout",
     "output_type": "stream",
     "text": [
      "The best value for k is:  3\n",
      "Classification accuracy for this k: 0.8758059418457649\n"
     ]
    }
   ],
   "source": [
    "print(\"The best value for k is: \", best_k)\n",
    "print(\"Classification accuracy for this k:\", best_accuracy)"
   ]
  },
  {
   "cell_type": "markdown",
   "metadata": {},
   "source": [
    "**3.2 Provide the confusion matrix for 3 models: (i) the full multiple logistic regression model from 2.4, (ii) the best regularized model from 2.6, and (iii) the best $k$-NN from the previous part. what are the  false positive and false negative rates in these 3 models (all in the test set)?  Briefly interpret what you notice.**"
   ]
  },
  {
   "cell_type": "code",
   "execution_count": 25,
   "metadata": {},
   "outputs": [],
   "source": [
    "# helper function to calculate false positive and false positive rates\n",
    "def calc_confusion_rate(confusion_matrix):\n",
    "        TP = confusion_matrix.loc['true:0','pred:0']\n",
    "        TN =  confusion_matrix.loc['true:1','pred:1']        \n",
    "        FP =  confusion_matrix.loc['true:1','pred:0']\n",
    "        FN =  confusion_matrix.loc['true:0','pred:1']\n",
    "        FP_rate = FP / (FP+TN)\n",
    "        FN_rate = FN / (FN+TP)\n",
    "        return FP_rate, FN_rate"
   ]
  },
  {
   "cell_type": "code",
   "execution_count": 26,
   "metadata": {},
   "outputs": [],
   "source": [
    "# set the set of models and rates we seek to explore\n",
    "models = [logreg_all, best_reg_model, best_knn_model]\n",
    "model_descriptions = ['Full_logistic', 'Regularized_bLogistic', 'KNN']\n",
    "confusion_rates = ['False_Positive_Rate', 'False_Negative_Rate']"
   ]
  },
  {
   "cell_type": "code",
   "execution_count": 27,
   "metadata": {},
   "outputs": [],
   "source": [
    "# prepare a dataframe to represent rates for each model\n",
    "confusion_rate_df = pd.DataFrame(\n",
    "    index=model_descriptions,\n",
    "    columns=['False_Positive_Rate', 'False_Negative_Rate']\n",
    ")"
   ]
  },
  {
   "cell_type": "code",
   "execution_count": 28,
   "metadata": {},
   "outputs": [
    {
     "name": "stdout",
     "output_type": "stream",
     "text": [
      "\n",
      " Confusion matrix for: Full_logistic \n",
      "\n",
      "        pred:0  pred:1\n",
      "true:0      83      13\n",
      "true:1      26      66\n",
      "\n",
      " Confusion matrix for: Regularized_bLogistic \n",
      "\n",
      "        pred:0  pred:1\n",
      "true:0      85      11\n",
      "true:1      12      80\n",
      "\n",
      " Confusion matrix for: KNN \n",
      "\n",
      "        pred:0  pred:1\n",
      "true:0      83      13\n",
      "true:1      18      74\n"
     ]
    }
   ],
   "source": [
    "index = 0\n",
    "for model in models:\n",
    "    # confusion matrix for model with all predictors\n",
    "    model.fit(X_train,y_train)\n",
    "    y_hat_test = model.predict(X_test)\n",
    "    conf_df = pd.DataFrame(\n",
    "        metrics.confusion_matrix(y_test, y_hat_test), \n",
    "        index=['true:0', 'true:1'], \n",
    "        columns=['pred:0', 'pred:1'])\n",
    "    curr_model_descr = model_descriptions[index]\n",
    "    print(\"\\n Confusion matrix for:\", curr_model_descr,\"\\n\")\n",
    "\n",
    "    # calculate false positive and false negative rate\n",
    "    FP_rate, FN_rate = calc_confusion_rate(conf_df)\n",
    "    \n",
    "    # Add rates to dataframe for clear comparison \n",
    "    confusion_rate_df.loc[curr_model_descr,'False_Positive_Rate'] = FP_rate\n",
    "    confusion_rate_df.loc[curr_model_descr,'False_Negative_Rate'] = FN_rate\n",
    "    print(conf_df)\n",
    "    index = index + 1"
   ]
  },
  {
   "cell_type": "code",
   "execution_count": 29,
   "metadata": {},
   "outputs": [
    {
     "data": {
      "text/html": [
       "<style  type=\"text/css\" >\n",
       "</style><table id=\"T_00030d04_e81b_11eb_adb9_acde48001122\" ><thead>    <tr>        <th class=\"blank level0\" ></th>        <th class=\"col_heading level0 col0\" >False_Positive_Rate</th>        <th class=\"col_heading level0 col1\" >False_Negative_Rate</th>    </tr></thead><tbody>\n",
       "                <tr>\n",
       "                        <th id=\"T_00030d04_e81b_11eb_adb9_acde48001122level0_row0\" class=\"row_heading level0 row0\" >Full_logistic</th>\n",
       "                        <td id=\"T_00030d04_e81b_11eb_adb9_acde48001122row0_col0\" class=\"data row0 col0\" >28.3%</td>\n",
       "                        <td id=\"T_00030d04_e81b_11eb_adb9_acde48001122row0_col1\" class=\"data row0 col1\" >13.5%</td>\n",
       "            </tr>\n",
       "            <tr>\n",
       "                        <th id=\"T_00030d04_e81b_11eb_adb9_acde48001122level0_row1\" class=\"row_heading level0 row1\" >Regularized_bLogistic</th>\n",
       "                        <td id=\"T_00030d04_e81b_11eb_adb9_acde48001122row1_col0\" class=\"data row1 col0\" >13.0%</td>\n",
       "                        <td id=\"T_00030d04_e81b_11eb_adb9_acde48001122row1_col1\" class=\"data row1 col1\" >11.5%</td>\n",
       "            </tr>\n",
       "            <tr>\n",
       "                        <th id=\"T_00030d04_e81b_11eb_adb9_acde48001122level0_row2\" class=\"row_heading level0 row2\" >KNN</th>\n",
       "                        <td id=\"T_00030d04_e81b_11eb_adb9_acde48001122row2_col0\" class=\"data row2 col0\" >19.6%</td>\n",
       "                        <td id=\"T_00030d04_e81b_11eb_adb9_acde48001122row2_col1\" class=\"data row2 col1\" >13.5%</td>\n",
       "            </tr>\n",
       "    </tbody></table>"
      ],
      "text/plain": [
       "<pandas.io.formats.style.Styler at 0x7f89aecd9f90>"
      ]
     },
     "execution_count": 29,
     "metadata": {},
     "output_type": "execute_result"
    }
   ],
   "source": [
    "# display the rates by model in percentage format\n",
    "confusion_rate_df.style.format({\n",
    "    'False_Positive_Rate': '{:,.1%}'.format,\n",
    "    'False_Negative_Rate': '{:,.1%}'.format,\n",
    "})"
   ]
  },
  {
   "cell_type": "markdown",
   "metadata": {},
   "source": [
    "**Comment** Both false positive and false negative rate are lowest for regularized logistic regression model. It is therefore reasonable to conclude that the regularized logistic regression model is the best model. K nearest neighbor also performs better than the full logistic regression model."
   ]
  },
  {
   "cell_type": "markdown",
   "metadata": {},
   "source": [
    "---"
   ]
  },
  {
   "cell_type": "markdown",
   "metadata": {},
   "source": [
    "#### <div class='exercise'><b> Question 4 [15 pts]: Performing Principal Components Analysis </b></div>"
   ]
  },
  {
   "cell_type": "markdown",
   "metadata": {},
   "source": [
    "**4.1** Create the full PCA decomposition of `X_train` and apply the transformation to both `X_train` and `X_test`.  Report the shape of both of these.  What is the limiting factor for the maximum number of PCA components for this data set? \n",
    "\n",
    "*Hint: be sure to standardize before performing PCA.\n",
    "\n",
    "**4.2** PCA is often solely used to help in visualizing high-dimensional problems.  Plot the scatterplot of the second PCA vector of train on the $Y$-axis and the first PCA vector of train on the $X$-axis (be sure to denote the classes via different colors and markings).  In 2-3 sentences, explain why using the scatterplot of the top 2 PCA vectors is a useful approach to visualize a high dimensional classification problem.\n",
    "\n",
    "**4.3** Determine and report the variance explained in `X_train` based on the top 2 PCA vectors.  Determine and report how many PCA vectors are needed so that 90\\% of the variability in the predictors is explained, and create a plot to illustrate this result (Hint: look at cumulative explained variability vs. number of PCA components used).  Select a reasonable value for the number of components that balances representativeness (of the predictors) with parsimony. \n"
   ]
  },
  {
   "cell_type": "markdown",
   "metadata": {},
   "source": [
    "\n",
    "### Answers"
   ]
  },
  {
   "cell_type": "markdown",
   "metadata": {},
   "source": [
    "**4.1 Create the full PCA decomposition of X_train and apply the transformation to both X_train and X_test. Report the shape of both of these. What is the limiting factor for the maximum number of PCA components for this data set?**"
   ]
  },
  {
   "cell_type": "code",
   "execution_count": 30,
   "metadata": {},
   "outputs": [
    {
     "name": "stdout",
     "output_type": "stream",
     "text": [
      "Original train dataset shape: (564, 7129)\n",
      "Shape PCA transformed X_train: (564, 564)\n"
     ]
    }
   ],
   "source": [
    "# create/fit the 'full' pca transformation for X_train\n",
    "pca_train = PCA().fit(X_train)\n",
    "\n",
    "# apply the pca transformation to the full predictor set\n",
    "pcaX_train = pca_train.transform(X_train)\n",
    "\n",
    "# convert to a data frame\n",
    "pcaX_df_train = pd.DataFrame(pcaX_train)\n",
    "\n",
    "print(\"Original train dataset shape:\",pca_train.components_.shape);\n",
    "print(\"Shape PCA transformed X_train:\", pcaX_train.shape)\n"
   ]
  },
  {
   "cell_type": "code",
   "execution_count": 31,
   "metadata": {},
   "outputs": [
    {
     "name": "stdout",
     "output_type": "stream",
     "text": [
      "Original test dataset shape: (188, 7129)\n",
      "Shape PCA transformed X_test: (188, 188)\n"
     ]
    }
   ],
   "source": [
    "# create/fit the 'full' pca transformation for X_test\n",
    "pca_test = PCA().fit(X_test)\n",
    "\n",
    "# apply the pca transformation to the full predictor set\n",
    "pcaX_test = pca_test.transform(X_test)\n",
    "\n",
    "# convert to a data frame\n",
    "pcaX_df_test = pd.DataFrame(pcaX_test)\n",
    "\n",
    "print(\"Original test dataset shape:\",pca_test.components_.shape);\n",
    "print(\"Shape PCA transformed X_test:\", pcaX_test.shape)\n"
   ]
  },
  {
   "cell_type": "markdown",
   "metadata": {},
   "source": [
    "@Sunil. I'm not sure if I'm answering the question.\n",
    "**Comment\"** If the number of observations 𝑛 is less than or equal to the number of features, the 𝑛-th Principal Component (PC) will be constant zero (eigenvalue = 0). The number of non-trivial PCs is 𝑛−1.\n"
   ]
  },
  {
   "cell_type": "markdown",
   "metadata": {},
   "source": [
    "**4.2 PCA is often solely used to help in visualizing high-dimensional problems. Plot the scatterplot of the second PCA vector on the  𝑌 -axis and the first PCA vector on the  𝑋 -axis (be sure to denote the classes via different color/markings). In 2-3 sentences, explain why using the scatterplot of the top 2 PCA vectors is a useful approach to visualize a high dimensional classification problem.**"
   ]
  },
  {
   "cell_type": "code",
   "execution_count": 32,
   "metadata": {},
   "outputs": [],
   "source": [
    "# fix the indexes. @Sunil I don't understand why I have to do this\n",
    "# without this, I get an error\n",
    "pcaX_df_train.index = y_train.index"
   ]
  },
  {
   "cell_type": "code",
   "execution_count": 33,
   "metadata": {},
   "outputs": [
    {
     "data": {
      "text/plain": [
       "Text(0.5, 1.0, 'ALL and AML as a function of top 2 principal components')"
      ]
     },
     "execution_count": 33,
     "metadata": {},
     "output_type": "execute_result"
    },
    {
     "data": {
      "image/png": "[encoded data removed]",
      "text/plain": [
       "<Figure size 432x288 with 1 Axes>"
      ]
     },
     "metadata": {
      "needs_background": "light"
     },
     "output_type": "display_data"
    }
   ],
   "source": [
    "# Plot the response over the first 2 PCA component vectors\n",
    "plt.scatter(pcaX_df_train.iloc[:, 0][y_train==0],pcaX_df_train.iloc[:, 1][y_train==0])\n",
    "plt.scatter(pcaX_df_train.iloc[:, 0][y_train==1],pcaX_df_train.iloc[:, 1][y_train==1])\n",
    "\n",
    "plt.legend([\"ALL\",\"AML\"])\n",
    "plt.xlabel(\"First PCA Component Vector (Z1)\")\n",
    "plt.ylabel(\"Second PCA Component Vector (Z2)\")\n",
    "plt.title(\"ALL and AML as a function of top 2 principal components\")"
   ]
  },
  {
   "cell_type": "markdown",
   "metadata": {},
   "source": [
    "@Sunil. I suspect this explanation could be improved.\n",
    "**Comment** Most useful visualizations are limited to two dimensions. Visualizing the effect of a high number of predictors is therefore challenging. PCA allows to summarize the effect of multiple predictors in a a summarized 2-dimensional space."
   ]
  },
  {
   "cell_type": "markdown",
   "metadata": {},
   "source": [
    "**4.3 Determine and report the variance explained in `X_train` based on the top 2 PCA vectors.  Determine and report how many PCA vectors are needed so that 90\\% of the variability in the predictors is explained, and create a plot to illustrate this result (Hint: look at cumulative explained variability vs. number of PCA components used).  Select a reasonable value for the number of components that balances representativeness (of the predictors) with parsimony.**"
   ]
  },
  {
   "cell_type": "code",
   "execution_count": 34,
   "metadata": {},
   "outputs": [
    {
     "name": "stdout",
     "output_type": "stream",
     "text": [
      "Variance explained by the first principal component: 0.06565297720566901\n",
      "Variance explained by the second principal component: 0.048890758546557195\n"
     ]
    }
   ],
   "source": [
    "# variance explained by fist two components\n",
    "print(\"Variance explained by the first principal component:\",pca_train.explained_variance_ratio_[0])\n",
    "print(\"Variance explained by the second principal component:\",pca_train.explained_variance_ratio_[1])\n"
   ]
  },
  {
   "cell_type": "code",
   "execution_count": 35,
   "metadata": {},
   "outputs": [
    {
     "name": "stdout",
     "output_type": "stream",
     "text": [
      "Number of principal components needed to explain 0.9 % of variability: 222\n"
     ]
    }
   ],
   "source": [
    "target_variability_explained = .9\n",
    "cum_PCA = np.cumsum(pca_train.explained_variance_ratio_)\n",
    "\n",
    "# asses at which point we reach a certain percentage for variability explained\n",
    "target_variability_at = len(cum_PCA) - sum(cum_PCA > target_variability_explained)\n",
    "\n",
    "print('Number of principal components needed to explain', \n",
    "      target_variability_explained, \"% of variability:\",\n",
    "      target_variability_at )"
   ]
  },
  {
   "cell_type": "code",
   "execution_count": 36,
   "metadata": {},
   "outputs": [
    {
     "data": {
      "text/plain": [
       "<matplotlib.lines.Line2D at 0x7f89aed3b9d0>"
      ]
     },
     "execution_count": 36,
     "metadata": {},
     "output_type": "execute_result"
    },
    {
     "data": {
      "image/png": "[encoded data removed]",
      "text/plain": [
       "<Figure size 432x288 with 1 Axes>"
      ]
     },
     "metadata": {
      "needs_background": "light"
     },
     "output_type": "display_data"
    }
   ],
   "source": [
    "# plot the cumulative \"variance explained\" curve for X_train\n",
    "plt.plot(np.cumsum(pca_train.explained_variance_ratio_))\n",
    "plt.xlabel('number of components')\n",
    "plt.ylabel('cumulative explained variance')\n",
    "plt.suptitle('number of principal componenets needed for 90% variance ')\n",
    "plt.axhline(0.9, c='red', alpha=0.5)\n"
   ]
  },
  {
   "cell_type": "markdown",
   "metadata": {},
   "source": [
    "**Comment** A reasonable number of components seems to be any number between 75 and 400. For parsimony reasons, I would recommend 75, roughly the point where the curve starts flattening."
   ]
  },
  {
   "cell_type": "markdown",
   "metadata": {},
   "source": [
    "---"
   ]
  },
  {
   "cell_type": "markdown",
   "metadata": {},
   "source": [
    "<div class='exercise'><b> Question 5 [10 pts]: Principal Components Regression (PCR) </b></div>\n",
    "\n",
    "**5.1** Fit three separate Logistic Regression models using principal components as the predictors: (1) with just the first 2 PCA vectors, (2) with the number of component vectors you chose from 5.4 above, and (3) with the number of components that explain at least 90% of the variability in the predictor set. How do the classification accuracy values on both the training and test sets compare with these models?\n",
    "\n",
    "**5.2** Use cross-validation to determine the best number of principal components. Try out the 3 values from the previous sub-part and optionally include other values as well. For the best performing model according to cross-validation, interpret what the model says about the relationship between `best_predictor` and `Cancer_type`.\n"
   ]
  },
  {
   "cell_type": "markdown",
   "metadata": {},
   "source": [
    "\n",
    "### Answers"
   ]
  },
  {
   "cell_type": "markdown",
   "metadata": {},
   "source": [
    "**5.1 Fit three separate Logistic Regression models using principal components as the predictors: (1) with just the first 2 PCA vectors, (2) with the number of component vectors you chose from 5.4 above, and (3) with the number of components that explain at least 90% of the variability in the predictor set. How do the classification accuracy values on both the training and test sets compare with these models?**"
   ]
  },
  {
   "cell_type": "code",
   "execution_count": 37,
   "metadata": {},
   "outputs": [],
   "source": [
    "# set the set of models and rates we seek to explore\n",
    "pca_cnts = [2, 103, 75]\n",
    "model_descriptions = ['2_PCA_vectors', 'Ninety_perc_pca_vectors (103)', 'Chosen_pca_vectors (75)']\n",
    "\n",
    "best_accuracy = -1\n",
    "best_pca_model = None\n",
    "accuracies = []"
   ]
  },
  {
   "cell_type": "code",
   "execution_count": 38,
   "metadata": {},
   "outputs": [],
   "source": [
    "# prepare a dataframe to represent accuracy for each model\n",
    "pca_cnt_acc_df = pd.DataFrame(\n",
    "    index=model_descriptions,\n",
    "    columns=['Train_accuracy', 'Test_accuracy']\n",
    ")"
   ]
  },
  {
   "cell_type": "code",
   "execution_count": 39,
   "metadata": {},
   "outputs": [],
   "source": [
    "iteration_counter = 0\n",
    "for pca_cnts in pca_cnts:\n",
    "    # setting c high to avoid additional regularizatoin\n",
    "    logreg =  LogisticRegression(C=1000000, solver='liblinear', max_iter=1000)\n",
    "    # note we're using the pcaX dataset, subsetted to include the specific feature nr.\n",
    "    logreg.fit(pcaX_df_train.iloc[:,:pca_cnts], y_train)\n",
    "\n",
    "    \n",
    "    y_hat_train = logreg.predict(pcaX_df_train.iloc[:,:pca_cnts])\n",
    "    train_accuracy = accuracy_score(y_train.to_numpy(), y_hat_train)\n",
    "\n",
    "    y_hat_test = logreg.predict(pcaX_df_test.iloc[:,:pca_cnts])\n",
    "    test_accuracy = accuracy_score(y_test.to_numpy(), y_hat_test)\n",
    "\n",
    "    # adding accuracy to a list in case we want to show how accuracy changes with pca_cnts\n",
    "    accuracies.append(cur_accuracy)\n",
    "    if cur_accuracy > best_accuracy:\n",
    "        best_accuracy = cur_accuracy\n",
    "        best_pca_model = logreg\n",
    "        best_pca_cnt = pca_cnts\n",
    "    \n",
    "    # Add rates to dataframe for clear comparison \n",
    "    curr_model_descr = model_descriptions[iteration_counter]\n",
    "    pca_cnt_acc_df.loc[curr_model_descr,'Train_accuracy'] = train_accuracy\n",
    "    pca_cnt_acc_df.loc[curr_model_descr,'Test_accuracy'] = test_accuracy\n",
    "    iteration_counter = iteration_counter + 1\n"
   ]
  },
  {
   "cell_type": "code",
   "execution_count": 40,
   "metadata": {},
   "outputs": [
    {
     "name": "stdout",
     "output_type": "stream",
     "text": [
      "Comparing different regression models by varying the number of principal components\n"
     ]
    },
    {
     "data": {
      "text/html": [
       "<style  type=\"text/css\" >\n",
       "</style><table id=\"T_00b0d18c_e81b_11eb_adb9_acde48001122\" ><thead>    <tr>        <th class=\"blank level0\" ></th>        <th class=\"col_heading level0 col0\" >Train_accuracy</th>        <th class=\"col_heading level0 col1\" >Test_accuracy</th>    </tr></thead><tbody>\n",
       "                <tr>\n",
       "                        <th id=\"T_00b0d18c_e81b_11eb_adb9_acde48001122level0_row0\" class=\"row_heading level0 row0\" >2_PCA_vectors</th>\n",
       "                        <td id=\"T_00b0d18c_e81b_11eb_adb9_acde48001122row0_col0\" class=\"data row0 col0\" >77.5%</td>\n",
       "                        <td id=\"T_00b0d18c_e81b_11eb_adb9_acde48001122row0_col1\" class=\"data row0 col1\" >74.5%</td>\n",
       "            </tr>\n",
       "            <tr>\n",
       "                        <th id=\"T_00b0d18c_e81b_11eb_adb9_acde48001122level0_row1\" class=\"row_heading level0 row1\" >Ninty_perc_pca_vectors (103)</th>\n",
       "                        <td id=\"T_00b0d18c_e81b_11eb_adb9_acde48001122row1_col0\" class=\"data row1 col0\" >91.8%</td>\n",
       "                        <td id=\"T_00b0d18c_e81b_11eb_adb9_acde48001122row1_col1\" class=\"data row1 col1\" >56.4%</td>\n",
       "            </tr>\n",
       "            <tr>\n",
       "                        <th id=\"T_00b0d18c_e81b_11eb_adb9_acde48001122level0_row2\" class=\"row_heading level0 row2\" >Chosen_pca_vectors (75)</th>\n",
       "                        <td id=\"T_00b0d18c_e81b_11eb_adb9_acde48001122row2_col0\" class=\"data row2 col0\" >90.6%</td>\n",
       "                        <td id=\"T_00b0d18c_e81b_11eb_adb9_acde48001122row2_col1\" class=\"data row2 col1\" >53.2%</td>\n",
       "            </tr>\n",
       "    </tbody></table>"
      ],
      "text/plain": [
       "<pandas.io.formats.style.Styler at 0x7f89b0db2490>"
      ]
     },
     "execution_count": 40,
     "metadata": {},
     "output_type": "execute_result"
    }
   ],
   "source": [
    "# display the rates by model in percentage format\n",
    "print(\"Comparing different regression models by varying the number of principal components\")\n",
    "pca_cnt_acc_df.style.format({\n",
    "    'Train_accuracy': '{:,.1%}'.format,\n",
    "    'Test_accuracy': '{:,.1%}'.format,\n",
    "})"
   ]
  },
  {
   "cell_type": "markdown",
   "metadata": {},
   "source": [
    "**Comment** The 2-component model performs nearly as well as the chosen pca model. Since the two-component model is significantly more parsimoneous, it seems reasonable to prefer the two-component model."
   ]
  },
  {
   "cell_type": "markdown",
   "metadata": {},
   "source": [
    "**5.2 Use cross-validation to determine the best number of principal components. Try out the 3 values from the previous sub-part and optionally include other values as well. For the best performing model according to cross-validation, interpret what the model says about the relationship between your `best_predictor` and `Cancer_type`**."
   ]
  },
  {
   "cell_type": "code",
   "execution_count": 41,
   "metadata": {},
   "outputs": [],
   "source": [
    "pca_cnts = [2, 10, 20, 30, 40, 50, 60, 75, 103, 175]\n",
    "cs_vals = [4,5,6]# set the set of models and rates we seek to explore\n",
    "model_descriptions =[]\n",
    "cv_folds = 5\n",
    "\n",
    "best_accuracy = -1\n",
    "best_pca_cv_model = None\n",
    "accuracies = []"
   ]
  },
  {
   "cell_type": "code",
   "execution_count": 42,
   "metadata": {},
   "outputs": [],
   "source": [
    "# prepare a dataframe to represent accuracy for each model\n",
    "\n",
    "for pca_cnt in pca_cnts:\n",
    "    model_description = str(pca_cnt) + \"_PCA\"\n",
    "    model_descriptions.append(model_description)\n",
    "\n",
    "pca_cnt_cv_acc_df = pd.DataFrame(\n",
    "    index=model_descriptions,\n",
    "    columns=['Train_accuracy', 'Test_accuracy'])"
   ]
  },
  {
   "cell_type": "code",
   "execution_count": 43,
   "metadata": {},
   "outputs": [],
   "source": [
    "iteration_counter = 0\n",
    "for pca_cnts in pca_cnts:\n",
    "    # adding cross validation and setting c high to avoid additional regularizatoin\n",
    "    logreg =  LogisticRegressionCV(Cs=cs_vals, solver='liblinear', max_iter=1000, cv=cv_folds)\n",
    "    # note we're using the pcaX dataset, subsetted to include the specific feature nr.\n",
    "    logreg.fit(pcaX_df_train.iloc[:,:pca_cnts], y_train)\n",
    "    \n",
    "    y_hat_train = logreg.predict(pcaX_df_train.iloc[:,:pca_cnts])\n",
    "    train_accuracy = accuracy_score(y_train.to_numpy(), y_hat_train)\n",
    "\n",
    "    y_hat_test = logreg.predict(pcaX_df_test.iloc[:,:pca_cnts])\n",
    "    test_accuracy = accuracy_score(y_test.to_numpy(), y_hat_test)\n",
    "\n",
    "    # adding accuracy to a list in case we want to show how accuracy changes with pca_cnts\n",
    "    accuracies.append(cur_accuracy)\n",
    "    if test_accuracy > best_accuracy:\n",
    "        best_accuracy = test_accuracy\n",
    "        best_pca_model = logreg\n",
    "        best_pca_cnt = pca_cnts\n",
    "    \n",
    "    # Add rates to dataframe for clear comparison \n",
    "    curr_model_descr = model_descriptions[iteration_counter]\n",
    "    pca_cnt_cv_acc_df.loc[curr_model_descr,'Train_accuracy'] = train_accuracy\n",
    "    pca_cnt_cv_acc_df.loc[curr_model_descr,'Test_accuracy'] = test_accuracy\n",
    "    iteration_counter = iteration_counter + 1\n"
   ]
  },
  {
   "cell_type": "code",
   "execution_count": 44,
   "metadata": {},
   "outputs": [
    {
     "name": "stdout",
     "output_type": "stream",
     "text": [
      "Comparing different regression models by varying the number of principal components with cross validation:\n"
     ]
    },
    {
     "data": {
      "text/html": [
       "<style  type=\"text/css\" >\n",
       "</style><table id=\"T_01a4102c_e81b_11eb_adb9_acde48001122\" ><thead>    <tr>        <th class=\"blank level0\" ></th>        <th class=\"col_heading level0 col0\" >Train_accuracy</th>        <th class=\"col_heading level0 col1\" >Test_accuracy</th>    </tr></thead><tbody>\n",
       "                <tr>\n",
       "                        <th id=\"T_01a4102c_e81b_11eb_adb9_acde48001122level0_row0\" class=\"row_heading level0 row0\" >2_PCA</th>\n",
       "                        <td id=\"T_01a4102c_e81b_11eb_adb9_acde48001122row0_col0\" class=\"data row0 col0\" >77.5%</td>\n",
       "                        <td id=\"T_01a4102c_e81b_11eb_adb9_acde48001122row0_col1\" class=\"data row0 col1\" >74.5%</td>\n",
       "            </tr>\n",
       "            <tr>\n",
       "                        <th id=\"T_01a4102c_e81b_11eb_adb9_acde48001122level0_row1\" class=\"row_heading level0 row1\" >10_PCA</th>\n",
       "                        <td id=\"T_01a4102c_e81b_11eb_adb9_acde48001122row1_col0\" class=\"data row1 col0\" >84.9%</td>\n",
       "                        <td id=\"T_01a4102c_e81b_11eb_adb9_acde48001122row1_col1\" class=\"data row1 col1\" >43.1%</td>\n",
       "            </tr>\n",
       "            <tr>\n",
       "                        <th id=\"T_01a4102c_e81b_11eb_adb9_acde48001122level0_row2\" class=\"row_heading level0 row2\" >20_PCA</th>\n",
       "                        <td id=\"T_01a4102c_e81b_11eb_adb9_acde48001122row2_col0\" class=\"data row2 col0\" >89.2%</td>\n",
       "                        <td id=\"T_01a4102c_e81b_11eb_adb9_acde48001122row2_col1\" class=\"data row2 col1\" >43.6%</td>\n",
       "            </tr>\n",
       "            <tr>\n",
       "                        <th id=\"T_01a4102c_e81b_11eb_adb9_acde48001122level0_row3\" class=\"row_heading level0 row3\" >30_PCA</th>\n",
       "                        <td id=\"T_01a4102c_e81b_11eb_adb9_acde48001122row3_col0\" class=\"data row3 col0\" >89.7%</td>\n",
       "                        <td id=\"T_01a4102c_e81b_11eb_adb9_acde48001122row3_col1\" class=\"data row3 col1\" >52.7%</td>\n",
       "            </tr>\n",
       "            <tr>\n",
       "                        <th id=\"T_01a4102c_e81b_11eb_adb9_acde48001122level0_row4\" class=\"row_heading level0 row4\" >40_PCA</th>\n",
       "                        <td id=\"T_01a4102c_e81b_11eb_adb9_acde48001122row4_col0\" class=\"data row4 col0\" >89.9%</td>\n",
       "                        <td id=\"T_01a4102c_e81b_11eb_adb9_acde48001122row4_col1\" class=\"data row4 col1\" >54.8%</td>\n",
       "            </tr>\n",
       "            <tr>\n",
       "                        <th id=\"T_01a4102c_e81b_11eb_adb9_acde48001122level0_row5\" class=\"row_heading level0 row5\" >50_PCA</th>\n",
       "                        <td id=\"T_01a4102c_e81b_11eb_adb9_acde48001122row5_col0\" class=\"data row5 col0\" >90.2%</td>\n",
       "                        <td id=\"T_01a4102c_e81b_11eb_adb9_acde48001122row5_col1\" class=\"data row5 col1\" >52.7%</td>\n",
       "            </tr>\n",
       "            <tr>\n",
       "                        <th id=\"T_01a4102c_e81b_11eb_adb9_acde48001122level0_row6\" class=\"row_heading level0 row6\" >60_PCA</th>\n",
       "                        <td id=\"T_01a4102c_e81b_11eb_adb9_acde48001122row6_col0\" class=\"data row6 col0\" >90.4%</td>\n",
       "                        <td id=\"T_01a4102c_e81b_11eb_adb9_acde48001122row6_col1\" class=\"data row6 col1\" >52.1%</td>\n",
       "            </tr>\n",
       "            <tr>\n",
       "                        <th id=\"T_01a4102c_e81b_11eb_adb9_acde48001122level0_row7\" class=\"row_heading level0 row7\" >75_PCA</th>\n",
       "                        <td id=\"T_01a4102c_e81b_11eb_adb9_acde48001122row7_col0\" class=\"data row7 col0\" >90.8%</td>\n",
       "                        <td id=\"T_01a4102c_e81b_11eb_adb9_acde48001122row7_col1\" class=\"data row7 col1\" >54.3%</td>\n",
       "            </tr>\n",
       "            <tr>\n",
       "                        <th id=\"T_01a4102c_e81b_11eb_adb9_acde48001122level0_row8\" class=\"row_heading level0 row8\" >103_PCA</th>\n",
       "                        <td id=\"T_01a4102c_e81b_11eb_adb9_acde48001122row8_col0\" class=\"data row8 col0\" >91.8%</td>\n",
       "                        <td id=\"T_01a4102c_e81b_11eb_adb9_acde48001122row8_col1\" class=\"data row8 col1\" >56.4%</td>\n",
       "            </tr>\n",
       "            <tr>\n",
       "                        <th id=\"T_01a4102c_e81b_11eb_adb9_acde48001122level0_row9\" class=\"row_heading level0 row9\" >175_PCA</th>\n",
       "                        <td id=\"T_01a4102c_e81b_11eb_adb9_acde48001122row9_col0\" class=\"data row9 col0\" >95.9%</td>\n",
       "                        <td id=\"T_01a4102c_e81b_11eb_adb9_acde48001122row9_col1\" class=\"data row9 col1\" >53.2%</td>\n",
       "            </tr>\n",
       "    </tbody></table>"
      ],
      "text/plain": [
       "<pandas.io.formats.style.Styler at 0x7f89af275190>"
      ]
     },
     "execution_count": 44,
     "metadata": {},
     "output_type": "execute_result"
    }
   ],
   "source": [
    "# display the rates by model in percentage format\n",
    "print(\"Comparing different regression models by varying the number of principal components with cross validation:\")\n",
    "pca_cnt_cv_acc_df.style.format({\n",
    "    'Train_accuracy': '{:,.1%}'.format,\n",
    "    'Test_accuracy': '{:,.1%}'.format,\n",
    "})"
   ]
  },
  {
   "cell_type": "code",
   "execution_count": 45,
   "metadata": {},
   "outputs": [
    {
     "name": "stdout",
     "output_type": "stream",
     "text": [
      "Best accuracy is 0.7446808510638298 with 2 components\n"
     ]
    }
   ],
   "source": [
    "print(\"Best accuracy is\",best_accuracy, \"with\", best_pca_cnt, \"components\")"
   ]
  },
  {
   "cell_type": "markdown",
   "metadata": {},
   "source": [
    "**Interpret what the model says about the relationship between your best_predictor and Cancer_type**"
   ]
  },
  {
   "cell_type": "code",
   "execution_count": 46,
   "metadata": {},
   "outputs": [],
   "source": [
    "# Fit the PCR\n",
    "scaler = sk.preprocessing.StandardScaler()\n",
    "scaler.fit(X_train)\n",
    "# @sunil not sure if we need this\n",
    "# Z = scaler.transform(X_train)\n",
    "pca = PCA(n_components=best_pca_cnt).fit(X_train)\n"
   ]
  },
  {
   "cell_type": "code",
   "execution_count": 47,
   "metadata": {},
   "outputs": [
    {
     "name": "stdout",
     "output_type": "stream",
     "text": [
      "The coefficient for the best predictor is: -0.004084403833399503\n",
      "The odds for the best predictor are: 0.9959239259992785\n"
     ]
    }
   ],
   "source": [
    "logit_pcr = []\n",
    "pcrxz = []\n",
    "iter = 0\n",
    "# Run through each of the principle components, and grab the coeficients for the original predictors\n",
    "for pca_cnt in range(best_pca_cnt):\n",
    "    pca_cnt = pca_cnt+1\n",
    "    logit_pcr.append(LogisticRegression(C=1000000,solver=\"lbfgs\").fit(pcaX_df_train.iloc[:,:pca_cnt],y_train))\n",
    "    pcrxz.append(logit_pcr[iter].coef_*np.transpose(pca.components_[0:1,:]).sum(axis=1))\n",
    "\n",
    "\n",
    "# Add up components to produce the coefficent for best_predictor\n",
    "resultsZ = np.vstack((pcrxz))\n",
    "coef_sum = resultsZ.sum(axis=0)\n",
    "print(\"The coefficient for the best predictor is:\", coef_sum[best_pred_pos])\n",
    "# convert log odds into odds for the coeffinet associated with the best predictor\n",
    "odds = np.exp(coef_sum[best_pred_pos])\n",
    "print(\"The odds for the best predictor are:\",odds)\n"
   ]
  },
  {
   "cell_type": "markdown",
   "metadata": {},
   "source": [
    "@Sunil. What do you think of this interpretation? This type of explanation is also used higher up.\n",
    "**Comment**\n",
    "Coefficient interpretation: For every one-unit increase in the best predictor 'Y08612_at', the odds that the observation is in AML are roughly equal to the odds that the observation is not in AML, when all other variables are held constant. "
   ]
  },
  {
   "cell_type": "markdown",
   "metadata": {},
   "source": [
    "<div class='exercise'><b> Question 6 [15 pts]: Evaluating Classifiers </b></div>\n",
    "\n",
    "**6.1**: Another way to evaluate models in a classification setting is through an Area-under-the-ROC-Curve (AUC). Briefly explain what the AUC and the ROC are trying to do and how this approach differs from evaluating models based on misclassification rate (as you have done thus far in this problem set).\n",
    "\n",
    "**6.2** Evaluate the 'best' models (best based on test misclassification: if there is a tie, choose the 'simplest' model) from each class of classification models using AUC.  That is calculate AUC for the following models:\n",
    "- the best logistic regression model, whether regularized or not (question 2)\n",
    "- the best $k$-NN model (question 3)\n",
    "- the best PCR model (question 5)\n",
    "\n",
    "For the model with the best AUC, plot the ROC. Briefly interpret your plot.\n",
    "\n",
    "**6.3** Based on AUC, is there one clear stand-out winner or are a lot of models similar in prediction?  If you were to predict real cancer patients, how would use these models to predict cancer type?\n",
    "\n",
    "*See extra information about ALL and AML at the bottom of this notebook.*"
   ]
  },
  {
   "cell_type": "markdown",
   "metadata": {},
   "source": [
    "### Answers"
   ]
  },
  {
   "cell_type": "markdown",
   "metadata": {},
   "source": [
    "**6.1 Another way to evaluate models in a classification setting is through an Area-under-the-ROC-Curve (AUC). Briefly explain what the AUC and the ROC are trying to do and how this approach differs from evaluating models based on misclassification rate (as you have done thus far in this problem set).**"
   ]
  },
  {
   "cell_type": "markdown",
   "metadata": {},
   "source": [
    "The Receiver Operating Characteristics (FOC) curve illustrates the trade-off between True Positive Rate - how much correctly classified as 1 = and False Positive Rate (How much incorrectly classified as 1).\n",
    "\n",
    "The ROC curve illustrates a range of possible cut off rates. A curve closer to the top left corner indicates a better classifier/Model.\n",
    "\n",
    "AUC is the Area Under the Curve in the ROC plot. A higher AUC is better. AUC=1 means all positive examples come after your negative example. AUC = 0 means all negative examples come after your positive example. AUC=0.5 means a random classifier."
   ]
  },
  {
   "cell_type": "markdown",
   "metadata": {},
   "source": [
    "**6.2 use AUC to evaluate the 'best' models (best based on test misclassification: if there is a tie, choose the 'simplest' model) from each class of classification models.  That is calculate AUC for the following models:**\n",
    "- the best logistic regression model, whether regularized or not (question 2)\n",
    "- the best $k$-NN model (question 3)\n",
    "- the best PCR model (question 5)\n",
    "\n",
    "**For the model with the best AUC, plot the ROC. Briefly interpret your plot.**\n",
    "\n"
   ]
  },
  {
   "cell_type": "code",
   "execution_count": 69,
   "metadata": {},
   "outputs": [],
   "source": [
    "# prepare a dataframe to represent accuracy for each model\n",
    "model_descriptions = ['Best logistic model', 'Best kNN model', 'Best PCA model']\n",
    "auc_by_model_df = pd.DataFrame(\n",
    "    index=model_descriptions,\n",
    "    columns=['AUC'])"
   ]
  },
  {
   "cell_type": "code",
   "execution_count": 75,
   "metadata": {},
   "outputs": [],
   "source": [
    "# AUC Best logisic model\n",
    "fpr, tpr, thresholds = metrics.roc_curve(y_test, best_reg_model.predict_proba(X_test)[:,1])\n",
    "roc_auc = metrics.auc(fpr, tpr)\n",
    "# add auc to table\n",
    "auc_by_model_df.loc['Best logistic model','AUC'] = roc_auc"
   ]
  },
  {
   "cell_type": "code",
   "execution_count": 76,
   "metadata": {},
   "outputs": [],
   "source": [
    "# AUC Best Knn model\n",
    "fpr, tpr, thresholds = metrics.roc_curve(y_test, best_knn_model.predict_proba(X_test)[:,1])\n",
    "roc_auc = metrics.auc(fpr, tpr)\n",
    "# add auc to table\n",
    "auc_by_model_df.loc['Best kNN model','AUC'] = roc_auc"
   ]
  },
  {
   "cell_type": "code",
   "execution_count": 77,
   "metadata": {},
   "outputs": [],
   "source": [
    "# AUC Best PCA model\n",
    "fpr, tpr, thresholds = metrics.roc_curve(y_test, best_pca_model.predict_proba(pcaX_df_test.iloc[:,:2])[:,1])\n",
    "roc_auc = metrics.auc(fpr, tpr)\n",
    "# add auc to table\n",
    "auc_by_model_df.loc['Best PCA model','AUC'] = roc_auc"
   ]
  },
  {
   "cell_type": "code",
   "execution_count": 79,
   "metadata": {},
   "outputs": [
    {
     "name": "stdout",
     "output_type": "stream",
     "text": [
      "Comparing AUC's between different type of models:\n"
     ]
    },
    {
     "data": {
      "text/html": [
       "<style  type=\"text/css\" >\n",
       "</style><table id=\"T_5008314e_e820_11eb_adb9_acde48001122\" ><thead>    <tr>        <th class=\"blank level0\" ></th>        <th class=\"col_heading level0 col0\" >AUC</th>    </tr></thead><tbody>\n",
       "                <tr>\n",
       "                        <th id=\"T_5008314e_e820_11eb_adb9_acde48001122level0_row0\" class=\"row_heading level0 row0\" >Best logistic model</th>\n",
       "                        <td id=\"T_5008314e_e820_11eb_adb9_acde48001122row0_col0\" class=\"data row0 col0\" >87.2%</td>\n",
       "            </tr>\n",
       "            <tr>\n",
       "                        <th id=\"T_5008314e_e820_11eb_adb9_acde48001122level0_row1\" class=\"row_heading level0 row1\" >Best kNN model</th>\n",
       "                        <td id=\"T_5008314e_e820_11eb_adb9_acde48001122row1_col0\" class=\"data row1 col0\" >87.1%</td>\n",
       "            </tr>\n",
       "            <tr>\n",
       "                        <th id=\"T_5008314e_e820_11eb_adb9_acde48001122level0_row2\" class=\"row_heading level0 row2\" >Best PCA model</th>\n",
       "                        <td id=\"T_5008314e_e820_11eb_adb9_acde48001122row2_col0\" class=\"data row2 col0\" >83.3%</td>\n",
       "            </tr>\n",
       "    </tbody></table>"
      ],
      "text/plain": [
       "<pandas.io.formats.style.Styler at 0x7f89af869dd0>"
      ]
     },
     "execution_count": 79,
     "metadata": {},
     "output_type": "execute_result"
    }
   ],
   "source": [
    "# display the rates by model in percentage format\n",
    "print(\"Comparing AUC's between different type of models:\")\n",
    "auc_by_model_df.style.format({\n",
    "    'AUC': '{:,.1%}'.format,\n",
    "})"
   ]
  },
  {
   "cell_type": "code",
   "execution_count": 113,
   "metadata": {},
   "outputs": [
    {
     "name": "stdout",
     "output_type": "stream",
     "text": [
      "Object `XCS` not found.\n"
     ]
    }
   ],
   "source": [
    "#####\n",
    "#Make ROC curves to evaluate a model's overall useability.\n",
    "#####\n",
    "\n",
    "plt.rcParams['figure.dpi'] = 120\n",
    "from sklearn.metrics import roc_curve, auc\n",
    "import seaborn as sns\n",
    "\n",
    "# a function to make 'pretty' ROC curves for this model\n",
    "def make_roc(name, clf, ytest, xtest, ax=None, labe=5, proba=True, skip=0):\n",
    "    initial=False\n",
    "    if not ax:\n",
    "        ax=plt.gca()\n",
    "        initial=True\n",
    "    if proba:#for stuff like logistic regression\n",
    "        fpr, tpr, thresholds=roc_curve(ytest, clf.predict_proba(xtest)[:,1])\n",
    "        \n",
    "    roc_auc = auc(fpr, tpr)\n",
    "    if skip:\n",
    "        l=fpr.shape[0]\n",
    "        ax.plot(fpr[0:l:skip], tpr[0:l:skip], '.-', alpha=0.3, label='ROC curve for %s (area = %0.2f)' % (name, roc_auc))\n",
    "    else:\n",
    "        ax.plot(fpr, tpr, '.-', alpha=0.3, label='ROC curve for %s (area = %0.2f)' % (name, roc_auc))\n",
    "    label_kwargs = {}\n",
    "    label_kwargs['bbox'] = dict(\n",
    "        boxstyle='round,pad=0.3', alpha=0.2, mutation_scale =1\n",
    "    )\n",
    "    if labe!=None:\n",
    "        for k in range(0, fpr.shape[0],labe):\n",
    "            #from https://gist.github.com/podshumok/c1d1c9394335d86255b8\n",
    "            threshold = str(np.round(thresholds[k], 2))\n",
    "            ax.annotate(threshold, (fpr[k], tpr[k]), **label_kwargs)\n",
    "    if initial:\n",
    "        ax.plot([0, 1], [0, 1], 'k--')\n",
    "        ax.set_xlim([0.0, 1.0])\n",
    "        ax.set_ylim([0.0, 1.05]) \n",
    "        ax.set_xlabel('False Positive Rate')\n",
    "        ax.set_ylabel('True Positive Rate')\n",
    "        ax.set_title('ROC')\n",
    "    ax.legend()\n",
    "    return ax\n",
    "\n",
    "?XCS\n",
    "    \n"
   ]
  },
  {
   "cell_type": "code",
   "execution_count": 116,
   "metadata": {},
   "outputs": [
    {
     "data": {
      "image/png": "[encoded data removed]",
      "text/plain": [
       "<Figure size 720x480 with 1 Axes>"
      ]
     },
     "metadata": {
      "needs_background": "light"
     },
     "output_type": "display_data"
    }
   ],
   "source": [
    "# @Sunil This doesn't look great, but the example from teh lab looks the same on my computer\n",
    "make_roc(\"Logistic\", best_reg_model, y_test, X_test, ax=None, labe=5, proba=True, skip=1);"
   ]
  },
  {
   "cell_type": "markdown",
   "metadata": {},
   "source": [
    "*your answer here*"
   ]
  },
  {
   "cell_type": "markdown",
   "metadata": {},
   "source": [
    "**6.3 Based on AUC, is there one clear stand-out winner or are a lot of models similar in prediction?  If you were to predict real cancer patients, how would use these models to predict cancer type?**"
   ]
  },
  {
   "cell_type": "markdown",
   "metadata": {},
   "source": [
    "*your answer here*\n"
   ]
  },
  {
   "cell_type": "markdown",
   "metadata": {},
   "source": [
    "<hr style=\"height:2pt\">"
   ]
  },
  {
   "cell_type": "markdown",
   "metadata": {},
   "source": [
    "\n",
    "**Additional Information**\n",
    "\n",
    "Acute Lymphoblastic Leukemia (ALL):\n",
    "- About 98% of children with ALL go into remission within weeks after starting treatment.\n",
    "- About 90% of those children can be cured. Patients are considered cured after 10 years in remission.\n",
    "\n",
    "Acute Myeloid Leukemia (AML):\n",
    "- In general, children with AML are seen as lower risk than adults. \n",
    "- Around 85 to 90 percent of children with AML will go into remission after induction, according to the American Cancer Society. AML will return in some cases.  \n",
    "- The five-year-survival-rate for children with AML is 60 to 70 percent."
   ]
  },
  {
   "cell_type": "markdown",
   "metadata": {},
   "source": [
    "<hr style=\"height:2pt\">"
   ]
  }
 ],
 "metadata": {
  "anaconda-cloud": {},
  "kernelspec": {
   "display_name": "Python 3",
   "language": "python",
   "name": "python3"
  },
  "language_info": {
   "codemirror_mode": {
    "name": "ipython",
    "version": 3
   },
   "file_extension": ".py",
   "mimetype": "text/x-python",
   "name": "python",
   "nbconvert_exporter": "python",
   "pygments_lexer": "ipython3",
   "version": "3.7.4"
  }
 },
 "nbformat": 4,
 "nbformat_minor": 2
}
