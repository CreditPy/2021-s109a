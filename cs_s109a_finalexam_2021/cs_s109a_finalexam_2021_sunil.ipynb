{
 "cells": [
  {
   "cell_type": "markdown",
   "metadata": {
    "button": false,
    "new_sheet": false,
    "run_control": {
     "read_only": false
    }
   },
   "source": [
    "# <img style=\"float: left; padding-right: 10px; width: 45px\" src=\"https://github.com/Harvard-IACS/2021-s109a/blob/master/lectures/crest.png?raw=true\"> CS-S109A Introduction to Data Science \n",
    "\n",
    "## Final Exam: COVID-19 Modeling\n",
    "\n",
    "**Harvard University**<br/>\n",
    "**Summer 2021**<br/>\n",
    "**Instructors**: Kevin Rader\n",
    "\n",
    "\n",
    "<hr style='height:2px'>\n",
    "\n",
    "---\n",
    "\n"
   ]
  },
  {
   "cell_type": "markdown",
   "metadata": {},
   "source": [
    "### INSTRUCTIONS\n",
    "\n",
    "- This final exam is to be completed indivudally.  Do not consult with your peers when working on it (you can aks the teaching staff for clarification questions, including private messages on Ed).\n",
    "- To submit your assignment follow the instructions given in Canvas.\n",
    "- Restart the kernel and run the whole notebook again before you submit. \n",
    "- As much as possible, try and stick to the hints and functions we import at the top of the homework, as those are the ideas and tools the class supports and is aiming to teach. And if a problem specifies a particular library you're required to use that library, and possibly others from the import list.\n",
    "- Please use .head() when viewing data. Do not submit a notebook that is excessively long because output was not suppressed or otherwise limited. \n",
    "\n",
    "**Note: for all problems, it is up to you to decide how to transform the data (standardization, log transformations, etc.).  Be sure you use and interpret theses transformations approporiately.**"
   ]
  },
  {
   "cell_type": "code",
   "execution_count": 1,
   "metadata": {},
   "outputs": [],
   "source": [
    "import numpy as np\n",
    "import pandas as pd\n",
    "import scipy as sp\n",
    "import sklearn as sk\n",
    "import statsmodels as sm\n",
    "import matplotlib.pyplot as plt\n",
    "import seaborn as sns\n",
    "\n",
    "# You are free to use any functions/methods within these packages (BS4, ELI5, and LIME are fine too)\n",
    "# if you would like to use any other, please contact hte teaching staff "
   ]
  },
  {
   "cell_type": "markdown",
   "metadata": {},
   "source": [
    "<hr style=\"height:2pt\">"
   ]
  },
  {
   "cell_type": "markdown",
   "metadata": {},
   "source": [
    "# Analyzing the recent spread of COVID-19 \n",
    "\n",
    "![](fig/vaccine.jpeg)"
   ]
  },
  {
   "cell_type": "markdown",
   "metadata": {},
   "source": [
    "You are tasked with using the COVID case and vaccination data across counties presented by the CDC to analyze the recent surge in COVID infections and the association with (amonth other predictors).  You are also tasked with building prediction models to forecast how the disease spread will change based on data from the previous week (and  demographic and other measures.\n",
    "\n",
    "The exam broken into 4 problems:\n",
    "- Problem 1: Data Wrangling and Explorations\n",
    "- Problem 2: Interpretive Linear Regression Modeling\n",
    "- Problem 3: Prediction Modeling\n",
    "- Problem 4: Further Analysis\n",
    "\n",
    "You are provided with four raw data files, and a 5th cleaned file is provided to be used for all EDA and modeling tasks."
   ]
  },
  {
   "cell_type": "markdown",
   "metadata": {},
   "source": [
    "The variables included in each of the four raw data sets are:\n",
    "\n",
    "For 'covid_cases_county.csv' (note: counties show up many times in this dataset: once for each data they report the number of cases):\n",
    "- `date`: the date of the measurement, taken weekly\n",
    "- `county`: county name\n",
    "- `state`: the state in which the county lies\n",
    "- `fips`: the unique Federal Information Processing System (FIPS) codes for the county\n",
    "- `cases`: the cumulative number of confirmed positive cases up to and including that date\n",
    "- `deaths`: the cumulative number of confirmed COVID-related deaths up to and including that date\n",
    "\n",
    "\n",
    "For 'vaccines_county.csv' (note: counties show up many times in this dataset: once for each data they report the number of cases):\n",
    "- `date`: the date of the measurement, taken weekly\n",
    "- `fips`: the unique FIPS code for the county\n",
    "- `fully`: the percent of residents that are fully vaccinated in the county on that date\n",
    "- `dose1`: the percent of residents that have received at least one vaccine dose in the county on that date.\n",
    "\n",
    "For 'masks_county.csv' (note: this is based on a survey conducted by the New York Times in summer of 2020):\n",
    "- `fips`: the unique FIPS code for the county\n",
    "- `never`: the percent of respondents that report they never wore masks in public\n",
    "- `rarely`: the percent of respondents that report they rarely wore masks in public\n",
    "- `sometimes`: the percent of respondents that report they sometimes wore masks in public\t\n",
    "- `frequently`: the percent of respondents that report they frequently wore masks in public\t\n",
    "- `always`: the percent of respondents that report they always wore masks in public\n",
    "\n",
    "For 'demographics_county.csv' (note: these are various measures taken from 2010 to 2020):\n",
    "- `fips`: the unique FIPS code for the county\n",
    "- `population`: total number of residents in the country\t\n",
    "- `hispanic`: the percentage of residents that self-identify as hispanic\n",
    "- `minority`: the percentage of residents that self-identify as a minority group (non-white)\n",
    "- `female`: the percentage of residents that self-identify as female\n",
    "- `unemployed`: the percentage of residents that are unemployed\n",
    "- `income`: the median household income, in thousnads of dollards\n",
    "- `nodegree`: the percentage of residents that report not having graduated high school\n",
    "- `bachelor`: the percentage of residents that report having a college degree\n",
    "- `inactivity`: the percentage of residents that get less than 1 hour of vigorous exercise a week\n",
    "- `obesity`: the percentage of residents that are considered obese based on BMI\n",
    "- `density`: the population density (residents per square mile)\n",
    "- `votergap20`: Biden voting percentage minus Trump voting percentage in the 2020 election\n",
    "- `votergap16`: Clinton voting percentage minus Trump voting percentage in the 2016 election\n",
    "\n",
    "\n",
    "### Data Sources\n",
    "- Vaccinations [here](https://data.cdc.gov/Vaccinations/COVID-19-Vaccinations-in-the-United-States-County/8xkx-amqh).\n",
    "- Cases [here](https://github.com/nytimes/covid-19-data).\n",
    "- Mask Usage [here](https://github.com/nytimes/covid-19-data/tree/master/mask-use).\n",
    "- Demographics [here](https://www.ers.usda.gov/data-products/county-level-data-sets/) \n",
    "- 2020 Election [here](https://dataverse.harvard.edu/dataset.xhtml?persistentId=doi:10.7910/DVN/VOQCHQ)\n",
    "\n"
   ]
  },
  {
   "cell_type": "markdown",
   "metadata": {},
   "source": [
    "## Question 1 [25pts]: Data Wrangling and Explorations </b></div>\n",
    "\n",
    "**1.1** Load the data sets as follows:\n",
    "- 'covid_cases_county.csv' as `covid_raw` \n",
    "- 'vaccines_county.csv' as `vaccines_raw`\n",
    "- 'masks_county.csv' as `masks`\n",
    "- 'demographics_county.csv' as `demo` \n",
    "\n",
    "**1.2** Create a subset of the `covid_raw` data frame that only contains the measures for 5 dates: June 27 and July 4, 11, 18 and 25.  Do the same for the `vaccines_raw`.  Call these subsets `covid` and `vaccines`, respectively, and print out their dimensions (aka, shapes).\n",
    "\n",
    "**1.3** Determine and print the number of counties that are measured for each time period in `covid` and `vaccines` (do not print out the list of counties, just the number/count).  Comment on what this implies for presence of missing data.\n",
    "\n",
    "**1.4** Process both `covid` and `vaccines` so that each county is represented by a single row in each data frame (rather than having 5 separate rows for each county: 1 for each time period in part 1.2).  Call these new generate Pandas data frames `covid_by_county` and `vaccines_by_county` separately.  Print out the dimensions of each resulting data frame, and view the header of `covid_by_county`.  Note: you should use informative names for the columns in the resulting data frames: for example, `cases_w30` for the cumulative number of cases on July 25 (it's the 30th week of the calendar year).\n",
    "\n",
    "**Hint**: Splitting based on dates and then using `pd.DataFrame.merge` (source)[https://pandas.pydata.org/docs/reference/api/pandas.DataFrame.merge.html] could be helpful for this task using the `fips` code as the keys to join on (you should drop any counties that are not measured in all time periods...the default argument for `how` in `pd.DataFrame.merge` will behave this way).\n",
    "\n",
    "**1.5** Merge the 4 data fames (`covid_by_county`, `vaccines_by_county`, `masks`, and `demo`) based on `fips` and save the result as `covid_merged` (you should drop any counties that are not measured in all 4 data frames).  Determine and report how many counties were dropped from `demo` in this process, and view the header of `covid_merged`.\n",
    "\n",
    "**1.6** Use `covid_merged` to calculate the novel case rate (per 1000 residents) for each of the weeks for all of the counties, and save these as 4 new well-named variables in `covid_merged`.  For example, `rate_w30` can mathematically be represented as `1000*(cases_30-cases_29)/population`.  Plot the histogram of the novel case rate in week 29, `rate_w29`, and comment on what you notice.\n",
    "\n",
    "**1.7** We did the steps above (and some other minimal processing) and saved the results in `covid_clean.csv` for you.  Use this data file to answer some exploratory questions and all future analyses: \n",
    "\n",
    "1. Has the overall average case rate increased from week 28 (July 5-11) to week 29 (July 12-18)?  \n",
    "2. Treating the counties as separate and equal observations: in what states did the case rate increase the most?  In what states did the case rate decrease the most (or increse the least)?  List the top 5 for each.  Do you notice any patterns in these states?\n",
    "3. Create and interpret separate visuals to display how the country case rate in week 29 relates to each of the following variables. Interpret what you see (be specific to this domain).\n",
    "\n",
    "    a. The political views in the county (as measured by the votergap in the 2020 election).\n",
    "    \n",
    "    b. The vaccination rate in the county (for week 28) (be sure to throw away the zeros as these represent unreported values).\n",
    "    \n",
    "    c. The population density of the county.\n",
    "    \n",
    "    d. Whether 50% or more of the surveyed residents in the county report that they always wore a mask in public at the time of the survey."
   ]
  },
  {
   "cell_type": "markdown",
   "metadata": {},
   "source": [
    "## Answers"
   ]
  },
  {
   "cell_type": "markdown",
   "metadata": {},
   "source": [
    "**1.1** Load the data sets as follows:\n",
    "- 'covid_cases_county.csv' as `covid_raw` \n",
    "- 'vaccines_county.csv' as `vaccines_raw`\n",
    "- 'masks_county.csv' as `masks`\n",
    "- 'demographics_county.csv' as `demo` \n",
    "\n",
    "Print out each of their dimensions (aka, shapes)."
   ]
  },
  {
   "cell_type": "code",
   "execution_count": 3,
   "metadata": {},
   "outputs": [
    {
     "name": "stdout",
     "output_type": "stream",
     "text": [
      "6 columns and  97394 rows in covid data\n",
      "4 columns and  96720 rows in vaccines  data\n",
      "6 columns and  3142 rows in masks  data\n",
      "14 columns and  3114 rows in demographics  data\n"
     ]
    }
   ],
   "source": [
    "# Load data\n",
    "covid_raw = pd.read_csv('data/covid_cases_county.csv')\n",
    "vaccines_raw = pd.read_csv('data/vaccines_county.csv')\n",
    "masks = pd.read_csv('data/masks_county.csv')\n",
    "demo = pd.read_csv('data/demographics_county.csv')\n",
    "\n",
    "# print shapes of the datasets\n",
    "print(covid_raw.shape[1],\"columns and \",covid_raw.shape[0],\"rows in covid data\")\n",
    "print(vaccines_raw.shape[1],\"columns and \",vaccines_raw.shape[0],\"rows in vaccines data\")\n",
    "print(masks.shape[1],\"columns and \",masks.shape[0],\"rows in masks data\")\n",
    "print(demo.shape[1],\"columns and \",demo.shape[0],\"rows in demographics data\")"
   ]
  },
  {
   "cell_type": "markdown",
   "metadata": {},
   "source": [
    "**1.2** Create a subset of the `covid_raw` data frame that only contains the measures for 5 dates: June 27 and July 4, 11, 18 and 25.  Do the same for the `vaccines_raw`.  Call these subsets `covid` and `vaccines`, respectively, and print out their dimensions (aka, shapes).\n"
   ]
  },
  {
   "cell_type": "code",
   "execution_count": 5,
   "metadata": {},
   "outputs": [
    {
     "data": {
      "text/html": [
       "<div>\n",
       "<style scoped>\n",
       "    .dataframe tbody tr th:only-of-type {\n",
       "        vertical-align: middle;\n",
       "    }\n",
       "\n",
       "    .dataframe tbody tr th {\n",
       "        vertical-align: top;\n",
       "    }\n",
       "\n",
       "    .dataframe thead th {\n",
       "        text-align: right;\n",
       "    }\n",
       "</style>\n",
       "<table border=\"1\" class=\"dataframe\">\n",
       "  <thead>\n",
       "    <tr style=\"text-align: right;\">\n",
       "      <th></th>\n",
       "      <th>date</th>\n",
       "      <th>county</th>\n",
       "      <th>state</th>\n",
       "      <th>fips</th>\n",
       "      <th>cases</th>\n",
       "      <th>deaths</th>\n",
       "    </tr>\n",
       "  </thead>\n",
       "  <tbody>\n",
       "    <tr>\n",
       "      <th>0</th>\n",
       "      <td>2021-01-03</td>\n",
       "      <td>Autauga</td>\n",
       "      <td>Alabama</td>\n",
       "      <td>1001.0</td>\n",
       "      <td>4305</td>\n",
       "      <td>50.0</td>\n",
       "    </tr>\n",
       "    <tr>\n",
       "      <th>1</th>\n",
       "      <td>2021-01-03</td>\n",
       "      <td>Baldwin</td>\n",
       "      <td>Alabama</td>\n",
       "      <td>1003.0</td>\n",
       "      <td>14064</td>\n",
       "      <td>169.0</td>\n",
       "    </tr>\n",
       "    <tr>\n",
       "      <th>2</th>\n",
       "      <td>2021-01-03</td>\n",
       "      <td>Barbour</td>\n",
       "      <td>Alabama</td>\n",
       "      <td>1005.0</td>\n",
       "      <td>1530</td>\n",
       "      <td>33.0</td>\n",
       "    </tr>\n",
       "    <tr>\n",
       "      <th>3</th>\n",
       "      <td>2021-01-03</td>\n",
       "      <td>Bibb</td>\n",
       "      <td>Alabama</td>\n",
       "      <td>1007.0</td>\n",
       "      <td>1882</td>\n",
       "      <td>46.0</td>\n",
       "    </tr>\n",
       "    <tr>\n",
       "      <th>4</th>\n",
       "      <td>2021-01-03</td>\n",
       "      <td>Blount</td>\n",
       "      <td>Alabama</td>\n",
       "      <td>1009.0</td>\n",
       "      <td>4746</td>\n",
       "      <td>63.0</td>\n",
       "    </tr>\n",
       "  </tbody>\n",
       "</table>\n",
       "</div>"
      ],
      "text/plain": [
       "         date   county    state    fips  cases  deaths\n",
       "0  2021-01-03  Autauga  Alabama  1001.0   4305    50.0\n",
       "1  2021-01-03  Baldwin  Alabama  1003.0  14064   169.0\n",
       "2  2021-01-03  Barbour  Alabama  1005.0   1530    33.0\n",
       "3  2021-01-03     Bibb  Alabama  1007.0   1882    46.0\n",
       "4  2021-01-03   Blount  Alabama  1009.0   4746    63.0"
      ]
     },
     "execution_count": 5,
     "metadata": {},
     "output_type": "execute_result"
    }
   ],
   "source": [
    "# take a look at the covid dataset\n",
    "covid_raw.head()"
   ]
  },
  {
   "cell_type": "code",
   "execution_count": 8,
   "metadata": {},
   "outputs": [
    {
     "name": "stdout",
     "output_type": "stream",
     "text": [
      "6 columns and  16227 rows in covid data\n"
     ]
    },
    {
     "data": {
      "text/plain": [
       "array(['2021-06-27', '2021-07-04', '2021-07-11', '2021-07-18',\n",
       "       '2021-07-25'], dtype=object)"
      ]
     },
     "execution_count": 8,
     "metadata": {},
     "output_type": "execute_result"
    }
   ],
   "source": [
    "# subset the covid dataset to selected dates\n",
    "covid = covid_raw.loc[\n",
    "    (covid_raw['date']=='2021-06-27') |\n",
    "    (covid_raw['date']=='2021-07-04') |\n",
    "    (covid_raw['date']=='2021-07-11') |\n",
    "    (covid_raw['date']=='2021-07-18') |\n",
    "    (covid_raw['date']=='2021-07-25')\n",
    "    , :]\n",
    "print(covid.shape[1],\"columns and \",covid.shape[0],\"rows in covid data\")\n",
    "\n",
    "# Check if data has only 5 dates: June 27 and July 4, 11, 18 and 25.\n",
    "covid.date.unique()"
   ]
  },
  {
   "cell_type": "code",
   "execution_count": 9,
   "metadata": {},
   "outputs": [
    {
     "data": {
      "text/html": [
       "<div>\n",
       "<style scoped>\n",
       "    .dataframe tbody tr th:only-of-type {\n",
       "        vertical-align: middle;\n",
       "    }\n",
       "\n",
       "    .dataframe tbody tr th {\n",
       "        vertical-align: top;\n",
       "    }\n",
       "\n",
       "    .dataframe thead th {\n",
       "        text-align: right;\n",
       "    }\n",
       "</style>\n",
       "<table border=\"1\" class=\"dataframe\">\n",
       "  <thead>\n",
       "    <tr style=\"text-align: right;\">\n",
       "      <th></th>\n",
       "      <th>date</th>\n",
       "      <th>fips</th>\n",
       "      <th>fully</th>\n",
       "      <th>dose1</th>\n",
       "    </tr>\n",
       "  </thead>\n",
       "  <tbody>\n",
       "    <tr>\n",
       "      <th>0</th>\n",
       "      <td>2021-07-25</td>\n",
       "      <td>1001</td>\n",
       "      <td>26.0</td>\n",
       "      <td>34.0</td>\n",
       "    </tr>\n",
       "    <tr>\n",
       "      <th>1</th>\n",
       "      <td>2021-07-25</td>\n",
       "      <td>1003</td>\n",
       "      <td>31.4</td>\n",
       "      <td>40.5</td>\n",
       "    </tr>\n",
       "    <tr>\n",
       "      <th>2</th>\n",
       "      <td>2021-07-25</td>\n",
       "      <td>1005</td>\n",
       "      <td>27.6</td>\n",
       "      <td>34.3</td>\n",
       "    </tr>\n",
       "    <tr>\n",
       "      <th>3</th>\n",
       "      <td>2021-07-25</td>\n",
       "      <td>1007</td>\n",
       "      <td>22.5</td>\n",
       "      <td>29.4</td>\n",
       "    </tr>\n",
       "    <tr>\n",
       "      <th>4</th>\n",
       "      <td>2021-07-25</td>\n",
       "      <td>1009</td>\n",
       "      <td>19.3</td>\n",
       "      <td>24.2</td>\n",
       "    </tr>\n",
       "  </tbody>\n",
       "</table>\n",
       "</div>"
      ],
      "text/plain": [
       "         date  fips  fully  dose1\n",
       "0  2021-07-25  1001   26.0   34.0\n",
       "1  2021-07-25  1003   31.4   40.5\n",
       "2  2021-07-25  1005   27.6   34.3\n",
       "3  2021-07-25  1007   22.5   29.4\n",
       "4  2021-07-25  1009   19.3   24.2"
      ]
     },
     "execution_count": 9,
     "metadata": {},
     "output_type": "execute_result"
    }
   ],
   "source": [
    "# take a look at the vaccine dataset\n",
    "vaccines_raw.head()"
   ]
  },
  {
   "cell_type": "code",
   "execution_count": 10,
   "metadata": {},
   "outputs": [
    {
     "name": "stdout",
     "output_type": "stream",
     "text": [
      "4 columns and  16120 rows in vaccinces data\n"
     ]
    },
    {
     "data": {
      "text/plain": [
       "array(['2021-07-25', '2021-07-18', '2021-07-11', '2021-07-04',\n",
       "       '2021-06-27'], dtype=object)"
      ]
     },
     "execution_count": 10,
     "metadata": {},
     "output_type": "execute_result"
    }
   ],
   "source": [
    "# subset the vaccinces dataset to selected dates\n",
    "vaccines = vaccines_raw.loc[\n",
    "    (vaccines_raw['date']=='2021-06-27') |\n",
    "    (vaccines_raw['date']=='2021-07-04') |\n",
    "    (vaccines_raw['date']=='2021-07-11') |\n",
    "    (vaccines_raw['date']=='2021-07-18') |\n",
    "    (vaccines_raw['date']=='2021-07-25')\n",
    "    , :]\n",
    "print(vaccines.shape[1],\"columns and \",vaccines.shape[0],\"rows in vaccinces data\")\n",
    "\n",
    "# Check if data has only 5 dates: June 27 and July 4, 11, 18 and 25.\n",
    "vaccines.date.unique()"
   ]
  },
  {
   "cell_type": "markdown",
   "metadata": {},
   "source": [
    "**1.3** Determine and print the number of counties that are measured for each time period in `covid` and `vaccines` (do not print out the list of counties, just the number/count).  Comment on what this implies for presence of missing data.\n"
   ]
  },
  {
   "cell_type": "code",
   "execution_count": 53,
   "metadata": {},
   "outputs": [
    {
     "name": "stdout",
     "output_type": "stream",
     "text": [
      "Number of counties per day in covid dataset:\n"
     ]
    },
    {
     "data": {
      "text/html": [
       "<div>\n",
       "<style scoped>\n",
       "    .dataframe tbody tr th:only-of-type {\n",
       "        vertical-align: middle;\n",
       "    }\n",
       "\n",
       "    .dataframe tbody tr th {\n",
       "        vertical-align: top;\n",
       "    }\n",
       "\n",
       "    .dataframe thead tr th {\n",
       "        text-align: left;\n",
       "    }\n",
       "\n",
       "    .dataframe thead tr:last-of-type th {\n",
       "        text-align: right;\n",
       "    }\n",
       "</style>\n",
       "<table border=\"1\" class=\"dataframe\">\n",
       "  <thead>\n",
       "    <tr>\n",
       "      <th></th>\n",
       "      <th colspan=\"2\" halign=\"left\">county</th>\n",
       "      <th colspan=\"2\" halign=\"left\">fips</th>\n",
       "    </tr>\n",
       "    <tr>\n",
       "      <th></th>\n",
       "      <th>count</th>\n",
       "      <th>nunique</th>\n",
       "      <th>count</th>\n",
       "      <th>nunique</th>\n",
       "    </tr>\n",
       "    <tr>\n",
       "      <th>date</th>\n",
       "      <th></th>\n",
       "      <th></th>\n",
       "      <th></th>\n",
       "      <th></th>\n",
       "    </tr>\n",
       "  </thead>\n",
       "  <tbody>\n",
       "    <tr>\n",
       "      <th>2021-06-27</th>\n",
       "      <td>3245</td>\n",
       "      <td>1930</td>\n",
       "      <td>3245</td>\n",
       "      <td>3219</td>\n",
       "    </tr>\n",
       "    <tr>\n",
       "      <th>2021-07-04</th>\n",
       "      <td>3245</td>\n",
       "      <td>1930</td>\n",
       "      <td>3245</td>\n",
       "      <td>3219</td>\n",
       "    </tr>\n",
       "    <tr>\n",
       "      <th>2021-07-11</th>\n",
       "      <td>3245</td>\n",
       "      <td>1930</td>\n",
       "      <td>3245</td>\n",
       "      <td>3219</td>\n",
       "    </tr>\n",
       "    <tr>\n",
       "      <th>2021-07-18</th>\n",
       "      <td>3246</td>\n",
       "      <td>1930</td>\n",
       "      <td>3246</td>\n",
       "      <td>3219</td>\n",
       "    </tr>\n",
       "    <tr>\n",
       "      <th>2021-07-25</th>\n",
       "      <td>3246</td>\n",
       "      <td>1930</td>\n",
       "      <td>3246</td>\n",
       "      <td>3219</td>\n",
       "    </tr>\n",
       "  </tbody>\n",
       "</table>\n",
       "</div>"
      ],
      "text/plain": [
       "           county          fips        \n",
       "            count nunique count nunique\n",
       "date                                   \n",
       "2021-06-27   3245    1930  3245    3219\n",
       "2021-07-04   3245    1930  3245    3219\n",
       "2021-07-11   3245    1930  3245    3219\n",
       "2021-07-18   3246    1930  3246    3219\n",
       "2021-07-25   3246    1930  3246    3219"
      ]
     },
     "execution_count": 53,
     "metadata": {},
     "output_type": "execute_result"
    }
   ],
   "source": [
    "# count the number of counties per day in the covid dataset\n",
    "counties_by_day = covid.groupby('date')[['county','fips']].agg(['count', 'nunique'])\n",
    "print(\"Number of counties per day in covid dataset:\")\n",
    "counties_by_day.head()"
   ]
  },
  {
   "cell_type": "markdown",
   "metadata": {},
   "source": [
    "**Comment:** There is one additional county observasation for July 18th and 25th. If we look at unique count we have 3219 counties for all dates. We should consider grouping the data by date and fips (Get one row per date and county combination) "
   ]
  },
  {
   "cell_type": "code",
   "execution_count": 54,
   "metadata": {},
   "outputs": [
    {
     "name": "stdout",
     "output_type": "stream",
     "text": [
      "Number of counties per day in vaccines dataset:\n"
     ]
    },
    {
     "data": {
      "text/html": [
       "<div>\n",
       "<style scoped>\n",
       "    .dataframe tbody tr th:only-of-type {\n",
       "        vertical-align: middle;\n",
       "    }\n",
       "\n",
       "    .dataframe tbody tr th {\n",
       "        vertical-align: top;\n",
       "    }\n",
       "\n",
       "    .dataframe thead th {\n",
       "        text-align: right;\n",
       "    }\n",
       "</style>\n",
       "<table border=\"1\" class=\"dataframe\">\n",
       "  <thead>\n",
       "    <tr style=\"text-align: right;\">\n",
       "      <th></th>\n",
       "      <th>count</th>\n",
       "      <th>nunique</th>\n",
       "    </tr>\n",
       "    <tr>\n",
       "      <th>date</th>\n",
       "      <th></th>\n",
       "      <th></th>\n",
       "    </tr>\n",
       "  </thead>\n",
       "  <tbody>\n",
       "    <tr>\n",
       "      <th>2021-06-27</th>\n",
       "      <td>3224</td>\n",
       "      <td>3224</td>\n",
       "    </tr>\n",
       "    <tr>\n",
       "      <th>2021-07-04</th>\n",
       "      <td>3224</td>\n",
       "      <td>3224</td>\n",
       "    </tr>\n",
       "    <tr>\n",
       "      <th>2021-07-11</th>\n",
       "      <td>3224</td>\n",
       "      <td>3224</td>\n",
       "    </tr>\n",
       "    <tr>\n",
       "      <th>2021-07-18</th>\n",
       "      <td>3224</td>\n",
       "      <td>3224</td>\n",
       "    </tr>\n",
       "    <tr>\n",
       "      <th>2021-07-25</th>\n",
       "      <td>3224</td>\n",
       "      <td>3224</td>\n",
       "    </tr>\n",
       "  </tbody>\n",
       "</table>\n",
       "</div>"
      ],
      "text/plain": [
       "            count  nunique\n",
       "date                      \n",
       "2021-06-27   3224     3224\n",
       "2021-07-04   3224     3224\n",
       "2021-07-11   3224     3224\n",
       "2021-07-18   3224     3224\n",
       "2021-07-25   3224     3224"
      ]
     },
     "execution_count": 54,
     "metadata": {},
     "output_type": "execute_result"
    }
   ],
   "source": [
    "# count the number of counties per day in the covid dataset\n",
    "vaccines_counties_by_day = vaccines.groupby('date')['fips'].agg(['count', 'nunique'])\n",
    "print(\"Number of counties per day in vaccines dataset:\")\n",
    "vaccines_counties_by_day.head()"
   ]
  },
  {
   "cell_type": "markdown",
   "metadata": {},
   "source": [
    "**Comment:** All the dates have same number of county rows. There are more counties reported in vaccines compared to covid data. We need to be careful when we join with covid dataset"
   ]
  },
  {
   "cell_type": "code",
   "execution_count": 63,
   "metadata": {},
   "outputs": [
    {
     "name": "stdout",
     "output_type": "stream",
     "text": [
      "Number of FIPS per day by county:\n",
      "Empty DataFrame\n",
      "Columns: [fips]\n",
      "Index: []\n",
      "                      fips\n",
      "date       county         \n",
      "2021-06-27 Adair         4\n",
      "           Adams        12\n",
      "           Albany        2\n",
      "           Alexander     2\n",
      "           Allegany      2\n"
     ]
    }
   ],
   "source": [
    "# assess if there's a one-to-one relationships between counties and FIPS\n",
    "fips_df = covid.groupby(['date','county']).agg({'fips': 'count',})\n",
    "print(\"Number of FIPS per day by county:\")\n",
    "print(fips_df[fips_df['fips'] == 0].head())\n",
    "print(fips_df[fips_df['fips'] > 1].head())"
   ]
  },
  {
   "cell_type": "code",
   "execution_count": 55,
   "metadata": {},
   "outputs": [
    {
     "data": {
      "text/html": [
       "<div>\n",
       "<style scoped>\n",
       "    .dataframe tbody tr th:only-of-type {\n",
       "        vertical-align: middle;\n",
       "    }\n",
       "\n",
       "    .dataframe tbody tr th {\n",
       "        vertical-align: top;\n",
       "    }\n",
       "\n",
       "    .dataframe thead th {\n",
       "        text-align: right;\n",
       "    }\n",
       "</style>\n",
       "<table border=\"1\" class=\"dataframe\">\n",
       "  <thead>\n",
       "    <tr style=\"text-align: right;\">\n",
       "      <th></th>\n",
       "      <th>date</th>\n",
       "      <th>county</th>\n",
       "      <th>state</th>\n",
       "      <th>fips</th>\n",
       "      <th>cases</th>\n",
       "      <th>deaths</th>\n",
       "    </tr>\n",
       "  </thead>\n",
       "  <tbody>\n",
       "    <tr>\n",
       "      <th>82713</th>\n",
       "      <td>2021-06-27</td>\n",
       "      <td>Joplin</td>\n",
       "      <td>Missouri</td>\n",
       "      <td>-9.223372e+18</td>\n",
       "      <td>6567</td>\n",
       "      <td>111.0</td>\n",
       "    </tr>\n",
       "  </tbody>\n",
       "</table>\n",
       "</div>"
      ],
      "text/plain": [
       "             date  county     state          fips  cases  deaths\n",
       "82713  2021-06-27  Joplin  Missouri -9.223372e+18   6567   111.0"
      ]
     },
     "execution_count": 55,
     "metadata": {},
     "output_type": "execute_result"
    }
   ],
   "source": [
    "# Check the issue with Joplin county \n",
    "covid[(covid.date == '2021-06-27') & (covid.county == 'Joplin')] "
   ]
  },
  {
   "cell_type": "code",
   "execution_count": 61,
   "metadata": {},
   "outputs": [
    {
     "data": {
      "text/plain": [
       "array(['Unknown', 'Joplin', 'Kansas City', 'New York City'], dtype=object)"
      ]
     },
     "execution_count": 61,
     "metadata": {},
     "output_type": "execute_result"
    }
   ],
   "source": [
    "# Counties where FIPS is negetative\n",
    "covid[covid.fips < 0].county.unique()"
   ]
  },
  {
   "cell_type": "code",
   "execution_count": 62,
   "metadata": {},
   "outputs": [
    {
     "data": {
      "text/html": [
       "<div>\n",
       "<style scoped>\n",
       "    .dataframe tbody tr th:only-of-type {\n",
       "        vertical-align: middle;\n",
       "    }\n",
       "\n",
       "    .dataframe tbody tr th {\n",
       "        vertical-align: top;\n",
       "    }\n",
       "\n",
       "    .dataframe thead th {\n",
       "        text-align: right;\n",
       "    }\n",
       "</style>\n",
       "<table border=\"1\" class=\"dataframe\">\n",
       "  <thead>\n",
       "    <tr style=\"text-align: right;\">\n",
       "      <th></th>\n",
       "      <th>date</th>\n",
       "      <th>county</th>\n",
       "      <th>state</th>\n",
       "      <th>fips</th>\n",
       "      <th>cases</th>\n",
       "      <th>deaths</th>\n",
       "    </tr>\n",
       "  </thead>\n",
       "  <tbody>\n",
       "    <tr>\n",
       "      <th>81411</th>\n",
       "      <td>2021-06-27</td>\n",
       "      <td>Adams</td>\n",
       "      <td>Colorado</td>\n",
       "      <td>8001.0</td>\n",
       "      <td>61966</td>\n",
       "      <td>752.0</td>\n",
       "    </tr>\n",
       "    <tr>\n",
       "      <th>81724</th>\n",
       "      <td>2021-06-27</td>\n",
       "      <td>Adams</td>\n",
       "      <td>Idaho</td>\n",
       "      <td>16003.0</td>\n",
       "      <td>342</td>\n",
       "      <td>4.0</td>\n",
       "    </tr>\n",
       "    <tr>\n",
       "      <th>81767</th>\n",
       "      <td>2021-06-27</td>\n",
       "      <td>Adams</td>\n",
       "      <td>Illinois</td>\n",
       "      <td>17001.0</td>\n",
       "      <td>8747</td>\n",
       "      <td>156.0</td>\n",
       "    </tr>\n",
       "    <tr>\n",
       "      <th>81870</th>\n",
       "      <td>2021-06-27</td>\n",
       "      <td>Adams</td>\n",
       "      <td>Indiana</td>\n",
       "      <td>18001.0</td>\n",
       "      <td>3519</td>\n",
       "      <td>56.0</td>\n",
       "    </tr>\n",
       "    <tr>\n",
       "      <th>81963</th>\n",
       "      <td>2021-06-27</td>\n",
       "      <td>Adams</td>\n",
       "      <td>Iowa</td>\n",
       "      <td>19003.0</td>\n",
       "      <td>347</td>\n",
       "      <td>4.0</td>\n",
       "    </tr>\n",
       "    <tr>\n",
       "      <th>82580</th>\n",
       "      <td>2021-06-27</td>\n",
       "      <td>Adams</td>\n",
       "      <td>Mississippi</td>\n",
       "      <td>28001.0</td>\n",
       "      <td>3086</td>\n",
       "      <td>86.0</td>\n",
       "    </tr>\n",
       "    <tr>\n",
       "      <th>82835</th>\n",
       "      <td>2021-06-27</td>\n",
       "      <td>Adams</td>\n",
       "      <td>Nebraska</td>\n",
       "      <td>31001.0</td>\n",
       "      <td>3180</td>\n",
       "      <td>54.0</td>\n",
       "    </tr>\n",
       "    <tr>\n",
       "      <th>83169</th>\n",
       "      <td>2021-06-27</td>\n",
       "      <td>Adams</td>\n",
       "      <td>North Dakota</td>\n",
       "      <td>38001.0</td>\n",
       "      <td>271</td>\n",
       "      <td>3.0</td>\n",
       "    </tr>\n",
       "    <tr>\n",
       "      <th>83225</th>\n",
       "      <td>2021-06-27</td>\n",
       "      <td>Adams</td>\n",
       "      <td>Ohio</td>\n",
       "      <td>39001.0</td>\n",
       "      <td>2435</td>\n",
       "      <td>56.0</td>\n",
       "    </tr>\n",
       "    <tr>\n",
       "      <th>83428</th>\n",
       "      <td>2021-06-27</td>\n",
       "      <td>Adams</td>\n",
       "      <td>Pennsylvania</td>\n",
       "      <td>42001.0</td>\n",
       "      <td>9671</td>\n",
       "      <td>189.0</td>\n",
       "    </tr>\n",
       "    <tr>\n",
       "      <th>84223</th>\n",
       "      <td>2021-06-27</td>\n",
       "      <td>Adams</td>\n",
       "      <td>Washington</td>\n",
       "      <td>53001.0</td>\n",
       "      <td>2258</td>\n",
       "      <td>24.0</td>\n",
       "    </tr>\n",
       "    <tr>\n",
       "      <th>84317</th>\n",
       "      <td>2021-06-27</td>\n",
       "      <td>Adams</td>\n",
       "      <td>Wisconsin</td>\n",
       "      <td>55001.0</td>\n",
       "      <td>1967</td>\n",
       "      <td>20.0</td>\n",
       "    </tr>\n",
       "  </tbody>\n",
       "</table>\n",
       "</div>"
      ],
      "text/plain": [
       "             date county         state     fips  cases  deaths\n",
       "81411  2021-06-27  Adams      Colorado   8001.0  61966   752.0\n",
       "81724  2021-06-27  Adams         Idaho  16003.0    342     4.0\n",
       "81767  2021-06-27  Adams      Illinois  17001.0   8747   156.0\n",
       "81870  2021-06-27  Adams       Indiana  18001.0   3519    56.0\n",
       "81963  2021-06-27  Adams          Iowa  19003.0    347     4.0\n",
       "82580  2021-06-27  Adams   Mississippi  28001.0   3086    86.0\n",
       "82835  2021-06-27  Adams      Nebraska  31001.0   3180    54.0\n",
       "83169  2021-06-27  Adams  North Dakota  38001.0    271     3.0\n",
       "83225  2021-06-27  Adams          Ohio  39001.0   2435    56.0\n",
       "83428  2021-06-27  Adams  Pennsylvania  42001.0   9671   189.0\n",
       "84223  2021-06-27  Adams    Washington  53001.0   2258    24.0\n",
       "84317  2021-06-27  Adams     Wisconsin  55001.0   1967    20.0"
      ]
     },
     "execution_count": 62,
     "metadata": {},
     "output_type": "execute_result"
    }
   ],
   "source": [
    "# Check the issue with Adams county \n",
    "covid[(covid.date == '2021-06-27') & (covid.county == 'Adams')]"
   ]
  },
  {
   "cell_type": "markdown",
   "metadata": {},
   "source": [
    "**Comment:** Some counties have no FIPS (Negetative FIPS and no county names), and some counties have multiple FIPS (They are in different states and can be ignored)."
   ]
  },
  {
   "cell_type": "code",
   "execution_count": 60,
   "metadata": {},
   "outputs": [
    {
     "data": {
      "text/html": [
       "<div>\n",
       "<style scoped>\n",
       "    .dataframe tbody tr th:only-of-type {\n",
       "        vertical-align: middle;\n",
       "    }\n",
       "\n",
       "    .dataframe tbody tr th {\n",
       "        vertical-align: top;\n",
       "    }\n",
       "\n",
       "    .dataframe thead th {\n",
       "        text-align: right;\n",
       "    }\n",
       "</style>\n",
       "<table border=\"1\" class=\"dataframe\">\n",
       "  <thead>\n",
       "    <tr style=\"text-align: right;\">\n",
       "      <th></th>\n",
       "      <th>date</th>\n",
       "      <th>fips</th>\n",
       "      <th>fully</th>\n",
       "      <th>dose1</th>\n",
       "    </tr>\n",
       "  </thead>\n",
       "  <tbody>\n",
       "  </tbody>\n",
       "</table>\n",
       "</div>"
      ],
      "text/plain": [
       "Empty DataFrame\n",
       "Columns: [date, fips, fully, dose1]\n",
       "Index: []"
      ]
     },
     "execution_count": 60,
     "metadata": {},
     "output_type": "execute_result"
    }
   ],
   "source": [
    "vaccines[vaccines.fips < 0]"
   ]
  },
  {
   "cell_type": "markdown",
   "metadata": {},
   "source": [
    "**Comment:** \n",
    "\n",
    "- We can observe that there is some missing data for counties and fips. \n",
    "- Not all dates have the same number of counties in the covid dataset. \n",
    "- The number of FIPS in the covid and vaccine datasets are not identical.\n",
    "- In FIPS is int and float in vaccine and covid respectively. This might cause issues in joining the data frames"
   ]
  },
  {
   "cell_type": "markdown",
   "metadata": {},
   "source": [
    "**1.4** Process both `covid` and `vaccines` so that each county is represented by a single row in each data frame (rather than having 5 separate rows for each county: 1 for each time period in part 1.2).  Call these new generate Pandas data frames `covid_by_county` and `vaccines_by_county` separately.  Print out the dimensions of each resulting data frame, and view the header of `covid_by_county`.  Note: you should use informative names for the columns in the resulting data frames: for example, `cases_w30` for the cumulative number of cases on July 25 (it's the 30th week of the calendar year).\n",
    "\n",
    "**Hint**: Splitting based on dates and then using `pd.DataFrame.merge` (source)[https://pandas.pydata.org/docs/reference/api/pandas.DataFrame.merge.html] could be helpful for this task using the `fips` code as the keys to join on (you should drop any counties that are not measured in all time periods...the default argument for `how` in `pd.DataFrame.merge` will behave this way).\n",
    "\n",
    "\n"
   ]
  },
  {
   "cell_type": "code",
   "execution_count": 109,
   "metadata": {},
   "outputs": [
    {
     "data": {
      "text/html": [
       "<div>\n",
       "<style scoped>\n",
       "    .dataframe tbody tr th:only-of-type {\n",
       "        vertical-align: middle;\n",
       "    }\n",
       "\n",
       "    .dataframe tbody tr th {\n",
       "        vertical-align: top;\n",
       "    }\n",
       "\n",
       "    .dataframe thead th {\n",
       "        text-align: right;\n",
       "    }\n",
       "</style>\n",
       "<table border=\"1\" class=\"dataframe\">\n",
       "  <thead>\n",
       "    <tr style=\"text-align: right;\">\n",
       "      <th></th>\n",
       "      <th>count_1</th>\n",
       "    </tr>\n",
       "    <tr>\n",
       "      <th>fips</th>\n",
       "      <th></th>\n",
       "    </tr>\n",
       "  </thead>\n",
       "  <tbody>\n",
       "  </tbody>\n",
       "</table>\n",
       "</div>"
      ],
      "text/plain": [
       "Empty DataFrame\n",
       "Columns: [count_1]\n",
       "Index: []"
      ]
     },
     "execution_count": 109,
     "metadata": {},
     "output_type": "execute_result"
    }
   ],
   "source": [
    "# Filter out negative fips \n",
    "fips_check_count = covid[covid.fips > 0].groupby(['fips']).agg({'fips': 'count',})\n",
    "fips_check_count.columns = ['count_1']\n",
    "fips_check_count[fips_check_count.count_1 != 5].head()"
   ]
  },
  {
   "cell_type": "code",
   "execution_count": 108,
   "metadata": {},
   "outputs": [
    {
     "data": {
      "text/html": [
       "<div>\n",
       "<style scoped>\n",
       "    .dataframe tbody tr th:only-of-type {\n",
       "        vertical-align: middle;\n",
       "    }\n",
       "\n",
       "    .dataframe tbody tr th {\n",
       "        vertical-align: top;\n",
       "    }\n",
       "\n",
       "    .dataframe thead th {\n",
       "        text-align: right;\n",
       "    }\n",
       "</style>\n",
       "<table border=\"1\" class=\"dataframe\">\n",
       "  <thead>\n",
       "    <tr style=\"text-align: right;\">\n",
       "      <th></th>\n",
       "      <th>count_1</th>\n",
       "    </tr>\n",
       "    <tr>\n",
       "      <th>fips</th>\n",
       "      <th></th>\n",
       "    </tr>\n",
       "  </thead>\n",
       "  <tbody>\n",
       "    <tr>\n",
       "      <th>2158</th>\n",
       "      <td>2</td>\n",
       "    </tr>\n",
       "    <tr>\n",
       "      <th>2270</th>\n",
       "      <td>3</td>\n",
       "    </tr>\n",
       "  </tbody>\n",
       "</table>\n",
       "</div>"
      ],
      "text/plain": [
       "      count_1\n",
       "fips         \n",
       "2158        2\n",
       "2270        3"
      ]
     },
     "execution_count": 108,
     "metadata": {},
     "output_type": "execute_result"
    }
   ],
   "source": [
    "vacc_fips_check_count = vaccines[vaccines.fips > 0].groupby(['fips']).agg({'fips': 'count',})\n",
    "vacc_fips_check_count.columns = ['count_1']\n",
    "vacc_fips_check_count[vacc_fips_check_count.count_1 != 5].head()"
   ]
  },
  {
   "cell_type": "markdown",
   "metadata": {},
   "source": [
    "**Comment**\n",
    "- Two FIPS do not have observasations for all dates in the vaccines dataset\n",
    "- All FIPS have observasations for all dates in the covid dataset"
   ]
  },
  {
   "cell_type": "code",
   "execution_count": 113,
   "metadata": {},
   "outputs": [
    {
     "data": {
      "text/plain": [
       "MultiIndex([( 'cases', '2021-06-27'),\n",
       "            ( 'cases', '2021-07-04'),\n",
       "            ( 'cases', '2021-07-11'),\n",
       "            ( 'cases', '2021-07-18'),\n",
       "            ( 'cases', '2021-07-25'),\n",
       "            ('deaths', '2021-06-27'),\n",
       "            ('deaths', '2021-07-04'),\n",
       "            ('deaths', '2021-07-11'),\n",
       "            ('deaths', '2021-07-18'),\n",
       "            ('deaths', '2021-07-25')],\n",
       "           names=[None, 'date'])"
      ]
     },
     "execution_count": 113,
     "metadata": {},
     "output_type": "execute_result"
    }
   ],
   "source": [
    "# Create a pivot table and remove negative fips \n",
    "covid_by_county = covid[covid.fips > 0].pivot_table(index=['fips'], columns='date',\n",
    "                                                    values=['cases', 'deaths'], aggfunc='sum', margins=False)\n",
    "\n",
    "covid_by_county.columns"
   ]
  },
  {
   "cell_type": "code",
   "execution_count": 114,
   "metadata": {},
   "outputs": [
    {
     "data": {
      "text/html": [
       "<div>\n",
       "<style scoped>\n",
       "    .dataframe tbody tr th:only-of-type {\n",
       "        vertical-align: middle;\n",
       "    }\n",
       "\n",
       "    .dataframe tbody tr th {\n",
       "        vertical-align: top;\n",
       "    }\n",
       "\n",
       "    .dataframe thead th {\n",
       "        text-align: right;\n",
       "    }\n",
       "</style>\n",
       "<table border=\"1\" class=\"dataframe\">\n",
       "  <thead>\n",
       "    <tr style=\"text-align: right;\">\n",
       "      <th></th>\n",
       "      <th>cases_w26</th>\n",
       "      <th>cases_w27</th>\n",
       "      <th>cases_w28</th>\n",
       "      <th>cases_w29</th>\n",
       "      <th>cases_w30</th>\n",
       "      <th>deaths_w26</th>\n",
       "      <th>deaths_w27</th>\n",
       "      <th>deaths_w28</th>\n",
       "      <th>deaths_w29</th>\n",
       "      <th>deaths_w30</th>\n",
       "    </tr>\n",
       "    <tr>\n",
       "      <th>fips</th>\n",
       "      <th></th>\n",
       "      <th></th>\n",
       "      <th></th>\n",
       "      <th></th>\n",
       "      <th></th>\n",
       "      <th></th>\n",
       "      <th></th>\n",
       "      <th></th>\n",
       "      <th></th>\n",
       "      <th></th>\n",
       "    </tr>\n",
       "  </thead>\n",
       "  <tbody>\n",
       "    <tr>\n",
       "      <th>1001.0</th>\n",
       "      <td>7244</td>\n",
       "      <td>7262</td>\n",
       "      <td>7299</td>\n",
       "      <td>7347</td>\n",
       "      <td>7419</td>\n",
       "      <td>113.0</td>\n",
       "      <td>113.0</td>\n",
       "      <td>113.0</td>\n",
       "      <td>113.0</td>\n",
       "      <td>113.0</td>\n",
       "    </tr>\n",
       "    <tr>\n",
       "      <th>1003.0</th>\n",
       "      <td>21945</td>\n",
       "      <td>22043</td>\n",
       "      <td>22267</td>\n",
       "      <td>22802</td>\n",
       "      <td>23810</td>\n",
       "      <td>314.0</td>\n",
       "      <td>315.0</td>\n",
       "      <td>318.0</td>\n",
       "      <td>323.0</td>\n",
       "      <td>325.0</td>\n",
       "    </tr>\n",
       "    <tr>\n",
       "      <th>1005.0</th>\n",
       "      <td>2344</td>\n",
       "      <td>2347</td>\n",
       "      <td>2365</td>\n",
       "      <td>2394</td>\n",
       "      <td>2434</td>\n",
       "      <td>60.0</td>\n",
       "      <td>60.0</td>\n",
       "      <td>60.0</td>\n",
       "      <td>60.0</td>\n",
       "      <td>61.0</td>\n",
       "    </tr>\n",
       "    <tr>\n",
       "      <th>1007.0</th>\n",
       "      <td>2686</td>\n",
       "      <td>2693</td>\n",
       "      <td>2702</td>\n",
       "      <td>2727</td>\n",
       "      <td>2801</td>\n",
       "      <td>64.0</td>\n",
       "      <td>64.0</td>\n",
       "      <td>65.0</td>\n",
       "      <td>65.0</td>\n",
       "      <td>65.0</td>\n",
       "    </tr>\n",
       "    <tr>\n",
       "      <th>1009.0</th>\n",
       "      <td>6967</td>\n",
       "      <td>6988</td>\n",
       "      <td>7023</td>\n",
       "      <td>7099</td>\n",
       "      <td>7184</td>\n",
       "      <td>139.0</td>\n",
       "      <td>139.0</td>\n",
       "      <td>139.0</td>\n",
       "      <td>139.0</td>\n",
       "      <td>139.0</td>\n",
       "    </tr>\n",
       "  </tbody>\n",
       "</table>\n",
       "</div>"
      ],
      "text/plain": [
       "        cases_w26  cases_w27  cases_w28  cases_w29  cases_w30  deaths_w26  \\\n",
       "fips                                                                        \n",
       "1001.0       7244       7262       7299       7347       7419       113.0   \n",
       "1003.0      21945      22043      22267      22802      23810       314.0   \n",
       "1005.0       2344       2347       2365       2394       2434        60.0   \n",
       "1007.0       2686       2693       2702       2727       2801        64.0   \n",
       "1009.0       6967       6988       7023       7099       7184       139.0   \n",
       "\n",
       "        deaths_w27  deaths_w28  deaths_w29  deaths_w30  \n",
       "fips                                                    \n",
       "1001.0       113.0       113.0       113.0       113.0  \n",
       "1003.0       315.0       318.0       323.0       325.0  \n",
       "1005.0        60.0        60.0        60.0        61.0  \n",
       "1007.0        64.0        65.0        65.0        65.0  \n",
       "1009.0       139.0       139.0       139.0       139.0  "
      ]
     },
     "execution_count": 114,
     "metadata": {},
     "output_type": "execute_result"
    }
   ],
   "source": [
    "covid_column_names = ['cases_w26', 'cases_w27', 'cases_w28', 'cases_w29', 'cases_w30', 'deaths_w26',\n",
    "                           'deaths_w27','deaths_w28','deaths_w29','deaths_w30']\n",
    "\n",
    "covid_by_county.columns = covid_column_names\n",
    "\n",
    "# check out the covid dataset\n",
    "covid_by_county.head()"
   ]
  },
  {
   "cell_type": "code",
   "execution_count": 115,
   "metadata": {},
   "outputs": [
    {
     "data": {
      "text/plain": [
       "MultiIndex([('dose1', '2021-06-27'),\n",
       "            ('dose1', '2021-07-04'),\n",
       "            ('dose1', '2021-07-11'),\n",
       "            ('dose1', '2021-07-18'),\n",
       "            ('dose1', '2021-07-25'),\n",
       "            ('fully', '2021-06-27'),\n",
       "            ('fully', '2021-07-04'),\n",
       "            ('fully', '2021-07-11'),\n",
       "            ('fully', '2021-07-18'),\n",
       "            ('fully', '2021-07-25')],\n",
       "           names=[None, 'date'])"
      ]
     },
     "execution_count": 115,
     "metadata": {},
     "output_type": "execute_result"
    }
   ],
   "source": [
    "# Remove 2158, 2270 FIPS\n",
    "vaccines_by_county = vaccines[~vaccines.fips.isin([2158, 2270])].pivot_table(index=['fips'], columns='date',\n",
    "                    values=['fully', 'dose1'], aggfunc='sum', margins=False)\n",
    "\n",
    "vaccines_by_county.columns"
   ]
  },
  {
   "cell_type": "code",
   "execution_count": 116,
   "metadata": {},
   "outputs": [
    {
     "data": {
      "text/html": [
       "<div>\n",
       "<style scoped>\n",
       "    .dataframe tbody tr th:only-of-type {\n",
       "        vertical-align: middle;\n",
       "    }\n",
       "\n",
       "    .dataframe tbody tr th {\n",
       "        vertical-align: top;\n",
       "    }\n",
       "\n",
       "    .dataframe thead th {\n",
       "        text-align: right;\n",
       "    }\n",
       "</style>\n",
       "<table border=\"1\" class=\"dataframe\">\n",
       "  <thead>\n",
       "    <tr style=\"text-align: right;\">\n",
       "      <th></th>\n",
       "      <th>dose1_w26</th>\n",
       "      <th>dose1_w27</th>\n",
       "      <th>dose1_w28</th>\n",
       "      <th>dose1_w29</th>\n",
       "      <th>dose1_w30</th>\n",
       "      <th>fully_w26</th>\n",
       "      <th>fully_w27</th>\n",
       "      <th>fully_w28</th>\n",
       "      <th>fully_w29</th>\n",
       "      <th>fully_w30</th>\n",
       "    </tr>\n",
       "    <tr>\n",
       "      <th>fips</th>\n",
       "      <th></th>\n",
       "      <th></th>\n",
       "      <th></th>\n",
       "      <th></th>\n",
       "      <th></th>\n",
       "      <th></th>\n",
       "      <th></th>\n",
       "      <th></th>\n",
       "      <th></th>\n",
       "      <th></th>\n",
       "    </tr>\n",
       "  </thead>\n",
       "  <tbody>\n",
       "    <tr>\n",
       "      <th>1001</th>\n",
       "      <td>31.7</td>\n",
       "      <td>32.3</td>\n",
       "      <td>32.7</td>\n",
       "      <td>33.4</td>\n",
       "      <td>34.0</td>\n",
       "      <td>24.6</td>\n",
       "      <td>24.9</td>\n",
       "      <td>25.3</td>\n",
       "      <td>25.6</td>\n",
       "      <td>26.0</td>\n",
       "    </tr>\n",
       "    <tr>\n",
       "      <th>1003</th>\n",
       "      <td>37.3</td>\n",
       "      <td>38.5</td>\n",
       "      <td>39.0</td>\n",
       "      <td>39.5</td>\n",
       "      <td>40.5</td>\n",
       "      <td>29.8</td>\n",
       "      <td>30.4</td>\n",
       "      <td>30.7</td>\n",
       "      <td>31.0</td>\n",
       "      <td>31.4</td>\n",
       "    </tr>\n",
       "    <tr>\n",
       "      <th>1005</th>\n",
       "      <td>30.8</td>\n",
       "      <td>32.7</td>\n",
       "      <td>33.1</td>\n",
       "      <td>33.6</td>\n",
       "      <td>34.3</td>\n",
       "      <td>24.3</td>\n",
       "      <td>25.9</td>\n",
       "      <td>26.7</td>\n",
       "      <td>27.3</td>\n",
       "      <td>27.6</td>\n",
       "    </tr>\n",
       "    <tr>\n",
       "      <th>1007</th>\n",
       "      <td>27.6</td>\n",
       "      <td>28.0</td>\n",
       "      <td>28.5</td>\n",
       "      <td>28.7</td>\n",
       "      <td>29.4</td>\n",
       "      <td>21.0</td>\n",
       "      <td>21.5</td>\n",
       "      <td>21.9</td>\n",
       "      <td>22.2</td>\n",
       "      <td>22.5</td>\n",
       "    </tr>\n",
       "    <tr>\n",
       "      <th>1009</th>\n",
       "      <td>22.9</td>\n",
       "      <td>23.2</td>\n",
       "      <td>23.4</td>\n",
       "      <td>23.7</td>\n",
       "      <td>24.2</td>\n",
       "      <td>18.4</td>\n",
       "      <td>18.5</td>\n",
       "      <td>18.8</td>\n",
       "      <td>19.0</td>\n",
       "      <td>19.3</td>\n",
       "    </tr>\n",
       "  </tbody>\n",
       "</table>\n",
       "</div>"
      ],
      "text/plain": [
       "      dose1_w26  dose1_w27  dose1_w28  dose1_w29  dose1_w30  fully_w26  \\\n",
       "fips                                                                     \n",
       "1001       31.7       32.3       32.7       33.4       34.0       24.6   \n",
       "1003       37.3       38.5       39.0       39.5       40.5       29.8   \n",
       "1005       30.8       32.7       33.1       33.6       34.3       24.3   \n",
       "1007       27.6       28.0       28.5       28.7       29.4       21.0   \n",
       "1009       22.9       23.2       23.4       23.7       24.2       18.4   \n",
       "\n",
       "      fully_w27  fully_w28  fully_w29  fully_w30  \n",
       "fips                                              \n",
       "1001       24.9       25.3       25.6       26.0  \n",
       "1003       30.4       30.7       31.0       31.4  \n",
       "1005       25.9       26.7       27.3       27.6  \n",
       "1007       21.5       21.9       22.2       22.5  \n",
       "1009       18.5       18.8       19.0       19.3  "
      ]
     },
     "execution_count": 116,
     "metadata": {},
     "output_type": "execute_result"
    }
   ],
   "source": [
    "vaccines_column_names = ['dose1_w26', 'dose1_w27', 'dose1_w28', 'dose1_w29', 'dose1_w30', 'fully_w26',\n",
    "                           'fully_w27','fully_w28','fully_w29','fully_w30']\n",
    "\n",
    "vaccines_by_county.columns = vaccines_column_names\n",
    "\n",
    "# check out the vaccines dataset\n",
    "vaccines_by_county.head()"
   ]
  },
  {
   "cell_type": "code",
   "execution_count": 117,
   "metadata": {},
   "outputs": [
    {
     "name": "stdout",
     "output_type": "stream",
     "text": [
      "(3218, 10)\n",
      "(3223, 10)\n"
     ]
    }
   ],
   "source": [
    "print(covid_by_county.shape)\n",
    "print(vaccines_by_county.shape)"
   ]
  },
  {
   "cell_type": "markdown",
   "metadata": {},
   "source": [
    "**Comment:** We can see that vaccines_by_county still has a few more FIPS than covid_by_county. This can be further fixed by doing an inner merge on vaccines_by_county and covid_by_county on FIPS to get the same number of records"
   ]
  },
  {
   "cell_type": "markdown",
   "metadata": {},
   "source": [
    "**1.5** Merge the 4 data fames (`covid_by_county`, `vaccines_by_county`, `masks`, and `demo`) based on `fips` and save the result as `covid_merged` (you should drop any counties that are not measured in all 4 data frames).  Determine and report how many counties were dropped from `demo` in this process, and view the header of `covid_merged`.\n",
    "\n"
   ]
  },
  {
   "cell_type": "code",
   "execution_count": 119,
   "metadata": {},
   "outputs": [
    {
     "name": "stdout",
     "output_type": "stream",
     "text": [
      "The number of records dropped from demo is: 6\n"
     ]
    }
   ],
   "source": [
    "# retain the original nr. of rows in demo\n",
    "demo_fips_cnt = demo.shape[0]\n",
    "\n",
    "# Merge the datasets\n",
    "covid_merged = covid_by_county.merge(vaccines_by_county, on=['fips'])\n",
    "covid_merged = covid_merged.merge(masks, on=['fips'])\n",
    "covid_merged = covid_merged.merge(demo, on=['fips'])\n",
    "print(\"The number of records dropped from demo is:\", demo_fips_cnt - covid_merged.shape[0])"
   ]
  },
  {
   "cell_type": "code",
   "execution_count": 120,
   "metadata": {},
   "outputs": [
    {
     "data": {
      "text/html": [
       "<div>\n",
       "<style scoped>\n",
       "    .dataframe tbody tr th:only-of-type {\n",
       "        vertical-align: middle;\n",
       "    }\n",
       "\n",
       "    .dataframe tbody tr th {\n",
       "        vertical-align: top;\n",
       "    }\n",
       "\n",
       "    .dataframe thead th {\n",
       "        text-align: right;\n",
       "    }\n",
       "</style>\n",
       "<table border=\"1\" class=\"dataframe\">\n",
       "  <thead>\n",
       "    <tr style=\"text-align: right;\">\n",
       "      <th></th>\n",
       "      <th>fips</th>\n",
       "      <th>cases_w26</th>\n",
       "      <th>cases_w27</th>\n",
       "      <th>cases_w28</th>\n",
       "      <th>cases_w29</th>\n",
       "      <th>cases_w30</th>\n",
       "      <th>deaths_w26</th>\n",
       "      <th>deaths_w27</th>\n",
       "      <th>deaths_w28</th>\n",
       "      <th>deaths_w29</th>\n",
       "      <th>...</th>\n",
       "      <th>female</th>\n",
       "      <th>unemployed</th>\n",
       "      <th>income</th>\n",
       "      <th>nodegree</th>\n",
       "      <th>bachelor</th>\n",
       "      <th>inactivity</th>\n",
       "      <th>obesity</th>\n",
       "      <th>density</th>\n",
       "      <th>votergap20</th>\n",
       "      <th>votergap16</th>\n",
       "    </tr>\n",
       "  </thead>\n",
       "  <tbody>\n",
       "    <tr>\n",
       "      <th>0</th>\n",
       "      <td>1001.0</td>\n",
       "      <td>7244</td>\n",
       "      <td>7262</td>\n",
       "      <td>7299</td>\n",
       "      <td>7347</td>\n",
       "      <td>7419</td>\n",
       "      <td>113.0</td>\n",
       "      <td>113.0</td>\n",
       "      <td>113.0</td>\n",
       "      <td>113.0</td>\n",
       "      <td>...</td>\n",
       "      <td>51.475</td>\n",
       "      <td>5.2</td>\n",
       "      <td>54.366</td>\n",
       "      <td>13.8</td>\n",
       "      <td>21.9</td>\n",
       "      <td>28.6</td>\n",
       "      <td>34.1</td>\n",
       "      <td>91.8</td>\n",
       "      <td>-44.418437</td>\n",
       "      <td>-49.479</td>\n",
       "    </tr>\n",
       "    <tr>\n",
       "      <th>1</th>\n",
       "      <td>1003.0</td>\n",
       "      <td>21945</td>\n",
       "      <td>22043</td>\n",
       "      <td>22267</td>\n",
       "      <td>22802</td>\n",
       "      <td>23810</td>\n",
       "      <td>314.0</td>\n",
       "      <td>315.0</td>\n",
       "      <td>318.0</td>\n",
       "      <td>323.0</td>\n",
       "      <td>...</td>\n",
       "      <td>51.261</td>\n",
       "      <td>5.5</td>\n",
       "      <td>49.626</td>\n",
       "      <td>11.0</td>\n",
       "      <td>28.6</td>\n",
       "      <td>22.3</td>\n",
       "      <td>27.4</td>\n",
       "      <td>114.6</td>\n",
       "      <td>-53.762343</td>\n",
       "      <td>-57.786</td>\n",
       "    </tr>\n",
       "    <tr>\n",
       "      <th>2</th>\n",
       "      <td>1005.0</td>\n",
       "      <td>2344</td>\n",
       "      <td>2347</td>\n",
       "      <td>2365</td>\n",
       "      <td>2394</td>\n",
       "      <td>2434</td>\n",
       "      <td>60.0</td>\n",
       "      <td>60.0</td>\n",
       "      <td>60.0</td>\n",
       "      <td>60.0</td>\n",
       "      <td>...</td>\n",
       "      <td>46.589</td>\n",
       "      <td>8.9</td>\n",
       "      <td>34.971</td>\n",
       "      <td>25.4</td>\n",
       "      <td>13.6</td>\n",
       "      <td>31.8</td>\n",
       "      <td>44.4</td>\n",
       "      <td>31.0</td>\n",
       "      <td>-7.663054</td>\n",
       "      <td>-5.611</td>\n",
       "    </tr>\n",
       "    <tr>\n",
       "      <th>3</th>\n",
       "      <td>1007.0</td>\n",
       "      <td>2686</td>\n",
       "      <td>2693</td>\n",
       "      <td>2702</td>\n",
       "      <td>2727</td>\n",
       "      <td>2801</td>\n",
       "      <td>64.0</td>\n",
       "      <td>64.0</td>\n",
       "      <td>65.0</td>\n",
       "      <td>65.0</td>\n",
       "      <td>...</td>\n",
       "      <td>46.110</td>\n",
       "      <td>6.6</td>\n",
       "      <td>39.546</td>\n",
       "      <td>22.1</td>\n",
       "      <td>10.2</td>\n",
       "      <td>33.9</td>\n",
       "      <td>40.3</td>\n",
       "      <td>36.8</td>\n",
       "      <td>-57.727983</td>\n",
       "      <td>-55.544</td>\n",
       "    </tr>\n",
       "    <tr>\n",
       "      <th>4</th>\n",
       "      <td>1009.0</td>\n",
       "      <td>6967</td>\n",
       "      <td>6988</td>\n",
       "      <td>7023</td>\n",
       "      <td>7099</td>\n",
       "      <td>7184</td>\n",
       "      <td>139.0</td>\n",
       "      <td>139.0</td>\n",
       "      <td>139.0</td>\n",
       "      <td>139.0</td>\n",
       "      <td>...</td>\n",
       "      <td>50.592</td>\n",
       "      <td>5.4</td>\n",
       "      <td>45.567</td>\n",
       "      <td>21.9</td>\n",
       "      <td>12.3</td>\n",
       "      <td>28.0</td>\n",
       "      <td>34.6</td>\n",
       "      <td>88.9</td>\n",
       "      <td>-80.002175</td>\n",
       "      <td>-81.382</td>\n",
       "    </tr>\n",
       "  </tbody>\n",
       "</table>\n",
       "<p>5 rows × 39 columns</p>\n",
       "</div>"
      ],
      "text/plain": [
       "     fips  cases_w26  cases_w27  cases_w28  cases_w29  cases_w30  deaths_w26  \\\n",
       "0  1001.0       7244       7262       7299       7347       7419       113.0   \n",
       "1  1003.0      21945      22043      22267      22802      23810       314.0   \n",
       "2  1005.0       2344       2347       2365       2394       2434        60.0   \n",
       "3  1007.0       2686       2693       2702       2727       2801        64.0   \n",
       "4  1009.0       6967       6988       7023       7099       7184       139.0   \n",
       "\n",
       "   deaths_w27  deaths_w28  deaths_w29  ...  female  unemployed  income  \\\n",
       "0       113.0       113.0       113.0  ...  51.475         5.2  54.366   \n",
       "1       315.0       318.0       323.0  ...  51.261         5.5  49.626   \n",
       "2        60.0        60.0        60.0  ...  46.589         8.9  34.971   \n",
       "3        64.0        65.0        65.0  ...  46.110         6.6  39.546   \n",
       "4       139.0       139.0       139.0  ...  50.592         5.4  45.567   \n",
       "\n",
       "   nodegree  bachelor  inactivity  obesity  density  votergap20  votergap16  \n",
       "0      13.8      21.9        28.6     34.1     91.8  -44.418437     -49.479  \n",
       "1      11.0      28.6        22.3     27.4    114.6  -53.762343     -57.786  \n",
       "2      25.4      13.6        31.8     44.4     31.0   -7.663054      -5.611  \n",
       "3      22.1      10.2        33.9     40.3     36.8  -57.727983     -55.544  \n",
       "4      21.9      12.3        28.0     34.6     88.9  -80.002175     -81.382  \n",
       "\n",
       "[5 rows x 39 columns]"
      ]
     },
     "execution_count": 120,
     "metadata": {},
     "output_type": "execute_result"
    }
   ],
   "source": [
    "covid_merged.head()"
   ]
  },
  {
   "cell_type": "code",
   "execution_count": 121,
   "metadata": {},
   "outputs": [
    {
     "data": {
      "text/plain": [
       "Index(['fips', 'cases_w26', 'cases_w27', 'cases_w28', 'cases_w29', 'cases_w30',\n",
       "       'deaths_w26', 'deaths_w27', 'deaths_w28', 'deaths_w29', 'deaths_w30',\n",
       "       'dose1_w26', 'dose1_w27', 'dose1_w28', 'dose1_w29', 'dose1_w30',\n",
       "       'fully_w26', 'fully_w27', 'fully_w28', 'fully_w29', 'fully_w30',\n",
       "       'never', 'rarely', 'sometimes', 'frequently', 'always', 'population',\n",
       "       'hispanic', 'minority', 'female', 'unemployed', 'income', 'nodegree',\n",
       "       'bachelor', 'inactivity', 'obesity', 'density', 'votergap20',\n",
       "       'votergap16'],\n",
       "      dtype='object')"
      ]
     },
     "execution_count": 121,
     "metadata": {},
     "output_type": "execute_result"
    }
   ],
   "source": [
    "covid_merged.columns"
   ]
  },
  {
   "cell_type": "markdown",
   "metadata": {},
   "source": [
    "**1.6** Use `covid_merged` to calculate the novel case rate (per 1000 residents) for each of the weeks for all of the counties, and save these as 4 new well-named variables in `covid_merged`.  For example, `rate_w30` can mathematically be represented as `1000*(cases_30-cases_29)/population`.  Plot the histogram of the novel case rate in week 29, July 12-18, `rate_w29`, and comment on what you notice.\n",
    "\n"
   ]
  },
  {
   "cell_type": "code",
   "execution_count": 131,
   "metadata": {},
   "outputs": [],
   "source": [
    "# calculate novel case rates\n",
    "covid_merged.eval('''rate_w27 = 1000*( (cases_w27 - cases_w26) / population)\n",
    "                     rate_w28 = 1000*( (cases_w28 - cases_w27) / population)\n",
    "                     rate_w29 = 1000*( (cases_w29 - cases_w28) / population)\n",
    "                     rate_w30 = 1000*( (cases_w30 - cases_w29) / population)''', inplace=True)"
   ]
  },
  {
   "cell_type": "code",
   "execution_count": 146,
   "metadata": {},
   "outputs": [
    {
     "data": {
      "text/html": [
       "<div>\n",
       "<style scoped>\n",
       "    .dataframe tbody tr th:only-of-type {\n",
       "        vertical-align: middle;\n",
       "    }\n",
       "\n",
       "    .dataframe tbody tr th {\n",
       "        vertical-align: top;\n",
       "    }\n",
       "\n",
       "    .dataframe thead th {\n",
       "        text-align: right;\n",
       "    }\n",
       "</style>\n",
       "<table border=\"1\" class=\"dataframe\">\n",
       "  <thead>\n",
       "    <tr style=\"text-align: right;\">\n",
       "      <th></th>\n",
       "      <th>rate_w27</th>\n",
       "      <th>rate_w28</th>\n",
       "      <th>rate_w29</th>\n",
       "      <th>rate_w30</th>\n",
       "    </tr>\n",
       "  </thead>\n",
       "  <tbody>\n",
       "    <tr>\n",
       "      <th>count</th>\n",
       "      <td>3108.000000</td>\n",
       "      <td>3108.000000</td>\n",
       "      <td>3108.000000</td>\n",
       "      <td>3108.000000</td>\n",
       "    </tr>\n",
       "    <tr>\n",
       "      <th>mean</th>\n",
       "      <td>0.331576</td>\n",
       "      <td>0.446734</td>\n",
       "      <td>0.652648</td>\n",
       "      <td>1.062303</td>\n",
       "    </tr>\n",
       "    <tr>\n",
       "      <th>std</th>\n",
       "      <td>0.590133</td>\n",
       "      <td>0.891581</td>\n",
       "      <td>0.913242</td>\n",
       "      <td>1.270395</td>\n",
       "    </tr>\n",
       "    <tr>\n",
       "      <th>min</th>\n",
       "      <td>-6.695681</td>\n",
       "      <td>-13.056579</td>\n",
       "      <td>-4.366812</td>\n",
       "      <td>-1.035070</td>\n",
       "    </tr>\n",
       "    <tr>\n",
       "      <th>25%</th>\n",
       "      <td>0.053607</td>\n",
       "      <td>0.085104</td>\n",
       "      <td>0.142059</td>\n",
       "      <td>0.276453</td>\n",
       "    </tr>\n",
       "    <tr>\n",
       "      <th>50%</th>\n",
       "      <td>0.174824</td>\n",
       "      <td>0.239374</td>\n",
       "      <td>0.362521</td>\n",
       "      <td>0.649756</td>\n",
       "    </tr>\n",
       "    <tr>\n",
       "      <th>75%</th>\n",
       "      <td>0.402234</td>\n",
       "      <td>0.545033</td>\n",
       "      <td>0.824554</td>\n",
       "      <td>1.368496</td>\n",
       "    </tr>\n",
       "    <tr>\n",
       "      <th>max</th>\n",
       "      <td>7.572657</td>\n",
       "      <td>22.222222</td>\n",
       "      <td>10.345785</td>\n",
       "      <td>14.940647</td>\n",
       "    </tr>\n",
       "  </tbody>\n",
       "</table>\n",
       "</div>"
      ],
      "text/plain": [
       "          rate_w27     rate_w28     rate_w29     rate_w30\n",
       "count  3108.000000  3108.000000  3108.000000  3108.000000\n",
       "mean      0.331576     0.446734     0.652648     1.062303\n",
       "std       0.590133     0.891581     0.913242     1.270395\n",
       "min      -6.695681   -13.056579    -4.366812    -1.035070\n",
       "25%       0.053607     0.085104     0.142059     0.276453\n",
       "50%       0.174824     0.239374     0.362521     0.649756\n",
       "75%       0.402234     0.545033     0.824554     1.368496\n",
       "max       7.572657    22.222222    10.345785    14.940647"
      ]
     },
     "execution_count": 146,
     "metadata": {},
     "output_type": "execute_result"
    }
   ],
   "source": [
    "covid_merged[['rate_w27','rate_w28','rate_w29','rate_w30']].describe()"
   ]
  },
  {
   "cell_type": "code",
   "execution_count": 155,
   "metadata": {},
   "outputs": [
    {
     "data": {
      "text/plain": [
       "409"
      ]
     },
     "execution_count": 155,
     "metadata": {},
     "output_type": "execute_result"
    }
   ],
   "source": [
    "len(covid_merged[covid_merged.rate_w29 <= 0])"
   ]
  },
  {
   "cell_type": "code",
   "execution_count": 133,
   "metadata": {},
   "outputs": [
    {
     "data": {
      "image/png": "[encoded data removed]",
      "text/plain": [
       "<Figure size 432x288 with 1 Axes>"
      ]
     },
     "metadata": {
      "needs_background": "light"
     },
     "output_type": "display_data"
    }
   ],
   "source": [
    "# show histograme for week 29\n",
    "rate_w29_hist = plt.hist(covid_merged['rate_w29'])\n",
    "plt.xlabel(\"Novel case rate per 1000 residents\")\n",
    "plt.ylabel(\"Number of counties\")\n",
    "plt.suptitle(\"Distribution of new cases per 1000 in week 29 by counties\")\n",
    "plt.show()"
   ]
  },
  {
   "cell_type": "markdown",
   "metadata": {},
   "source": [
    "**Comment:** \n",
    "- Most counties showed an increase of 1 or 2 cases per thousand in week 29. \n",
    "- A few counties had more than 2, going up to a max of 10 cases per 1000. \n",
    "- Close to 400 counties had the same cases or saw a decrease in week 29 relative to the previous week."
   ]
  },
  {
   "cell_type": "markdown",
   "metadata": {},
   "source": [
    "**1.7** We did the steps above (and some other minimal processing) and saved the results in `covid_clean.csv` for you.  Use this data file to answer some exploratory questions and all future analyses: \n",
    "\n",
    "1. Has the overall average case rate increased from week 28 (July 5-11) to week 29 (July 12-18)?  \n",
    "2. Treating the counties as separate and equal observations: in what states did the case rate increase the most?  In what states did the case rate decrease the most (or increse the least)?  List the top 5 for each.  Do you notice any patterns in these states?\n",
    "3. Create and interpret separate visuals to display how the country case rate in week 29 relates to each of the following variables. Interpret what you see (be specific to this domain).\n",
    "\n",
    "    a. The political views in the county (as measured by the votergap in the 2020 election).\n",
    "    \n",
    "    b. The vaccination rate in the county (for week 28) (be sure to throw away the zeros as these represent unreported values).\n",
    "    \n",
    "    c. The population density of the county.\n",
    "    \n",
    "    d. Whether 50% or more of the surveyed residents in the county report that they always wore a mask in public at the time of the survey."
   ]
  },
  {
   "cell_type": "code",
   "execution_count": 128,
   "metadata": {},
   "outputs": [],
   "source": [
    "# read the cleaned dataset\n",
    "covid_clean = pd.read_csv('data/covid_clean.csv')"
   ]
  },
  {
   "cell_type": "code",
   "execution_count": 136,
   "metadata": {},
   "outputs": [
    {
     "data": {
      "text/html": [
       "<div>\n",
       "<style scoped>\n",
       "    .dataframe tbody tr th:only-of-type {\n",
       "        vertical-align: middle;\n",
       "    }\n",
       "\n",
       "    .dataframe tbody tr th {\n",
       "        vertical-align: top;\n",
       "    }\n",
       "\n",
       "    .dataframe thead th {\n",
       "        text-align: right;\n",
       "    }\n",
       "</style>\n",
       "<table border=\"1\" class=\"dataframe\">\n",
       "  <thead>\n",
       "    <tr style=\"text-align: right;\">\n",
       "      <th></th>\n",
       "      <th>fips</th>\n",
       "      <th>date</th>\n",
       "      <th>county</th>\n",
       "      <th>state</th>\n",
       "      <th>cases_w30</th>\n",
       "      <th>deaths_w30</th>\n",
       "      <th>fully_w30</th>\n",
       "      <th>dose1_w30</th>\n",
       "      <th>cases_w26</th>\n",
       "      <th>deaths_w26</th>\n",
       "      <th>...</th>\n",
       "      <th>votergap16</th>\n",
       "      <th>never</th>\n",
       "      <th>rarely</th>\n",
       "      <th>sometimes</th>\n",
       "      <th>frequently</th>\n",
       "      <th>always</th>\n",
       "      <th>rate_w30</th>\n",
       "      <th>rate_w29</th>\n",
       "      <th>rate_w28</th>\n",
       "      <th>rate_w27</th>\n",
       "    </tr>\n",
       "  </thead>\n",
       "  <tbody>\n",
       "    <tr>\n",
       "      <th>0</th>\n",
       "      <td>1001</td>\n",
       "      <td>2021-07-25</td>\n",
       "      <td>Autauga</td>\n",
       "      <td>Alabama</td>\n",
       "      <td>7419</td>\n",
       "      <td>113</td>\n",
       "      <td>26.0</td>\n",
       "      <td>34.0</td>\n",
       "      <td>7244</td>\n",
       "      <td>113</td>\n",
       "      <td>...</td>\n",
       "      <td>-49.479</td>\n",
       "      <td>5.3</td>\n",
       "      <td>7.4</td>\n",
       "      <td>13.4</td>\n",
       "      <td>29.5</td>\n",
       "      <td>44.4</td>\n",
       "      <td>0.001419</td>\n",
       "      <td>0.000946</td>\n",
       "      <td>0.000729</td>\n",
       "      <td>0.000355</td>\n",
       "    </tr>\n",
       "    <tr>\n",
       "      <th>1</th>\n",
       "      <td>1003</td>\n",
       "      <td>2021-07-25</td>\n",
       "      <td>Baldwin</td>\n",
       "      <td>Alabama</td>\n",
       "      <td>23810</td>\n",
       "      <td>325</td>\n",
       "      <td>31.4</td>\n",
       "      <td>40.5</td>\n",
       "      <td>21945</td>\n",
       "      <td>314</td>\n",
       "      <td>...</td>\n",
       "      <td>-57.786</td>\n",
       "      <td>8.3</td>\n",
       "      <td>5.9</td>\n",
       "      <td>9.8</td>\n",
       "      <td>32.3</td>\n",
       "      <td>43.6</td>\n",
       "      <td>0.005604</td>\n",
       "      <td>0.002974</td>\n",
       "      <td>0.001245</td>\n",
       "      <td>0.000545</td>\n",
       "    </tr>\n",
       "    <tr>\n",
       "      <th>2</th>\n",
       "      <td>1005</td>\n",
       "      <td>2021-07-25</td>\n",
       "      <td>Barbour</td>\n",
       "      <td>Alabama</td>\n",
       "      <td>2434</td>\n",
       "      <td>61</td>\n",
       "      <td>27.6</td>\n",
       "      <td>34.3</td>\n",
       "      <td>2344</td>\n",
       "      <td>60</td>\n",
       "      <td>...</td>\n",
       "      <td>-5.611</td>\n",
       "      <td>6.7</td>\n",
       "      <td>12.1</td>\n",
       "      <td>12.0</td>\n",
       "      <td>20.1</td>\n",
       "      <td>49.1</td>\n",
       "      <td>0.001345</td>\n",
       "      <td>0.000975</td>\n",
       "      <td>0.000605</td>\n",
       "      <td>0.000101</td>\n",
       "    </tr>\n",
       "    <tr>\n",
       "      <th>3</th>\n",
       "      <td>1007</td>\n",
       "      <td>2021-07-25</td>\n",
       "      <td>Bibb</td>\n",
       "      <td>Alabama</td>\n",
       "      <td>2801</td>\n",
       "      <td>65</td>\n",
       "      <td>22.5</td>\n",
       "      <td>29.4</td>\n",
       "      <td>2686</td>\n",
       "      <td>64</td>\n",
       "      <td>...</td>\n",
       "      <td>-55.544</td>\n",
       "      <td>2.0</td>\n",
       "      <td>3.4</td>\n",
       "      <td>9.6</td>\n",
       "      <td>27.8</td>\n",
       "      <td>57.2</td>\n",
       "      <td>0.003428</td>\n",
       "      <td>0.001158</td>\n",
       "      <td>0.000417</td>\n",
       "      <td>0.000324</td>\n",
       "    </tr>\n",
       "    <tr>\n",
       "      <th>4</th>\n",
       "      <td>1009</td>\n",
       "      <td>2021-07-25</td>\n",
       "      <td>Blount</td>\n",
       "      <td>Alabama</td>\n",
       "      <td>7184</td>\n",
       "      <td>139</td>\n",
       "      <td>19.3</td>\n",
       "      <td>24.2</td>\n",
       "      <td>6967</td>\n",
       "      <td>139</td>\n",
       "      <td>...</td>\n",
       "      <td>-81.382</td>\n",
       "      <td>5.3</td>\n",
       "      <td>11.4</td>\n",
       "      <td>18.0</td>\n",
       "      <td>19.4</td>\n",
       "      <td>45.9</td>\n",
       "      <td>0.001457</td>\n",
       "      <td>0.001303</td>\n",
       "      <td>0.000600</td>\n",
       "      <td>0.000360</td>\n",
       "    </tr>\n",
       "  </tbody>\n",
       "</table>\n",
       "<p>5 rows × 46 columns</p>\n",
       "</div>"
      ],
      "text/plain": [
       "   fips        date   county    state  cases_w30  deaths_w30  fully_w30  \\\n",
       "0  1001  2021-07-25  Autauga  Alabama       7419         113       26.0   \n",
       "1  1003  2021-07-25  Baldwin  Alabama      23810         325       31.4   \n",
       "2  1005  2021-07-25  Barbour  Alabama       2434          61       27.6   \n",
       "3  1007  2021-07-25     Bibb  Alabama       2801          65       22.5   \n",
       "4  1009  2021-07-25   Blount  Alabama       7184         139       19.3   \n",
       "\n",
       "   dose1_w30  cases_w26  deaths_w26  ...  votergap16  never  rarely  \\\n",
       "0       34.0       7244         113  ...     -49.479    5.3     7.4   \n",
       "1       40.5      21945         314  ...     -57.786    8.3     5.9   \n",
       "2       34.3       2344          60  ...      -5.611    6.7    12.1   \n",
       "3       29.4       2686          64  ...     -55.544    2.0     3.4   \n",
       "4       24.2       6967         139  ...     -81.382    5.3    11.4   \n",
       "\n",
       "   sometimes  frequently  always  rate_w30  rate_w29  rate_w28  rate_w27  \n",
       "0       13.4        29.5    44.4  0.001419  0.000946  0.000729  0.000355  \n",
       "1        9.8        32.3    43.6  0.005604  0.002974  0.001245  0.000545  \n",
       "2       12.0        20.1    49.1  0.001345  0.000975  0.000605  0.000101  \n",
       "3        9.6        27.8    57.2  0.003428  0.001158  0.000417  0.000324  \n",
       "4       18.0        19.4    45.9  0.001457  0.001303  0.000600  0.000360  \n",
       "\n",
       "[5 rows x 46 columns]"
      ]
     },
     "execution_count": 136,
     "metadata": {},
     "output_type": "execute_result"
    }
   ],
   "source": [
    "covid_clean.head()"
   ]
  },
  {
   "cell_type": "code",
   "execution_count": 145,
   "metadata": {},
   "outputs": [
    {
     "data": {
      "text/plain": [
       "Index(['fips', 'date', 'county', 'state', 'cases_w30', 'deaths_w30',\n",
       "       'fully_w30', 'dose1_w30', 'cases_w26', 'deaths_w26', 'fully_w26',\n",
       "       'dose1_w26', 'cases_w27', 'deaths_w27', 'fully_w27', 'dose1_w27',\n",
       "       'cases_w28', 'deaths_w28', 'fully_w28', 'dose1_w28', 'cases_w29',\n",
       "       'deaths_w29', 'fully_w29', 'dose1_w29', 'population', 'hispanic',\n",
       "       'minority', 'female', 'unemployed', 'income', 'nodegree', 'bachelor',\n",
       "       'inactivity', 'obesity', 'density', 'votergap20', 'votergap16', 'never',\n",
       "       'rarely', 'sometimes', 'frequently', 'always', 'rate_w30', 'rate_w29',\n",
       "       'rate_w28', 'rate_w27'],\n",
       "      dtype='object')"
      ]
     },
     "execution_count": 145,
     "metadata": {},
     "output_type": "execute_result"
    }
   ],
   "source": [
    "covid_clean.columns"
   ]
  },
  {
   "cell_type": "markdown",
   "metadata": {},
   "source": [
    "**1. Has the overall average case rate increased from week 28 (July 5-11) to week 29 (July 12-18)?**"
   ]
  },
  {
   "cell_type": "code",
   "execution_count": 144,
   "metadata": {},
   "outputs": [
    {
     "data": {
      "text/html": [
       "<div>\n",
       "<style scoped>\n",
       "    .dataframe tbody tr th:only-of-type {\n",
       "        vertical-align: middle;\n",
       "    }\n",
       "\n",
       "    .dataframe tbody tr th {\n",
       "        vertical-align: top;\n",
       "    }\n",
       "\n",
       "    .dataframe thead th {\n",
       "        text-align: right;\n",
       "    }\n",
       "</style>\n",
       "<table border=\"1\" class=\"dataframe\">\n",
       "  <thead>\n",
       "    <tr style=\"text-align: right;\">\n",
       "      <th></th>\n",
       "      <th>rate_w27</th>\n",
       "      <th>rate_w28</th>\n",
       "      <th>rate_w29</th>\n",
       "      <th>rate_w30</th>\n",
       "    </tr>\n",
       "  </thead>\n",
       "  <tbody>\n",
       "    <tr>\n",
       "      <th>count</th>\n",
       "      <td>3108.000000</td>\n",
       "      <td>3108.000000</td>\n",
       "      <td>3108.000000</td>\n",
       "      <td>3108.000000</td>\n",
       "    </tr>\n",
       "    <tr>\n",
       "      <th>mean</th>\n",
       "      <td>0.000341</td>\n",
       "      <td>0.000461</td>\n",
       "      <td>0.000659</td>\n",
       "      <td>0.001064</td>\n",
       "    </tr>\n",
       "    <tr>\n",
       "      <th>std</th>\n",
       "      <td>0.000569</td>\n",
       "      <td>0.000848</td>\n",
       "      <td>0.000903</td>\n",
       "      <td>0.001269</td>\n",
       "    </tr>\n",
       "    <tr>\n",
       "      <th>min</th>\n",
       "      <td>0.000000</td>\n",
       "      <td>0.000000</td>\n",
       "      <td>0.000000</td>\n",
       "      <td>0.000000</td>\n",
       "    </tr>\n",
       "    <tr>\n",
       "      <th>25%</th>\n",
       "      <td>0.000054</td>\n",
       "      <td>0.000085</td>\n",
       "      <td>0.000142</td>\n",
       "      <td>0.000276</td>\n",
       "    </tr>\n",
       "    <tr>\n",
       "      <th>50%</th>\n",
       "      <td>0.000175</td>\n",
       "      <td>0.000239</td>\n",
       "      <td>0.000363</td>\n",
       "      <td>0.000650</td>\n",
       "    </tr>\n",
       "    <tr>\n",
       "      <th>75%</th>\n",
       "      <td>0.000402</td>\n",
       "      <td>0.000545</td>\n",
       "      <td>0.000825</td>\n",
       "      <td>0.001368</td>\n",
       "    </tr>\n",
       "    <tr>\n",
       "      <th>max</th>\n",
       "      <td>0.007573</td>\n",
       "      <td>0.022222</td>\n",
       "      <td>0.010346</td>\n",
       "      <td>0.014941</td>\n",
       "    </tr>\n",
       "  </tbody>\n",
       "</table>\n",
       "</div>"
      ],
      "text/plain": [
       "          rate_w27     rate_w28     rate_w29     rate_w30\n",
       "count  3108.000000  3108.000000  3108.000000  3108.000000\n",
       "mean      0.000341     0.000461     0.000659     0.001064\n",
       "std       0.000569     0.000848     0.000903     0.001269\n",
       "min       0.000000     0.000000     0.000000     0.000000\n",
       "25%       0.000054     0.000085     0.000142     0.000276\n",
       "50%       0.000175     0.000239     0.000363     0.000650\n",
       "75%       0.000402     0.000545     0.000825     0.001368\n",
       "max       0.007573     0.022222     0.010346     0.014941"
      ]
     },
     "execution_count": 144,
     "metadata": {},
     "output_type": "execute_result"
    }
   ],
   "source": [
    "covid_clean[['rate_w27','rate_w28','rate_w29','rate_w30']].describe()"
   ]
  },
  {
   "cell_type": "code",
   "execution_count": 129,
   "metadata": {},
   "outputs": [
    {
     "data": {
      "image/png": "[encoded data removed]",
      "text/plain": [
       "<Figure size 432x288 with 1 Axes>"
      ]
     },
     "metadata": {
      "needs_background": "light"
     },
     "output_type": "display_data"
    }
   ],
   "source": [
    "# plot novel cases per 1000 for w29\n",
    "novel_case_rate_w29_hist = plt.hist(covid_clean['rate_w29']*1000)\n",
    "plt.xlabel(\"Case rate per 1000 residents\")\n",
    "plt.ylabel(\"Number of counties\")\n",
    "plt.suptitle(\"Distribution by county of new cases per 1000 in week 29\")\n",
    "plt.show()"
   ]
  },
  {
   "cell_type": "code",
   "execution_count": 28,
   "metadata": {},
   "outputs": [
    {
     "name": "stdout",
     "output_type": "stream",
     "text": [
      "Average covid increase per 1000 in week 29: 0.6592153128754568\n"
     ]
    }
   ],
   "source": [
    "avg_covid_increase = covid_clean['rate_w29'].mean()\n",
    "print(\"Average covid increase per 1000 in week 29:\", avg_covid_increase *1000)"
   ]
  },
  {
   "cell_type": "markdown",
   "metadata": {},
   "source": [
    "**Comment:**: On an average covid has increased by 0.66 per thousand. The histogram shows that overall rate of covid cases has increased for all counties."
   ]
  },
  {
   "cell_type": "markdown",
   "metadata": {},
   "source": [
    "**2. Treating the counties as separate and equal observations: in what states did the case rate increase the most? In what states did the case rate decrease the most (or increse the least)? List the top 5 for each. Do you notice any patterns in these states?**"
   ]
  },
  {
   "cell_type": "code",
   "execution_count": 158,
   "metadata": {},
   "outputs": [
    {
     "data": {
      "text/html": [
       "<div>\n",
       "<style scoped>\n",
       "    .dataframe tbody tr th:only-of-type {\n",
       "        vertical-align: middle;\n",
       "    }\n",
       "\n",
       "    .dataframe tbody tr th {\n",
       "        vertical-align: top;\n",
       "    }\n",
       "\n",
       "    .dataframe thead th {\n",
       "        text-align: right;\n",
       "    }\n",
       "</style>\n",
       "<table border=\"1\" class=\"dataframe\">\n",
       "  <thead>\n",
       "    <tr style=\"text-align: right;\">\n",
       "      <th></th>\n",
       "      <th>county</th>\n",
       "      <th>state</th>\n",
       "      <th>rate_w29</th>\n",
       "    </tr>\n",
       "  </thead>\n",
       "  <tbody>\n",
       "    <tr>\n",
       "      <th>385</th>\n",
       "      <td>Chattahoochee</td>\n",
       "      <td>Georgia</td>\n",
       "      <td>0.010346</td>\n",
       "    </tr>\n",
       "    <tr>\n",
       "      <th>2552</th>\n",
       "      <td>Dimmit</td>\n",
       "      <td>Texas</td>\n",
       "      <td>0.010131</td>\n",
       "    </tr>\n",
       "    <tr>\n",
       "      <th>149</th>\n",
       "      <td>Searcy</td>\n",
       "      <td>Arkansas</td>\n",
       "      <td>0.008182</td>\n",
       "    </tr>\n",
       "    <tr>\n",
       "      <th>1560</th>\n",
       "      <td>Taney</td>\n",
       "      <td>Missouri</td>\n",
       "      <td>0.008079</td>\n",
       "    </tr>\n",
       "    <tr>\n",
       "      <th>574</th>\n",
       "      <td>Carroll</td>\n",
       "      <td>Illinois</td>\n",
       "      <td>0.007620</td>\n",
       "    </tr>\n",
       "  </tbody>\n",
       "</table>\n",
       "</div>"
      ],
      "text/plain": [
       "             county     state  rate_w29\n",
       "385   Chattahoochee   Georgia  0.010346\n",
       "2552         Dimmit     Texas  0.010131\n",
       "149          Searcy  Arkansas  0.008182\n",
       "1560          Taney  Missouri  0.008079\n",
       "574         Carroll  Illinois  0.007620"
      ]
     },
     "execution_count": 158,
     "metadata": {},
     "output_type": "execute_result"
    }
   ],
   "source": [
    "# show the counties with the highest rate increase\n",
    "covid_clean.sort_values('rate_w29', ascending=False)[['county', 'state', 'rate_w29']].head(5)"
   ]
  },
  {
   "cell_type": "code",
   "execution_count": 163,
   "metadata": {},
   "outputs": [
    {
     "data": {
      "text/html": [
       "<div>\n",
       "<style scoped>\n",
       "    .dataframe tbody tr th:only-of-type {\n",
       "        vertical-align: middle;\n",
       "    }\n",
       "\n",
       "    .dataframe tbody tr th {\n",
       "        vertical-align: top;\n",
       "    }\n",
       "\n",
       "    .dataframe thead th {\n",
       "        text-align: right;\n",
       "    }\n",
       "</style>\n",
       "<table border=\"1\" class=\"dataframe\">\n",
       "  <thead>\n",
       "    <tr style=\"text-align: right;\">\n",
       "      <th></th>\n",
       "      <th>county</th>\n",
       "      <th>state</th>\n",
       "      <th>rate_w29</th>\n",
       "    </tr>\n",
       "  </thead>\n",
       "  <tbody>\n",
       "    <tr>\n",
       "      <th>1553</th>\n",
       "      <td>Scotland</td>\n",
       "      <td>Missouri</td>\n",
       "      <td>0.0</td>\n",
       "    </tr>\n",
       "    <tr>\n",
       "      <th>1589</th>\n",
       "      <td>Granite</td>\n",
       "      <td>Montana</td>\n",
       "      <td>0.0</td>\n",
       "    </tr>\n",
       "    <tr>\n",
       "      <th>1597</th>\n",
       "      <td>McCone</td>\n",
       "      <td>Montana</td>\n",
       "      <td>0.0</td>\n",
       "    </tr>\n",
       "    <tr>\n",
       "      <th>1598</th>\n",
       "      <td>Madison</td>\n",
       "      <td>Montana</td>\n",
       "      <td>0.0</td>\n",
       "    </tr>\n",
       "    <tr>\n",
       "      <th>1599</th>\n",
       "      <td>Meagher</td>\n",
       "      <td>Montana</td>\n",
       "      <td>0.0</td>\n",
       "    </tr>\n",
       "  </tbody>\n",
       "</table>\n",
       "</div>"
      ],
      "text/plain": [
       "        county     state  rate_w29\n",
       "1553  Scotland  Missouri       0.0\n",
       "1589   Granite   Montana       0.0\n",
       "1597    McCone   Montana       0.0\n",
       "1598   Madison   Montana       0.0\n",
       "1599   Meagher   Montana       0.0"
      ]
     },
     "execution_count": 163,
     "metadata": {},
     "output_type": "execute_result"
    }
   ],
   "source": [
    "# show the counties with the lowest rate increase\n",
    "covid_clean.sort_values('rate_w29', ascending=True)[['county', 'state', 'rate_w29']].head(5)"
   ]
  },
  {
   "cell_type": "markdown",
   "metadata": {},
   "source": [
    "**Comment:** From the above data it looks like the northern states with small cities had the lowest increase in cases, and the southern states with largers cities had the highest increase in cases in week 29."
   ]
  },
  {
   "cell_type": "markdown",
   "metadata": {},
   "source": [
    "**Create and interpret separate visuals to display how the country case rate in week 29 relates to each of the following variables. Interpret what you see (be specific to this domain).**\n",
    "\n",
    "**a. The political views in the county (as measured by the votergap in the 2020 election).**"
   ]
  },
  {
   "cell_type": "code",
   "execution_count": 168,
   "metadata": {},
   "outputs": [
    {
     "data": {
      "image/png": "[encoded data removed]",
      "text/plain": [
       "<Figure size 432x288 with 1 Axes>"
      ]
     },
     "metadata": {
      "needs_background": "light"
     },
     "output_type": "display_data"
    }
   ],
   "source": [
    "# plot novel cases per 1000 for w29 as a function of votergap\n",
    "# plt.scatter(covid_clean['votergap20'],np.log(covid_clean['rate_w29']*1000))\n",
    "\n",
    "plt.scatter(covid_clean['votergap20'],(covid_clean['rate_w29']*1000))\n",
    "plt.xlabel(\"Votergap in the 2020 election\")\n",
    "plt.ylabel(\"Case rate per 1000 residents\")\n",
    "plt.suptitle(\"Distribution of novel cases in week 29 by votergap\")\n",
    "plt.show()"
   ]
  },
  {
   "cell_type": "markdown",
   "metadata": {},
   "source": [
    "**Comment:** There seems to be a pattern between votergap in the 2020 elections and the covid novel case rate in week 29. Negative votergap seems to have higher case increase per 1000. There might be an issue in interprettimng the above graph as there might be equal number of counties between 0-2 for both positive and negative votergap and outliers might lead to the above conclusion. "
   ]
  },
  {
   "cell_type": "code",
   "execution_count": 174,
   "metadata": {},
   "outputs": [
    {
     "data": {
      "image/png": "[encoded data removed]",
      "text/plain": [
       "<Figure size 432x288 with 1 Axes>"
      ]
     },
     "metadata": {
      "needs_background": "light"
     },
     "output_type": "display_data"
    }
   ],
   "source": [
    "# show the logaritmic view to distribute the scatter more evenly\n",
    "plt.scatter(covid_clean['votergap20'],np.log(covid_clean['rate_w29']*1000))\n",
    "plt.xlabel(\"Votergap in the 2020 election\")\n",
    "plt.ylabel(\"Log of Case rate per 1000 residents\")\n",
    "plt.suptitle(\"Distribution of novel cases in week 29 by votergap\")\n",
    "plt.show()"
   ]
  },
  {
   "cell_type": "markdown",
   "metadata": {},
   "source": [
    "**Comment:** A log transformation of the rate does not show any identifiable pattern."
   ]
  },
  {
   "cell_type": "markdown",
   "metadata": {},
   "source": [
    "**b. The vaccination rate in the county (for week 28) (be sure to throw away the zeros as these represent unreported values).**"
   ]
  },
  {
   "cell_type": "code",
   "execution_count": 169,
   "metadata": {},
   "outputs": [
    {
     "name": "stdout",
     "output_type": "stream",
     "text": [
      "Counties with unreported vaccination numbers in week 28: 273\n"
     ]
    }
   ],
   "source": [
    "print(\"Counties with unreported vaccination numbers in week 28:\",\n",
    "      len(covid_clean) - len(covid_clean[covid_clean.fully_w28 !=0]))"
   ]
  },
  {
   "cell_type": "code",
   "execution_count": 173,
   "metadata": {},
   "outputs": [
    {
     "data": {
      "image/png": "[encoded data removed]",
      "text/plain": [
       "<Figure size 432x288 with 1 Axes>"
      ]
     },
     "metadata": {
      "needs_background": "light"
     },
     "output_type": "display_data"
    }
   ],
   "source": [
    "# plot novel cases per 1000 for w29 as a function of vaccination in the previous week\n",
    "plt.scatter(covid_clean[covid_clean.fully_w28 !=0]['fully_w28'],covid_clean[covid_clean.fully_w28!=0]['rate_w29']*1000)\n",
    "plt.xlabel(\"Vaccination rates\")\n",
    "plt.ylabel(\"Case rate per 1000 residents\")\n",
    "plt.suptitle(\"Distribution of novel cases in week 29 by vaccination rates in week 28\")\n",
    "plt.show()"
   ]
  },
  {
   "cell_type": "code",
   "execution_count": 176,
   "metadata": {},
   "outputs": [
    {
     "data": {
      "image/png": "[encoded data removed]",
      "text/plain": [
       "<Figure size 432x288 with 1 Axes>"
      ]
     },
     "metadata": {
      "needs_background": "light"
     },
     "output_type": "display_data"
    }
   ],
   "source": [
    "# plot novel cases per 1000 for w29 as a function of vaccination in the previous week\n",
    "plt.scatter(covid_clean[covid_clean.fully_w28 !=0]['fully_w28'],\n",
    "            np.log(covid_clean[covid_clean.fully_w28!=0]['rate_w29']*1000))\n",
    "plt.xlabel(\"Vaccination rates\")\n",
    "plt.ylabel(\"Log of case rate per 1000 residents\")\n",
    "plt.suptitle(\"Distribution of novel cases in week 29 by vaccination rates in week 28\")\n",
    "plt.show()"
   ]
  },
  {
   "cell_type": "markdown",
   "metadata": {},
   "source": [
    "**Comment:** In the first graph there seems to be an increase rates when the vacintaion rate is between 20 and 40% which is counter intutive. But with a log transform there doesn't seem to be a pattern between vaccination rates in week 28 and the covid case rate in week 29."
   ]
  },
  {
   "cell_type": "markdown",
   "metadata": {},
   "source": [
    "**c. The population density of the county.**"
   ]
  },
  {
   "cell_type": "code",
   "execution_count": 178,
   "metadata": {},
   "outputs": [
    {
     "data": {
      "image/png": "[encoded data removed]",
      "text/plain": [
       "<Figure size 432x288 with 1 Axes>"
      ]
     },
     "metadata": {
      "needs_background": "light"
     },
     "output_type": "display_data"
    }
   ],
   "source": [
    "# plot novel cases per 1000 for w29 as a function of votergap\n",
    "# show the logaritmic view to distribute the scatter more evenly\n",
    "plt.scatter(np.log(covid_clean['density']),(covid_clean['rate_w29']*1000))\n",
    "plt.xlabel(\"Population\")\n",
    "plt.ylabel(\"Case rate per 1000 residents\")\n",
    "plt.suptitle(\"Distribution of novel cases in week 29 by population density\")\n",
    "plt.show()"
   ]
  },
  {
   "cell_type": "code",
   "execution_count": 177,
   "metadata": {},
   "outputs": [
    {
     "data": {
      "image/png": "[encoded data removed]",
      "text/plain": [
       "<Figure size 432x288 with 1 Axes>"
      ]
     },
     "metadata": {
      "needs_background": "light"
     },
     "output_type": "display_data"
    }
   ],
   "source": [
    "# plot novel cases per 1000 for w29 as a function of votergap\n",
    "# show the logaritmic view to distribute the scatter more evenly\n",
    "plt.scatter(np.log(covid_clean['density']),np.log(covid_clean['rate_w29']*1000))\n",
    "plt.xlabel(\"Population\")\n",
    "plt.ylabel(\"Log of case rate per 1000 residents\")\n",
    "plt.suptitle(\"Distribution of novel cases in week 29 by population density\")\n",
    "plt.show()"
   ]
  },
  {
   "cell_type": "markdown",
   "metadata": {},
   "source": [
    "**Comment:** In the first graph there seems to be an increase rates when the population density is between 2 and 6. Covid might be moving from large cities to tier two cities. But with a log transform there doesn't seem to be a pattern between population density and the covid case rate in week 29."
   ]
  },
  {
   "cell_type": "markdown",
   "metadata": {},
   "source": [
    "**d. Whether 50% or more of the surveyed residents in the county report that they always wore a mask in public at the time of the survey.**"
   ]
  },
  {
   "cell_type": "code",
   "execution_count": 179,
   "metadata": {},
   "outputs": [
    {
     "data": {
      "image/png": "[encoded data removed]",
      "text/plain": [
       "<Figure size 432x288 with 1 Axes>"
      ]
     },
     "metadata": {
      "needs_background": "light"
     },
     "output_type": "display_data"
    }
   ],
   "source": [
    "# plot novel cases per 1000 for w29 as a function of votergap\n",
    "case_rate_w29_hist_above_50_masked = plt.hist(covid_clean[covid_clean.always>=50]['rate_w29']*1000, \n",
    "                                                    alpha=0.5, label='Above 50% always wears mask')\n",
    "case_rate_w29_hist_below_50_masked = plt.hist(covid_clean[covid_clean.always<50]['rate_w29']*1000, \n",
    "                                                    alpha=0.5, label='Below 50% always wears mask')\n",
    "plt.xlabel(\"Novel case rate per 1000 residents\")\n",
    "plt.ylabel(\"Number of counties\")\n",
    "plt.legend()\n",
    "plt.suptitle(\"Distribution by county of new cases per 1000 in week 29\")\n",
    "plt.show()"
   ]
  },
  {
   "cell_type": "markdown",
   "metadata": {},
   "source": [
    "**Comment:** For below 50% case rates seemes to be higher after 2 cases per 1000"
   ]
  },
  {
   "cell_type": "markdown",
   "metadata": {},
   "source": [
    "---"
   ]
  },
  {
   "cell_type": "markdown",
   "metadata": {},
   "source": [
    "## Question 2 [35pts]: Regression modeling \n",
    "\n",
    "**2.1** Fit a linear regression model to predict `rate_w29` (which represent the rate of new cases in the week of July 12-18) from `rate_w28` (July 5-11). Report the 95% confidence intervals for the coefficients, and carefully interpret the coefficients (including their statistical significances).  What does this model suggest about whether the rate of COVID infection increased from week 28 to week 29?\n",
    "\n",
    "\n",
    "**2.2** Fit a linear regression model to predict `rate_w29` from `rate_w28` and `votergap20` along with the interaction between the two.  Interpret the coefficient estimates carefully (no need to mention significances).\n",
    "\n",
    "\n",
    "**2.3** Create a scatterplot of `rate_w29` vs. `rate_w28`.  Add 3 separate predicted lines from your model in 2.2 to this scatterplot: the predicted line from the model in 2.2 for counties...\n",
    "    1. where Biden was favored by 50 percentage points.\n",
    "    2. where Biden and Trump were equal\n",
    "    3. where Trump was favored by 50 percentage points.\n",
    "Interpret what you see.\n",
    "\n",
    "\n",
    "**2.4** Fit a linear regression model to assess the overall association of vaccination rate (`fully_w28`) on `rate_w29`.  Carefully interpret the results (including the statistical significance).  \n",
    "\n",
    "\n",
    "**2.5** Many counties have the value zero for `fully_w28` which really represents a missing/unreported value for vaccinationr rate.  Comment on the effect of ignoring this issue can have on the intepretations and inferences in the model in 2.4.  What would be a better way of handling this issue?\n",
    "\n",
    "\n",
    "**2.6** What factors could be confounded (whether mesured here or not) with the result seen in the model from 2.3 (list up to 3)?  Fit an appropriate linear model that controls for as many of these factors as possible (for those that are measured in this data set). Interpret the coefficient estimates from this model and compare to the results from 2.4.\n",
    "\n",
    "**2.7** What major issue could arise if you fit a model to predict `rate_w29` from `rate_w28` and `rate_w27` (or from `fully_w28` and `fully_w27`) in a linear regression model?  Suggest and explain the use of two different approaches to account for this: one approach should be based on modeling and one approach should be based on feature engineering/variable transformations (not PCA). \n",
    "\n",
    "**2.8** The test set has a response variable that is `rate_w30`.  How would you use your models to predict `rate_w29` in this section in order to predict `rate_w30` instead?  Explain.  What could go wrong in this modification?\n",
    "\n",
    "**Hint**: what should be the predictors to predict `rate_w30` instead of `rate_w29`? \n"
   ]
  },
  {
   "cell_type": "markdown",
   "metadata": {},
   "source": [
    "## Answers"
   ]
  },
  {
   "cell_type": "markdown",
   "metadata": {},
   "source": [
    "**2.1** Fit a linear regression model to predict `rate_w29` (which represent the rate of new cases in the week of July 12-18) from `rate_w28` (July 5-11). Report the 95% confidence intervals for the coefficients, and carefully interpret the coefficients (including their statistical significances).  What does this model suggest about whether the rate of COVID infection increased from week 28 to week 29?\n"
   ]
  },
  {
   "cell_type": "code",
   "execution_count": 37,
   "metadata": {},
   "outputs": [],
   "source": [
    "######\n",
    "# your code here\n",
    "######"
   ]
  },
  {
   "cell_type": "markdown",
   "metadata": {},
   "source": [
    "**2.2** Fit a linear regression model to predict `rate_w29` from `rate_w28` and `votergap20` along with the interaction between the two.  Interpret the coefficient estimates carefully (no need to mention significances).\n"
   ]
  },
  {
   "cell_type": "code",
   "execution_count": 66,
   "metadata": {},
   "outputs": [],
   "source": [
    "######\n",
    "# your code here\n",
    "######"
   ]
  },
  {
   "cell_type": "markdown",
   "metadata": {},
   "source": [
    "**2.3** Create a scatterplot of `rate_w29` vs. `rate_w28`.  Add 3 separate predicted lines from your model in 2.2 to this scatterplot: the predicted line from the model in 2.2 for counties...\n",
    "    1. where Biden was favored by 50 percentage points.\n",
    "    2. where Biden and Trump were equal\n",
    "    3. where Trump was favored by 50 percentage points.\n",
    "Interpret what you see.\n",
    "\n",
    "\n"
   ]
  },
  {
   "cell_type": "code",
   "execution_count": 42,
   "metadata": {},
   "outputs": [],
   "source": [
    "######\n",
    "# your code here\n",
    "######"
   ]
  },
  {
   "cell_type": "markdown",
   "metadata": {},
   "source": [
    "*your answer here*"
   ]
  },
  {
   "cell_type": "markdown",
   "metadata": {},
   "source": [
    "**2.4** Fit a linear regression model to assess the overall association of vaccination rate (`fully_w28`) on `rate_w29`.  Carefully interpret the results (including the statistical significance).  \n",
    "\n",
    "\n"
   ]
  },
  {
   "cell_type": "code",
   "execution_count": 43,
   "metadata": {},
   "outputs": [],
   "source": [
    "######\n",
    "# your code here\n",
    "######"
   ]
  },
  {
   "cell_type": "markdown",
   "metadata": {},
   "source": [
    "*your answer here*"
   ]
  },
  {
   "cell_type": "markdown",
   "metadata": {},
   "source": [
    "**2.5** Many counties have the value zero for `fully_w28` which really represents a missing/unreported value for vaccinationr rate.  Comment on the effect of ignoring this issue can have on the intepretations and inferences in the model in 2.4.  What would be a better way of handling this issue?\n",
    "\n",
    "\n"
   ]
  },
  {
   "cell_type": "markdown",
   "metadata": {},
   "source": [
    "*your answer here*"
   ]
  },
  {
   "cell_type": "markdown",
   "metadata": {},
   "source": [
    "**2.6** What factors could be confounded (whether mesured here or not) with the result seen in the model from 2.3 (list up to 3)?  Fit an appropriate linear model that controls for as many of these factors as possible (for those that are measured in this data set). Interpret the coefficient estimates from this model and compare to the results from 2.4.\n",
    "\n"
   ]
  },
  {
   "cell_type": "code",
   "execution_count": 44,
   "metadata": {},
   "outputs": [],
   "source": [
    "######\n",
    "# your code here\n",
    "######"
   ]
  },
  {
   "cell_type": "markdown",
   "metadata": {},
   "source": [
    "*your answer here*"
   ]
  },
  {
   "cell_type": "markdown",
   "metadata": {},
   "source": [
    "**2.7** What major issue could arise if you fit a model to predict `rate_w29` from `rate_w28` and `rate_w27` (or from `fully_w28` and `fully_w27`) in a linear regression model?  Suggest and explain the use of two different approaches to account for this: one approach should be based on modeling and one approach should be based on feature engineering/variable transformations (not PCA). \n",
    "\n"
   ]
  },
  {
   "cell_type": "markdown",
   "metadata": {},
   "source": [
    "*your answer here*"
   ]
  },
  {
   "cell_type": "markdown",
   "metadata": {},
   "source": [
    "**2.8** The test set has a response variable that is `rate_w30`.  How would you use your models to predict `rate_w29` in this section in order to predict `rate_w30` instead?  Explain.  What could go wrong in this modification?\n",
    "\n",
    "**Hint**: what should be the predictors to predict `rate_w30` instead of `rate_w29`? \n"
   ]
  },
  {
   "cell_type": "markdown",
   "metadata": {},
   "source": [
    "*your answer here*"
   ]
  },
  {
   "cell_type": "markdown",
   "metadata": {},
   "source": [
    "---"
   ]
  },
  {
   "cell_type": "markdown",
   "metadata": {},
   "source": [
    "## Question 3 [30pts]: Prediction modeling \n",
    "\n",
    "**3.1** Fit a well-tuned lasso model to predict `rate_w29` from the following set of predictors (along with all 2-way interactions among the main effects and all 2nd and 3rd order polynomial terms):\n",
    "\n",
    "`['rate_w28','rate_w27','dose1_w28','hispanic','minority','female','unemployed', 'income','nodegree','bachelor','inactivity','obesity','density','cancer','votergap20']`\n",
    "\n",
    "Report and explain the best choice of $\\lambda$ (a visual can help with this), your estimate of out-of-sample $R^2$, along with the number of coefficients that shrunk exactly to zero (or numerically zero) and the number that are non-zero.\n",
    "\n",
    "**3.2** Plot the trajectory curves of the main effects `['rate_w28','rate_w27','fully_w28','votergap20']` from this model: the estimates of the $\\beta$ coefficients as a function of $\\lambda$.  Interpret what you notice.\n",
    "\n",
    "**3.3** Fit a well-tuned random forest model to predict `rate_w29` from the predictors listed in 3.1.  Report your choice of the tuning parameters and briefly justify your choices (a visual or table may be helpful for this).  Provide an estimate of out-of-sample $R^2$.  Note: do not go to crazy with the number of options for the parameters you are tuning...choose a set of values that are reasonable.\n",
    "\n",
    "**3.4** Interpret the relationship between `rate_w29` and `dose1_w28` from the random forest model in 3.3.  Is there any evidence of interactive effects in this model involving `dose1_w28`?  How do you know?  Provide a reasonable visual (or a few visuals) to help you with these tasks and interpret what you see. \n",
    "\n",
    "**3.5** Fit a well-tuned boosting model to predict `rate_w29` from the predictors listed in 3.1.  Report your best choice of the tuning parameters and briefly justify your choice (a visual or table may be helpful for this).  Provide an estimate of out-of-sample $R^2$.  Note: again, do not go to crazy with the number of options for the parameters you are tuning...choose a set of values that are reasonable.\n",
    "\n",
    "**3.6** Improve upon your favorite/best predictive model from 3.1, 3.3, or 3.5, by including other provided feature, by doing feature engineering, or by doing variable removal/selection.  Explain your choices.  Provide an estimate of out-of-sample $R^2$. \n",
    "\n",
    "**3.7** Evaluate your models from 3.1, 3.3, 3.5, and 3.6 on the test set (this will take some work...refer back to 2.8) using $R^2$.  How do these model's $R^2$ in test compare to the out-of-sample $R^2$ when tuning?  Explain whether this is surprising or not?\n",
    "\n"
   ]
  },
  {
   "cell_type": "markdown",
   "metadata": {},
   "source": [
    "## Answers"
   ]
  },
  {
   "cell_type": "markdown",
   "metadata": {},
   "source": [
    "**3.1** Fit a well-tuned lasso model to predict `rate_w29` from the following set of predictors (along with all 2-way interactions among the main effects and all 2nd and 3rd order polynomial terms):\n",
    "\n",
    "`['rate_w28','rate_w27','dose1_w28','hispanic','minority','female','unemployed', 'income','nodegree','bachelor','inactivity','obesity','density','cancer','votergap20']`\n",
    "\n",
    "Report and explain the best choice of $\\lambda$ (a visual can help with this), your estimate of out-of-sample $R^2$, along with the number of coefficients that shrunk exactly to zero (or numerically zero) and the number that are non-zero.\n"
   ]
  },
  {
   "cell_type": "code",
   "execution_count": 45,
   "metadata": {},
   "outputs": [],
   "source": [
    "######\n",
    "# your code here\n",
    "######"
   ]
  },
  {
   "cell_type": "markdown",
   "metadata": {},
   "source": [
    "*your answer here*"
   ]
  },
  {
   "cell_type": "markdown",
   "metadata": {},
   "source": [
    "**3.2** Plot the trajectory curves of the main effects `['rate_w28','rate_w27','fully_w28','votergap20']` from this model: the estimates of the $\\beta$ coefficients as a function of $\\lambda$.  Interpret what you notice.\n"
   ]
  },
  {
   "cell_type": "code",
   "execution_count": 46,
   "metadata": {},
   "outputs": [],
   "source": [
    "######\n",
    "# your code here\n",
    "######"
   ]
  },
  {
   "cell_type": "markdown",
   "metadata": {},
   "source": [
    "*your answer here*"
   ]
  },
  {
   "cell_type": "markdown",
   "metadata": {},
   "source": [
    "**3.3** Fit a well-tuned random forest model to predict `rate_w29` from the predictors listed in 3.1.  Report your choice of the best tuning parameters and briefly justify your choice (a visual or table may be helpful for this).  Provide an estimate of out-of-sample $R^2$.  Note: do not go to crazy with the number of options for the parameters you are tuning...choose a set of values that are reasonable.\n"
   ]
  },
  {
   "cell_type": "code",
   "execution_count": 47,
   "metadata": {},
   "outputs": [],
   "source": [
    "######\n",
    "# your code here\n",
    "######"
   ]
  },
  {
   "cell_type": "markdown",
   "metadata": {},
   "source": [
    "*your answer here*"
   ]
  },
  {
   "cell_type": "markdown",
   "metadata": {},
   "source": [
    "**3.4** Interpret the relationship between `rate_w29` and `dose1_w28` from the random forest model in 3.3.  Is there any evidence of interactive effects in this model involving `dose1_w28`?  How do you know?  Provide a reasonable visual (or a few visuals) to help you with these tasks and interpret what you see. \n",
    "\n"
   ]
  },
  {
   "cell_type": "code",
   "execution_count": 48,
   "metadata": {},
   "outputs": [],
   "source": [
    "######\n",
    "# your code here\n",
    "######"
   ]
  },
  {
   "cell_type": "markdown",
   "metadata": {},
   "source": [
    "*your answer here*"
   ]
  },
  {
   "cell_type": "markdown",
   "metadata": {},
   "source": [
    "**3.5** Fit a well-tuned boosting model to predict `rate_w29` from the predictors listed in 3.1.  Report your best choice of the tuning parameters and briefly justify your choice (a visual or table may be helpful for this).  Provide an estimate of out-of-sample $R^2$.  Note: again, do not go to crazy with the number of options for the parameters you are tuning...choose a set of values that are reasonable.\n",
    "\n"
   ]
  },
  {
   "cell_type": "code",
   "execution_count": 49,
   "metadata": {},
   "outputs": [],
   "source": [
    "######\n",
    "# your code here\n",
    "######"
   ]
  },
  {
   "cell_type": "markdown",
   "metadata": {},
   "source": [
    "*your answer here*"
   ]
  },
  {
   "cell_type": "markdown",
   "metadata": {},
   "source": [
    "**3.6** Improve upon your favorite/best predictive model from 3.1, 3.3, or 3.5, by including other provided feature, by doing feature engineering, or by doing variable removal/selection.  Explain your choices.  Provide an estimate of out-of-sample $R^2$. \n",
    "\n"
   ]
  },
  {
   "cell_type": "code",
   "execution_count": 50,
   "metadata": {},
   "outputs": [],
   "source": [
    "######\n",
    "# your code here\n",
    "######"
   ]
  },
  {
   "cell_type": "markdown",
   "metadata": {},
   "source": [
    "*your answer here*"
   ]
  },
  {
   "cell_type": "markdown",
   "metadata": {},
   "source": [
    "**3.7** Evaluate your models from 3.1, 3.3, 3.5, and 3.6 on the test set (this will take some work...refer back to 2.8) using $R^2$.  How do these model's $R^2$ in test compare to the out-of-sample $R^2$ when tuning?  Explain whether this is surprising or not?"
   ]
  },
  {
   "cell_type": "code",
   "execution_count": 51,
   "metadata": {},
   "outputs": [],
   "source": [
    "######\n",
    "# your code here\n",
    "######"
   ]
  },
  {
   "cell_type": "markdown",
   "metadata": {},
   "source": [
    "*your answer here*"
   ]
  },
  {
   "cell_type": "markdown",
   "metadata": {},
   "source": [
    "---"
   ]
  },
  {
   "cell_type": "markdown",
   "metadata": {},
   "source": [
    "## Question 4 [10pts]: Going further\n",
    "\n",
    "**4.1** Use all of the useable variables in `demo` and `masks` to create clusters of observations based on the $K$-means clustering approach.  Be sure to carefully select a reasonable choice for $K$.  Explain your choice (a visual may help with this).\n",
    "\n",
    "**4.2** Use your created clusters and incorporate them as predictor(s) into a linear regression model to assess whether the relationships you measured in the model from 2.6 depend on cluster type.  Comment on what you notice.  Determine whether out-of-sample $R^2$ has improved using this model (in comparison to the model from 2.6) based on 5-fold CV.\n",
    "\n",
    "**4.3: BONUS** Find data online to improve the prediction accuracy of your best model. Be sure to cite your source of your data and the approach you took into incorporating these new data.  Note: this is only worth up to 3 bonus points, so do not spend too much effor on this part over improving ealrier parts of the exam."
   ]
  },
  {
   "cell_type": "markdown",
   "metadata": {},
   "source": [
    "## Answers"
   ]
  },
  {
   "cell_type": "markdown",
   "metadata": {},
   "source": [
    "**4.1** Use all of the useable variables in `demo` and `masks` to create clusters of observations based on the $K$-means clustering approach.  Be sure to carefully select a reasonable choice for $K$.  Explain your choice (a visual may help with this)."
   ]
  },
  {
   "cell_type": "code",
   "execution_count": 52,
   "metadata": {},
   "outputs": [],
   "source": [
    "######\n",
    "# your code here\n",
    "######"
   ]
  },
  {
   "cell_type": "markdown",
   "metadata": {},
   "source": [
    "*your answer here*"
   ]
  },
  {
   "cell_type": "markdown",
   "metadata": {},
   "source": [
    "**4.2** Use your created clusters and incorporate them as predictor(s) into a linear regression model to assess whether the relationships you measured in the model from 2.6 depend on cluster type.  Comment on what you notice.  Determine whether out-of-sample $R^2$ has improved using this model (in comparison to the model from 2.6) based on 5-fold CV.\n"
   ]
  },
  {
   "cell_type": "code",
   "execution_count": 53,
   "metadata": {},
   "outputs": [],
   "source": [
    "######\n",
    "# your code here\n",
    "######"
   ]
  },
  {
   "cell_type": "markdown",
   "metadata": {},
   "source": [
    "*your answer here*"
   ]
  },
  {
   "cell_type": "markdown",
   "metadata": {},
   "source": [
    "**4.3: BONUS** Find data online to improve the prediction accuracy of your best model. Be sure to cite your source of your data and the approach you took into incorporating these new data.  Note: this is only worth up to 3 bonus points, so do not spend too much effor on this part over improving ealrier parts of the exam."
   ]
  },
  {
   "cell_type": "code",
   "execution_count": 54,
   "metadata": {},
   "outputs": [],
   "source": [
    "######\n",
    "# your code here\n",
    "######\n",
    "\n"
   ]
  },
  {
   "cell_type": "markdown",
   "metadata": {},
   "source": [
    "*your answer here*"
   ]
  }
 ],
 "metadata": {
  "anaconda-cloud": {},
  "kernelspec": {
   "display_name": "Python 3",
   "language": "python",
   "name": "python3"
  },
  "language_info": {
   "codemirror_mode": {
    "name": "ipython",
    "version": 3
   },
   "file_extension": ".py",
   "mimetype": "text/x-python",
   "name": "python",
   "nbconvert_exporter": "python",
   "pygments_lexer": "ipython3",
   "version": "3.7.6"
  }
 },
 "nbformat": 4,
 "nbformat_minor": 2
}
