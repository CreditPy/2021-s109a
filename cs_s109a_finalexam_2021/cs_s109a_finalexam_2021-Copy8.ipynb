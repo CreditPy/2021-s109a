{
 "cells": [
  {
   "cell_type": "markdown",
   "metadata": {
    "button": false,
    "new_sheet": false,
    "run_control": {
     "read_only": false
    }
   },
   "source": [
    "# <img style=\"float: left; padding-right: 10px; width: 45px\" src=\"https://github.com/Harvard-IACS/2021-s109a/blob/master/lectures/crest.png?raw=true\"> CS-S109A Introduction to Data Science \n",
    "\n",
    "## Final Exam: COVID-19 Modeling\n",
    "\n",
    "**Harvard University**<br/>\n",
    "**Summer 2021**<br/>\n",
    "**Instructors**: Kevin Rader\n",
    "\n",
    "\n",
    "<hr style='height:2px'>\n",
    "\n",
    "---\n",
    "\n"
   ]
  },
  {
   "cell_type": "markdown",
   "metadata": {},
   "source": [
    "### INSTRUCTIONS\n",
    "\n",
    "- This final exam is to be completed indivudally.  Do not consult with your peers when working on it (you can aks the teaching staff for clarification questions, including private messages on Ed).\n",
    "- To submit your assignment follow the instructions given in Canvas.\n",
    "- Restart the kernel and run the whole notebook again before you submit. \n",
    "- As much as possible, try and stick to the hints and functions we import at the top of the homework, as those are the ideas and tools the class supports and is aiming to teach. And if a problem specifies a particular library you're required to use that library, and possibly others from the import list.\n",
    "- Please use .head() when viewing data. Do not submit a notebook that is excessively long because output was not suppressed or otherwise limited. \n",
    "\n",
    "**Note: for all problems, it is up to you to decide how to transform the data (standardization, log transformations, etc.).  Be sure you use and interpret theses transformations approporiately.**"
   ]
  },
  {
   "cell_type": "code",
   "execution_count": 1,
   "metadata": {},
   "outputs": [],
   "source": [
    "import numpy as np\n",
    "import pandas as pd\n",
    "import scipy as sp\n",
    "import sklearn as sk\n",
    "import statsmodels as sm\n",
    "import matplotlib.pyplot as plt\n",
    "import seaborn as sns\n",
    "\n",
    "# You are free to use any functions/methods within these packages (BS4, ELI5, and LIME are fine too)\n",
    "# if you would like to use any other, please contact the teaching staff \n",
    "\n",
    "# adding some additional imports to simplify syntax\n",
    "from scipy.spatial.distance import cdist\n",
    "\n",
    "from sklearn.cluster import KMeans\n",
    "\n",
    "from sklearn.ensemble import RandomForestRegressor\n",
    "from sklearn.ensemble import AdaBoostRegressor\n",
    "\n",
    "from sklearn.linear_model import Lasso\n",
    "from sklearn.linear_model import LinearRegression\n",
    "\n",
    "from sklearn.metrics import r2_score\n",
    "\n",
    "from sklearn.model_selection import train_test_split\n",
    "from sklearn.model_selection import cross_val_score\n",
    "\n",
    "from sklearn.preprocessing import MinMaxScaler\n",
    "from sklearn.preprocessing import OneHotEncoder\n",
    "from sklearn.preprocessing import power_transform\n",
    "\n",
    "from sklearn.tree import DecisionTreeRegressor\n",
    "\n",
    "from sklearn.utils import resample\n",
    "\n",
    "from statsmodels.api import OLS\n",
    "\n",
    "import warnings"
   ]
  },
  {
   "cell_type": "code",
   "execution_count": 2,
   "metadata": {},
   "outputs": [],
   "source": [
    "warnings.filterwarnings(\"ignore\")"
   ]
  },
  {
   "cell_type": "markdown",
   "metadata": {},
   "source": [
    "<hr style=\"height:2pt\">"
   ]
  },
  {
   "cell_type": "markdown",
   "metadata": {},
   "source": [
    "# Analyzing the recent spread of COVID-19 \n",
    "\n",
    "![](fig/vaccine.jpeg)"
   ]
  },
  {
   "cell_type": "markdown",
   "metadata": {},
   "source": [
    "You are tasked with using the COVID case and vaccination data across counties presented by the CDC to analyze the recent surge in COVID infections and the association with (amonth other predictors).  You are also tasked with building prediction models to forecast how the disease spread will change based on data from the previous week (and  demographic and other measures.\n",
    "\n",
    "The exam broken into 4 problems:\n",
    "- Problem 1: Data Wrangling and Explorations\n",
    "- Problem 2: Interpretive Linear Regression Modeling\n",
    "- Problem 3: Prediction Modeling\n",
    "- Problem 4: Further Analysis\n",
    "\n",
    "You are provided with four raw data files, and a 5th cleaned file is provided to be used for all EDA and modeling tasks."
   ]
  },
  {
   "cell_type": "markdown",
   "metadata": {},
   "source": [
    "The variables included in each of the four raw data sets are:\n",
    "\n",
    "For 'covid_cases_county.csv' (note: counties show up many times in this dataset: once for each data they report the number of cases):\n",
    "- `date`: the date of the measurement, taken weekly\n",
    "- `county`: county name\n",
    "- `state`: the state in which the county lies\n",
    "- `fips`: the unique Federal Information Processing System (FIPS) codes for the county\n",
    "- `cases`: the cumulative number of confirmed positive cases up to and including that date\n",
    "- `deaths`: the cumulative number of confirmed COVID-related deaths up to and including that date\n",
    "\n",
    "\n",
    "For 'vaccines_county.csv' (note: counties show up many times in this dataset: once for each data they report the number of cases):\n",
    "- `date`: the date of the measurement, taken weekly\n",
    "- `fips`: the unique FIPS code for the county\n",
    "- `fully`: the percent of residents that are fully vaccinated in the county on that date\n",
    "- `dose1`: the percent of residents that have received at least one vaccine dose in the county on that date.\n",
    "\n",
    "For 'masks_county.csv' (note: this is based on a survey conducted by the New York Times in summer of 2020):\n",
    "- `fips`: the unique FIPS code for the county\n",
    "- `never`: the percent of respondents that report they never wore masks in public\n",
    "- `rarely`: the percent of respondents that report they rarely wore masks in public\n",
    "- `sometimes`: the percent of respondents that report they sometimes wore masks in public\t\n",
    "- `frequently`: the percent of respondents that report they frequently wore masks in public\t\n",
    "- `always`: the percent of respondents that report they always wore masks in public\n",
    "\n",
    "For 'demographics_county.csv' (note: these are various measures taken from 2010 to 2020):\n",
    "- `fips`: the unique FIPS code for the county\n",
    "- `population`: total number of residents in the country\t\n",
    "- `hispanic`: the percentage of residents that self-identify as hispanic\n",
    "- `minority`: the percentage of residents that self-identify as a minority group (non-white)\n",
    "- `female`: the percentage of residents that self-identify as female\n",
    "- `unemployed`: the percentage of residents that are unemployed\n",
    "- `income`: the median household income, in thousnads of dollards\n",
    "- `nodegree`: the percentage of residents that report not having graduated high school\n",
    "- `bachelor`: the percentage of residents that report having a college degree\n",
    "- `inactivity`: the percentage of residents that get less than 1 hour of vigorous exercise a week\n",
    "- `obesity`: the percentage of residents that are considered obese based on BMI\n",
    "- `density`: the population density (residents per square mile)\n",
    "- `votergap20`: Biden voting percentage minus Trump voting percentage in the 2020 election\n",
    "- `votergap16`: Clinton voting percentage minus Trump voting percentage in the 2016 election\n",
    "\n",
    "\n",
    "### Data Sources\n",
    "- Vaccinations [here](https://data.cdc.gov/Vaccinations/COVID-19-Vaccinations-in-the-United-States-County/8xkx-amqh).\n",
    "- Cases [here](https://github.com/nytimes/covid-19-data).\n",
    "- Mask Usage [here](https://github.com/nytimes/covid-19-data/tree/master/mask-use).\n",
    "- Demographics [here](https://www.ers.usda.gov/data-products/county-level-data-sets/) \n",
    "- 2020 Election [here](https://dataverse.harvard.edu/dataset.xhtml?persistentId=doi:10.7910/DVN/VOQCHQ)\n",
    "\n"
   ]
  },
  {
   "cell_type": "markdown",
   "metadata": {},
   "source": [
    "## Question 1 [25pts]: Data Wrangling and Explorations </b></div>\n",
    "\n",
    "**1.1** Load the data sets as follows:\n",
    "- 'covid_cases_county.csv' as `covid_raw` \n",
    "- 'vaccines_county.csv' as `vaccines_raw`\n",
    "- 'masks_county.csv' as `masks`\n",
    "- 'demographics_county.csv' as `demo` \n",
    "\n",
    "**1.2** Create a subset of the `covid_raw` data frame that only contains the measures for 5 dates: June 27 and July 4, 11, 18 and 25.  Do the same for the `vaccines_raw`.  Call these subsets `covid` and `vaccines`, respectively, and print out their dimensions (aka, shapes).\n",
    "\n",
    "**1.3** Determine and print the number of counties that are measured for each time period in `covid` and `vaccines` (do not print out the list of counties, just the number/count).  Comment on what this implies for presence of missing data.\n",
    "\n",
    "**1.4** Process both `covid` and `vaccines` so that each county is represented by a single row in each data frame (rather than having 5 separate rows for each county: 1 for each time period in part 1.2).  Call these new generate Pandas data frames `covid_by_county` and `vaccines_by_county` separately.  Print out the dimensions of each resulting data frame, and view the header of `covid_by_county`.  Note: you should use informative names for the columns in the resulting data frames: for example, `cases_w30` for the cumulative number of cases on July 25 (it's the 30th week of the calendar year).\n",
    "\n",
    "**Hint**: Splitting based on dates and then using `pd.DataFrame.merge` (source)[https://pandas.pydata.org/docs/reference/api/pandas.DataFrame.merge.html] could be helpful for this task using the `fips` code as the keys to join on (you should drop any counties that are not measured in all time periods...the default argument for `how` in `pd.DataFrame.merge` will behave this way).\n",
    "\n",
    "**1.5** Merge the 4 data fames (`covid_by_county`, `vaccines_by_county`, `masks`, and `demo`) based on `fips` and save the result as `covid_merged` (you should drop any counties that are not measured in all 4 data frames).  Determine and report how many counties were dropped from `demo` in this process, and view the header of `covid_merged`.\n",
    "\n",
    "**1.6** Use `covid_merged` to calculate the novel case rate (per 1000 residents) for each of the weeks for all of the counties, and save these as 4 new well-named variables in `covid_merged`.  For example, `rate_w30` can mathematically be represented as `1000*(cases_30-cases_29)/population`.  Plot the histogram of the novel case rate in week 29, `rate_w29`, and comment on what you notice.\n",
    "\n",
    "**1.7** We did the steps above (and some other minimal processing) and saved the results in `covid_clean.csv` for you.  Use this data file to answer some exploratory questions and all future analyses: \n",
    "\n",
    "1. Has the overall average case rate increased from week 28 (July 5-11) to week 29 (July 12-18)?  \n",
    "2. Treating the counties as separate and equal observations: in what states did the case rate increase the most?  In what states did the case rate decrease the most (or increse the least)?  List the top 5 for each.  Do you notice any patterns in these states?\n",
    "3. Create and interpret separate visuals to display how the country case rate in week 29 relates to each of the following variables. Interpret what you see (be specific to this domain).\n",
    "\n",
    "    a. The political views in the county (as measured by the votergap in the 2020 election).\n",
    "    \n",
    "    b. The vaccination rate in the county (for week 28) (be sure to throw away the zeros as these represent unreported values).\n",
    "    \n",
    "    c. The population density of the county.\n",
    "    \n",
    "    d. Whether 50% or more of the surveyed residents in the county report that they always wore a mask in public at the time of the survey."
   ]
  },
  {
   "cell_type": "markdown",
   "metadata": {},
   "source": [
    "## Answers"
   ]
  },
  {
   "cell_type": "markdown",
   "metadata": {},
   "source": [
    "**1.1** Load the data sets as follows:\n",
    "- 'covid_cases_county.csv' as `covid_raw` \n",
    "- 'vaccines_county.csv' as `vaccines_raw`\n",
    "- 'masks_county.csv' as `masks`\n",
    "- 'demographics_county.csv' as `demo` \n",
    "\n",
    "Print out each of their dimensions (aka, shapes)."
   ]
  },
  {
   "cell_type": "code",
   "execution_count": 3,
   "metadata": {},
   "outputs": [
    {
     "name": "stdout",
     "output_type": "stream",
     "text": [
      "6 total columns in covid_raw, and  97394 rows\n",
      "4 total columns in vaccines_raw 96720 rows\n",
      "6 total columns in vaccines_raw 3142 rows\n",
      "14 total columns in demo 3114 rows\n"
     ]
    }
   ],
   "source": [
    "# Load data\n",
    "covid_raw = pd.read_csv('data/covid_cases_county.csv')\n",
    "vaccines_raw = pd.read_csv('data/vaccines_county.csv')\n",
    "masks = pd.read_csv('data/masks_county.csv')\n",
    "demo = pd.read_csv('data/demographics_county.csv')\n",
    "\n",
    "# print shapes of the datasets\n",
    "print(covid_raw.shape[1],\"total columns in covid_raw, and \",covid_raw.shape[0],\"rows\")\n",
    "print(vaccines_raw.shape[1],\"total columns in vaccines_raw\",vaccines_raw.shape[0],\"rows\")\n",
    "print(masks.shape[1],\"total columns in vaccines_raw\",masks.shape[0],\"rows\")\n",
    "print(demo.shape[1],\"total columns in demo\",demo.shape[0],\"rows\")"
   ]
  },
  {
   "cell_type": "markdown",
   "metadata": {},
   "source": [
    "**1.2** Create a subset of the `covid_raw` data frame that only contains the measures for 5 dates: June 27 and July 4, 11, 18 and 25.  Do the same for the `vaccines_raw`.  Call these subsets `covid` and `vaccines`, respectively, and print out their dimensions (aka, shapes).\n"
   ]
  },
  {
   "cell_type": "code",
   "execution_count": 4,
   "metadata": {},
   "outputs": [
    {
     "data": {
      "text/html": [
       "<div>\n",
       "<style scoped>\n",
       "    .dataframe tbody tr th:only-of-type {\n",
       "        vertical-align: middle;\n",
       "    }\n",
       "\n",
       "    .dataframe tbody tr th {\n",
       "        vertical-align: top;\n",
       "    }\n",
       "\n",
       "    .dataframe thead th {\n",
       "        text-align: right;\n",
       "    }\n",
       "</style>\n",
       "<table border=\"1\" class=\"dataframe\">\n",
       "  <thead>\n",
       "    <tr style=\"text-align: right;\">\n",
       "      <th></th>\n",
       "      <th>date</th>\n",
       "      <th>county</th>\n",
       "      <th>state</th>\n",
       "      <th>fips</th>\n",
       "      <th>cases</th>\n",
       "      <th>deaths</th>\n",
       "    </tr>\n",
       "  </thead>\n",
       "  <tbody>\n",
       "    <tr>\n",
       "      <td>0</td>\n",
       "      <td>2021-01-03</td>\n",
       "      <td>Autauga</td>\n",
       "      <td>Alabama</td>\n",
       "      <td>1001.0</td>\n",
       "      <td>4305</td>\n",
       "      <td>50.0</td>\n",
       "    </tr>\n",
       "    <tr>\n",
       "      <td>1</td>\n",
       "      <td>2021-01-03</td>\n",
       "      <td>Baldwin</td>\n",
       "      <td>Alabama</td>\n",
       "      <td>1003.0</td>\n",
       "      <td>14064</td>\n",
       "      <td>169.0</td>\n",
       "    </tr>\n",
       "    <tr>\n",
       "      <td>2</td>\n",
       "      <td>2021-01-03</td>\n",
       "      <td>Barbour</td>\n",
       "      <td>Alabama</td>\n",
       "      <td>1005.0</td>\n",
       "      <td>1530</td>\n",
       "      <td>33.0</td>\n",
       "    </tr>\n",
       "    <tr>\n",
       "      <td>3</td>\n",
       "      <td>2021-01-03</td>\n",
       "      <td>Bibb</td>\n",
       "      <td>Alabama</td>\n",
       "      <td>1007.0</td>\n",
       "      <td>1882</td>\n",
       "      <td>46.0</td>\n",
       "    </tr>\n",
       "    <tr>\n",
       "      <td>4</td>\n",
       "      <td>2021-01-03</td>\n",
       "      <td>Blount</td>\n",
       "      <td>Alabama</td>\n",
       "      <td>1009.0</td>\n",
       "      <td>4746</td>\n",
       "      <td>63.0</td>\n",
       "    </tr>\n",
       "  </tbody>\n",
       "</table>\n",
       "</div>"
      ],
      "text/plain": [
       "         date   county    state    fips  cases  deaths\n",
       "0  2021-01-03  Autauga  Alabama  1001.0   4305    50.0\n",
       "1  2021-01-03  Baldwin  Alabama  1003.0  14064   169.0\n",
       "2  2021-01-03  Barbour  Alabama  1005.0   1530    33.0\n",
       "3  2021-01-03     Bibb  Alabama  1007.0   1882    46.0\n",
       "4  2021-01-03   Blount  Alabama  1009.0   4746    63.0"
      ]
     },
     "execution_count": 4,
     "metadata": {},
     "output_type": "execute_result"
    }
   ],
   "source": [
    "# take a look at the covid dataset\n",
    "covid_raw.head()"
   ]
  },
  {
   "cell_type": "code",
   "execution_count": 5,
   "metadata": {},
   "outputs": [
    {
     "name": "stdout",
     "output_type": "stream",
     "text": [
      "6 total columns in covid, and  16227 rows\n"
     ]
    }
   ],
   "source": [
    "# subset the covid dataset to selected dates\n",
    "covid = covid_raw.loc[\n",
    "    (covid_raw['date']=='2021-06-27') |\n",
    "    (covid_raw['date']=='2021-07-04') |\n",
    "    (covid_raw['date']=='2021-07-11') |\n",
    "    (covid_raw['date']=='2021-07-18') |\n",
    "    (covid_raw['date']=='2021-07-25')\n",
    "    , :]\n",
    "print(covid.shape[1],\"total columns in covid, and \",covid.shape[0],\"rows\")"
   ]
  },
  {
   "cell_type": "code",
   "execution_count": 6,
   "metadata": {},
   "outputs": [
    {
     "data": {
      "text/html": [
       "<div>\n",
       "<style scoped>\n",
       "    .dataframe tbody tr th:only-of-type {\n",
       "        vertical-align: middle;\n",
       "    }\n",
       "\n",
       "    .dataframe tbody tr th {\n",
       "        vertical-align: top;\n",
       "    }\n",
       "\n",
       "    .dataframe thead th {\n",
       "        text-align: right;\n",
       "    }\n",
       "</style>\n",
       "<table border=\"1\" class=\"dataframe\">\n",
       "  <thead>\n",
       "    <tr style=\"text-align: right;\">\n",
       "      <th></th>\n",
       "      <th>date</th>\n",
       "      <th>fips</th>\n",
       "      <th>fully</th>\n",
       "      <th>dose1</th>\n",
       "    </tr>\n",
       "  </thead>\n",
       "  <tbody>\n",
       "    <tr>\n",
       "      <td>0</td>\n",
       "      <td>2021-07-25</td>\n",
       "      <td>1001</td>\n",
       "      <td>26.0</td>\n",
       "      <td>34.0</td>\n",
       "    </tr>\n",
       "    <tr>\n",
       "      <td>1</td>\n",
       "      <td>2021-07-25</td>\n",
       "      <td>1003</td>\n",
       "      <td>31.4</td>\n",
       "      <td>40.5</td>\n",
       "    </tr>\n",
       "    <tr>\n",
       "      <td>2</td>\n",
       "      <td>2021-07-25</td>\n",
       "      <td>1005</td>\n",
       "      <td>27.6</td>\n",
       "      <td>34.3</td>\n",
       "    </tr>\n",
       "    <tr>\n",
       "      <td>3</td>\n",
       "      <td>2021-07-25</td>\n",
       "      <td>1007</td>\n",
       "      <td>22.5</td>\n",
       "      <td>29.4</td>\n",
       "    </tr>\n",
       "    <tr>\n",
       "      <td>4</td>\n",
       "      <td>2021-07-25</td>\n",
       "      <td>1009</td>\n",
       "      <td>19.3</td>\n",
       "      <td>24.2</td>\n",
       "    </tr>\n",
       "  </tbody>\n",
       "</table>\n",
       "</div>"
      ],
      "text/plain": [
       "         date  fips  fully  dose1\n",
       "0  2021-07-25  1001   26.0   34.0\n",
       "1  2021-07-25  1003   31.4   40.5\n",
       "2  2021-07-25  1005   27.6   34.3\n",
       "3  2021-07-25  1007   22.5   29.4\n",
       "4  2021-07-25  1009   19.3   24.2"
      ]
     },
     "execution_count": 6,
     "metadata": {},
     "output_type": "execute_result"
    }
   ],
   "source": [
    "# take a look at the vaccine dataset\n",
    "vaccines_raw.head()"
   ]
  },
  {
   "cell_type": "code",
   "execution_count": 7,
   "metadata": {},
   "outputs": [
    {
     "name": "stdout",
     "output_type": "stream",
     "text": [
      "4 total columns in vaccinces, and  16120 rows\n"
     ]
    }
   ],
   "source": [
    "# subset the vaccinces dataset to selected dates\n",
    "vaccines = vaccines_raw.loc[\n",
    "    (vaccines_raw['date']=='2021-06-27') |\n",
    "    (vaccines_raw['date']=='2021-07-04') |\n",
    "    (vaccines_raw['date']=='2021-07-11') |\n",
    "    (vaccines_raw['date']=='2021-07-18') |\n",
    "    (vaccines_raw['date']=='2021-07-25')\n",
    "    , :]\n",
    "print(vaccines.shape[1],\"total columns in vaccinces, and \",vaccines.shape[0],\"rows\")"
   ]
  },
  {
   "cell_type": "markdown",
   "metadata": {},
   "source": [
    "**1.3** Determine and print the number of counties that are measured for each time period in `covid` and `vaccines` (do not print out the list of counties, just the number/count).  Comment on what this implies for presence of missing data.\n"
   ]
  },
  {
   "cell_type": "code",
   "execution_count": 8,
   "metadata": {},
   "outputs": [
    {
     "name": "stdout",
     "output_type": "stream",
     "text": [
      "Number of counties per day in covid dataset:\n"
     ]
    },
    {
     "data": {
      "text/html": [
       "<div>\n",
       "<style scoped>\n",
       "    .dataframe tbody tr th:only-of-type {\n",
       "        vertical-align: middle;\n",
       "    }\n",
       "\n",
       "    .dataframe tbody tr th {\n",
       "        vertical-align: top;\n",
       "    }\n",
       "\n",
       "    .dataframe thead th {\n",
       "        text-align: right;\n",
       "    }\n",
       "</style>\n",
       "<table border=\"1\" class=\"dataframe\">\n",
       "  <thead>\n",
       "    <tr style=\"text-align: right;\">\n",
       "      <th></th>\n",
       "      <th>county</th>\n",
       "    </tr>\n",
       "    <tr>\n",
       "      <th>date</th>\n",
       "      <th></th>\n",
       "    </tr>\n",
       "  </thead>\n",
       "  <tbody>\n",
       "    <tr>\n",
       "      <td>2021-06-27</td>\n",
       "      <td>3245</td>\n",
       "    </tr>\n",
       "    <tr>\n",
       "      <td>2021-07-04</td>\n",
       "      <td>3245</td>\n",
       "    </tr>\n",
       "    <tr>\n",
       "      <td>2021-07-11</td>\n",
       "      <td>3245</td>\n",
       "    </tr>\n",
       "    <tr>\n",
       "      <td>2021-07-18</td>\n",
       "      <td>3246</td>\n",
       "    </tr>\n",
       "    <tr>\n",
       "      <td>2021-07-25</td>\n",
       "      <td>3246</td>\n",
       "    </tr>\n",
       "  </tbody>\n",
       "</table>\n",
       "</div>"
      ],
      "text/plain": [
       "            county\n",
       "date              \n",
       "2021-06-27    3245\n",
       "2021-07-04    3245\n",
       "2021-07-11    3245\n",
       "2021-07-18    3246\n",
       "2021-07-25    3246"
      ]
     },
     "execution_count": 8,
     "metadata": {},
     "output_type": "execute_result"
    }
   ],
   "source": [
    "# count the number of counties per day in the covid dataset\n",
    "counties_by_day_covid = covid.groupby('date').agg({'county': 'count',})\n",
    "print(\"Number of counties per day in covid dataset:\")\n",
    "counties_by_day_covid.head()"
   ]
  },
  {
   "cell_type": "markdown",
   "metadata": {},
   "source": [
    "**Comment:** Not all days have the same number of counties. It seems some days have no data for some counties (i.e. missing data)."
   ]
  },
  {
   "cell_type": "code",
   "execution_count": 9,
   "metadata": {},
   "outputs": [
    {
     "name": "stdout",
     "output_type": "stream",
     "text": [
      "Number of FIPS per day in vaccines dataset:\n"
     ]
    },
    {
     "data": {
      "text/html": [
       "<div>\n",
       "<style scoped>\n",
       "    .dataframe tbody tr th:only-of-type {\n",
       "        vertical-align: middle;\n",
       "    }\n",
       "\n",
       "    .dataframe tbody tr th {\n",
       "        vertical-align: top;\n",
       "    }\n",
       "\n",
       "    .dataframe thead th {\n",
       "        text-align: right;\n",
       "    }\n",
       "</style>\n",
       "<table border=\"1\" class=\"dataframe\">\n",
       "  <thead>\n",
       "    <tr style=\"text-align: right;\">\n",
       "      <th></th>\n",
       "      <th>fips</th>\n",
       "    </tr>\n",
       "    <tr>\n",
       "      <th>date</th>\n",
       "      <th></th>\n",
       "    </tr>\n",
       "  </thead>\n",
       "  <tbody>\n",
       "    <tr>\n",
       "      <td>2021-06-27</td>\n",
       "      <td>3224</td>\n",
       "    </tr>\n",
       "    <tr>\n",
       "      <td>2021-07-04</td>\n",
       "      <td>3224</td>\n",
       "    </tr>\n",
       "    <tr>\n",
       "      <td>2021-07-11</td>\n",
       "      <td>3224</td>\n",
       "    </tr>\n",
       "    <tr>\n",
       "      <td>2021-07-18</td>\n",
       "      <td>3224</td>\n",
       "    </tr>\n",
       "    <tr>\n",
       "      <td>2021-07-25</td>\n",
       "      <td>3224</td>\n",
       "    </tr>\n",
       "  </tbody>\n",
       "</table>\n",
       "</div>"
      ],
      "text/plain": [
       "            fips\n",
       "date            \n",
       "2021-06-27  3224\n",
       "2021-07-04  3224\n",
       "2021-07-11  3224\n",
       "2021-07-18  3224\n",
       "2021-07-25  3224"
      ]
     },
     "execution_count": 9,
     "metadata": {},
     "output_type": "execute_result"
    }
   ],
   "source": [
    "# count the number of FIPS per day in the vaccines dataset\n",
    "counties_by_day_vaccines = vaccines.groupby('date').agg({'fips': 'count',})\n",
    "print(\"Number of FIPS per day in vaccines dataset:\")\n",
    "counties_by_day_vaccines.head()"
   ]
  },
  {
   "cell_type": "markdown",
   "metadata": {},
   "source": [
    "**Comment:** We can observe missing data. Not all dates have the same number of counties in the covid and vaccinces dataset. We'll need dilligence when merging the two datasets."
   ]
  },
  {
   "cell_type": "markdown",
   "metadata": {},
   "source": [
    "**1.4** Process both `covid` and `vaccines` so that each county is represented by a single row in each data frame (rather than having 5 separate rows for each county: 1 for each time period in part 1.2).  Call these new generate Pandas data frames `covid_by_county` and `vaccines_by_county` separately.  Print out the dimensions of each resulting data frame, and view the header of `covid_by_county`.  Note: you should use informative names for the columns in the resulting data frames: for example, `cases_w30` for the cumulative number of cases on July 25 (it's the 30th week of the calendar year).\n",
    "\n",
    "**Hint**: Splitting based on dates and then using `pd.DataFrame.merge` (source)[https://pandas.pydata.org/docs/reference/api/pandas.DataFrame.merge.html] could be helpful for this task using the `fips` code as the keys to join on (you should drop any counties that are not measured in all time periods...the default argument for `how` in `pd.DataFrame.merge` will behave this way).\n",
    "\n",
    "\n"
   ]
  },
  {
   "cell_type": "code",
   "execution_count": 10,
   "metadata": {},
   "outputs": [],
   "source": [
    "# turn the long format into a wide format\n",
    "# reset the index to repivot\n",
    "covid_by_county = covid.reset_index(level=0)\n",
    "# \n",
    "covid_by_county = covid_by_county.pivot_table(index=['fips'], columns='date',\n",
    "                    values=['cases', 'deaths'], aggfunc='sum', margins=False)"
   ]
  },
  {
   "cell_type": "code",
   "execution_count": 11,
   "metadata": {},
   "outputs": [],
   "source": [
    "# reformat the column names to one level\n",
    "# create a list of the new column names in the right order\n",
    "new_cols=[('{1} {0}'.format(*tup)) for tup in covid_by_county.columns]\n",
    "\n",
    "# assign it to the dataframe (assuming you named it pivoted\n",
    "covid_by_county.columns= new_cols\n",
    "\n",
    "# resort the index, so you get the columns in the order you specified\n",
    "covid_by_county = covid_by_county.sort_index(axis='columns')"
   ]
  },
  {
   "cell_type": "code",
   "execution_count": 12,
   "metadata": {},
   "outputs": [],
   "source": [
    "# rename the columns\n",
    "covid_by_county = covid_by_county.rename(columns = {'2021-06-27 cases': 'cases_w26', \n",
    "                          '2021-07-04 cases': 'cases_w27',\n",
    "                          '2021-07-11 cases': 'cases_w28',\n",
    "                          '2021-07-18 cases': 'cases_w29',\n",
    "                          '2021-07-25 cases': 'cases_w30',\n",
    "                          '2021-06-27 deaths': 'deaths_w26', \n",
    "                          '2021-07-04 deaths': 'deaths_w27',\n",
    "                          '2021-07-11 deaths': 'deaths_w28',\n",
    "                          '2021-07-18 deaths': 'deaths_w29',\n",
    "                          '2021-07-25 deaths': 'deaths_w30',\n",
    "                          }, inplace = False)"
   ]
  },
  {
   "cell_type": "code",
   "execution_count": 13,
   "metadata": {},
   "outputs": [
    {
     "data": {
      "text/html": [
       "<div>\n",
       "<style scoped>\n",
       "    .dataframe tbody tr th:only-of-type {\n",
       "        vertical-align: middle;\n",
       "    }\n",
       "\n",
       "    .dataframe tbody tr th {\n",
       "        vertical-align: top;\n",
       "    }\n",
       "\n",
       "    .dataframe thead th {\n",
       "        text-align: right;\n",
       "    }\n",
       "</style>\n",
       "<table border=\"1\" class=\"dataframe\">\n",
       "  <thead>\n",
       "    <tr style=\"text-align: right;\">\n",
       "      <th></th>\n",
       "      <th>cases_w26</th>\n",
       "      <th>deaths_w26</th>\n",
       "      <th>cases_w27</th>\n",
       "      <th>deaths_w27</th>\n",
       "      <th>cases_w28</th>\n",
       "      <th>deaths_w28</th>\n",
       "      <th>cases_w29</th>\n",
       "      <th>deaths_w29</th>\n",
       "      <th>cases_w30</th>\n",
       "      <th>deaths_w30</th>\n",
       "    </tr>\n",
       "    <tr>\n",
       "      <th>fips</th>\n",
       "      <th></th>\n",
       "      <th></th>\n",
       "      <th></th>\n",
       "      <th></th>\n",
       "      <th></th>\n",
       "      <th></th>\n",
       "      <th></th>\n",
       "      <th></th>\n",
       "      <th></th>\n",
       "      <th></th>\n",
       "    </tr>\n",
       "  </thead>\n",
       "  <tbody>\n",
       "    <tr>\n",
       "      <td>1001.0</td>\n",
       "      <td>7244</td>\n",
       "      <td>113.0</td>\n",
       "      <td>7262</td>\n",
       "      <td>113.0</td>\n",
       "      <td>7299</td>\n",
       "      <td>113.0</td>\n",
       "      <td>7347</td>\n",
       "      <td>113.0</td>\n",
       "      <td>7419</td>\n",
       "      <td>113.0</td>\n",
       "    </tr>\n",
       "    <tr>\n",
       "      <td>1003.0</td>\n",
       "      <td>21945</td>\n",
       "      <td>314.0</td>\n",
       "      <td>22043</td>\n",
       "      <td>315.0</td>\n",
       "      <td>22267</td>\n",
       "      <td>318.0</td>\n",
       "      <td>22802</td>\n",
       "      <td>323.0</td>\n",
       "      <td>23810</td>\n",
       "      <td>325.0</td>\n",
       "    </tr>\n",
       "    <tr>\n",
       "      <td>1005.0</td>\n",
       "      <td>2344</td>\n",
       "      <td>60.0</td>\n",
       "      <td>2347</td>\n",
       "      <td>60.0</td>\n",
       "      <td>2365</td>\n",
       "      <td>60.0</td>\n",
       "      <td>2394</td>\n",
       "      <td>60.0</td>\n",
       "      <td>2434</td>\n",
       "      <td>61.0</td>\n",
       "    </tr>\n",
       "    <tr>\n",
       "      <td>1007.0</td>\n",
       "      <td>2686</td>\n",
       "      <td>64.0</td>\n",
       "      <td>2693</td>\n",
       "      <td>64.0</td>\n",
       "      <td>2702</td>\n",
       "      <td>65.0</td>\n",
       "      <td>2727</td>\n",
       "      <td>65.0</td>\n",
       "      <td>2801</td>\n",
       "      <td>65.0</td>\n",
       "    </tr>\n",
       "    <tr>\n",
       "      <td>1009.0</td>\n",
       "      <td>6967</td>\n",
       "      <td>139.0</td>\n",
       "      <td>6988</td>\n",
       "      <td>139.0</td>\n",
       "      <td>7023</td>\n",
       "      <td>139.0</td>\n",
       "      <td>7099</td>\n",
       "      <td>139.0</td>\n",
       "      <td>7184</td>\n",
       "      <td>139.0</td>\n",
       "    </tr>\n",
       "  </tbody>\n",
       "</table>\n",
       "</div>"
      ],
      "text/plain": [
       "        cases_w26  deaths_w26  cases_w27  deaths_w27  cases_w28  deaths_w28  \\\n",
       "fips                                                                          \n",
       "1001.0       7244       113.0       7262       113.0       7299       113.0   \n",
       "1003.0      21945       314.0      22043       315.0      22267       318.0   \n",
       "1005.0       2344        60.0       2347        60.0       2365        60.0   \n",
       "1007.0       2686        64.0       2693        64.0       2702        65.0   \n",
       "1009.0       6967       139.0       6988       139.0       7023       139.0   \n",
       "\n",
       "        cases_w29  deaths_w29  cases_w30  deaths_w30  \n",
       "fips                                                  \n",
       "1001.0       7347       113.0       7419       113.0  \n",
       "1003.0      22802       323.0      23810       325.0  \n",
       "1005.0       2394        60.0       2434        61.0  \n",
       "1007.0       2727        65.0       2801        65.0  \n",
       "1009.0       7099       139.0       7184       139.0  "
      ]
     },
     "execution_count": 13,
     "metadata": {},
     "output_type": "execute_result"
    }
   ],
   "source": [
    "# check out the covid dataset\n",
    "covid_by_county.head()"
   ]
  },
  {
   "cell_type": "code",
   "execution_count": 14,
   "metadata": {},
   "outputs": [],
   "source": [
    "# retain the number of columns for future use\n",
    "nr_columns_covid_by_county = covid_by_county.shape[1]"
   ]
  },
  {
   "cell_type": "code",
   "execution_count": 15,
   "metadata": {},
   "outputs": [],
   "source": [
    "# turn the long format into a wide format\n",
    "# reset the index to repivot\n",
    "vaccines_by_county = vaccines.reset_index(level=0)\n",
    "# \n",
    "vaccines_by_county = vaccines_by_county.pivot_table(index=['fips'], columns='date',\n",
    "                    values=['fully', 'dose1'], aggfunc='sum', margins=False)"
   ]
  },
  {
   "cell_type": "code",
   "execution_count": 16,
   "metadata": {},
   "outputs": [],
   "source": [
    "# reformat the column names to one level\n",
    "# create a list of the new column names in the right order\n",
    "new_cols=[('{1} {0}'.format(*tup)) for tup in vaccines_by_county.columns]\n",
    "\n",
    "# assign it to the dataframe (assuming you named it pivoted\n",
    "vaccines_by_county.columns= new_cols\n",
    "\n",
    "# resort the index, so you get the columns in the order you specified\n",
    "vaccines_by_county = vaccines_by_county.sort_index(axis='columns')"
   ]
  },
  {
   "cell_type": "code",
   "execution_count": 17,
   "metadata": {},
   "outputs": [],
   "source": [
    "# rename the columns\n",
    "vaccines_by_county = vaccines_by_county.rename(columns = {\n",
    "                          '2021-06-27 fully': 'fully_w26', \n",
    "                          '2021-07-04 fully': 'fully_w27',\n",
    "                          '2021-07-11 fully': 'fully_w28',\n",
    "                          '2021-07-18 fully': 'fully_w29',\n",
    "                          '2021-07-25 fully': 'fully_w30',\n",
    "                          '2021-06-27 dose1': 'dose1_w26', \n",
    "                          '2021-07-04 dose1': 'dose1_w27',\n",
    "                          '2021-07-11 dose1': 'dose1_w28',\n",
    "                          '2021-07-18 dose1': 'dose1_w29',\n",
    "                          '2021-07-25 dose1': 'dose1_w30',\n",
    "                          }, inplace = False) "
   ]
  },
  {
   "cell_type": "code",
   "execution_count": 18,
   "metadata": {},
   "outputs": [],
   "source": [
    "# merge the data with an inner join to remove counties with missing data\n",
    "covid_and_vaccines_by_fips = covid_by_county.merge(vaccines_by_county, on=['fips'])\n",
    "\n",
    "# post merge, split the data back into separate datasets\n",
    "# this will allow both datasets to have an identical set of fips\n",
    "covid_by_county = covid_and_vaccines_by_fips.iloc[:,:nr_columns_covid_by_county]\n",
    "vaccines_by_county = covid_and_vaccines_by_fips.iloc[:,nr_columns_covid_by_county:]"
   ]
  },
  {
   "cell_type": "code",
   "execution_count": 19,
   "metadata": {},
   "outputs": [
    {
     "name": "stdout",
     "output_type": "stream",
     "text": [
      "10 total columns in covid_by_county, and  3214 rows\n",
      "10 total columns in vaccines_by_county 3214 rows\n"
     ]
    }
   ],
   "source": [
    "# check out the shape of the wide datasets\n",
    "print(covid_by_county.shape[1],\"total columns in covid_by_county, and \",covid_by_county.shape[0],\"rows\")\n",
    "print(vaccines_by_county.shape[1],\"total columns in vaccines_by_county\",vaccines_by_county.shape[0],\"rows\")"
   ]
  },
  {
   "cell_type": "code",
   "execution_count": 20,
   "metadata": {},
   "outputs": [
    {
     "data": {
      "text/html": [
       "<div>\n",
       "<style scoped>\n",
       "    .dataframe tbody tr th:only-of-type {\n",
       "        vertical-align: middle;\n",
       "    }\n",
       "\n",
       "    .dataframe tbody tr th {\n",
       "        vertical-align: top;\n",
       "    }\n",
       "\n",
       "    .dataframe thead th {\n",
       "        text-align: right;\n",
       "    }\n",
       "</style>\n",
       "<table border=\"1\" class=\"dataframe\">\n",
       "  <thead>\n",
       "    <tr style=\"text-align: right;\">\n",
       "      <th></th>\n",
       "      <th>cases_w26</th>\n",
       "      <th>deaths_w26</th>\n",
       "      <th>cases_w27</th>\n",
       "      <th>deaths_w27</th>\n",
       "      <th>cases_w28</th>\n",
       "      <th>deaths_w28</th>\n",
       "      <th>cases_w29</th>\n",
       "      <th>deaths_w29</th>\n",
       "      <th>cases_w30</th>\n",
       "      <th>deaths_w30</th>\n",
       "    </tr>\n",
       "    <tr>\n",
       "      <th>fips</th>\n",
       "      <th></th>\n",
       "      <th></th>\n",
       "      <th></th>\n",
       "      <th></th>\n",
       "      <th></th>\n",
       "      <th></th>\n",
       "      <th></th>\n",
       "      <th></th>\n",
       "      <th></th>\n",
       "      <th></th>\n",
       "    </tr>\n",
       "  </thead>\n",
       "  <tbody>\n",
       "    <tr>\n",
       "      <td>1001.0</td>\n",
       "      <td>7244</td>\n",
       "      <td>113.0</td>\n",
       "      <td>7262</td>\n",
       "      <td>113.0</td>\n",
       "      <td>7299</td>\n",
       "      <td>113.0</td>\n",
       "      <td>7347</td>\n",
       "      <td>113.0</td>\n",
       "      <td>7419</td>\n",
       "      <td>113.0</td>\n",
       "    </tr>\n",
       "    <tr>\n",
       "      <td>1003.0</td>\n",
       "      <td>21945</td>\n",
       "      <td>314.0</td>\n",
       "      <td>22043</td>\n",
       "      <td>315.0</td>\n",
       "      <td>22267</td>\n",
       "      <td>318.0</td>\n",
       "      <td>22802</td>\n",
       "      <td>323.0</td>\n",
       "      <td>23810</td>\n",
       "      <td>325.0</td>\n",
       "    </tr>\n",
       "    <tr>\n",
       "      <td>1005.0</td>\n",
       "      <td>2344</td>\n",
       "      <td>60.0</td>\n",
       "      <td>2347</td>\n",
       "      <td>60.0</td>\n",
       "      <td>2365</td>\n",
       "      <td>60.0</td>\n",
       "      <td>2394</td>\n",
       "      <td>60.0</td>\n",
       "      <td>2434</td>\n",
       "      <td>61.0</td>\n",
       "    </tr>\n",
       "    <tr>\n",
       "      <td>1007.0</td>\n",
       "      <td>2686</td>\n",
       "      <td>64.0</td>\n",
       "      <td>2693</td>\n",
       "      <td>64.0</td>\n",
       "      <td>2702</td>\n",
       "      <td>65.0</td>\n",
       "      <td>2727</td>\n",
       "      <td>65.0</td>\n",
       "      <td>2801</td>\n",
       "      <td>65.0</td>\n",
       "    </tr>\n",
       "    <tr>\n",
       "      <td>1009.0</td>\n",
       "      <td>6967</td>\n",
       "      <td>139.0</td>\n",
       "      <td>6988</td>\n",
       "      <td>139.0</td>\n",
       "      <td>7023</td>\n",
       "      <td>139.0</td>\n",
       "      <td>7099</td>\n",
       "      <td>139.0</td>\n",
       "      <td>7184</td>\n",
       "      <td>139.0</td>\n",
       "    </tr>\n",
       "  </tbody>\n",
       "</table>\n",
       "</div>"
      ],
      "text/plain": [
       "        cases_w26  deaths_w26  cases_w27  deaths_w27  cases_w28  deaths_w28  \\\n",
       "fips                                                                          \n",
       "1001.0       7244       113.0       7262       113.0       7299       113.0   \n",
       "1003.0      21945       314.0      22043       315.0      22267       318.0   \n",
       "1005.0       2344        60.0       2347        60.0       2365        60.0   \n",
       "1007.0       2686        64.0       2693        64.0       2702        65.0   \n",
       "1009.0       6967       139.0       6988       139.0       7023       139.0   \n",
       "\n",
       "        cases_w29  deaths_w29  cases_w30  deaths_w30  \n",
       "fips                                                  \n",
       "1001.0       7347       113.0       7419       113.0  \n",
       "1003.0      22802       323.0      23810       325.0  \n",
       "1005.0       2394        60.0       2434        61.0  \n",
       "1007.0       2727        65.0       2801        65.0  \n",
       "1009.0       7099       139.0       7184       139.0  "
      ]
     },
     "execution_count": 20,
     "metadata": {},
     "output_type": "execute_result"
    }
   ],
   "source": [
    "# inspect the covid data\n",
    "covid_by_county.head()"
   ]
  },
  {
   "cell_type": "markdown",
   "metadata": {},
   "source": [
    "**Comment:** As expected, some records were dropped as part of the merge. There are now 3214 rows, instead of 3218. The rows are identical as an inner join merge dropped records where no matching fips were found."
   ]
  },
  {
   "cell_type": "markdown",
   "metadata": {},
   "source": [
    "**1.5** Merge the 4 data fames (`covid_by_county`, `vaccines_by_county`, `masks`, and `demo`) based on `fips` and save the result as `covid_merged` (you should drop any counties that are not measured in all 4 data frames).  Determine and report how many counties were dropped from `demo` in this process, and view the header of `covid_merged`.\n",
    "\n"
   ]
  },
  {
   "cell_type": "code",
   "execution_count": 21,
   "metadata": {},
   "outputs": [
    {
     "name": "stdout",
     "output_type": "stream",
     "text": [
      "The number of records dropped from demo is: 6\n"
     ]
    }
   ],
   "source": [
    "# retain the original nr. of rows in demo\n",
    "demo_fips_cnt = demo.shape[0]\n",
    "\n",
    "# Merge the datasets\n",
    "covid_merged = covid_by_county.merge(vaccines_by_county, on=['fips'])\n",
    "covid_merged = covid_merged.merge(masks, on=['fips'])\n",
    "covid_merged = covid_merged.merge(demo, on=['fips'])\n",
    "print(\"The number of records dropped from demo is:\", demo_fips_cnt - covid_merged.shape[0])"
   ]
  },
  {
   "cell_type": "code",
   "execution_count": 22,
   "metadata": {},
   "outputs": [
    {
     "data": {
      "text/html": [
       "<div>\n",
       "<style scoped>\n",
       "    .dataframe tbody tr th:only-of-type {\n",
       "        vertical-align: middle;\n",
       "    }\n",
       "\n",
       "    .dataframe tbody tr th {\n",
       "        vertical-align: top;\n",
       "    }\n",
       "\n",
       "    .dataframe thead th {\n",
       "        text-align: right;\n",
       "    }\n",
       "</style>\n",
       "<table border=\"1\" class=\"dataframe\">\n",
       "  <thead>\n",
       "    <tr style=\"text-align: right;\">\n",
       "      <th></th>\n",
       "      <th>fips</th>\n",
       "      <th>cases_w26</th>\n",
       "      <th>deaths_w26</th>\n",
       "      <th>cases_w27</th>\n",
       "      <th>deaths_w27</th>\n",
       "      <th>cases_w28</th>\n",
       "      <th>deaths_w28</th>\n",
       "      <th>cases_w29</th>\n",
       "      <th>deaths_w29</th>\n",
       "      <th>cases_w30</th>\n",
       "      <th>...</th>\n",
       "      <th>female</th>\n",
       "      <th>unemployed</th>\n",
       "      <th>income</th>\n",
       "      <th>nodegree</th>\n",
       "      <th>bachelor</th>\n",
       "      <th>inactivity</th>\n",
       "      <th>obesity</th>\n",
       "      <th>density</th>\n",
       "      <th>votergap20</th>\n",
       "      <th>votergap16</th>\n",
       "    </tr>\n",
       "  </thead>\n",
       "  <tbody>\n",
       "    <tr>\n",
       "      <td>0</td>\n",
       "      <td>1001.0</td>\n",
       "      <td>7244</td>\n",
       "      <td>113.0</td>\n",
       "      <td>7262</td>\n",
       "      <td>113.0</td>\n",
       "      <td>7299</td>\n",
       "      <td>113.0</td>\n",
       "      <td>7347</td>\n",
       "      <td>113.0</td>\n",
       "      <td>7419</td>\n",
       "      <td>...</td>\n",
       "      <td>51.475</td>\n",
       "      <td>5.2</td>\n",
       "      <td>54.366</td>\n",
       "      <td>13.8</td>\n",
       "      <td>21.9</td>\n",
       "      <td>28.6</td>\n",
       "      <td>34.1</td>\n",
       "      <td>91.8</td>\n",
       "      <td>-44.418437</td>\n",
       "      <td>-49.479</td>\n",
       "    </tr>\n",
       "    <tr>\n",
       "      <td>1</td>\n",
       "      <td>1003.0</td>\n",
       "      <td>21945</td>\n",
       "      <td>314.0</td>\n",
       "      <td>22043</td>\n",
       "      <td>315.0</td>\n",
       "      <td>22267</td>\n",
       "      <td>318.0</td>\n",
       "      <td>22802</td>\n",
       "      <td>323.0</td>\n",
       "      <td>23810</td>\n",
       "      <td>...</td>\n",
       "      <td>51.261</td>\n",
       "      <td>5.5</td>\n",
       "      <td>49.626</td>\n",
       "      <td>11.0</td>\n",
       "      <td>28.6</td>\n",
       "      <td>22.3</td>\n",
       "      <td>27.4</td>\n",
       "      <td>114.6</td>\n",
       "      <td>-53.762343</td>\n",
       "      <td>-57.786</td>\n",
       "    </tr>\n",
       "    <tr>\n",
       "      <td>2</td>\n",
       "      <td>1005.0</td>\n",
       "      <td>2344</td>\n",
       "      <td>60.0</td>\n",
       "      <td>2347</td>\n",
       "      <td>60.0</td>\n",
       "      <td>2365</td>\n",
       "      <td>60.0</td>\n",
       "      <td>2394</td>\n",
       "      <td>60.0</td>\n",
       "      <td>2434</td>\n",
       "      <td>...</td>\n",
       "      <td>46.589</td>\n",
       "      <td>8.9</td>\n",
       "      <td>34.971</td>\n",
       "      <td>25.4</td>\n",
       "      <td>13.6</td>\n",
       "      <td>31.8</td>\n",
       "      <td>44.4</td>\n",
       "      <td>31.0</td>\n",
       "      <td>-7.663054</td>\n",
       "      <td>-5.611</td>\n",
       "    </tr>\n",
       "    <tr>\n",
       "      <td>3</td>\n",
       "      <td>1007.0</td>\n",
       "      <td>2686</td>\n",
       "      <td>64.0</td>\n",
       "      <td>2693</td>\n",
       "      <td>64.0</td>\n",
       "      <td>2702</td>\n",
       "      <td>65.0</td>\n",
       "      <td>2727</td>\n",
       "      <td>65.0</td>\n",
       "      <td>2801</td>\n",
       "      <td>...</td>\n",
       "      <td>46.110</td>\n",
       "      <td>6.6</td>\n",
       "      <td>39.546</td>\n",
       "      <td>22.1</td>\n",
       "      <td>10.2</td>\n",
       "      <td>33.9</td>\n",
       "      <td>40.3</td>\n",
       "      <td>36.8</td>\n",
       "      <td>-57.727983</td>\n",
       "      <td>-55.544</td>\n",
       "    </tr>\n",
       "    <tr>\n",
       "      <td>4</td>\n",
       "      <td>1009.0</td>\n",
       "      <td>6967</td>\n",
       "      <td>139.0</td>\n",
       "      <td>6988</td>\n",
       "      <td>139.0</td>\n",
       "      <td>7023</td>\n",
       "      <td>139.0</td>\n",
       "      <td>7099</td>\n",
       "      <td>139.0</td>\n",
       "      <td>7184</td>\n",
       "      <td>...</td>\n",
       "      <td>50.592</td>\n",
       "      <td>5.4</td>\n",
       "      <td>45.567</td>\n",
       "      <td>21.9</td>\n",
       "      <td>12.3</td>\n",
       "      <td>28.0</td>\n",
       "      <td>34.6</td>\n",
       "      <td>88.9</td>\n",
       "      <td>-80.002175</td>\n",
       "      <td>-81.382</td>\n",
       "    </tr>\n",
       "  </tbody>\n",
       "</table>\n",
       "<p>5 rows × 39 columns</p>\n",
       "</div>"
      ],
      "text/plain": [
       "     fips  cases_w26  deaths_w26  cases_w27  deaths_w27  cases_w28  \\\n",
       "0  1001.0       7244       113.0       7262       113.0       7299   \n",
       "1  1003.0      21945       314.0      22043       315.0      22267   \n",
       "2  1005.0       2344        60.0       2347        60.0       2365   \n",
       "3  1007.0       2686        64.0       2693        64.0       2702   \n",
       "4  1009.0       6967       139.0       6988       139.0       7023   \n",
       "\n",
       "   deaths_w28  cases_w29  deaths_w29  cases_w30  ...  female  unemployed  \\\n",
       "0       113.0       7347       113.0       7419  ...  51.475         5.2   \n",
       "1       318.0      22802       323.0      23810  ...  51.261         5.5   \n",
       "2        60.0       2394        60.0       2434  ...  46.589         8.9   \n",
       "3        65.0       2727        65.0       2801  ...  46.110         6.6   \n",
       "4       139.0       7099       139.0       7184  ...  50.592         5.4   \n",
       "\n",
       "   income  nodegree  bachelor  inactivity  obesity  density  votergap20  \\\n",
       "0  54.366      13.8      21.9        28.6     34.1     91.8  -44.418437   \n",
       "1  49.626      11.0      28.6        22.3     27.4    114.6  -53.762343   \n",
       "2  34.971      25.4      13.6        31.8     44.4     31.0   -7.663054   \n",
       "3  39.546      22.1      10.2        33.9     40.3     36.8  -57.727983   \n",
       "4  45.567      21.9      12.3        28.0     34.6     88.9  -80.002175   \n",
       "\n",
       "   votergap16  \n",
       "0     -49.479  \n",
       "1     -57.786  \n",
       "2      -5.611  \n",
       "3     -55.544  \n",
       "4     -81.382  \n",
       "\n",
       "[5 rows x 39 columns]"
      ]
     },
     "execution_count": 22,
     "metadata": {},
     "output_type": "execute_result"
    }
   ],
   "source": [
    "covid_merged.head()"
   ]
  },
  {
   "cell_type": "markdown",
   "metadata": {},
   "source": [
    "**1.6** Use `covid_merged` to calculate the novel case rate (per 1000 residents) for each of the weeks for all of the counties, and save these as 4 new well-named variables in `covid_merged`.  For example, `rate_w30` can mathematically be represented as `1000*(cases_30-cases_29)/population`.  Plot the histogram of the novel case rate in week 29, July 12-18, `rate_w29`, and comment on what you notice.\n",
    "\n"
   ]
  },
  {
   "cell_type": "code",
   "execution_count": 23,
   "metadata": {},
   "outputs": [],
   "source": [
    "# calculate novel case rates\n",
    "covid_merged['novel_case_rate_w27'] = 1000*(covid_merged['cases_w27'] - \n",
    "                                           covid_merged['cases_w26']) / covid_merged['population']\n",
    "covid_merged['novel_case_rate_w28'] = 1000*(covid_merged['cases_w28'] - \n",
    "                                           covid_merged['cases_w27']) / covid_merged['population']\n",
    "covid_merged['novel_case_rate_w29'] = 1000*(covid_merged['cases_w29'] - \n",
    "                                           covid_merged['cases_w28']) / covid_merged['population']\n",
    "covid_merged['novel_case_rate_w30'] = 1000*(covid_merged['cases_w30'] - \n",
    "                                           covid_merged['cases_w29']) / covid_merged['population']"
   ]
  },
  {
   "cell_type": "code",
   "execution_count": 24,
   "metadata": {},
   "outputs": [
    {
     "data": {
      "image/png": "[encoded data removed]",
      "text/plain": [
       "<Figure size 432x288 with 1 Axes>"
      ]
     },
     "metadata": {
      "needs_background": "light"
     },
     "output_type": "display_data"
    }
   ],
   "source": [
    "# show histograme for week 29\n",
    "novel_case_rate_w29_hist = plt.hist(covid_merged['novel_case_rate_w29'])\n",
    "plt.xlabel(\"Novel case rate per 1000 residents\")\n",
    "plt.ylabel(\"Number of counties\")\n",
    "plt.suptitle(\"Distribution of new cases per 1000 in week 29, by county\")\n",
    "plt.show()"
   ]
  },
  {
   "cell_type": "markdown",
   "metadata": {},
   "source": [
    "**Comment:** Most counties showed an increase of 1 or 2 cases per thousand in week 29. A few counties had more than 2, going up to an increase of 7 cases per 1000. Close to 500 counties saw a decrease by 1 or w cases, relative to the previous week. The data is not normally distributed, which could cause some issues in later modeling."
   ]
  },
  {
   "cell_type": "markdown",
   "metadata": {},
   "source": [
    "**1.7** We did the steps above (and some other minimal processing) and saved the results in `covid_clean.csv` for you.  Use this data file to answer some exploratory questions and all future analyses: \n",
    "\n",
    "1. Has the overall average case rate increased from week 28 (July 5-11) to week 29 (July 12-18)?  \n",
    "2. Treating the counties as separate and equal observations: in what states did the case rate increase the most?  In what states did the case rate decrease the most (or increse the least)?  List the top 5 for each.  Do you notice any patterns in these states?\n",
    "3. Create and interpret separate visuals to display how the country case rate in week 29 relates to each of the following variables. Interpret what you see (be specific to this domain).\n",
    "\n",
    "    a. The political views in the county (as measured by the votergap in the 2020 election).\n",
    "    \n",
    "    b. The vaccination rate in the county (for week 28) (be sure to throw away the zeros as these represent unreported values).\n",
    "    \n",
    "    c. The population density of the county.\n",
    "    \n",
    "    d. Whether 50% or more of the surveyed residents in the county report that they always wore a mask in public at the time of the survey."
   ]
  },
  {
   "cell_type": "code",
   "execution_count": 25,
   "metadata": {},
   "outputs": [],
   "source": [
    "# read the cleaned dataset\n",
    "covid_clean = pd.read_csv('data/covid_clean.csv')"
   ]
  },
  {
   "cell_type": "markdown",
   "metadata": {},
   "source": [
    "**1. Has the overall average case rate increased from week 28 (July 5-11) to week 29 (July 12-18)?**"
   ]
  },
  {
   "cell_type": "code",
   "execution_count": 26,
   "metadata": {},
   "outputs": [
    {
     "data": {
      "image/png": "[encoded data removed]",
      "text/plain": [
       "<Figure size 432x288 with 1 Axes>"
      ]
     },
     "metadata": {
      "needs_background": "light"
     },
     "output_type": "display_data"
    }
   ],
   "source": [
    "# plot novel cases per 1000 for w29\n",
    "novel_case_rate_w29_hist = plt.hist(covid_clean['rate_w29']*1000)\n",
    "plt.xlabel(\"Novel case rate per 1000 residents\")\n",
    "plt.ylabel(\"Number of counties\")\n",
    "plt.suptitle(\"Distribution by county of new cases per 1000 in week 29\")\n",
    "plt.show()"
   ]
  },
  {
   "cell_type": "code",
   "execution_count": 27,
   "metadata": {},
   "outputs": [
    {
     "name": "stdout",
     "output_type": "stream",
     "text": [
      "Average covid increase per 1000 in week 29: 0.6592153128754568\n"
     ]
    }
   ],
   "source": [
    "average_covid_increase = covid_clean['rate_w29'].mean()\n",
    "print(\"Average covid increase per 1000 in week 29:\", average_covid_increase *1000)"
   ]
  },
  {
   "cell_type": "markdown",
   "metadata": {},
   "source": [
    "**Comment:**: The histogram shows that overall rate of covid cases has increased for all counties, on average 0.66 per thousand"
   ]
  },
  {
   "cell_type": "markdown",
   "metadata": {},
   "source": [
    "**2. Treating the counties as separate and equal observations: in what states did the case rate increase the most? In what states did the case rate decrease the most (or increse the least)? List the top 5 for each. Do you notice any patterns in these states?**"
   ]
  },
  {
   "cell_type": "code",
   "execution_count": 28,
   "metadata": {},
   "outputs": [
    {
     "data": {
      "text/html": [
       "<div>\n",
       "<style scoped>\n",
       "    .dataframe tbody tr th:only-of-type {\n",
       "        vertical-align: middle;\n",
       "    }\n",
       "\n",
       "    .dataframe tbody tr th {\n",
       "        vertical-align: top;\n",
       "    }\n",
       "\n",
       "    .dataframe thead th {\n",
       "        text-align: right;\n",
       "    }\n",
       "</style>\n",
       "<table border=\"1\" class=\"dataframe\">\n",
       "  <thead>\n",
       "    <tr style=\"text-align: right;\">\n",
       "      <th></th>\n",
       "      <th>fips</th>\n",
       "      <th>date</th>\n",
       "      <th>county</th>\n",
       "      <th>state</th>\n",
       "      <th>cases_w30</th>\n",
       "      <th>deaths_w30</th>\n",
       "      <th>fully_w30</th>\n",
       "      <th>dose1_w30</th>\n",
       "      <th>cases_w26</th>\n",
       "      <th>deaths_w26</th>\n",
       "      <th>...</th>\n",
       "      <th>votergap16</th>\n",
       "      <th>never</th>\n",
       "      <th>rarely</th>\n",
       "      <th>sometimes</th>\n",
       "      <th>frequently</th>\n",
       "      <th>always</th>\n",
       "      <th>rate_w30</th>\n",
       "      <th>rate_w29</th>\n",
       "      <th>rate_w28</th>\n",
       "      <th>rate_w27</th>\n",
       "    </tr>\n",
       "  </thead>\n",
       "  <tbody>\n",
       "    <tr>\n",
       "      <td>385</td>\n",
       "      <td>13053</td>\n",
       "      <td>2021-07-25</td>\n",
       "      <td>Chattahoochee</td>\n",
       "      <td>Georgia</td>\n",
       "      <td>4814</td>\n",
       "      <td>17</td>\n",
       "      <td>99.9</td>\n",
       "      <td>99.9</td>\n",
       "      <td>4487</td>\n",
       "      <td>17</td>\n",
       "      <td>...</td>\n",
       "      <td>-11.055</td>\n",
       "      <td>6.1</td>\n",
       "      <td>7.2</td>\n",
       "      <td>10.8</td>\n",
       "      <td>21.4</td>\n",
       "      <td>54.5</td>\n",
       "      <td>0.001319</td>\n",
       "      <td>0.010346</td>\n",
       "      <td>0.006943</td>\n",
       "      <td>0.004097</td>\n",
       "    </tr>\n",
       "    <tr>\n",
       "      <td>2552</td>\n",
       "      <td>48127</td>\n",
       "      <td>2021-07-25</td>\n",
       "      <td>Dimmit</td>\n",
       "      <td>Texas</td>\n",
       "      <td>2890</td>\n",
       "      <td>37</td>\n",
       "      <td>0.0</td>\n",
       "      <td>0.0</td>\n",
       "      <td>2511</td>\n",
       "      <td>37</td>\n",
       "      <td>...</td>\n",
       "      <td>37.178</td>\n",
       "      <td>2.1</td>\n",
       "      <td>5.9</td>\n",
       "      <td>9.7</td>\n",
       "      <td>13.3</td>\n",
       "      <td>69.0</td>\n",
       "      <td>0.014941</td>\n",
       "      <td>0.010131</td>\n",
       "      <td>0.006140</td>\n",
       "      <td>0.007573</td>\n",
       "    </tr>\n",
       "    <tr>\n",
       "      <td>149</td>\n",
       "      <td>5129</td>\n",
       "      <td>2021-07-25</td>\n",
       "      <td>Searcy</td>\n",
       "      <td>Arkansas</td>\n",
       "      <td>932</td>\n",
       "      <td>18</td>\n",
       "      <td>27.0</td>\n",
       "      <td>32.3</td>\n",
       "      <td>747</td>\n",
       "      <td>18</td>\n",
       "      <td>...</td>\n",
       "      <td>-63.144</td>\n",
       "      <td>10.0</td>\n",
       "      <td>8.8</td>\n",
       "      <td>12.5</td>\n",
       "      <td>14.9</td>\n",
       "      <td>53.8</td>\n",
       "      <td>0.008434</td>\n",
       "      <td>0.008182</td>\n",
       "      <td>0.003902</td>\n",
       "      <td>0.002769</td>\n",
       "    </tr>\n",
       "    <tr>\n",
       "      <td>1560</td>\n",
       "      <td>29213</td>\n",
       "      <td>2021-07-25</td>\n",
       "      <td>Taney</td>\n",
       "      <td>Missouri</td>\n",
       "      <td>7302</td>\n",
       "      <td>106</td>\n",
       "      <td>28.1</td>\n",
       "      <td>34.7</td>\n",
       "      <td>5995</td>\n",
       "      <td>99</td>\n",
       "      <td>...</td>\n",
       "      <td>-59.289</td>\n",
       "      <td>5.3</td>\n",
       "      <td>7.9</td>\n",
       "      <td>21.4</td>\n",
       "      <td>15.5</td>\n",
       "      <td>49.9</td>\n",
       "      <td>0.008663</td>\n",
       "      <td>0.008079</td>\n",
       "      <td>0.006872</td>\n",
       "      <td>0.003602</td>\n",
       "    </tr>\n",
       "    <tr>\n",
       "      <td>574</td>\n",
       "      <td>17015</td>\n",
       "      <td>2021-07-25</td>\n",
       "      <td>Carroll</td>\n",
       "      <td>Illinois</td>\n",
       "      <td>2043</td>\n",
       "      <td>38</td>\n",
       "      <td>47.3</td>\n",
       "      <td>54.1</td>\n",
       "      <td>1785</td>\n",
       "      <td>38</td>\n",
       "      <td>...</td>\n",
       "      <td>-27.074</td>\n",
       "      <td>3.0</td>\n",
       "      <td>6.4</td>\n",
       "      <td>12.0</td>\n",
       "      <td>19.0</td>\n",
       "      <td>59.6</td>\n",
       "      <td>0.008572</td>\n",
       "      <td>0.007620</td>\n",
       "      <td>0.000000</td>\n",
       "      <td>0.000190</td>\n",
       "    </tr>\n",
       "  </tbody>\n",
       "</table>\n",
       "<p>5 rows × 46 columns</p>\n",
       "</div>"
      ],
      "text/plain": [
       "       fips        date         county     state  cases_w30  deaths_w30  \\\n",
       "385   13053  2021-07-25  Chattahoochee   Georgia       4814          17   \n",
       "2552  48127  2021-07-25         Dimmit     Texas       2890          37   \n",
       "149    5129  2021-07-25         Searcy  Arkansas        932          18   \n",
       "1560  29213  2021-07-25          Taney  Missouri       7302         106   \n",
       "574   17015  2021-07-25        Carroll  Illinois       2043          38   \n",
       "\n",
       "      fully_w30  dose1_w30  cases_w26  deaths_w26  ...  votergap16  never  \\\n",
       "385        99.9       99.9       4487          17  ...     -11.055    6.1   \n",
       "2552        0.0        0.0       2511          37  ...      37.178    2.1   \n",
       "149        27.0       32.3        747          18  ...     -63.144   10.0   \n",
       "1560       28.1       34.7       5995          99  ...     -59.289    5.3   \n",
       "574        47.3       54.1       1785          38  ...     -27.074    3.0   \n",
       "\n",
       "      rarely  sometimes  frequently  always  rate_w30  rate_w29  rate_w28  \\\n",
       "385      7.2       10.8        21.4    54.5  0.001319  0.010346  0.006943   \n",
       "2552     5.9        9.7        13.3    69.0  0.014941  0.010131  0.006140   \n",
       "149      8.8       12.5        14.9    53.8  0.008434  0.008182  0.003902   \n",
       "1560     7.9       21.4        15.5    49.9  0.008663  0.008079  0.006872   \n",
       "574      6.4       12.0        19.0    59.6  0.008572  0.007620  0.000000   \n",
       "\n",
       "      rate_w27  \n",
       "385   0.004097  \n",
       "2552  0.007573  \n",
       "149   0.002769  \n",
       "1560  0.003602  \n",
       "574   0.000190  \n",
       "\n",
       "[5 rows x 46 columns]"
      ]
     },
     "execution_count": 28,
     "metadata": {},
     "output_type": "execute_result"
    }
   ],
   "source": [
    "# show the counties with the highest rate increase\n",
    "covid_clean.sort_values('rate_w29', ascending=False).head()"
   ]
  },
  {
   "cell_type": "code",
   "execution_count": 29,
   "metadata": {},
   "outputs": [
    {
     "data": {
      "text/html": [
       "<div>\n",
       "<style scoped>\n",
       "    .dataframe tbody tr th:only-of-type {\n",
       "        vertical-align: middle;\n",
       "    }\n",
       "\n",
       "    .dataframe tbody tr th {\n",
       "        vertical-align: top;\n",
       "    }\n",
       "\n",
       "    .dataframe thead th {\n",
       "        text-align: right;\n",
       "    }\n",
       "</style>\n",
       "<table border=\"1\" class=\"dataframe\">\n",
       "  <thead>\n",
       "    <tr style=\"text-align: right;\">\n",
       "      <th></th>\n",
       "      <th>fips</th>\n",
       "      <th>date</th>\n",
       "      <th>county</th>\n",
       "      <th>state</th>\n",
       "      <th>cases_w30</th>\n",
       "      <th>deaths_w30</th>\n",
       "      <th>fully_w30</th>\n",
       "      <th>dose1_w30</th>\n",
       "      <th>cases_w26</th>\n",
       "      <th>deaths_w26</th>\n",
       "      <th>...</th>\n",
       "      <th>votergap16</th>\n",
       "      <th>never</th>\n",
       "      <th>rarely</th>\n",
       "      <th>sometimes</th>\n",
       "      <th>frequently</th>\n",
       "      <th>always</th>\n",
       "      <th>rate_w30</th>\n",
       "      <th>rate_w29</th>\n",
       "      <th>rate_w28</th>\n",
       "      <th>rate_w27</th>\n",
       "    </tr>\n",
       "  </thead>\n",
       "  <tbody>\n",
       "    <tr>\n",
       "      <td>1553</td>\n",
       "      <td>29199</td>\n",
       "      <td>2021-07-25</td>\n",
       "      <td>Scotland</td>\n",
       "      <td>Missouri</td>\n",
       "      <td>307</td>\n",
       "      <td>4</td>\n",
       "      <td>20.0</td>\n",
       "      <td>22.9</td>\n",
       "      <td>306</td>\n",
       "      <td>4</td>\n",
       "      <td>...</td>\n",
       "      <td>-58.943</td>\n",
       "      <td>7.3</td>\n",
       "      <td>11.2</td>\n",
       "      <td>20.9</td>\n",
       "      <td>24.6</td>\n",
       "      <td>36.1</td>\n",
       "      <td>0.000208</td>\n",
       "      <td>0.0</td>\n",
       "      <td>0.000000</td>\n",
       "      <td>0.0</td>\n",
       "    </tr>\n",
       "    <tr>\n",
       "      <td>1589</td>\n",
       "      <td>30039</td>\n",
       "      <td>2021-07-25</td>\n",
       "      <td>Granite</td>\n",
       "      <td>Montana</td>\n",
       "      <td>204</td>\n",
       "      <td>2</td>\n",
       "      <td>30.2</td>\n",
       "      <td>33.3</td>\n",
       "      <td>204</td>\n",
       "      <td>2</td>\n",
       "      <td>...</td>\n",
       "      <td>-40.567</td>\n",
       "      <td>11.6</td>\n",
       "      <td>17.0</td>\n",
       "      <td>10.9</td>\n",
       "      <td>18.3</td>\n",
       "      <td>42.2</td>\n",
       "      <td>0.000000</td>\n",
       "      <td>0.0</td>\n",
       "      <td>0.000000</td>\n",
       "      <td>0.0</td>\n",
       "    </tr>\n",
       "    <tr>\n",
       "      <td>1597</td>\n",
       "      <td>30055</td>\n",
       "      <td>2021-07-25</td>\n",
       "      <td>McCone</td>\n",
       "      <td>Montana</td>\n",
       "      <td>183</td>\n",
       "      <td>2</td>\n",
       "      <td>14.4</td>\n",
       "      <td>14.7</td>\n",
       "      <td>183</td>\n",
       "      <td>1</td>\n",
       "      <td>...</td>\n",
       "      <td>-66.667</td>\n",
       "      <td>14.2</td>\n",
       "      <td>27.4</td>\n",
       "      <td>17.9</td>\n",
       "      <td>26.7</td>\n",
       "      <td>13.9</td>\n",
       "      <td>0.000000</td>\n",
       "      <td>0.0</td>\n",
       "      <td>0.000000</td>\n",
       "      <td>0.0</td>\n",
       "    </tr>\n",
       "    <tr>\n",
       "      <td>1598</td>\n",
       "      <td>30057</td>\n",
       "      <td>2021-07-25</td>\n",
       "      <td>Madison</td>\n",
       "      <td>Montana</td>\n",
       "      <td>802</td>\n",
       "      <td>8</td>\n",
       "      <td>36.4</td>\n",
       "      <td>39.2</td>\n",
       "      <td>796</td>\n",
       "      <td>8</td>\n",
       "      <td>...</td>\n",
       "      <td>-44.597</td>\n",
       "      <td>17.2</td>\n",
       "      <td>11.3</td>\n",
       "      <td>10.5</td>\n",
       "      <td>21.0</td>\n",
       "      <td>40.0</td>\n",
       "      <td>0.000536</td>\n",
       "      <td>0.0</td>\n",
       "      <td>0.000268</td>\n",
       "      <td>0.0</td>\n",
       "    </tr>\n",
       "    <tr>\n",
       "      <td>1599</td>\n",
       "      <td>30059</td>\n",
       "      <td>2021-07-25</td>\n",
       "      <td>Meagher</td>\n",
       "      <td>Montana</td>\n",
       "      <td>152</td>\n",
       "      <td>7</td>\n",
       "      <td>41.9</td>\n",
       "      <td>44.1</td>\n",
       "      <td>152</td>\n",
       "      <td>7</td>\n",
       "      <td>...</td>\n",
       "      <td>-55.247</td>\n",
       "      <td>18.8</td>\n",
       "      <td>9.3</td>\n",
       "      <td>12.0</td>\n",
       "      <td>20.3</td>\n",
       "      <td>39.6</td>\n",
       "      <td>0.000000</td>\n",
       "      <td>0.0</td>\n",
       "      <td>0.000000</td>\n",
       "      <td>0.0</td>\n",
       "    </tr>\n",
       "  </tbody>\n",
       "</table>\n",
       "<p>5 rows × 46 columns</p>\n",
       "</div>"
      ],
      "text/plain": [
       "       fips        date    county     state  cases_w30  deaths_w30  fully_w30  \\\n",
       "1553  29199  2021-07-25  Scotland  Missouri        307           4       20.0   \n",
       "1589  30039  2021-07-25   Granite   Montana        204           2       30.2   \n",
       "1597  30055  2021-07-25    McCone   Montana        183           2       14.4   \n",
       "1598  30057  2021-07-25   Madison   Montana        802           8       36.4   \n",
       "1599  30059  2021-07-25   Meagher   Montana        152           7       41.9   \n",
       "\n",
       "      dose1_w30  cases_w26  deaths_w26  ...  votergap16  never  rarely  \\\n",
       "1553       22.9        306           4  ...     -58.943    7.3    11.2   \n",
       "1589       33.3        204           2  ...     -40.567   11.6    17.0   \n",
       "1597       14.7        183           1  ...     -66.667   14.2    27.4   \n",
       "1598       39.2        796           8  ...     -44.597   17.2    11.3   \n",
       "1599       44.1        152           7  ...     -55.247   18.8     9.3   \n",
       "\n",
       "      sometimes  frequently  always  rate_w30  rate_w29  rate_w28  rate_w27  \n",
       "1553       20.9        24.6    36.1  0.000208       0.0  0.000000       0.0  \n",
       "1589       10.9        18.3    42.2  0.000000       0.0  0.000000       0.0  \n",
       "1597       17.9        26.7    13.9  0.000000       0.0  0.000000       0.0  \n",
       "1598       10.5        21.0    40.0  0.000536       0.0  0.000268       0.0  \n",
       "1599       12.0        20.3    39.6  0.000000       0.0  0.000000       0.0  \n",
       "\n",
       "[5 rows x 46 columns]"
      ]
     },
     "execution_count": 29,
     "metadata": {},
     "output_type": "execute_result"
    }
   ],
   "source": [
    "# show the counties with the lowest rate increase\n",
    "covid_clean.sort_values('rate_w29', ascending=True).head(5)"
   ]
  },
  {
   "cell_type": "markdown",
   "metadata": {},
   "source": [
    "**Comment:** At first glance it looks like the northern states had the lowest increase in cases, and the mid-country southern states had the highest increase in cases in week 29."
   ]
  },
  {
   "cell_type": "markdown",
   "metadata": {},
   "source": [
    "**Create and interpret separate visuals to display how the country case rate in week 29 relates to each of the following variables. Interpret what you see (be specific to this domain).**\n",
    "\n",
    "**a. The political views in the county (as measured by the votergap in the 2020 election).**"
   ]
  },
  {
   "cell_type": "code",
   "execution_count": 30,
   "metadata": {},
   "outputs": [
    {
     "data": {
      "image/png": "[encoded data removed]",
      "text/plain": [
       "<Figure size 432x288 with 1 Axes>"
      ]
     },
     "metadata": {
      "needs_background": "light"
     },
     "output_type": "display_data"
    }
   ],
   "source": [
    "# plot novel cases per 1000 for w29 as a function of votergap\n",
    "# show the logaritmic view to distribute the scatter more evenly\n",
    "plt.scatter(covid_clean['votergap20'],covid_clean['rate_w29']*1000)\n",
    "plt.xlabel(\"Votergap in the 2020 election\")\n",
    "plt.ylabel(\"Novel case rate per 1000 residents\")\n",
    "plt.suptitle(\"Distribution of novel cases in week 29 by votergap\")\n",
    "plt.show()"
   ]
  },
  {
   "cell_type": "markdown",
   "metadata": {},
   "source": [
    "**Comment:** At lower votergaps (where Trump received the majority of votes), max case rate increases seem to go up an order of magnitude or two higher, as can be observed by the concentration in the scatter plot in the top left quadrant."
   ]
  },
  {
   "cell_type": "markdown",
   "metadata": {},
   "source": [
    "**b. The vaccination rate in the county (for week 28) (be sure to throw away the zeros as these represent unreported values).**"
   ]
  },
  {
   "cell_type": "code",
   "execution_count": 31,
   "metadata": {},
   "outputs": [
    {
     "name": "stdout",
     "output_type": "stream",
     "text": [
      "Nr of counties with unreported vaccination numbers in week 28: 273\n"
     ]
    }
   ],
   "source": [
    "covid_clean_nonzero_vac = covid_clean[covid_clean['fully_w28']!=0]\n",
    "print(\"Nr of counties with unreported vaccination numbers in week 28:\",covid_clean.shape[0]-\n",
    "                                                                      covid_clean_nonzero_vac.shape[0])"
   ]
  },
  {
   "cell_type": "code",
   "execution_count": 32,
   "metadata": {},
   "outputs": [
    {
     "data": {
      "image/png": "[encoded data removed]",
      "text/plain": [
       "<Figure size 432x288 with 1 Axes>"
      ]
     },
     "metadata": {
      "needs_background": "light"
     },
     "output_type": "display_data"
    }
   ],
   "source": [
    "# plot novel cases per 1000 for w29 as a function of vaccination in the previous week\n",
    "# show the logaritmic view to distribute the scatter more evenly\n",
    "plt.scatter(covid_clean_nonzero_vac['dose1_w28'],covid_clean_nonzero_vac['rate_w29']*1000)\n",
    "plt.xlabel(\"Vaccination rates\")\n",
    "plt.ylabel(\"Log of novel case rate per 1000 residents\")\n",
    "plt.suptitle(\"Distribution of novel cases in week 29 by vaccination rates in week 28\")\n",
    "plt.show()"
   ]
  },
  {
   "cell_type": "markdown",
   "metadata": {},
   "source": [
    "**Comment:** Without controlling for confounding factors, there does seem to be a pattern between dose1 vaccination rates and case increases. At high (and - surprisingly - low dose1 vaccination rates), case increases seem lower. In the range from 20% to 50% dose1 vaccinated, case increases seem to be highest.\n",
    "    Note that there seem to be a material amount of 0 dose1. Those, assumingly were not reported."
   ]
  },
  {
   "cell_type": "code",
   "execution_count": 33,
   "metadata": {},
   "outputs": [
    {
     "data": {
      "image/png": "[encoded data removed]",
      "text/plain": [
       "<Figure size 432x288 with 1 Axes>"
      ]
     },
     "metadata": {
      "needs_background": "light"
     },
     "output_type": "display_data"
    }
   ],
   "source": [
    "# plot novel cases per 1000 for w29 as a function of vaccination in the previous week\n",
    "# show the logaritmic view to distribute the scatter more evenly\n",
    "plt.scatter(covid_clean_nonzero_vac['fully_w28'],covid_clean_nonzero_vac['rate_w29']*1000)\n",
    "plt.xlabel(\"Vaccination rates\")\n",
    "plt.ylabel(\"Novel case rate per 1000 residents\")\n",
    "plt.suptitle(\"Distribution of novel cases in week 29 by vaccination rates in week 28\")\n",
    "plt.show()"
   ]
  },
  {
   "cell_type": "markdown",
   "metadata": {},
   "source": [
    "**Comment:** Without controlling for confounding factors, there does seem to be a pattern between full vaccination rates and case increases. At high (and - surprisingly - low full vaccination rates), case increases seem lower. In the range from 20% to 50% fully vaccinated, case increases seem to be highest."
   ]
  },
  {
   "cell_type": "markdown",
   "metadata": {},
   "source": [
    "**c. The population density of the county.**"
   ]
  },
  {
   "cell_type": "code",
   "execution_count": 34,
   "metadata": {},
   "outputs": [
    {
     "data": {
      "image/png": "[encoded data removed]",
      "text/plain": [
       "<Figure size 432x288 with 1 Axes>"
      ]
     },
     "metadata": {
      "needs_background": "light"
     },
     "output_type": "display_data"
    }
   ],
   "source": [
    "# plot novel cases per 1000 for w29 as a function of votergap\n",
    "# show the logaritmic view to distribute the scatter more evenly\n",
    "plt.scatter(np.log(covid_clean['density']),np.log(covid_clean['rate_w29']*1000))\n",
    "plt.xlabel(\"Population\")\n",
    "plt.ylabel(\"Log of novel case rate per 1000 residents\")\n",
    "plt.suptitle(\"Distribution of novel cases in week 29 by population density\")\n",
    "plt.show()"
   ]
  },
  {
   "cell_type": "markdown",
   "metadata": {},
   "source": [
    "**Comment:** Without controlling for confounding factors, there doesn't seem to be a pattern between population density and the covid novel case rate in week 29."
   ]
  },
  {
   "cell_type": "markdown",
   "metadata": {},
   "source": [
    "**d. Whether 50% or more of the surveyed residents in the county report that they always wore a mask in public at the time of the survey.**"
   ]
  },
  {
   "cell_type": "code",
   "execution_count": 35,
   "metadata": {},
   "outputs": [],
   "source": [
    "# subset to mask wearing higher than 50%\n",
    "covid_clean_mask_adoption_above_50pc = covid_clean[covid_clean['always']>=50]\n",
    "covid_clean_mask_adoption_below_50pc = covid_clean[covid_clean['always']<50]"
   ]
  },
  {
   "cell_type": "code",
   "execution_count": 36,
   "metadata": {},
   "outputs": [
    {
     "data": {
      "image/png": "[encoded data removed]",
      "text/plain": [
       "<Figure size 432x288 with 1 Axes>"
      ]
     },
     "metadata": {
      "needs_background": "light"
     },
     "output_type": "display_data"
    }
   ],
   "source": [
    "# plot novel cases per 1000 for w29 as a function of votergap\n",
    "# show the logaritmic view to distribute the scatter more evenly\n",
    "novel_case_rate_w29_hist_above_50_masked = plt.hist(covid_clean_mask_adoption_above_50pc['rate_w29']*1000, alpha=0.5, label='Above 50% always wears mask')\n",
    "novel_case_rate_w29_hist_below_50_masked = plt.hist(covid_clean_mask_adoption_below_50pc['rate_w29']*1000, alpha=0.5, label='Below 50% always wears mask')\n",
    "plt.xlabel(\"Novel case rate per 1000 residents\")\n",
    "plt.ylabel(\"Number of counties\")\n",
    "plt.legend()\n",
    "plt.suptitle(\"Distribution by county of new cases per 1000 in week 29\")\n",
    "plt.show()"
   ]
  },
  {
   "cell_type": "markdown",
   "metadata": {},
   "source": [
    "**Comment:** Without controlling for confounding factors, there seems to be rather unpronounced pattern between aobve 50 percent mask adoption and the increase in covid cases per thousand. For 100 counties, the number of cases seems 1 or 2 cases higher per thousand."
   ]
  },
  {
   "cell_type": "markdown",
   "metadata": {},
   "source": [
    "---"
   ]
  },
  {
   "cell_type": "markdown",
   "metadata": {},
   "source": [
    "## Question 2 [35pts]: Regression modeling \n",
    "\n",
    "**2.1** Fit a linear regression model to predict `rate_w29` (which represent the rate of new cases in the week of July 12-18) from `rate_w28` (July 5-11). Report the 95% confidence intervals for the coefficients, and carefully interpret the coefficients (including their statistical significances).  What does this model suggest about whether the rate of COVID infection increased from week 28 to week 29?\n",
    "\n",
    "\n",
    "**2.2** Fit a linear regression model to predict `rate_w29` from `rate_w28` and `votergap20` along with the interaction between the two.  Interpret the coefficient estimates carefully (no need to mention significances).\n",
    "\n",
    "\n",
    "**2.3** Create a scatterplot of `rate_w29` vs. `rate_w28`.  Add 3 separate predicted lines from your model in 2.2 to this scatterplot: the predicted line from the model in 2.2 for counties...\n",
    "    1. where Biden was favored by 50 percentage points.\n",
    "    2. where Biden and Trump were equal\n",
    "    3. where Trump was favored by 50 percentage points.\n",
    "Interpret what you see.\n",
    "\n",
    "\n",
    "**2.4** Fit a linear regression model to assess the overall association of vaccination rate (`fully_w28`) on `rate_w29`.  Carefully interpret the results (including the statistical significance).  \n",
    "\n",
    "\n",
    "**2.5** Many counties have the value zero for `fully_w28` which really represents a missing/unreported value for vaccinationr rate.  Comment on the effect of ignoring this issue can have on the intepretations and inferences in the model in 2.4.  What would be a better way of handling this issue?\n",
    "\n",
    "\n",
    "**2.6** What factors could be confounded (whether measured here or not) with the result seen in the model from 2.3 (list up to 3)?  Fit an appropriate linear model that controls for as many of these factors as possible (for those that are measured in this data set). Interpret the coefficient estimates from this model and compare to the results from 2.4.\n",
    "\n",
    "**2.7** What major issue could arise if you fit a model to predict `rate_w29` from `rate_w28` and `rate_w27` (or from `fully_w28` and `fully_w27`) in a linear regression model?  Suggest and explain the use of two different approaches to account for this: one approach should be based on modeling and one approach should be based on feature engineering/variable transformations (not PCA). \n",
    "\n",
    "**2.8** The test set has a response variable that is `rate_w30`.  How would you use your models to predict `rate_w29` in this section in order to predict `rate_w30` instead?  Explain.  What could go wrong in this modification?\n",
    "\n",
    "**Hint**: what should be the predictors to predict `rate_w30` instead of `rate_w29`? \n"
   ]
  },
  {
   "cell_type": "markdown",
   "metadata": {},
   "source": [
    "## Answers"
   ]
  },
  {
   "cell_type": "markdown",
   "metadata": {},
   "source": [
    "**2.1** Fit a linear regression model to predict `rate_w29` (which represent the rate of new cases in the week of July 12-18) from `rate_w28` (July 5-11). Report the 95% confidence intervals for the coefficients, and carefully interpret the coefficients (including their statistical significances).  What does this model suggest about whether the rate of COVID infection increased from week 28 to week 29?\n"
   ]
  },
  {
   "cell_type": "code",
   "execution_count": 37,
   "metadata": {},
   "outputs": [
    {
     "data": {
      "image/png": "[encoded data removed]",
      "text/plain": [
       "<Figure size 432x288 with 1 Axes>"
      ]
     },
     "metadata": {
      "needs_background": "light"
     },
     "output_type": "display_data"
    }
   ],
   "source": [
    "# plot novel cases per 1000 for w29 as a function of w29\n",
    "plt.scatter(covid_clean['rate_w28'],covid_clean['rate_w29'])\n",
    "plt.xlabel(\"Increase in week 28\")\n",
    "plt.ylabel(\"Increasein week 29\")\n",
    "plt.suptitle(\"Graph 2.1.1 Correlation between week 28 and week 29 covid case growth rate\")\n",
    "plt.show()"
   ]
  },
  {
   "cell_type": "markdown",
   "metadata": {},
   "source": [
    "**Comment:** Graph 2.1.1 would indicate there is a positive linear relationship between the rate of increase in week 28 and the rate of increase in week 29. This is quite intuive as one would assume a certain level of momentum. The plot, however, also indicates that there are some signicant outliers in week 28 that don't seem to be outliers in week29."
   ]
  },
  {
   "cell_type": "code",
   "execution_count": 38,
   "metadata": {},
   "outputs": [
    {
     "data": {
      "text/html": [
       "<table class=\"simpletable\">\n",
       "<caption>OLS Regression Results</caption>\n",
       "<tr>\n",
       "  <th>Dep. Variable:</th>            <td>y</td>        <th>  R-squared:         </th>  <td>   0.384</td> \n",
       "</tr>\n",
       "<tr>\n",
       "  <th>Model:</th>                   <td>OLS</td>       <th>  Adj. R-squared:    </th>  <td>   0.384</td> \n",
       "</tr>\n",
       "<tr>\n",
       "  <th>Method:</th>             <td>Least Squares</td>  <th>  F-statistic:       </th>  <td>   1938.</td> \n",
       "</tr>\n",
       "<tr>\n",
       "  <th>Date:</th>             <td>Wed, 04 Aug 2021</td> <th>  Prob (F-statistic):</th>   <td>  0.00</td>  \n",
       "</tr>\n",
       "<tr>\n",
       "  <th>Time:</th>                 <td>09:43:50</td>     <th>  Log-Likelihood:    </th>  <td>  18129.</td> \n",
       "</tr>\n",
       "<tr>\n",
       "  <th>No. Observations:</th>      <td>  3108</td>      <th>  AIC:               </th> <td>-3.625e+04</td>\n",
       "</tr>\n",
       "<tr>\n",
       "  <th>Df Residuals:</th>          <td>  3106</td>      <th>  BIC:               </th> <td>-3.624e+04</td>\n",
       "</tr>\n",
       "<tr>\n",
       "  <th>Df Model:</th>              <td>     1</td>      <th>                     </th>      <td> </td>    \n",
       "</tr>\n",
       "<tr>\n",
       "  <th>Covariance Type:</th>      <td>nonrobust</td>    <th>                     </th>      <td> </td>    \n",
       "</tr>\n",
       "</table>\n",
       "<table class=\"simpletable\">\n",
       "<tr>\n",
       "    <td></td>       <th>coef</th>     <th>std err</th>      <th>t</th>      <th>P>|t|</th>  <th>[0.025</th>    <th>0.975]</th>  \n",
       "</tr>\n",
       "<tr>\n",
       "  <th>const</th> <td>    0.0004</td> <td> 1.45e-05</td> <td>   24.522</td> <td> 0.000</td> <td>    0.000</td> <td>    0.000</td>\n",
       "</tr>\n",
       "<tr>\n",
       "  <th>x1</th>    <td>    0.6603</td> <td>    0.015</td> <td>   44.021</td> <td> 0.000</td> <td>    0.631</td> <td>    0.690</td>\n",
       "</tr>\n",
       "</table>\n",
       "<table class=\"simpletable\">\n",
       "<tr>\n",
       "  <th>Omnibus:</th>       <td>1992.200</td> <th>  Durbin-Watson:     </th>  <td>   1.589</td> \n",
       "</tr>\n",
       "<tr>\n",
       "  <th>Prob(Omnibus):</th>  <td> 0.000</td>  <th>  Jarque-Bera (JB):  </th> <td>914336.075</td>\n",
       "</tr>\n",
       "<tr>\n",
       "  <th>Skew:</th>           <td>-1.766</td>  <th>  Prob(JB):          </th>  <td>    0.00</td> \n",
       "</tr>\n",
       "<tr>\n",
       "  <th>Kurtosis:</th>       <td>86.953</td>  <th>  Cond. No.          </th>  <td>1.18e+03</td> \n",
       "</tr>\n",
       "</table><br/><br/>Warnings:<br/>[1] Standard Errors assume that the covariance matrix of the errors is correctly specified.<br/>[2] The condition number is large, 1.18e+03. This might indicate that there are<br/>strong multicollinearity or other numerical problems."
      ],
      "text/plain": [
       "<class 'statsmodels.iolib.summary.Summary'>\n",
       "\"\"\"\n",
       "                            OLS Regression Results                            \n",
       "==============================================================================\n",
       "Dep. Variable:                      y   R-squared:                       0.384\n",
       "Model:                            OLS   Adj. R-squared:                  0.384\n",
       "Method:                 Least Squares   F-statistic:                     1938.\n",
       "Date:                Wed, 04 Aug 2021   Prob (F-statistic):               0.00\n",
       "Time:                        09:43:50   Log-Likelihood:                 18129.\n",
       "No. Observations:                3108   AIC:                        -3.625e+04\n",
       "Df Residuals:                    3106   BIC:                        -3.624e+04\n",
       "Df Model:                           1                                         \n",
       "Covariance Type:            nonrobust                                         \n",
       "==============================================================================\n",
       "                 coef    std err          t      P>|t|      [0.025      0.975]\n",
       "------------------------------------------------------------------------------\n",
       "const          0.0004   1.45e-05     24.522      0.000       0.000       0.000\n",
       "x1             0.6603      0.015     44.021      0.000       0.631       0.690\n",
       "==============================================================================\n",
       "Omnibus:                     1992.200   Durbin-Watson:                   1.589\n",
       "Prob(Omnibus):                  0.000   Jarque-Bera (JB):           914336.075\n",
       "Skew:                          -1.766   Prob(JB):                         0.00\n",
       "Kurtosis:                      86.953   Cond. No.                     1.18e+03\n",
       "==============================================================================\n",
       "\n",
       "Warnings:\n",
       "[1] Standard Errors assume that the covariance matrix of the errors is correctly specified.\n",
       "[2] The condition number is large, 1.18e+03. This might indicate that there are\n",
       "strong multicollinearity or other numerical problems.\n",
       "\"\"\""
      ]
     },
     "execution_count": 38,
     "metadata": {},
     "output_type": "execute_result"
    }
   ],
   "source": [
    "# shape the data for regression with one series\n",
    "rate_w29 = covid_clean['rate_w29'].to_numpy().reshape(-1,1)\n",
    "rate_w28 = covid_clean['rate_w28'].to_numpy().reshape(-1,1)\n",
    "\n",
    "# add intercept\n",
    "OLS_X = sm.tools.add_constant(rate_w28)\n",
    "\n",
    "# fit the model on the training data\n",
    "OLSModel = OLS(rate_w29,OLS_X).fit()\n",
    "# print(\"Statmodels results: \\n\",OLSModel.params,sep=\"\")\n",
    "OLSModel.summary()"
   ]
  },
  {
   "cell_type": "code",
   "execution_count": 39,
   "metadata": {},
   "outputs": [],
   "source": [
    "# grab the coefficients confidence intervals from the model\n",
    "confidence_intervals = OLSModel.conf_int(alpha=0.05, cols=None)\n",
    "pvalues = OLSModel.pvalues"
   ]
  },
  {
   "cell_type": "code",
   "execution_count": 40,
   "metadata": {},
   "outputs": [
    {
     "data": {
      "image/png": "[encoded data removed]",
      "text/plain": [
       "<Figure size 432x288 with 1 Axes>"
      ]
     },
     "metadata": {
      "needs_background": "light"
     },
     "output_type": "display_data"
    }
   ],
   "source": [
    "# plot novel cases per 1000 for w29 as a function of w29\n",
    "plt.scatter(covid_clean['rate_w28'],covid_clean['rate_w29'])\n",
    "plt.xlabel(\"Increase in week 28\")\n",
    "plt.ylabel(\"Increase in week 29\")\n",
    "i=0.0004       # intercept\n",
    "s=0.6603        # slope\n",
    "x=np.linspace(-0.005,0.03,20)      # from 1 to 10, by 50\n",
    "plt.plot(x, s*x + i, c = 'red')    \n",
    "plt.suptitle(\"Graph 2.1.2 Correlation between week 28 and week 29 covid case growth rate\")\n",
    "plt.show()"
   ]
  },
  {
   "cell_type": "code",
   "execution_count": 41,
   "metadata": {},
   "outputs": [
    {
     "name": "stdout",
     "output_type": "stream",
     "text": [
      "The 95% confidence interval for the intercept is: 0.00032658901296613653 - 0.00038335564460932316\n",
      "The statistical significance (p-value) for the intercept is: 1.5512689757340049e-121\n",
      "The 95% confidence interval for the slope is: 0.6309326693377665 - 0.6897576653275962\n",
      "The statistical significances (p-value) for the slope is: 0.0\n"
     ]
    }
   ],
   "source": [
    "# printing values from the summary table\n",
    "print(\"The 95% confidence interval for the intercept is:\", confidence_intervals[0][0], \"-\", confidence_intervals[0][1])\n",
    "print(\"The statistical significance (p-value) for the intercept is:\", pvalues[0])\n",
    "print(\"The 95% confidence interval for the slope is:\", confidence_intervals[1][0], \"-\", confidence_intervals[1][1])\n",
    "print(\"The statistical significances (p-value) for the slope is:\", pvalues[1])"
   ]
  },
  {
   "cell_type": "markdown",
   "metadata": {},
   "source": [
    "**Comment:** The statistical significance for both coefficients is 0. This means the probability that we would find these coefficients if the null hypothesis were true, is zero. As such, the coefficients are considered statistically significant. \n",
    "The intercept coefficient is very close to 0. Most of the effect is therefore between rate_28 and rate_29.\n",
    "The slope coefficient is estimated at 0.6603: for every increase in rate_28 for a county, we - on average - expect rate_29 rate to increase by 0.6603. As such - as the coefficient is less than one - this suggests the rate of COVID infection DEcreased from week 28 to week 29.\n",
    "When graphing the relationship however, it seems reasonable to conclude that the slope is underestimated, probably due to outliers on the bottom right. Note also that the R squared is 38.4%, indicating 38.4% of the variance in rate_w29 is explained by rate_28."
   ]
  },
  {
   "cell_type": "markdown",
   "metadata": {},
   "source": [
    "**2.2** Fit a linear regression model to predict `rate_w29` from `rate_w28` and `votergap20` along with the interaction between the two.  Interpret the coefficient estimates carefully (no need to mention significances).\n"
   ]
  },
  {
   "cell_type": "code",
   "execution_count": 42,
   "metadata": {},
   "outputs": [],
   "source": [
    "# add intercept, taking into account both regressors\n",
    "covid_clean['rate_w28*votergap20'] = covid_clean['rate_w28']*covid_clean['votergap20']\n",
    "OLS_x_train = sm.tools.add_constant(covid_clean[['rate_w28','votergap20', 'rate_w28*votergap20']])\n",
    "\n",
    "# limit the target variable to pickup count for the dataset\n",
    "y_train = covid_clean['rate_w29']"
   ]
  },
  {
   "cell_type": "code",
   "execution_count": 43,
   "metadata": {},
   "outputs": [
    {
     "name": "stdout",
     "output_type": "stream",
     "text": [
      "Statmodels results: \n",
      "const                  0.000136\n",
      "rate_w28               1.189928\n",
      "votergap20            -0.000005\n",
      "rate_w28*votergap20    0.010237\n",
      "dtype: float64\n"
     ]
    },
    {
     "data": {
      "text/html": [
       "<table class=\"simpletable\">\n",
       "<caption>OLS Regression Results</caption>\n",
       "<tr>\n",
       "  <th>Dep. Variable:</th>        <td>rate_w29</td>     <th>  R-squared:         </th>  <td>   0.458</td> \n",
       "</tr>\n",
       "<tr>\n",
       "  <th>Model:</th>                   <td>OLS</td>       <th>  Adj. R-squared:    </th>  <td>   0.457</td> \n",
       "</tr>\n",
       "<tr>\n",
       "  <th>Method:</th>             <td>Least Squares</td>  <th>  F-statistic:       </th>  <td>   873.9</td> \n",
       "</tr>\n",
       "<tr>\n",
       "  <th>Date:</th>             <td>Wed, 04 Aug 2021</td> <th>  Prob (F-statistic):</th>   <td>  0.00</td>  \n",
       "</tr>\n",
       "<tr>\n",
       "  <th>Time:</th>                 <td>09:43:50</td>     <th>  Log-Likelihood:    </th>  <td>  18327.</td> \n",
       "</tr>\n",
       "<tr>\n",
       "  <th>No. Observations:</th>      <td>  3108</td>      <th>  AIC:               </th> <td>-3.665e+04</td>\n",
       "</tr>\n",
       "<tr>\n",
       "  <th>Df Residuals:</th>          <td>  3104</td>      <th>  BIC:               </th> <td>-3.662e+04</td>\n",
       "</tr>\n",
       "<tr>\n",
       "  <th>Df Model:</th>              <td>     3</td>      <th>                     </th>      <td> </td>    \n",
       "</tr>\n",
       "<tr>\n",
       "  <th>Covariance Type:</th>      <td>nonrobust</td>    <th>                     </th>      <td> </td>    \n",
       "</tr>\n",
       "</table>\n",
       "<table class=\"simpletable\">\n",
       "<tr>\n",
       "           <td></td>              <th>coef</th>     <th>std err</th>      <th>t</th>      <th>P>|t|</th>  <th>[0.025</th>    <th>0.975]</th>  \n",
       "</tr>\n",
       "<tr>\n",
       "  <th>const</th>               <td>    0.0001</td> <td> 1.99e-05</td> <td>    6.819</td> <td> 0.000</td> <td> 9.68e-05</td> <td>    0.000</td>\n",
       "</tr>\n",
       "<tr>\n",
       "  <th>rate_w28</th>            <td>    1.1899</td> <td>    0.030</td> <td>   39.885</td> <td> 0.000</td> <td>    1.131</td> <td>    1.248</td>\n",
       "</tr>\n",
       "<tr>\n",
       "  <th>votergap20</th>          <td>-4.804e-06</td> <td> 4.18e-07</td> <td>  -11.480</td> <td> 0.000</td> <td>-5.62e-06</td> <td>-3.98e-06</td>\n",
       "</tr>\n",
       "<tr>\n",
       "  <th>rate_w28*votergap20</th> <td>    0.0102</td> <td>    0.001</td> <td>   20.324</td> <td> 0.000</td> <td>    0.009</td> <td>    0.011</td>\n",
       "</tr>\n",
       "</table>\n",
       "<table class=\"simpletable\">\n",
       "<tr>\n",
       "  <th>Omnibus:</th>       <td>982.476</td> <th>  Durbin-Watson:     </th>  <td>   1.621</td> \n",
       "</tr>\n",
       "<tr>\n",
       "  <th>Prob(Omnibus):</th> <td> 0.000</td>  <th>  Jarque-Bera (JB):  </th> <td>189519.319</td>\n",
       "</tr>\n",
       "<tr>\n",
       "  <th>Skew:</th>          <td>-0.134</td>  <th>  Prob(JB):          </th>  <td>    0.00</td> \n",
       "</tr>\n",
       "<tr>\n",
       "  <th>Kurtosis:</th>      <td>41.254</td>  <th>  Cond. No.          </th>  <td>1.13e+05</td> \n",
       "</tr>\n",
       "</table><br/><br/>Warnings:<br/>[1] Standard Errors assume that the covariance matrix of the errors is correctly specified.<br/>[2] The condition number is large, 1.13e+05. This might indicate that there are<br/>strong multicollinearity or other numerical problems."
      ],
      "text/plain": [
       "<class 'statsmodels.iolib.summary.Summary'>\n",
       "\"\"\"\n",
       "                            OLS Regression Results                            \n",
       "==============================================================================\n",
       "Dep. Variable:               rate_w29   R-squared:                       0.458\n",
       "Model:                            OLS   Adj. R-squared:                  0.457\n",
       "Method:                 Least Squares   F-statistic:                     873.9\n",
       "Date:                Wed, 04 Aug 2021   Prob (F-statistic):               0.00\n",
       "Time:                        09:43:50   Log-Likelihood:                 18327.\n",
       "No. Observations:                3108   AIC:                        -3.665e+04\n",
       "Df Residuals:                    3104   BIC:                        -3.662e+04\n",
       "Df Model:                           3                                         \n",
       "Covariance Type:            nonrobust                                         \n",
       "=======================================================================================\n",
       "                          coef    std err          t      P>|t|      [0.025      0.975]\n",
       "---------------------------------------------------------------------------------------\n",
       "const                   0.0001   1.99e-05      6.819      0.000    9.68e-05       0.000\n",
       "rate_w28                1.1899      0.030     39.885      0.000       1.131       1.248\n",
       "votergap20          -4.804e-06   4.18e-07    -11.480      0.000   -5.62e-06   -3.98e-06\n",
       "rate_w28*votergap20     0.0102      0.001     20.324      0.000       0.009       0.011\n",
       "==============================================================================\n",
       "Omnibus:                      982.476   Durbin-Watson:                   1.621\n",
       "Prob(Omnibus):                  0.000   Jarque-Bera (JB):           189519.319\n",
       "Skew:                          -0.134   Prob(JB):                         0.00\n",
       "Kurtosis:                      41.254   Cond. No.                     1.13e+05\n",
       "==============================================================================\n",
       "\n",
       "Warnings:\n",
       "[1] Standard Errors assume that the covariance matrix of the errors is correctly specified.\n",
       "[2] The condition number is large, 1.13e+05. This might indicate that there are\n",
       "strong multicollinearity or other numerical problems.\n",
       "\"\"\""
      ]
     },
     "execution_count": 43,
     "metadata": {},
     "output_type": "execute_result"
    }
   ],
   "source": [
    "# fit the model on the training data\n",
    "OLSModel = OLS(y_train,OLS_x_train).fit()\n",
    "print(\"Statmodels results: \\n\",OLSModel.params,sep=\"\")\n",
    "\n",
    "OLSModel.summary()"
   ]
  },
  {
   "cell_type": "code",
   "execution_count": 44,
   "metadata": {},
   "outputs": [
    {
     "data": {
      "image/png": "[encoded data removed]",
      "text/plain": [
       "<Figure size 432x288 with 1 Axes>"
      ]
     },
     "metadata": {
      "needs_background": "light"
     },
     "output_type": "display_data"
    }
   ],
   "source": [
    "# plot novel cases per 1000 for w29 as a function of w29\n",
    "plt.scatter(covid_clean['rate_w28'],covid_clean['rate_w29'])\n",
    "plt.xlabel(\"Increase in week 28\")\n",
    "plt.ylabel(\"Increase in week 29\")\n",
    "i=0.0001       # intercept\n",
    "s=1.1907       # slope\n",
    "x=np.linspace(-0.005,0.03,20)      # from 1 to 10, by 50\n",
    "plt.plot(x, s*x + i, c = 'red')    \n",
    "plt.suptitle(\"Graph 2.1.3 Correlation between week 28 and week 29 covid case growth rate\")\n",
    "plt.show()"
   ]
  },
  {
   "cell_type": "code",
   "execution_count": 45,
   "metadata": {},
   "outputs": [
    {
     "data": {
      "text/plain": [
       "<matplotlib.legend.Legend at 0x7fbe2b2efe10>"
      ]
     },
     "execution_count": 45,
     "metadata": {},
     "output_type": "execute_result"
    },
    {
     "data": {
      "image/png": "[encoded data removed]",
      "text/plain": [
       "<Figure size 432x288 with 1 Axes>"
      ]
     },
     "metadata": {
      "needs_background": "light"
     },
     "output_type": "display_data"
    }
   ],
   "source": [
    "# plot the interaction\n",
    "votergap20_median = covid_clean.votergap20.median()\n",
    "covid_clean['gap20_med'] = covid_clean.votergap20 > votergap20_median\n",
    "plt.scatter(covid_clean['rate_w28'],covid_clean['rate_w29'], c=covid_clean['gap20_med'], alpha = 0.5)\n",
    "# plot below median votergap slope\n",
    "x=np.linspace(-0.005,0.03,20)      # from 1 to 10, by 50\n",
    "i=0.0001       # intercept\n",
    "s=1.1907       # slope below median\n",
    "plt.plot(x, s*x + i, c = 'yellow', label='Below votergap median')   \n",
    "# plot above median votergap slope\n",
    "s= 1.1907 + 0.0102 * votergap20_median\n",
    "plt.plot(x, s*x + i, c = 'purple', label='Above votergap median')\n",
    "plt.xlabel(\"Increase in week 28\")\n",
    "plt.ylabel(\"Increasein week 29\")\n",
    "plt.suptitle(\"Graph 2.1.4 Correlation between w28 and w29 covid growth rate by votergap\")\n",
    "plt.legend()"
   ]
  },
  {
   "cell_type": "code",
   "execution_count": 46,
   "metadata": {},
   "outputs": [],
   "source": [
    "# showing all rows and columns when displaying pandas info \n",
    "pd.set_option('display.max_columns', None)\n",
    "pd.set_option('display.max_rows', None)"
   ]
  },
  {
   "cell_type": "code",
   "execution_count": 47,
   "metadata": {},
   "outputs": [
    {
     "name": "stdout",
     "output_type": "stream",
     "text": [
      "Votergap outliers:\n"
     ]
    },
    {
     "data": {
      "text/html": [
       "<div>\n",
       "<style scoped>\n",
       "    .dataframe tbody tr th:only-of-type {\n",
       "        vertical-align: middle;\n",
       "    }\n",
       "\n",
       "    .dataframe tbody tr th {\n",
       "        vertical-align: top;\n",
       "    }\n",
       "\n",
       "    .dataframe thead th {\n",
       "        text-align: right;\n",
       "    }\n",
       "</style>\n",
       "<table border=\"1\" class=\"dataframe\">\n",
       "  <thead>\n",
       "    <tr style=\"text-align: right;\">\n",
       "      <th></th>\n",
       "      <th>county</th>\n",
       "      <th>votergap20</th>\n",
       "    </tr>\n",
       "  </thead>\n",
       "  <tbody>\n",
       "    <tr>\n",
       "      <td>1105</td>\n",
       "      <td>Franklin</td>\n",
       "      <td>-44.362140</td>\n",
       "    </tr>\n",
       "    <tr>\n",
       "      <td>1607</td>\n",
       "      <td>Powder River</td>\n",
       "      <td>-71.830986</td>\n",
       "    </tr>\n",
       "    <tr>\n",
       "      <td>2639</td>\n",
       "      <td>Loving</td>\n",
       "      <td>-84.848485</td>\n",
       "    </tr>\n",
       "  </tbody>\n",
       "</table>\n",
       "</div>"
      ],
      "text/plain": [
       "            county  votergap20\n",
       "1105      Franklin  -44.362140\n",
       "1607  Powder River  -71.830986\n",
       "2639        Loving  -84.848485"
      ]
     },
     "execution_count": 47,
     "metadata": {},
     "output_type": "execute_result"
    }
   ],
   "source": [
    "# show the outliers\n",
    "print(\"Votergap outliers:\")\n",
    "covid_clean.loc[:,['county','votergap20']][covid_clean['rate_w28'] > 0.01]"
   ]
  },
  {
   "cell_type": "markdown",
   "metadata": {},
   "source": [
    "**Comment:** \n",
    "Coefficient interpretation:\n",
    "- At 0 rate_w28 and 0 votergap20, we rate_w29 mpg to be 0.0001\n",
    "- For every 1 unit increase in rate_w28 (the increase in covid cases per 1000, relative to the previous week), rate_w29 increases by 1.1899 (holding votergap20 at 0)\n",
    "- For every 1 unit increase in rate_w28, rate_w29 changes by 1.1899 + votergap20 * 0.0102 (where votergap20 is not 0)\n",
    "- For every 1 unit increase in votergap20, rate_w29 changes by -4.804e-06 (holding rate_28 at 0)\n",
    "- For every 1 unit increase in votergap20, rate_w29 changes by -4.804e-06 + rate_28 * 0.0102 (where rate_28 is not 0)"
   ]
  },
  {
   "cell_type": "markdown",
   "metadata": {},
   "source": [
    "**Comment:** While the coefficient for votergap is relatively small, there is a material effect when controlling for votergap and the interaction with rate_w28. After controlling for votergap20 (and the interaction), the coefficient for rate_w28 is almost 1.19. This indicates that for every increase in rate_w28, rate_29 increased by 20% more.\n",
    "After controlling for the confounding factors, the regression graph 2.1.3 also looks more reasonable.\n",
    "The interaction variable indicates how different the slope for rate_w28 is as voter gap changes. As median votergap20 is negative, for each one change in voter gap, the slope for rate_w28 decreases by 0.01. This is  illustrated in graph 2.1.4 in purple. The graph also demonstrates how the purple line may be pushed down by outliers for counties Franklin, Powder River, and Loving, counties where Trump significantly outperformed Biden. R squared increases from 38.4 to 45.8 by adding votergap20 and the interaction with rate_28."
   ]
  },
  {
   "cell_type": "markdown",
   "metadata": {},
   "source": [
    "**2.3** Create a scatterplot of `rate_w29` vs. `rate_w28`.  Add 3 separate predicted lines from your model in 2.2 to this scatterplot: the predicted line from the model in 2.2 for counties...\n",
    "    1. where Biden was favored by 50 percentage points.\n",
    "    2. where Biden and Trump were equal\n",
    "    3. where Trump was favored by 50 percentage points.\n",
    "Interpret what you see.\n",
    "\n",
    "\n"
   ]
  },
  {
   "cell_type": "code",
   "execution_count": 48,
   "metadata": {},
   "outputs": [
    {
     "data": {
      "text/plain": [
       "<matplotlib.legend.Legend at 0x7fbe2b290410>"
      ]
     },
     "execution_count": 48,
     "metadata": {},
     "output_type": "execute_result"
    },
    {
     "data": {
      "image/png": "[encoded data removed]",
      "text/plain": [
       "<Figure size 432x288 with 1 Axes>"
      ]
     },
     "metadata": {
      "needs_background": "light"
     },
     "output_type": "display_data"
    }
   ],
   "source": [
    "# plot various predicted lines for three votergap scenarios\n",
    "\n",
    "\n",
    "# We can see the interaction by cutting one of the terms in the interaction along it’s median,\n",
    "# and then plotting the response variable against the other variable in the interacting pair\n",
    "votergap20 = covid_clean.votergap20.median()\n",
    "covid_clean['gap20_med'] = covid_clean.votergap20 > votergap20_median\n",
    "plt.scatter(covid_clean['rate_w28'],covid_clean['rate_w29'], c=covid_clean['gap20_med'], alpha = 0.5)\n",
    "\n",
    "# line specs\n",
    "x=np.linspace(-0.005,0.03,20) \n",
    "i=0.0001       # intercept\n",
    "\n",
    "# plot where Biden was favored by 50 percentage points\n",
    "votergap20 = 50\n",
    "s = 1.1899 + 0.0102 * votergap20       # slope as a function of votergap20\n",
    "plt.plot(x, s*x + i, c = 'blue', label='Biden was favored by 50 percentage points')   \n",
    "\n",
    "# plot where Biden and Trump were equal\n",
    "votergap20 = 0\n",
    "s = 1.1899 + 0.0102 * votergap20       # slope as a function of votergap20\n",
    "plt.plot(x, s*x + i, c = 'purple', label='Biden and Trump were equal')\n",
    "\n",
    "# plot where Trump was favored by 50 percentage points.\n",
    "votergap20 = -50\n",
    "s = 1.1899 + 0.0102 * votergap20       # slope as a function of votergap20\n",
    "plt.plot(x, s*x + i, c = 'red', label='Trump was favored by 50 percentage points')   \n",
    "\n",
    "# Clean up plot\n",
    "plt.xlabel(\"Increase in week 28\")\n",
    "plt.ylabel(\"Increasein week 29\")\n",
    "plt.suptitle(\"Comparison of predicted slopes by votergap\")\n",
    "plt.legend()"
   ]
  },
  {
   "cell_type": "markdown",
   "metadata": {},
   "source": [
    "**Comment:** We can observe a lower predicted increase in counties where Trump was favored by more than 50 percentage points, and a higher predicted increase in counties where Biden was favored by more than 50 percentage points. Where Biden and Trump were equal, the week 29 increase lies in between.\n",
    "@ Devisch should we use dummy data?\n"
   ]
  },
  {
   "cell_type": "markdown",
   "metadata": {},
   "source": [
    "**2.4** Fit a linear regression model to assess the overall association of vaccination rate (`fully_w28`) on `rate_w29`.  Carefully interpret the results (including the statistical significance).  \n",
    "\n",
    "\n"
   ]
  },
  {
   "cell_type": "code",
   "execution_count": 49,
   "metadata": {},
   "outputs": [
    {
     "data": {
      "text/html": [
       "<table class=\"simpletable\">\n",
       "<caption>OLS Regression Results</caption>\n",
       "<tr>\n",
       "  <th>Dep. Variable:</th>            <td>y</td>        <th>  R-squared:         </th>  <td>   0.013</td> \n",
       "</tr>\n",
       "<tr>\n",
       "  <th>Model:</th>                   <td>OLS</td>       <th>  Adj. R-squared:    </th>  <td>   0.013</td> \n",
       "</tr>\n",
       "<tr>\n",
       "  <th>Method:</th>             <td>Least Squares</td>  <th>  F-statistic:       </th>  <td>   42.05</td> \n",
       "</tr>\n",
       "<tr>\n",
       "  <th>Date:</th>             <td>Wed, 04 Aug 2021</td> <th>  Prob (F-statistic):</th>  <td>1.03e-10</td> \n",
       "</tr>\n",
       "<tr>\n",
       "  <th>Time:</th>                 <td>09:43:51</td>     <th>  Log-Likelihood:    </th>  <td>  17396.</td> \n",
       "</tr>\n",
       "<tr>\n",
       "  <th>No. Observations:</th>      <td>  3108</td>      <th>  AIC:               </th> <td>-3.479e+04</td>\n",
       "</tr>\n",
       "<tr>\n",
       "  <th>Df Residuals:</th>          <td>  3106</td>      <th>  BIC:               </th> <td>-3.478e+04</td>\n",
       "</tr>\n",
       "<tr>\n",
       "  <th>Df Model:</th>              <td>     1</td>      <th>                     </th>      <td> </td>    \n",
       "</tr>\n",
       "<tr>\n",
       "  <th>Covariance Type:</th>      <td>nonrobust</td>    <th>                     </th>      <td> </td>    \n",
       "</tr>\n",
       "</table>\n",
       "<table class=\"simpletable\">\n",
       "<tr>\n",
       "    <td></td>       <th>coef</th>     <th>std err</th>      <th>t</th>      <th>P>|t|</th>  <th>[0.025</th>    <th>0.975]</th>  \n",
       "</tr>\n",
       "<tr>\n",
       "  <th>const</th> <td>    0.0009</td> <td> 3.65e-05</td> <td>   23.877</td> <td> 0.000</td> <td>    0.001</td> <td>    0.001</td>\n",
       "</tr>\n",
       "<tr>\n",
       "  <th>x1</th>    <td>-6.699e-06</td> <td> 1.03e-06</td> <td>   -6.484</td> <td> 0.000</td> <td>-8.73e-06</td> <td>-4.67e-06</td>\n",
       "</tr>\n",
       "</table>\n",
       "<table class=\"simpletable\">\n",
       "<tr>\n",
       "  <th>Omnibus:</th>       <td>2459.635</td> <th>  Durbin-Watson:     </th> <td>   1.296</td> \n",
       "</tr>\n",
       "<tr>\n",
       "  <th>Prob(Omnibus):</th>  <td> 0.000</td>  <th>  Jarque-Bera (JB):  </th> <td>62694.782</td>\n",
       "</tr>\n",
       "<tr>\n",
       "  <th>Skew:</th>           <td> 3.613</td>  <th>  Prob(JB):          </th> <td>    0.00</td> \n",
       "</tr>\n",
       "<tr>\n",
       "  <th>Kurtosis:</th>       <td>23.783</td>  <th>  Cond. No.          </th> <td>    80.2</td> \n",
       "</tr>\n",
       "</table><br/><br/>Warnings:<br/>[1] Standard Errors assume that the covariance matrix of the errors is correctly specified."
      ],
      "text/plain": [
       "<class 'statsmodels.iolib.summary.Summary'>\n",
       "\"\"\"\n",
       "                            OLS Regression Results                            \n",
       "==============================================================================\n",
       "Dep. Variable:                      y   R-squared:                       0.013\n",
       "Model:                            OLS   Adj. R-squared:                  0.013\n",
       "Method:                 Least Squares   F-statistic:                     42.05\n",
       "Date:                Wed, 04 Aug 2021   Prob (F-statistic):           1.03e-10\n",
       "Time:                        09:43:51   Log-Likelihood:                 17396.\n",
       "No. Observations:                3108   AIC:                        -3.479e+04\n",
       "Df Residuals:                    3106   BIC:                        -3.478e+04\n",
       "Df Model:                           1                                         \n",
       "Covariance Type:            nonrobust                                         \n",
       "==============================================================================\n",
       "                 coef    std err          t      P>|t|      [0.025      0.975]\n",
       "------------------------------------------------------------------------------\n",
       "const          0.0009   3.65e-05     23.877      0.000       0.001       0.001\n",
       "x1         -6.699e-06   1.03e-06     -6.484      0.000   -8.73e-06   -4.67e-06\n",
       "==============================================================================\n",
       "Omnibus:                     2459.635   Durbin-Watson:                   1.296\n",
       "Prob(Omnibus):                  0.000   Jarque-Bera (JB):            62694.782\n",
       "Skew:                           3.613   Prob(JB):                         0.00\n",
       "Kurtosis:                      23.783   Cond. No.                         80.2\n",
       "==============================================================================\n",
       "\n",
       "Warnings:\n",
       "[1] Standard Errors assume that the covariance matrix of the errors is correctly specified.\n",
       "\"\"\""
      ]
     },
     "execution_count": 49,
     "metadata": {},
     "output_type": "execute_result"
    }
   ],
   "source": [
    "# shape the data for regression with one series\n",
    "rate_w29 = covid_clean['rate_w29'].to_numpy().reshape(-1,1)\n",
    "fully_w28 = covid_clean['fully_w28'].to_numpy().reshape(-1,1)\n",
    "\n",
    "# add intercept\n",
    "OLS_X = sm.tools.add_constant(fully_w28)\n",
    "\n",
    "# fit the model on the training data\n",
    "OLSModel = OLS(rate_w29,OLS_X).fit()\n",
    "# print(\"Statmodels results: \\n\",OLSModel.params,sep=\"\")\n",
    "OLSModel.summary()"
   ]
  },
  {
   "cell_type": "code",
   "execution_count": 50,
   "metadata": {},
   "outputs": [
    {
     "name": "stdout",
     "output_type": "stream",
     "text": [
      "The 95% confidence interval for the intercept is: 0.0008000955185946763 - 0.0009432554561701809\n",
      "The statistical significance (p-value) for the intercept is: 7.936353683603603e-116\n",
      "The 95% confidence interval for the slope is: -8.725069174313632e-06 - -4.673619262601985e-06\n",
      "The statistical significances (p-value) for the slope is: 1.0326999433004491e-10\n"
     ]
    }
   ],
   "source": [
    "# grab the coefficients confidence intervals from the model\n",
    "confidence_intervals = OLSModel.conf_int(alpha=0.05, cols=None)\n",
    "pvalues = OLSModel.pvalues\n",
    "\n",
    "# printing values from the summary table\n",
    "print(\"The 95% confidence interval for the intercept is:\", confidence_intervals[0][0], \"-\", confidence_intervals[0][1])\n",
    "print(\"The statistical significance (p-value) for the intercept is:\", pvalues[0])\n",
    "print(\"The 95% confidence interval for the slope is:\", confidence_intervals[1][0], \"-\", confidence_intervals[1][1])\n",
    "print(\"The statistical significances (p-value) for the slope is:\", pvalues[1])"
   ]
  },
  {
   "cell_type": "markdown",
   "metadata": {},
   "source": [
    "**Comment:** The statistical significance for both coefficients is near 0. This means the probability that we would find these coefficients if the null hypothesis were true, is zero. As such, the coefficients are considered statistically significant.\n",
    "The intercept coefficient is 0.0009. When fully vaccination rate in week 28 is zero, we therefore expect the increse in covid cases in week 29 to be 0.0009.\n",
    "The slope coefficient is estimated at roughly -7e-06. As such, for every increase in vaccination rate for a county, we - on average - expect rate_29 to decease by 7 in a million. Nevertheless, only 1.3% of the variance in rate_w29 is explained by fully_w28."
   ]
  },
  {
   "cell_type": "markdown",
   "metadata": {},
   "source": [
    "**2.5** Many counties have the value zero for `fully_w28` which really represents a missing/unreported value for vaccination rate.  Comment on the effect of ignoring this issue can have on the intepretations and inferences in the model in 2.4.  What would be a better way of handling this issue?\n",
    "\n",
    "\n"
   ]
  },
  {
   "cell_type": "markdown",
   "metadata": {},
   "source": [
    "**Comment:** Since fully_w28 at zero really represents a missing / unreported value for vaccination rate, zero does not seem to be a reasonable value. First, the absence of data can reduce statistical power (the probability that the test will reject the null hypothesis when it is false). Second, the lost data can cause bias in the estimation of parameters. \n",
    "A better way of handling this, would be to impute the missing / unreported values with a reasonable value. One way to impute a reasonable value, could be to use the average vaccination rate of neighbouring counties. Alternatively, we could use a modeling technique such as regression to impute the missing value. One last option is to drop those counties for which no vaccination rate was reported."
   ]
  },
  {
   "cell_type": "markdown",
   "metadata": {},
   "source": [
    "**2.6** What factors could be confounded (whether measured here or not) with the result seen in the model from 2.4 (list up to 3)?  Fit an appropriate linear model that controls for as many of these factors as possible (for those that are measured in this data set). Interpret the coefficient estimates from this model and compare to the results from 2.4.\n",
    "\n"
   ]
  },
  {
   "cell_type": "markdown",
   "metadata": {},
   "source": [
    "**Comment:** Amongst many possible confounding factors, it seems reasonable that the results in 2.4^& could be confounded by mask wearing habits, vaccination rates, and population density."
   ]
  },
  {
   "cell_type": "code",
   "execution_count": 51,
   "metadata": {},
   "outputs": [],
   "source": [
    "# prepare a model comparison dataframe\n",
    "# prepare a dataframe to represent rates for each model\n",
    "model_comparison_df = pd.DataFrame(\n",
    "    columns=['training accuracy', 'test accuracy']\n",
    ")"
   ]
  },
  {
   "cell_type": "code",
   "execution_count": 52,
   "metadata": {},
   "outputs": [],
   "source": [
    "# prepare the data to use all possible \"raw\" predictors\n",
    "# removing all the non-numeric columns\n",
    "covid_clean_num_only = covid_clean.drop(['date','county', 'state', 'gap20_med'],axis=1) "
   ]
  },
  {
   "cell_type": "code",
   "execution_count": 53,
   "metadata": {},
   "outputs": [],
   "source": [
    "# Devisch we may want to remove this in the final version\n",
    "# # removing the data for previous weeks as they are likely to be highly collinear with the values of week 28\n",
    "# covid_clean_num_only = covid_clean_num_only.drop(['cases_w26','deaths_w26', 'fully_w26', 'dose1_w26'],axis=1)\n",
    "# covid_clean_num_only = covid_clean_num_only.drop(['cases_w27','deaths_w27', 'fully_w27', 'dose1_w27', 'rate_w27'],axis=1)\n",
    "# covid_clean_num_only = covid_clean_num_only.drop(['cases_w28'],axis=1)"
   ]
  },
  {
   "cell_type": "code",
   "execution_count": 54,
   "metadata": {},
   "outputs": [],
   "source": [
    "# removing the data from week 29 and week 30 as this wouldn't be known at prediction time\n",
    "covid_clean_num_only = covid_clean_num_only.drop(['cases_w29','deaths_w29', 'fully_w29', 'dose1_w29'],axis=1)\n",
    "covid_clean_num_only = covid_clean_num_only.drop(['cases_w30','deaths_w30', 'fully_w30', 'dose1_w30', 'rate_w30'],axis=1)\n"
   ]
  },
  {
   "cell_type": "code",
   "execution_count": 55,
   "metadata": {},
   "outputs": [
    {
     "name": "stdout",
     "output_type": "stream",
     "text": [
      "Number of rows removed by cleaning up non-numeric values: 2\n"
     ]
    }
   ],
   "source": [
    "# cleaning out a couple of records with non-numeric values in votergap16\n",
    "orig_nr_rows = covid_clean_num_only.shape[0]\n",
    "covid_clean_num_only = covid_clean_num_only.loc[:,:][covid_clean_num_only['votergap16']!='#VALUE!']\n",
    "print(\"Number of rows removed by cleaning up non-numeric values:\", orig_nr_rows - covid_clean_num_only.shape[0])\n",
    "\n",
    "#convert votergap16 to dtype float\n",
    "covid_clean_num_only['votergap16'] = covid_clean_num_only['votergap16'].astype(float)"
   ]
  },
  {
   "cell_type": "code",
   "execution_count": 56,
   "metadata": {},
   "outputs": [],
   "source": [
    "# # add interaction variables between rate_28 and the mask variables\n",
    "# # drop the previous interaction variables\n",
    "\n",
    "# covid_clean_num_only = covid_clean_num_only.drop(['rate_w28*votergap20'],axis=1) \n",
    "# # for column in ['never','rarely','sometimes','frequently', 'always', 'density', 'votergap20']:\n",
    "# for column in covid_clean_num_only.columns:\n",
    "#     if column != 'rate_w28' and column != 'rate_w29':\n",
    "#         covid_clean_num_only[str(column) + '*' + 'rate_w28'] = covid_clean_num_only[column] * covid_clean_num_only['rate_w28']\n",
    "\n"
   ]
  },
  {
   "cell_type": "code",
   "execution_count": 57,
   "metadata": {},
   "outputs": [],
   "source": [
    "#standardize the features\n",
    "column_names = covid_clean_num_only.columns\n",
    "scale_transformer = MinMaxScaler(copy=True).fit(covid_clean_num_only)\n",
    "covid_clean_num_only = pd.DataFrame(scale_transformer.transform(covid_clean_num_only))\n",
    "covid_clean_num_only.columns = column_names"
   ]
  },
  {
   "cell_type": "code",
   "execution_count": 58,
   "metadata": {},
   "outputs": [],
   "source": [
    "# remove the target value from the predictor set, and add it to the target set\n",
    "X = covid_clean_num_only.loc[:, covid_clean_num_only.columns != 'rate_w29']\n",
    "y = covid_clean_num_only.rate_w29"
   ]
  },
  {
   "cell_type": "code",
   "execution_count": 59,
   "metadata": {},
   "outputs": [],
   "source": [
    "# split dataset in train and test\n",
    "X_train, X_test, y_train, y_test = train_test_split(X, y, test_size=0.2, random_state = 109)"
   ]
  },
  {
   "cell_type": "code",
   "execution_count": 60,
   "metadata": {},
   "outputs": [],
   "source": [
    "# train a simple model\n",
    "OLS_x_train = sm.tools.add_constant(X_train)\n",
    "OLS_x_test = sm.tools.add_constant(X_test)\n",
    "\n",
    "OLSModel = OLS(y_train,OLS_x_train).fit()"
   ]
  },
  {
   "cell_type": "code",
   "execution_count": 61,
   "metadata": {},
   "outputs": [
    {
     "name": "stdout",
     "output_type": "stream",
     "text": [
      "OLS model train accuracy:  0.5754563052979484\n",
      "OLS model train accuracy:  0.4970200402017366\n"
     ]
    }
   ],
   "source": [
    "# train accuracy\n",
    "y_hat_train_pred_26 = OLSModel.predict(OLS_x_train) \n",
    "train_score_26 = r2_score(y_train, y_hat_train_pred_26)\n",
    "\n",
    "# test_accuracy\n",
    "y_hat_test_pred_26 = OLSModel.predict(OLS_x_test) \n",
    "test_score_26 = r2_score(y_test.to_numpy(), y_hat_test_pred_26)\n",
    "\n",
    "print(\"OLS model train accuracy: \", train_score_26)\n",
    "print(\"OLS model train accuracy: \", test_score_26)"
   ]
  },
  {
   "cell_type": "code",
   "execution_count": 62,
   "metadata": {},
   "outputs": [
    {
     "data": {
      "text/html": [
       "<style  type=\"text/css\" >\n",
       "</style><table id=\"T_00b8913a_f52a_11eb_afa6_acde48001122\" ><thead>    <tr>        <th class=\"blank level0\" ></th>        <th class=\"col_heading level0 col0\" >training accuracy</th>        <th class=\"col_heading level0 col1\" >test accuracy</th>    </tr></thead><tbody>\n",
       "                <tr>\n",
       "                        <th id=\"T_00b8913a_f52a_11eb_afa6_acde48001122level0_row0\" class=\"row_heading level0 row0\" >OLS_from2.6</th>\n",
       "                        <td id=\"T_00b8913a_f52a_11eb_afa6_acde48001122row0_col0\" class=\"data row0 col0\" >57.5%</td>\n",
       "                        <td id=\"T_00b8913a_f52a_11eb_afa6_acde48001122row0_col1\" class=\"data row0 col1\" >49.7%</td>\n",
       "            </tr>\n",
       "    </tbody></table>"
      ],
      "text/plain": [
       "<pandas.io.formats.style.Styler at 0x7fbe2d191250>"
      ]
     },
     "execution_count": 62,
     "metadata": {},
     "output_type": "execute_result"
    }
   ],
   "source": [
    "# Add best tree to comparison table\n",
    "model_comparison_df.loc['OLS_from2.6','training accuracy'] = train_score_26\n",
    "model_comparison_df.loc['OLS_from2.6','test accuracy'] = test_score_26\n",
    "# model_comparison_df.loc['Random forest','w30 accuracy'] = score_best_RF_w30\n",
    "\n",
    "\n",
    "# display the rates by model in percentage format\n",
    "model_comparison_df.style.format({\n",
    "    'training accuracy': '{:,.1%}'.format,\n",
    "    'test accuracy': '{:,.1%}'.format,\n",
    "    'w30 accuracy': '{:,.1%}'.format,\n",
    "})"
   ]
  },
  {
   "cell_type": "code",
   "execution_count": 63,
   "metadata": {},
   "outputs": [
    {
     "data": {
      "text/html": [
       "<table class=\"simpletable\">\n",
       "<caption>OLS Regression Results</caption>\n",
       "<tr>\n",
       "  <th>Dep. Variable:</th>        <td>rate_w29</td>     <th>  R-squared:         </th> <td>   0.575</td>\n",
       "</tr>\n",
       "<tr>\n",
       "  <th>Model:</th>                   <td>OLS</td>       <th>  Adj. R-squared:    </th> <td>   0.570</td>\n",
       "</tr>\n",
       "<tr>\n",
       "  <th>Method:</th>             <td>Least Squares</td>  <th>  F-statistic:       </th> <td>   97.63</td>\n",
       "</tr>\n",
       "<tr>\n",
       "  <th>Date:</th>             <td>Wed, 04 Aug 2021</td> <th>  Prob (F-statistic):</th>  <td>  0.00</td> \n",
       "</tr>\n",
       "<tr>\n",
       "  <th>Time:</th>                 <td>09:43:51</td>     <th>  Log-Likelihood:    </th> <td>  3526.0</td>\n",
       "</tr>\n",
       "<tr>\n",
       "  <th>No. Observations:</th>      <td>  2484</td>      <th>  AIC:               </th> <td>  -6982.</td>\n",
       "</tr>\n",
       "<tr>\n",
       "  <th>Df Residuals:</th>          <td>  2449</td>      <th>  BIC:               </th> <td>  -6778.</td>\n",
       "</tr>\n",
       "<tr>\n",
       "  <th>Df Model:</th>              <td>    34</td>      <th>                     </th>     <td> </td>   \n",
       "</tr>\n",
       "<tr>\n",
       "  <th>Covariance Type:</th>      <td>nonrobust</td>    <th>                     </th>     <td> </td>   \n",
       "</tr>\n",
       "</table>\n",
       "<table class=\"simpletable\">\n",
       "<tr>\n",
       "           <td></td>              <th>coef</th>     <th>std err</th>      <th>t</th>      <th>P>|t|</th>  <th>[0.025</th>    <th>0.975]</th>  \n",
       "</tr>\n",
       "<tr>\n",
       "  <th>const</th>               <td>   -0.5886</td> <td>    1.574</td> <td>   -0.374</td> <td> 0.708</td> <td>   -3.675</td> <td>    2.498</td>\n",
       "</tr>\n",
       "<tr>\n",
       "  <th>fips</th>                <td>   -0.0347</td> <td>    0.005</td> <td>   -7.461</td> <td> 0.000</td> <td>   -0.044</td> <td>   -0.026</td>\n",
       "</tr>\n",
       "<tr>\n",
       "  <th>cases_w26</th>           <td>   55.9627</td> <td>   33.918</td> <td>    1.650</td> <td> 0.099</td> <td>  -10.549</td> <td>  122.474</td>\n",
       "</tr>\n",
       "<tr>\n",
       "  <th>deaths_w26</th>          <td>   -6.6960</td> <td>   12.214</td> <td>   -0.548</td> <td> 0.584</td> <td>  -30.646</td> <td>   17.255</td>\n",
       "</tr>\n",
       "<tr>\n",
       "  <th>fully_w26</th>           <td>   -1.0496</td> <td>    0.435</td> <td>   -2.411</td> <td> 0.016</td> <td>   -1.903</td> <td>   -0.196</td>\n",
       "</tr>\n",
       "<tr>\n",
       "  <th>dose1_w26</th>           <td>    0.0762</td> <td>    0.052</td> <td>    1.473</td> <td> 0.141</td> <td>   -0.025</td> <td>    0.178</td>\n",
       "</tr>\n",
       "<tr>\n",
       "  <th>cases_w27</th>           <td> -192.2973</td> <td>   60.894</td> <td>   -3.158</td> <td> 0.002</td> <td> -311.707</td> <td>  -72.888</td>\n",
       "</tr>\n",
       "<tr>\n",
       "  <th>deaths_w27</th>          <td>    9.4149</td> <td>   23.472</td> <td>    0.401</td> <td> 0.688</td> <td>  -36.612</td> <td>   55.441</td>\n",
       "</tr>\n",
       "<tr>\n",
       "  <th>fully_w27</th>           <td>    1.5751</td> <td>    0.777</td> <td>    2.026</td> <td> 0.043</td> <td>    0.051</td> <td>    3.099</td>\n",
       "</tr>\n",
       "<tr>\n",
       "  <th>dose1_w27</th>           <td>   -0.0333</td> <td>    0.078</td> <td>   -0.426</td> <td> 0.670</td> <td>   -0.187</td> <td>    0.120</td>\n",
       "</tr>\n",
       "<tr>\n",
       "  <th>cases_w28</th>           <td>  136.4260</td> <td>   29.989</td> <td>    4.549</td> <td> 0.000</td> <td>   77.620</td> <td>  195.232</td>\n",
       "</tr>\n",
       "<tr>\n",
       "  <th>deaths_w28</th>          <td>   -2.7384</td> <td>   15.087</td> <td>   -0.182</td> <td> 0.856</td> <td>  -32.324</td> <td>   26.847</td>\n",
       "</tr>\n",
       "<tr>\n",
       "  <th>fully_w28</th>           <td>   -0.6012</td> <td>    0.594</td> <td>   -1.012</td> <td> 0.312</td> <td>   -1.767</td> <td>    0.564</td>\n",
       "</tr>\n",
       "<tr>\n",
       "  <th>dose1_w28</th>           <td>    0.0201</td> <td>    0.069</td> <td>    0.293</td> <td> 0.769</td> <td>   -0.114</td> <td>    0.155</td>\n",
       "</tr>\n",
       "<tr>\n",
       "  <th>population</th>          <td>    0.0528</td> <td>    0.217</td> <td>    0.244</td> <td> 0.807</td> <td>   -0.372</td> <td>    0.477</td>\n",
       "</tr>\n",
       "<tr>\n",
       "  <th>hispanic</th>            <td>    0.0102</td> <td>    0.013</td> <td>    0.781</td> <td> 0.435</td> <td>   -0.015</td> <td>    0.036</td>\n",
       "</tr>\n",
       "<tr>\n",
       "  <th>minority</th>            <td>    0.0080</td> <td>    0.012</td> <td>    0.672</td> <td> 0.501</td> <td>   -0.015</td> <td>    0.031</td>\n",
       "</tr>\n",
       "<tr>\n",
       "  <th>female</th>              <td>   -0.0334</td> <td>    0.016</td> <td>   -2.119</td> <td> 0.034</td> <td>   -0.064</td> <td>   -0.002</td>\n",
       "</tr>\n",
       "<tr>\n",
       "  <th>unemployed</th>          <td>    0.0050</td> <td>    0.020</td> <td>    0.252</td> <td> 0.801</td> <td>   -0.034</td> <td>    0.044</td>\n",
       "</tr>\n",
       "<tr>\n",
       "  <th>income</th>              <td>   -0.0406</td> <td>    0.017</td> <td>   -2.456</td> <td> 0.014</td> <td>   -0.073</td> <td>   -0.008</td>\n",
       "</tr>\n",
       "<tr>\n",
       "  <th>nodegree</th>            <td>    0.0103</td> <td>    0.017</td> <td>    0.592</td> <td> 0.554</td> <td>   -0.024</td> <td>    0.044</td>\n",
       "</tr>\n",
       "<tr>\n",
       "  <th>bachelor</th>            <td>    0.1136</td> <td>    0.020</td> <td>    5.608</td> <td> 0.000</td> <td>    0.074</td> <td>    0.153</td>\n",
       "</tr>\n",
       "<tr>\n",
       "  <th>inactivity</th>          <td>    0.0330</td> <td>    0.014</td> <td>    2.337</td> <td> 0.020</td> <td>    0.005</td> <td>    0.061</td>\n",
       "</tr>\n",
       "<tr>\n",
       "  <th>obesity</th>             <td>    0.0377</td> <td>    0.016</td> <td>    2.404</td> <td> 0.016</td> <td>    0.007</td> <td>    0.068</td>\n",
       "</tr>\n",
       "<tr>\n",
       "  <th>density</th>             <td>   -0.0144</td> <td>    0.044</td> <td>   -0.328</td> <td> 0.743</td> <td>   -0.101</td> <td>    0.072</td>\n",
       "</tr>\n",
       "<tr>\n",
       "  <th>votergap20</th>          <td>   -0.1582</td> <td>    0.053</td> <td>   -2.992</td> <td> 0.003</td> <td>   -0.262</td> <td>   -0.054</td>\n",
       "</tr>\n",
       "<tr>\n",
       "  <th>votergap16</th>          <td>    0.0716</td> <td>    0.050</td> <td>    1.434</td> <td> 0.152</td> <td>   -0.026</td> <td>    0.169</td>\n",
       "</tr>\n",
       "<tr>\n",
       "  <th>never</th>               <td>   -0.2022</td> <td>    0.792</td> <td>   -0.255</td> <td> 0.799</td> <td>   -1.756</td> <td>    1.351</td>\n",
       "</tr>\n",
       "<tr>\n",
       "  <th>rarely</th>              <td>   -0.2035</td> <td>    0.705</td> <td>   -0.289</td> <td> 0.773</td> <td>   -1.585</td> <td>    1.178</td>\n",
       "</tr>\n",
       "<tr>\n",
       "  <th>sometimes</th>           <td>   -0.2146</td> <td>    0.772</td> <td>   -0.278</td> <td> 0.781</td> <td>   -1.729</td> <td>    1.299</td>\n",
       "</tr>\n",
       "<tr>\n",
       "  <th>frequently</th>          <td>   -0.3073</td> <td>    0.954</td> <td>   -0.322</td> <td> 0.747</td> <td>   -2.178</td> <td>    1.563</td>\n",
       "</tr>\n",
       "<tr>\n",
       "  <th>always</th>              <td>   -0.3811</td> <td>    1.420</td> <td>   -0.268</td> <td> 0.788</td> <td>   -3.165</td> <td>    2.403</td>\n",
       "</tr>\n",
       "<tr>\n",
       "  <th>rate_w28</th>            <td>    1.5103</td> <td>    0.081</td> <td>   18.639</td> <td> 0.000</td> <td>    1.351</td> <td>    1.669</td>\n",
       "</tr>\n",
       "<tr>\n",
       "  <th>rate_w27</th>            <td>    0.4050</td> <td>    0.020</td> <td>   20.080</td> <td> 0.000</td> <td>    0.365</td> <td>    0.445</td>\n",
       "</tr>\n",
       "<tr>\n",
       "  <th>rate_w28*votergap20</th> <td>    1.1510</td> <td>    0.108</td> <td>   10.672</td> <td> 0.000</td> <td>    0.940</td> <td>    1.363</td>\n",
       "</tr>\n",
       "</table>\n",
       "<table class=\"simpletable\">\n",
       "<tr>\n",
       "  <th>Omnibus:</th>       <td>966.574</td> <th>  Durbin-Watson:     </th> <td>   2.010</td> \n",
       "</tr>\n",
       "<tr>\n",
       "  <th>Prob(Omnibus):</th> <td> 0.000</td>  <th>  Jarque-Bera (JB):  </th> <td>59101.496</td>\n",
       "</tr>\n",
       "<tr>\n",
       "  <th>Skew:</th>          <td> 1.012</td>  <th>  Prob(JB):          </th> <td>    0.00</td> \n",
       "</tr>\n",
       "<tr>\n",
       "  <th>Kurtosis:</th>      <td>26.810</td>  <th>  Cond. No.          </th> <td>1.42e+05</td> \n",
       "</tr>\n",
       "</table><br/><br/>Warnings:<br/>[1] Standard Errors assume that the covariance matrix of the errors is correctly specified.<br/>[2] The condition number is large, 1.42e+05. This might indicate that there are<br/>strong multicollinearity or other numerical problems."
      ],
      "text/plain": [
       "<class 'statsmodels.iolib.summary.Summary'>\n",
       "\"\"\"\n",
       "                            OLS Regression Results                            \n",
       "==============================================================================\n",
       "Dep. Variable:               rate_w29   R-squared:                       0.575\n",
       "Model:                            OLS   Adj. R-squared:                  0.570\n",
       "Method:                 Least Squares   F-statistic:                     97.63\n",
       "Date:                Wed, 04 Aug 2021   Prob (F-statistic):               0.00\n",
       "Time:                        09:43:51   Log-Likelihood:                 3526.0\n",
       "No. Observations:                2484   AIC:                            -6982.\n",
       "Df Residuals:                    2449   BIC:                            -6778.\n",
       "Df Model:                          34                                         \n",
       "Covariance Type:            nonrobust                                         \n",
       "=======================================================================================\n",
       "                          coef    std err          t      P>|t|      [0.025      0.975]\n",
       "---------------------------------------------------------------------------------------\n",
       "const                  -0.5886      1.574     -0.374      0.708      -3.675       2.498\n",
       "fips                   -0.0347      0.005     -7.461      0.000      -0.044      -0.026\n",
       "cases_w26              55.9627     33.918      1.650      0.099     -10.549     122.474\n",
       "deaths_w26             -6.6960     12.214     -0.548      0.584     -30.646      17.255\n",
       "fully_w26              -1.0496      0.435     -2.411      0.016      -1.903      -0.196\n",
       "dose1_w26               0.0762      0.052      1.473      0.141      -0.025       0.178\n",
       "cases_w27            -192.2973     60.894     -3.158      0.002    -311.707     -72.888\n",
       "deaths_w27              9.4149     23.472      0.401      0.688     -36.612      55.441\n",
       "fully_w27               1.5751      0.777      2.026      0.043       0.051       3.099\n",
       "dose1_w27              -0.0333      0.078     -0.426      0.670      -0.187       0.120\n",
       "cases_w28             136.4260     29.989      4.549      0.000      77.620     195.232\n",
       "deaths_w28             -2.7384     15.087     -0.182      0.856     -32.324      26.847\n",
       "fully_w28              -0.6012      0.594     -1.012      0.312      -1.767       0.564\n",
       "dose1_w28               0.0201      0.069      0.293      0.769      -0.114       0.155\n",
       "population              0.0528      0.217      0.244      0.807      -0.372       0.477\n",
       "hispanic                0.0102      0.013      0.781      0.435      -0.015       0.036\n",
       "minority                0.0080      0.012      0.672      0.501      -0.015       0.031\n",
       "female                 -0.0334      0.016     -2.119      0.034      -0.064      -0.002\n",
       "unemployed              0.0050      0.020      0.252      0.801      -0.034       0.044\n",
       "income                 -0.0406      0.017     -2.456      0.014      -0.073      -0.008\n",
       "nodegree                0.0103      0.017      0.592      0.554      -0.024       0.044\n",
       "bachelor                0.1136      0.020      5.608      0.000       0.074       0.153\n",
       "inactivity              0.0330      0.014      2.337      0.020       0.005       0.061\n",
       "obesity                 0.0377      0.016      2.404      0.016       0.007       0.068\n",
       "density                -0.0144      0.044     -0.328      0.743      -0.101       0.072\n",
       "votergap20             -0.1582      0.053     -2.992      0.003      -0.262      -0.054\n",
       "votergap16              0.0716      0.050      1.434      0.152      -0.026       0.169\n",
       "never                  -0.2022      0.792     -0.255      0.799      -1.756       1.351\n",
       "rarely                 -0.2035      0.705     -0.289      0.773      -1.585       1.178\n",
       "sometimes              -0.2146      0.772     -0.278      0.781      -1.729       1.299\n",
       "frequently             -0.3073      0.954     -0.322      0.747      -2.178       1.563\n",
       "always                 -0.3811      1.420     -0.268      0.788      -3.165       2.403\n",
       "rate_w28                1.5103      0.081     18.639      0.000       1.351       1.669\n",
       "rate_w27                0.4050      0.020     20.080      0.000       0.365       0.445\n",
       "rate_w28*votergap20     1.1510      0.108     10.672      0.000       0.940       1.363\n",
       "==============================================================================\n",
       "Omnibus:                      966.574   Durbin-Watson:                   2.010\n",
       "Prob(Omnibus):                  0.000   Jarque-Bera (JB):            59101.496\n",
       "Skew:                           1.012   Prob(JB):                         0.00\n",
       "Kurtosis:                      26.810   Cond. No.                     1.42e+05\n",
       "==============================================================================\n",
       "\n",
       "Warnings:\n",
       "[1] Standard Errors assume that the covariance matrix of the errors is correctly specified.\n",
       "[2] The condition number is large, 1.42e+05. This might indicate that there are\n",
       "strong multicollinearity or other numerical problems.\n",
       "\"\"\""
      ]
     },
     "execution_count": 63,
     "metadata": {},
     "output_type": "execute_result"
    }
   ],
   "source": [
    "OLSModel.summary()"
   ]
  },
  {
   "cell_type": "markdown",
   "metadata": {},
   "source": [
    "**Comments:** We added a significant set of possibly confounding factors. The effect of full vaccination in week28, changed: in 2.4, the coeffient for fully_w28 is -6.699e-06. After adding additional predictors, the coefficient is -0.6012. This is much more intuitive. However, the confidence interval includes zero and the p-value is over .3. As such - counter intuitively - vaccination rates are not statistically correlate with case changes in week 29."
   ]
  },
  {
   "cell_type": "markdown",
   "metadata": {},
   "source": [
    "**2.7** What major issue could arise if you fit a model to predict `rate_w29` from `rate_w28` and `rate_w27` (or from `fully_w28` and `fully_w27`) in a linear regression model?  Suggest and explain the use of two different approaches to account for this: one approach should be based on modeling and one approach should be based on feature engineering/variable transformations (not PCA). \n",
    "\n"
   ]
  },
  {
   "cell_type": "markdown",
   "metadata": {},
   "source": [
    "**Comment:** Rate_w28 and Rate_w27 will likely be highly correlated: where there's been material change in cases in one direction, we should expect a similar change the week after. Adding both features, therefore will increase a multicollinearity problem, making coefficients, confidence intervals and p-values unreliable. One solution (as illustrated later) is to use a predictor selection method (e.g., forward or backward selection). \n",
    "To reduce the risk of multicollinearity, it is recommended to standardize features (i.e. feature engineering)."
   ]
  },
  {
   "cell_type": "markdown",
   "metadata": {},
   "source": [
    "**2.8** The test set has a response variable that is `rate_w30`.  How would you use your models to predict `rate_w29` in this section in order to predict `rate_w30` instead?  Explain.  What could go wrong in this modification?\n",
    "\n",
    "**Hint**: what should be the predictors to predict `rate_w30` instead of `rate_w29`? \n"
   ]
  },
  {
   "cell_type": "markdown",
   "metadata": {},
   "source": [
    "**Comment:** Our model is hard coded to predict rate_w29 from previous weeks' data. As such, if we wanted to predict rate_w30, we'd want to use e.g., rate_29 as a predictor (not rate_w28).\n",
    "One solution is to keep the columns names as-is, but to shift the data by one week. We'd, for example, replace rate_w28 with rate_w29 data, rate_w27 data with rate_w28 data, rate_w26 data with rate_w27 data. We'd perform a similar operation for the other weekly metrics ('cases_w26','deaths_w26', 'fully_w26', 'dose1_w26'). This modification could easily go wrong when creating interaction variables.\n",
    "\n",
    "Covid patterns, however, change continuously. As such, this approach would not hold over time. A better approach, would be to do refit the model with the more recent data."
   ]
  },
  {
   "cell_type": "markdown",
   "metadata": {},
   "source": [
    "---"
   ]
  },
  {
   "cell_type": "markdown",
   "metadata": {},
   "source": [
    "## Question 3 [30pts]: Prediction modeling \n",
    "\n",
    "**3.1** Fit a well-tuned lasso model to predict `rate_w29` from the following set of predictors (along with all 2-way interactions among the main effects and all 2nd and 3rd order polynomial terms):\n",
    "\n",
    "`['rate_w28','rate_w27','dose1_w28','hispanic','minority','female','unemployed', 'income','nodegree','bachelor','inactivity','obesity','density','cancer','votergap20']`\n",
    "\n",
    "Report and explain the best choice of $\\lambda$ (a visual can help with this), your estimate of out-of-sample $R^2$, along with the number of coefficients that shrunk exactly to zero (or numerically zero) and the number that are non-zero.\n",
    "\n",
    "**3.2** Plot the trajectory curves of the main effects `['rate_w28','rate_w27','fully_w28','votergap20']` from this model: the estimates of the $\\beta$ coefficients as a function of $\\lambda$.  Interpret what you notice.\n",
    "\n",
    "**3.3** Fit a well-tuned random forest model to predict `rate_w29` from the predictors listed in 3.1.  Report your choice of the tuning parameters and briefly justify your choices (a visual or table may be helpful for this).  Provide an estimate of out-of-sample $R^2$.  Note: do not go to crazy with the number of options for the parameters you are tuning...choose a set of values that are reasonable.\n",
    "\n",
    "**3.4** Interpret the relationship between `rate_w29` and `dose1_w28` from the random forest model in 3.3.  Is there any evidence of interactive effects in this model involving `dose1_w28`?  How do you know?  Provide a reasonable visual (or a few visuals) to help you with these tasks and interpret what you see. \n",
    "\n",
    "**3.5** Fit a well-tuned boosting model to predict `rate_w29` from the predictors listed in 3.1.  Report your best choice of the tuning parameters and briefly justify your choice (a visual or table may be helpful for this).  Provide an estimate of out-of-sample $R^2$.  Note: again, do not go to crazy with the number of options for the parameters you are tuning...choose a set of values that are reasonable.\n",
    "\n",
    "**3.6** Improve upon your favorite/best predictive model from 3.1, 3.3, or 3.5, by including other provided feature, by doing feature engineering, or by doing variable removal/selection.  Explain your choices.  Provide an estimate of out-of-sample $R^2$. \n",
    "\n",
    "**3.7** Evaluate your models from 3.1, 3.3, 3.5, and 3.6 on the test set (this will take some work...refer back to 2.8) using $R^2$.  How do these model's $R^2$ in test compare to the out-of-sample $R^2$ when tuning?  Explain whether this is surprising or not?\n",
    "\n"
   ]
  },
  {
   "cell_type": "markdown",
   "metadata": {},
   "source": [
    "## Answers"
   ]
  },
  {
   "cell_type": "markdown",
   "metadata": {},
   "source": [
    "**3.1** Fit a well-tuned lasso model to predict `rate_w29` from the following set of predictors (along with all 2-way interactions among the main effects and all 2nd and 3rd order polynomial terms):\n",
    "\n",
    "`['rate_w28','rate_w27','dose1_w28','hispanic','minority','female','unemployed', 'income','nodegree','bachelor','inactivity','obesity','density','cancer','votergap20']`\n",
    "\n",
    "Report and explain the best choice of $\\lambda$ (a visual can help with this), your estimate of out-of-sample $R^2$, along with the number of coefficients that shrunk exactly to zero (or numerically zero) and the number that are non-zero.\n"
   ]
  },
  {
   "cell_type": "code",
   "execution_count": 64,
   "metadata": {},
   "outputs": [],
   "source": [
    "def add_poly_features(dataset, degree, columns):\n",
    "    \"\"\"\n",
    "    :param dataset: Your data\n",
    "    :param degree: Max degree\n",
    "    :return: Augmented DataFrame\n",
    "    \"\"\"\n",
    "    # walk through the columns for which to add polynomials\n",
    "    for column in columns:\n",
    "        # create 2+ degree polynomials\n",
    "        for polynomial in range(degree):\n",
    "            # ignore polynomials with exponent 0 and 1\n",
    "            polynomial = polynomial + 2\n",
    "            if polynomial <= degree:\n",
    "                # create the new columns\n",
    "                dataset[str(column) + \"_\" + str(polynomial)] = dataset[column] ** polynomial\n",
    "    poly_dataset = dataset\n",
    "    return poly_dataset"
   ]
  },
  {
   "cell_type": "code",
   "execution_count": 65,
   "metadata": {},
   "outputs": [],
   "source": [
    "def build_interaction(df, columns):\n",
    "    # create a copy of the columns and dataframes to avoid unintentionally changing the original set\n",
    "    interact_left = columns.copy()\n",
    "    interact_right = columns.copy()\n",
    "    result_df = df.copy()\n",
    "\n",
    "    # create interaction features for all the requested columns\n",
    "    for left in interact_left:\n",
    "        # avoid multiplying by oneself, or producing the same column twice\n",
    "        interact_right.remove(left)\n",
    "        for right in interact_right:\n",
    "            # create an interaction column by multiplying the numbers\n",
    "            if left != right:\n",
    "                result_df[str(left) + '_*_' + str(right)] = df[left] * df[right]\n",
    "    return result_df"
   ]
  },
  {
   "cell_type": "code",
   "execution_count": 66,
   "metadata": {},
   "outputs": [],
   "source": [
    "# restart from clean data\n",
    "covid_clean = pd.read_csv('data/covid_clean.csv')"
   ]
  },
  {
   "cell_type": "code",
   "execution_count": 67,
   "metadata": {},
   "outputs": [],
   "source": [
    "# downselect columns\n",
    "# not including 'cancer'\n",
    "columns = ['rate_w28','rate_w27','dose1_w28','hispanic','minority','female','unemployed', \n",
    "            'income','nodegree','bachelor','inactivity','obesity','density','votergap20']\n",
    "X = covid_clean.loc[:,columns]\n",
    "y = pd.DataFrame(covid_clean.loc[:,['rate_w29']])\n",
    "X = X.reindex()\n",
    "y = y.reindex()"
   ]
  },
  {
   "cell_type": "code",
   "execution_count": 68,
   "metadata": {},
   "outputs": [],
   "source": [
    "# split dataset in train and test\n",
    "X_train, X_test, y_train, y_test = train_test_split(X, y, test_size=0.2, random_state = 109)"
   ]
  },
  {
   "cell_type": "code",
   "execution_count": 69,
   "metadata": {},
   "outputs": [
    {
     "name": "stdout",
     "output_type": "stream",
     "text": [
      "X_train shape (2486, 14)\n",
      "X_train shape (622, 14)\n"
     ]
    }
   ],
   "source": [
    "# Note how the number of rows for X_train and X_test is different, but number of columns is identical\n",
    "print(\"X_train shape\", X_train.shape)\n",
    "print(\"X_train shape\", X_test.shape)"
   ]
  },
  {
   "cell_type": "code",
   "execution_count": 70,
   "metadata": {},
   "outputs": [
    {
     "name": "stdout",
     "output_type": "stream",
     "text": [
      "(2486, 42)\n",
      "(622, 42)\n"
     ]
    }
   ],
   "source": [
    "# add second and third polynomials\n",
    "X_train = add_poly_features(X_train, 3, columns)\n",
    "X_test = add_poly_features(X_test, 3, columns)\n",
    "# take a quick look at the dataset\n",
    "print(X_train.shape)\n",
    "print(X_test.shape)\n",
    "# X_train.describe()"
   ]
  },
  {
   "cell_type": "code",
   "execution_count": 71,
   "metadata": {},
   "outputs": [
    {
     "name": "stdout",
     "output_type": "stream",
     "text": [
      "(2486, 133)\n",
      "(622, 133)\n"
     ]
    }
   ],
   "source": [
    "# add interaction variables\n",
    "X_train = build_interaction(X_train, columns)\n",
    "X_test = build_interaction(X_test, columns)\n",
    "print(X_train.shape)\n",
    "print(X_test.shape)\n",
    "# X_train.describe()"
   ]
  },
  {
   "cell_type": "code",
   "execution_count": 72,
   "metadata": {},
   "outputs": [],
   "source": [
    "#standardizing the features materially reduces training time for lasso\n",
    "column_names = X_train.columns\n",
    "scale_transformer = MinMaxScaler(copy=True).fit(X_train)\n",
    "X_train = pd.DataFrame(scale_transformer.transform(X_train))\n",
    "X_test = pd.DataFrame(scale_transformer.transform(X_test))\n",
    "X_train.columns = column_names\n",
    "X_test.columns = column_names\n",
    "\n",
    "\n",
    "scale_transformer = MinMaxScaler(copy=True).fit(y_train)\n",
    "y_train = pd.DataFrame(scale_transformer.transform(y_train))\n",
    "y_test = pd.DataFrame(scale_transformer.transform(y_test))"
   ]
  },
  {
   "cell_type": "code",
   "execution_count": 73,
   "metadata": {},
   "outputs": [
    {
     "name": "stdout",
     "output_type": "stream",
     "text": [
      "(2486, 133)\n",
      "(622, 133)\n"
     ]
    }
   ],
   "source": [
    "# take a quick look at the standardized dataset\n",
    "# Note that, as expected, all features are scaled between 0 and 1\n",
    "print(X_train.shape)\n",
    "print(X_test.shape)\n",
    "# X_train.describe()"
   ]
  },
  {
   "cell_type": "code",
   "execution_count": 74,
   "metadata": {},
   "outputs": [],
   "source": [
    "# put y_train in the expected format\n",
    "y_train = y_train.values.ravel()"
   ]
  },
  {
   "cell_type": "code",
   "execution_count": 75,
   "metadata": {},
   "outputs": [],
   "source": [
    "# prepare out of time data\n",
    "covid_clean_w30 = covid_clean.copy()\n",
    "latest_week = 29\n",
    "features = []\n",
    "weeks = [26,27,28]\n",
    "week_dependent_features = ['cases','deaths', 'fully', 'dose1', 'rate']\n",
    "\n",
    "for week in weeks:\n",
    "    for column in week_dependent_features:\n",
    "        curr_feature = column + '_w' + str(week)\n",
    "        next_feature = column + '_w' + str(week + 1)\n",
    "        features.append(curr_feature)\n",
    "        covid_clean_w30[curr_feature] = covid_clean[next_feature].copy() #@devisch switched this to covide_clean from covid_clean_w30\n",
    "X_w30 = covid_clean_w30.loc[:,columns]\n",
    "y_w30 = pd.DataFrame(covid_clean_w30.loc[:,['rate_w30']])\n",
    "X_w30 = X_w30.reindex()\n",
    "y_w30 = y_w30.reindex()\n"
   ]
  },
  {
   "cell_type": "code",
   "execution_count": 76,
   "metadata": {},
   "outputs": [],
   "source": [
    "# w30 data prep\n",
    "# split dataset in train and test\n",
    "X_train_w30, X_test_w30, y_train_w30, y_test_w30 = train_test_split(X_w30, y_w30, test_size=0.2, random_state = 109)"
   ]
  },
  {
   "cell_type": "code",
   "execution_count": 77,
   "metadata": {},
   "outputs": [
    {
     "name": "stdout",
     "output_type": "stream",
     "text": [
      "(2486, 133)\n",
      "(622, 133)\n"
     ]
    }
   ],
   "source": [
    "# match the number and shape of predictors in w30 with the regular train dataset\n",
    "# add second and third polynomials\n",
    "X_train_w30 = add_poly_features(X_train_w30, 3, columns)\n",
    "X_test_w30 = add_poly_features(X_test_w30, 3, columns)\n",
    "\n",
    "# add interaction variables\n",
    "X_train_w30 = build_interaction(X_train_w30, columns)\n",
    "X_test_w30 = build_interaction(X_test_w30, columns)\n",
    "print(X_train_w30.shape)\n",
    "print(X_test_w30.shape)\n",
    "# X_train.describe()\n",
    "\n"
   ]
  },
  {
   "cell_type": "code",
   "execution_count": 78,
   "metadata": {},
   "outputs": [],
   "source": [
    "#standardizing the predictors \n",
    "column_names = X_train_w30.columns\n",
    "scale_transformer = MinMaxScaler(copy=True).fit(X_train_w30)\n",
    "X_train_w30 = pd.DataFrame(scale_transformer.transform(X_train_w30))\n",
    "X_test_w30 = pd.DataFrame(scale_transformer.transform(X_test_w30))\n",
    "X_train_w30.columns = column_names\n",
    "X_test_w30.columns = column_names\n",
    "\n",
    "#standardize the target\n",
    "scale_transformer = MinMaxScaler(copy=True).fit(y_train_w30)\n",
    "y_train_w30 = pd.DataFrame(scale_transformer.transform(y_train_w30))\n",
    "y_test_w30 = pd.DataFrame(scale_transformer.transform(y_test_w30))"
   ]
  },
  {
   "cell_type": "code",
   "execution_count": 79,
   "metadata": {},
   "outputs": [],
   "source": [
    "# X_train_w30.head()"
   ]
  },
  {
   "cell_type": "code",
   "execution_count": 80,
   "metadata": {},
   "outputs": [],
   "source": [
    "# get the locations for columns of interest (for later use)\n",
    "rate_w28_loc = X_train.columns.get_loc('rate_w28')\n",
    "rate_w27_loc = X_train.columns.get_loc('rate_w27')\n",
    "dose1_w28_loc = X_train.columns.get_loc('dose1_w28')\n",
    "votergap20_loc = X_train.columns.get_loc('votergap20')"
   ]
  },
  {
   "cell_type": "code",
   "execution_count": 81,
   "metadata": {},
   "outputs": [
    {
     "name": "stdout",
     "output_type": "stream",
     "text": [
      "1e-05\n",
      "0.0001\n",
      "0.001\n",
      "0.01\n",
      "0.1\n"
     ]
    }
   ],
   "source": [
    "# prepare to store the coefficients for later visualization\n",
    "rate_w28_coefs = []\n",
    "rate_w27_coefs = []\n",
    "dose1_w28_coefs = []\n",
    "votergap20_coefs = []\n",
    "\n",
    "# choose from a range of lambdas (lasso penalties)\n",
    "lambdas = [0.00001, 0.0001, 0.001, 0.01, 0.1]\n",
    "\n",
    "# initialize variables\n",
    "best_accuracy = -1\n",
    "best_model = None\n",
    "accuracies = []\n",
    "models = []\n",
    "\n",
    "# experiment with different lambdas\n",
    "for c in lambdas:\n",
    "    #@Devisch should we use cross validation instead?\n",
    "    covid_lasso = Lasso(alpha=c, max_iter=max(100000, 100*1/c), fit_intercept=True)\n",
    "    covid_lasso.fit(X_train, y_train)\n",
    "    y_hat_test = covid_lasso.predict(X_test)\n",
    "    cur_accuracy = r2_score(y_test.to_numpy(), y_hat_test)\n",
    "    print(c)\n",
    "    # adding accuracy to a list in case we want to show how accuracy changes with lambda\n",
    "    accuracies.append(cur_accuracy)\n",
    "    models.append(covid_lasso)\n",
    "\n",
    "    # track how specific coefficients change as a function of lambda\n",
    "    rate_w28_coefs.append(covid_lasso.coef_[rate_w28_loc])\n",
    "    rate_w27_coefs.append(covid_lasso.coef_[rate_w27_loc])\n",
    "    dose1_w28_coefs.append(covid_lasso.coef_[dose1_w28_loc])\n",
    "    votergap20_coefs.append(covid_lasso.coef_[votergap20_loc])\n",
    "    \n",
    "    # retain the best model\n",
    "    if cur_accuracy > best_accuracy:\n",
    "        best_accuracy = cur_accuracy\n",
    "        best_lasso_model = covid_lasso\n",
    "        best_lambda = c\n",
    "            \n",
    "        # train accuracy\n",
    "        y_train_pred = covid_lasso.predict(X_train) \n",
    "        best_train_score = r2_score(y_train, y_train_pred)"
   ]
  },
  {
   "cell_type": "code",
   "execution_count": 82,
   "metadata": {},
   "outputs": [
    {
     "data": {
      "text/plain": [
       "Text(0.5, 1.0, 'Test R squared')"
      ]
     },
     "execution_count": 82,
     "metadata": {},
     "output_type": "execute_result"
    },
    {
     "data": {
      "image/png": "[encoded data removed]",
      "text/plain": [
       "<Figure size 432x288 with 1 Axes>"
      ]
     },
     "metadata": {
      "needs_background": "light"
     },
     "output_type": "display_data"
    }
   ],
   "source": [
    "plt.plot(lambdas,accuracies)\n",
    "plt.xlabel(\"Lambda\")\n",
    "plt.ylabel(\"Test R squared\")\n",
    "plt.title(\"Test R squared\")"
   ]
  },
  {
   "cell_type": "code",
   "execution_count": 83,
   "metadata": {},
   "outputs": [
    {
     "name": "stdout",
     "output_type": "stream",
     "text": [
      "Best lambda is: 0.001\n",
      "Best test accuracy is: 0.5237934045455788\n"
     ]
    }
   ],
   "source": [
    "print(\"Best lambda is:\",best_lambda )\n",
    "print(\"Best test accuracy is:\",best_accuracy )"
   ]
  },
  {
   "cell_type": "markdown",
   "metadata": {},
   "source": [
    "**Comment:** Note how only small values of lambda produce a reasonable R squared score. Once the score reaches 1%, test score plummet. The penality is too high, and all coefficients become zero."
   ]
  },
  {
   "cell_type": "code",
   "execution_count": 84,
   "metadata": {},
   "outputs": [],
   "source": [
    "# prepare a dataframe with the coefficients\n",
    "coef_pd = pd.DataFrame(np.transpose([best_lasso_model.coef_]),\n",
    "            columns = [\"best_lasso_model_coeff\"], index=X_train.columns)"
   ]
  },
  {
   "cell_type": "code",
   "execution_count": 85,
   "metadata": {},
   "outputs": [
    {
     "name": "stdout",
     "output_type": "stream",
     "text": [
      "The number of NON-zero coefficients: 5\n",
      "The number of zero coefficients: 128\n"
     ]
    }
   ],
   "source": [
    "print(\"The number of NON-zero coefficients:\", coef_pd[:][coef_pd['best_lasso_model_coeff']!=0].shape[0])\n",
    "print(\"The number of zero coefficients:\", coef_pd[:][coef_pd['best_lasso_model_coeff']==0].shape[0])"
   ]
  },
  {
   "cell_type": "markdown",
   "metadata": {},
   "source": [
    "**Comment:** Note how only five coefficients are non-zero."
   ]
  },
  {
   "cell_type": "code",
   "execution_count": 86,
   "metadata": {},
   "outputs": [
    {
     "data": {
      "text/html": [
       "<div>\n",
       "<style scoped>\n",
       "    .dataframe tbody tr th:only-of-type {\n",
       "        vertical-align: middle;\n",
       "    }\n",
       "\n",
       "    .dataframe tbody tr th {\n",
       "        vertical-align: top;\n",
       "    }\n",
       "\n",
       "    .dataframe thead th {\n",
       "        text-align: right;\n",
       "    }\n",
       "</style>\n",
       "<table border=\"1\" class=\"dataframe\">\n",
       "  <thead>\n",
       "    <tr style=\"text-align: right;\">\n",
       "      <th></th>\n",
       "      <th>best_lasso_model_coeff</th>\n",
       "    </tr>\n",
       "  </thead>\n",
       "  <tbody>\n",
       "    <tr>\n",
       "      <td>inactivity</td>\n",
       "      <td>0.004939</td>\n",
       "    </tr>\n",
       "    <tr>\n",
       "      <td>rate_w28_*_bachelor</td>\n",
       "      <td>0.441355</td>\n",
       "    </tr>\n",
       "    <tr>\n",
       "      <td>rate_w27_*_unemployed</td>\n",
       "      <td>0.022043</td>\n",
       "    </tr>\n",
       "    <tr>\n",
       "      <td>rate_w27_*_inactivity</td>\n",
       "      <td>0.342558</td>\n",
       "    </tr>\n",
       "    <tr>\n",
       "      <td>nodegree_*_inactivity</td>\n",
       "      <td>0.010141</td>\n",
       "    </tr>\n",
       "  </tbody>\n",
       "</table>\n",
       "</div>"
      ],
      "text/plain": [
       "                       best_lasso_model_coeff\n",
       "inactivity                           0.004939\n",
       "rate_w28_*_bachelor                  0.441355\n",
       "rate_w27_*_unemployed                0.022043\n",
       "rate_w27_*_inactivity                0.342558\n",
       "nodegree_*_inactivity                0.010141"
      ]
     },
     "execution_count": 86,
     "metadata": {},
     "output_type": "execute_result"
    }
   ],
   "source": [
    "# print all the non-zero coefficients\n",
    "coef_pd[:][coef_pd['best_lasso_model_coeff']!=0]"
   ]
  },
  {
   "cell_type": "code",
   "execution_count": 87,
   "metadata": {},
   "outputs": [],
   "source": [
    "# w30 accuracy, based on train set as it is out of time and a larger sample\n",
    "y_hat_train_w30 = covid_lasso.predict(X_train_w30) \n",
    "score_best_lasso_w30 = r2_score(y_train_w30, y_hat_train_w30)"
   ]
  },
  {
   "cell_type": "code",
   "execution_count": 88,
   "metadata": {},
   "outputs": [],
   "source": [
    "# X_train.head()"
   ]
  },
  {
   "cell_type": "code",
   "execution_count": 89,
   "metadata": {},
   "outputs": [],
   "source": [
    "# X_train_w30.head()"
   ]
  },
  {
   "cell_type": "code",
   "execution_count": 90,
   "metadata": {},
   "outputs": [
    {
     "data": {
      "text/html": [
       "<style  type=\"text/css\" >\n",
       "</style><table id=\"T_0160a8f2_f52a_11eb_afa6_acde48001122\" ><thead>    <tr>        <th class=\"blank level0\" ></th>        <th class=\"col_heading level0 col0\" >training accuracy</th>        <th class=\"col_heading level0 col1\" >test accuracy</th>        <th class=\"col_heading level0 col2\" >w30 accuracy</th>    </tr></thead><tbody>\n",
       "                <tr>\n",
       "                        <th id=\"T_0160a8f2_f52a_11eb_afa6_acde48001122level0_row0\" class=\"row_heading level0 row0\" >OLS_from2.6</th>\n",
       "                        <td id=\"T_0160a8f2_f52a_11eb_afa6_acde48001122row0_col0\" class=\"data row0 col0\" >57.5%</td>\n",
       "                        <td id=\"T_0160a8f2_f52a_11eb_afa6_acde48001122row0_col1\" class=\"data row0 col1\" >49.7%</td>\n",
       "                        <td id=\"T_0160a8f2_f52a_11eb_afa6_acde48001122row0_col2\" class=\"data row0 col2\" >nan%</td>\n",
       "            </tr>\n",
       "            <tr>\n",
       "                        <th id=\"T_0160a8f2_f52a_11eb_afa6_acde48001122level0_row1\" class=\"row_heading level0 row1\" >Poly, interact and lasso</th>\n",
       "                        <td id=\"T_0160a8f2_f52a_11eb_afa6_acde48001122row1_col0\" class=\"data row1 col0\" >49.6%</td>\n",
       "                        <td id=\"T_0160a8f2_f52a_11eb_afa6_acde48001122row1_col1\" class=\"data row1 col1\" >52.4%</td>\n",
       "                        <td id=\"T_0160a8f2_f52a_11eb_afa6_acde48001122row1_col2\" class=\"data row1 col2\" >-14.1%</td>\n",
       "            </tr>\n",
       "    </tbody></table>"
      ],
      "text/plain": [
       "<pandas.io.formats.style.Styler at 0x7fbe2c629bd0>"
      ]
     },
     "execution_count": 90,
     "metadata": {},
     "output_type": "execute_result"
    }
   ],
   "source": [
    "# Add best tree to comparison table\n",
    "model_comparison_df.loc['Poly, interact and lasso','test accuracy'] = best_accuracy\n",
    "model_comparison_df.loc['Poly, interact and lasso','training accuracy'] = best_train_score\n",
    "model_comparison_df.loc['Poly, interact and lasso','w30 accuracy'] = score_best_lasso_w30\n",
    "# model_comparison_df.loc['Poly, interact and lasso','w30 accuracy'] = w30_accuracy\n",
    "\n",
    "# display the rates by model in percentage format\n",
    "model_comparison_df.style.format({\n",
    "    'training accuracy': '{:,.1%}'.format,\n",
    "    'test accuracy': '{:,.1%}'.format,    \n",
    "    'w30 accuracy': '{:,.1%}'.format,\n",
    "})"
   ]
  },
  {
   "cell_type": "markdown",
   "metadata": {},
   "source": [
    "**3.2** Plot the trajectory curves of the main effects `['rate_w28','rate_w27','fully_w28','votergap20']` from this model: the estimates of the $\\beta$ coefficients as a function of $\\lambda$.  Interpret what you notice.\n"
   ]
  },
  {
   "cell_type": "code",
   "execution_count": 91,
   "metadata": {},
   "outputs": [
    {
     "data": {
      "text/plain": [
       "<matplotlib.legend.Legend at 0x7fbe2c644790>"
      ]
     },
     "execution_count": 91,
     "metadata": {},
     "output_type": "execute_result"
    },
    {
     "data": {
      "image/png": "[encoded data removed]",
      "text/plain": [
       "<Figure size 432x288 with 1 Axes>"
      ]
     },
     "metadata": {
      "needs_background": "light"
     },
     "output_type": "display_data"
    }
   ],
   "source": [
    "plt.plot(np.log(lambdas), rate_w28_coefs, label=\"rate_w28\")\n",
    "plt.plot(np.log(lambdas), rate_w27_coefs, label=\"rate_w27\")\n",
    "plt.plot(np.log(lambdas), dose1_w28_coefs, label=\"dose1_w28\")\n",
    "plt.plot(np.log(lambdas), votergap20_coefs, label=\"votergap20\")\n",
    "plt.legend()"
   ]
  },
  {
   "cell_type": "markdown",
   "metadata": {},
   "source": [
    "**Comment:** Very small values of lambda add limited penalty to the coefficients. The smaller the value of lambda, the closer we get to OLS. For very small values of lambda, we can observe non-zero values for the coefficients. The coefficients are, however, zero for the best value for lambda."
   ]
  },
  {
   "cell_type": "markdown",
   "metadata": {},
   "source": [
    "**3.3** Fit a well-tuned random forest model to predict `rate_w29` from the predictors listed in 3.1.  Report your choice of the best tuning parameters and briefly justify your choice (a visual or table may be helpful for this).  Provide an estimate of out-of-sample $R^2$.  Note: do not go to crazy with the number of options for the parameters you are tuning...choose a set of values that are reasonable.\n"
   ]
  },
  {
   "cell_type": "code",
   "execution_count": 92,
   "metadata": {},
   "outputs": [],
   "source": [
    "# start random forest\n",
    "# restart from clean data\n",
    "covid_clean = pd.read_csv('data/covid_clean.csv')\n",
    "# downselecting columns\n",
    "# not including 'cancer'\n",
    "columns = ['rate_w28','rate_w27','dose1_w28','hispanic','minority','female','unemployed', \n",
    "            'income','nodegree','bachelor','inactivity','obesity','density','votergap20']\n",
    "X = covid_clean.loc[:,columns]\n",
    "y = pd.DataFrame(covid_clean.loc[:,['rate_w29']])\n",
    "# X_train = X_train.reindex()\n",
    "# y_train = y_train.reindex()\n",
    "\n",
    "# split dataset in train and test\n",
    "X_train, X_test, y_train, y_test = train_test_split(X, y, test_size=0.2, random_state = 109)\n",
    "\n",
    "y_train = y_train.values.ravel()\n",
    "y_test = y_test.values.ravel()"
   ]
  },
  {
   "cell_type": "code",
   "execution_count": 93,
   "metadata": {},
   "outputs": [],
   "source": [
    "# prepare out of time data\n",
    "covid_clean_w30 = covid_clean.copy()\n",
    "latest_week = 29\n",
    "features = []\n",
    "weeks = [26,27,28]\n",
    "week_dependent_features = ['cases','deaths', 'fully', 'dose1', 'rate']\n",
    "\n",
    "for week in weeks:\n",
    "    for column in week_dependent_features:\n",
    "        curr_feature = column + '_w' + str(week)\n",
    "        next_feature = column + '_w' + str(week + 1)\n",
    "        features.append(curr_feature)\n",
    "#         print(next_feature, \"in\", curr_feature)\n",
    "        covid_clean_w30[curr_feature] = covid_clean[next_feature].copy()\n",
    "\n",
    "X_w30 = covid_clean_w30.loc[:,columns]\n",
    "y_w30 = pd.DataFrame(covid_clean_w30.loc[:,['rate_w30']])\n",
    "X_w30 = X_w30.reindex()\n",
    "y_w30 = y_w30.reindex()"
   ]
  },
  {
   "cell_type": "code",
   "execution_count": 94,
   "metadata": {},
   "outputs": [],
   "source": [
    "# prepare a dataframe to represent rates for each model\n",
    "random_forest_comparison_df = pd.DataFrame(\n",
    "    columns=['training accuracy', 'test accuracy']\n",
    ")"
   ]
  },
  {
   "cell_type": "code",
   "execution_count": 95,
   "metadata": {},
   "outputs": [],
   "source": [
    "random_forest_train_score = -1\n",
    "random_forest_test_score = -1\n",
    "depth_option = 7\n",
    "tree_nr_options = [10,20,50,100]\n",
    "depth_options = [5, 10, 15]\n",
    "max_features_list = [2,5,10,len(X_train.columns)]\n",
    "row_number = 0\n",
    "\n",
    "# go through all the depth options we want to explore\n",
    "for depth_option in depth_options:\n",
    "    # go through all the options for nr of trees we want to explore\n",
    "    for ntrees in tree_nr_options:\n",
    "        # buld ntrees trees\n",
    "        for max_features in max_features_list:\n",
    "            estimators = []\n",
    "            R2s_train = []\n",
    "            R2s_test = []\n",
    "            y_hats_test = np.zeros((X_test.shape[0], ntrees))\n",
    "            randomtree = RandomForestRegressor(max_depth=depth_option, max_features = max_features)\n",
    "            # bootstap the training set\n",
    "            boot_x, boot_y = resample(X_train, y_train)\n",
    "            \n",
    "            # fit and test the model\n",
    "            estimators = np.append(estimators,randomtree.fit(boot_x, boot_y))\n",
    "            R2s_train = np.append(R2s_train,randomtree.score(X_train, y_train))\n",
    "            R2s_test = np.append(R2s_test,randomtree.score(X_test, y_test))\n",
    "            \n",
    "            # Add rates to dataframe for clear comparison \n",
    "            curr_tree_descr = str(ntrees) + ' bagged trees w/ depth ' + str(depth_option) + \" and max_features \" + str(max_features)\n",
    "            random_forest_comparison_df.loc[curr_tree_descr,'training accuracy'] = np.mean(R2s_train)\n",
    "            \n",
    "            # accuracy scores on test set\n",
    "            random_forest_comparison_df.loc[curr_tree_descr,'test accuracy'] = np.mean(R2s_test)\n",
    "            \n",
    "            row_number = row_number + 1\n",
    "            # retain the best scores\n",
    "            if np.mean(R2s_test) > random_forest_test_score:\n",
    "                random_forest_test_score = np.mean(R2s_test)\n",
    "                random_forest_train_score = np.mean(R2s_train)\n",
    "                best_tree_nr = ntrees\n",
    "                best_depth = depth_option\n",
    "                best_max_features = max_features\n",
    "                best_RF_model = randomtree\n",
    "                "
   ]
  },
  {
   "cell_type": "code",
   "execution_count": 96,
   "metadata": {},
   "outputs": [],
   "source": [
    "# w30 data prep\n",
    "# split dataset in train and test\n",
    "X_train_w30, X_test_w30, y_train_w30, y_test_w30 = train_test_split(X_w30, y_w30, test_size=0.2, random_state = 109)"
   ]
  },
  {
   "cell_type": "code",
   "execution_count": 97,
   "metadata": {},
   "outputs": [],
   "source": [
    "# w30 accuracy\n",
    "y_hat_train_w30 = best_RF_model.predict(X_train_w30) \n",
    "score_best_RF_w30 = r2_score(y_train_w30, y_hat_train_w30)"
   ]
  },
  {
   "cell_type": "code",
   "execution_count": 98,
   "metadata": {},
   "outputs": [
    {
     "data": {
      "text/html": [
       "<div>\n",
       "<style scoped>\n",
       "    .dataframe tbody tr th:only-of-type {\n",
       "        vertical-align: middle;\n",
       "    }\n",
       "\n",
       "    .dataframe tbody tr th {\n",
       "        vertical-align: top;\n",
       "    }\n",
       "\n",
       "    .dataframe thead th {\n",
       "        text-align: right;\n",
       "    }\n",
       "</style>\n",
       "<table border=\"1\" class=\"dataframe\">\n",
       "  <thead>\n",
       "    <tr style=\"text-align: right;\">\n",
       "      <th></th>\n",
       "      <th>training accuracy</th>\n",
       "      <th>test accuracy</th>\n",
       "    </tr>\n",
       "  </thead>\n",
       "  <tbody>\n",
       "    <tr>\n",
       "      <td>20 bagged trees w/ depth 5 and max_features 5</td>\n",
       "      <td>0.701752</td>\n",
       "      <td>0.644663</td>\n",
       "    </tr>\n",
       "    <tr>\n",
       "      <td>20 bagged trees w/ depth 10 and max_features 14</td>\n",
       "      <td>0.786151</td>\n",
       "      <td>0.633672</td>\n",
       "    </tr>\n",
       "    <tr>\n",
       "      <td>50 bagged trees w/ depth 5 and max_features 10</td>\n",
       "      <td>0.711704</td>\n",
       "      <td>0.630319</td>\n",
       "    </tr>\n",
       "    <tr>\n",
       "      <td>20 bagged trees w/ depth 15 and max_features 10</td>\n",
       "      <td>0.730924</td>\n",
       "      <td>0.628082</td>\n",
       "    </tr>\n",
       "    <tr>\n",
       "      <td>20 bagged trees w/ depth 10 and max_features 5</td>\n",
       "      <td>0.78553</td>\n",
       "      <td>0.62717</td>\n",
       "    </tr>\n",
       "  </tbody>\n",
       "</table>\n",
       "</div>"
      ],
      "text/plain": [
       "                                                training accuracy  \\\n",
       "20 bagged trees w/ depth 5 and max_features 5            0.701752   \n",
       "20 bagged trees w/ depth 10 and max_features 14          0.786151   \n",
       "50 bagged trees w/ depth 5 and max_features 10           0.711704   \n",
       "20 bagged trees w/ depth 15 and max_features 10          0.730924   \n",
       "20 bagged trees w/ depth 10 and max_features 5            0.78553   \n",
       "\n",
       "                                                test accuracy  \n",
       "20 bagged trees w/ depth 5 and max_features 5        0.644663  \n",
       "20 bagged trees w/ depth 10 and max_features 14      0.633672  \n",
       "50 bagged trees w/ depth 5 and max_features 10       0.630319  \n",
       "20 bagged trees w/ depth 15 and max_features 10      0.628082  \n",
       "20 bagged trees w/ depth 10 and max_features 5        0.62717  "
      ]
     },
     "execution_count": 98,
     "metadata": {},
     "output_type": "execute_result"
    }
   ],
   "source": [
    "# Print out the best test scores\n",
    "random_forest_comparison_df.sort_values('test accuracy', ascending=False).head()"
   ]
  },
  {
   "cell_type": "markdown",
   "metadata": {},
   "source": [
    "**Comment:** We're choosing the model with the best test accuracy:"
   ]
  },
  {
   "cell_type": "code",
   "execution_count": 99,
   "metadata": {},
   "outputs": [
    {
     "name": "stdout",
     "output_type": "stream",
     "text": [
      "The best tree number is: 20\n",
      "The best tree depth is: 5\n",
      "The best max_features is: 5\n"
     ]
    }
   ],
   "source": [
    "print(\"The best tree number is:\", best_tree_nr)\n",
    "print(\"The best tree depth is:\", best_depth)\n",
    "print(\"The best max_features is:\", best_max_features)"
   ]
  },
  {
   "cell_type": "code",
   "execution_count": 100,
   "metadata": {},
   "outputs": [
    {
     "data": {
      "text/html": [
       "<style  type=\"text/css\" >\n",
       "</style><table id=\"T_02fad462_f52a_11eb_afa6_acde48001122\" ><thead>    <tr>        <th class=\"blank level0\" ></th>        <th class=\"col_heading level0 col0\" >training accuracy</th>        <th class=\"col_heading level0 col1\" >test accuracy</th>        <th class=\"col_heading level0 col2\" >w30 accuracy</th>    </tr></thead><tbody>\n",
       "                <tr>\n",
       "                        <th id=\"T_02fad462_f52a_11eb_afa6_acde48001122level0_row0\" class=\"row_heading level0 row0\" >OLS_from2.6</th>\n",
       "                        <td id=\"T_02fad462_f52a_11eb_afa6_acde48001122row0_col0\" class=\"data row0 col0\" >57.5%</td>\n",
       "                        <td id=\"T_02fad462_f52a_11eb_afa6_acde48001122row0_col1\" class=\"data row0 col1\" >49.7%</td>\n",
       "                        <td id=\"T_02fad462_f52a_11eb_afa6_acde48001122row0_col2\" class=\"data row0 col2\" >nan%</td>\n",
       "            </tr>\n",
       "            <tr>\n",
       "                        <th id=\"T_02fad462_f52a_11eb_afa6_acde48001122level0_row1\" class=\"row_heading level0 row1\" >Poly, interact and lasso</th>\n",
       "                        <td id=\"T_02fad462_f52a_11eb_afa6_acde48001122row1_col0\" class=\"data row1 col0\" >49.6%</td>\n",
       "                        <td id=\"T_02fad462_f52a_11eb_afa6_acde48001122row1_col1\" class=\"data row1 col1\" >52.4%</td>\n",
       "                        <td id=\"T_02fad462_f52a_11eb_afa6_acde48001122row1_col2\" class=\"data row1 col2\" >-14.1%</td>\n",
       "            </tr>\n",
       "            <tr>\n",
       "                        <th id=\"T_02fad462_f52a_11eb_afa6_acde48001122level0_row2\" class=\"row_heading level0 row2\" >Random forest</th>\n",
       "                        <td id=\"T_02fad462_f52a_11eb_afa6_acde48001122row2_col0\" class=\"data row2 col0\" >70.2%</td>\n",
       "                        <td id=\"T_02fad462_f52a_11eb_afa6_acde48001122row2_col1\" class=\"data row2 col1\" >64.5%</td>\n",
       "                        <td id=\"T_02fad462_f52a_11eb_afa6_acde48001122row2_col2\" class=\"data row2 col2\" >63.6%</td>\n",
       "            </tr>\n",
       "    </tbody></table>"
      ],
      "text/plain": [
       "<pandas.io.formats.style.Styler at 0x7fbe2c649250>"
      ]
     },
     "execution_count": 100,
     "metadata": {},
     "output_type": "execute_result"
    }
   ],
   "source": [
    "# Add best tree to comparison table\n",
    "model_comparison_df.loc['Random forest','training accuracy'] = random_forest_train_score\n",
    "model_comparison_df.loc['Random forest','test accuracy'] = random_forest_test_score\n",
    "model_comparison_df.loc['Random forest','w30 accuracy'] = score_best_RF_w30\n",
    "\n",
    "\n",
    "# display the rates by model in percentage format\n",
    "model_comparison_df.style.format({\n",
    "    'training accuracy': '{:,.1%}'.format,\n",
    "    'test accuracy': '{:,.1%}'.format,\n",
    "    'w30 accuracy': '{:,.1%}'.format,\n",
    "})"
   ]
  },
  {
   "cell_type": "markdown",
   "metadata": {},
   "source": [
    "**3.4** Interpret the relationship between `rate_w29` and `dose1_w28` from the random forest model in 3.3.  Is there any evidence of interactive effects in this model involving `dose1_w28`?  How do you know?  Provide a reasonable visual (or a few visuals) to help you with these tasks and interpret what you see. \n",
    "\n"
   ]
  },
  {
   "cell_type": "code",
   "execution_count": 101,
   "metadata": {},
   "outputs": [],
   "source": [
    "# Create the data frame of means to do the prediction\n",
    "means1 = X_train.mean(axis = 0)\n",
    "means_df = (means1.to_frame()).transpose()\n",
    "\n",
    "# Do the prediction at all observed dose1_w28\n",
    "doses = np.arange(np.min(X_train['dose1_w28']),np.max(X_train['dose1_w28']))\n",
    "means_df  = pd.concat([means_df]*doses.size,ignore_index=True)\n",
    "means_df['dose1_w28'] = doses"
   ]
  },
  {
   "cell_type": "code",
   "execution_count": 102,
   "metadata": {},
   "outputs": [
    {
     "data": {
      "text/html": [
       "<div>\n",
       "<style scoped>\n",
       "    .dataframe tbody tr th:only-of-type {\n",
       "        vertical-align: middle;\n",
       "    }\n",
       "\n",
       "    .dataframe tbody tr th {\n",
       "        vertical-align: top;\n",
       "    }\n",
       "\n",
       "    .dataframe thead th {\n",
       "        text-align: right;\n",
       "    }\n",
       "</style>\n",
       "<table border=\"1\" class=\"dataframe\">\n",
       "  <thead>\n",
       "    <tr style=\"text-align: right;\">\n",
       "      <th></th>\n",
       "      <th>rate_w28</th>\n",
       "      <th>rate_w27</th>\n",
       "      <th>dose1_w28</th>\n",
       "      <th>hispanic</th>\n",
       "      <th>minority</th>\n",
       "      <th>female</th>\n",
       "      <th>unemployed</th>\n",
       "      <th>income</th>\n",
       "      <th>nodegree</th>\n",
       "      <th>bachelor</th>\n",
       "      <th>inactivity</th>\n",
       "      <th>obesity</th>\n",
       "      <th>density</th>\n",
       "      <th>votergap20</th>\n",
       "    </tr>\n",
       "  </thead>\n",
       "  <tbody>\n",
       "    <tr>\n",
       "      <td>0</td>\n",
       "      <td>0.000464</td>\n",
       "      <td>0.000342</td>\n",
       "      <td>33.28745</td>\n",
       "      <td>9.090958</td>\n",
       "      <td>15.154235</td>\n",
       "      <td>49.933473</td>\n",
       "      <td>5.496862</td>\n",
       "      <td>47.022739</td>\n",
       "      <td>15.083186</td>\n",
       "      <td>20.084071</td>\n",
       "      <td>26.004666</td>\n",
       "      <td>31.086806</td>\n",
       "      <td>249.27498</td>\n",
       "      <td>-31.350442</td>\n",
       "    </tr>\n",
       "  </tbody>\n",
       "</table>\n",
       "</div>"
      ],
      "text/plain": [
       "   rate_w28  rate_w27  dose1_w28  hispanic   minority     female  unemployed  \\\n",
       "0  0.000464  0.000342   33.28745  9.090958  15.154235  49.933473    5.496862   \n",
       "\n",
       "      income   nodegree   bachelor  inactivity    obesity    density  \\\n",
       "0  47.022739  15.083186  20.084071   26.004666  31.086806  249.27498   \n",
       "\n",
       "   votergap20  \n",
       "0  -31.350442  "
      ]
     },
     "execution_count": 102,
     "metadata": {},
     "output_type": "execute_result"
    }
   ],
   "source": [
    "means1.to_frame().transpose()"
   ]
  },
  {
   "cell_type": "code",
   "execution_count": 103,
   "metadata": {},
   "outputs": [
    {
     "data": {
      "text/plain": [
       "Text(0, 0.5, 'Rate_w29')"
      ]
     },
     "execution_count": 103,
     "metadata": {},
     "output_type": "execute_result"
    },
    {
     "data": {
      "image/png": "[encoded data removed]",
      "text/plain": [
       "<Figure size 432x288 with 1 Axes>"
      ]
     },
     "metadata": {
      "needs_background": "light"
     },
     "output_type": "display_data"
    }
   ],
   "source": [
    "#plots at means\n",
    "yhat_rf = best_RF_model.predict(means_df)\n",
    "plt.scatter(X_train['dose1_w28'],y_train)\n",
    "plt.plot(means_df['dose1_w28'],yhat_rf,color=\"red\")\n",
    "plt.title(\"Predicted rate_w29 vs. dose1_w28 from RF in train\")\n",
    "plt.xlabel(\"Dose1_w28\")\n",
    "plt.ylabel(\"Rate_w29\")"
   ]
  },
  {
   "cell_type": "code",
   "execution_count": 104,
   "metadata": {},
   "outputs": [
    {
     "data": {
      "image/png": "[encoded data removed]",
      "text/plain": [
       "<Figure size 432x288 with 1 Axes>"
      ]
     },
     "metadata": {
      "needs_background": "light"
     },
     "output_type": "display_data"
    }
   ],
   "source": [
    "#Plots for all observations.  And then averaged\n",
    "yhat_rfs = []\n",
    "for i in range(0,X_train.shape[0]):\n",
    "    obs = X_train.iloc[i,:].to_frame().transpose()\n",
    "    obs_df  = pd.concat([obs]*doses.size,ignore_index=True)\n",
    "    obs_df['dose1_w28'] = doses\n",
    "    yhat_rf = best_RF_model.predict(obs_df)\n",
    "    yhat_rfs.append(yhat_rf)\n",
    "    plt.plot(obs_df['dose1_w28'],yhat_rf,color='blue',alpha=0.05)\n",
    "\n",
    "plt.plot(obs_df['dose1_w28'],np.mean(yhat_rfs, axis=0),color='red',linewidth=2);\n",
    "    \n",
    "# plt.ylim(0,1)\n",
    "plt.xlabel(\"One vaccination received rate in week 28\")\n",
    "plt.ylabel(\"Case rate change week 29\")\n",
    "plt.title(\"Predicted rate_w29 vs. dose1_28 from RF in train for all observations\");"
   ]
  },
  {
   "cell_type": "markdown",
   "metadata": {},
   "source": [
    "**Comment:** We can observe that in the randomforest model dose1_w28 does not have much of an effect on predicted values: the red (average) line is flat. We also plotted the full range of dose1_w28 for each observation in the training set. We can observe that the graph shape for dose1_w28 varies only marginally between the observations. We can therefore conclude that limited interaction effects exist between dose1_w28 and other predictors."
   ]
  },
  {
   "cell_type": "markdown",
   "metadata": {},
   "source": [
    "**3.5** Fit a well-tuned boosting model to predict `rate_w29` from the predictors listed in 3.1.  Report your best choice of the tuning parameters and briefly justify your choice (a visual or table may be helpful for this).  Provide an estimate of out-of-sample $R^2$.  Note: again, do not go to crazy with the number of options for the parameters you are tuning...choose a set of values that are reasonable.\n",
    "\n"
   ]
  },
  {
   "cell_type": "code",
   "execution_count": 105,
   "metadata": {},
   "outputs": [],
   "source": [
    "boosts = []\n",
    "boostfts = []\n",
    "depths = [1, 2, 3, 4,5,6,7]\n",
    "# build boost models with base estimators of different depths\n",
    "for base_depth in depths:\n",
    "    boost = AdaBoostRegressor( base_estimator = DecisionTreeRegressor(max_depth = base_depth),\n",
    "                              n_estimators=100)\n",
    "    boosts.append(boost)\n",
    "\n",
    "\n",
    "    # Fit on the entire data\n",
    "    boostfit = boost.fit(X_train,y_train)\n",
    "    boostfts.append(boostfit)"
   ]
  },
  {
   "cell_type": "code",
   "execution_count": 106,
   "metadata": {},
   "outputs": [
    {
     "data": {
      "text/plain": [
       "<matplotlib.legend.Legend at 0x7fbe126dcb90>"
      ]
     },
     "execution_count": 106,
     "metadata": {},
     "output_type": "execute_result"
    },
    {
     "data": {
      "image/png": "[encoded data removed]",
      "text/plain": [
       "<Figure size 1440x720 with 1 Axes>"
      ]
     },
     "metadata": {
      "needs_background": "light"
     },
     "output_type": "display_data"
    }
   ],
   "source": [
    "# plot accuracy by estimator for different base depths\n",
    "plt.rcParams[\"figure.figsize\"] = (20,10)\n",
    "for base_depth in depths:\n",
    "    plt.plot(list(boosts[base_depth -1].staged_score(X_test,y_test)),\n",
    "             label=\"Test accuracy, depth \" + str(base_depth), color = \"green\", alpha = base_depth/8)\n",
    "    plt.plot(list(boosts[base_depth -1].staged_score(X_train,y_train)),\n",
    "             label=\"Train accuracy, depth \" + str(base_depth), color = \"red\", alpha = base_depth/8)\n",
    "    plt.xlabel(\"Iteration\")\n",
    "plt.ylabel(\"Accuracy\")\n",
    "plt.title(\"Accuracy as a function of iterations\")\n",
    "plt.legend()"
   ]
  },
  {
   "cell_type": "code",
   "execution_count": 107,
   "metadata": {},
   "outputs": [
    {
     "name": "stdout",
     "output_type": "stream",
     "text": [
      "The iteration with the best accuracy is: 3\n"
     ]
    }
   ],
   "source": [
    "# we've visually assessed initial depth equal to three to be the best option\n",
    "best_depth = 3\n",
    "best_boost = boosts[best_depth -1]\n",
    "train_list = list(best_boost.staged_score(X_train,y_train))\n",
    "test_list = list(best_boost.staged_score(X_test,y_test))\n",
    "\n",
    "# assess which iteration is best\n",
    "index_best_accuracy = test_list.index(max(test_list))\n",
    "print(\"The iteration with the best accuracy is:\", index_best_accuracy)"
   ]
  },
  {
   "cell_type": "code",
   "execution_count": 108,
   "metadata": {},
   "outputs": [],
   "source": [
    "# w30 accuracy\n",
    "w30_list = list(best_boost.staged_score(X_train_w30,y_train_w30))"
   ]
  },
  {
   "cell_type": "code",
   "execution_count": 109,
   "metadata": {},
   "outputs": [
    {
     "data": {
      "text/html": [
       "<style  type=\"text/css\" >\n",
       "</style><table id=\"T_17332eac_f52a_11eb_afa6_acde48001122\" ><thead>    <tr>        <th class=\"blank level0\" ></th>        <th class=\"col_heading level0 col0\" >training accuracy</th>        <th class=\"col_heading level0 col1\" >test accuracy</th>        <th class=\"col_heading level0 col2\" >w30 accuracy</th>    </tr></thead><tbody>\n",
       "                <tr>\n",
       "                        <th id=\"T_17332eac_f52a_11eb_afa6_acde48001122level0_row0\" class=\"row_heading level0 row0\" >OLS_from2.6</th>\n",
       "                        <td id=\"T_17332eac_f52a_11eb_afa6_acde48001122row0_col0\" class=\"data row0 col0\" >57.5%</td>\n",
       "                        <td id=\"T_17332eac_f52a_11eb_afa6_acde48001122row0_col1\" class=\"data row0 col1\" >49.7%</td>\n",
       "                        <td id=\"T_17332eac_f52a_11eb_afa6_acde48001122row0_col2\" class=\"data row0 col2\" >nan%</td>\n",
       "            </tr>\n",
       "            <tr>\n",
       "                        <th id=\"T_17332eac_f52a_11eb_afa6_acde48001122level0_row1\" class=\"row_heading level0 row1\" >Poly, interact and lasso</th>\n",
       "                        <td id=\"T_17332eac_f52a_11eb_afa6_acde48001122row1_col0\" class=\"data row1 col0\" >49.6%</td>\n",
       "                        <td id=\"T_17332eac_f52a_11eb_afa6_acde48001122row1_col1\" class=\"data row1 col1\" >52.4%</td>\n",
       "                        <td id=\"T_17332eac_f52a_11eb_afa6_acde48001122row1_col2\" class=\"data row1 col2\" >-14.1%</td>\n",
       "            </tr>\n",
       "            <tr>\n",
       "                        <th id=\"T_17332eac_f52a_11eb_afa6_acde48001122level0_row2\" class=\"row_heading level0 row2\" >Random forest</th>\n",
       "                        <td id=\"T_17332eac_f52a_11eb_afa6_acde48001122row2_col0\" class=\"data row2 col0\" >70.2%</td>\n",
       "                        <td id=\"T_17332eac_f52a_11eb_afa6_acde48001122row2_col1\" class=\"data row2 col1\" >64.5%</td>\n",
       "                        <td id=\"T_17332eac_f52a_11eb_afa6_acde48001122row2_col2\" class=\"data row2 col2\" >63.6%</td>\n",
       "            </tr>\n",
       "            <tr>\n",
       "                        <th id=\"T_17332eac_f52a_11eb_afa6_acde48001122level0_row3\" class=\"row_heading level0 row3\" >Adaboost</th>\n",
       "                        <td id=\"T_17332eac_f52a_11eb_afa6_acde48001122row3_col0\" class=\"data row3 col0\" >64.3%</td>\n",
       "                        <td id=\"T_17332eac_f52a_11eb_afa6_acde48001122row3_col1\" class=\"data row3 col1\" >61.9%</td>\n",
       "                        <td id=\"T_17332eac_f52a_11eb_afa6_acde48001122row3_col2\" class=\"data row3 col2\" >65.1%</td>\n",
       "            </tr>\n",
       "    </tbody></table>"
      ],
      "text/plain": [
       "<pandas.io.formats.style.Styler at 0x7fbe13086c90>"
      ]
     },
     "execution_count": 109,
     "metadata": {},
     "output_type": "execute_result"
    }
   ],
   "source": [
    "# Add best tree to comparison table\n",
    "model_comparison_df.loc['Adaboost','training accuracy'] = train_list[index_best_accuracy]\n",
    "model_comparison_df.loc['Adaboost','test accuracy'] = test_list[index_best_accuracy]\n",
    "model_comparison_df.loc['Adaboost','w30 accuracy'] = w30_list[index_best_accuracy]\n",
    "\n",
    "# display the rates by model in percentage format\n",
    "model_comparison_df.style.format({\n",
    "    'training accuracy': '{:,.1%}'.format,\n",
    "    'test accuracy': '{:,.1%}'.format,\n",
    "        'w30 accuracy': '{:,.1%}'.format,\n",
    "})"
   ]
  },
  {
   "cell_type": "markdown",
   "metadata": {},
   "source": [
    "**Comment:** The best adaboost model seems to be a smiple one with initial depth equal to three. As we increase the initial depth more, the model becomes overfit: test scores do not improve, but train scores do. We also note that the best model has very few iterations. This indicates we lack important variables: with the data availalble, the model cannot improve."
   ]
  },
  {
   "cell_type": "code",
   "execution_count": 110,
   "metadata": {},
   "outputs": [
    {
     "data": {
      "text/html": [
       "<style  type=\"text/css\" >\n",
       "</style><table id=\"T_1734e986_f52a_11eb_afa6_acde48001122\" ><thead>    <tr>        <th class=\"blank level0\" ></th>        <th class=\"col_heading level0 col0\" >training accuracy</th>        <th class=\"col_heading level0 col1\" >test accuracy</th>        <th class=\"col_heading level0 col2\" >w30 accuracy</th>    </tr></thead><tbody>\n",
       "                <tr>\n",
       "                        <th id=\"T_1734e986_f52a_11eb_afa6_acde48001122level0_row0\" class=\"row_heading level0 row0\" >OLS_from2.6</th>\n",
       "                        <td id=\"T_1734e986_f52a_11eb_afa6_acde48001122row0_col0\" class=\"data row0 col0\" >57.5%</td>\n",
       "                        <td id=\"T_1734e986_f52a_11eb_afa6_acde48001122row0_col1\" class=\"data row0 col1\" >49.7%</td>\n",
       "                        <td id=\"T_1734e986_f52a_11eb_afa6_acde48001122row0_col2\" class=\"data row0 col2\" >nan%</td>\n",
       "            </tr>\n",
       "            <tr>\n",
       "                        <th id=\"T_1734e986_f52a_11eb_afa6_acde48001122level0_row1\" class=\"row_heading level0 row1\" >Poly, interact and lasso</th>\n",
       "                        <td id=\"T_1734e986_f52a_11eb_afa6_acde48001122row1_col0\" class=\"data row1 col0\" >49.6%</td>\n",
       "                        <td id=\"T_1734e986_f52a_11eb_afa6_acde48001122row1_col1\" class=\"data row1 col1\" >52.4%</td>\n",
       "                        <td id=\"T_1734e986_f52a_11eb_afa6_acde48001122row1_col2\" class=\"data row1 col2\" >-14.1%</td>\n",
       "            </tr>\n",
       "            <tr>\n",
       "                        <th id=\"T_1734e986_f52a_11eb_afa6_acde48001122level0_row2\" class=\"row_heading level0 row2\" >Random forest</th>\n",
       "                        <td id=\"T_1734e986_f52a_11eb_afa6_acde48001122row2_col0\" class=\"data row2 col0\" >70.2%</td>\n",
       "                        <td id=\"T_1734e986_f52a_11eb_afa6_acde48001122row2_col1\" class=\"data row2 col1\" >64.5%</td>\n",
       "                        <td id=\"T_1734e986_f52a_11eb_afa6_acde48001122row2_col2\" class=\"data row2 col2\" >63.6%</td>\n",
       "            </tr>\n",
       "            <tr>\n",
       "                        <th id=\"T_1734e986_f52a_11eb_afa6_acde48001122level0_row3\" class=\"row_heading level0 row3\" >Adaboost</th>\n",
       "                        <td id=\"T_1734e986_f52a_11eb_afa6_acde48001122row3_col0\" class=\"data row3 col0\" >64.3%</td>\n",
       "                        <td id=\"T_1734e986_f52a_11eb_afa6_acde48001122row3_col1\" class=\"data row3 col1\" >61.9%</td>\n",
       "                        <td id=\"T_1734e986_f52a_11eb_afa6_acde48001122row3_col2\" class=\"data row3 col2\" >65.1%</td>\n",
       "            </tr>\n",
       "    </tbody></table>"
      ],
      "text/plain": [
       "<pandas.io.formats.style.Styler at 0x7fbe130c09d0>"
      ]
     },
     "execution_count": 110,
     "metadata": {},
     "output_type": "execute_result"
    }
   ],
   "source": [
    "# Add best tree to comparison table\n",
    "model_comparison_df.loc['Adaboost','training accuracy'] = train_list[index_best_accuracy]\n",
    "model_comparison_df.loc['Adaboost','test accuracy'] = test_list[index_best_accuracy]\n",
    "\n",
    "# display the rates by model in percentage format\n",
    "model_comparison_df.style.format({\n",
    "    'training accuracy': '{:,.1%}'.format,\n",
    "    'test accuracy': '{:,.1%}'.format,\n",
    "    'w30 accuracy': '{:,.1%}'.format,\n",
    "})"
   ]
  },
  {
   "cell_type": "markdown",
   "metadata": {},
   "source": [
    "**3.6** Improve upon your favorite/best predictive model from 3.1, 3.3, or 3.5, by including other provided feature, by doing feature engineering, or by doing variable removal/selection.  Explain your choices.  Provide an estimate of out-of-sample $R^2$. \n",
    "\n"
   ]
  },
  {
   "cell_type": "markdown",
   "metadata": {},
   "source": [
    "**Comment:** We'll proceed with the random forest as it is the simplest model to manage interactions.This is particularly useful to deal with the out of time test dataset.\n",
    "We're adding all features to the dataset. We'll, in particular, add features associated with patterns we notice before: (one hot encoded) states. "
   ]
  },
  {
   "cell_type": "code",
   "execution_count": 111,
   "metadata": {},
   "outputs": [],
   "source": [
    "# restart from clean data\n",
    "covid_clean = pd.read_csv('data/covid_clean.csv')"
   ]
  },
  {
   "cell_type": "code",
   "execution_count": 112,
   "metadata": {},
   "outputs": [
    {
     "name": "stdout",
     "output_type": "stream",
     "text": [
      "Number of rows removed by cleaning up non-numeric values: 2\n"
     ]
    }
   ],
   "source": [
    "# notice we didn't exclude states\n",
    "covid_clean = covid_clean.drop(['date','county', 'fips'],axis=1) \n",
    "\n",
    "# cleaning out a couple of records with non-numeric values in votergap16\n",
    "orig_nr_rows = covid_clean.shape[0]\n",
    "covid_clean = covid_clean.loc[:,:][covid_clean['votergap16']!='#VALUE!']\n",
    "print(\"Number of rows removed by cleaning up non-numeric values:\", orig_nr_rows - covid_clean.shape[0])\n",
    "\n",
    "#convert votergap16 to dtype float\n",
    "covid_clean['votergap16'] = covid_clean['votergap16'].astype(float)"
   ]
  },
  {
   "cell_type": "code",
   "execution_count": 113,
   "metadata": {},
   "outputs": [],
   "source": [
    "# one hot encoding states\n",
    "enc = OneHotEncoder(handle_unknown='ignore')\n",
    "enc_fit = enc.fit_transform(covid_clean[['state']])\n",
    "\n",
    "# capturing the state names\n",
    "column_names = enc.get_feature_names(['state'])\n",
    "enc_df = pd.DataFrame(enc_fit.todense(), columns=column_names)\n",
    "\n",
    "# merge with main df bridge_df on key values\n",
    "covid_clean = covid_clean.join(enc_df)\n",
    "covid_clean = covid_clean.drop(['state'], axis=1)\n"
   ]
  },
  {
   "cell_type": "code",
   "execution_count": 114,
   "metadata": {},
   "outputs": [],
   "source": [
    "# dropping a couple of NaN states \n",
    "covid_clean = covid_clean.dropna()"
   ]
  },
  {
   "cell_type": "code",
   "execution_count": 115,
   "metadata": {},
   "outputs": [],
   "source": [
    "# prepare out of time data\n",
    "covid_clean_w30 = covid_clean.copy()\n",
    "latest_week = 29\n",
    "features = []\n",
    "weeks = [27,28]\n",
    "week_dependent_features = ['cases','deaths', 'fully', 'dose1', 'rate']\n",
    "\n",
    "for week in weeks:\n",
    "    for column in week_dependent_features:\n",
    "        curr_feature = column + '_w' + str(week)\n",
    "        next_feature = column + '_w' + str(week + 1)\n",
    "        features.append(curr_feature)\n",
    "        # plug the value of the previous week into the current week\n",
    "        covid_clean_w30[curr_feature] = covid_clean_w30[next_feature]\n",
    "\n",
    "y_w30 = pd.DataFrame(covid_clean_w30.loc[:,['rate_w30']])\n",
    "# drop w29 as that's now plugged into w28\n",
    "X_w30 = covid_clean_w30.drop(['cases_w29','deaths_w29', 'fully_w29', 'dose1_w29'],axis=1)\n",
    "# Drop future data\n",
    "X_w30 = X_w30.drop(['cases_w30','deaths_w30', 'fully_w30', 'dose1_w30', 'rate_w30', 'rate_w29'],axis=1)\n",
    "X_w30 = X_w30.reindex()\n",
    "y_w30 = y_w30.reindex()\n"
   ]
  },
  {
   "cell_type": "code",
   "execution_count": 116,
   "metadata": {},
   "outputs": [],
   "source": [
    "# w30 data prep\n",
    "# split dataset in train and test\n",
    "X_train_w30, X_test_w30, y_train_w30, y_test_w30 = train_test_split(X_w30, y_w30, test_size=0.2, random_state = 109)"
   ]
  },
  {
   "cell_type": "code",
   "execution_count": 117,
   "metadata": {},
   "outputs": [],
   "source": [
    "# split predictor and target dataset\n",
    "y = pd.DataFrame(covid_clean.loc[:,['rate_w29']])\n",
    "X = covid_clean.drop(['rate_w29'], axis=1)"
   ]
  },
  {
   "cell_type": "code",
   "execution_count": 118,
   "metadata": {},
   "outputs": [],
   "source": [
    "# removing the data from week 29 and week 30 as this wouldn't be known at prediction time\n",
    "X = X.drop(['cases_w29','deaths_w29', 'fully_w29', 'dose1_w29'],axis=1)\n",
    "X = X.drop(['cases_w30','deaths_w30', 'fully_w30', 'dose1_w30', 'rate_w30'],axis=1)"
   ]
  },
  {
   "cell_type": "code",
   "execution_count": 119,
   "metadata": {},
   "outputs": [],
   "source": [
    "# split dataset in train and test\n",
    "X_train, X_test, y_train, y_test = train_test_split(X, y, test_size=0.2, random_state = 109)\n",
    "\n",
    "y_train = y_train.values.ravel()\n",
    "y_test = y_test.values.ravel()"
   ]
  },
  {
   "cell_type": "code",
   "execution_count": 120,
   "metadata": {},
   "outputs": [],
   "source": [
    "# prepare a dataframe to represent rates for each model\n",
    "random_forest_comparison_df = pd.DataFrame(\n",
    "    columns=['training accuracy', 'test accuracy']\n",
    ")"
   ]
  },
  {
   "cell_type": "code",
   "execution_count": 121,
   "metadata": {},
   "outputs": [
    {
     "data": {
      "text/html": [
       "<div>\n",
       "<style scoped>\n",
       "    .dataframe tbody tr th:only-of-type {\n",
       "        vertical-align: middle;\n",
       "    }\n",
       "\n",
       "    .dataframe tbody tr th {\n",
       "        vertical-align: top;\n",
       "    }\n",
       "\n",
       "    .dataframe thead th {\n",
       "        text-align: right;\n",
       "    }\n",
       "</style>\n",
       "<table border=\"1\" class=\"dataframe\">\n",
       "  <thead>\n",
       "    <tr style=\"text-align: right;\">\n",
       "      <th></th>\n",
       "      <th>training accuracy</th>\n",
       "      <th>test accuracy</th>\n",
       "    </tr>\n",
       "  </thead>\n",
       "  <tbody>\n",
       "    <tr>\n",
       "      <td>10 bagged trees w/ depth 10 and max_features 82</td>\n",
       "      <td>0.738753</td>\n",
       "      <td>0.644811</td>\n",
       "    </tr>\n",
       "    <tr>\n",
       "      <td>20 bagged trees w/ depth 15 and max_features 82</td>\n",
       "      <td>0.788749</td>\n",
       "      <td>0.642468</td>\n",
       "    </tr>\n",
       "    <tr>\n",
       "      <td>100 bagged trees w/ depth 5 and max_features 82</td>\n",
       "      <td>0.743876</td>\n",
       "      <td>0.640958</td>\n",
       "    </tr>\n",
       "    <tr>\n",
       "      <td>20 bagged trees w/ depth 5 and max_features 82</td>\n",
       "      <td>0.723993</td>\n",
       "      <td>0.637684</td>\n",
       "    </tr>\n",
       "    <tr>\n",
       "      <td>10 bagged trees w/ depth 15 and max_features 82</td>\n",
       "      <td>0.750102</td>\n",
       "      <td>0.625374</td>\n",
       "    </tr>\n",
       "  </tbody>\n",
       "</table>\n",
       "</div>"
      ],
      "text/plain": [
       "                                                training accuracy  \\\n",
       "10 bagged trees w/ depth 10 and max_features 82          0.738753   \n",
       "20 bagged trees w/ depth 15 and max_features 82          0.788749   \n",
       "100 bagged trees w/ depth 5 and max_features 82          0.743876   \n",
       "20 bagged trees w/ depth 5 and max_features 82           0.723993   \n",
       "10 bagged trees w/ depth 15 and max_features 82          0.750102   \n",
       "\n",
       "                                                test accuracy  \n",
       "10 bagged trees w/ depth 10 and max_features 82      0.644811  \n",
       "20 bagged trees w/ depth 15 and max_features 82      0.642468  \n",
       "100 bagged trees w/ depth 5 and max_features 82      0.640958  \n",
       "20 bagged trees w/ depth 5 and max_features 82       0.637684  \n",
       "10 bagged trees w/ depth 15 and max_features 82      0.625374  "
      ]
     },
     "execution_count": 121,
     "metadata": {},
     "output_type": "execute_result"
    }
   ],
   "source": [
    "random_forest_train_score = -1\n",
    "random_forest_test_score = -1\n",
    "depth_option = 7\n",
    "tree_nr_options = [10,20,50,100]\n",
    "depth_options = [5, 10, 15]\n",
    "# max_features_list = [2,5,10,len(X_train.columns)]\n",
    "max_features_list = [2,len(X_train.columns)]\n",
    "\n",
    "row_number = 0\n",
    "\n",
    "# go through all the depth options we want to explore\n",
    "for depth_option in depth_options:\n",
    "    # go through all the options for nr of trees we want to explore\n",
    "    for ntrees in tree_nr_options:\n",
    "        # buld ntrees trees\n",
    "        for max_features in max_features_list:\n",
    "            estimators = []\n",
    "            R2s_train = []\n",
    "            R2s_test = []            \n",
    "            R2s_w30 = []\n",
    "            y_hats_test = np.zeros((X_test.shape[0], ntrees))\n",
    "            randomtree = RandomForestRegressor(max_depth=depth_option, max_features = max_features)\n",
    "            # bootstap the training set\n",
    "            boot_x, boot_y = resample(X_train, y_train)\n",
    "            \n",
    "            # fit and test the model\n",
    "            estimators = np.append(estimators,randomtree.fit(boot_x, boot_y))\n",
    "            R2s_train = np.append(R2s_train,randomtree.score(X_train, y_train))\n",
    "            R2s_test = np.append(R2s_test,randomtree.score(X_test, y_test))\n",
    "            R2s_w30 = np.append(R2s_w30,randomtree.score(X_test_w30, y_test_w30))\n",
    "            \n",
    "            # Add rates to dataframe for clear comparison \n",
    "            curr_tree_descr = str(ntrees) + ' bagged trees w/ depth ' + str(depth_option) + \" and max_features \" + str(max_features)\n",
    "            random_forest_comparison_df.loc[curr_tree_descr,'training accuracy'] = np.mean(R2s_train)\n",
    "            \n",
    "            # accuracy scores on test set\n",
    "            random_forest_comparison_df.loc[curr_tree_descr,'test accuracy'] = np.mean(R2s_test)\n",
    "            \n",
    "            row_number = row_number + 1\n",
    "            # retain the best scores\n",
    "            if np.mean(R2s_test) > random_forest_test_score:\n",
    "                random_forest_train_score = np.mean(R2s_train)\n",
    "                random_forest_test_score = np.mean(R2s_test)\n",
    "                random_forest_w30_test_score = np.mean(R2s_w30)\n",
    "                best_tree_nr = ntrees\n",
    "                best_depth = depth_option\n",
    "                best_max_features = max_features\n",
    "                best_RF_all_Feature_model = randomtree\n",
    "                \n",
    "                \n",
    "# Print out the best test scores\n",
    "random_forest_comparison_df.sort_values('test accuracy', ascending=False).head()"
   ]
  },
  {
   "cell_type": "code",
   "execution_count": 122,
   "metadata": {},
   "outputs": [
    {
     "data": {
      "text/html": [
       "<style  type=\"text/css\" >\n",
       "</style><table id=\"T_18c0b8b6_f52a_11eb_afa6_acde48001122\" ><thead>    <tr>        <th class=\"blank level0\" ></th>        <th class=\"col_heading level0 col0\" >training accuracy</th>        <th class=\"col_heading level0 col1\" >test accuracy</th>        <th class=\"col_heading level0 col2\" >w30 accuracy</th>    </tr></thead><tbody>\n",
       "                <tr>\n",
       "                        <th id=\"T_18c0b8b6_f52a_11eb_afa6_acde48001122level0_row0\" class=\"row_heading level0 row0\" >OLS_from2.6</th>\n",
       "                        <td id=\"T_18c0b8b6_f52a_11eb_afa6_acde48001122row0_col0\" class=\"data row0 col0\" >57.5%</td>\n",
       "                        <td id=\"T_18c0b8b6_f52a_11eb_afa6_acde48001122row0_col1\" class=\"data row0 col1\" >49.7%</td>\n",
       "                        <td id=\"T_18c0b8b6_f52a_11eb_afa6_acde48001122row0_col2\" class=\"data row0 col2\" >nan%</td>\n",
       "            </tr>\n",
       "            <tr>\n",
       "                        <th id=\"T_18c0b8b6_f52a_11eb_afa6_acde48001122level0_row1\" class=\"row_heading level0 row1\" >Poly, interact and lasso</th>\n",
       "                        <td id=\"T_18c0b8b6_f52a_11eb_afa6_acde48001122row1_col0\" class=\"data row1 col0\" >49.6%</td>\n",
       "                        <td id=\"T_18c0b8b6_f52a_11eb_afa6_acde48001122row1_col1\" class=\"data row1 col1\" >52.4%</td>\n",
       "                        <td id=\"T_18c0b8b6_f52a_11eb_afa6_acde48001122row1_col2\" class=\"data row1 col2\" >-14.1%</td>\n",
       "            </tr>\n",
       "            <tr>\n",
       "                        <th id=\"T_18c0b8b6_f52a_11eb_afa6_acde48001122level0_row2\" class=\"row_heading level0 row2\" >Random forest</th>\n",
       "                        <td id=\"T_18c0b8b6_f52a_11eb_afa6_acde48001122row2_col0\" class=\"data row2 col0\" >70.2%</td>\n",
       "                        <td id=\"T_18c0b8b6_f52a_11eb_afa6_acde48001122row2_col1\" class=\"data row2 col1\" >64.5%</td>\n",
       "                        <td id=\"T_18c0b8b6_f52a_11eb_afa6_acde48001122row2_col2\" class=\"data row2 col2\" >63.6%</td>\n",
       "            </tr>\n",
       "            <tr>\n",
       "                        <th id=\"T_18c0b8b6_f52a_11eb_afa6_acde48001122level0_row3\" class=\"row_heading level0 row3\" >Adaboost</th>\n",
       "                        <td id=\"T_18c0b8b6_f52a_11eb_afa6_acde48001122row3_col0\" class=\"data row3 col0\" >64.3%</td>\n",
       "                        <td id=\"T_18c0b8b6_f52a_11eb_afa6_acde48001122row3_col1\" class=\"data row3 col1\" >61.9%</td>\n",
       "                        <td id=\"T_18c0b8b6_f52a_11eb_afa6_acde48001122row3_col2\" class=\"data row3 col2\" >65.1%</td>\n",
       "            </tr>\n",
       "            <tr>\n",
       "                        <th id=\"T_18c0b8b6_f52a_11eb_afa6_acde48001122level0_row4\" class=\"row_heading level0 row4\" >RF all features</th>\n",
       "                        <td id=\"T_18c0b8b6_f52a_11eb_afa6_acde48001122row4_col0\" class=\"data row4 col0\" >73.9%</td>\n",
       "                        <td id=\"T_18c0b8b6_f52a_11eb_afa6_acde48001122row4_col1\" class=\"data row4 col1\" >64.5%</td>\n",
       "                        <td id=\"T_18c0b8b6_f52a_11eb_afa6_acde48001122row4_col2\" class=\"data row4 col2\" >61.5%</td>\n",
       "            </tr>\n",
       "    </tbody></table>"
      ],
      "text/plain": [
       "<pandas.io.formats.style.Styler at 0x7fbe2a283f90>"
      ]
     },
     "execution_count": 122,
     "metadata": {},
     "output_type": "execute_result"
    }
   ],
   "source": [
    "# Add best tree to comparison table\n",
    "model_comparison_df.loc['RF all features','training accuracy'] = random_forest_train_score\n",
    "model_comparison_df.loc['RF all features','test accuracy'] = random_forest_test_score\n",
    "model_comparison_df.loc['RF all features','w30 accuracy'] = random_forest_w30_test_score\n",
    "\n",
    "# display the rates by model in percentage format\n",
    "model_comparison_df.style.format({\n",
    "    'training accuracy': '{:,.1%}'.format,\n",
    "    'test accuracy': '{:,.1%}'.format,\n",
    "        'w30 accuracy': '{:,.1%}'.format,\n",
    "})"
   ]
  },
  {
   "cell_type": "code",
   "execution_count": 123,
   "metadata": {},
   "outputs": [
    {
     "data": {
      "text/html": [
       "\n",
       "    <style>\n",
       "    table.eli5-weights tr:hover {\n",
       "        filter: brightness(85%);\n",
       "    }\n",
       "</style>\n",
       "\n",
       "\n",
       "\n",
       "    \n",
       "\n",
       "    \n",
       "\n",
       "    \n",
       "\n",
       "    \n",
       "\n",
       "    \n",
       "\n",
       "    \n",
       "\n",
       "\n",
       "    \n",
       "\n",
       "    \n",
       "\n",
       "    \n",
       "\n",
       "    \n",
       "\n",
       "    \n",
       "\n",
       "    \n",
       "\n",
       "\n",
       "    \n",
       "\n",
       "    \n",
       "\n",
       "    \n",
       "\n",
       "    \n",
       "\n",
       "    \n",
       "        <table class=\"eli5-weights eli5-feature-importances\" style=\"border-collapse: collapse; border: none; margin-top: 0em; table-layout: auto;\">\n",
       "    <thead>\n",
       "    <tr style=\"border: none;\">\n",
       "        <th style=\"padding: 0 1em 0 0.5em; text-align: right; border: none;\">Weight</th>\n",
       "        <th style=\"padding: 0 0.5em 0 0.5em; text-align: left; border: none;\">Feature</th>\n",
       "    </tr>\n",
       "    </thead>\n",
       "    <tbody>\n",
       "    \n",
       "        <tr style=\"background-color: hsl(120, 100.00%, 80.00%); border: none;\">\n",
       "            <td style=\"padding: 0 1em 0 0.5em; text-align: right; border: none;\">\n",
       "                0.8165\n",
       "                \n",
       "                    &plusmn; 0.1079\n",
       "                \n",
       "            </td>\n",
       "            <td style=\"padding: 0 0.5em 0 0.5em; text-align: left; border: none;\">\n",
       "                rate_w28\n",
       "            </td>\n",
       "        </tr>\n",
       "    \n",
       "        <tr style=\"background-color: hsl(120, 100.00%, 92.78%); border: none;\">\n",
       "            <td style=\"padding: 0 1em 0 0.5em; text-align: right; border: none;\">\n",
       "                0.1903\n",
       "                \n",
       "                    &plusmn; 0.0842\n",
       "                \n",
       "            </td>\n",
       "            <td style=\"padding: 0 0.5em 0 0.5em; text-align: left; border: none;\">\n",
       "                rate_w27\n",
       "            </td>\n",
       "        </tr>\n",
       "    \n",
       "        <tr style=\"background-color: hsl(120, 100.00%, 98.98%); border: none;\">\n",
       "            <td style=\"padding: 0 1em 0 0.5em; text-align: right; border: none;\">\n",
       "                0.0116\n",
       "                \n",
       "                    &plusmn; 0.0135\n",
       "                \n",
       "            </td>\n",
       "            <td style=\"padding: 0 0.5em 0 0.5em; text-align: left; border: none;\">\n",
       "                deaths_w28\n",
       "            </td>\n",
       "        </tr>\n",
       "    \n",
       "        <tr style=\"background-color: hsl(120, 100.00%, 99.35%); border: none;\">\n",
       "            <td style=\"padding: 0 1em 0 0.5em; text-align: right; border: none;\">\n",
       "                0.0061\n",
       "                \n",
       "                    &plusmn; 0.0045\n",
       "                \n",
       "            </td>\n",
       "            <td style=\"padding: 0 0.5em 0 0.5em; text-align: left; border: none;\">\n",
       "                population\n",
       "            </td>\n",
       "        </tr>\n",
       "    \n",
       "        <tr style=\"background-color: hsl(120, 100.00%, 99.47%); border: none;\">\n",
       "            <td style=\"padding: 0 1em 0 0.5em; text-align: right; border: none;\">\n",
       "                0.0046\n",
       "                \n",
       "                    &plusmn; 0.0043\n",
       "                \n",
       "            </td>\n",
       "            <td style=\"padding: 0 0.5em 0 0.5em; text-align: left; border: none;\">\n",
       "                cases_w27\n",
       "            </td>\n",
       "        </tr>\n",
       "    \n",
       "        <tr style=\"background-color: hsl(120, 100.00%, 99.47%); border: none;\">\n",
       "            <td style=\"padding: 0 1em 0 0.5em; text-align: right; border: none;\">\n",
       "                0.0045\n",
       "                \n",
       "                    &plusmn; 0.0025\n",
       "                \n",
       "            </td>\n",
       "            <td style=\"padding: 0 0.5em 0 0.5em; text-align: left; border: none;\">\n",
       "                votergap16\n",
       "            </td>\n",
       "        </tr>\n",
       "    \n",
       "        <tr style=\"background-color: hsl(120, 100.00%, 99.51%); border: none;\">\n",
       "            <td style=\"padding: 0 1em 0 0.5em; text-align: right; border: none;\">\n",
       "                0.0041\n",
       "                \n",
       "                    &plusmn; 0.0049\n",
       "                \n",
       "            </td>\n",
       "            <td style=\"padding: 0 0.5em 0 0.5em; text-align: left; border: none;\">\n",
       "                fully_w28\n",
       "            </td>\n",
       "        </tr>\n",
       "    \n",
       "        <tr style=\"background-color: hsl(120, 100.00%, 99.51%); border: none;\">\n",
       "            <td style=\"padding: 0 1em 0 0.5em; text-align: right; border: none;\">\n",
       "                0.0041\n",
       "                \n",
       "                    &plusmn; 0.0061\n",
       "                \n",
       "            </td>\n",
       "            <td style=\"padding: 0 0.5em 0 0.5em; text-align: left; border: none;\">\n",
       "                deaths_w26\n",
       "            </td>\n",
       "        </tr>\n",
       "    \n",
       "        <tr style=\"background-color: hsl(120, 100.00%, 99.53%); border: none;\">\n",
       "            <td style=\"padding: 0 1em 0 0.5em; text-align: right; border: none;\">\n",
       "                0.0038\n",
       "                \n",
       "                    &plusmn; 0.0060\n",
       "                \n",
       "            </td>\n",
       "            <td style=\"padding: 0 0.5em 0 0.5em; text-align: left; border: none;\">\n",
       "                always\n",
       "            </td>\n",
       "        </tr>\n",
       "    \n",
       "        <tr style=\"background-color: hsl(120, 100.00%, 99.55%); border: none;\">\n",
       "            <td style=\"padding: 0 1em 0 0.5em; text-align: right; border: none;\">\n",
       "                0.0037\n",
       "                \n",
       "                    &plusmn; 0.0060\n",
       "                \n",
       "            </td>\n",
       "            <td style=\"padding: 0 0.5em 0 0.5em; text-align: left; border: none;\">\n",
       "                votergap20\n",
       "            </td>\n",
       "        </tr>\n",
       "    \n",
       "        <tr style=\"background-color: hsl(120, 100.00%, 99.55%); border: none;\">\n",
       "            <td style=\"padding: 0 1em 0 0.5em; text-align: right; border: none;\">\n",
       "                0.0036\n",
       "                \n",
       "                    &plusmn; 0.0057\n",
       "                \n",
       "            </td>\n",
       "            <td style=\"padding: 0 0.5em 0 0.5em; text-align: left; border: none;\">\n",
       "                nodegree\n",
       "            </td>\n",
       "        </tr>\n",
       "    \n",
       "        <tr style=\"background-color: hsl(120, 100.00%, 99.59%); border: none;\">\n",
       "            <td style=\"padding: 0 1em 0 0.5em; text-align: right; border: none;\">\n",
       "                0.0032\n",
       "                \n",
       "                    &plusmn; 0.0105\n",
       "                \n",
       "            </td>\n",
       "            <td style=\"padding: 0 0.5em 0 0.5em; text-align: left; border: none;\">\n",
       "                density\n",
       "            </td>\n",
       "        </tr>\n",
       "    \n",
       "        <tr style=\"background-color: hsl(120, 100.00%, 99.67%); border: none;\">\n",
       "            <td style=\"padding: 0 1em 0 0.5em; text-align: right; border: none;\">\n",
       "                0.0023\n",
       "                \n",
       "                    &plusmn; 0.0029\n",
       "                \n",
       "            </td>\n",
       "            <td style=\"padding: 0 0.5em 0 0.5em; text-align: left; border: none;\">\n",
       "                never\n",
       "            </td>\n",
       "        </tr>\n",
       "    \n",
       "        <tr style=\"background-color: hsl(120, 100.00%, 99.67%); border: none;\">\n",
       "            <td style=\"padding: 0 1em 0 0.5em; text-align: right; border: none;\">\n",
       "                0.0023\n",
       "                \n",
       "                    &plusmn; 0.0069\n",
       "                \n",
       "            </td>\n",
       "            <td style=\"padding: 0 0.5em 0 0.5em; text-align: left; border: none;\">\n",
       "                income\n",
       "            </td>\n",
       "        </tr>\n",
       "    \n",
       "        <tr style=\"background-color: hsl(120, 100.00%, 99.71%); border: none;\">\n",
       "            <td style=\"padding: 0 1em 0 0.5em; text-align: right; border: none;\">\n",
       "                0.0020\n",
       "                \n",
       "                    &plusmn; 0.0032\n",
       "                \n",
       "            </td>\n",
       "            <td style=\"padding: 0 0.5em 0 0.5em; text-align: left; border: none;\">\n",
       "                cases_w28\n",
       "            </td>\n",
       "        </tr>\n",
       "    \n",
       "        <tr style=\"background-color: hsl(120, 100.00%, 99.73%); border: none;\">\n",
       "            <td style=\"padding: 0 1em 0 0.5em; text-align: right; border: none;\">\n",
       "                0.0017\n",
       "                \n",
       "                    &plusmn; 0.0015\n",
       "                \n",
       "            </td>\n",
       "            <td style=\"padding: 0 0.5em 0 0.5em; text-align: left; border: none;\">\n",
       "                cases_w26\n",
       "            </td>\n",
       "        </tr>\n",
       "    \n",
       "        <tr style=\"background-color: hsl(120, 100.00%, 99.82%); border: none;\">\n",
       "            <td style=\"padding: 0 1em 0 0.5em; text-align: right; border: none;\">\n",
       "                0.0010\n",
       "                \n",
       "                    &plusmn; 0.0055\n",
       "                \n",
       "            </td>\n",
       "            <td style=\"padding: 0 0.5em 0 0.5em; text-align: left; border: none;\">\n",
       "                bachelor\n",
       "            </td>\n",
       "        </tr>\n",
       "    \n",
       "        <tr style=\"background-color: hsl(120, 100.00%, 99.87%); border: none;\">\n",
       "            <td style=\"padding: 0 1em 0 0.5em; text-align: right; border: none;\">\n",
       "                0.0006\n",
       "                \n",
       "                    &plusmn; 0.0046\n",
       "                \n",
       "            </td>\n",
       "            <td style=\"padding: 0 0.5em 0 0.5em; text-align: left; border: none;\">\n",
       "                fully_w27\n",
       "            </td>\n",
       "        </tr>\n",
       "    \n",
       "        <tr style=\"background-color: hsl(120, 100.00%, 99.87%); border: none;\">\n",
       "            <td style=\"padding: 0 1em 0 0.5em; text-align: right; border: none;\">\n",
       "                0.0006\n",
       "                \n",
       "                    &plusmn; 0.0004\n",
       "                \n",
       "            </td>\n",
       "            <td style=\"padding: 0 0.5em 0 0.5em; text-align: left; border: none;\">\n",
       "                state_Arkansas\n",
       "            </td>\n",
       "        </tr>\n",
       "    \n",
       "        <tr style=\"background-color: hsl(120, 100.00%, 99.89%); border: none;\">\n",
       "            <td style=\"padding: 0 1em 0 0.5em; text-align: right; border: none;\">\n",
       "                0.0005\n",
       "                \n",
       "                    &plusmn; 0.0001\n",
       "                \n",
       "            </td>\n",
       "            <td style=\"padding: 0 0.5em 0 0.5em; text-align: left; border: none;\">\n",
       "                state_Virginia\n",
       "            </td>\n",
       "        </tr>\n",
       "    \n",
       "    \n",
       "        \n",
       "            <tr style=\"background-color: hsl(120, 100.00%, 99.89%); border: none;\">\n",
       "                <td colspan=\"2\" style=\"padding: 0 0.5em 0 0.5em; text-align: center; border: none; white-space: nowrap;\">\n",
       "                    <i>&hellip; 62 more &hellip;</i>\n",
       "                </td>\n",
       "            </tr>\n",
       "        \n",
       "    \n",
       "    </tbody>\n",
       "</table>\n",
       "    \n",
       "\n",
       "    \n",
       "\n",
       "\n",
       "    \n",
       "\n",
       "    \n",
       "\n",
       "    \n",
       "\n",
       "    \n",
       "\n",
       "    \n",
       "\n",
       "    \n",
       "\n",
       "\n",
       "\n"
      ],
      "text/plain": [
       "<IPython.core.display.HTML object>"
      ]
     },
     "execution_count": 123,
     "metadata": {},
     "output_type": "execute_result"
    }
   ],
   "source": [
    "import eli5\n",
    "#permutation importance for the random forest\n",
    "from eli5.sklearn import PermutationImportance\n",
    "\n",
    "seed = 42\n",
    "\n",
    "perm = PermutationImportance(best_RF_all_Feature_model,random_state=seed,n_iter=10).fit(X_test, y_test)\n",
    "eli5.show_weights(perm,feature_names=X.columns.tolist())"
   ]
  },
  {
   "cell_type": "markdown",
   "metadata": {},
   "source": [
    "**Comment:** The important feature look reasonable. Some fascinating features pop up. Fully vaccinated pops up as a predictor for case rate changes in week_29. This makes intuitive sense as vaccinations take a while to take effect. Note also that certain states have popped up. Adding features (and states in particular) improved results. For some samples, the difference between R squared for train and the test set is higher than for others. However, test and out of time results are consistent."
   ]
  },
  {
   "cell_type": "markdown",
   "metadata": {},
   "source": [
    "**3.7** Evaluate your models from 3.1, 3.3, 3.5, and 3.6 on the test set (this will take some work...refer back to 2.8) using $R^2$.  How do these model's $R^2$ in test compare to the out-of-sample $R^2$ when tuning?  Explain whether this is surprising or not?"
   ]
  },
  {
   "cell_type": "code",
   "execution_count": 124,
   "metadata": {},
   "outputs": [
    {
     "data": {
      "text/html": [
       "<style  type=\"text/css\" >\n",
       "</style><table id=\"T_1c7686fc_f52a_11eb_afa6_acde48001122\" ><thead>    <tr>        <th class=\"blank level0\" ></th>        <th class=\"col_heading level0 col0\" >training accuracy</th>        <th class=\"col_heading level0 col1\" >test accuracy</th>        <th class=\"col_heading level0 col2\" >w30 accuracy</th>    </tr></thead><tbody>\n",
       "                <tr>\n",
       "                        <th id=\"T_1c7686fc_f52a_11eb_afa6_acde48001122level0_row0\" class=\"row_heading level0 row0\" >OLS_from2.6</th>\n",
       "                        <td id=\"T_1c7686fc_f52a_11eb_afa6_acde48001122row0_col0\" class=\"data row0 col0\" >57.5%</td>\n",
       "                        <td id=\"T_1c7686fc_f52a_11eb_afa6_acde48001122row0_col1\" class=\"data row0 col1\" >49.7%</td>\n",
       "                        <td id=\"T_1c7686fc_f52a_11eb_afa6_acde48001122row0_col2\" class=\"data row0 col2\" >nan%</td>\n",
       "            </tr>\n",
       "            <tr>\n",
       "                        <th id=\"T_1c7686fc_f52a_11eb_afa6_acde48001122level0_row1\" class=\"row_heading level0 row1\" >Poly, interact and lasso</th>\n",
       "                        <td id=\"T_1c7686fc_f52a_11eb_afa6_acde48001122row1_col0\" class=\"data row1 col0\" >49.6%</td>\n",
       "                        <td id=\"T_1c7686fc_f52a_11eb_afa6_acde48001122row1_col1\" class=\"data row1 col1\" >52.4%</td>\n",
       "                        <td id=\"T_1c7686fc_f52a_11eb_afa6_acde48001122row1_col2\" class=\"data row1 col2\" >-14.1%</td>\n",
       "            </tr>\n",
       "            <tr>\n",
       "                        <th id=\"T_1c7686fc_f52a_11eb_afa6_acde48001122level0_row2\" class=\"row_heading level0 row2\" >Random forest</th>\n",
       "                        <td id=\"T_1c7686fc_f52a_11eb_afa6_acde48001122row2_col0\" class=\"data row2 col0\" >70.2%</td>\n",
       "                        <td id=\"T_1c7686fc_f52a_11eb_afa6_acde48001122row2_col1\" class=\"data row2 col1\" >64.5%</td>\n",
       "                        <td id=\"T_1c7686fc_f52a_11eb_afa6_acde48001122row2_col2\" class=\"data row2 col2\" >63.6%</td>\n",
       "            </tr>\n",
       "            <tr>\n",
       "                        <th id=\"T_1c7686fc_f52a_11eb_afa6_acde48001122level0_row3\" class=\"row_heading level0 row3\" >Adaboost</th>\n",
       "                        <td id=\"T_1c7686fc_f52a_11eb_afa6_acde48001122row3_col0\" class=\"data row3 col0\" >64.3%</td>\n",
       "                        <td id=\"T_1c7686fc_f52a_11eb_afa6_acde48001122row3_col1\" class=\"data row3 col1\" >61.9%</td>\n",
       "                        <td id=\"T_1c7686fc_f52a_11eb_afa6_acde48001122row3_col2\" class=\"data row3 col2\" >65.1%</td>\n",
       "            </tr>\n",
       "            <tr>\n",
       "                        <th id=\"T_1c7686fc_f52a_11eb_afa6_acde48001122level0_row4\" class=\"row_heading level0 row4\" >RF all features</th>\n",
       "                        <td id=\"T_1c7686fc_f52a_11eb_afa6_acde48001122row4_col0\" class=\"data row4 col0\" >73.9%</td>\n",
       "                        <td id=\"T_1c7686fc_f52a_11eb_afa6_acde48001122row4_col1\" class=\"data row4 col1\" >64.5%</td>\n",
       "                        <td id=\"T_1c7686fc_f52a_11eb_afa6_acde48001122row4_col2\" class=\"data row4 col2\" >61.5%</td>\n",
       "            </tr>\n",
       "    </tbody></table>"
      ],
      "text/plain": [
       "<pandas.io.formats.style.Styler at 0x7fbe191d7290>"
      ]
     },
     "execution_count": 124,
     "metadata": {},
     "output_type": "execute_result"
    }
   ],
   "source": [
    "# display the rates by model in percentage format\n",
    "model_comparison_df.style.format({\n",
    "    'training accuracy': '{:,.1%}'.format,\n",
    "    'test accuracy': '{:,.1%}'.format,\n",
    "        'w30 accuracy': '{:,.1%}'.format,\n",
    "})"
   ]
  },
  {
   "cell_type": "markdown",
   "metadata": {},
   "source": [
    "**Comment:** We expect the models to perform significantly worse on the test set. Discussion by model:\n",
    "- The Lasso model (with polynomials and feature interactions) does not perform on the test set at all. As R squared is negative, it performs worse than drawing a straight line at the mean of rate_w30. This indicates the model was too overfit to the training and validation data. In doing so, too many coefficients were reduced to 0.\n",
    "- Random forest and Adaboost perform as expected: results on out of time data is in line with accurary on the test set.\n",
    "- The random forest model with more features (including state) improves out of time results.\n",
    "\n",
    "Note: references to \"out of time\" refer to w30 results."
   ]
  },
  {
   "cell_type": "markdown",
   "metadata": {},
   "source": [
    "---"
   ]
  },
  {
   "cell_type": "markdown",
   "metadata": {},
   "source": [
    "## Question 4 [10pts]: Going further\n",
    "\n",
    "**4.1** Use all of the useable variables in `demo` and `masks` to create clusters of observations based on the $K$-means clustering approach.  Be sure to carefully select a reasonable choice for $K$.  Explain your choice (a visual may help with this).\n",
    "\n",
    "**4.2** Use your created clusters and incorporate them as predictor(s) into a linear regression model to assess whether the relationships you measured in the model from 2.6 depend on cluster type.  Comment on what you notice.  Determine whether out-of-sample $R^2$ has improved using this model (in comparison to the model from 2.6) based on 5-fold CV.\n",
    "\n",
    "**4.3: BONUS** Find data online to improve the prediction accuracy of your best model. Be sure to cite your source of your data and the approach you took into incorporating these new data.  Note: this is only worth up to 3 bonus points, so do not spend too much effor on this part over improving ealrier parts of the exam."
   ]
  },
  {
   "cell_type": "markdown",
   "metadata": {},
   "source": [
    "## Answers"
   ]
  },
  {
   "cell_type": "markdown",
   "metadata": {},
   "source": [
    "**4.1** Use all of the useable variables in `demo` and `masks` to create clusters of observations based on the $K$-means clustering approach.  Be sure to carefully select a reasonable choice for $K$.  Explain your choice (a visual may help with this)."
   ]
  },
  {
   "cell_type": "code",
   "execution_count": 125,
   "metadata": {},
   "outputs": [],
   "source": [
    "# read the cleaned dataset\n",
    "covid_clean = pd.read_csv('data/covid_clean.csv')"
   ]
  },
  {
   "cell_type": "code",
   "execution_count": 126,
   "metadata": {},
   "outputs": [
    {
     "name": "stdout",
     "output_type": "stream",
     "text": [
      "Number of rows removed by cleaning up non-numeric values: 2\n"
     ]
    }
   ],
   "source": [
    "# prepare the data to use all possible \"raw\" predictors\n",
    "# removing all the non-numeric columns\n",
    "covid_clean_num_only = covid_clean.drop(['date','county', 'state'],axis=1) \n",
    "# covid_clean_num_only = covid_clean.copy()\n",
    "\n",
    "# removing the data from week 29 and week 30 as this wouldn't be known at prediction time\n",
    "covid_clean_num_only = covid_clean_num_only.drop(['cases_w29','deaths_w29', 'fully_w29', 'dose1_w29'],axis=1)\n",
    "covid_clean_num_only = covid_clean_num_only.drop(['cases_w30','deaths_w30', 'fully_w30', 'dose1_w30', 'rate_w30'],axis=1)\n",
    "\n",
    "# cleaning out a couple of records with non-numeric values in votergap16\n",
    "orig_nr_rows = covid_clean_num_only.shape[0]\n",
    "covid_clean_num_only = covid_clean_num_only.loc[:,:][covid_clean_num_only['votergap16']!='#VALUE!']\n",
    "print(\"Number of rows removed by cleaning up non-numeric values:\", orig_nr_rows - covid_clean_num_only.shape[0])\n",
    "\n",
    "#convert votergap16 to dtype float\n",
    "covid_clean_num_only['votergap16'] = covid_clean_num_only['votergap16'].astype(float)\n",
    "\n",
    "#standardize the features\n",
    "column_names = covid_clean_num_only.columns\n",
    "scale_transformer = MinMaxScaler(copy=True).fit(covid_clean_num_only)\n",
    "covid_clean_num_only = pd.DataFrame(scale_transformer.transform(covid_clean_num_only))\n",
    "covid_clean_num_only.columns = column_names"
   ]
  },
  {
   "cell_type": "code",
   "execution_count": 127,
   "metadata": {},
   "outputs": [],
   "source": [
    "masks_demo = covid_clean[['never', 'rarely', 'never', 'sometimes', 'frequently', 'always', \n",
    "                         'population', 'hispanic', 'minority', 'female', 'unemployed',\n",
    "                         'income', 'nodegree', 'bachelor', 'inactivity', 'obesity',\n",
    "                         'density','votergap20', 'votergap16'\n",
    "                        ]].copy()"
   ]
  },
  {
   "cell_type": "code",
   "execution_count": 128,
   "metadata": {},
   "outputs": [
    {
     "name": "stdout",
     "output_type": "stream",
     "text": [
      "Number of rows removed by cleaning up non-numeric values: 2\n"
     ]
    }
   ],
   "source": [
    "orig_nr_rows = masks_demo.shape[0]\n",
    "masks_demo = masks_demo.loc[:,:][masks_demo['votergap16']!='#VALUE!']\n",
    "print(\"Number of rows removed by cleaning up non-numeric values:\", orig_nr_rows - masks_demo.shape[0])\n",
    "\n",
    "#convert votergap16 to dtype float\n",
    "masks_demo['votergap16'] = masks_demo['votergap16'].astype(float)"
   ]
  },
  {
   "cell_type": "code",
   "execution_count": 129,
   "metadata": {},
   "outputs": [],
   "source": [
    "#standardize the features\n",
    "column_names = masks_demo.columns\n",
    "scale_transformer = MinMaxScaler(copy=True).fit(masks_demo)\n",
    "masks_demo = pd.DataFrame(scale_transformer.transform(masks_demo))\n",
    "masks_demo.columns = column_names"
   ]
  },
  {
   "cell_type": "code",
   "execution_count": 130,
   "metadata": {},
   "outputs": [],
   "source": [
    "assert masks_demo.shape[0] == covid_clean_num_only.shape[0]"
   ]
  },
  {
   "cell_type": "code",
   "execution_count": 131,
   "metadata": {},
   "outputs": [],
   "source": [
    "# cluster the data\n",
    "X = masks_demo\n",
    "distortions = []\n",
    "inertias = []\n",
    "mapping1 = {}\n",
    "mapping2 = {}\n",
    "K = range(1, 20)\n",
    " \n",
    "for k in K:\n",
    "    # Building and fitting the model\n",
    "    kmeanModel = KMeans(n_clusters=k).fit(X)\n",
    "    kmeanModel.fit(X)\n",
    " \n",
    "    distortions.append(sum(np.min(cdist(X, kmeanModel.cluster_centers_,\n",
    "                                        'euclidean'), axis=1)) / X.shape[0])\n",
    "    inertias.append(kmeanModel.inertia_)\n",
    " \n",
    "    mapping1[k] = sum(np.min(cdist(X, kmeanModel.cluster_centers_,\n",
    "                                   'euclidean'), axis=1)) / X.shape[0]\n",
    "    mapping2[k] = kmeanModel.inertia_"
   ]
  },
  {
   "cell_type": "code",
   "execution_count": 132,
   "metadata": {},
   "outputs": [
    {
     "data": {
      "image/png": "[encoded data removed]",
      "text/plain": [
       "<Figure size 1440x720 with 1 Axes>"
      ]
     },
     "metadata": {
      "needs_background": "light"
     },
     "output_type": "display_data"
    }
   ],
   "source": [
    "plt.plot(K, inertias, 'bx-')\n",
    "plt.xlabel('Values of K')\n",
    "plt.ylabel('Inertia')\n",
    "plt.title('The Elbow Method using Distortion')\n",
    "plt.show()"
   ]
  },
  {
   "cell_type": "markdown",
   "metadata": {},
   "source": [
    "**Comment:** Based on the elbow chart, we'd recommend choosing 6 clusters. That's the point where adding more clusters starts having marginal improvement only."
   ]
  },
  {
   "cell_type": "code",
   "execution_count": 133,
   "metadata": {},
   "outputs": [
    {
     "name": "stdout",
     "output_type": "stream",
     "text": [
      "Sum of Squared Distances = 520.9452314326617\n",
      "Predicted clusters for each observation = [3 1 2 ... 0 0 0]\n"
     ]
    }
   ],
   "source": [
    "n_clust = 6\n",
    "kmeansN = KMeans(n_clusters=n_clust, random_state=109).fit(X)\n",
    "\n",
    "# sum of squares from the centroids\n",
    "print(\"Sum of Squared Distances =\", kmeansN.inertia_)\n",
    "\n",
    "kmeansn_predictions = kmeansN.predict(X)\n",
    "#predict for new (or current) observations\n",
    "print(\"Predicted clusters for each observation =\", kmeansN.predict(X))"
   ]
  },
  {
   "cell_type": "markdown",
   "metadata": {},
   "source": [
    "**4.2** Use your created clusters and incorporate them as predictor(s) into a linear regression model to assess whether the relationships you measured in the model from 2.6 depend on cluster type.  Comment on what you notice.  Determine whether out-of-sample $R^2$ has improved using this model (in comparison to the model from 2.6) based on 5-fold CV.\n"
   ]
  },
  {
   "cell_type": "code",
   "execution_count": 134,
   "metadata": {},
   "outputs": [],
   "source": [
    "covid_clean_num_only_w_clusters = covid_clean_num_only.copy()\n",
    "covid_clean_num_only_w_clusters['kmeans_cluster'] = kmeansn_predictions.tolist()"
   ]
  },
  {
   "cell_type": "code",
   "execution_count": 135,
   "metadata": {},
   "outputs": [],
   "source": [
    "# manage the target variable\n",
    "X = covid_clean_num_only_w_clusters.loc[:, covid_clean_num_only_w_clusters.columns != 'rate_w29']\n",
    "y = covid_clean_num_only_w_clusters.rate_w29"
   ]
  },
  {
   "cell_type": "code",
   "execution_count": 136,
   "metadata": {},
   "outputs": [],
   "source": [
    "# one hot encode the clusters as cluster numbers by themselves have no meaning\n",
    "# creating instance of one-hot-encoder\n",
    "enc = OneHotEncoder(handle_unknown='ignore')\n",
    "# passing bridge-types-cat column (label encoded values of bridge_types)\n",
    "kmeans_cols = ['Clust0', 'Clust1', 'Clust2', 'Clust3', 'Clust4', 'Clust5', ]\n",
    "enc_df = pd.DataFrame(enc.fit_transform(X[['kmeans_cluster']]).toarray())\n",
    "enc_df.columns = kmeans_cols\n",
    "# merge with main df bridge_df on key values\n",
    "X = X.join(enc_df)\n",
    "X = X.drop(['kmeans_cluster'], axis=1)\n",
    "# enc_df"
   ]
  },
  {
   "cell_type": "code",
   "execution_count": 137,
   "metadata": {},
   "outputs": [],
   "source": [
    "# split dataset in train and test\n",
    "X_train, X_test, y_train, y_test = train_test_split(X, y, test_size=0.2, random_state = 109)"
   ]
  },
  {
   "cell_type": "code",
   "execution_count": 138,
   "metadata": {},
   "outputs": [
    {
     "name": "stdout",
     "output_type": "stream",
     "text": [
      "OLS model train accuracy:  0.558648532873514\n",
      "OLS model test accuracy:  0.49607248111232305\n"
     ]
    },
    {
     "data": {
      "text/html": [
       "<table class=\"simpletable\">\n",
       "<caption>OLS Regression Results</caption>\n",
       "<tr>\n",
       "  <th>Dep. Variable:</th>        <td>rate_w29</td>     <th>  R-squared:         </th> <td>   0.559</td>\n",
       "</tr>\n",
       "<tr>\n",
       "  <th>Model:</th>                   <td>OLS</td>       <th>  Adj. R-squared:    </th> <td>   0.552</td>\n",
       "</tr>\n",
       "<tr>\n",
       "  <th>Method:</th>             <td>Least Squares</td>  <th>  F-statistic:       </th> <td>   81.44</td>\n",
       "</tr>\n",
       "<tr>\n",
       "  <th>Date:</th>             <td>Wed, 04 Aug 2021</td> <th>  Prob (F-statistic):</th>  <td>  0.00</td> \n",
       "</tr>\n",
       "<tr>\n",
       "  <th>Time:</th>                 <td>09:44:48</td>     <th>  Log-Likelihood:    </th> <td>  3477.8</td>\n",
       "</tr>\n",
       "<tr>\n",
       "  <th>No. Observations:</th>      <td>  2484</td>      <th>  AIC:               </th> <td>  -6878.</td>\n",
       "</tr>\n",
       "<tr>\n",
       "  <th>Df Residuals:</th>          <td>  2445</td>      <th>  BIC:               </th> <td>  -6651.</td>\n",
       "</tr>\n",
       "<tr>\n",
       "  <th>Df Model:</th>              <td>    38</td>      <th>                     </th>     <td> </td>   \n",
       "</tr>\n",
       "<tr>\n",
       "  <th>Covariance Type:</th>      <td>nonrobust</td>    <th>                     </th>     <td> </td>   \n",
       "</tr>\n",
       "</table>\n",
       "<table class=\"simpletable\">\n",
       "<tr>\n",
       "       <td></td>         <th>coef</th>     <th>std err</th>      <th>t</th>      <th>P>|t|</th>  <th>[0.025</th>    <th>0.975]</th>  \n",
       "</tr>\n",
       "<tr>\n",
       "  <th>const</th>      <td>    0.8372</td> <td>    1.373</td> <td>    0.610</td> <td> 0.542</td> <td>   -1.856</td> <td>    3.530</td>\n",
       "</tr>\n",
       "<tr>\n",
       "  <th>fips</th>       <td>   -0.0413</td> <td>    0.005</td> <td>   -8.698</td> <td> 0.000</td> <td>   -0.051</td> <td>   -0.032</td>\n",
       "</tr>\n",
       "<tr>\n",
       "  <th>cases_w26</th>  <td>   85.9012</td> <td>   34.791</td> <td>    2.469</td> <td> 0.014</td> <td>   17.679</td> <td>  154.123</td>\n",
       "</tr>\n",
       "<tr>\n",
       "  <th>deaths_w26</th> <td>  -10.3387</td> <td>   12.472</td> <td>   -0.829</td> <td> 0.407</td> <td>  -34.796</td> <td>   14.119</td>\n",
       "</tr>\n",
       "<tr>\n",
       "  <th>fully_w26</th>  <td>   -1.1404</td> <td>    0.449</td> <td>   -2.543</td> <td> 0.011</td> <td>   -2.020</td> <td>   -0.261</td>\n",
       "</tr>\n",
       "<tr>\n",
       "  <th>dose1_w26</th>  <td>    0.0734</td> <td>    0.053</td> <td>    1.388</td> <td> 0.165</td> <td>   -0.030</td> <td>    0.177</td>\n",
       "</tr>\n",
       "<tr>\n",
       "  <th>cases_w27</th>  <td> -293.0996</td> <td>   61.729</td> <td>   -4.748</td> <td> 0.000</td> <td> -414.146</td> <td> -172.053</td>\n",
       "</tr>\n",
       "<tr>\n",
       "  <th>deaths_w27</th> <td>   14.2390</td> <td>   23.962</td> <td>    0.594</td> <td> 0.552</td> <td>  -32.749</td> <td>   61.227</td>\n",
       "</tr>\n",
       "<tr>\n",
       "  <th>fully_w27</th>  <td>    1.5907</td> <td>    0.799</td> <td>    1.991</td> <td> 0.047</td> <td>    0.024</td> <td>    3.157</td>\n",
       "</tr>\n",
       "<tr>\n",
       "  <th>dose1_w27</th>  <td>   -0.0110</td> <td>    0.080</td> <td>   -0.137</td> <td> 0.891</td> <td>   -0.168</td> <td>    0.146</td>\n",
       "</tr>\n",
       "<tr>\n",
       "  <th>cases_w28</th>  <td>  207.3650</td> <td>   29.896</td> <td>    6.936</td> <td> 0.000</td> <td>  148.741</td> <td>  265.989</td>\n",
       "</tr>\n",
       "<tr>\n",
       "  <th>deaths_w28</th> <td>   -3.9165</td> <td>   15.424</td> <td>   -0.254</td> <td> 0.800</td> <td>  -34.162</td> <td>   26.329</td>\n",
       "</tr>\n",
       "<tr>\n",
       "  <th>fully_w28</th>  <td>   -0.5233</td> <td>    0.607</td> <td>   -0.862</td> <td> 0.389</td> <td>   -1.714</td> <td>    0.668</td>\n",
       "</tr>\n",
       "<tr>\n",
       "  <th>dose1_w28</th>  <td>   -0.0027</td> <td>    0.070</td> <td>   -0.039</td> <td> 0.969</td> <td>   -0.140</td> <td>    0.135</td>\n",
       "</tr>\n",
       "<tr>\n",
       "  <th>population</th> <td>    0.0227</td> <td>    0.225</td> <td>    0.101</td> <td> 0.920</td> <td>   -0.418</td> <td>    0.464</td>\n",
       "</tr>\n",
       "<tr>\n",
       "  <th>hispanic</th>   <td>    0.0025</td> <td>    0.018</td> <td>    0.141</td> <td> 0.888</td> <td>   -0.032</td> <td>    0.037</td>\n",
       "</tr>\n",
       "<tr>\n",
       "  <th>minority</th>   <td>    0.0189</td> <td>    0.014</td> <td>    1.311</td> <td> 0.190</td> <td>   -0.009</td> <td>    0.047</td>\n",
       "</tr>\n",
       "<tr>\n",
       "  <th>female</th>     <td>   -0.0355</td> <td>    0.016</td> <td>   -2.192</td> <td> 0.028</td> <td>   -0.067</td> <td>   -0.004</td>\n",
       "</tr>\n",
       "<tr>\n",
       "  <th>unemployed</th> <td>    0.0051</td> <td>    0.020</td> <td>    0.250</td> <td> 0.802</td> <td>   -0.035</td> <td>    0.045</td>\n",
       "</tr>\n",
       "<tr>\n",
       "  <th>income</th>     <td>   -0.0518</td> <td>    0.017</td> <td>   -3.041</td> <td> 0.002</td> <td>   -0.085</td> <td>   -0.018</td>\n",
       "</tr>\n",
       "<tr>\n",
       "  <th>nodegree</th>   <td>    0.0309</td> <td>    0.019</td> <td>    1.644</td> <td> 0.100</td> <td>   -0.006</td> <td>    0.068</td>\n",
       "</tr>\n",
       "<tr>\n",
       "  <th>bachelor</th>   <td>    0.1438</td> <td>    0.021</td> <td>    6.710</td> <td> 0.000</td> <td>    0.102</td> <td>    0.186</td>\n",
       "</tr>\n",
       "<tr>\n",
       "  <th>inactivity</th> <td>    0.0535</td> <td>    0.015</td> <td>    3.550</td> <td> 0.000</td> <td>    0.024</td> <td>    0.083</td>\n",
       "</tr>\n",
       "<tr>\n",
       "  <th>obesity</th>    <td>    0.0382</td> <td>    0.016</td> <td>    2.347</td> <td> 0.019</td> <td>    0.006</td> <td>    0.070</td>\n",
       "</tr>\n",
       "<tr>\n",
       "  <th>density</th>    <td>   -0.0205</td> <td>    0.045</td> <td>   -0.456</td> <td> 0.648</td> <td>   -0.108</td> <td>    0.067</td>\n",
       "</tr>\n",
       "<tr>\n",
       "  <th>votergap20</th> <td>   -0.1416</td> <td>    0.054</td> <td>   -2.610</td> <td> 0.009</td> <td>   -0.248</td> <td>   -0.035</td>\n",
       "</tr>\n",
       "<tr>\n",
       "  <th>votergap16</th> <td>    0.0895</td> <td>    0.051</td> <td>    1.750</td> <td> 0.080</td> <td>   -0.011</td> <td>    0.190</td>\n",
       "</tr>\n",
       "<tr>\n",
       "  <th>never</th>      <td>   -0.4719</td> <td>    0.809</td> <td>   -0.583</td> <td> 0.560</td> <td>   -2.059</td> <td>    1.115</td>\n",
       "</tr>\n",
       "<tr>\n",
       "  <th>rarely</th>     <td>   -0.4384</td> <td>    0.720</td> <td>   -0.609</td> <td> 0.543</td> <td>   -1.850</td> <td>    0.973</td>\n",
       "</tr>\n",
       "<tr>\n",
       "  <th>sometimes</th>  <td>   -0.4671</td> <td>    0.789</td> <td>   -0.592</td> <td> 0.554</td> <td>   -2.013</td> <td>    1.079</td>\n",
       "</tr>\n",
       "<tr>\n",
       "  <th>frequently</th> <td>   -0.6238</td> <td>    0.974</td> <td>   -0.640</td> <td> 0.522</td> <td>   -2.534</td> <td>    1.287</td>\n",
       "</tr>\n",
       "<tr>\n",
       "  <th>always</th>     <td>   -0.8577</td> <td>    1.450</td> <td>   -0.592</td> <td> 0.554</td> <td>   -3.701</td> <td>    1.986</td>\n",
       "</tr>\n",
       "<tr>\n",
       "  <th>rate_w28</th>   <td>    0.7444</td> <td>    0.037</td> <td>   20.113</td> <td> 0.000</td> <td>    0.672</td> <td>    0.817</td>\n",
       "</tr>\n",
       "<tr>\n",
       "  <th>rate_w27</th>   <td>    0.4626</td> <td>    0.020</td> <td>   23.360</td> <td> 0.000</td> <td>    0.424</td> <td>    0.501</td>\n",
       "</tr>\n",
       "<tr>\n",
       "  <th>Clust0</th>     <td>    0.1420</td> <td>    0.229</td> <td>    0.620</td> <td> 0.535</td> <td>   -0.307</td> <td>    0.591</td>\n",
       "</tr>\n",
       "<tr>\n",
       "  <th>Clust1</th>     <td>    0.1466</td> <td>    0.229</td> <td>    0.640</td> <td> 0.522</td> <td>   -0.302</td> <td>    0.596</td>\n",
       "</tr>\n",
       "<tr>\n",
       "  <th>Clust2</th>     <td>    0.1280</td> <td>    0.229</td> <td>    0.559</td> <td> 0.576</td> <td>   -0.321</td> <td>    0.577</td>\n",
       "</tr>\n",
       "<tr>\n",
       "  <th>Clust3</th>     <td>    0.1313</td> <td>    0.229</td> <td>    0.574</td> <td> 0.566</td> <td>   -0.317</td> <td>    0.580</td>\n",
       "</tr>\n",
       "<tr>\n",
       "  <th>Clust4</th>     <td>    0.1383</td> <td>    0.229</td> <td>    0.604</td> <td> 0.546</td> <td>   -0.311</td> <td>    0.587</td>\n",
       "</tr>\n",
       "<tr>\n",
       "  <th>Clust5</th>     <td>    0.1510</td> <td>    0.229</td> <td>    0.660</td> <td> 0.510</td> <td>   -0.298</td> <td>    0.600</td>\n",
       "</tr>\n",
       "</table>\n",
       "<table class=\"simpletable\">\n",
       "<tr>\n",
       "  <th>Omnibus:</th>       <td>835.923</td> <th>  Durbin-Watson:     </th> <td>   2.010</td> \n",
       "</tr>\n",
       "<tr>\n",
       "  <th>Prob(Omnibus):</th> <td> 0.000</td>  <th>  Jarque-Bera (JB):  </th> <td>74738.345</td>\n",
       "</tr>\n",
       "<tr>\n",
       "  <th>Skew:</th>          <td> 0.631</td>  <th>  Prob(JB):          </th> <td>    0.00</td> \n",
       "</tr>\n",
       "<tr>\n",
       "  <th>Kurtosis:</th>      <td>29.842</td>  <th>  Cond. No.          </th> <td>2.79e+15</td> \n",
       "</tr>\n",
       "</table><br/><br/>Warnings:<br/>[1] Standard Errors assume that the covariance matrix of the errors is correctly specified.<br/>[2] The smallest eigenvalue is 1.39e-27. This might indicate that there are<br/>strong multicollinearity problems or that the design matrix is singular."
      ],
      "text/plain": [
       "<class 'statsmodels.iolib.summary.Summary'>\n",
       "\"\"\"\n",
       "                            OLS Regression Results                            \n",
       "==============================================================================\n",
       "Dep. Variable:               rate_w29   R-squared:                       0.559\n",
       "Model:                            OLS   Adj. R-squared:                  0.552\n",
       "Method:                 Least Squares   F-statistic:                     81.44\n",
       "Date:                Wed, 04 Aug 2021   Prob (F-statistic):               0.00\n",
       "Time:                        09:44:48   Log-Likelihood:                 3477.8\n",
       "No. Observations:                2484   AIC:                            -6878.\n",
       "Df Residuals:                    2445   BIC:                            -6651.\n",
       "Df Model:                          38                                         \n",
       "Covariance Type:            nonrobust                                         \n",
       "==============================================================================\n",
       "                 coef    std err          t      P>|t|      [0.025      0.975]\n",
       "------------------------------------------------------------------------------\n",
       "const          0.8372      1.373      0.610      0.542      -1.856       3.530\n",
       "fips          -0.0413      0.005     -8.698      0.000      -0.051      -0.032\n",
       "cases_w26     85.9012     34.791      2.469      0.014      17.679     154.123\n",
       "deaths_w26   -10.3387     12.472     -0.829      0.407     -34.796      14.119\n",
       "fully_w26     -1.1404      0.449     -2.543      0.011      -2.020      -0.261\n",
       "dose1_w26      0.0734      0.053      1.388      0.165      -0.030       0.177\n",
       "cases_w27   -293.0996     61.729     -4.748      0.000    -414.146    -172.053\n",
       "deaths_w27    14.2390     23.962      0.594      0.552     -32.749      61.227\n",
       "fully_w27      1.5907      0.799      1.991      0.047       0.024       3.157\n",
       "dose1_w27     -0.0110      0.080     -0.137      0.891      -0.168       0.146\n",
       "cases_w28    207.3650     29.896      6.936      0.000     148.741     265.989\n",
       "deaths_w28    -3.9165     15.424     -0.254      0.800     -34.162      26.329\n",
       "fully_w28     -0.5233      0.607     -0.862      0.389      -1.714       0.668\n",
       "dose1_w28     -0.0027      0.070     -0.039      0.969      -0.140       0.135\n",
       "population     0.0227      0.225      0.101      0.920      -0.418       0.464\n",
       "hispanic       0.0025      0.018      0.141      0.888      -0.032       0.037\n",
       "minority       0.0189      0.014      1.311      0.190      -0.009       0.047\n",
       "female        -0.0355      0.016     -2.192      0.028      -0.067      -0.004\n",
       "unemployed     0.0051      0.020      0.250      0.802      -0.035       0.045\n",
       "income        -0.0518      0.017     -3.041      0.002      -0.085      -0.018\n",
       "nodegree       0.0309      0.019      1.644      0.100      -0.006       0.068\n",
       "bachelor       0.1438      0.021      6.710      0.000       0.102       0.186\n",
       "inactivity     0.0535      0.015      3.550      0.000       0.024       0.083\n",
       "obesity        0.0382      0.016      2.347      0.019       0.006       0.070\n",
       "density       -0.0205      0.045     -0.456      0.648      -0.108       0.067\n",
       "votergap20    -0.1416      0.054     -2.610      0.009      -0.248      -0.035\n",
       "votergap16     0.0895      0.051      1.750      0.080      -0.011       0.190\n",
       "never         -0.4719      0.809     -0.583      0.560      -2.059       1.115\n",
       "rarely        -0.4384      0.720     -0.609      0.543      -1.850       0.973\n",
       "sometimes     -0.4671      0.789     -0.592      0.554      -2.013       1.079\n",
       "frequently    -0.6238      0.974     -0.640      0.522      -2.534       1.287\n",
       "always        -0.8577      1.450     -0.592      0.554      -3.701       1.986\n",
       "rate_w28       0.7444      0.037     20.113      0.000       0.672       0.817\n",
       "rate_w27       0.4626      0.020     23.360      0.000       0.424       0.501\n",
       "Clust0         0.1420      0.229      0.620      0.535      -0.307       0.591\n",
       "Clust1         0.1466      0.229      0.640      0.522      -0.302       0.596\n",
       "Clust2         0.1280      0.229      0.559      0.576      -0.321       0.577\n",
       "Clust3         0.1313      0.229      0.574      0.566      -0.317       0.580\n",
       "Clust4         0.1383      0.229      0.604      0.546      -0.311       0.587\n",
       "Clust5         0.1510      0.229      0.660      0.510      -0.298       0.600\n",
       "==============================================================================\n",
       "Omnibus:                      835.923   Durbin-Watson:                   2.010\n",
       "Prob(Omnibus):                  0.000   Jarque-Bera (JB):            74738.345\n",
       "Skew:                           0.631   Prob(JB):                         0.00\n",
       "Kurtosis:                      29.842   Cond. No.                     2.79e+15\n",
       "==============================================================================\n",
       "\n",
       "Warnings:\n",
       "[1] Standard Errors assume that the covariance matrix of the errors is correctly specified.\n",
       "[2] The smallest eigenvalue is 1.39e-27. This might indicate that there are\n",
       "strong multicollinearity problems or that the design matrix is singular.\n",
       "\"\"\""
      ]
     },
     "execution_count": 138,
     "metadata": {},
     "output_type": "execute_result"
    }
   ],
   "source": [
    "# train using statsmodel to inspect the coefficiencts and p-values\n",
    "OLS_x_train = sm.tools.add_constant(X_train)\n",
    "OLS_x_test = sm.tools.add_constant(X_test)\n",
    "\n",
    "OLSModel = OLS(y_train,OLS_x_train).fit()\n",
    "\n",
    "# train accuracy\n",
    "y_hat_train_pred_42 = OLSModel.predict(OLS_x_train) \n",
    "train_score_42 = r2_score(y_train, y_hat_train_pred_42)\n",
    "\n",
    "# test_accuracy\n",
    "y_hat_test_pred_42 = OLSModel.predict(OLS_x_test) \n",
    "test_score_42 = r2_score(y_test.to_numpy(), y_hat_test_pred_42)\n",
    "\n",
    "print(\"OLS model train accuracy: \", train_score_42)\n",
    "print(\"OLS model test accuracy: \", test_score_42)\n",
    "\n",
    "OLSModel.summary()"
   ]
  },
  {
   "cell_type": "markdown",
   "metadata": {},
   "source": [
    "**Comment:** Based on the p-value for the one hot encoded clusterings, no improvement came from clustering. The R-squared for train and test haven't changed. Clustering did not improve the result."
   ]
  },
  {
   "cell_type": "code",
   "execution_count": 139,
   "metadata": {},
   "outputs": [
    {
     "name": "stdout",
     "output_type": "stream",
     "text": [
      "R-sq Train= 0.558648532873514\n",
      "R-sq Train= 0.4960724811121658\n",
      "R-sq w30 train= 0.7305686112128137\n"
     ]
    }
   ],
   "source": [
    "# using scikitlearn for 5-fold cross validation\n",
    "lm = LinearRegression().fit(X_train, y_train)\n",
    "w30_scores = cross_val_score(lm, X_train_w30, y_train_w30, cv=5)\n",
    "\n",
    "print(\"R-sq Train=\",lm.score(X_train, y_train))\n",
    "print(\"R-sq Train=\",lm.score(X_test, y_test))\n",
    "print(\"R-sq w30 train=\",np.mean(w30_scores))"
   ]
  },
  {
   "cell_type": "markdown",
   "metadata": {},
   "source": [
    "**Comment:** The out of time test scores with cross validation, however, performs well at 73%"
   ]
  },
  {
   "cell_type": "markdown",
   "metadata": {},
   "source": [
    "*your answer here*"
   ]
  },
  {
   "cell_type": "markdown",
   "metadata": {},
   "source": [
    "**4.3: BONUS** Find data online to improve the prediction accuracy of your best model. Be sure to cite your source of your data and the approach you took into incorporating these new data.  Note: this is only worth up to 3 bonus points, so do not spend too much effor on this part over improving ealrier parts of the exam."
   ]
  },
  {
   "cell_type": "code",
   "execution_count": 140,
   "metadata": {},
   "outputs": [],
   "source": [
    "######\n",
    "# your code here\n",
    "######\n",
    "\n"
   ]
  },
  {
   "cell_type": "markdown",
   "metadata": {},
   "source": [
    "*your answer here*"
   ]
  }
 ],
 "metadata": {
  "anaconda-cloud": {},
  "kernelspec": {
   "display_name": "Python 3",
   "language": "python",
   "name": "python3"
  },
  "language_info": {
   "codemirror_mode": {
    "name": "ipython",
    "version": 3
   },
   "file_extension": ".py",
   "mimetype": "text/x-python",
   "name": "python",
   "nbconvert_exporter": "python",
   "pygments_lexer": "ipython3",
   "version": "3.7.4"
  }
 },
 "nbformat": 4,
 "nbformat_minor": 2
}
