{
 "cells": [
  {
   "cell_type": "markdown",
   "metadata": {
    "button": false,
    "new_sheet": false,
    "run_control": {
     "read_only": false
    }
   },
   "source": [
    "# <img style=\"float: left; padding-right: 10px; width: 45px\" src=\"https://github.com/Harvard-IACS/2021-s109a/blob/master/lectures/crest.png?raw=true\"> CS-S109A Introduction to Data Science \n",
    "\n",
    "## Final Exam: COVID-19 Modeling\n",
    "\n",
    "**Harvard University**<br/>\n",
    "**Summer 2021**<br/>\n",
    "**Instructors**: Kevin Rader\n",
    "\n",
    "\n",
    "<hr style='height:2px'>\n",
    "\n",
    "---\n",
    "\n"
   ]
  },
  {
   "cell_type": "markdown",
   "metadata": {},
   "source": [
    "### INSTRUCTIONS\n",
    "\n",
    "- This final exam is to be completed indivudally.  Do not consult with your peers when working on it (you can aks the teaching staff for clarification questions, including private messages on Ed).\n",
    "- To submit your assignment follow the instructions given in Canvas.\n",
    "- Restart the kernel and run the whole notebook again before you submit. \n",
    "- As much as possible, try and stick to the hints and functions we import at the top of the homework, as those are the ideas and tools the class supports and is aiming to teach. And if a problem specifies a particular library you're required to use that library, and possibly others from the import list.\n",
    "- Please use .head() when viewing data. Do not submit a notebook that is excessively long because output was not suppressed or otherwise limited. \n",
    "\n",
    "**Note: for all problems, it is up to you to decide how to transform the data (standardization, log transformations, etc.).  Be sure you use and interpret theses transformations approporiately.**"
   ]
  },
  {
   "cell_type": "code",
   "execution_count": 1,
   "metadata": {},
   "outputs": [],
   "source": [
    "import numpy as np\n",
    "import pandas as pd\n",
    "import scipy as sp\n",
    "import sklearn as sk\n",
    "import statsmodels as sm\n",
    "import matplotlib.pyplot as plt\n",
    "import seaborn as sns\n",
    "\n",
    "# You are free to use any functions/methods within these packages (BS4, ELI5, and LIME are fine too)\n",
    "# if you would like to use any other, please contact hte teaching staff "
   ]
  },
  {
   "cell_type": "markdown",
   "metadata": {},
   "source": [
    "<hr style=\"height:2pt\">"
   ]
  },
  {
   "cell_type": "markdown",
   "metadata": {},
   "source": [
    "# Analyzing the recent spread of COVID-19 \n",
    "\n",
    "![](fig/vaccine.jpeg)"
   ]
  },
  {
   "cell_type": "markdown",
   "metadata": {},
   "source": [
    "You are tasked with using the COVID case and vaccination data across counties presented by the CDC to analyze the recent surge in COVID infections and the association with (amonth other predictors).  You are also tasked with building prediction models to forecast how the disease spread will change based on data from the previous week (and  demographic and other measures.\n",
    "\n",
    "The exam broken into 4 problems:\n",
    "- Problem 1: Data Wrangling and Explorations\n",
    "- Problem 2: Interpretive Linear Regression Modeling\n",
    "- Problem 3: Prediction Modeling\n",
    "- Problem 4: Further Analysis\n",
    "\n",
    "You are provided with four raw data files, and a 5th cleaned file is provided to be used for all EDA and modeling tasks."
   ]
  },
  {
   "cell_type": "markdown",
   "metadata": {},
   "source": [
    "The variables included in each of the four raw data sets are:\n",
    "\n",
    "For 'covid_cases_county.csv' (note: counties show up many times in this dataset: once for each data they report the number of cases):\n",
    "- `date`: the date of the measurement, taken weekly\n",
    "- `county`: county name\n",
    "- `state`: the state in which the county lies\n",
    "- `fips`: the unique Federal Information Processing System (FIPS) codes for the county\n",
    "- `cases`: the cumulative number of confirmed positive cases up to and including that date\n",
    "- `deaths`: the cumulative number of confirmed COVID-related deaths up to and including that date\n",
    "\n",
    "\n",
    "For 'vaccines_county.csv' (note: counties show up many times in this dataset: once for each data they report the number of cases):\n",
    "- `date`: the date of the measurement, taken weekly\n",
    "- `fips`: the unique FIPS code for the county\n",
    "- `fully`: the percent of residents that are fully vaccinated in the county on that date\n",
    "- `dose1`: the percent of residents that have received at least one vaccine dose in the county on that date.\n",
    "\n",
    "For 'masks_county.csv' (note: this is based on a survey conducted by the New York Times in summer of 2020):\n",
    "- `fips`: the unique FIPS code for the county\n",
    "- `never`: the percent of respondents that report they never wore masks in public\n",
    "- `rarely`: the percent of respondents that report they rarely wore masks in public\n",
    "- `sometimes`: the percent of respondents that report they sometimes wore masks in public\t\n",
    "- `frequently`: the percent of respondents that report they frequently wore masks in public\t\n",
    "- `always`: the percent of respondents that report they always wore masks in public\n",
    "\n",
    "For 'demographics_county.csv' (note: these are various measures taken from 2010 to 2020):\n",
    "- `fips`: the unique FIPS code for the county\n",
    "- `population`: total number of residents in the country\t\n",
    "- `hispanic`: the percentage of residents that self-identify as hispanic\n",
    "- `minority`: the percentage of residents that self-identify as a minority group (non-white)\n",
    "- `female`: the percentage of residents that self-identify as female\n",
    "- `unemployed`: the percentage of residents that are unemployed\n",
    "- `income`: the median household income, in thousnads of dollards\n",
    "- `nodegree`: the percentage of residents that report not having graduated high school\n",
    "- `bachelor`: the percentage of residents that report having a college degree\n",
    "- `inactivity`: the percentage of residents that get less than 1 hour of vigorous exercise a week\n",
    "- `obesity`: the percentage of residents that are considered obese based on BMI\n",
    "- `density`: the population density (residents per square mile)\n",
    "- `votergap20`: Biden voting percentage minus Trump voting percentage in the 2020 election\n",
    "- `votergap16`: Clinton voting percentage minus Trump voting percentage in the 2016 election\n",
    "\n",
    "\n",
    "### Data Sources\n",
    "- Vaccinations [here](https://data.cdc.gov/Vaccinations/COVID-19-Vaccinations-in-the-United-States-County/8xkx-amqh).\n",
    "- Cases [here](https://github.com/nytimes/covid-19-data).\n",
    "- Mask Usage [here](https://github.com/nytimes/covid-19-data/tree/master/mask-use).\n",
    "- Demographics [here](https://www.ers.usda.gov/data-products/county-level-data-sets/) \n",
    "- 2020 Election [here](https://dataverse.harvard.edu/dataset.xhtml?persistentId=doi:10.7910/DVN/VOQCHQ)\n",
    "\n"
   ]
  },
  {
   "cell_type": "markdown",
   "metadata": {},
   "source": [
    "## Question 1 [25pts]: Data Wrangling and Explorations </b></div>\n",
    "\n",
    "**1.1** Load the data sets as follows:\n",
    "- 'covid_cases_county.csv' as `covid_raw` \n",
    "- 'vaccines_county.csv' as `vaccines_raw`\n",
    "- 'masks_county.csv' as `masks`\n",
    "- 'demographics_county.csv' as `demo` \n",
    "\n",
    "**1.2** Create a subset of the `covid_raw` data frame that only contains the measures for 5 dates: June 27 and July 4, 11, 18 and 25.  Do the same for the `vaccines_raw`.  Call these subsets `covid` and `vaccines`, respectively, and print out their dimensions (aka, shapes).\n",
    "\n",
    "**1.3** Determine and print the number of counties that are measured for each time period in `covid` and `vaccines` (do not print out the list of counties, just the number/count).  Comment on what this implies for presence of missing data.\n",
    "\n",
    "**1.4** Process both `covid` and `vaccines` so that each county is represented by a single row in each data frame (rather than having 5 separate rows for each county: 1 for each time period in part 1.2).  Call these new generate Pandas data frames `covid_by_county` and `vaccines_by_county` separately.  Print out the dimensions of each resulting data frame, and view the header of `covid_by_county`.  Note: you should use informative names for the columns in the resulting data frames: for example, `cases_w30` for the cumulative number of cases on July 25 (it's the 30th week of the calendar year).\n",
    "\n",
    "**Hint**: Splitting based on dates and then using `pd.DataFrame.merge` (source)[https://pandas.pydata.org/docs/reference/api/pandas.DataFrame.merge.html] could be helpful for this task using the `fips` code as the keys to join on (you should drop any counties that are not measured in all time periods...the default argument for `how` in `pd.DataFrame.merge` will behave this way).\n",
    "\n",
    "**1.5** Merge the 4 data fames (`covid_by_county`, `vaccines_by_county`, `masks`, and `demo`) based on `fips` and save the result as `covid_merged` (you should drop any counties that are not measured in all 4 data frames).  Determine and report how many counties were dropped from `demo` in this process, and view the header of `covid_merged`.\n",
    "\n",
    "**1.6** Use `covid_merged` to calculate the novel case rate (per 1000 residents) for each of the weeks for all of the counties, and save these as 4 new well-named variables in `covid_merged`.  For example, `rate_w30` can mathematically be represented as `1000*(cases_30-cases_29)/population`.  Plot the histogram of the novel case rate in week 29, `rate_w29`, and comment on what you notice.\n",
    "\n",
    "**1.7** We did the steps above (and some other minimal processing) and saved the results in `covid_clean.csv` for you.  Use this data file to answer some exploratory questions and all future analyses: \n",
    "\n",
    "1. Has the overall average case rate increased from week 28 (July 5-11) to week 29 (July 12-18)?  \n",
    "2. Treating the counties as separate and equal observations: in what states did the case rate increase the most?  In what states did the case rate decrease the most (or increse the least)?  List the top 5 for each.  Do you notice any patterns in these states?\n",
    "3. Create and interpret separate visuals to display how the country case rate in week 29 relates to each of the following variables. Interpret what you see (be specific to this domain).\n",
    "\n",
    "    a. The political views in the county (as measured by the votergap in the 2020 election).\n",
    "    \n",
    "    b. The vaccination rate in the county (for week 28) (be sure to throw away the zeros as these represent unreported values).\n",
    "    \n",
    "    c. The population density of the county.\n",
    "    \n",
    "    d. Whether 50% or more of the surveyed residents in the county report that they always wore a mask in public at the time of the survey."
   ]
  },
  {
   "cell_type": "markdown",
   "metadata": {},
   "source": [
    "## Answers"
   ]
  },
  {
   "cell_type": "markdown",
   "metadata": {},
   "source": [
    "**1.1** Load the data sets as follows:\n",
    "- 'covid_cases_county.csv' as `covid_raw` \n",
    "- 'vaccines_county.csv' as `vaccines_raw`\n",
    "- 'masks_county.csv' as `masks`\n",
    "- 'demographics_county.csv' as `demo` \n",
    "\n",
    "Print out each of their dimensions (aka, shapes)."
   ]
  },
  {
   "cell_type": "code",
   "execution_count": 2,
   "metadata": {},
   "outputs": [
    {
     "name": "stdout",
     "output_type": "stream",
     "text": [
      "6 total columns in covid_raw, and  97394 rows\n",
      "4 total columns in vaccines_raw 96720 rows\n",
      "6 total columns in vaccines_raw 3142 rows\n",
      "14 total columns in demo 3114 rows\n"
     ]
    }
   ],
   "source": [
    "# Load data\n",
    "covid_raw = pd.read_csv('data/covid_cases_county.csv')\n",
    "vaccines_raw = pd.read_csv('data/vaccines_county.csv')\n",
    "masks = pd.read_csv('data/masks_county.csv')\n",
    "demo = pd.read_csv('data/demographics_county.csv')\n",
    "\n",
    "# print shapes of the datasets\n",
    "print(covid_raw.shape[1],\"total columns in covid_raw, and \",covid_raw.shape[0],\"rows\")\n",
    "print(vaccines_raw.shape[1],\"total columns in vaccines_raw\",vaccines_raw.shape[0],\"rows\")\n",
    "print(masks.shape[1],\"total columns in vaccines_raw\",masks.shape[0],\"rows\")\n",
    "print(demo.shape[1],\"total columns in demo\",demo.shape[0],\"rows\")"
   ]
  },
  {
   "cell_type": "markdown",
   "metadata": {},
   "source": [
    "**1.2** Create a subset of the `covid_raw` data frame that only contains the measures for 5 dates: June 27 and July 4, 11, 18 and 25.  Do the same for the `vaccines_raw`.  Call these subsets `covid` and `vaccines`, respectively, and print out their dimensions (aka, shapes).\n"
   ]
  },
  {
   "cell_type": "code",
   "execution_count": 3,
   "metadata": {},
   "outputs": [
    {
     "data": {
      "text/html": [
       "<div>\n",
       "<style scoped>\n",
       "    .dataframe tbody tr th:only-of-type {\n",
       "        vertical-align: middle;\n",
       "    }\n",
       "\n",
       "    .dataframe tbody tr th {\n",
       "        vertical-align: top;\n",
       "    }\n",
       "\n",
       "    .dataframe thead th {\n",
       "        text-align: right;\n",
       "    }\n",
       "</style>\n",
       "<table border=\"1\" class=\"dataframe\">\n",
       "  <thead>\n",
       "    <tr style=\"text-align: right;\">\n",
       "      <th></th>\n",
       "      <th>date</th>\n",
       "      <th>county</th>\n",
       "      <th>state</th>\n",
       "      <th>fips</th>\n",
       "      <th>cases</th>\n",
       "      <th>deaths</th>\n",
       "    </tr>\n",
       "  </thead>\n",
       "  <tbody>\n",
       "    <tr>\n",
       "      <td>0</td>\n",
       "      <td>2021-01-03</td>\n",
       "      <td>Autauga</td>\n",
       "      <td>Alabama</td>\n",
       "      <td>1001.0</td>\n",
       "      <td>4305</td>\n",
       "      <td>50.0</td>\n",
       "    </tr>\n",
       "    <tr>\n",
       "      <td>1</td>\n",
       "      <td>2021-01-03</td>\n",
       "      <td>Baldwin</td>\n",
       "      <td>Alabama</td>\n",
       "      <td>1003.0</td>\n",
       "      <td>14064</td>\n",
       "      <td>169.0</td>\n",
       "    </tr>\n",
       "    <tr>\n",
       "      <td>2</td>\n",
       "      <td>2021-01-03</td>\n",
       "      <td>Barbour</td>\n",
       "      <td>Alabama</td>\n",
       "      <td>1005.0</td>\n",
       "      <td>1530</td>\n",
       "      <td>33.0</td>\n",
       "    </tr>\n",
       "    <tr>\n",
       "      <td>3</td>\n",
       "      <td>2021-01-03</td>\n",
       "      <td>Bibb</td>\n",
       "      <td>Alabama</td>\n",
       "      <td>1007.0</td>\n",
       "      <td>1882</td>\n",
       "      <td>46.0</td>\n",
       "    </tr>\n",
       "    <tr>\n",
       "      <td>4</td>\n",
       "      <td>2021-01-03</td>\n",
       "      <td>Blount</td>\n",
       "      <td>Alabama</td>\n",
       "      <td>1009.0</td>\n",
       "      <td>4746</td>\n",
       "      <td>63.0</td>\n",
       "    </tr>\n",
       "  </tbody>\n",
       "</table>\n",
       "</div>"
      ],
      "text/plain": [
       "         date   county    state    fips  cases  deaths\n",
       "0  2021-01-03  Autauga  Alabama  1001.0   4305    50.0\n",
       "1  2021-01-03  Baldwin  Alabama  1003.0  14064   169.0\n",
       "2  2021-01-03  Barbour  Alabama  1005.0   1530    33.0\n",
       "3  2021-01-03     Bibb  Alabama  1007.0   1882    46.0\n",
       "4  2021-01-03   Blount  Alabama  1009.0   4746    63.0"
      ]
     },
     "execution_count": 3,
     "metadata": {},
     "output_type": "execute_result"
    }
   ],
   "source": [
    "# take a look at the covid dataset\n",
    "covid_raw.head()"
   ]
  },
  {
   "cell_type": "code",
   "execution_count": 4,
   "metadata": {},
   "outputs": [
    {
     "name": "stdout",
     "output_type": "stream",
     "text": [
      "6 total columns in covid, and  16227 rows\n"
     ]
    }
   ],
   "source": [
    "# subset the covid dataset to selected dates\n",
    "covid = covid_raw.loc[\n",
    "    (covid_raw['date']=='2021-06-27') |\n",
    "    (covid_raw['date']=='2021-07-04') |\n",
    "    (covid_raw['date']=='2021-07-11') |\n",
    "    (covid_raw['date']=='2021-07-18') |\n",
    "    (covid_raw['date']=='2021-07-25')\n",
    "    , :]\n",
    "print(covid.shape[1],\"total columns in covid, and \",covid.shape[0],\"rows\")"
   ]
  },
  {
   "cell_type": "code",
   "execution_count": 5,
   "metadata": {},
   "outputs": [
    {
     "data": {
      "text/html": [
       "<div>\n",
       "<style scoped>\n",
       "    .dataframe tbody tr th:only-of-type {\n",
       "        vertical-align: middle;\n",
       "    }\n",
       "\n",
       "    .dataframe tbody tr th {\n",
       "        vertical-align: top;\n",
       "    }\n",
       "\n",
       "    .dataframe thead th {\n",
       "        text-align: right;\n",
       "    }\n",
       "</style>\n",
       "<table border=\"1\" class=\"dataframe\">\n",
       "  <thead>\n",
       "    <tr style=\"text-align: right;\">\n",
       "      <th></th>\n",
       "      <th>date</th>\n",
       "      <th>fips</th>\n",
       "      <th>fully</th>\n",
       "      <th>dose1</th>\n",
       "    </tr>\n",
       "  </thead>\n",
       "  <tbody>\n",
       "    <tr>\n",
       "      <td>0</td>\n",
       "      <td>2021-07-25</td>\n",
       "      <td>1001</td>\n",
       "      <td>26.0</td>\n",
       "      <td>34.0</td>\n",
       "    </tr>\n",
       "    <tr>\n",
       "      <td>1</td>\n",
       "      <td>2021-07-25</td>\n",
       "      <td>1003</td>\n",
       "      <td>31.4</td>\n",
       "      <td>40.5</td>\n",
       "    </tr>\n",
       "    <tr>\n",
       "      <td>2</td>\n",
       "      <td>2021-07-25</td>\n",
       "      <td>1005</td>\n",
       "      <td>27.6</td>\n",
       "      <td>34.3</td>\n",
       "    </tr>\n",
       "    <tr>\n",
       "      <td>3</td>\n",
       "      <td>2021-07-25</td>\n",
       "      <td>1007</td>\n",
       "      <td>22.5</td>\n",
       "      <td>29.4</td>\n",
       "    </tr>\n",
       "    <tr>\n",
       "      <td>4</td>\n",
       "      <td>2021-07-25</td>\n",
       "      <td>1009</td>\n",
       "      <td>19.3</td>\n",
       "      <td>24.2</td>\n",
       "    </tr>\n",
       "  </tbody>\n",
       "</table>\n",
       "</div>"
      ],
      "text/plain": [
       "         date  fips  fully  dose1\n",
       "0  2021-07-25  1001   26.0   34.0\n",
       "1  2021-07-25  1003   31.4   40.5\n",
       "2  2021-07-25  1005   27.6   34.3\n",
       "3  2021-07-25  1007   22.5   29.4\n",
       "4  2021-07-25  1009   19.3   24.2"
      ]
     },
     "execution_count": 5,
     "metadata": {},
     "output_type": "execute_result"
    }
   ],
   "source": [
    "# take a look at the vaccine dataset\n",
    "vaccines_raw.head()"
   ]
  },
  {
   "cell_type": "code",
   "execution_count": 6,
   "metadata": {},
   "outputs": [
    {
     "name": "stdout",
     "output_type": "stream",
     "text": [
      "4 total columns in vaccinces, and  16120 rows\n"
     ]
    }
   ],
   "source": [
    "# subset the vaccinces dataset to selected dates\n",
    "vaccines = vaccines_raw.loc[\n",
    "    (vaccines_raw['date']=='2021-06-27') |\n",
    "    (vaccines_raw['date']=='2021-07-04') |\n",
    "    (vaccines_raw['date']=='2021-07-11') |\n",
    "    (vaccines_raw['date']=='2021-07-18') |\n",
    "    (vaccines_raw['date']=='2021-07-25')\n",
    "    , :]\n",
    "print(vaccines.shape[1],\"total columns in vaccinces, and \",vaccines.shape[0],\"rows\")"
   ]
  },
  {
   "cell_type": "markdown",
   "metadata": {},
   "source": [
    "**1.3** Determine and print the number of counties that are measured for each time period in `covid` and `vaccines` (do not print out the list of counties, just the number/count).  Comment on what this implies for presence of missing data.\n"
   ]
  },
  {
   "cell_type": "code",
   "execution_count": 7,
   "metadata": {},
   "outputs": [
    {
     "name": "stdout",
     "output_type": "stream",
     "text": [
      "Number of counties per day in covid dataset:\n"
     ]
    },
    {
     "data": {
      "text/html": [
       "<div>\n",
       "<style scoped>\n",
       "    .dataframe tbody tr th:only-of-type {\n",
       "        vertical-align: middle;\n",
       "    }\n",
       "\n",
       "    .dataframe tbody tr th {\n",
       "        vertical-align: top;\n",
       "    }\n",
       "\n",
       "    .dataframe thead th {\n",
       "        text-align: right;\n",
       "    }\n",
       "</style>\n",
       "<table border=\"1\" class=\"dataframe\">\n",
       "  <thead>\n",
       "    <tr style=\"text-align: right;\">\n",
       "      <th></th>\n",
       "      <th>county</th>\n",
       "    </tr>\n",
       "    <tr>\n",
       "      <th>date</th>\n",
       "      <th></th>\n",
       "    </tr>\n",
       "  </thead>\n",
       "  <tbody>\n",
       "    <tr>\n",
       "      <td>2021-06-27</td>\n",
       "      <td>3245</td>\n",
       "    </tr>\n",
       "    <tr>\n",
       "      <td>2021-07-04</td>\n",
       "      <td>3245</td>\n",
       "    </tr>\n",
       "    <tr>\n",
       "      <td>2021-07-11</td>\n",
       "      <td>3245</td>\n",
       "    </tr>\n",
       "    <tr>\n",
       "      <td>2021-07-18</td>\n",
       "      <td>3246</td>\n",
       "    </tr>\n",
       "    <tr>\n",
       "      <td>2021-07-25</td>\n",
       "      <td>3246</td>\n",
       "    </tr>\n",
       "  </tbody>\n",
       "</table>\n",
       "</div>"
      ],
      "text/plain": [
       "            county\n",
       "date              \n",
       "2021-06-27    3245\n",
       "2021-07-04    3245\n",
       "2021-07-11    3245\n",
       "2021-07-18    3246\n",
       "2021-07-25    3246"
      ]
     },
     "execution_count": 7,
     "metadata": {},
     "output_type": "execute_result"
    }
   ],
   "source": [
    "# count the number of counties per day in the covid dataset\n",
    "counties_by_day = covid.groupby('date').agg({'county': 'count',})\n",
    "print(\"Number of counties per day in covid dataset:\")\n",
    "counties_by_day.head()"
   ]
  },
  {
   "cell_type": "markdown",
   "metadata": {},
   "source": [
    "**Comment:** Not all days have the same number of counties. It seems some days have no data for some counties (i.e. missing data)."
   ]
  },
  {
   "cell_type": "code",
   "execution_count": 8,
   "metadata": {},
   "outputs": [
    {
     "name": "stdout",
     "output_type": "stream",
     "text": [
      "Number of FIPS per day by county:\n",
      "                          fips\n",
      "date       county             \n",
      "2021-06-27 Joplin            0\n",
      "           Kansas City       0\n",
      "           New York City     0\n",
      "           Unknown           0\n",
      "2021-07-04 Joplin            0\n",
      "                      fips\n",
      "date       county         \n",
      "2021-06-27 Adair         4\n",
      "           Adams        12\n",
      "           Albany        2\n",
      "           Alexander     2\n",
      "           Allegany      2\n"
     ]
    }
   ],
   "source": [
    "# assess if there's a one-to-one relationships between counties and FIPS\n",
    "fips_by_day_by_county = covid.groupby(['date','county']).agg({'fips': 'count',})\n",
    "print(\"Number of FIPS per day by county:\")\n",
    "print(fips_by_day_by_county[fips_by_day_by_county['fips'] == 0].head())\n",
    "print(fips_by_day_by_county[fips_by_day_by_county['fips'] > 1].head())"
   ]
  },
  {
   "cell_type": "markdown",
   "metadata": {},
   "source": [
    "**Comment:** Some counties have no FIPS, and some counties have multiple FIPS."
   ]
  },
  {
   "cell_type": "code",
   "execution_count": 9,
   "metadata": {},
   "outputs": [
    {
     "name": "stdout",
     "output_type": "stream",
     "text": [
      "Number of the unique Federal Information Processing System (FIPS) codes for the county per day in covid dataset:\n"
     ]
    },
    {
     "data": {
      "text/html": [
       "<div>\n",
       "<style scoped>\n",
       "    .dataframe tbody tr th:only-of-type {\n",
       "        vertical-align: middle;\n",
       "    }\n",
       "\n",
       "    .dataframe tbody tr th {\n",
       "        vertical-align: top;\n",
       "    }\n",
       "\n",
       "    .dataframe thead th {\n",
       "        text-align: right;\n",
       "    }\n",
       "</style>\n",
       "<table border=\"1\" class=\"dataframe\">\n",
       "  <thead>\n",
       "    <tr style=\"text-align: right;\">\n",
       "      <th></th>\n",
       "      <th>fips</th>\n",
       "    </tr>\n",
       "    <tr>\n",
       "      <th>date</th>\n",
       "      <th></th>\n",
       "    </tr>\n",
       "  </thead>\n",
       "  <tbody>\n",
       "    <tr>\n",
       "      <td>2021-06-27</td>\n",
       "      <td>3218</td>\n",
       "    </tr>\n",
       "    <tr>\n",
       "      <td>2021-07-04</td>\n",
       "      <td>3218</td>\n",
       "    </tr>\n",
       "    <tr>\n",
       "      <td>2021-07-11</td>\n",
       "      <td>3218</td>\n",
       "    </tr>\n",
       "    <tr>\n",
       "      <td>2021-07-18</td>\n",
       "      <td>3218</td>\n",
       "    </tr>\n",
       "    <tr>\n",
       "      <td>2021-07-25</td>\n",
       "      <td>3218</td>\n",
       "    </tr>\n",
       "  </tbody>\n",
       "</table>\n",
       "</div>"
      ],
      "text/plain": [
       "            fips\n",
       "date            \n",
       "2021-06-27  3218\n",
       "2021-07-04  3218\n",
       "2021-07-11  3218\n",
       "2021-07-18  3218\n",
       "2021-07-25  3218"
      ]
     },
     "execution_count": 9,
     "metadata": {},
     "output_type": "execute_result"
    }
   ],
   "source": [
    "# count the number of counties per day in the covid dataset\n",
    "counties_by_day = covid.groupby('date').agg({'fips': 'count',})\n",
    "print(\"Number of the unique Federal Information Processing System (FIPS) codes for the county per day in covid dataset:\")\n",
    "counties_by_day.head()"
   ]
  },
  {
   "cell_type": "code",
   "execution_count": 10,
   "metadata": {},
   "outputs": [
    {
     "name": "stdout",
     "output_type": "stream",
     "text": [
      "Number of FIPS per day in vaccines dataset:\n"
     ]
    },
    {
     "data": {
      "text/html": [
       "<div>\n",
       "<style scoped>\n",
       "    .dataframe tbody tr th:only-of-type {\n",
       "        vertical-align: middle;\n",
       "    }\n",
       "\n",
       "    .dataframe tbody tr th {\n",
       "        vertical-align: top;\n",
       "    }\n",
       "\n",
       "    .dataframe thead th {\n",
       "        text-align: right;\n",
       "    }\n",
       "</style>\n",
       "<table border=\"1\" class=\"dataframe\">\n",
       "  <thead>\n",
       "    <tr style=\"text-align: right;\">\n",
       "      <th></th>\n",
       "      <th>fips</th>\n",
       "    </tr>\n",
       "    <tr>\n",
       "      <th>date</th>\n",
       "      <th></th>\n",
       "    </tr>\n",
       "  </thead>\n",
       "  <tbody>\n",
       "    <tr>\n",
       "      <td>2021-06-27</td>\n",
       "      <td>3224</td>\n",
       "    </tr>\n",
       "    <tr>\n",
       "      <td>2021-07-04</td>\n",
       "      <td>3224</td>\n",
       "    </tr>\n",
       "    <tr>\n",
       "      <td>2021-07-11</td>\n",
       "      <td>3224</td>\n",
       "    </tr>\n",
       "    <tr>\n",
       "      <td>2021-07-18</td>\n",
       "      <td>3224</td>\n",
       "    </tr>\n",
       "    <tr>\n",
       "      <td>2021-07-25</td>\n",
       "      <td>3224</td>\n",
       "    </tr>\n",
       "  </tbody>\n",
       "</table>\n",
       "</div>"
      ],
      "text/plain": [
       "            fips\n",
       "date            \n",
       "2021-06-27  3224\n",
       "2021-07-04  3224\n",
       "2021-07-11  3224\n",
       "2021-07-18  3224\n",
       "2021-07-25  3224"
      ]
     },
     "execution_count": 10,
     "metadata": {},
     "output_type": "execute_result"
    }
   ],
   "source": [
    "# count the number of FIPS per day in the vaccines dataset\n",
    "covid_fips_count_by_day = vaccines.groupby('date').agg({'fips': 'count',})\n",
    "print(\"Number of FIPS per day in vaccines dataset:\")\n",
    "covid_fips_count_by_day.head()"
   ]
  },
  {
   "cell_type": "markdown",
   "metadata": {},
   "source": [
    "**Comment:** We can observe missing data for counties and fips. Not all dates have the same number of counties in the covid dataset. The number of FIPS in the covid and vaccine datasets is also not identical. We'll need dilligence when merging the two datasets. Since some counties have no FIPS in the covid dataset, and since the vaccines dataset doesn't have county data, we will likely not be able to include the counties with missing FIPS in a vaccine analysis."
   ]
  },
  {
   "cell_type": "markdown",
   "metadata": {},
   "source": [
    "**1.4** Process both `covid` and `vaccines` so that each county is represented by a single row in each data frame (rather than having 5 separate rows for each county: 1 for each time period in part 1.2).  Call these new generate Pandas data frames `covid_by_county` and `vaccines_by_county` separately.  Print out the dimensions of each resulting data frame, and view the header of `covid_by_county`.  Note: you should use informative names for the columns in the resulting data frames: for example, `cases_w30` for the cumulative number of cases on July 25 (it's the 30th week of the calendar year).\n",
    "\n",
    "**Hint**: Splitting based on dates and then using `pd.DataFrame.merge` (source)[https://pandas.pydata.org/docs/reference/api/pandas.DataFrame.merge.html] could be helpful for this task using the `fips` code as the keys to join on (you should drop any counties that are not measured in all time periods...the default argument for `how` in `pd.DataFrame.merge` will behave this way).\n",
    "\n",
    "\n"
   ]
  },
  {
   "cell_type": "code",
   "execution_count": 11,
   "metadata": {},
   "outputs": [],
   "source": [
    "# turn the long format into a wide format\n",
    "# reset the index to repivot\n",
    "covid_by_county = covid.reset_index(level=0)\n",
    "# \n",
    "covid_by_county = covid_by_county.pivot_table(index=['fips'], columns='date',\n",
    "                    values=['cases', 'deaths'], aggfunc='sum', margins=False)"
   ]
  },
  {
   "cell_type": "code",
   "execution_count": 12,
   "metadata": {},
   "outputs": [],
   "source": [
    "# reformat the column names to one level\n",
    "# create a list of the new column names in the right order\n",
    "new_cols=[('{1} {0}'.format(*tup)) for tup in covid_by_county.columns]\n",
    "\n",
    "# assign it to the dataframe (assuming you named it pivoted\n",
    "covid_by_county.columns= new_cols\n",
    "\n",
    "# resort the index, so you get the columns in the order you specified\n",
    "covid_by_county = covid_by_county.sort_index(axis='columns')"
   ]
  },
  {
   "cell_type": "code",
   "execution_count": 13,
   "metadata": {},
   "outputs": [],
   "source": [
    "# rename the columns\n",
    "covid_by_county = covid_by_county.rename(columns = {'2021-06-27 cases': 'cases_w26', \n",
    "                          '2021-07-04 cases': 'cases_w27',\n",
    "                          '2021-07-11 cases': 'cases_w28',\n",
    "                          '2021-07-18 cases': 'cases_w29',\n",
    "                          '2021-07-25 cases': 'cases_w30',\n",
    "                          '2021-06-27 deaths': 'deaths_w26', \n",
    "                          '2021-07-04 deaths': 'deaths_w27',\n",
    "                          '2021-07-11 deaths': 'deaths_w28',\n",
    "                          '2021-07-18 deaths': 'deaths_w29',\n",
    "                          '2021-07-25 deaths': 'deaths_w30',\n",
    "                          }, inplace = False)"
   ]
  },
  {
   "cell_type": "code",
   "execution_count": 14,
   "metadata": {},
   "outputs": [
    {
     "data": {
      "text/html": [
       "<div>\n",
       "<style scoped>\n",
       "    .dataframe tbody tr th:only-of-type {\n",
       "        vertical-align: middle;\n",
       "    }\n",
       "\n",
       "    .dataframe tbody tr th {\n",
       "        vertical-align: top;\n",
       "    }\n",
       "\n",
       "    .dataframe thead th {\n",
       "        text-align: right;\n",
       "    }\n",
       "</style>\n",
       "<table border=\"1\" class=\"dataframe\">\n",
       "  <thead>\n",
       "    <tr style=\"text-align: right;\">\n",
       "      <th></th>\n",
       "      <th>cases_w26</th>\n",
       "      <th>deaths_w26</th>\n",
       "      <th>cases_w27</th>\n",
       "      <th>deaths_w27</th>\n",
       "      <th>cases_w28</th>\n",
       "      <th>deaths_w28</th>\n",
       "      <th>cases_w29</th>\n",
       "      <th>deaths_w29</th>\n",
       "      <th>cases_w30</th>\n",
       "      <th>deaths_w30</th>\n",
       "    </tr>\n",
       "    <tr>\n",
       "      <th>fips</th>\n",
       "      <th></th>\n",
       "      <th></th>\n",
       "      <th></th>\n",
       "      <th></th>\n",
       "      <th></th>\n",
       "      <th></th>\n",
       "      <th></th>\n",
       "      <th></th>\n",
       "      <th></th>\n",
       "      <th></th>\n",
       "    </tr>\n",
       "  </thead>\n",
       "  <tbody>\n",
       "    <tr>\n",
       "      <td>1001.0</td>\n",
       "      <td>7244</td>\n",
       "      <td>113.0</td>\n",
       "      <td>7262</td>\n",
       "      <td>113.0</td>\n",
       "      <td>7299</td>\n",
       "      <td>113.0</td>\n",
       "      <td>7347</td>\n",
       "      <td>113.0</td>\n",
       "      <td>7419</td>\n",
       "      <td>113.0</td>\n",
       "    </tr>\n",
       "    <tr>\n",
       "      <td>1003.0</td>\n",
       "      <td>21945</td>\n",
       "      <td>314.0</td>\n",
       "      <td>22043</td>\n",
       "      <td>315.0</td>\n",
       "      <td>22267</td>\n",
       "      <td>318.0</td>\n",
       "      <td>22802</td>\n",
       "      <td>323.0</td>\n",
       "      <td>23810</td>\n",
       "      <td>325.0</td>\n",
       "    </tr>\n",
       "    <tr>\n",
       "      <td>1005.0</td>\n",
       "      <td>2344</td>\n",
       "      <td>60.0</td>\n",
       "      <td>2347</td>\n",
       "      <td>60.0</td>\n",
       "      <td>2365</td>\n",
       "      <td>60.0</td>\n",
       "      <td>2394</td>\n",
       "      <td>60.0</td>\n",
       "      <td>2434</td>\n",
       "      <td>61.0</td>\n",
       "    </tr>\n",
       "    <tr>\n",
       "      <td>1007.0</td>\n",
       "      <td>2686</td>\n",
       "      <td>64.0</td>\n",
       "      <td>2693</td>\n",
       "      <td>64.0</td>\n",
       "      <td>2702</td>\n",
       "      <td>65.0</td>\n",
       "      <td>2727</td>\n",
       "      <td>65.0</td>\n",
       "      <td>2801</td>\n",
       "      <td>65.0</td>\n",
       "    </tr>\n",
       "    <tr>\n",
       "      <td>1009.0</td>\n",
       "      <td>6967</td>\n",
       "      <td>139.0</td>\n",
       "      <td>6988</td>\n",
       "      <td>139.0</td>\n",
       "      <td>7023</td>\n",
       "      <td>139.0</td>\n",
       "      <td>7099</td>\n",
       "      <td>139.0</td>\n",
       "      <td>7184</td>\n",
       "      <td>139.0</td>\n",
       "    </tr>\n",
       "  </tbody>\n",
       "</table>\n",
       "</div>"
      ],
      "text/plain": [
       "        cases_w26  deaths_w26  cases_w27  deaths_w27  cases_w28  deaths_w28  \\\n",
       "fips                                                                          \n",
       "1001.0       7244       113.0       7262       113.0       7299       113.0   \n",
       "1003.0      21945       314.0      22043       315.0      22267       318.0   \n",
       "1005.0       2344        60.0       2347        60.0       2365        60.0   \n",
       "1007.0       2686        64.0       2693        64.0       2702        65.0   \n",
       "1009.0       6967       139.0       6988       139.0       7023       139.0   \n",
       "\n",
       "        cases_w29  deaths_w29  cases_w30  deaths_w30  \n",
       "fips                                                  \n",
       "1001.0       7347       113.0       7419       113.0  \n",
       "1003.0      22802       323.0      23810       325.0  \n",
       "1005.0       2394        60.0       2434        61.0  \n",
       "1007.0       2727        65.0       2801        65.0  \n",
       "1009.0       7099       139.0       7184       139.0  "
      ]
     },
     "execution_count": 14,
     "metadata": {},
     "output_type": "execute_result"
    }
   ],
   "source": [
    "# check out the covid dataset\n",
    "covid_by_county.head()"
   ]
  },
  {
   "cell_type": "code",
   "execution_count": 15,
   "metadata": {},
   "outputs": [],
   "source": [
    "# retain the number of columns for future use\n",
    "nr_columns_covid_by_county = covid_by_county.shape[1]"
   ]
  },
  {
   "cell_type": "code",
   "execution_count": 16,
   "metadata": {},
   "outputs": [],
   "source": [
    "# turn the long format into a wide format\n",
    "# reset the index to repivot\n",
    "vaccines_by_county = vaccines.reset_index(level=0)\n",
    "# \n",
    "vaccines_by_county = vaccines_by_county.pivot_table(index=['fips'], columns='date',\n",
    "                    values=['fully', 'dose1'], aggfunc='sum', margins=False)"
   ]
  },
  {
   "cell_type": "code",
   "execution_count": 17,
   "metadata": {},
   "outputs": [],
   "source": [
    "# reformat the column names to one level\n",
    "# create a list of the new column names in the right order\n",
    "new_cols=[('{1} {0}'.format(*tup)) for tup in vaccines_by_county.columns]\n",
    "\n",
    "# assign it to the dataframe (assuming you named it pivoted\n",
    "vaccines_by_county.columns= new_cols\n",
    "\n",
    "# resort the index, so you get the columns in the order you specified\n",
    "vaccines_by_county = vaccines_by_county.sort_index(axis='columns')"
   ]
  },
  {
   "cell_type": "code",
   "execution_count": 18,
   "metadata": {},
   "outputs": [],
   "source": [
    "# rename the columns\n",
    "vaccines_by_county = vaccines_by_county.rename(columns = {\n",
    "                          '2021-06-27 fully': 'fully_w26', \n",
    "                          '2021-07-04 fully': 'fully_w27',\n",
    "                          '2021-07-11 fully': 'fully_w28',\n",
    "                          '2021-07-18 fully': 'fully_w29',\n",
    "                          '2021-07-25 fully': 'fully_w30',\n",
    "                          '2021-06-27 dose1': 'dose1_w26', \n",
    "                          '2021-07-04 dose1': 'dose1_w27',\n",
    "                          '2021-07-11 dose1': 'dose1_w28',\n",
    "                          '2021-07-18 dose1': 'dose1_w29',\n",
    "                          '2021-07-25 dose1': 'dose1_w30',\n",
    "                          }, inplace = False) "
   ]
  },
  {
   "cell_type": "code",
   "execution_count": 19,
   "metadata": {},
   "outputs": [],
   "source": [
    "# merge the data with an inner join to remove counties with missing data\n",
    "covid_and_vaccines_by_fips = covid_by_county.merge(vaccines_by_county, on=['fips'])\n",
    "\n",
    "# post merge, split the data back into separate datasets\n",
    "# this will allow both datasets to have an identical set of fips\n",
    "covid_by_county = covid_and_vaccines_by_fips.iloc[:,:nr_columns_covid_by_county]\n",
    "vaccines_by_county = covid_and_vaccines_by_fips.iloc[:,nr_columns_covid_by_county:]"
   ]
  },
  {
   "cell_type": "code",
   "execution_count": 20,
   "metadata": {},
   "outputs": [
    {
     "name": "stdout",
     "output_type": "stream",
     "text": [
      "10 total columns in covid_by_county, and  3214 rows\n",
      "10 total columns in vaccines_by_county 3214 rows\n"
     ]
    }
   ],
   "source": [
    "# check out the shape of the wide datasets\n",
    "print(covid_by_county.shape[1],\"total columns in covid_by_county, and \",covid_by_county.shape[0],\"rows\")\n",
    "print(vaccines_by_county.shape[1],\"total columns in vaccines_by_county\",vaccines_by_county.shape[0],\"rows\")"
   ]
  },
  {
   "cell_type": "code",
   "execution_count": 21,
   "metadata": {},
   "outputs": [
    {
     "data": {
      "text/html": [
       "<div>\n",
       "<style scoped>\n",
       "    .dataframe tbody tr th:only-of-type {\n",
       "        vertical-align: middle;\n",
       "    }\n",
       "\n",
       "    .dataframe tbody tr th {\n",
       "        vertical-align: top;\n",
       "    }\n",
       "\n",
       "    .dataframe thead th {\n",
       "        text-align: right;\n",
       "    }\n",
       "</style>\n",
       "<table border=\"1\" class=\"dataframe\">\n",
       "  <thead>\n",
       "    <tr style=\"text-align: right;\">\n",
       "      <th></th>\n",
       "      <th>cases_w26</th>\n",
       "      <th>deaths_w26</th>\n",
       "      <th>cases_w27</th>\n",
       "      <th>deaths_w27</th>\n",
       "      <th>cases_w28</th>\n",
       "      <th>deaths_w28</th>\n",
       "      <th>cases_w29</th>\n",
       "      <th>deaths_w29</th>\n",
       "      <th>cases_w30</th>\n",
       "      <th>deaths_w30</th>\n",
       "    </tr>\n",
       "    <tr>\n",
       "      <th>fips</th>\n",
       "      <th></th>\n",
       "      <th></th>\n",
       "      <th></th>\n",
       "      <th></th>\n",
       "      <th></th>\n",
       "      <th></th>\n",
       "      <th></th>\n",
       "      <th></th>\n",
       "      <th></th>\n",
       "      <th></th>\n",
       "    </tr>\n",
       "  </thead>\n",
       "  <tbody>\n",
       "    <tr>\n",
       "      <td>1001.0</td>\n",
       "      <td>7244</td>\n",
       "      <td>113.0</td>\n",
       "      <td>7262</td>\n",
       "      <td>113.0</td>\n",
       "      <td>7299</td>\n",
       "      <td>113.0</td>\n",
       "      <td>7347</td>\n",
       "      <td>113.0</td>\n",
       "      <td>7419</td>\n",
       "      <td>113.0</td>\n",
       "    </tr>\n",
       "    <tr>\n",
       "      <td>1003.0</td>\n",
       "      <td>21945</td>\n",
       "      <td>314.0</td>\n",
       "      <td>22043</td>\n",
       "      <td>315.0</td>\n",
       "      <td>22267</td>\n",
       "      <td>318.0</td>\n",
       "      <td>22802</td>\n",
       "      <td>323.0</td>\n",
       "      <td>23810</td>\n",
       "      <td>325.0</td>\n",
       "    </tr>\n",
       "    <tr>\n",
       "      <td>1005.0</td>\n",
       "      <td>2344</td>\n",
       "      <td>60.0</td>\n",
       "      <td>2347</td>\n",
       "      <td>60.0</td>\n",
       "      <td>2365</td>\n",
       "      <td>60.0</td>\n",
       "      <td>2394</td>\n",
       "      <td>60.0</td>\n",
       "      <td>2434</td>\n",
       "      <td>61.0</td>\n",
       "    </tr>\n",
       "    <tr>\n",
       "      <td>1007.0</td>\n",
       "      <td>2686</td>\n",
       "      <td>64.0</td>\n",
       "      <td>2693</td>\n",
       "      <td>64.0</td>\n",
       "      <td>2702</td>\n",
       "      <td>65.0</td>\n",
       "      <td>2727</td>\n",
       "      <td>65.0</td>\n",
       "      <td>2801</td>\n",
       "      <td>65.0</td>\n",
       "    </tr>\n",
       "    <tr>\n",
       "      <td>1009.0</td>\n",
       "      <td>6967</td>\n",
       "      <td>139.0</td>\n",
       "      <td>6988</td>\n",
       "      <td>139.0</td>\n",
       "      <td>7023</td>\n",
       "      <td>139.0</td>\n",
       "      <td>7099</td>\n",
       "      <td>139.0</td>\n",
       "      <td>7184</td>\n",
       "      <td>139.0</td>\n",
       "    </tr>\n",
       "  </tbody>\n",
       "</table>\n",
       "</div>"
      ],
      "text/plain": [
       "        cases_w26  deaths_w26  cases_w27  deaths_w27  cases_w28  deaths_w28  \\\n",
       "fips                                                                          \n",
       "1001.0       7244       113.0       7262       113.0       7299       113.0   \n",
       "1003.0      21945       314.0      22043       315.0      22267       318.0   \n",
       "1005.0       2344        60.0       2347        60.0       2365        60.0   \n",
       "1007.0       2686        64.0       2693        64.0       2702        65.0   \n",
       "1009.0       6967       139.0       6988       139.0       7023       139.0   \n",
       "\n",
       "        cases_w29  deaths_w29  cases_w30  deaths_w30  \n",
       "fips                                                  \n",
       "1001.0       7347       113.0       7419       113.0  \n",
       "1003.0      22802       323.0      23810       325.0  \n",
       "1005.0       2394        60.0       2434        61.0  \n",
       "1007.0       2727        65.0       2801        65.0  \n",
       "1009.0       7099       139.0       7184       139.0  "
      ]
     },
     "execution_count": 21,
     "metadata": {},
     "output_type": "execute_result"
    }
   ],
   "source": [
    "# inspect the covid data\n",
    "covid_by_county.head()"
   ]
  },
  {
   "cell_type": "markdown",
   "metadata": {},
   "source": [
    "**Comment:** As expected, some records were dropped as part of the merge. There are now 3214 rows, instead of 3218. The rows are identical as an inner join merge dropped records where no matching fips were found."
   ]
  },
  {
   "cell_type": "markdown",
   "metadata": {},
   "source": [
    "**1.5** Merge the 4 data fames (`covid_by_county`, `vaccines_by_county`, `masks`, and `demo`) based on `fips` and save the result as `covid_merged` (you should drop any counties that are not measured in all 4 data frames).  Determine and report how many counties were dropped from `demo` in this process, and view the header of `covid_merged`.\n",
    "\n"
   ]
  },
  {
   "cell_type": "code",
   "execution_count": 22,
   "metadata": {},
   "outputs": [
    {
     "name": "stdout",
     "output_type": "stream",
     "text": [
      "The number of records dropped from demo is: 6\n"
     ]
    }
   ],
   "source": [
    "# retain the original nr. of rows in demo\n",
    "demo_fips_cnt = demo.shape[0]\n",
    "\n",
    "# Merge the datasets\n",
    "covid_merged = covid_by_county.merge(vaccines_by_county, on=['fips'])\n",
    "covid_merged = covid_merged.merge(masks, on=['fips'])\n",
    "covid_merged = covid_merged.merge(demo, on=['fips'])\n",
    "print(\"The number of records dropped from demo is:\", demo_fips_cnt - covid_merged.shape[0])"
   ]
  },
  {
   "cell_type": "code",
   "execution_count": 23,
   "metadata": {},
   "outputs": [
    {
     "data": {
      "text/html": [
       "<div>\n",
       "<style scoped>\n",
       "    .dataframe tbody tr th:only-of-type {\n",
       "        vertical-align: middle;\n",
       "    }\n",
       "\n",
       "    .dataframe tbody tr th {\n",
       "        vertical-align: top;\n",
       "    }\n",
       "\n",
       "    .dataframe thead th {\n",
       "        text-align: right;\n",
       "    }\n",
       "</style>\n",
       "<table border=\"1\" class=\"dataframe\">\n",
       "  <thead>\n",
       "    <tr style=\"text-align: right;\">\n",
       "      <th></th>\n",
       "      <th>fips</th>\n",
       "      <th>cases_w26</th>\n",
       "      <th>deaths_w26</th>\n",
       "      <th>cases_w27</th>\n",
       "      <th>deaths_w27</th>\n",
       "      <th>cases_w28</th>\n",
       "      <th>deaths_w28</th>\n",
       "      <th>cases_w29</th>\n",
       "      <th>deaths_w29</th>\n",
       "      <th>cases_w30</th>\n",
       "      <th>...</th>\n",
       "      <th>female</th>\n",
       "      <th>unemployed</th>\n",
       "      <th>income</th>\n",
       "      <th>nodegree</th>\n",
       "      <th>bachelor</th>\n",
       "      <th>inactivity</th>\n",
       "      <th>obesity</th>\n",
       "      <th>density</th>\n",
       "      <th>votergap20</th>\n",
       "      <th>votergap16</th>\n",
       "    </tr>\n",
       "  </thead>\n",
       "  <tbody>\n",
       "    <tr>\n",
       "      <td>0</td>\n",
       "      <td>1001.0</td>\n",
       "      <td>7244</td>\n",
       "      <td>113.0</td>\n",
       "      <td>7262</td>\n",
       "      <td>113.0</td>\n",
       "      <td>7299</td>\n",
       "      <td>113.0</td>\n",
       "      <td>7347</td>\n",
       "      <td>113.0</td>\n",
       "      <td>7419</td>\n",
       "      <td>...</td>\n",
       "      <td>51.475</td>\n",
       "      <td>5.2</td>\n",
       "      <td>54.366</td>\n",
       "      <td>13.8</td>\n",
       "      <td>21.9</td>\n",
       "      <td>28.6</td>\n",
       "      <td>34.1</td>\n",
       "      <td>91.8</td>\n",
       "      <td>-44.418437</td>\n",
       "      <td>-49.479</td>\n",
       "    </tr>\n",
       "    <tr>\n",
       "      <td>1</td>\n",
       "      <td>1003.0</td>\n",
       "      <td>21945</td>\n",
       "      <td>314.0</td>\n",
       "      <td>22043</td>\n",
       "      <td>315.0</td>\n",
       "      <td>22267</td>\n",
       "      <td>318.0</td>\n",
       "      <td>22802</td>\n",
       "      <td>323.0</td>\n",
       "      <td>23810</td>\n",
       "      <td>...</td>\n",
       "      <td>51.261</td>\n",
       "      <td>5.5</td>\n",
       "      <td>49.626</td>\n",
       "      <td>11.0</td>\n",
       "      <td>28.6</td>\n",
       "      <td>22.3</td>\n",
       "      <td>27.4</td>\n",
       "      <td>114.6</td>\n",
       "      <td>-53.762343</td>\n",
       "      <td>-57.786</td>\n",
       "    </tr>\n",
       "    <tr>\n",
       "      <td>2</td>\n",
       "      <td>1005.0</td>\n",
       "      <td>2344</td>\n",
       "      <td>60.0</td>\n",
       "      <td>2347</td>\n",
       "      <td>60.0</td>\n",
       "      <td>2365</td>\n",
       "      <td>60.0</td>\n",
       "      <td>2394</td>\n",
       "      <td>60.0</td>\n",
       "      <td>2434</td>\n",
       "      <td>...</td>\n",
       "      <td>46.589</td>\n",
       "      <td>8.9</td>\n",
       "      <td>34.971</td>\n",
       "      <td>25.4</td>\n",
       "      <td>13.6</td>\n",
       "      <td>31.8</td>\n",
       "      <td>44.4</td>\n",
       "      <td>31.0</td>\n",
       "      <td>-7.663054</td>\n",
       "      <td>-5.611</td>\n",
       "    </tr>\n",
       "    <tr>\n",
       "      <td>3</td>\n",
       "      <td>1007.0</td>\n",
       "      <td>2686</td>\n",
       "      <td>64.0</td>\n",
       "      <td>2693</td>\n",
       "      <td>64.0</td>\n",
       "      <td>2702</td>\n",
       "      <td>65.0</td>\n",
       "      <td>2727</td>\n",
       "      <td>65.0</td>\n",
       "      <td>2801</td>\n",
       "      <td>...</td>\n",
       "      <td>46.110</td>\n",
       "      <td>6.6</td>\n",
       "      <td>39.546</td>\n",
       "      <td>22.1</td>\n",
       "      <td>10.2</td>\n",
       "      <td>33.9</td>\n",
       "      <td>40.3</td>\n",
       "      <td>36.8</td>\n",
       "      <td>-57.727983</td>\n",
       "      <td>-55.544</td>\n",
       "    </tr>\n",
       "    <tr>\n",
       "      <td>4</td>\n",
       "      <td>1009.0</td>\n",
       "      <td>6967</td>\n",
       "      <td>139.0</td>\n",
       "      <td>6988</td>\n",
       "      <td>139.0</td>\n",
       "      <td>7023</td>\n",
       "      <td>139.0</td>\n",
       "      <td>7099</td>\n",
       "      <td>139.0</td>\n",
       "      <td>7184</td>\n",
       "      <td>...</td>\n",
       "      <td>50.592</td>\n",
       "      <td>5.4</td>\n",
       "      <td>45.567</td>\n",
       "      <td>21.9</td>\n",
       "      <td>12.3</td>\n",
       "      <td>28.0</td>\n",
       "      <td>34.6</td>\n",
       "      <td>88.9</td>\n",
       "      <td>-80.002175</td>\n",
       "      <td>-81.382</td>\n",
       "    </tr>\n",
       "  </tbody>\n",
       "</table>\n",
       "<p>5 rows × 39 columns</p>\n",
       "</div>"
      ],
      "text/plain": [
       "     fips  cases_w26  deaths_w26  cases_w27  deaths_w27  cases_w28  \\\n",
       "0  1001.0       7244       113.0       7262       113.0       7299   \n",
       "1  1003.0      21945       314.0      22043       315.0      22267   \n",
       "2  1005.0       2344        60.0       2347        60.0       2365   \n",
       "3  1007.0       2686        64.0       2693        64.0       2702   \n",
       "4  1009.0       6967       139.0       6988       139.0       7023   \n",
       "\n",
       "   deaths_w28  cases_w29  deaths_w29  cases_w30  ...  female  unemployed  \\\n",
       "0       113.0       7347       113.0       7419  ...  51.475         5.2   \n",
       "1       318.0      22802       323.0      23810  ...  51.261         5.5   \n",
       "2        60.0       2394        60.0       2434  ...  46.589         8.9   \n",
       "3        65.0       2727        65.0       2801  ...  46.110         6.6   \n",
       "4       139.0       7099       139.0       7184  ...  50.592         5.4   \n",
       "\n",
       "   income  nodegree  bachelor  inactivity  obesity  density  votergap20  \\\n",
       "0  54.366      13.8      21.9        28.6     34.1     91.8  -44.418437   \n",
       "1  49.626      11.0      28.6        22.3     27.4    114.6  -53.762343   \n",
       "2  34.971      25.4      13.6        31.8     44.4     31.0   -7.663054   \n",
       "3  39.546      22.1      10.2        33.9     40.3     36.8  -57.727983   \n",
       "4  45.567      21.9      12.3        28.0     34.6     88.9  -80.002175   \n",
       "\n",
       "   votergap16  \n",
       "0     -49.479  \n",
       "1     -57.786  \n",
       "2      -5.611  \n",
       "3     -55.544  \n",
       "4     -81.382  \n",
       "\n",
       "[5 rows x 39 columns]"
      ]
     },
     "execution_count": 23,
     "metadata": {},
     "output_type": "execute_result"
    }
   ],
   "source": [
    "covid_merged.head()"
   ]
  },
  {
   "cell_type": "markdown",
   "metadata": {},
   "source": [
    "**1.6** Use `covid_merged` to calculate the novel case rate (per 1000 residents) for each of the weeks for all of the counties, and save these as 4 new well-named variables in `covid_merged`.  For example, `rate_w30` can mathematically be represented as `1000*(cases_30-cases_29)/population`.  Plot the histogram of the novel case rate in week 29, July 12-18, `rate_w29`, and comment on what you notice.\n",
    "\n"
   ]
  },
  {
   "cell_type": "code",
   "execution_count": 50,
   "metadata": {},
   "outputs": [],
   "source": [
    "# calculate novel case rates\n",
    "covid_merged['novel_case_rate_w27'] = 1000*(covid_merged['cases_w27'] - \n",
    "                                           covid_merged['cases_w26']) / covid_merged['population']\n",
    "covid_merged['novel_case_rate_w28'] = 1000*(covid_merged['cases_w28'] - \n",
    "                                           covid_merged['cases_w27']) / covid_merged['population']\n",
    "covid_merged['novel_case_rate_w29'] = 1000*(covid_merged['cases_w29'] - \n",
    "                                           covid_merged['cases_w28']) / covid_merged['population']\n",
    "covid_merged['novel_case_rate_w30'] = 1000*(covid_merged['cases_w30'] - \n",
    "                                           covid_merged['cases_w29']) / covid_merged['population']"
   ]
  },
  {
   "cell_type": "code",
   "execution_count": 55,
   "metadata": {},
   "outputs": [
    {
     "data": {
      "image/png": "[encoded data removed]",
      "text/plain": [
       "<Figure size 432x288 with 1 Axes>"
      ]
     },
     "metadata": {
      "needs_background": "light"
     },
     "output_type": "display_data"
    }
   ],
   "source": [
    "# show histograme for week 29\n",
    "novel_case_rate_w29_hist = plt.hist(covid_merged['novel_case_rate_w29'])\n",
    "plt.xlabel(\"Novel case rate per 1000 residents\")\n",
    "plt.ylabel(\"Number of counties\")\n",
    "plt.suptitle(\"Distribution of new cases per 1000 in week 29, by county\")\n",
    "plt.show()"
   ]
  },
  {
   "cell_type": "markdown",
   "metadata": {},
   "source": [
    "**Comment:** Most counties showed an increase of 1 or 2 cases per thousand in week 29. A few counties had more than 2, going up to 7 cases per 1000./"
   ]
  },
  {
   "cell_type": "markdown",
   "metadata": {},
   "source": [
    "**1.7** We did the steps above (and some other minimal processing) and saved the results in `covid_clean.csv` for you.  Use this data file to answer some exploratory questions and all future analyses: \n",
    "\n",
    "1. Has the overall average case rate increased from week 28 (July 5-11) to week 29 (July 12-18)?  \n",
    "2. Treating the counties as separate and equal observations: in what states did the case rate increase the most?  In what states did the case rate decrease the most (or increse the least)?  List the top 5 for each.  Do you notice any patterns in these states?\n",
    "3. Create and interpret separate visuals to display how the country case rate in week 29 relates to each of the following variables. Interpret what you see (be specific to this domain).\n",
    "\n",
    "    a. The political views in the county (as measured by the votergap in the 2020 election).\n",
    "    \n",
    "    b. The vaccination rate in the county (for week 28) (be sure to throw away the zeros as these represent unreported values).\n",
    "    \n",
    "    c. The population density of the county.\n",
    "    \n",
    "    d. Whether 50% or more of the surveyed residents in the county report that they always wore a mask in public at the time of the survey."
   ]
  },
  {
   "cell_type": "code",
   "execution_count": 25,
   "metadata": {},
   "outputs": [],
   "source": [
    "######\n",
    "# your code here\n",
    "#######"
   ]
  },
  {
   "cell_type": "markdown",
   "metadata": {},
   "source": [
    "*your answer here*"
   ]
  },
  {
   "cell_type": "markdown",
   "metadata": {},
   "source": [
    "---"
   ]
  },
  {
   "cell_type": "markdown",
   "metadata": {},
   "source": [
    "## Question 2 [35pts]: Regression modeling \n",
    "\n",
    "**2.1** Fit a linear regression model to predict `rate_w29` (which represent the rate of new cases in the week of July 12-18) from `rate_w28` (July 5-11). Report the 95% confidence intervals for the coefficients, and carefully interpret the coefficients (including their statistical significances).  What does this model suggest about whether the rate of COVID infection increased from week 28 to week 29?\n",
    "\n",
    "\n",
    "**2.2** Fit a linear regression model to predict `rate_w29` from `rate_w28` and `votergap20` along with the interaction between the two.  Interpret the coefficient estimates carefully (no need to mention significances).\n",
    "\n",
    "\n",
    "**2.3** Create a scatterplot of `rate_w29` vs. `rate_w28`.  Add 3 separate predicted lines from your model in 2.2 to this scatterplot: the predicted line from the model in 2.2 for counties...\n",
    "    1. where Biden was favored by 50 percentage points.\n",
    "    2. where Biden and Trump were equal\n",
    "    3. where Trump was favored by 50 percentage points.\n",
    "Interpret what you see.\n",
    "\n",
    "\n",
    "**2.4** Fit a linear regression model to assess the overall association of vaccination rate (`fully_w28`) on `rate_w29`.  Carefully interpret the results (including the statistical significance).  \n",
    "\n",
    "\n",
    "**2.5** Many counties have the value zero for `fully_w28` which really represents a missing/unreported value for vaccinationr rate.  Comment on the effect of ignoring this issue can have on the intepretations and inferences in the model in 2.4.  What would be a better way of handling this issue?\n",
    "\n",
    "\n",
    "**2.6** What factors could be confounded (whether mesured here or not) with the result seen in the model from 2.3 (list up to 3)?  Fit an appropriate linear model that controls for as many of these factors as possible (for those that are measured in this data set). Interpret the coefficient estimates from this model and compare to the results from 2.4.\n",
    "\n",
    "**2.7** What major issue could arise if you fit a model to predict `rate_w29` from `rate_w28` and `rate_w27` (or from `fully_w28` and `fully_w27`) in a linear regression model?  Suggest and explain the use of two different approaches to account for this: one approach should be based on modeling and one approach should be based on feature engineering/variable transformations (not PCA). \n",
    "\n",
    "**2.8** The test set has a response variable that is `rate_w30`.  How would you use your models to predict `rate_w29` in this section in order to predict `rate_w30` instead?  Explain.  What could go wrong in this modification?\n",
    "\n",
    "**Hint**: what should be the predictors to predict `rate_w30` instead of `rate_w29`? \n"
   ]
  },
  {
   "cell_type": "markdown",
   "metadata": {},
   "source": [
    "## Answers"
   ]
  },
  {
   "cell_type": "markdown",
   "metadata": {},
   "source": [
    "**2.1** Fit a linear regression model to predict `rate_w29` (which represent the rate of new cases in the week of July 12-18) from `rate_w28` (July 5-11). Report the 95% confidence intervals for the coefficients, and carefully interpret the coefficients (including their statistical significances).  What does this model suggest about whether the rate of COVID infection increased from week 28 to week 29?\n"
   ]
  },
  {
   "cell_type": "code",
   "execution_count": 26,
   "metadata": {},
   "outputs": [],
   "source": [
    "######\n",
    "# your code here\n",
    "######"
   ]
  },
  {
   "cell_type": "markdown",
   "metadata": {},
   "source": [
    "*your answer here*"
   ]
  },
  {
   "cell_type": "markdown",
   "metadata": {},
   "source": [
    "**2.2** Fit a linear regression model to predict `rate_w29` from `rate_w28` and `votergap20` along with the interaction between the two.  Interpret the coefficient estimates carefully (no need to mention significances).\n"
   ]
  },
  {
   "cell_type": "code",
   "execution_count": 27,
   "metadata": {},
   "outputs": [],
   "source": [
    "######\n",
    "# your code here\n",
    "######"
   ]
  },
  {
   "cell_type": "markdown",
   "metadata": {},
   "source": [
    "*your answer here*"
   ]
  },
  {
   "cell_type": "markdown",
   "metadata": {},
   "source": [
    "**2.3** Create a scatterplot of `rate_w29` vs. `rate_w28`.  Add 3 separate predicted lines from your model in 2.2 to this scatterplot: the predicted line from the model in 2.2 for counties...\n",
    "    1. where Biden was favored by 50 percentage points.\n",
    "    2. where Biden and Trump were equal\n",
    "    3. where Trump was favored by 50 percentage points.\n",
    "Interpret what you see.\n",
    "\n",
    "\n"
   ]
  },
  {
   "cell_type": "code",
   "execution_count": 28,
   "metadata": {},
   "outputs": [],
   "source": [
    "######\n",
    "# your code here\n",
    "######"
   ]
  },
  {
   "cell_type": "markdown",
   "metadata": {},
   "source": [
    "*your answer here*"
   ]
  },
  {
   "cell_type": "markdown",
   "metadata": {},
   "source": [
    "**2.4** Fit a linear regression model to assess the overall association of vaccination rate (`fully_w28`) on `rate_w29`.  Carefully interpret the results (including the statistical significance).  \n",
    "\n",
    "\n"
   ]
  },
  {
   "cell_type": "code",
   "execution_count": 29,
   "metadata": {},
   "outputs": [],
   "source": [
    "######\n",
    "# your code here\n",
    "######"
   ]
  },
  {
   "cell_type": "markdown",
   "metadata": {},
   "source": [
    "*your answer here*"
   ]
  },
  {
   "cell_type": "markdown",
   "metadata": {},
   "source": [
    "**2.5** Many counties have the value zero for `fully_w28` which really represents a missing/unreported value for vaccinationr rate.  Comment on the effect of ignoring this issue can have on the intepretations and inferences in the model in 2.4.  What would be a better way of handling this issue?\n",
    "\n",
    "\n"
   ]
  },
  {
   "cell_type": "markdown",
   "metadata": {},
   "source": [
    "*your answer here*"
   ]
  },
  {
   "cell_type": "markdown",
   "metadata": {},
   "source": [
    "**2.6** What factors could be confounded (whether mesured here or not) with the result seen in the model from 2.3 (list up to 3)?  Fit an appropriate linear model that controls for as many of these factors as possible (for those that are measured in this data set). Interpret the coefficient estimates from this model and compare to the results from 2.4.\n",
    "\n"
   ]
  },
  {
   "cell_type": "code",
   "execution_count": 30,
   "metadata": {},
   "outputs": [],
   "source": [
    "######\n",
    "# your code here\n",
    "######"
   ]
  },
  {
   "cell_type": "markdown",
   "metadata": {},
   "source": [
    "*your answer here*"
   ]
  },
  {
   "cell_type": "markdown",
   "metadata": {},
   "source": [
    "**2.7** What major issue could arise if you fit a model to predict `rate_w29` from `rate_w28` and `rate_w27` (or from `fully_w28` and `fully_w27`) in a linear regression model?  Suggest and explain the use of two different approaches to account for this: one approach should be based on modeling and one approach should be based on feature engineering/variable transformations (not PCA). \n",
    "\n"
   ]
  },
  {
   "cell_type": "markdown",
   "metadata": {},
   "source": [
    "*your answer here*"
   ]
  },
  {
   "cell_type": "markdown",
   "metadata": {},
   "source": [
    "**2.8** The test set has a response variable that is `rate_w30`.  How would you use your models to predict `rate_w29` in this section in order to predict `rate_w30` instead?  Explain.  What could go wrong in this modification?\n",
    "\n",
    "**Hint**: what should be the predictors to predict `rate_w30` instead of `rate_w29`? \n"
   ]
  },
  {
   "cell_type": "markdown",
   "metadata": {},
   "source": [
    "*your answer here*"
   ]
  },
  {
   "cell_type": "markdown",
   "metadata": {},
   "source": [
    "---"
   ]
  },
  {
   "cell_type": "markdown",
   "metadata": {},
   "source": [
    "## Question 3 [30pts]: Prediction modeling \n",
    "\n",
    "**3.1** Fit a well-tuned lasso model to predict `rate_w29` from the following set of predictors (along with all 2-way interactions among the main effects and all 2nd and 3rd order polynomial terms):\n",
    "\n",
    "`['rate_w28','rate_w27','dose1_w28','hispanic','minority','female','unemployed', 'income','nodegree','bachelor','inactivity','obesity','density','cancer','votergap20']`\n",
    "\n",
    "Report and explain the best choice of $\\lambda$ (a visual can help with this), your estimate of out-of-sample $R^2$, along with the number of coefficients that shrunk exactly to zero (or numerically zero) and the number that are non-zero.\n",
    "\n",
    "**3.2** Plot the trajectory curves of the main effects `['rate_w28','rate_w27','fully_w28','votergap20']` from this model: the estimates of the $\\beta$ coefficients as a function of $\\lambda$.  Interpret what you notice.\n",
    "\n",
    "**3.3** Fit a well-tuned random forest model to predict `rate_w29` from the predictors listed in 3.1.  Report your choice of the tuning parameters and briefly justify your choices (a visual or table may be helpful for this).  Provide an estimate of out-of-sample $R^2$.  Note: do not go to crazy with the number of options for the parameters you are tuning...choose a set of values that are reasonable.\n",
    "\n",
    "**3.4** Interpret the relationship between `rate_w29` and `dose1_w28` from the random forest model in 3.3.  Is there any evidence of interactive effects in this model involving `dose1_w28`?  How do you know?  Provide a reasonable visual (or a few visuals) to help you with these tasks and interpret what you see. \n",
    "\n",
    "**3.5** Fit a well-tuned boosting model to predict `rate_w29` from the predictors listed in 3.1.  Report your best choice of the tuning parameters and briefly justify your choice (a visual or table may be helpful for this).  Provide an estimate of out-of-sample $R^2$.  Note: again, do not go to crazy with the number of options for the parameters you are tuning...choose a set of values that are reasonable.\n",
    "\n",
    "**3.6** Improve upon your favorite/best predictive model from 3.1, 3.3, or 3.5, by including other provided feature, by doing feature engineering, or by doing variable removal/selection.  Explain your choices.  Provide an estimate of out-of-sample $R^2$. \n",
    "\n",
    "**3.7** Evaluate your models from 3.1, 3.3, 3.5, and 3.6 on the test set (this will take some work...refer back to 2.8) using $R^2$.  How do these model's $R^2$ in test compare to the out-of-sample $R^2$ when tuning?  Explain whether this is surprising or not?\n",
    "\n"
   ]
  },
  {
   "cell_type": "markdown",
   "metadata": {},
   "source": [
    "## Answers"
   ]
  },
  {
   "cell_type": "markdown",
   "metadata": {},
   "source": [
    "**3.1** Fit a well-tuned lasso model to predict `rate_w29` from the following set of predictors (along with all 2-way interactions among the main effects and all 2nd and 3rd order polynomial terms):\n",
    "\n",
    "`['rate_w28','rate_w27','dose1_w28','hispanic','minority','female','unemployed', 'income','nodegree','bachelor','inactivity','obesity','density','cancer','votergap20']`\n",
    "\n",
    "Report and explain the best choice of $\\lambda$ (a visual can help with this), your estimate of out-of-sample $R^2$, along with the number of coefficients that shrunk exactly to zero (or numerically zero) and the number that are non-zero.\n"
   ]
  },
  {
   "cell_type": "code",
   "execution_count": 31,
   "metadata": {},
   "outputs": [],
   "source": [
    "######\n",
    "# your code here\n",
    "######"
   ]
  },
  {
   "cell_type": "markdown",
   "metadata": {},
   "source": [
    "*your answer here*"
   ]
  },
  {
   "cell_type": "markdown",
   "metadata": {},
   "source": [
    "**3.2** Plot the trajectory curves of the main effects `['rate_w28','rate_w27','fully_w28','votergap20']` from this model: the estimates of the $\\beta$ coefficients as a function of $\\lambda$.  Interpret what you notice.\n"
   ]
  },
  {
   "cell_type": "code",
   "execution_count": 32,
   "metadata": {},
   "outputs": [],
   "source": [
    "######\n",
    "# your code here\n",
    "######"
   ]
  },
  {
   "cell_type": "markdown",
   "metadata": {},
   "source": [
    "*your answer here*"
   ]
  },
  {
   "cell_type": "markdown",
   "metadata": {},
   "source": [
    "**3.3** Fit a well-tuned random forest model to predict `rate_w29` from the predictors listed in 3.1.  Report your choice of the best tuning parameters and briefly justify your choice (a visual or table may be helpful for this).  Provide an estimate of out-of-sample $R^2$.  Note: do not go to crazy with the number of options for the parameters you are tuning...choose a set of values that are reasonable.\n"
   ]
  },
  {
   "cell_type": "code",
   "execution_count": 33,
   "metadata": {},
   "outputs": [],
   "source": [
    "######\n",
    "# your code here\n",
    "######"
   ]
  },
  {
   "cell_type": "markdown",
   "metadata": {},
   "source": [
    "*your answer here*"
   ]
  },
  {
   "cell_type": "markdown",
   "metadata": {},
   "source": [
    "**3.4** Interpret the relationship between `rate_w29` and `dose1_w28` from the random forest model in 3.3.  Is there any evidence of interactive effects in this model involving `dose1_w28`?  How do you know?  Provide a reasonable visual (or a few visuals) to help you with these tasks and interpret what you see. \n",
    "\n"
   ]
  },
  {
   "cell_type": "code",
   "execution_count": 34,
   "metadata": {},
   "outputs": [],
   "source": [
    "######\n",
    "# your code here\n",
    "######"
   ]
  },
  {
   "cell_type": "markdown",
   "metadata": {},
   "source": [
    "*your answer here*"
   ]
  },
  {
   "cell_type": "markdown",
   "metadata": {},
   "source": [
    "**3.5** Fit a well-tuned boosting model to predict `rate_w29` from the predictors listed in 3.1.  Report your best choice of the tuning parameters and briefly justify your choice (a visual or table may be helpful for this).  Provide an estimate of out-of-sample $R^2$.  Note: again, do not go to crazy with the number of options for the parameters you are tuning...choose a set of values that are reasonable.\n",
    "\n"
   ]
  },
  {
   "cell_type": "code",
   "execution_count": 35,
   "metadata": {},
   "outputs": [],
   "source": [
    "######\n",
    "# your code here\n",
    "######"
   ]
  },
  {
   "cell_type": "markdown",
   "metadata": {},
   "source": [
    "*your answer here*"
   ]
  },
  {
   "cell_type": "markdown",
   "metadata": {},
   "source": [
    "**3.6** Improve upon your favorite/best predictive model from 3.1, 3.3, or 3.5, by including other provided feature, by doing feature engineering, or by doing variable removal/selection.  Explain your choices.  Provide an estimate of out-of-sample $R^2$. \n",
    "\n"
   ]
  },
  {
   "cell_type": "code",
   "execution_count": 36,
   "metadata": {},
   "outputs": [],
   "source": [
    "######\n",
    "# your code here\n",
    "######"
   ]
  },
  {
   "cell_type": "markdown",
   "metadata": {},
   "source": [
    "*your answer here*"
   ]
  },
  {
   "cell_type": "markdown",
   "metadata": {},
   "source": [
    "**3.7** Evaluate your models from 3.1, 3.3, 3.5, and 3.6 on the test set (this will take some work...refer back to 2.8) using $R^2$.  How do these model's $R^2$ in test compare to the out-of-sample $R^2$ when tuning?  Explain whether this is surprising or not?"
   ]
  },
  {
   "cell_type": "code",
   "execution_count": 37,
   "metadata": {},
   "outputs": [],
   "source": [
    "######\n",
    "# your code here\n",
    "######"
   ]
  },
  {
   "cell_type": "markdown",
   "metadata": {},
   "source": [
    "*your answer here*"
   ]
  },
  {
   "cell_type": "markdown",
   "metadata": {},
   "source": [
    "---"
   ]
  },
  {
   "cell_type": "markdown",
   "metadata": {},
   "source": [
    "## Question 4 [10pts]: Going further\n",
    "\n",
    "**4.1** Use all of the useable variables in `demo` and `masks` to create clusters of observations based on the $K$-means clustering approach.  Be sure to carefully select a reasonable choice for $K$.  Explain your choice (a visual may help with this).\n",
    "\n",
    "**4.2** Use your created clusters and incorporate them as predictor(s) into a linear regression model to assess whether the relationships you measured in the model from 2.6 depend on cluster type.  Comment on what you notice.  Determine whether out-of-sample $R^2$ has improved using this model (in comparison to the model from 2.6) based on 5-fold CV.\n",
    "\n",
    "**4.3: BONUS** Find data online to improve the prediction accuracy of your best model. Be sure to cite your source of your data and the approach you took into incorporating these new data.  Note: this is only worth up to 3 bonus points, so do not spend too much effor on this part over improving ealrier parts of the exam."
   ]
  },
  {
   "cell_type": "markdown",
   "metadata": {},
   "source": [
    "## Answers"
   ]
  },
  {
   "cell_type": "markdown",
   "metadata": {},
   "source": [
    "**4.1** Use all of the useable variables in `demo` and `masks` to create clusters of observations based on the $K$-means clustering approach.  Be sure to carefully select a reasonable choice for $K$.  Explain your choice (a visual may help with this)."
   ]
  },
  {
   "cell_type": "code",
   "execution_count": 38,
   "metadata": {},
   "outputs": [],
   "source": [
    "######\n",
    "# your code here\n",
    "######"
   ]
  },
  {
   "cell_type": "markdown",
   "metadata": {},
   "source": [
    "*your answer here*"
   ]
  },
  {
   "cell_type": "markdown",
   "metadata": {},
   "source": [
    "**4.2** Use your created clusters and incorporate them as predictor(s) into a linear regression model to assess whether the relationships you measured in the model from 2.6 depend on cluster type.  Comment on what you notice.  Determine whether out-of-sample $R^2$ has improved using this model (in comparison to the model from 2.6) based on 5-fold CV.\n"
   ]
  },
  {
   "cell_type": "code",
   "execution_count": 39,
   "metadata": {},
   "outputs": [],
   "source": [
    "######\n",
    "# your code here\n",
    "######"
   ]
  },
  {
   "cell_type": "markdown",
   "metadata": {},
   "source": [
    "*your answer here*"
   ]
  },
  {
   "cell_type": "markdown",
   "metadata": {},
   "source": [
    "**4.3: BONUS** Find data online to improve the prediction accuracy of your best model. Be sure to cite your source of your data and the approach you took into incorporating these new data.  Note: this is only worth up to 3 bonus points, so do not spend too much effor on this part over improving ealrier parts of the exam."
   ]
  },
  {
   "cell_type": "code",
   "execution_count": 40,
   "metadata": {},
   "outputs": [],
   "source": [
    "######\n",
    "# your code here\n",
    "######\n",
    "\n"
   ]
  },
  {
   "cell_type": "markdown",
   "metadata": {},
   "source": [
    "*your answer here*"
   ]
  }
 ],
 "metadata": {
  "anaconda-cloud": {},
  "kernelspec": {
   "display_name": "Python 3",
   "language": "python",
   "name": "python3"
  },
  "language_info": {
   "codemirror_mode": {
    "name": "ipython",
    "version": 3
   },
   "file_extension": ".py",
   "mimetype": "text/x-python",
   "name": "python",
   "nbconvert_exporter": "python",
   "pygments_lexer": "ipython3",
   "version": "3.7.4"
  }
 },
 "nbformat": 4,
 "nbformat_minor": 2
}
