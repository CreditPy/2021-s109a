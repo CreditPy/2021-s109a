{
 "cells": [
  {
   "cell_type": "markdown",
   "metadata": {},
   "source": [
    "<h1 style=\"padding-top: 25px;padding-bottom: 25px;text-align: left; padding-left: 10px; background-color: #DDDDDD; \n",
    "    color: black;\"> <img style=\"float: left; padding-right: 10px; width: 45px\" src=\"https://github.com/Harvard-IACS/2021-s109a/blob/master/lectures/crest.png?raw=true\"> CS S109A: Introduction to Data Science </h1>\n",
    "\n",
    "## Homework 1: Data Collection - Web Scraping - Data Parsing\n",
    "\n",
    "**Harvard University**<br/>\n",
    "**Summer 2021**<br/>\n",
    "**Instructor**: Kevin Rader\n",
    "\n",
    "\n",
    "\n",
    "<hr style='height:2px'>"
   ]
  },
  {
   "cell_type": "code",
   "execution_count": 1,
   "metadata": {},
   "outputs": [
    {
     "data": {
      "text/html": [
       "<style>\n",
       "blockquote { background: #AEDE94; }\n",
       "h1 { \n",
       "    padding-top: 25px;\n",
       "    padding-bottom: 25px;\n",
       "    text-align: left; \n",
       "    padding-left: 10px;\n",
       "    background-color: #DDDDDD; \n",
       "    color: black;\n",
       "}\n",
       "h2 { \n",
       "    padding-top: 10px;\n",
       "    padding-bottom: 10px;\n",
       "    text-align: left; \n",
       "    padding-left: 5px;\n",
       "    background-color: #EEEEEE; \n",
       "    color: black;\n",
       "}\n",
       "\n",
       "div.exercise {\n",
       "\tbackground-color: #ffcccc;\n",
       "\tborder-color: #E9967A; \t\n",
       "\tborder-left: 5px solid #800080; \n",
       "\tpadding: 0.5em;\n",
       "}\n",
       "\n",
       "div.exercise-r {\n",
       "\tbackground-color: #fce8e8;\n",
       "\tborder-color: #E9967A; \t\n",
       "\tborder-left: 5px solid #800080; \n",
       "\tpadding: 0.5em;\n",
       "}\n",
       "\n",
       "\n",
       "span.sub-q {\n",
       "\tfont-weight: bold;\n",
       "}\n",
       "div.theme {\n",
       "\tbackground-color: #DDDDDD;\n",
       "\tborder-color: #E9967A; \t\n",
       "\tborder-left: 5px solid #800080; \n",
       "\tpadding: 0.5em;\n",
       "\tfont-size: 18pt;\n",
       "}\n",
       "div.gc { \n",
       "\tbackground-color: #AEDE94;\n",
       "\tborder-color: #E9967A; \t \n",
       "\tborder-left: 5px solid #800080; \n",
       "\tpadding: 0.5em;\n",
       "\tfont-size: 12pt;\n",
       "}\n",
       "p.q1 { \n",
       "    padding-top: 5px;\n",
       "    padding-bottom: 5px;\n",
       "    text-align: left; \n",
       "    padding-left: 5px;\n",
       "    background-color: #EEEEEE; \n",
       "    color: black;\n",
       "}\n",
       "header {\n",
       "   padding-top: 35px;\n",
       "    padding-bottom: 35px;\n",
       "    text-align: left; \n",
       "    padding-left: 10px;\n",
       "    background-color: #DDDDDD; \n",
       "    color: black;\n",
       "}\n",
       "</style>\n",
       "\n"
      ],
      "text/plain": [
       "<IPython.core.display.HTML object>"
      ]
     },
     "execution_count": 1,
     "metadata": {},
     "output_type": "execute_result"
    }
   ],
   "source": [
    "## RUN THIS CELL TO GET THE RIGHT FORMATTING \n",
    "import requests\n",
    "from IPython.core.display import HTML\n",
    "styles = requests.get(\"https://raw.githubusercontent.com/Harvard-IACS/2018-CS109A/master/content/styles/cs109.css\").text\n",
    "HTML(styles)"
   ]
  },
  {
   "cell_type": "markdown",
   "metadata": {},
   "source": [
    "<div class='exercise'><b>Instructions</b></div>\n",
    "- To submit your assignment follow the instructions given in Canvas.\n",
    "- The deliverables to be submitted in Canvas are: <br/>\n",
    "    a) this python notebook with your code and answers<br/>\n",
    "    b) the bibtex file, `publist.bib`, you created<br/>\n",
    "    c) the CSV file, `publist.csv`, you created <br/>\n",
    "    d) The JSON file, `publist.json` you created<br/>\n",
    "    \n",
    "- Exercise **responsible scraping**. Web servers can become slow or unresponsive if they receive too many requests from the same source in a short amount of time. Use a delay of several seconds between requests in your code. This helps to prevent you from getting blocked by the target website. Run the webpage fetching part of the homework only once and do not re-run after you have saved the results in the JSON file (details below). \n",
    "- Web scraping requests can take several minutes. This is another reason why you should not wait until the last minute to do this homework.\n",
    "\n",
    "\n",
    "\n",
    "# Data Collection - Web Scraping - Data Parsing \n",
    " \n",
    "\n",
    "In this homework, your goal is to learn how to acquire, parse, clean, and analyze data. Initially you will read the data from a file, and then later scrape them directly from a website. You will look for specific pieces of information by parsing the data, clean the data to prepare them for analysis, and finally, answer some questions.\n",
    "\n",
    "In doing so you will get more familiar with three of the common file formats for storing and transferring data, which are:\n",
    "- CSV, a text-based file format used for storing tabular data that are separated by some delimiter, usually comma or space.\n",
    "- HTML/XML.\n",
    "- JavaScript Object Notation (JSON), a text-based open standard designed for transmitting structured data over the web."
   ]
  },
  {
   "cell_type": "code",
   "execution_count": 2,
   "metadata": {},
   "outputs": [],
   "source": [
    "# import the necessary libraries\n",
    "import matplotlib as mpl\n",
    "import matplotlib.cm as cm\n",
    "import matplotlib.pyplot as plt\n",
    "import numpy as np\n",
    "import pandas as pd\n",
    "import seaborn as sns\n",
    "import scipy as sp\n",
    "import time\n",
    "pd.set_option('display.width', 500)\n",
    "pd.set_option('display.max_columns', 100)\n",
    "pd.set_option('display.notebook_repr_html', True)\n",
    "%matplotlib inline"
   ]
  },
  {
   "cell_type": "markdown",
   "metadata": {},
   "source": [
    "## Help a professor parse their publications and extract information.\n",
    "\n",
    "### Overview\n",
    "\n",
    "In this part your goal is to parse the HTML page of a professor containing some of his/her publications, and answer some questions. This page is provided to you in the file `data/publist_super_clean.html`. There are 45 publications in descending order from No. 244 to No. 200.\n"
   ]
  },
  {
   "cell_type": "code",
   "execution_count": 3,
   "metadata": {},
   "outputs": [],
   "source": [
    "# use this file \n",
    "PUB_FILEPATH = 'data/publist_super_clean.html'"
   ]
  },
  {
   "cell_type": "markdown",
   "metadata": {},
   "source": [
    "<div class='exercise'><b> Question 1 [35 pts]: Parsing and Converting to bibTex and CSV using Beautiful Soup and python string manipulation </b></div>\n",
    "\n",
    "A lot of the bibliographic and publication information is displayed in various websites in a not-so-structured HTML files. Some publishers prefer to store and transmit this information in a .bibTex file which looks roughly like this (we've simplified a few things):\n",
    "```\n",
    "@article { \n",
    "     author = \"John Doyle\",\n",
    "     title = \"Interaction between atoms\",\n",
    "     URL = \"Papers/PhysRevB_81_085406_2010.pdf\",\n",
    "     journal = \"Phys. Rev. B\",\n",
    "     volume = \"81\"\n",
    "}\n",
    "```\n",
    "You will notice that this file format is a set of items, each of which is a set of key-value pairs. In the python world, you can think of this as a list of dictionaries.\n",
    "Each line is an item, and has multiple features, or keys, as represented by that line's value for the column corresponding to the key.\n",
    "\n",
    "You are given an .html file containing a list of papers scraped from the author's website and you are to write the information into .bibTex and .CSV formats. A useful tool for parsing HTML is BeautifulSoup  (http://www.crummy.com/software/BeautifulSoup/) (BS).\n",
    "\n",
    "**1.1 [5 pts]** Write a function called `make_soup` that accepts `filename` for the HTML filename as an input and returns a BS object.\n",
    "    \n",
    "**1.2 [20 pts]** Write a function that reads in the BS object, parses it, and converts it into a list of dictionaries.  Each element of this list should cerrespond to one paper and should have the following format (with different values for each publication):\n",
    "```\n",
    "{'author': 'L.A. Agapito, N. Kioussis and E. Kaxiras',\n",
    " 'title': 'Electric-field control of magnetism in graphene quantum dots:\\n Ab initio calculations',\n",
    " 'URL': 'Papers/PhysRevB_82_201411_2010.pdf',\n",
    " 'journal': 'Phys. Rev. B',\n",
    " 'volume': '82'}\n",
    "```\n",
    "\n",
    "\n",
    "**1.3 [5 pts]** Convert the list of dictionaries into standard .bibTex format using python string manipulation, and write the results into a file called `publist.bib`.\n",
    "\n",
    "**1.4 [5 pts]** Convert the list of dictionaries into standard tabular .csv format using pandas, and write the results into a file called `publist.csv`. The csv file should have a header and no integer index.\n",
    "\n",
    "    \n",
    "#### HINT \n",
    "- Inspect the HTML code for tags that indicate information chunks such as `title` of the paper.  BeautifulSoup's `find_all` method might be useful.\n",
    "- Question 1.2 is better handled if you break the code into functions, each performing a small task such as finding the author(s) for each paper. \n",
    "- Question 1.3 is effectively tackled by first using python string formatting on a template string.\n",
    "- Make sure you catch exceptions when needed. \n",
    "- Make sure you check for **missing data** and handle these cases as you see fit. \n",
    "\n",
    "\n",
    "#### Resources\n",
    "- [BeautifulSoup Tutorial](https://www.dataquest.io/blog/web-scraping-tutorial-python/).\n",
    "- More about the [BibTex format](http://www.bibtex.org).<BR>\n",
    "    \n",
    "### Answers "
   ]
  },
  {
   "cell_type": "code",
   "execution_count": 4,
   "metadata": {},
   "outputs": [],
   "source": [
    "# import the necessary libraries \n",
    "from bs4 import BeautifulSoup"
   ]
  },
  {
   "cell_type": "markdown",
   "metadata": {},
   "source": [
    " **1.1** Write a function called `make_soup` that accepts as input a string representing the path to an HTML file and returns a BS object.\n",
    "    "
   ]
  },
  {
   "cell_type": "code",
   "execution_count": 5,
   "metadata": {},
   "outputs": [],
   "source": [
    "import codecs\n",
    "def make_soup(file_path: str) -> BeautifulSoup: \n",
    "    '''Open the file and convert into a BS object. \n",
    "       \n",
    "       Args:\n",
    "           file_path: (str) path to an HTML file\n",
    "       \n",
    "       Returns:\n",
    "           A BS object containing the HTML page ready to be parsed.\n",
    "    '''\n",
    "    \n",
    "    file = codecs.open(file_path, 'r', 'utf-8')\n",
    "    document = BeautifulSoup(file.read())\n",
    "    \n",
    "    return document"
   ]
  },
  {
   "cell_type": "code",
   "execution_count": 6,
   "metadata": {
    "scrolled": true
   },
   "outputs": [],
   "source": [
    "# check your code - print the BS object returned by `make_soup()`\n",
    "# you should get a familiar HTML page as text (please enable scrolling on the output)\n",
    "soup = make_soup(PUB_FILEPATH)\n",
    "# print(soup)"
   ]
  },
  {
   "cell_type": "markdown",
   "metadata": {},
   "source": [
    "Your output should look **like** this:\n",
    "```\n",
    "<!DOCTYPE HTML PUBLIC \"-//W3C//DTD HTML 4.01 Transitional//EN\"\n",
    "   \"http://www.w3.org/TR/html4/loose.dtd\">\n",
    "\n",
    "<title>Kaxiras E journal publications</title>\n",
    "<head>\n",
    "<meta content=\"text/html;charset=utf-8\" http-equiv=\"Content-Type\"/>\n",
    "<link href=\"../styles/style_pubs.css\" rel=\"stylesheet\" type=\"text/css\"/>\n",
    "<meta content=\"\" name=\"description\"/>\n",
    "<meta content=\"Kaxiras E, Multiscale Methods, Computational Materials\" name=\"keywords\"/>\n",
    "</head>\n",
    "<body>\n",
    "<ol start=\"244\">\n",
    "<li>\n",
    "<a href=\"Papers/2011/PhysRevB_84_125411_2011.pdf\" target=\"paper244\">\n",
    "\"Approaching the intrinsic band gap in suspended high-mobility graphene nanoribbons\"</a>\n",
    "<br/>Ming-Wei Lin, Cheng Ling, Luis A. Agapito, Nicholas Kioussis, Yiyang Zhang, Mark Ming-Cheng Cheng,\n",
    "<i>PHYSICAL REVIEW B </i> <b>84</b>,  125411 (2011)\n",
    "<br/>\n",
    "</li>\n",
    "</ol>\n",
    "<ol start=\"243\">\n",
    "<li>\n",
    "<a href=\"Papers/2011/PhysRevB_84_035325_2011.pdf\" target=\"paper243\">\n",
    "\"Effect of symmetry breaking on the optical absorption of semiconductor nanoparticles\"</a>\n",
    "<br/>JAdam Gali, Efthimios Kaxiras, Gergely T. Zimanyi, Sheng Meng,\n",
    "<i>PHYSICAL REVIEW B </i> <b>84</b>,  035325 (2011)\n",
    "<br/>\n",
    "</li>\n",
    "</ol>\n",
    "\n",
    "...\n",
    "\n",
    "```"
   ]
  },
  {
   "cell_type": "markdown",
   "metadata": {},
   "source": [
    "**1.2** Write a function that reads in the BS object, parses it, and converts it into a list of dictionaries.  Each element of this list should correspond to one paper and should have the following format (with different values for each publication):\n",
    "```\n",
    "{'author': 'L.A. Agapito, N. Kioussis and E. Kaxiras',\n",
    " 'title': 'Electric-field control of magnetism in graphene quantum dots:\\n Ab initio calculations',\n",
    " 'URL': 'Papers/PhysRevB_82_201411_2010.pdf',\n",
    " 'journal': 'Phys. Rev. B',\n",
    " 'volume': '82'}\n",
    "```"
   ]
  },
  {
   "cell_type": "code",
   "execution_count": 7,
   "metadata": {
    "scrolled": true
   },
   "outputs": [],
   "source": [
    "# your code here \n",
    "import codecs\n",
    "def bs_to_author_list(soup: BeautifulSoup) -> list: \n",
    "    '''Takes a BS object and converts into a list of dict of authors and attributes. \n",
    "       \n",
    "       Args:\n",
    "           soup: (BeautifulSoup) a BS object\n",
    "       \n",
    "       Returns:\n",
    "           A dict of authors.\n",
    "    '''\n",
    "\n",
    "    link_list = []\n",
    "    authors = {}\n",
    "    \n",
    "    tags = soup.find_all('li')\n",
    "    for tag in tags:\n",
    "        url = tag.find_all('a')[0].attrs['href']\n",
    "        journal = tag.find_all('i')[0].text\n",
    "        volume = '' \n",
    "        if len(tag.find_all('b')) > 0:\n",
    "            volume = tag.find_all('b')[0].text\n",
    "        title = tag.find_all('a')[0].text\n",
    "        author = tag.text.split(title)[1].splitlines()[0]\n",
    "        if len(author) < 1:\n",
    "            author = tag.text.split(title)[1].splitlines()[1]\n",
    "        link_list.append({'author':author.strip(), 'title': title.strip(), 'URL': url.strip(), \n",
    "                          'journal': journal.strip(), 'volume': volume.strip()})\n",
    "    \n",
    "    return link_list"
   ]
  },
  {
   "cell_type": "code",
   "execution_count": 153,
   "metadata": {},
   "outputs": [
    {
     "data": {
      "text/plain": [
       "{'author': 'Ming-Wei Lin, Cheng Ling, Luis A. Agapito, Nicholas Kioussis, Yiyang Zhang, Mark Ming-Cheng Cheng,',\n",
       " 'title': '\"Approaching the intrinsic band gap in suspended high-mobility graphene nanoribbons\"',\n",
       " 'URL': 'Papers/2011/PhysRevB_84_125411_2011.pdf',\n",
       " 'journal': 'PHYSICAL REVIEW B',\n",
       " 'volume': '84'}"
      ]
     },
     "execution_count": 153,
     "metadata": {},
     "output_type": "execute_result"
    }
   ],
   "source": [
    "# your code here\n",
    "book_list = bs_to_author_list(soup)\n",
    "book_list[0]"
   ]
  },
  {
   "cell_type": "markdown",
   "metadata": {},
   "source": [
    "**1.3** Convert the list of dictionaries into standard .bibTex format using python string manipulation, and write the results into a file called `publist.bib`.\n"
   ]
  },
  {
   "cell_type": "code",
   "execution_count": 8,
   "metadata": {},
   "outputs": [],
   "source": [
    "def list_to_bib(book_list: list) -> str:\n",
    "    \n",
    "    \"\"\"\n",
    "    Input\n",
    "    ------\n",
    "    list: the list object with the scraped page as a dict\n",
    "\n",
    "    Returns\n",
    "    -------\n",
    "    a string formatted in bibTex format        \n",
    "    \"\"\"\n",
    "\n",
    "    bibtex = ''\n",
    "    \n",
    "    i=0\n",
    "    for book in book_list:\n",
    "        bibtex = bibtex + '@ARTICLE{'+str(i)+', author = {' + book['author'] + '}, title = {' + book['title'] \\\n",
    "                        + '}, url = {' + book['URL'] \\\n",
    "                        + '}, journal = {' + book['journal'] \\\n",
    "                        + '}, volume = {' + book['volume'] + '} }, \\n'\n",
    "        i+=1\n",
    "    \n",
    "    return bibtex\n",
    "\n",
    "\n",
    "book_list = bs_to_author_list(soup)\n",
    "bibtex = list_to_bib(book_list)\n",
    "\n",
    "# Write the bib to a file\n",
    "with open('publist.bib', 'w') as bibfile:\n",
    "    bibfile.write(bibtex)"
   ]
  },
  {
   "cell_type": "code",
   "execution_count": null,
   "metadata": {},
   "outputs": [],
   "source": [
    "# check your answer - print the bibTex file\n",
    "# clear/remove output before making pdf\n",
    "with open('publist.bib', 'r') as f:\n",
    "    print(f.read())\n"
   ]
  },
  {
   "cell_type": "markdown",
   "metadata": {},
   "source": [
    "**1.4** Convert the list of dictionaries into standard tabular .csv format using pandas, and write the results into a file called `publist.csv`. The csv file should have a header and no integer index."
   ]
  },
  {
   "cell_type": "code",
   "execution_count": 11,
   "metadata": {},
   "outputs": [],
   "source": [
    "# your code here\n",
    "df = pd.DataFrame(bs_to_author_list(soup))"
   ]
  },
  {
   "cell_type": "code",
   "execution_count": 12,
   "metadata": {},
   "outputs": [],
   "source": [
    "# your code here\n",
    "df.to_csv('publist.csv', index=False)"
   ]
  },
  {
   "cell_type": "markdown",
   "metadata": {},
   "source": [
    "## Follow the stars in IMDb's list of \"The Top 100 Stars for 2020\" \n",
    "\n",
    "### Overview\n",
    "In this part, your goal is to extract information from IMDb's Top 100 Stars for 2020 (https://www.imdb.com/list/ls045252306/) and perform some analysis on each star in the list. In particular we are interested to know: \n",
    "+ how many performers made their first acting appearance after turning 25? \n",
    "+ how many performers started as child actors? (i.e., strictly younger than 12)\n",
    "+ who is the most prolific actress or actor in IMDb's list of the Top 100 Stars for 2020? \n",
    "\n",
    "These questions are addressed in more details in the questions below. \n",
    "\n"
   ]
  },
  {
   "cell_type": "markdown",
   "metadata": {},
   "source": [
    "<div class='exercise'><b> Question 2 [65 pts]: Web Scraping using Beautiful Soup and exploring using Pandas </b></div>\n",
    "\n",
    "**2.1 [5 pts]** Download the webpage of the \"Top 100 Stars for 2020\" (https://www.imdb.com/list/ls082599715/) into a `requests` object and name it `my_page`. Explain what the following attributes are (1 or 2 sentences for each):\n",
    "\n",
    "- `my_page.text`, \n",
    "- `my_page.status_code`,\n",
    "- `my_page.content`.\n",
    "\n",
    "**2.2 [5 pts]** Create a Beautiful Soup object named `star_soup` using `my_page` as input.\n",
    "\n",
    "**2.3 [15 pts]** Write a function called `parse_stars` that accepts `star_soup` as its input and generates a list of dictionaries named `starlist` (see definition below). The order of dictionaries does not matter. One of the fields of this dictionary is the `url` of each star's individual page, which you need to save in the `page` field. Note that there is a ton of information about each star on these webpages. Each dictionary corresponds to a star profile and it should have the following data:\n",
    "\n",
    "```\n",
    "name: the name of the actor/actress as it appears at the top\n",
    "gender: 0 or 1: translate the word 'actress' into 1 and 'actor' into '0'\n",
    "url: the url of the link under their name that leads to a page with details\n",
    "page: BS object with html text acquired by scraping the above 'url' page' \n",
    "```\n",
    "\n",
    "\n",
    "**2.4 [20 pts]** Write a function called `create_star_table`, which takes `starlist` as an input and extracts information about each star (see function definition for the exact information to be extracted and the exact output definition).  Only extract information from the first box on each star's page. If the first box is acting, consider only acting credits and the star's acting debut, if the first box is Directing, consider only directing credits and directorial debut.\n",
    "\n",
    "   \n",
    "**2.6 [6 pts]** We provide a JSON file called `data/staff_starinfo_2020.json` created by CS109 teaching staff for consistency, which you should use for the rest of the homework. Import the contents of this JSON file  into a pandas dataframe called `frame`. Check the types of variables in each column and clean these variables if needed. Add a new column to your dataframe with the age of each actor when they made their first appearance, movie or TV, (name this column `age_at_first_appearance`). Check some of the values of this new column. Do you find any problems? You don't need to fix them.\n",
    "\n",
    "**2.7 [4 pts]** You are now ready to answer the following intriguing questions: \n",
    "- **2.7.1** How many performers made their first appearance (movie or TV) when they were 25 years old or older?\n",
    "\n",
    "- **2.7.2** How many performers started as child actors? Define child actor as a person strictly younger than 12 years old. \n",
    "\n",
    "**2.8 [6 pts]** Use your Python visualization skills to further explore the data:\n",
    "- **2.8.1** Create 2 scatter plots: one showing the relationship between age at first appearance and number of credits, the other between year born and number of credits. What can you say about these relationships? Are there any apparent outliers? Please limit your written responses to 4 sentences or fewer.\n",
    "- **2.8.2** Create 2 histograms in a single plot comparing the distribution of actors' current ages to actresses' current ages. What does this visualization tell you? (4 sentences or fewer)\n",
    "- **2.8.3** Create a box plot comparing the credits-per-year-active for actors and actresses. Here we assume all stars in the list are still active. Do these distributions look the same across genders? Comment on anything else of interest gleaned from your plot. (4 sentences or fewer)\n",
    "\n",
    "**2.9 [2 pts]** Make a plot of the number of credits against the name of actor/actress. Who is the most prolific actress or actor in IMDb's list of the Top 100 Stars for 2020? Define **most prolific** as the performer with the most credits.\n",
    "    \n",
    "**2.10 [2 pts]** In 4 or fewer sentences, comment on what you see in the plots above.  Are there any surprises or patterns?  Please **have some fun** with this question.\n",
    "     \n",
    "### Hints\n",
    "- You should include acting appearances in both movies and TV shows.\n",
    "- Create a variable that groups actors/actresses by the age of their first appearance. Use pandas' `.groupby` to divide the dataframe into groups of performers that for example started performing as children (age $<$ 12). The grouped variable is a `GroupBy` pandas object and this object has all of the information needed to then apply operations to each of the groups.\n",
    "- When cleaning the data make sure the variables with which you are performing calculations are in numerical format.\n",
    "- The column with the year may have some values that are double, e.g. **'2000-2001'** and the column with age has some empty cells. You need to deal with these in a reasonable fashion before performing calculations on the data. \n",
    "- Rita Aryu was born in 1993.\n",
    "- Be careful of some actors/actresses listings as producers.  We only want their acting appearances.\n",
    "- Christopher Nolan is mainly a writer and has never acted.  Be careful handling him (you should 'impute' the year of his first movie appearance as 2021).\n",
    "    \n",
    "### Resources\n",
    "- The `requests` library makes working with HTTP requests easy. For more on the `requests` library see http://docs.python-requests.org/\n",
    "\n",
    "### Answers"
   ]
  },
  {
   "cell_type": "code",
   "execution_count": 13,
   "metadata": {},
   "outputs": [],
   "source": [
    "import requests\n",
    "import re # you may use regexes but they are not required"
   ]
  },
  {
   "cell_type": "markdown",
   "metadata": {},
   "source": [
    "**2.1** Download the webpage of the \"Top 100 Stars for 2020\" (https://www.imdb.com/list/ls082599715/) into a `requests` object and name it `my_page`. Explain what the following attributes are:\n",
    "\n",
    "- `my_page.text`, \n",
    "- `my_page.status_code`,\n",
    "- `my_page.content`.\n"
   ]
  },
  {
   "cell_type": "code",
   "execution_count": 14,
   "metadata": {},
   "outputs": [],
   "source": [
    "# your code here\n",
    "my_page =requests.get('https://www.imdb.com/list/ls082599715/')"
   ]
  },
  {
   "cell_type": "code",
   "execution_count": null,
   "metadata": {},
   "outputs": [],
   "source": [
    "# Will get the response in text and can be used for HTML parser\n",
    "print(my_page.text)\n",
    "# Has the status code for \n",
    "print(my_page.status_code)\n",
    "# Gets all the data in raw format, usefull when downloading content outside of text like images, videos etc\n",
    "print(my_page.content)"
   ]
  },
  {
   "cell_type": "markdown",
   "metadata": {},
   "source": [
    "*your answer here*\n",
    "\n",
    "\n",
    "\n"
   ]
  },
  {
   "cell_type": "markdown",
   "metadata": {},
   "source": [
    "**- \"my_page.text\" Will get the response in text and can be used for HTML parser**\n",
    "\n",
    "**- \"my_page.status_code\" Has the status code for the request and will be 200 is successful** \n",
    "\n",
    "**- \"my_page.content\" Gets all the data in raw format, usefull when downloading content outside of text like images, videos etc**"
   ]
  },
  {
   "cell_type": "markdown",
   "metadata": {},
   "source": [
    "**2.2** Create a Beautiful Soup object named `star_soup` using `my_page` as input.\n"
   ]
  },
  {
   "cell_type": "code",
   "execution_count": 15,
   "metadata": {},
   "outputs": [],
   "source": [
    "# your code here\n",
    "star_soup = BeautifulSoup(my_page.text)"
   ]
  },
  {
   "cell_type": "code",
   "execution_count": null,
   "metadata": {},
   "outputs": [],
   "source": [
    "# check your code - you should see familiar HTML code\n",
    "print (star_soup.prettify()[:])"
   ]
  },
  {
   "cell_type": "markdown",
   "metadata": {},
   "source": [
    "**2.3** Write a function called `parse_stars` that accepts `star_soup` as its input and generates a list of dictionaries named `starlist` (see definition below)...."
   ]
  },
  {
   "cell_type": "markdown",
   "metadata": {},
   "source": [
    "```\n",
    "Function\n",
    "--------\n",
    "parse_stars\n",
    "\n",
    "Input\n",
    "------\n",
    "star_soup: the soup object with the scraped page\n",
    "   \n",
    "Returns\n",
    "-------\n",
    "a list of dictionaries; each dictionary corresponds to a star profile and has the following data:\n",
    "\n",
    "    name: the name of the actor/actress as it appears at the top\n",
    "    gender: 0 or 1: translate the word 'actress' into 1 and 'actor' into '0'\n",
    "    url: the url of the link under their name that leads to a page with details\n",
    "    page: BS object with 'html text acquired by scraping the above 'url' page' \n",
    "\n",
    "```"
   ]
  },
  {
   "cell_type": "code",
   "execution_count": 23,
   "metadata": {},
   "outputs": [],
   "source": [
    "# your code here \n",
    "def parse_stars(star_soup: BeautifulSoup) -> list:\n",
    "    \"\"\"\n",
    "    Input\n",
    "    ------\n",
    "    star_soup: the soup object with the scraped page\n",
    "\n",
    "    Returns\n",
    "    -------\n",
    "    a list of dictionaries; each dictionary corresponds to a star profile and has the following data:\n",
    "\n",
    "        name: the name of the actor/actress as it appears at the top\n",
    "        gender: 0 or 1: translate the word 'actress' into 1 and 'actor' into '0'\n",
    "        url: the url of the link under their name that leads to a page with details\n",
    "        page: BS object with 'html text acquired by scraping the above 'url' page' \n",
    "    \"\"\"\n",
    "    star_list = []\n",
    "    tags = star_soup.find_all(\"div\", {\"class\": \"lister-item-content\"})\n",
    "    for tag in tags:\n",
    "        name = tag.find_all('a')[0].text\n",
    "        gender_type = tag.find_all('p')[0].text.split('|')[0].strip()\n",
    "        \n",
    "        # Default is gender 0 for cases where its Actor, Producer, Director\n",
    "        gender = 0\n",
    "        if gender_type == 'Actress':\n",
    "            gender = 1\n",
    "        url = 'https://www.imdb.com'+tag.find_all('a')[0].attrs['href']\n",
    "        page = BeautifulSoup()\n",
    "\n",
    "        my_page = requests.get(url)\n",
    "        if my_page.status_code == 200:\n",
    "            page = BeautifulSoup(my_page.text)\n",
    "\n",
    "        star_list.append({'name':name.strip(), 'gender': gender, 'url': url.strip(), \n",
    "                              'page': page})\n",
    "    \n",
    "    return star_list"
   ]
  },
  {
   "cell_type": "markdown",
   "metadata": {},
   "source": [
    "This should give you 100"
   ]
  },
  {
   "cell_type": "code",
   "execution_count": 24,
   "metadata": {},
   "outputs": [
    {
     "data": {
      "text/plain": [
       "100"
      ]
     },
     "execution_count": 24,
     "metadata": {},
     "output_type": "execute_result"
    }
   ],
   "source": [
    "starlist = parse_stars(star_soup)\n",
    "len(starlist)"
   ]
  },
  {
   "cell_type": "code",
   "execution_count": null,
   "metadata": {},
   "outputs": [],
   "source": [
    "# check your code\n",
    "# this list is large because of the html in the `page` field\n",
    "# to get a better picture, print only the first element\n",
    "starlist[0]"
   ]
  },
  {
   "cell_type": "markdown",
   "metadata": {},
   "source": [
    "Your output should look like this:\n",
    "```\n",
    "{'name': 'Ana de Armas',\n",
    " 'gender': 1,\n",
    " 'url': 'https://www.imdb.com/name/nm1869101',\n",
    " 'page': \n",
    " <!DOCTYPE html>\n",
    " \n",
    " <html xmlns:fb=\"http://www.facebook.com/2008/fbml\" xmlns:og=\"http://ogp.me/ns#\">\n",
    " <head>\n",
    " <meta charset=\"utf-8\"/>\n",
    " <meta content=\"IE=edge\" http-equiv=\"X-UA-Compatible\"/>\n",
    " <meta content=\"app-id=342792525, app-argument=imdb:///name/nm1869101?src=mdot\" name=\"apple-itunes-app\"/>\n",
    " <script type=\"text/javascript\">var IMDbTimer={starttime: new Date().getTime(),pt:'java'};</script>\n",
    " <script>\n",
    "     if (typeof uet == 'function') {\n",
    "       uet(\"bb\", \"LoadTitle\", {wb: 1});\n",
    "     }\n",
    " </script>\n",
    " <script>(function(t){ (t.events = t.events || {})[\"csm_head_pre_title\"] = new Date().getTime(); })(IMDbTimer);</script>\n",
    " <title>Ana de Armas - IMDb</title>\n",
    " <script>(function(t){ (t.events = t.events || {})[\"csm_head_post_title\"] = new Date().getTime(); })(IMDbTimer);</script>\n",
    "... \n",
    "\n",
    "\n",
    " ```"
   ]
  },
  {
   "cell_type": "markdown",
   "metadata": {},
   "source": [
    "**2.4** Write a function called `create_star_table`, which takes `starlist` as an input and extracts information about each star (see function definition for the exact information to be extracted and the exact output definition).  Only extract information from the first box on each star's page. If the first box is acting, consider only acting credits and the star's acting debut, if the first box is Directing, consider only directing credits and directorial debut."
   ]
  },
  {
   "cell_type": "markdown",
   "metadata": {},
   "source": [
    "```\n",
    "Function\n",
    "--------\n",
    "create_star_table\n",
    "\n",
    "Input\n",
    "------\n",
    "the starlist\n",
    "   \n",
    "Returns\n",
    "-------\n",
    "\n",
    "a list of dictionaries; each dictionary corresponds to a star profile and has the following data:\n",
    "\n",
    "    star_name: the name of the actor/actress as it appears at the top\n",
    "    gender: 0 or 1 (1 for 'actress' and 0 for 'actor')  \n",
    "    year_born : year they were born\n",
    "    first_appearance: title of their first movie or TV show\n",
    "    year_first_appearance: the year they made their first movie or TV show\n",
    "    credits: number of movies or TV shows they have acted in in their career.\n",
    "    \n",
    "```"
   ]
  },
  {
   "cell_type": "code",
   "execution_count": 106,
   "metadata": {},
   "outputs": [],
   "source": [
    "# your code here \n",
    "#  tags = star_soup.find_all(\"div\", {\"class\": \"Filmography\"})\n",
    "def create_star_table(starlist: list) -> list:\n",
    "    \"\"\"\n",
    "    Input\n",
    "    ------\n",
    "    the starlist\n",
    "\n",
    "    Returns\n",
    "    -------\n",
    "\n",
    "    a list of dictionaries; each dictionary corresponds to a star profile and has the following data:\n",
    "\n",
    "        star_name: the name of the actor/actress as it appears at the top\n",
    "        gender: 0 or 1 (1 for 'actress' and 0 for 'actor')  \n",
    "        year_born : year they were born\n",
    "        first_appearance: title of their first movie or TV show\n",
    "        year_first_appearance: the year they made their first movie or TV show\n",
    "        credits: number of movies or TV shows they have acted in in their career.\n",
    "    \"\"\"\n",
    "    star_table = []\n",
    "#     i=0\n",
    "    for star in starlist:\n",
    "        \n",
    "#         print(i, star['name'])\n",
    "#         i+=1\n",
    "        tags = star['page'].find_all(\"div\", {\"class\": \"filmo-category-section\"})    \n",
    "\n",
    "        ## birth year section ##\n",
    "        birthinfo = star['page'].find(string=re.compile(\"birthDate(.{7})\"))\n",
    "        \n",
    "        if birthinfo is not None:\n",
    "            year_born = birthinfo[-13:-9]\n",
    "        elif star['name'] == 'Ritu Arya':\n",
    "            year_born = '1993'\n",
    "        elif star['name'] == \"Laysla De Oliveira\":\n",
    "            year_born = '1992'\n",
    "        else :\n",
    "            year_born = 'None'\n",
    "        \n",
    "        ## Credits section ###\n",
    "        # extract nr of listed credits\n",
    "        # focus on the filmography section\n",
    "        tags = star['page'].find_all(\"div\", {\"id\": \"filmography\"})  \n",
    "        credits = tags[0].find(string=re.compile(\"\\((.*)credits\"))\n",
    "        credit_nr = credits[2:4].strip()\n",
    "        \n",
    "        movie_div = star['page'].find(\"div\", {\"class\": \"filmo-category-section\"})\n",
    "        movies_list = movie_div.find_all(\"div\", {\"class\": re.compile('^filmo-row.*')})\n",
    "        movie = movies_list[len(movies_list)-1]\n",
    "        \n",
    "        first_appearance = movie.find(\"a\").text\n",
    "        \n",
    "        #Default to current year if the oldest appearance year is not specified\n",
    "        year_first_appearance = 2021\n",
    "        if len(re.findall(\"[0-9]+\", movie.find(\"span\", {\"class\": \"year_column\"}).text)) > 0:\n",
    "            year_first_appearance = re.findall(\"[0-9]+\", movie.find(\"span\", {\"class\": \"year_column\"}).text)[0]\n",
    "\n",
    "        # populate the dictionary with extracted infromation\n",
    "        star_table.append({'star_name':star['name'], 'gender': star['gender'], 'year_born': year_born, \n",
    "                           'first_appearance': first_appearance, \n",
    "                           'year_first_appearance': year_first_appearance,\n",
    "                           'credits': credit_nr})\n",
    "\n",
    "    return star_table"
   ]
  },
  {
   "cell_type": "code",
   "execution_count": 151,
   "metadata": {},
   "outputs": [
    {
     "data": {
      "text/plain": [
       "[{'star_name': 'Ana de Armas',\n",
       "  'gender': 1,\n",
       "  'year_born': '1988',\n",
       "  'first_appearance': 'Una rosa de Francia',\n",
       "  'year_first_appearance': '2006',\n",
       "  'credits': '31'},\n",
       " {'star_name': 'Julia Garner',\n",
       "  'gender': 1,\n",
       "  'year_born': '1994',\n",
       "  'first_appearance': 'The Dreamer',\n",
       "  'year_first_appearance': '2010',\n",
       "  'credits': '31'}]"
      ]
     },
     "execution_count": 151,
     "metadata": {},
     "output_type": "execute_result"
    }
   ],
   "source": [
    "star_table = create_star_table(starlist)\n",
    "star_table[0:2]"
   ]
  },
  {
   "cell_type": "markdown",
   "metadata": {},
   "source": [
    "Your output should look like this (the order of elements is not important):\n",
    "```\n",
    "[{'name': 'Ana de Armas',\n",
    "  'gender': 1,\n",
    "  'year_born': '1988',\n",
    "  'first_appearance': 'Una rosa de Francia',\n",
    "  'year_first_appearance': '2006',\n",
    "  'credits': '31'},\n",
    " {'name': 'Julia Garner',\n",
    "  'gender': 1,\n",
    "  'year_born': '1994',\n",
    "  'first_appearance': 'The Dreamer',\n",
    "  'year_first_appearance': '2010',\n",
    "  'credits': '31'},\n",
    "    ...\n",
    "```"
   ]
  },
  {
   "cell_type": "markdown",
   "metadata": {},
   "source": [
    "**2.5** Now that you have scraped all the info you need, it's good practice to save the last data structure you created to disk. Save the data structure to a JSON file named `starinfo.json` and submit this JSON file in Canvas. If you do this, if you have to restart, you won't need to redo all the requests and parsings from before.\n"
   ]
  },
  {
   "cell_type": "code",
   "execution_count": 108,
   "metadata": {},
   "outputs": [],
   "source": [
    "import json # investivate the `dump` method"
   ]
  },
  {
   "cell_type": "code",
   "execution_count": 109,
   "metadata": {},
   "outputs": [],
   "source": [
    "# your code here\n",
    "with open('starinfo.json', 'w') as outfile:\n",
    "    json.dump(star_table, outfile)"
   ]
  },
  {
   "cell_type": "markdown",
   "metadata": {},
   "source": [
    "To check your JSON saving, re-open the JSON file and reload the code"
   ]
  },
  {
   "cell_type": "code",
   "execution_count": 152,
   "metadata": {},
   "outputs": [
    {
     "data": {
      "text/plain": [
       "[{'star_name': 'Ana de Armas',\n",
       "  'gender': 1,\n",
       "  'year_born': '1988',\n",
       "  'first_appearance': 'Una rosa de Francia',\n",
       "  'year_first_appearance': '2006',\n",
       "  'credits': '31'},\n",
       " {'star_name': 'Julia Garner',\n",
       "  'gender': 1,\n",
       "  'year_born': '1994',\n",
       "  'first_appearance': 'The Dreamer',\n",
       "  'year_first_appearance': '2010',\n",
       "  'credits': '31'}]"
      ]
     },
     "execution_count": 152,
     "metadata": {},
     "output_type": "execute_result"
    }
   ],
   "source": [
    "with open(\"starinfo.json\", \"r\") as fd:\n",
    "    star_table = json.load(fd)\n",
    "    \n",
    "# output should be the same\n",
    "star_table[0:2]"
   ]
  },
  {
   "cell_type": "markdown",
   "metadata": {},
   "source": [
    "**2.6** We provide a JSON file called `data/staff_starinfo_2020.json` created by CS109 teaching staff for consistency, which you should use for the rest of the homework. Import the contents of this JSON file into a pandas dataframe called `frame`. Check the types of variables in each column and clean these variables if needed. Add a new column to your dataframe with the age of each actor when they made their first appearance, movie or TV, (name this column `age_at_first_appearance`). Check some of the values of this new column. Do you find any problems? You don't need to fix them."
   ]
  },
  {
   "cell_type": "code",
   "execution_count": 111,
   "metadata": {},
   "outputs": [],
   "source": [
    "# your code here\n",
    "frame = pd.read_json('data/staff_starinfo_2020.json')"
   ]
  },
  {
   "cell_type": "code",
   "execution_count": 112,
   "metadata": {},
   "outputs": [
    {
     "data": {
      "text/plain": [
       "name                object\n",
       "gender               int64\n",
       "year_born            int64\n",
       "first_movie         object\n",
       "year_first_movie     int64\n",
       "credits              int64\n",
       "dtype: object"
      ]
     },
     "execution_count": 112,
     "metadata": {},
     "output_type": "execute_result"
    }
   ],
   "source": [
    "# Check data types\n",
    "frame.dtypes"
   ]
  },
  {
   "cell_type": "code",
   "execution_count": 113,
   "metadata": {},
   "outputs": [],
   "source": [
    "# Calculate  age_at_first_appearance\n",
    "frame.eval('age_at_first_appearance = year_first_movie - year_born', inplace=True)"
   ]
  },
  {
   "cell_type": "code",
   "execution_count": 114,
   "metadata": {},
   "outputs": [
    {
     "data": {
      "text/html": [
       "<div>\n",
       "<style scoped>\n",
       "    .dataframe tbody tr th:only-of-type {\n",
       "        vertical-align: middle;\n",
       "    }\n",
       "\n",
       "    .dataframe tbody tr th {\n",
       "        vertical-align: top;\n",
       "    }\n",
       "\n",
       "    .dataframe thead th {\n",
       "        text-align: right;\n",
       "    }\n",
       "</style>\n",
       "<table border=\"1\" class=\"dataframe\">\n",
       "  <thead>\n",
       "    <tr style=\"text-align: right;\">\n",
       "      <th></th>\n",
       "      <th>name</th>\n",
       "      <th>gender</th>\n",
       "      <th>year_born</th>\n",
       "      <th>first_movie</th>\n",
       "      <th>year_first_movie</th>\n",
       "      <th>credits</th>\n",
       "      <th>age_at_first_appearance</th>\n",
       "    </tr>\n",
       "  </thead>\n",
       "  <tbody>\n",
       "    <tr>\n",
       "      <th>56</th>\n",
       "      <td>Christopher Nolan</td>\n",
       "      <td>0</td>\n",
       "      <td>1970</td>\n",
       "      <td>None</td>\n",
       "      <td>2021</td>\n",
       "      <td>0</td>\n",
       "      <td>51</td>\n",
       "    </tr>\n",
       "  </tbody>\n",
       "</table>\n",
       "</div>"
      ],
      "text/plain": [
       "                 name  gender  year_born first_movie  year_first_movie  credits  age_at_first_appearance\n",
       "56  Christopher Nolan       0       1970        None              2021        0                       51"
      ]
     },
     "execution_count": 114,
     "metadata": {},
     "output_type": "execute_result"
    }
   ],
   "source": [
    "# For Christopher Nolan\t there appears to be an issue \n",
    "# The IMDB site has him as a writer and has the year of first appearance as 1988\n",
    "frame[frame.age_at_first_appearance == 51]"
   ]
  },
  {
   "cell_type": "markdown",
   "metadata": {},
   "source": [
    "The data types in the cleaned json files are interpretted correctly and dont need any changes\n",
    "\n",
    "\n",
    "For Christopher Nolan\t there appears to be an issue \n",
    "The IMDB site has him as a writer and has the year of first appearance as 1988\n",
    "He has an entry for year_first_movie, but no mentioning of the name.\n"
   ]
  },
  {
   "cell_type": "markdown",
   "metadata": {},
   "source": [
    "**2.7** You are now ready to answer the following intriguing questions:\n",
    "- **2.7.1** How many performers made their first appearance (movie or TV) when he/she was 25 years old or older?\n",
    "- **2.7.2** How many performers started as child actors? Define child actor as a person strictly younger than 12 years old. \n"
   ]
  },
  {
   "cell_type": "code",
   "execution_count": 139,
   "metadata": {},
   "outputs": [
    {
     "data": {
      "text/plain": [
       "9"
      ]
     },
     "execution_count": 139,
     "metadata": {},
     "output_type": "execute_result"
    }
   ],
   "source": [
    "# your code here\n",
    "frame[frame.age_at_first_appearance >= 25]['age_at_first_appearance'].count()"
   ]
  },
  {
   "cell_type": "code",
   "execution_count": 148,
   "metadata": {},
   "outputs": [
    {
     "name": "stdout",
     "output_type": "stream",
     "text": [
      "The number of actors 25 or older at their first appearance: 9\n"
     ]
    }
   ],
   "source": [
    "# your code here - 2.7.1\n",
    "nr_of_actors_25_plus = frame[frame.age_at_first_appearance >= 25]['age_at_first_appearance'].count()\n",
    "print(\"The number of actors 25 or older at their first appearance:\", nr_of_actors_25_plus)"
   ]
  },
  {
   "cell_type": "code",
   "execution_count": 149,
   "metadata": {},
   "outputs": [
    {
     "name": "stdout",
     "output_type": "stream",
     "text": [
      "The number of child actors: 17\n"
     ]
    }
   ],
   "source": [
    "# your code here - 2.7.2\n",
    "nr_of_child_actors = frame[frame.year_first_movie < (frame.year_born + 12)]['age_at_first_appearance'].count()\n",
    "print(\"The number of child actors:\", nr_of_child_actors)"
   ]
  },
  {
   "cell_type": "markdown",
   "metadata": {},
   "source": [
    "**2.8** Use your Python visualization skills to further explore the data:\n",
    "- **2.8.1** Create 2 scatter plots: one showing the relationship between age at first appearance and number of credits, the other between year born and number of credits. What can you say about these relationships? Are there any apparent outliers? Please limit your written responses to 4 sentences or fewer.\n",
    "- **2.8.2** Create 2 histograms in a single plot comparing the distribution of actors' current ages to actresses' current ages. What does this visualization tell you? (4 sentences or fewer)\n",
    "- **2.8.3** Create a box plot comparing the credits-per-year-active for actors and actresses. Here we assume all stars in the list are still active. Do these distributions look the same across genders? Comment on anything else of interest gleaned from your plot (4 sentences or fewer)."
   ]
  },
  {
   "cell_type": "code",
   "execution_count": 141,
   "metadata": {},
   "outputs": [
    {
     "data": {
      "image/png": "[encoded data removed]",
      "text/plain": [
       "<Figure size 432x288 with 1 Axes>"
      ]
     },
     "metadata": {
      "needs_background": "light"
     },
     "output_type": "display_data"
    }
   ],
   "source": [
    "# 2.8.1\n",
    "# your code here\n",
    "scatter_plot = frame.plot.scatter(x='age_at_first_appearance', y='credits', c='DarkBlue')"
   ]
  },
  {
   "cell_type": "code",
   "execution_count": 142,
   "metadata": {},
   "outputs": [
    {
     "data": {
      "text/html": [
       "<div>\n",
       "<style scoped>\n",
       "    .dataframe tbody tr th:only-of-type {\n",
       "        vertical-align: middle;\n",
       "    }\n",
       "\n",
       "    .dataframe tbody tr th {\n",
       "        vertical-align: top;\n",
       "    }\n",
       "\n",
       "    .dataframe thead th {\n",
       "        text-align: right;\n",
       "    }\n",
       "</style>\n",
       "<table border=\"1\" class=\"dataframe\">\n",
       "  <thead>\n",
       "    <tr style=\"text-align: right;\">\n",
       "      <th></th>\n",
       "      <th>name</th>\n",
       "      <th>gender</th>\n",
       "      <th>year_born</th>\n",
       "      <th>first_movie</th>\n",
       "      <th>year_first_movie</th>\n",
       "      <th>credits</th>\n",
       "      <th>age_at_first_appearance</th>\n",
       "    </tr>\n",
       "  </thead>\n",
       "  <tbody>\n",
       "    <tr>\n",
       "      <th>48</th>\n",
       "      <td>Fred Willard</td>\n",
       "      <td>0</td>\n",
       "      <td>1933</td>\n",
       "      <td>Pistols 'n' Petticoats</td>\n",
       "      <td>1966</td>\n",
       "      <td>312</td>\n",
       "      <td>33</td>\n",
       "    </tr>\n",
       "    <tr>\n",
       "      <th>56</th>\n",
       "      <td>Christopher Nolan</td>\n",
       "      <td>0</td>\n",
       "      <td>1970</td>\n",
       "      <td>None</td>\n",
       "      <td>2021</td>\n",
       "      <td>0</td>\n",
       "      <td>51</td>\n",
       "    </tr>\n",
       "  </tbody>\n",
       "</table>\n",
       "</div>"
      ],
      "text/plain": [
       "                 name  gender  year_born             first_movie  year_first_movie  credits  age_at_first_appearance\n",
       "48       Fred Willard       0       1933  Pistols 'n' Petticoats              1966      312                       33\n",
       "56  Christopher Nolan       0       1970                    None              2021        0                       51"
      ]
     },
     "execution_count": 142,
     "metadata": {},
     "output_type": "execute_result"
    }
   ],
   "source": [
    "frame[frame.age_at_first_appearance > 30]"
   ]
  },
  {
   "cell_type": "code",
   "execution_count": 143,
   "metadata": {},
   "outputs": [
    {
     "data": {
      "text/html": [
       "<div>\n",
       "<style scoped>\n",
       "    .dataframe tbody tr th:only-of-type {\n",
       "        vertical-align: middle;\n",
       "    }\n",
       "\n",
       "    .dataframe tbody tr th {\n",
       "        vertical-align: top;\n",
       "    }\n",
       "\n",
       "    .dataframe thead th {\n",
       "        text-align: right;\n",
       "    }\n",
       "</style>\n",
       "<table border=\"1\" class=\"dataframe\">\n",
       "  <thead>\n",
       "    <tr style=\"text-align: right;\">\n",
       "      <th></th>\n",
       "      <th>name</th>\n",
       "      <th>gender</th>\n",
       "      <th>year_born</th>\n",
       "      <th>first_movie</th>\n",
       "      <th>year_first_movie</th>\n",
       "      <th>credits</th>\n",
       "      <th>age_at_first_appearance</th>\n",
       "    </tr>\n",
       "  </thead>\n",
       "  <tbody>\n",
       "    <tr>\n",
       "      <th>48</th>\n",
       "      <td>Fred Willard</td>\n",
       "      <td>0</td>\n",
       "      <td>1933</td>\n",
       "      <td>Pistols 'n' Petticoats</td>\n",
       "      <td>1966</td>\n",
       "      <td>312</td>\n",
       "      <td>33</td>\n",
       "    </tr>\n",
       "    <tr>\n",
       "      <th>89</th>\n",
       "      <td>Ashley Johnson</td>\n",
       "      <td>1</td>\n",
       "      <td>1983</td>\n",
       "      <td>Lionheart</td>\n",
       "      <td>1990</td>\n",
       "      <td>139</td>\n",
       "      <td>7</td>\n",
       "    </tr>\n",
       "  </tbody>\n",
       "</table>\n",
       "</div>"
      ],
      "text/plain": [
       "              name  gender  year_born             first_movie  year_first_movie  credits  age_at_first_appearance\n",
       "48    Fred Willard       0       1933  Pistols 'n' Petticoats              1966      312                       33\n",
       "89  Ashley Johnson       1       1983               Lionheart              1990      139                        7"
      ]
     },
     "execution_count": 143,
     "metadata": {},
     "output_type": "execute_result"
    }
   ],
   "source": [
    "frame[frame.credits > 120]"
   ]
  },
  {
   "cell_type": "markdown",
   "metadata": {},
   "source": [
    "**Comments**: \n",
    "* Fred Williard - despite his relatively late start at the age of 33 - featured in over 300 movies\n",
    "* Ashley Johns is a child star who's made more movies than any other child star\n",
    "* We know Christopher Nolan is an outlier from before"
   ]
  },
  {
   "cell_type": "code",
   "execution_count": 144,
   "metadata": {},
   "outputs": [
    {
     "data": {
      "text/plain": [
       "Text(0.5, 1.0, 'Histogram of actor / actress ages')"
      ]
     },
     "execution_count": 144,
     "metadata": {},
     "output_type": "execute_result"
    },
    {
     "data": {
      "image/png": "[encoded data removed]",
      "text/plain": [
       "<Figure size 432x288 with 1 Axes>"
      ]
     },
     "metadata": {
      "needs_background": "light"
     },
     "output_type": "display_data"
    }
   ],
   "source": [
    "# 2.8.2\n",
    "# your code here\n",
    "current_year = 2021\n",
    "frame['current_age'] = current_year -  frame['year_born']\n",
    "actor_ages = frame[frame.gender == 0]['current_age']\n",
    "actress_ages = frame[frame.gender == 1]['current_age']\n",
    "fig, axs = plt.subplots(sharey=True, tight_layout=True)\n",
    "axs.hist([actor_ages, actress_ages], histtype='bar', stacked=True,\n",
    "        label=['Actor ages', 'Actress ages'])\n",
    "axs.legend(prop={'size': 10})\n",
    "axs.set_xlabel(\"Age range\")\n",
    "axs.set_ylabel(\"Count\")\n",
    "axs.set_title('Histogram of actor / actress ages')"
   ]
  },
  {
   "cell_type": "code",
   "execution_count": 147,
   "metadata": {},
   "outputs": [
    {
     "data": {
      "text/html": [
       "<div>\n",
       "<style scoped>\n",
       "    .dataframe tbody tr th:only-of-type {\n",
       "        vertical-align: middle;\n",
       "    }\n",
       "\n",
       "    .dataframe tbody tr th {\n",
       "        vertical-align: top;\n",
       "    }\n",
       "\n",
       "    .dataframe thead th {\n",
       "        text-align: right;\n",
       "    }\n",
       "</style>\n",
       "<table border=\"1\" class=\"dataframe\">\n",
       "  <thead>\n",
       "    <tr style=\"text-align: right;\">\n",
       "      <th></th>\n",
       "      <th>name</th>\n",
       "      <th>gender</th>\n",
       "      <th>year_born</th>\n",
       "      <th>first_movie</th>\n",
       "      <th>year_first_movie</th>\n",
       "      <th>credits</th>\n",
       "      <th>age_at_first_appearance</th>\n",
       "      <th>current_age</th>\n",
       "      <th>years_active</th>\n",
       "      <th>credits_per_year_active</th>\n",
       "    </tr>\n",
       "  </thead>\n",
       "  <tbody>\n",
       "    <tr>\n",
       "      <th>41</th>\n",
       "      <td>Bong Joon Ho</td>\n",
       "      <td>0</td>\n",
       "      <td>1969</td>\n",
       "      <td>Ji-ri-myeol-lyeol</td>\n",
       "      <td>1994</td>\n",
       "      <td>4</td>\n",
       "      <td>25</td>\n",
       "      <td>52</td>\n",
       "      <td>26</td>\n",
       "      <td>0.153846</td>\n",
       "    </tr>\n",
       "    <tr>\n",
       "      <th>45</th>\n",
       "      <td>Brad Pitt</td>\n",
       "      <td>0</td>\n",
       "      <td>1963</td>\n",
       "      <td>Hunk</td>\n",
       "      <td>1987</td>\n",
       "      <td>84</td>\n",
       "      <td>24</td>\n",
       "      <td>58</td>\n",
       "      <td>33</td>\n",
       "      <td>2.545455</td>\n",
       "    </tr>\n",
       "    <tr>\n",
       "      <th>48</th>\n",
       "      <td>Fred Willard</td>\n",
       "      <td>0</td>\n",
       "      <td>1933</td>\n",
       "      <td>Pistols 'n' Petticoats</td>\n",
       "      <td>1966</td>\n",
       "      <td>312</td>\n",
       "      <td>33</td>\n",
       "      <td>88</td>\n",
       "      <td>54</td>\n",
       "      <td>5.777778</td>\n",
       "    </tr>\n",
       "    <tr>\n",
       "      <th>53</th>\n",
       "      <td>Tom Hanks</td>\n",
       "      <td>0</td>\n",
       "      <td>1956</td>\n",
       "      <td>He Knows You're Alone</td>\n",
       "      <td>1980</td>\n",
       "      <td>93</td>\n",
       "      <td>24</td>\n",
       "      <td>65</td>\n",
       "      <td>40</td>\n",
       "      <td>2.325000</td>\n",
       "    </tr>\n",
       "    <tr>\n",
       "      <th>56</th>\n",
       "      <td>Christopher Nolan</td>\n",
       "      <td>0</td>\n",
       "      <td>1970</td>\n",
       "      <td>None</td>\n",
       "      <td>2021</td>\n",
       "      <td>0</td>\n",
       "      <td>51</td>\n",
       "      <td>51</td>\n",
       "      <td>-1</td>\n",
       "      <td>-0.000000</td>\n",
       "    </tr>\n",
       "    <tr>\n",
       "      <th>64</th>\n",
       "      <td>Tom Cruise</td>\n",
       "      <td>0</td>\n",
       "      <td>1962</td>\n",
       "      <td>Endless Love</td>\n",
       "      <td>1981</td>\n",
       "      <td>51</td>\n",
       "      <td>19</td>\n",
       "      <td>59</td>\n",
       "      <td>39</td>\n",
       "      <td>1.307692</td>\n",
       "    </tr>\n",
       "    <tr>\n",
       "      <th>65</th>\n",
       "      <td>Jennifer Connelly</td>\n",
       "      <td>1</td>\n",
       "      <td>1970</td>\n",
       "      <td>Duran Duran: Union of the Snake</td>\n",
       "      <td>1983</td>\n",
       "      <td>51</td>\n",
       "      <td>13</td>\n",
       "      <td>51</td>\n",
       "      <td>37</td>\n",
       "      <td>1.378378</td>\n",
       "    </tr>\n",
       "    <tr>\n",
       "      <th>76</th>\n",
       "      <td>Renée Zellweger</td>\n",
       "      <td>1</td>\n",
       "      <td>1969</td>\n",
       "      <td>A Taste for Killing</td>\n",
       "      <td>1992</td>\n",
       "      <td>48</td>\n",
       "      <td>23</td>\n",
       "      <td>52</td>\n",
       "      <td>28</td>\n",
       "      <td>1.714286</td>\n",
       "    </tr>\n",
       "    <tr>\n",
       "      <th>87</th>\n",
       "      <td>Elisabeth Shue</td>\n",
       "      <td>1</td>\n",
       "      <td>1963</td>\n",
       "      <td>The Royal Romance of Charles and Diana</td>\n",
       "      <td>1982</td>\n",
       "      <td>59</td>\n",
       "      <td>19</td>\n",
       "      <td>58</td>\n",
       "      <td>38</td>\n",
       "      <td>1.552632</td>\n",
       "    </tr>\n",
       "    <tr>\n",
       "      <th>92</th>\n",
       "      <td>Keanu Reeves</td>\n",
       "      <td>0</td>\n",
       "      <td>1964</td>\n",
       "      <td>Hangin' In</td>\n",
       "      <td>1984</td>\n",
       "      <td>107</td>\n",
       "      <td>20</td>\n",
       "      <td>57</td>\n",
       "      <td>36</td>\n",
       "      <td>2.972222</td>\n",
       "    </tr>\n",
       "  </tbody>\n",
       "</table>\n",
       "</div>"
      ],
      "text/plain": [
       "                 name  gender  year_born                             first_movie  year_first_movie  credits  age_at_first_appearance  current_age  years_active  credits_per_year_active\n",
       "41       Bong Joon Ho       0       1969                       Ji-ri-myeol-lyeol              1994        4                       25           52            26                 0.153846\n",
       "45          Brad Pitt       0       1963                                    Hunk              1987       84                       24           58            33                 2.545455\n",
       "48       Fred Willard       0       1933                  Pistols 'n' Petticoats              1966      312                       33           88            54                 5.777778\n",
       "53          Tom Hanks       0       1956                   He Knows You're Alone              1980       93                       24           65            40                 2.325000\n",
       "56  Christopher Nolan       0       1970                                    None              2021        0                       51           51            -1                -0.000000\n",
       "64         Tom Cruise       0       1962                            Endless Love              1981       51                       19           59            39                 1.307692\n",
       "65  Jennifer Connelly       1       1970         Duran Duran: Union of the Snake              1983       51                       13           51            37                 1.378378\n",
       "76    Renée Zellweger       1       1969                     A Taste for Killing              1992       48                       23           52            28                 1.714286\n",
       "87     Elisabeth Shue       1       1963  The Royal Romance of Charles and Diana              1982       59                       19           58            38                 1.552632\n",
       "92       Keanu Reeves       0       1964                              Hangin' In              1984      107                       20           57            36                 2.972222"
      ]
     },
     "execution_count": 147,
     "metadata": {},
     "output_type": "execute_result"
    }
   ],
   "source": [
    "frame[frame.current_age > 50]"
   ]
  },
  {
   "cell_type": "markdown",
   "metadata": {},
   "source": [
    "**Comments** We observe how there are overall more women in the top 100. Only for ages above 60, there are more men. Fred willard pops up again as an outlier. "
   ]
  },
  {
   "cell_type": "code",
   "execution_count": 145,
   "metadata": {},
   "outputs": [
    {
     "data": {
      "image/png": "[encoded data removed]",
      "text/plain": [
       "<Figure size 432x288 with 1 Axes>"
      ]
     },
     "metadata": {
      "needs_background": "light"
     },
     "output_type": "display_data"
    }
   ],
   "source": [
    "# 2.8.3\n",
    "# your code here\n",
    "list_year = 2020\n",
    "frame['years_active'] = list_year -  frame['year_first_movie']\n",
    "frame['credits_per_year_active'] = frame['credits'] / frame['years_active']\n",
    "actor_credit_per_years_active = frame[frame.gender == 0]['credits_per_year_active']\n",
    "actress_credit_per_years_active = frame[frame.gender == 1]['credits_per_year_active']\n",
    "data = [actor_credit_per_years_active,actress_credit_per_years_active]\n",
    "fig7, ax7 = plt.subplots()\n",
    "ax7.set_title('Credits per year, comparing men and women')\n",
    "plt.xticks([1, 2], ['Actors', 'Actresses'])\n",
    "ax7.boxplot(data)\n",
    "\n",
    "plt.show()"
   ]
  },
  {
   "cell_type": "markdown",
   "metadata": {},
   "source": [
    "**Comments:** On average, actresses seem to make more movies per active year. This could have various reasons: lower pay, smaller roles, or higher intensity."
   ]
  },
  {
   "cell_type": "markdown",
   "metadata": {},
   "source": [
    "**2.9** Make a plot of the number of credits against the name of actor/actress. Who is the most prolific actress or actor in IMDb's list of the Top 100 Stars for 2020? Define **most prolific** as the performer with the most credits. "
   ]
  },
  {
   "cell_type": "code",
   "execution_count": 146,
   "metadata": {},
   "outputs": [
    {
     "name": "stderr",
     "output_type": "stream",
     "text": [
      "/opt/anaconda3/lib/python3.7/site-packages/ipykernel_launcher.py:5: UserWarning: Boolean Series key will be reindexed to match DataFrame index.\n",
      "  \"\"\"\n"
     ]
    },
    {
     "data": {
      "image/png": "[encoded data removed]",
      "text/plain": [
       "<Figure size 432x288 with 1 Axes>"
      ]
     },
     "metadata": {
      "needs_background": "light"
     },
     "output_type": "display_data"
    }
   ],
   "source": [
    "# your code here\n",
    "# limiting the dataset to the most prolific actors\n",
    "prolific = frame[frame.credits >  80]\n",
    "# removing Jeff. We already know he's an outlier.\n",
    "prolific = prolific[frame.credits <  300]\n",
    "scatter_plot = prolific.plot.scatter(x='age_at_first_appearance', y='credits', c='DarkBlue')\n",
    "names = prolific['name']\n",
    "credits = prolific['credits']\n",
    "for x,y, name in zip(prolific['age_at_first_appearance'],prolific['credits'],names):\n",
    "    scatter_plot.annotate(name, \n",
    "                        (x, y),\n",
    "                        textcoords=\"offset points\", # how to position the text\n",
    "                        xytext=(0,10), # distance from text to points (x,y)\n",
    "                        ha='center') # horizontal alignment can be left, right or center\n"
   ]
  },
  {
   "cell_type": "markdown",
   "metadata": {},
   "source": [
    "**2.10** In 4 or fewer sentences, comment on what you see in the plots above.  Are there any surprises or patterns?  Please **have some fun** with this question."
   ]
  },
  {
   "cell_type": "markdown",
   "metadata": {},
   "source": [
    "**Comment**\n",
    "\n",
    "We hypothesized that prolific actors might be mostly lesser known or TV series actors.\n",
    "We note however, that Keanu R., Tom H. and Brad P. are quit prolific. It's noticable also how the prolific men seem to have started after their twenties, while the women started younger.\n",
    "Other than JEFF - who we excluded as he's an outlier at double the credits - the big surprise is Ahsley Johnson. She's been 20-30% much more prolific than anyone else in this group."
   ]
  },
  {
   "cell_type": "code",
   "execution_count": null,
   "metadata": {},
   "outputs": [],
   "source": []
  }
 ],
 "metadata": {
  "anaconda-cloud": {},
  "kernelspec": {
   "display_name": "Python 3",
   "language": "python",
   "name": "python3"
  },
  "language_info": {
   "codemirror_mode": {
    "name": "ipython",
    "version": 3
   },
   "file_extension": ".py",
   "mimetype": "text/x-python",
   "name": "python",
   "nbconvert_exporter": "python",
   "pygments_lexer": "ipython3",
   "version": "3.7.6"
  }
 },
 "nbformat": 4,
 "nbformat_minor": 4
}
