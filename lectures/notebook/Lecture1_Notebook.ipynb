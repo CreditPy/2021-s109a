{
 "cells": [
  {
   "cell_type": "markdown",
   "metadata": {
    "slideshow": {
     "slide_type": "slide"
    }
   },
   "source": [
    "# <img style=\"float: left; padding-right: 10px; width: 45px\" src=\"data:image/png;base64,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\"> CS-S109A Introduction to Data Science \n",
    "\n",
    "## Lecture 1: Hubway Example\n",
    "\n",
    "\n",
    "**Harvard University**<br/>\n",
    "**Summer 2021**<br/>\n",
    "**Instructors**: Kevin Rader\n",
    "\n",
    "---"
   ]
  },
  {
   "cell_type": "markdown",
   "metadata": {},
   "source": [
    "## If you have not installed Conda and have Jupyter Notebooks running properly on your computer, please see *Lab 0* on the course Canvas website (or on git)."
   ]
  },
  {
   "cell_type": "code",
   "execution_count": null,
   "metadata": {
    "slideshow": {
     "slide_type": "skip"
    }
   },
   "outputs": [],
   "source": [
    "## RUN THIS CELL TO GET THE RIGHT FORMATTING \n",
    "import requests\n",
    "from IPython.core.display import HTML\n",
    "styles = requests.get(\"https://raw.githubusercontent.com/Harvard-IACS/2018-CS109A/master/content/styles/cs109.css\").text\n",
    "HTML(styles)"
   ]
  },
  {
   "cell_type": "code",
   "execution_count": null,
   "metadata": {
    "slideshow": {
     "slide_type": "-"
    }
   },
   "outputs": [],
   "source": [
    "import pandas as pd\n",
    "import sys\n",
    "import numpy as np\n",
    "import scipy as sp\n",
    "import matplotlib.pyplot as plt\n",
    "from math import radians, cos, sin, asin, sqrt\n",
    "import datetime\n",
    "%matplotlib inline\n"
   ]
  },
  {
   "cell_type": "markdown",
   "metadata": {
    "slideshow": {
     "slide_type": "slide"
    }
   },
   "source": [
    "Download the data from (29MB):\n",
    "\n",
    "https://drive.google.com/open?id=0B28c493CP9GtMzN1emFoMkJNNlU\n"
   ]
  },
  {
   "cell_type": "markdown",
   "metadata": {
    "slideshow": {
     "slide_type": "slide"
    }
   },
   "source": [
    "## 1. Data Manipulation & Wrangling\n",
    "\n",
    "Manipulation, not Modificaition (important distinction).  Fill-in the 3 different 'Your code here' sections below to perform the tasks given."
   ]
  },
  {
   "cell_type": "code",
   "execution_count": null,
   "metadata": {
    "slideshow": {
     "slide_type": "subslide"
    }
   },
   "outputs": [],
   "source": [
    "# you may need to change the path here:\n",
    "hubway_data_file = '~/Downloads/hubway_data/hubway_trips.csv'\n",
    "\n",
    "# read in the data using pandas 'read_csv' funciton\n",
    "hubway_data = pd.read_csv(hubway_data_file, low_memory=False)\n"
   ]
  },
  {
   "cell_type": "code",
   "execution_count": null,
   "metadata": {},
   "outputs": [],
   "source": [
    "# use the pd.head command to view the first 5 rows of the data set and pd.tail to print out the last 10 rows\n",
    "# https://pandas.pydata.org/pandas-docs/stable/reference/api/pandas.DataFrame.head.html\n",
    "\n",
    "\n",
    "################\n",
    "# Your code here\n",
    "################\n",
    "\n"
   ]
  },
  {
   "cell_type": "code",
   "execution_count": null,
   "metadata": {},
   "outputs": [],
   "source": [
    "# determine the size and dimensions of the data frame using df.size and df.shape \n",
    "# https://pandas.pydata.org/pandas-docs/stable/reference/api/pandas.DataFrame.shape.html\n",
    "# pull off the column and row names using df.columns and df.index.values\n",
    "\n",
    "################\n",
    "# Your code here\n",
    "################\n",
    "\n",
    "\n"
   ]
  },
  {
   "cell_type": "code",
   "execution_count": null,
   "metadata": {},
   "outputs": [],
   "source": [
    "# pull off the first 2 entries of the gender variable:\n",
    "\n",
    "print(hubway_data['gender'][0:2])\n",
    "\n",
    "# the ever important 'values' command: this converts a pandas object \n",
    "# to a numpy array.  We'll learn more about this next time.\n",
    "\n",
    "print(hubway_data['gender'][0:2].values)\n"
   ]
  },
  {
   "cell_type": "code",
   "execution_count": null,
   "metadata": {},
   "outputs": [],
   "source": [
    "# processing the checkout dates a little \n",
    "\n",
    "print(hubway_data['start_date'][0])\n",
    "\n",
    "# pull off the hour into 'checkout_hour'\n",
    "checkout_hour = hubway_data['start_date'].apply(lambda s: int(s[-8:-6]))\n",
    "print(checkout_hour[0:3])\n",
    "\n",
    "# create 'checkout_year' to pull of the year of the checkout start time.\n",
    "\n",
    "################\n",
    "# Your code here\n",
    "################\n",
    "\n",
    "\n"
   ]
  },
  {
   "cell_type": "markdown",
   "metadata": {
    "slideshow": {
     "slide_type": "skip"
    }
   },
   "source": [
    "---"
   ]
  },
  {
   "cell_type": "markdown",
   "metadata": {
    "slideshow": {
     "slide_type": "slide"
    }
   },
   "source": [
    "## 2. Data Exploration\n",
    "### Who?\n",
    "\n",
    "Use the data frame to explore the distributions of user type, gender, and age (4 'Your code here' fill-ins)."
   ]
  },
  {
   "cell_type": "code",
   "execution_count": null,
   "metadata": {},
   "outputs": [],
   "source": [
    "# create a table, a barplot, and pie chart of subscriber type: 'subsc_type'\n",
    "\n",
    "# 2 ways to do the same thing:\n",
    "subsc_counts = np.unique(hubway_data['subsc_type'], return_counts=True)\n",
    "print(subsc_counts)\n",
    "\n",
    "print(np.unique(hubway_data.subsc_type,return_counts=True))\n",
    "\n",
    "# now for the barplot\n",
    "plt.bar(subsc_counts[0],subsc_counts[1])\n",
    "plt.show()"
   ]
  },
  {
   "cell_type": "code",
   "execution_count": null,
   "metadata": {},
   "outputs": [],
   "source": [
    "# Create a table of counts for each gender in the checkout data set \n",
    "# Use this table to create a bar plot of gender \n",
    "# Hint: use .dropna() on the relevant variable\n",
    "\n",
    "\n",
    "################\n",
    "# Your code here\n",
    "################\n",
    "\n"
   ]
  },
  {
   "cell_type": "code",
   "execution_count": null,
   "metadata": {
    "slideshow": {
     "slide_type": "subslide"
    }
   },
   "outputs": [],
   "source": [
    "\n",
    "# create a variable 'age' outside the data frame for the ages of users (use 'checkout_year').  \n",
    "# Then add the variable into the data frame  \n",
    "\n",
    "################\n",
    "# Your code here\n",
    "################\n",
    "\n",
    "\n",
    "\n",
    "\n",
    "# calculate mean, median, sd, min, and max of the ages of hubway users\n",
    "# be careful handling nan's in np.median (.dropna() may be helpful)\n",
    "\n",
    "################\n",
    "# Your code here\n",
    "################\n",
    "\n",
    "\n",
    "\n",
    "# Create the default histogram of age using plt.hist.  \n",
    "# Then improve the histogram with bins of 15-19, 20-24, etc. and improved labels\n",
    "# plt.xlabel, plt.ylabel, and plt.title will be useful\n",
    "\n",
    "################\n",
    "# Your code here\n",
    "################\n",
    "\n",
    "\n",
    "\n",
    "\n"
   ]
  },
  {
   "cell_type": "markdown",
   "metadata": {},
   "source": [
    "## 3. Interpretation Questions: \n",
    "\n",
    "1. Use summary statistics and the histogram above to describe the distribution of user ages in the data set.\n",
    "\n",
    "2. What is wrong with the statement \"The average age of Hubway bike share users is roughly 35.5 years old\"?.\n",
    "\n",
    "3. What would be a better interpretation of the mean age of the users calcualted here?"
   ]
  },
  {
   "cell_type": "markdown",
   "metadata": {},
   "source": [
    "*Your answer here*\n"
   ]
  },
  {
   "cell_type": "markdown",
   "metadata": {},
   "source": [
    "## 4. More Visualizations\n",
    "\n",
    "Look at creating subfigures and exploring the usage across location (distance from Boston 'center city').\n"
   ]
  },
  {
   "cell_type": "code",
   "execution_count": null,
   "metadata": {
    "slideshow": {
     "slide_type": "subslide"
    }
   },
   "outputs": [],
   "source": [
    "\n",
    "# subplots: put both the barplot of gender and histogram of time into the same figure\n",
    "\n",
    "fig, ax = plt.subplots(1, 2, figsize=(15, 6))\n",
    "\n",
    "\n",
    "# use ax[0].bar to put the barplot in the first subplot \n",
    "\n",
    "\n",
    "################\n",
    "# Your code here\n",
    "################\n",
    "\n",
    "\n",
    "################\n",
    "# Your code here\n",
    "################\n",
    "\n",
    "\n",
    "\n",
    "\n",
    "#plt.tight_layout()\n"
   ]
  },
  {
   "cell_type": "markdown",
   "metadata": {
    "slideshow": {
     "slide_type": "slide"
    }
   },
   "source": [
    "### Where"
   ]
  },
  {
   "cell_type": "code",
   "execution_count": null,
   "metadata": {
    "slideshow": {
     "slide_type": "subslide"
    }
   },
   "outputs": [],
   "source": [
    "# read in the separate station data\n",
    "\n",
    "station_data = pd.read_csv('hubway_stations.csv', low_memory=False)[['station','id', 'lat', 'lng']]\n",
    "station_data.head()"
   ]
  },
  {
   "cell_type": "code",
   "execution_count": null,
   "metadata": {
    "slideshow": {
     "slide_type": "subslide"
    }
   },
   "outputs": [],
   "source": [
    "# join the two together data\n",
    "\n",
    "hubway_data_with_gps = hubway_data.join(station_data.set_index('id'), on='strt_statn')\n",
    "hubway_data_with_gps.head()"
   ]
  },
  {
   "cell_type": "code",
   "execution_count": null,
   "metadata": {},
   "outputs": [],
   "source": [
    "\n",
    "# determine the number of checkouts at each station, and add 'checkouts' to the 'station_data' data frame\n",
    "# Hint: use .dropna() on the relevant variable\n",
    "\n",
    "################\n",
    "# Your code here\n",
    "################\n",
    "\n"
   ]
  },
  {
   "cell_type": "markdown",
   "metadata": {
    "slideshow": {
     "slide_type": "subslide"
    }
   },
   "source": [
    "![Alt](../fig/Lecture1a_g2.png)"
   ]
  },
  {
   "cell_type": "code",
   "execution_count": null,
   "metadata": {},
   "outputs": [],
   "source": [
    "# a user-defined function to calculate distances 'as the crow flies'\n",
    "\n",
    "def haversine(pt, lat2=42.3604, lon2=-71.05868):\n",
    "    \"\"\"\n",
    "    Calculate the great circle distance between two points \n",
    "    on the earth (specified in decimal degrees)\n",
    "    Center City (of Boston) is the default comparison point\n",
    "    \"\"\"\n",
    "    lon1 = pt[0]\n",
    "    lat1 = pt[1]\n",
    "    \n",
    "    # convert decimal degrees to radians \n",
    "    lon1, lat1, lon2, lat2 = map(radians, [lon1, lat1, lon2, lat2])\n",
    "\n",
    "    # haversine formula \n",
    "    dlon = lon2 - lon1 \n",
    "    dlat = lat2 - lat1 \n",
    "    a = sin(dlat/2)**2 + cos(lat1) * cos(lat2) * sin(dlon/2)**2\n",
    "    c = 2 * asin(sqrt(a)) \n",
    "    r = 3958.8 # Radius of earth in miles\n",
    "    return c * r"
   ]
  },
  {
   "cell_type": "code",
   "execution_count": null,
   "metadata": {},
   "outputs": [],
   "source": [
    "# using the hersine function to create 'dist_to_center' variable \n",
    "dist_to_center = list(map(haversine, station_data[['lng', 'lat']].values))\n",
    "\n",
    "# add 'dist_to_center' to the 'station_data' data frame\n",
    "\n",
    "################\n",
    "# Your code here \n",
    "################\n",
    "\n",
    "\n"
   ]
  },
  {
   "cell_type": "code",
   "execution_count": null,
   "metadata": {},
   "outputs": [],
   "source": [
    "fig, ax = plt.subplots(1, 1, figsize=(10, 5))\n",
    "\n",
    "# use ax.scatter to create a scatter plot of x = 'dist_to_center' and y = 'checkouts'\n",
    "\n",
    "################\n",
    "# Your code here\n",
    "################\n",
    "\n",
    "# plt.show"
   ]
  },
  {
   "cell_type": "markdown",
   "metadata": {
    "slideshow": {
     "slide_type": "slide"
    }
   },
   "source": [
    "### When...this is done for you"
   ]
  },
  {
   "cell_type": "code",
   "execution_count": null,
   "metadata": {
    "slideshow": {
     "slide_type": "subslide"
    }
   },
   "outputs": [],
   "source": [
    "fig, ax = plt.subplots(1, 1, figsize=(10, 5))\n",
    "\n",
    "# tabulating the hour of the day that users checkout the bikes\n",
    "\n",
    "checkout_counts = np.unique(checkout_hour, return_counts=True)\n",
    "plt.bar(checkout_counts[0], checkout_counts[1], align='center', width=0.8, alpha=0.6)\n",
    "ax.set_xlim([-1, 24])\n",
    "ax.set_xticks(range(24))\n",
    "ax.set_xlabel('Hour of Day')\n",
    "ax.set_ylabel('Number of Checkouts')\n",
    "ax.set_title('Time of Day vs Checkouts')\n",
    "\n",
    "plt.show()"
   ]
  },
  {
   "cell_type": "markdown",
   "metadata": {},
   "source": [
    "## 5. More Interpretations\n",
    "\n",
    "1. What do you notice in the scatterplot of checkouts vs. distance above?  What does this say about useage of the system, in general?\n",
    "\n",
    "2. What type of figre is the above plot titled 'Time of Day vs Checkouts'?  Describe what you notice in it.  Why does this make sense?\n",
    "\n",
    "3. How can Hubway use this information to improve their systems?\n",
    "\n",
    "*your answer here*\n",
    "\n"
   ]
  },
  {
   "cell_type": "markdown",
   "metadata": {
    "slideshow": {
     "slide_type": "subslide"
    }
   },
   "source": [
    "## 6. Further Investigations:\n",
    "\n",
    "Explore the data to investigate three questions:\n",
    "    \n",
    "1. Which station is most popular (for check-outs)?\n",
    "\n",
    "2. How long does it take to bike from 'Harvard Square at Mass Ave/ Dunster' (closest stop to Harvard Square center) to 'South Station - 700 Atlantic Ave.' (to catch a train)?\n",
    "\n",
    "3. What are noticeable differences between Registered and Casual users?  Consider variables we've already looked at or created.\n"
   ]
  },
  {
   "cell_type": "code",
   "execution_count": null,
   "metadata": {},
   "outputs": [],
   "source": [
    "# answering #1: Which station is most popular (for check-outs)?\n",
    "\n",
    "################\n",
    "# Your code here\n",
    "################\n",
    "\n"
   ]
  },
  {
   "cell_type": "code",
   "execution_count": null,
   "metadata": {},
   "outputs": [],
   "source": [
    "# answering #2 :  How long does it take to bike from 'Harvard Square at Mass Ave/ Dunster' \n",
    "# (closest stop to Harvard Square center) to 'South Station - 700 Atlantic Ave.' (to catch a train)?\n",
    "\n",
    "harvard_id = station_data['id'][station_data['station']=='Harvard Square at Mass Ave/ Dunster']\n",
    "\n",
    "################\n",
    "# Your code here\n",
    "################\n"
   ]
  },
  {
   "cell_type": "code",
   "execution_count": null,
   "metadata": {},
   "outputs": [],
   "source": [
    "# answering #3 What are noticeable differences between Registered and Casual users?  \n",
    "# Consider variables we've already looked at or created.\n",
    "\n",
    "################\n",
    "# Your code here\n",
    "################\n",
    "\n"
   ]
  },
  {
   "cell_type": "markdown",
   "metadata": {},
   "source": [
    "*your answer here*\n",
    "\n"
   ]
  },
  {
   "cell_type": "code",
   "execution_count": null,
   "metadata": {},
   "outputs": [],
   "source": []
  }
 ],
 "metadata": {
  "anaconda-cloud": {},
  "kernelspec": {
   "display_name": "Python 3",
   "language": "python",
   "name": "python3"
  },
  "language_info": {
   "codemirror_mode": {
    "name": "ipython",
    "version": 3
   },
   "file_extension": ".py",
   "mimetype": "text/x-python",
   "name": "python",
   "nbconvert_exporter": "python",
   "pygments_lexer": "ipython3",
   "version": "3.7.6"
  },
  "rise": {
   "scroll": true
  }
 },
 "nbformat": 4,
 "nbformat_minor": 1
}
