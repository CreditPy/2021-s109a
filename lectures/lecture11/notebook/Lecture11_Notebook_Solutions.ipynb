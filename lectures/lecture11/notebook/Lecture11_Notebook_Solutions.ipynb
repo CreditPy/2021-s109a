{
 "cells": [
  {
   "cell_type": "markdown",
   "metadata": {},
   "source": [
    "# <img style=\"float: left; padding-right: 10px; width: 45px\" src=\"https://github.com/Harvard-IACS/2021-s109a/blob/master/lectures/crest.png?raw=true\"> CS-S109A Introduction to Data Science \n",
    "\n",
    "## Lecture 11: Clustering, Missingness, and Wrapup\n",
    "\n",
    "**Harvard University**<br>\n",
    "**Summer 2021**<br>\n",
    "**Instructors:** Kevin Rader<br>\n",
    "**Authors:** Rahul Dave, David Sondak, Pavlos Protopapas, Chris Tanner, Eleni Kaxiras, Kevin Rader\n",
    "\n",
    "---"
   ]
  },
  {
   "cell_type": "code",
   "execution_count": 1,
   "metadata": {},
   "outputs": [
    {
     "data": {
      "text/html": [
       "<style>\n",
       "blockquote { background: #AEDE94; }\n",
       "h1 { \n",
       "    padding-top: 25px;\n",
       "    padding-bottom: 25px;\n",
       "    text-align: left; \n",
       "    padding-left: 10px;\n",
       "    background-color: #DDDDDD; \n",
       "    color: black;\n",
       "}\n",
       "h2 { \n",
       "    padding-top: 10px;\n",
       "    padding-bottom: 10px;\n",
       "    text-align: left; \n",
       "    padding-left: 5px;\n",
       "    background-color: #EEEEEE; \n",
       "    color: black;\n",
       "}\n",
       "\n",
       "div.exercise {\n",
       "\tbackground-color: #ffcccc;\n",
       "\tborder-color: #E9967A; \t\n",
       "\tborder-left: 5px solid #800080; \n",
       "\tpadding: 0.5em;\n",
       "}\n",
       "\n",
       "div.exercise-r {\n",
       "\tbackground-color: #fce8e8;\n",
       "\tborder-color: #E9967A; \t\n",
       "\tborder-left: 5px solid #800080; \n",
       "\tpadding: 0.5em;\n",
       "}\n",
       "\n",
       "\n",
       "span.sub-q {\n",
       "\tfont-weight: bold;\n",
       "}\n",
       "div.theme {\n",
       "\tbackground-color: #DDDDDD;\n",
       "\tborder-color: #E9967A; \t\n",
       "\tborder-left: 5px solid #800080; \n",
       "\tpadding: 0.5em;\n",
       "\tfont-size: 18pt;\n",
       "}\n",
       "div.gc { \n",
       "\tbackground-color: #AEDE94;\n",
       "\tborder-color: #E9967A; \t \n",
       "\tborder-left: 5px solid #800080; \n",
       "\tpadding: 0.5em;\n",
       "\tfont-size: 12pt;\n",
       "}\n",
       "p.q1 { \n",
       "    padding-top: 5px;\n",
       "    padding-bottom: 5px;\n",
       "    text-align: left; \n",
       "    padding-left: 5px;\n",
       "    background-color: #EEEEEE; \n",
       "    color: black;\n",
       "}\n",
       "header {\n",
       "   padding-top: 35px;\n",
       "    padding-bottom: 35px;\n",
       "    text-align: left; \n",
       "    padding-left: 10px;\n",
       "    background-color: #DDDDDD; \n",
       "    color: black;\n",
       "}\n",
       "</style>\n",
       "\n"
      ],
      "text/plain": [
       "<IPython.core.display.HTML object>"
      ]
     },
     "execution_count": 1,
     "metadata": {},
     "output_type": "execute_result"
    }
   ],
   "source": [
    "## RUN THIS CELL TO GET THE RIGHT FORMATTING \n",
    "import requests\n",
    "from IPython.core.display import HTML\n",
    "styles = requests.get(\"https://raw.githubusercontent.com/Harvard-IACS/2018-CS109A/master/content/styles/cs109.css\").text\n",
    "HTML(styles)"
   ]
  },
  {
   "cell_type": "markdown",
   "metadata": {},
   "source": [
    "# Table of Contents \n",
    "<ol start=\"0\">\n",
    "<li> Learning Goals </li> \n",
    "<li> Clustering </li> \n",
    "<li> Missingness and Imputation  </li> \n",
    "  "
   ]
  },
  {
   "cell_type": "code",
   "execution_count": 2,
   "metadata": {},
   "outputs": [],
   "source": [
    "import sys\n",
    "import pandas as pd\n",
    "import numpy as np\n",
    "import scipy as sp\n",
    "import sklearn as sk\n",
    "import matplotlib.pyplot as plt\n",
    "\n",
    "from sklearn.cluster import AgglomerativeClustering\n",
    "from sklearn.cluster import KMeans\n",
    "\n",
    "from sklearn.linear_model import LinearRegression\n",
    "from sklearn.neighbors import KNeighborsClassifier \n",
    "\n",
    "from sklearn.experimental import enable_iterative_imputer\n",
    "from sklearn.impute import SimpleImputer, KNNImputer, IterativeImputer, MissingIndicator"
   ]
  },
  {
   "cell_type": "markdown",
   "metadata": {},
   "source": [
    "## Learning Goals\n",
    "\n",
    "This Jupyter notebook accompanies Lecture 11. By the end of this lecture, you should be more comfortable with:\n",
    "\n",
    "- performing basic unsupervised clustering algorithms (k-means and hierarchical)\n",
    "- using basic imputation models to handle missingness"
   ]
  },
  {
   "cell_type": "markdown",
   "metadata": {},
   "source": [
    "## Part 0: Data \n",
    "\n",
    "For this section of the notebook we will be using 2 **unrelated** data sets:\n",
    "\n",
    "1. The classic Fisher's Iris data set: [Wiki reference](https://en.wikipedia.org/wiki/Iris_flower_data_set)\n",
    "2. `receiving_2020.csv`: NFL receiving statistics: [Source](https://www.pro-football-reference.com/years/2020/receiving.htm).  Note: receivers with fewer than 10 yards were removed.\n",
    "\n",
    "Let's take a peak at them both:"
   ]
  },
  {
   "cell_type": "code",
   "execution_count": 3,
   "metadata": {},
   "outputs": [
    {
     "name": "stdout",
     "output_type": "stream",
     "text": [
      "['setosa' 'versicolor' 'virginica']\n"
     ]
    },
    {
     "data": {
      "text/plain": [
       "(array([0, 1, 2]), array([50, 50, 50]))"
      ]
     },
     "execution_count": 3,
     "metadata": {},
     "output_type": "execute_result"
    }
   ],
   "source": [
    "# First, the common iris data set (from sklearn)\n",
    "from sklearn import datasets\n",
    "iris = datasets.load_iris()\n",
    "X = pd.DataFrame(iris.data)  \n",
    "X.columns = iris.feature_names\n",
    "y = iris.target\n",
    "print(iris.target_names)\n",
    "np.unique(y,return_counts=True)"
   ]
  },
  {
   "cell_type": "code",
   "execution_count": 4,
   "metadata": {},
   "outputs": [
    {
     "name": "stdout",
     "output_type": "stream",
     "text": [
      "(150, 4) (150,)\n"
     ]
    },
    {
     "data": {
      "text/html": [
       "<div>\n",
       "<style scoped>\n",
       "    .dataframe tbody tr th:only-of-type {\n",
       "        vertical-align: middle;\n",
       "    }\n",
       "\n",
       "    .dataframe tbody tr th {\n",
       "        vertical-align: top;\n",
       "    }\n",
       "\n",
       "    .dataframe thead th {\n",
       "        text-align: right;\n",
       "    }\n",
       "</style>\n",
       "<table border=\"1\" class=\"dataframe\">\n",
       "  <thead>\n",
       "    <tr style=\"text-align: right;\">\n",
       "      <th></th>\n",
       "      <th>sepal length (cm)</th>\n",
       "      <th>sepal width (cm)</th>\n",
       "      <th>petal length (cm)</th>\n",
       "      <th>petal width (cm)</th>\n",
       "    </tr>\n",
       "  </thead>\n",
       "  <tbody>\n",
       "    <tr>\n",
       "      <th>0</th>\n",
       "      <td>5.1</td>\n",
       "      <td>3.5</td>\n",
       "      <td>1.4</td>\n",
       "      <td>0.2</td>\n",
       "    </tr>\n",
       "    <tr>\n",
       "      <th>1</th>\n",
       "      <td>4.9</td>\n",
       "      <td>3.0</td>\n",
       "      <td>1.4</td>\n",
       "      <td>0.2</td>\n",
       "    </tr>\n",
       "    <tr>\n",
       "      <th>2</th>\n",
       "      <td>4.7</td>\n",
       "      <td>3.2</td>\n",
       "      <td>1.3</td>\n",
       "      <td>0.2</td>\n",
       "    </tr>\n",
       "    <tr>\n",
       "      <th>3</th>\n",
       "      <td>4.6</td>\n",
       "      <td>3.1</td>\n",
       "      <td>1.5</td>\n",
       "      <td>0.2</td>\n",
       "    </tr>\n",
       "    <tr>\n",
       "      <th>4</th>\n",
       "      <td>5.0</td>\n",
       "      <td>3.6</td>\n",
       "      <td>1.4</td>\n",
       "      <td>0.2</td>\n",
       "    </tr>\n",
       "  </tbody>\n",
       "</table>\n",
       "</div>"
      ],
      "text/plain": [
       "   sepal length (cm)  sepal width (cm)  petal length (cm)  petal width (cm)\n",
       "0                5.1               3.5                1.4               0.2\n",
       "1                4.9               3.0                1.4               0.2\n",
       "2                4.7               3.2                1.3               0.2\n",
       "3                4.6               3.1                1.5               0.2\n",
       "4                5.0               3.6                1.4               0.2"
      ]
     },
     "execution_count": 4,
     "metadata": {},
     "output_type": "execute_result"
    }
   ],
   "source": [
    "print(X.shape, y.shape)\n",
    "X.head()"
   ]
  },
  {
   "cell_type": "code",
   "execution_count": 5,
   "metadata": {},
   "outputs": [
    {
     "name": "stdout",
     "output_type": "stream",
     "text": [
      "(455, 35)\n"
     ]
    },
    {
     "data": {
      "text/html": [
       "<div>\n",
       "<style scoped>\n",
       "    .dataframe tbody tr th:only-of-type {\n",
       "        vertical-align: middle;\n",
       "    }\n",
       "\n",
       "    .dataframe tbody tr th {\n",
       "        vertical-align: top;\n",
       "    }\n",
       "\n",
       "    .dataframe thead th {\n",
       "        text-align: right;\n",
       "    }\n",
       "</style>\n",
       "<table border=\"1\" class=\"dataframe\">\n",
       "  <thead>\n",
       "    <tr style=\"text-align: right;\">\n",
       "      <th></th>\n",
       "      <th>rank</th>\n",
       "      <th>player</th>\n",
       "      <th>id</th>\n",
       "      <th>team</th>\n",
       "      <th>age</th>\n",
       "      <th>pos</th>\n",
       "      <th>yards_before_catch</th>\n",
       "      <th>ybc_per_reception</th>\n",
       "      <th>yards_after_catch</th>\n",
       "      <th>before_catch_perc</th>\n",
       "      <th>...</th>\n",
       "      <th>td_per_reception</th>\n",
       "      <th>td</th>\n",
       "      <th>firstdowns_per_reception</th>\n",
       "      <th>first_downs</th>\n",
       "      <th>long</th>\n",
       "      <th>yards_per_target</th>\n",
       "      <th>receptions_per_game</th>\n",
       "      <th>yards_per_game</th>\n",
       "      <th>fumbles</th>\n",
       "      <th>fum_per_reception</th>\n",
       "    </tr>\n",
       "  </thead>\n",
       "  <tbody>\n",
       "    <tr>\n",
       "      <th>0</th>\n",
       "      <td>1</td>\n",
       "      <td>Stefon Diggs*+</td>\n",
       "      <td>DiggSt00</td>\n",
       "      <td>BUF</td>\n",
       "      <td>27</td>\n",
       "      <td>WR</td>\n",
       "      <td>1071</td>\n",
       "      <td>8.4</td>\n",
       "      <td>464</td>\n",
       "      <td>0.697720</td>\n",
       "      <td>...</td>\n",
       "      <td>0.062992</td>\n",
       "      <td>8</td>\n",
       "      <td>0.574803</td>\n",
       "      <td>73</td>\n",
       "      <td>55</td>\n",
       "      <td>9.2</td>\n",
       "      <td>7.9</td>\n",
       "      <td>95.9</td>\n",
       "      <td>0</td>\n",
       "      <td>0.000000</td>\n",
       "    </tr>\n",
       "    <tr>\n",
       "      <th>1</th>\n",
       "      <td>5</td>\n",
       "      <td>Travis Kelce*+</td>\n",
       "      <td>KelcTr00</td>\n",
       "      <td>KAN</td>\n",
       "      <td>31</td>\n",
       "      <td>TE</td>\n",
       "      <td>829</td>\n",
       "      <td>7.9</td>\n",
       "      <td>587</td>\n",
       "      <td>0.585452</td>\n",
       "      <td>...</td>\n",
       "      <td>0.104762</td>\n",
       "      <td>11</td>\n",
       "      <td>0.752381</td>\n",
       "      <td>79</td>\n",
       "      <td>45</td>\n",
       "      <td>9.8</td>\n",
       "      <td>7.0</td>\n",
       "      <td>94.4</td>\n",
       "      <td>1</td>\n",
       "      <td>0.009524</td>\n",
       "    </tr>\n",
       "    <tr>\n",
       "      <th>2</th>\n",
       "      <td>3</td>\n",
       "      <td>DeAndre Hopkins*</td>\n",
       "      <td>HopkDe00</td>\n",
       "      <td>ARI</td>\n",
       "      <td>28</td>\n",
       "      <td>WR</td>\n",
       "      <td>873</td>\n",
       "      <td>7.6</td>\n",
       "      <td>534</td>\n",
       "      <td>0.620469</td>\n",
       "      <td>...</td>\n",
       "      <td>0.052174</td>\n",
       "      <td>6</td>\n",
       "      <td>0.652174</td>\n",
       "      <td>75</td>\n",
       "      <td>60</td>\n",
       "      <td>8.8</td>\n",
       "      <td>7.2</td>\n",
       "      <td>87.9</td>\n",
       "      <td>3</td>\n",
       "      <td>0.026087</td>\n",
       "    </tr>\n",
       "    <tr>\n",
       "      <th>3</th>\n",
       "      <td>15</td>\n",
       "      <td>Justin Jefferson *</td>\n",
       "      <td>JeffJu00</td>\n",
       "      <td>MIN</td>\n",
       "      <td>21</td>\n",
       "      <td>WR</td>\n",
       "      <td>947</td>\n",
       "      <td>10.8</td>\n",
       "      <td>453</td>\n",
       "      <td>0.676429</td>\n",
       "      <td>...</td>\n",
       "      <td>0.079545</td>\n",
       "      <td>7</td>\n",
       "      <td>0.659091</td>\n",
       "      <td>58</td>\n",
       "      <td>71</td>\n",
       "      <td>11.2</td>\n",
       "      <td>5.5</td>\n",
       "      <td>87.5</td>\n",
       "      <td>1</td>\n",
       "      <td>0.011364</td>\n",
       "    </tr>\n",
       "    <tr>\n",
       "      <th>4</th>\n",
       "      <td>2</td>\n",
       "      <td>Davante Adams*+</td>\n",
       "      <td>AdamDa01</td>\n",
       "      <td>GNB</td>\n",
       "      <td>28</td>\n",
       "      <td>WR</td>\n",
       "      <td>777</td>\n",
       "      <td>6.8</td>\n",
       "      <td>597</td>\n",
       "      <td>0.565502</td>\n",
       "      <td>...</td>\n",
       "      <td>0.156522</td>\n",
       "      <td>18</td>\n",
       "      <td>0.634783</td>\n",
       "      <td>73</td>\n",
       "      <td>56</td>\n",
       "      <td>9.2</td>\n",
       "      <td>8.2</td>\n",
       "      <td>98.1</td>\n",
       "      <td>1</td>\n",
       "      <td>0.008696</td>\n",
       "    </tr>\n",
       "  </tbody>\n",
       "</table>\n",
       "<p>5 rows × 35 columns</p>\n",
       "</div>"
      ],
      "text/plain": [
       "   rank              player        id team  age pos  yards_before_catch  \\\n",
       "0     1      Stefon Diggs*+  DiggSt00  BUF   27  WR                1071   \n",
       "1     5      Travis Kelce*+  KelcTr00  KAN   31  TE                 829   \n",
       "2     3    DeAndre Hopkins*  HopkDe00  ARI   28  WR                 873   \n",
       "3    15  Justin Jefferson *  JeffJu00  MIN   21  WR                 947   \n",
       "4     2     Davante Adams*+  AdamDa01  GNB   28  WR                 777   \n",
       "\n",
       "   ybc_per_reception  yards_after_catch  before_catch_perc  ...  \\\n",
       "0                8.4                464           0.697720  ...   \n",
       "1                7.9                587           0.585452  ...   \n",
       "2                7.6                534           0.620469  ...   \n",
       "3               10.8                453           0.676429  ...   \n",
       "4                6.8                597           0.565502  ...   \n",
       "\n",
       "   td_per_reception  td  firstdowns_per_reception  first_downs  long  \\\n",
       "0          0.062992   8                  0.574803           73    55   \n",
       "1          0.104762  11                  0.752381           79    45   \n",
       "2          0.052174   6                  0.652174           75    60   \n",
       "3          0.079545   7                  0.659091           58    71   \n",
       "4          0.156522  18                  0.634783           73    56   \n",
       "\n",
       "   yards_per_target  receptions_per_game  yards_per_game  fumbles  \\\n",
       "0               9.2                  7.9            95.9        0   \n",
       "1               9.8                  7.0            94.4        1   \n",
       "2               8.8                  7.2            87.9        3   \n",
       "3              11.2                  5.5            87.5        1   \n",
       "4               9.2                  8.2            98.1        1   \n",
       "\n",
       "   fum_per_reception  \n",
       "0           0.000000  \n",
       "1           0.009524  \n",
       "2           0.026087  \n",
       "3           0.011364  \n",
       "4           0.008696  \n",
       "\n",
       "[5 rows x 35 columns]"
      ]
     },
     "execution_count": 5,
     "metadata": {},
     "output_type": "execute_result"
    }
   ],
   "source": [
    "wr = pd.read_csv('../data/receiving_2020.csv')\n",
    "print(wr.shape)\n",
    "wr.head()"
   ]
  },
  {
   "cell_type": "markdown",
   "metadata": {},
   "source": [
    "## Part 1a: *K*-Means Clustering\n",
    "\n",
    "We first attempt *K*-Means clustering on the iris data set, which has a clear response variable (iris type).  Let's see if we can recover the three types through unsupervised clustering.  This is done using [`KMeans`](https://scikit-learn.org/stable/modules/generated/sklearn.cluster.KMeans.html) in `sklearn.cluster`.\n",
    "\n",
    "Let's start with $K=2$...unstandardized:"
   ]
  },
  {
   "cell_type": "code",
   "execution_count": 6,
   "metadata": {},
   "outputs": [
    {
     "name": "stdout",
     "output_type": "stream",
     "text": [
      "Sum of Squared Distances = 58.204092789066756\n",
      "Predicted clusters for each observation = [1 1 1 1 1 1 1 1 1 1 1 1 1 1 1 1 1 1 1 1 1 1 1 1 1 1 1 1 1 1 1 1 1 1 1 1 1\n",
      " 1 1 1 1 1 1 1 1 1 1 1 1 1 0 0 0 1 0 1 0 1 0 1 1 1 0 0 1 0 1 1 0 1 1 0 0 0\n",
      " 0 0 0 0 0 1 1 1 1 0 1 0 0 0 1 1 1 0 1 1 1 1 1 0 1 1 0 1 0 0 0 0 1 0 0 0 0\n",
      " 0 0 1 1 0 0 0 0 0 0 1 0 0 0 0 0 0 0 0 0 0 0 0 0 0 0 0 0 0 0 0 1 0 0 0 0 0\n",
      " 0 1]\n",
      "Centroid vectors = [[6.61044776 2.96567164]\n",
      " [5.22409639 3.1313253 ]]\n"
     ]
    }
   ],
   "source": [
    "from sklearn.cluster import KMeans\n",
    "\n",
    "kmeans2 = KMeans(n_clusters=2, random_state=109).fit(X[['sepal length (cm)','sepal width (cm)']])\n",
    "\n",
    "# sum of squares from the centroids\n",
    "print(\"Sum of Squared Distances =\", kmeans2.inertia_)\n",
    "\n",
    "#predict for new (or current) observations\n",
    "print(\"Predicted clusters for each observation =\", kmeans2.predict(X[['sepal length (cm)','sepal width (cm)']]))\n",
    "# print(kmeans2.labels_): predict will match this for the training set\n",
    "\n",
    "#the centroids\n",
    "print(\"Centroid vectors =\", kmeans2.cluster_centers_)\n"
   ]
  },
  {
   "cell_type": "code",
   "execution_count": 7,
   "metadata": {},
   "outputs": [
    {
     "data": {
      "image/png": "[encoded data removed]",
      "text/plain": [
       "<Figure size 432x288 with 1 Axes>"
      ]
     },
     "metadata": {
      "needs_background": "light"
     },
     "output_type": "display_data"
    }
   ],
   "source": [
    "plt.scatter(X['sepal length (cm)'],X['sepal width (cm)'],c=kmeans2.labels_);"
   ]
  },
  {
   "cell_type": "markdown",
   "metadata": {},
   "source": [
    "**Q1.1** Edit the code above to re-run the analysis with various different seeds.  Do the results change?"
   ]
  },
  {
   "cell_type": "markdown",
   "metadata": {},
   "source": [
    "**Answer:** Yes the results change.  The classes sometimes flip, and if you get \"unlucky\", you may get a slightly different clustering (more likely to happen with more clusters or with more predictors than just 2). Recall: the initialization is random, and thus can lead to slightly different results (converging to a different local minimum).\n",
    "\n"
   ]
  },
  {
   "cell_type": "markdown",
   "metadata": {},
   "source": [
    "**Q1.2** Edit the code above to re-run the analysis using the standardized predictors (the first two) and compare the results."
   ]
  },
  {
   "cell_type": "code",
   "execution_count": 8,
   "metadata": {},
   "outputs": [
    {
     "data": {
      "image/png": "[encoded data removed]",
      "text/plain": [
       "<Figure size 432x288 with 1 Axes>"
      ]
     },
     "metadata": {
      "needs_background": "light"
     },
     "output_type": "display_data"
    }
   ],
   "source": [
    "########\n",
    "# your code here\n",
    "########\n",
    "from sklearn.preprocessing import StandardScaler\n",
    "\n",
    "X_std = StandardScaler().fit(X[['sepal length (cm)','sepal width (cm)']]).transform(X[['sepal length (cm)','sepal width (cm)']])\n",
    "kmeans2 = KMeans(n_clusters=2, random_state=109).fit(X_std)\n",
    "\n",
    "plt.scatter(X['sepal length (cm)'],X['sepal width (cm)'],c=kmeans2.labels_);\n"
   ]
  },
  {
   "cell_type": "markdown",
   "metadata": {},
   "source": [
    "**Answer:** This clustering seems to make more sense visually: here, the lower-right points seem to be one cluster, and should not be split across the two clusters (as was done originally).  Standardizing is typically a better choice."
   ]
  },
  {
   "cell_type": "markdown",
   "metadata": {},
   "source": [
    "**Q1.3** Re-run the analysis from above for $K=3$ and $K=4$.  Which appears to perform the best based on the scatterplots and based on the elbow method?"
   ]
  },
  {
   "cell_type": "code",
   "execution_count": 9,
   "metadata": {},
   "outputs": [],
   "source": [
    "########\n",
    "# edit and add to the code below\n",
    "########\n",
    "\n",
    "kmeans3 = KMeans(n_clusters=3, random_state=42).fit(X_std)\n",
    "kmeans4 = KMeans(n_clusters=4, random_state=42).fit(X_std)\n",
    "\n"
   ]
  },
  {
   "cell_type": "code",
   "execution_count": 10,
   "metadata": {},
   "outputs": [
    {
     "data": {
      "image/png": "[encoded data removed]",
      "text/plain": [
       "<Figure size 1296x360 with 3 Axes>"
      ]
     },
     "metadata": {
      "needs_background": "light"
     },
     "output_type": "display_data"
    }
   ],
   "source": [
    "# plot the three scatterplots like the one from above\n",
    "fig, (ax1, ax2, ax3) = plt.subplots(1, 3, figsize = (18,5))\n",
    "\n",
    "ax1.scatter(X['sepal length (cm)'],X['sepal width (cm)'],c=kmeans2.labels_);\n",
    "ax2.scatter(X['sepal length (cm)'],X['sepal width (cm)'],c=kmeans3.labels_);\n",
    "ax3.scatter(X['sepal length (cm)'],X['sepal width (cm)'],c=kmeans4.labels_);\n",
    "\n",
    "plt.show();"
   ]
  },
  {
   "cell_type": "code",
   "execution_count": 11,
   "metadata": {},
   "outputs": [
    {
     "data": {
      "image/png": "[encoded data removed]",
      "text/plain": [
       "<Figure size 432x288 with 1 Axes>"
      ]
     },
     "metadata": {
      "needs_background": "light"
     },
     "output_type": "display_data"
    }
   ],
   "source": [
    "# plot (y = Sum of Squared Distances) vs. (x = K) and evaluate.\n",
    "\n",
    "plt.plot([2,3,4],[kmeans2.inertia_,kmeans3.inertia_,kmeans4.inertia_]);\n",
    "\n"
   ]
  },
  {
   "cell_type": "markdown",
   "metadata": {},
   "source": [
    "**Answer:** Eyeballing it from the scatterplots, I would actually suggest using $K=2$ as splitting either of those two clusters does not seem necessary, though I can see arguments for $K=3$. The elbow method suggests $K=3$ is likely a wise choice as there is a kink at that point in the plot (more $K$s should be considered to be certain of this choice)."
   ]
  },
  {
   "cell_type": "markdown",
   "metadata": {},
   "source": [
    "**Q1.4** Compare the $K=3$ model with the actual 3 classes (`pd.crosstab` may be helpful).  How did we perform."
   ]
  },
  {
   "cell_type": "code",
   "execution_count": 12,
   "metadata": {},
   "outputs": [
    {
     "data": {
      "text/html": [
       "<div>\n",
       "<style scoped>\n",
       "    .dataframe tbody tr th:only-of-type {\n",
       "        vertical-align: middle;\n",
       "    }\n",
       "\n",
       "    .dataframe tbody tr th {\n",
       "        vertical-align: top;\n",
       "    }\n",
       "\n",
       "    .dataframe thead th {\n",
       "        text-align: right;\n",
       "    }\n",
       "</style>\n",
       "<table border=\"1\" class=\"dataframe\">\n",
       "  <thead>\n",
       "    <tr style=\"text-align: right;\">\n",
       "      <th>col_0</th>\n",
       "      <th>0</th>\n",
       "      <th>1</th>\n",
       "      <th>2</th>\n",
       "    </tr>\n",
       "    <tr>\n",
       "      <th>row_0</th>\n",
       "      <th></th>\n",
       "      <th></th>\n",
       "      <th></th>\n",
       "    </tr>\n",
       "  </thead>\n",
       "  <tbody>\n",
       "    <tr>\n",
       "      <th>0</th>\n",
       "      <td>1</td>\n",
       "      <td>49</td>\n",
       "      <td>0</td>\n",
       "    </tr>\n",
       "    <tr>\n",
       "      <th>1</th>\n",
       "      <td>35</td>\n",
       "      <td>0</td>\n",
       "      <td>15</td>\n",
       "    </tr>\n",
       "    <tr>\n",
       "      <th>2</th>\n",
       "      <td>16</td>\n",
       "      <td>0</td>\n",
       "      <td>34</td>\n",
       "    </tr>\n",
       "  </tbody>\n",
       "</table>\n",
       "</div>"
      ],
      "text/plain": [
       "col_0   0   1   2\n",
       "row_0            \n",
       "0       1  49   0\n",
       "1      35   0  15\n",
       "2      16   0  34"
      ]
     },
     "execution_count": 12,
     "metadata": {},
     "output_type": "execute_result"
    }
   ],
   "source": [
    "#######\n",
    "# Your code here\n",
    "#######\n",
    "pd.crosstab(y,kmeans3.predict(X_std))"
   ]
  },
  {
   "cell_type": "markdown",
   "metadata": {},
   "source": [
    "**Answer:** Here we did pretty well to re-create the actual species (the rows represent `y` and the columns represent `y_hat`).  Species zero has 98% accuracy, while species 1 has 70% accuracy, and species 2 has 68% accuracy.  Note: when performing unsupervised clustering, the labels of the generated clusters/classes are swappable: the algorithm has no way to know which group should be 0 vs. 1 since there are no true labels involved."
   ]
  },
  {
   "cell_type": "markdown",
   "metadata": {},
   "source": [
    "---"
   ]
  },
  {
   "cell_type": "markdown",
   "metadata": {},
   "source": [
    "**Q1.5** Perform a *K*-Means clustering analysis on the receiving data using the following variables:\n",
    "\n",
    "`['age','before_after_ratio','depth_of_target','broken_tackles_per_reception','drop_perc', 'catch_perc','td_per_reception','firstdowns_per_reception','fum_per_reception']`.  \n",
    "\n",
    "Consider using `Ks = np.arange(2,15,1)`.  Which $K$ would you select based on the elbow method?\n",
    "\n",
    "Note: these variables were specifically chosen because they are not directly related to receiving ability...more a representation of play style."
   ]
  },
  {
   "cell_type": "code",
   "execution_count": 13,
   "metadata": {},
   "outputs": [
    {
     "data": {
      "image/png": "[encoded data removed]",
      "text/plain": [
       "<Figure size 432x288 with 1 Axes>"
      ]
     },
     "metadata": {
      "needs_background": "light"
     },
     "output_type": "display_data"
    }
   ],
   "source": [
    "#######\n",
    "# Your code here\n",
    "#######\n",
    "X = wr[['age','before_catch_perc','depth_of_target','broken_tackles_per_reception','drop_perc',\n",
    "        'catch_perc','td_per_reception','firstdowns_per_reception','fum_per_reception']]\n",
    "X_std =  pd.DataFrame(StandardScaler().fit_transform(X))\n",
    "\n",
    "Ks = np.arange(2,15,1)\n",
    "distances = []\n",
    "for K in Ks:\n",
    "    model = KMeans(n_clusters=K, random_state=109).fit(X_std)\n",
    "    distances = np.append(distances, model.inertia_)\n",
    "\n",
    "plt.plot(Ks,distances);\n",
    "\n"
   ]
  },
  {
   "cell_type": "markdown",
   "metadata": {},
   "source": [
    "**Answer:** I would argue that there is an elbow/kink at $K=3$, but an argument for either $K=5$ or $K=8$ is reasonable.  But the simpler model is typically preferred for interpretations, $K=3$ is what we will use going forward."
   ]
  },
  {
   "cell_type": "markdown",
   "metadata": {},
   "source": [
    "**Q1.6** Investigate the top 3 players in each of the clusters.  Are there any general patterns you notice (especially in the variables like `yards`, `rank`, and `pos`)?"
   ]
  },
  {
   "cell_type": "code",
   "execution_count": 14,
   "metadata": {},
   "outputs": [
    {
     "name": "stdout",
     "output_type": "stream",
     "text": [
      "(295, 35) (159, 35) (1, 35)\n"
     ]
    }
   ],
   "source": [
    "#######\n",
    "# Your code here\n",
    "#######\n",
    "\n",
    "model = KMeans(n_clusters=3, random_state=109).fit(X_std)\n",
    "\n",
    "cluster0 = wr[model.labels_==0]\n",
    "cluster1 = wr[model.labels_==1]\n",
    "cluster2 = wr[model.labels_==2]\n",
    "\n",
    "print(cluster0.shape,cluster1.shape,cluster2.shape)\n"
   ]
  },
  {
   "cell_type": "code",
   "execution_count": 15,
   "metadata": {},
   "outputs": [
    {
     "data": {
      "text/html": [
       "<div>\n",
       "<style scoped>\n",
       "    .dataframe tbody tr th:only-of-type {\n",
       "        vertical-align: middle;\n",
       "    }\n",
       "\n",
       "    .dataframe tbody tr th {\n",
       "        vertical-align: top;\n",
       "    }\n",
       "\n",
       "    .dataframe thead th {\n",
       "        text-align: right;\n",
       "    }\n",
       "</style>\n",
       "<table border=\"1\" class=\"dataframe\">\n",
       "  <thead>\n",
       "    <tr style=\"text-align: right;\">\n",
       "      <th></th>\n",
       "      <th>rank</th>\n",
       "      <th>player</th>\n",
       "      <th>id</th>\n",
       "      <th>team</th>\n",
       "      <th>age</th>\n",
       "      <th>pos</th>\n",
       "      <th>yards_before_catch</th>\n",
       "      <th>ybc_per_reception</th>\n",
       "      <th>yards_after_catch</th>\n",
       "      <th>before_catch_perc</th>\n",
       "      <th>...</th>\n",
       "      <th>td_per_reception</th>\n",
       "      <th>td</th>\n",
       "      <th>firstdowns_per_reception</th>\n",
       "      <th>first_downs</th>\n",
       "      <th>long</th>\n",
       "      <th>yards_per_target</th>\n",
       "      <th>receptions_per_game</th>\n",
       "      <th>yards_per_game</th>\n",
       "      <th>fumbles</th>\n",
       "      <th>fum_per_reception</th>\n",
       "    </tr>\n",
       "  </thead>\n",
       "  <tbody>\n",
       "    <tr>\n",
       "      <th>0</th>\n",
       "      <td>1</td>\n",
       "      <td>Stefon Diggs*+</td>\n",
       "      <td>DiggSt00</td>\n",
       "      <td>BUF</td>\n",
       "      <td>27</td>\n",
       "      <td>WR</td>\n",
       "      <td>1071</td>\n",
       "      <td>8.4</td>\n",
       "      <td>464</td>\n",
       "      <td>0.697720</td>\n",
       "      <td>...</td>\n",
       "      <td>0.062992</td>\n",
       "      <td>8</td>\n",
       "      <td>0.574803</td>\n",
       "      <td>73</td>\n",
       "      <td>55</td>\n",
       "      <td>9.2</td>\n",
       "      <td>7.9</td>\n",
       "      <td>95.9</td>\n",
       "      <td>0</td>\n",
       "      <td>0.000000</td>\n",
       "    </tr>\n",
       "    <tr>\n",
       "      <th>4</th>\n",
       "      <td>2</td>\n",
       "      <td>Davante Adams*+</td>\n",
       "      <td>AdamDa01</td>\n",
       "      <td>GNB</td>\n",
       "      <td>28</td>\n",
       "      <td>WR</td>\n",
       "      <td>777</td>\n",
       "      <td>6.8</td>\n",
       "      <td>597</td>\n",
       "      <td>0.565502</td>\n",
       "      <td>...</td>\n",
       "      <td>0.156522</td>\n",
       "      <td>18</td>\n",
       "      <td>0.634783</td>\n",
       "      <td>73</td>\n",
       "      <td>56</td>\n",
       "      <td>9.2</td>\n",
       "      <td>8.2</td>\n",
       "      <td>98.1</td>\n",
       "      <td>1</td>\n",
       "      <td>0.008696</td>\n",
       "    </tr>\n",
       "    <tr>\n",
       "      <th>2</th>\n",
       "      <td>3</td>\n",
       "      <td>DeAndre Hopkins*</td>\n",
       "      <td>HopkDe00</td>\n",
       "      <td>ARI</td>\n",
       "      <td>28</td>\n",
       "      <td>WR</td>\n",
       "      <td>873</td>\n",
       "      <td>7.6</td>\n",
       "      <td>534</td>\n",
       "      <td>0.620469</td>\n",
       "      <td>...</td>\n",
       "      <td>0.052174</td>\n",
       "      <td>6</td>\n",
       "      <td>0.652174</td>\n",
       "      <td>75</td>\n",
       "      <td>60</td>\n",
       "      <td>8.8</td>\n",
       "      <td>7.2</td>\n",
       "      <td>87.9</td>\n",
       "      <td>3</td>\n",
       "      <td>0.026087</td>\n",
       "    </tr>\n",
       "  </tbody>\n",
       "</table>\n",
       "<p>3 rows × 35 columns</p>\n",
       "</div>"
      ],
      "text/plain": [
       "   rank            player        id team  age pos  yards_before_catch  \\\n",
       "0     1    Stefon Diggs*+  DiggSt00  BUF   27  WR                1071   \n",
       "4     2   Davante Adams*+  AdamDa01  GNB   28  WR                 777   \n",
       "2     3  DeAndre Hopkins*  HopkDe00  ARI   28  WR                 873   \n",
       "\n",
       "   ybc_per_reception  yards_after_catch  before_catch_perc  ...  \\\n",
       "0                8.4                464           0.697720  ...   \n",
       "4                6.8                597           0.565502  ...   \n",
       "2                7.6                534           0.620469  ...   \n",
       "\n",
       "   td_per_reception  td  firstdowns_per_reception  first_downs  long  \\\n",
       "0          0.062992   8                  0.574803           73    55   \n",
       "4          0.156522  18                  0.634783           73    56   \n",
       "2          0.052174   6                  0.652174           75    60   \n",
       "\n",
       "   yards_per_target  receptions_per_game  yards_per_game  fumbles  \\\n",
       "0               9.2                  7.9            95.9        0   \n",
       "4               9.2                  8.2            98.1        1   \n",
       "2               8.8                  7.2            87.9        3   \n",
       "\n",
       "   fum_per_reception  \n",
       "0           0.000000  \n",
       "4           0.008696  \n",
       "2           0.026087  \n",
       "\n",
       "[3 rows x 35 columns]"
      ]
     },
     "execution_count": 15,
     "metadata": {},
     "output_type": "execute_result"
    }
   ],
   "source": [
    "cluster0.iloc[np.argsort(cluster0['rank'])][:3]"
   ]
  },
  {
   "cell_type": "code",
   "execution_count": 16,
   "metadata": {},
   "outputs": [
    {
     "data": {
      "text/html": [
       "<div>\n",
       "<style scoped>\n",
       "    .dataframe tbody tr th:only-of-type {\n",
       "        vertical-align: middle;\n",
       "    }\n",
       "\n",
       "    .dataframe tbody tr th {\n",
       "        vertical-align: top;\n",
       "    }\n",
       "\n",
       "    .dataframe thead th {\n",
       "        text-align: right;\n",
       "    }\n",
       "</style>\n",
       "<table border=\"1\" class=\"dataframe\">\n",
       "  <thead>\n",
       "    <tr style=\"text-align: right;\">\n",
       "      <th></th>\n",
       "      <th>rank</th>\n",
       "      <th>player</th>\n",
       "      <th>id</th>\n",
       "      <th>team</th>\n",
       "      <th>age</th>\n",
       "      <th>pos</th>\n",
       "      <th>yards_before_catch</th>\n",
       "      <th>ybc_per_reception</th>\n",
       "      <th>yards_after_catch</th>\n",
       "      <th>before_catch_perc</th>\n",
       "      <th>...</th>\n",
       "      <th>td_per_reception</th>\n",
       "      <th>td</th>\n",
       "      <th>firstdowns_per_reception</th>\n",
       "      <th>first_downs</th>\n",
       "      <th>long</th>\n",
       "      <th>yards_per_target</th>\n",
       "      <th>receptions_per_game</th>\n",
       "      <th>yards_per_game</th>\n",
       "      <th>fumbles</th>\n",
       "      <th>fum_per_reception</th>\n",
       "    </tr>\n",
       "  </thead>\n",
       "  <tbody>\n",
       "    <tr>\n",
       "      <th>43</th>\n",
       "      <td>19</td>\n",
       "      <td>Alvin Kamara *</td>\n",
       "      <td>KamaAl00</td>\n",
       "      <td>NOR</td>\n",
       "      <td>25</td>\n",
       "      <td>rb</td>\n",
       "      <td>25</td>\n",
       "      <td>0.3</td>\n",
       "      <td>731</td>\n",
       "      <td>0.033069</td>\n",
       "      <td>...</td>\n",
       "      <td>0.060241</td>\n",
       "      <td>5</td>\n",
       "      <td>0.421687</td>\n",
       "      <td>35</td>\n",
       "      <td>52</td>\n",
       "      <td>7.1</td>\n",
       "      <td>5.5</td>\n",
       "      <td>50.4</td>\n",
       "      <td>1</td>\n",
       "      <td>0.012048</td>\n",
       "    </tr>\n",
       "    <tr>\n",
       "      <th>76</th>\n",
       "      <td>23</td>\n",
       "      <td>J.D. McKissic</td>\n",
       "      <td>McKiJ.00</td>\n",
       "      <td>WAS</td>\n",
       "      <td>27</td>\n",
       "      <td>rb</td>\n",
       "      <td>86</td>\n",
       "      <td>1.1</td>\n",
       "      <td>503</td>\n",
       "      <td>0.146010</td>\n",
       "      <td>...</td>\n",
       "      <td>0.025000</td>\n",
       "      <td>2</td>\n",
       "      <td>0.400000</td>\n",
       "      <td>32</td>\n",
       "      <td>29</td>\n",
       "      <td>5.4</td>\n",
       "      <td>5.0</td>\n",
       "      <td>36.8</td>\n",
       "      <td>3</td>\n",
       "      <td>0.037500</td>\n",
       "    </tr>\n",
       "    <tr>\n",
       "      <th>92</th>\n",
       "      <td>41</td>\n",
       "      <td>Nyheim Hines</td>\n",
       "      <td>HineNy00</td>\n",
       "      <td>IND</td>\n",
       "      <td>24</td>\n",
       "      <td>rb</td>\n",
       "      <td>12</td>\n",
       "      <td>0.2</td>\n",
       "      <td>470</td>\n",
       "      <td>0.024896</td>\n",
       "      <td>...</td>\n",
       "      <td>0.063492</td>\n",
       "      <td>4</td>\n",
       "      <td>0.380952</td>\n",
       "      <td>24</td>\n",
       "      <td>29</td>\n",
       "      <td>6.3</td>\n",
       "      <td>3.9</td>\n",
       "      <td>30.1</td>\n",
       "      <td>0</td>\n",
       "      <td>0.000000</td>\n",
       "    </tr>\n",
       "  </tbody>\n",
       "</table>\n",
       "<p>3 rows × 35 columns</p>\n",
       "</div>"
      ],
      "text/plain": [
       "    rank          player        id team  age pos  yards_before_catch  \\\n",
       "43    19  Alvin Kamara *  KamaAl00  NOR   25  rb                  25   \n",
       "76    23   J.D. McKissic  McKiJ.00  WAS   27  rb                  86   \n",
       "92    41    Nyheim Hines  HineNy00  IND   24  rb                  12   \n",
       "\n",
       "    ybc_per_reception  yards_after_catch  before_catch_perc  ...  \\\n",
       "43                0.3                731           0.033069  ...   \n",
       "76                1.1                503           0.146010  ...   \n",
       "92                0.2                470           0.024896  ...   \n",
       "\n",
       "    td_per_reception  td  firstdowns_per_reception  first_downs  long  \\\n",
       "43          0.060241   5                  0.421687           35    52   \n",
       "76          0.025000   2                  0.400000           32    29   \n",
       "92          0.063492   4                  0.380952           24    29   \n",
       "\n",
       "    yards_per_target  receptions_per_game  yards_per_game  fumbles  \\\n",
       "43               7.1                  5.5            50.4        1   \n",
       "76               5.4                  5.0            36.8        3   \n",
       "92               6.3                  3.9            30.1        0   \n",
       "\n",
       "    fum_per_reception  \n",
       "43           0.012048  \n",
       "76           0.037500  \n",
       "92           0.000000  \n",
       "\n",
       "[3 rows x 35 columns]"
      ]
     },
     "execution_count": 16,
     "metadata": {},
     "output_type": "execute_result"
    }
   ],
   "source": [
    "cluster1.iloc[np.argsort(cluster1['rank'])][:3]"
   ]
  },
  {
   "cell_type": "code",
   "execution_count": 17,
   "metadata": {},
   "outputs": [
    {
     "data": {
      "text/html": [
       "<div>\n",
       "<style scoped>\n",
       "    .dataframe tbody tr th:only-of-type {\n",
       "        vertical-align: middle;\n",
       "    }\n",
       "\n",
       "    .dataframe tbody tr th {\n",
       "        vertical-align: top;\n",
       "    }\n",
       "\n",
       "    .dataframe thead th {\n",
       "        text-align: right;\n",
       "    }\n",
       "</style>\n",
       "<table border=\"1\" class=\"dataframe\">\n",
       "  <thead>\n",
       "    <tr style=\"text-align: right;\">\n",
       "      <th></th>\n",
       "      <th>rank</th>\n",
       "      <th>player</th>\n",
       "      <th>id</th>\n",
       "      <th>team</th>\n",
       "      <th>age</th>\n",
       "      <th>pos</th>\n",
       "      <th>yards_before_catch</th>\n",
       "      <th>ybc_per_reception</th>\n",
       "      <th>yards_after_catch</th>\n",
       "      <th>before_catch_perc</th>\n",
       "      <th>...</th>\n",
       "      <th>td_per_reception</th>\n",
       "      <th>td</th>\n",
       "      <th>firstdowns_per_reception</th>\n",
       "      <th>first_downs</th>\n",
       "      <th>long</th>\n",
       "      <th>yards_per_target</th>\n",
       "      <th>receptions_per_game</th>\n",
       "      <th>yards_per_game</th>\n",
       "      <th>fumbles</th>\n",
       "      <th>fum_per_reception</th>\n",
       "    </tr>\n",
       "  </thead>\n",
       "  <tbody>\n",
       "    <tr>\n",
       "      <th>441</th>\n",
       "      <td>435</td>\n",
       "      <td>Josh Allen *</td>\n",
       "      <td>AlleJo02</td>\n",
       "      <td>BUF</td>\n",
       "      <td>24</td>\n",
       "      <td>QB</td>\n",
       "      <td>-5</td>\n",
       "      <td>-5.0</td>\n",
       "      <td>17</td>\n",
       "      <td>-0.416667</td>\n",
       "      <td>...</td>\n",
       "      <td>1.0</td>\n",
       "      <td>1</td>\n",
       "      <td>1.0</td>\n",
       "      <td>1</td>\n",
       "      <td>12</td>\n",
       "      <td>12.0</td>\n",
       "      <td>0.1</td>\n",
       "      <td>0.8</td>\n",
       "      <td>9</td>\n",
       "      <td>9.0</td>\n",
       "    </tr>\n",
       "  </tbody>\n",
       "</table>\n",
       "<p>1 rows × 35 columns</p>\n",
       "</div>"
      ],
      "text/plain": [
       "     rank        player        id team  age pos  yards_before_catch  \\\n",
       "441   435  Josh Allen *  AlleJo02  BUF   24  QB                  -5   \n",
       "\n",
       "     ybc_per_reception  yards_after_catch  before_catch_perc  ...  \\\n",
       "441               -5.0                 17          -0.416667  ...   \n",
       "\n",
       "     td_per_reception  td  firstdowns_per_reception  first_downs  long  \\\n",
       "441               1.0   1                       1.0            1    12   \n",
       "\n",
       "     yards_per_target  receptions_per_game  yards_per_game  fumbles  \\\n",
       "441              12.0                  0.1             0.8        9   \n",
       "\n",
       "     fum_per_reception  \n",
       "441                9.0  \n",
       "\n",
       "[1 rows x 35 columns]"
      ]
     },
     "execution_count": 17,
     "metadata": {},
     "output_type": "execute_result"
    }
   ],
   "source": [
    "cluster2"
   ]
  },
  {
   "cell_type": "code",
   "execution_count": 18,
   "metadata": {},
   "outputs": [
    {
     "data": {
      "text/html": [
       "<div>\n",
       "<style scoped>\n",
       "    .dataframe tbody tr th:only-of-type {\n",
       "        vertical-align: middle;\n",
       "    }\n",
       "\n",
       "    .dataframe tbody tr th {\n",
       "        vertical-align: top;\n",
       "    }\n",
       "\n",
       "    .dataframe thead th {\n",
       "        text-align: right;\n",
       "    }\n",
       "</style>\n",
       "<table border=\"1\" class=\"dataframe\">\n",
       "  <thead>\n",
       "    <tr style=\"text-align: right;\">\n",
       "      <th>pos</th>\n",
       "      <th>FB</th>\n",
       "      <th>QB</th>\n",
       "      <th>RB</th>\n",
       "      <th>TE</th>\n",
       "      <th>WR</th>\n",
       "      <th>fb</th>\n",
       "      <th>qb</th>\n",
       "      <th>rb</th>\n",
       "      <th>ss</th>\n",
       "      <th>te</th>\n",
       "      <th>wr</th>\n",
       "    </tr>\n",
       "    <tr>\n",
       "      <th>row_0</th>\n",
       "      <th></th>\n",
       "      <th></th>\n",
       "      <th></th>\n",
       "      <th></th>\n",
       "      <th></th>\n",
       "      <th></th>\n",
       "      <th></th>\n",
       "      <th></th>\n",
       "      <th></th>\n",
       "      <th></th>\n",
       "      <th></th>\n",
       "    </tr>\n",
       "  </thead>\n",
       "  <tbody>\n",
       "    <tr>\n",
       "      <th>0</th>\n",
       "      <td>2</td>\n",
       "      <td>1</td>\n",
       "      <td>0</td>\n",
       "      <td>22</td>\n",
       "      <td>53</td>\n",
       "      <td>0</td>\n",
       "      <td>1</td>\n",
       "      <td>2</td>\n",
       "      <td>0</td>\n",
       "      <td>54</td>\n",
       "      <td>97</td>\n",
       "    </tr>\n",
       "    <tr>\n",
       "      <th>1</th>\n",
       "      <td>1</td>\n",
       "      <td>0</td>\n",
       "      <td>21</td>\n",
       "      <td>7</td>\n",
       "      <td>0</td>\n",
       "      <td>7</td>\n",
       "      <td>0</td>\n",
       "      <td>49</td>\n",
       "      <td>1</td>\n",
       "      <td>4</td>\n",
       "      <td>9</td>\n",
       "    </tr>\n",
       "    <tr>\n",
       "      <th>2</th>\n",
       "      <td>0</td>\n",
       "      <td>1</td>\n",
       "      <td>0</td>\n",
       "      <td>0</td>\n",
       "      <td>0</td>\n",
       "      <td>0</td>\n",
       "      <td>0</td>\n",
       "      <td>0</td>\n",
       "      <td>0</td>\n",
       "      <td>0</td>\n",
       "      <td>0</td>\n",
       "    </tr>\n",
       "  </tbody>\n",
       "</table>\n",
       "</div>"
      ],
      "text/plain": [
       "pos    FB  QB  RB  TE  WR  fb  qb  rb  ss  te  wr\n",
       "row_0                                            \n",
       "0       2   1   0  22  53   0   1   2   0  54  97\n",
       "1       1   0  21   7   0   7   0  49   1   4   9\n",
       "2       0   1   0   0   0   0   0   0   0   0   0"
      ]
     },
     "execution_count": 18,
     "metadata": {},
     "output_type": "execute_result"
    }
   ],
   "source": [
    "pd.crosstab(model.labels_,wr.pos)"
   ]
  },
  {
   "cell_type": "code",
   "execution_count": 19,
   "metadata": {},
   "outputs": [
    {
     "data": {
      "text/html": [
       "<div>\n",
       "<style scoped>\n",
       "    .dataframe tbody tr th:only-of-type {\n",
       "        vertical-align: middle;\n",
       "    }\n",
       "\n",
       "    .dataframe tbody tr th {\n",
       "        vertical-align: top;\n",
       "    }\n",
       "\n",
       "    .dataframe thead th {\n",
       "        text-align: right;\n",
       "    }\n",
       "</style>\n",
       "<table border=\"1\" class=\"dataframe\">\n",
       "  <thead>\n",
       "    <tr style=\"text-align: right;\">\n",
       "      <th>pos</th>\n",
       "      <th>fb</th>\n",
       "      <th>qb</th>\n",
       "      <th>rb</th>\n",
       "      <th>ss</th>\n",
       "      <th>te</th>\n",
       "      <th>wr</th>\n",
       "    </tr>\n",
       "    <tr>\n",
       "      <th>row_0</th>\n",
       "      <th></th>\n",
       "      <th></th>\n",
       "      <th></th>\n",
       "      <th></th>\n",
       "      <th></th>\n",
       "      <th></th>\n",
       "    </tr>\n",
       "  </thead>\n",
       "  <tbody>\n",
       "    <tr>\n",
       "      <th>0</th>\n",
       "      <td>2</td>\n",
       "      <td>2</td>\n",
       "      <td>2</td>\n",
       "      <td>0</td>\n",
       "      <td>76</td>\n",
       "      <td>150</td>\n",
       "    </tr>\n",
       "    <tr>\n",
       "      <th>1</th>\n",
       "      <td>8</td>\n",
       "      <td>0</td>\n",
       "      <td>70</td>\n",
       "      <td>1</td>\n",
       "      <td>11</td>\n",
       "      <td>9</td>\n",
       "    </tr>\n",
       "    <tr>\n",
       "      <th>2</th>\n",
       "      <td>0</td>\n",
       "      <td>1</td>\n",
       "      <td>0</td>\n",
       "      <td>0</td>\n",
       "      <td>0</td>\n",
       "      <td>0</td>\n",
       "    </tr>\n",
       "  </tbody>\n",
       "</table>\n",
       "</div>"
      ],
      "text/plain": [
       "pos    fb  qb  rb  ss  te   wr\n",
       "row_0                         \n",
       "0       2   2   2   0  76  150\n",
       "1       8   0  70   1  11    9\n",
       "2       0   1   0   0   0    0"
      ]
     },
     "execution_count": 19,
     "metadata": {},
     "output_type": "execute_result"
    }
   ],
   "source": [
    "pd.crosstab(model.labels_,wr['pos'].str.lower())"
   ]
  },
  {
   "cell_type": "code",
   "execution_count": 20,
   "metadata": {},
   "outputs": [
    {
     "data": {
      "image/png": "[encoded data removed]",
      "text/plain": [
       "<Figure size 432x288 with 1 Axes>"
      ]
     },
     "metadata": {
      "needs_background": "light"
     },
     "output_type": "display_data"
    }
   ],
   "source": [
    "plt.boxplot([cluster0['yards'],cluster1['yards'],cluster2['yards']]);"
   ]
  },
  {
   "cell_type": "code",
   "execution_count": 21,
   "metadata": {},
   "outputs": [
    {
     "data": {
      "image/png": "[encoded data removed]",
      "text/plain": [
       "<Figure size 432x288 with 1 Axes>"
      ]
     },
     "metadata": {
      "needs_background": "light"
     },
     "output_type": "display_data"
    }
   ],
   "source": [
    "plt.boxplot([cluster0['rank'],cluster1['rank'],cluster2['rank']]);"
   ]
  },
  {
   "cell_type": "code",
   "execution_count": 22,
   "metadata": {},
   "outputs": [
    {
     "data": {
      "image/png": "[encoded data removed]",
      "text/plain": [
       "<Figure size 432x288 with 1 Axes>"
      ]
     },
     "metadata": {
      "needs_background": "light"
     },
     "output_type": "display_data"
    }
   ],
   "source": [
    "plt.boxplot([cluster0['depth_of_target'],cluster1['depth_of_target'],cluster2['depth_of_target']]);"
   ]
  },
  {
   "cell_type": "markdown",
   "metadata": {},
   "source": [
    "**Answer:** This is not the easiest task (especially if you selected more clusters).  Note: it is less than ideal that cluster #2 has only a single observation in it :(\n",
    "\n",
    "The exploratory analyses make the results of the clustering quite clear: we are clustering into positions (which is highly related to deth of target), in some sense.  Cluster 0 is composed mostly of WRs and TEs, cluster 1 is composed mostly of RBs and various other individuals, and cluster 2 is comprised of *lonely* Josh Allen: a QB that caught a single pass 5 yards behind the line of scrimmage, ran for 17 yards after that catch, and scored a TD on the play (a misdirection/trick play).  Here's a video of it: [YouTube](https://www.youtube.com/watch?v=ZeadfjfQY_U).\n",
    "\n",
    "This illustrates the fact that cleaning your data is imortant.  Here, it would likely be a wise choice to limit this analysis to only players that have a minimal number of catches or targets (suggestion: limit it to those with 10 or more targets and/or throw away the QBs).  Then the results would likely be better and more interpretable...and likely to avoid having a cluster with a single observation.\n",
    "\n",
    "Note: this is quite a messy data set: the positions are all over the place with case (aka, capitalization).  Using `wr['pos'].str.lower()` helped clean that up."
   ]
  },
  {
   "cell_type": "markdown",
   "metadata": {},
   "source": [
    "---"
   ]
  },
  {
   "cell_type": "markdown",
   "metadata": {},
   "source": [
    "Side note: here's how you fit a Hierarchical Clustering:"
   ]
  },
  {
   "cell_type": "code",
   "execution_count": 23,
   "metadata": {
    "scrolled": true
   },
   "outputs": [
    {
     "name": "stdout",
     "output_type": "stream",
     "text": [
      "(454, 2)\n",
      "(454,)\n"
     ]
    }
   ],
   "source": [
    "# fitting a hierarchical clustering\n",
    "hier_cluster = AgglomerativeClustering(distance_threshold=0, n_clusters=None).fit(X_std)\n",
    "print(hier_cluster.children_.shape)\n",
    "print(hier_cluster.distances_.shape)\n",
    "\n"
   ]
  },
  {
   "cell_type": "code",
   "execution_count": 24,
   "metadata": {},
   "outputs": [
    {
     "data": {
      "image/png": "[encoded data removed]",
      "text/plain": [
       "<Figure size 1080x432 with 1 Axes>"
      ]
     },
     "metadata": {
      "needs_background": "light"
     },
     "output_type": "display_data"
    }
   ],
   "source": [
    "\n",
    "from scipy.cluster.hierarchy import dendrogram, linkage\n",
    "\n",
    "def plot_dendrogram(model, **kwargs):\n",
    "    # Create linkage matrix and then plot the dendrogram\n",
    "\n",
    "    # create the counts of samples under each node\n",
    "    counts = np.zeros(model.children_.shape[0])\n",
    "    n_samples = len(model.labels_)\n",
    "    for i, merge in enumerate(model.children_):\n",
    "        current_count = 0\n",
    "        for child_idx in merge:\n",
    "            if child_idx < n_samples:\n",
    "                current_count += 1  # leaf node\n",
    "            else:\n",
    "                current_count += counts[child_idx - n_samples]\n",
    "        counts[i] = current_count\n",
    "\n",
    "    linkage_matrix = np.column_stack([model.children_, model.distances_,\n",
    "                                      counts]).astype(float)\n",
    "\n",
    "    # Plot the corresponding dendrogram\n",
    "    dendrogram(linkage_matrix, **kwargs)\n",
    "\n",
    "plt.figure(figsize=(15,6))    \n",
    "plot_dendrogram(hier_cluster)\n",
    "\n",
    "# Note: the plot_dendrogram come from here:\n",
    "# https://scikit-learn.org/stable/auto_examples/cluster/plot_agglomerative_dendrogram.html"
   ]
  },
  {
   "cell_type": "markdown",
   "metadata": {},
   "source": [
    "This dendrogram agains illustrates the lonely Josh Allen if 3 clusters were chosen.  \n",
    "\n",
    "\n",
    "Let's try a different dissimilarity metric: the (cosine similarity score)[https://en.wikipedia.org/wiki/Cosine_similarity], which is a more correlation-like metric between observations (scales the individual observations' measures)."
   ]
  },
  {
   "cell_type": "code",
   "execution_count": 25,
   "metadata": {},
   "outputs": [
    {
     "data": {
      "image/png": "[encoded data removed]",
      "text/plain": [
       "<Figure size 1080x432 with 1 Axes>"
      ]
     },
     "metadata": {
      "needs_background": "light"
     },
     "output_type": "display_data"
    }
   ],
   "source": [
    "hier_cluster_cosine = AgglomerativeClustering(distance_threshold=0, n_clusters=None, linkage = 'average', affinity='cosine').fit(X_std)\n",
    "\n",
    "plt.figure(figsize=(15,6)) \n",
    "plot_dendrogram(hier_cluster_cosine)"
   ]
  },
  {
   "cell_type": "markdown",
   "metadata": {},
   "source": [
    "Now we start to see a more reasonable result, potentially (we've at least avoided the singleton of Josh Allen).  We can rerun the algorithm for a given number of clusters (let's choose 4 here for some variety...and the colors in the dendrogram at least suggest that as a reasonable choice):"
   ]
  },
  {
   "cell_type": "code",
   "execution_count": 26,
   "metadata": {},
   "outputs": [
    {
     "data": {
      "text/html": [
       "<div>\n",
       "<style scoped>\n",
       "    .dataframe tbody tr th:only-of-type {\n",
       "        vertical-align: middle;\n",
       "    }\n",
       "\n",
       "    .dataframe tbody tr th {\n",
       "        vertical-align: top;\n",
       "    }\n",
       "\n",
       "    .dataframe thead th {\n",
       "        text-align: right;\n",
       "    }\n",
       "</style>\n",
       "<table border=\"1\" class=\"dataframe\">\n",
       "  <thead>\n",
       "    <tr style=\"text-align: right;\">\n",
       "      <th>pos</th>\n",
       "      <th>fb</th>\n",
       "      <th>qb</th>\n",
       "      <th>rb</th>\n",
       "      <th>ss</th>\n",
       "      <th>te</th>\n",
       "      <th>wr</th>\n",
       "    </tr>\n",
       "    <tr>\n",
       "      <th>row_0</th>\n",
       "      <th></th>\n",
       "      <th></th>\n",
       "      <th></th>\n",
       "      <th></th>\n",
       "      <th></th>\n",
       "      <th></th>\n",
       "    </tr>\n",
       "  </thead>\n",
       "  <tbody>\n",
       "    <tr>\n",
       "      <th>0</th>\n",
       "      <td>1</td>\n",
       "      <td>0</td>\n",
       "      <td>1</td>\n",
       "      <td>0</td>\n",
       "      <td>60</td>\n",
       "      <td>136</td>\n",
       "    </tr>\n",
       "    <tr>\n",
       "      <th>1</th>\n",
       "      <td>9</td>\n",
       "      <td>0</td>\n",
       "      <td>71</td>\n",
       "      <td>1</td>\n",
       "      <td>21</td>\n",
       "      <td>15</td>\n",
       "    </tr>\n",
       "    <tr>\n",
       "      <th>2</th>\n",
       "      <td>0</td>\n",
       "      <td>0</td>\n",
       "      <td>0</td>\n",
       "      <td>0</td>\n",
       "      <td>1</td>\n",
       "      <td>6</td>\n",
       "    </tr>\n",
       "    <tr>\n",
       "      <th>3</th>\n",
       "      <td>0</td>\n",
       "      <td>3</td>\n",
       "      <td>0</td>\n",
       "      <td>0</td>\n",
       "      <td>5</td>\n",
       "      <td>2</td>\n",
       "    </tr>\n",
       "  </tbody>\n",
       "</table>\n",
       "</div>"
      ],
      "text/plain": [
       "pos    fb  qb  rb  ss  te   wr\n",
       "row_0                         \n",
       "0       1   0   1   0  60  136\n",
       "1       9   0  71   1  21   15\n",
       "2       0   0   0   0   1    6\n",
       "3       0   3   0   0   5    2"
      ]
     },
     "execution_count": 26,
     "metadata": {},
     "output_type": "execute_result"
    }
   ],
   "source": [
    "hier4 = AgglomerativeClustering(n_clusters=4, linkage = 'average', affinity='cosine').fit(X_std)\n",
    "\n",
    "pd.crosstab(hier4.labels_,wr['pos'].str.lower())"
   ]
  },
  {
   "cell_type": "markdown",
   "metadata": {},
   "source": [
    "---"
   ]
  },
  {
   "cell_type": "markdown",
   "metadata": {},
   "source": [
    "## Part 2: Dealing with Missingness"
   ]
  },
  {
   "cell_type": "markdown",
   "metadata": {},
   "source": [
    "\n",
    "Here, we create data in which the true theoretical regression line is:\n",
    "$$ Y = 3X_1 + 2X_2 + \\varepsilon,\\hspace{0.1in} \\varepsilon \\sim N(0,1)$$\n",
    "\n",
    "Note: $\\rho_{X1,X2} = 0.5$\n",
    "\n",
    "We will be inserting missingness into `x1` in various ways, and analyzing the results."
   ]
  },
  {
   "cell_type": "code",
   "execution_count": 27,
   "metadata": {},
   "outputs": [
    {
     "data": {
      "text/plain": [
       "(0.5271942804503282, 4.1170313293023814e-37)"
      ]
     },
     "execution_count": 27,
     "metadata": {},
     "output_type": "execute_result"
    }
   ],
   "source": [
    "import scipy\n",
    "\n",
    "n = 500\n",
    "np.random.seed(109)\n",
    "\n",
    "x1 = np.random.normal(0,1,size=n)\n",
    "x2 = 0.5*x1+np.random.normal(0,np.sqrt(0.75),size=n)\n",
    "X = pd.DataFrame(data=np.transpose([x1,x2]),columns=[\"x1\",\"x2\"])\n",
    "\n",
    "y = 3*x1 - 2*x2 + np.random.normal(0,1,size=n)\n",
    "y = pd.Series(y)\n",
    "\n",
    "\n",
    "df = pd.DataFrame(data=np.transpose([x1,x2,y]),columns=[\"x1\",\"x2\",\"y\"])\n",
    "\n",
    "# Checking the correlation\n",
    "scipy.stats.pearsonr(x1,x2) "
   ]
  },
  {
   "cell_type": "code",
   "execution_count": 28,
   "metadata": {},
   "outputs": [
    {
     "data": {
      "image/png": "[encoded data removed]",
      "text/plain": [
       "<Figure size 1296x360 with 3 Axes>"
      ]
     },
     "metadata": {
      "needs_background": "light"
     },
     "output_type": "display_data"
    }
   ],
   "source": [
    "fig,(ax1,ax2,ax3) =  plt.subplots(1, 3, figsize = (18,5))\n",
    "ax1.scatter(x1,y)\n",
    "ax2.scatter(x2,y)\n",
    "ax3.scatter(x2,x1,color=\"orange\")\n",
    "ax1.set_title(\"y vs. x1\")\n",
    "ax2.set_title(\"y vs. x2\")\n",
    "ax3.set_title(\"x1 vs. x2\")\n",
    "plt.show()"
   ]
  },
  {
   "cell_type": "markdown",
   "metadata": {},
   "source": [
    "### Poke holes in $X_1$ in 3 different ways (all roughly 20% of data are removed): \n",
    "\n",
    "- MCAR: just take out a random sample of 20% of observations in $X_1$\n",
    "- MAR: missingness in  $X_1$ depends on $X_2$, and thus can be recovered in some way\n",
    "- MNAR: missingness in  $X_1$ depends on $X_1$, and thus can be recovered in some way\n"
   ]
  },
  {
   "cell_type": "code",
   "execution_count": 29,
   "metadata": {},
   "outputs": [],
   "source": [
    "x1_mcar = x1.copy()\n",
    "x1_mar = x1.copy()\n",
    "x1_mnar = x1.copy()\n",
    "\n",
    "#missing completely at random\n",
    "miss_mcar = np.random.choice(n,int(0.2*n),replace=False)\n",
    "x1_mcar[miss_mcar] = np.nan\n",
    "\n",
    "#missing at random: one way to do it\n",
    "miss_mar = np.random.binomial(1,0.05+0.85*(x2>(x2.mean()+x2.std())),n)\n",
    "x1_mar[miss_mar==1] = np.nan\n",
    "\n",
    "#missing not at random: one way to do it\n",
    "miss_mnar = np.random.binomial(1,0.05+0.85*(y>(y.mean()+y.std())),n)\n",
    "x1_mnar[miss_mnar==1] = np.nan"
   ]
  },
  {
   "cell_type": "code",
   "execution_count": 30,
   "metadata": {},
   "outputs": [],
   "source": [
    "# Create the 3 datasets with missingness\n",
    "df_mcar = df.copy()\n",
    "df_mar = df.copy()\n",
    "df_mnar = df.copy()\n",
    "\n",
    "# plug in the appropriate x1 with missingness\n",
    "df_mcar['x1'] = x1_mcar\n",
    "df_mar['x1'] = x1_mar\n",
    "df_mnar['x1'] = x1_mnar"
   ]
  },
  {
   "cell_type": "code",
   "execution_count": 31,
   "metadata": {},
   "outputs": [
    {
     "name": "stdout",
     "output_type": "stream",
     "text": [
      "0.10204379528391672 [ 2.92281015 -1.93658251]\n"
     ]
    }
   ],
   "source": [
    "# no missingness: on the full dataset\n",
    "ols = LinearRegression().fit(df[['x1','x2']],df['y'])\n",
    "print(ols.intercept_,ols.coef_)"
   ]
  },
  {
   "cell_type": "code",
   "execution_count": 32,
   "metadata": {},
   "outputs": [
    {
     "ename": "ValueError",
     "evalue": "Input contains NaN, infinity or a value too large for dtype('float64').",
     "output_type": "error",
     "traceback": [
      "\u001b[0;31m---------------------------------------------------------------------------\u001b[0m",
      "\u001b[0;31mValueError\u001b[0m                                Traceback (most recent call last)",
      "\u001b[0;32m<ipython-input-32-55c6d756eeb2>\u001b[0m in \u001b[0;36m<module>\u001b[0;34m\u001b[0m\n\u001b[1;32m      1\u001b[0m \u001b[0;31m# Fit the linear regression blindly on the dataset with MCAR missingness, see what happens\u001b[0m\u001b[0;34m\u001b[0m\u001b[0;34m\u001b[0m\u001b[0;34m\u001b[0m\u001b[0m\n\u001b[0;32m----> 2\u001b[0;31m \u001b[0mLinearRegression\u001b[0m\u001b[0;34m(\u001b[0m\u001b[0;34m)\u001b[0m\u001b[0;34m.\u001b[0m\u001b[0mfit\u001b[0m\u001b[0;34m(\u001b[0m\u001b[0mdf_mcar\u001b[0m\u001b[0;34m[\u001b[0m\u001b[0;34m[\u001b[0m\u001b[0;34m'x1'\u001b[0m\u001b[0;34m,\u001b[0m\u001b[0;34m'x2'\u001b[0m\u001b[0;34m]\u001b[0m\u001b[0;34m]\u001b[0m\u001b[0;34m,\u001b[0m\u001b[0mdf_mcar\u001b[0m\u001b[0;34m[\u001b[0m\u001b[0;34m'y'\u001b[0m\u001b[0;34m]\u001b[0m\u001b[0;34m)\u001b[0m\u001b[0;34m\u001b[0m\u001b[0;34m\u001b[0m\u001b[0m\n\u001b[0m",
      "\u001b[0;32m~/opt/anaconda3/lib/python3.7/site-packages/sklearn/linear_model/_base.py\u001b[0m in \u001b[0;36mfit\u001b[0;34m(self, X, y, sample_weight)\u001b[0m\n\u001b[1;32m    504\u001b[0m         \u001b[0mn_jobs_\u001b[0m \u001b[0;34m=\u001b[0m \u001b[0mself\u001b[0m\u001b[0;34m.\u001b[0m\u001b[0mn_jobs\u001b[0m\u001b[0;34m\u001b[0m\u001b[0;34m\u001b[0m\u001b[0m\n\u001b[1;32m    505\u001b[0m         X, y = self._validate_data(X, y, accept_sparse=['csr', 'csc', 'coo'],\n\u001b[0;32m--> 506\u001b[0;31m                                    y_numeric=True, multi_output=True)\n\u001b[0m\u001b[1;32m    507\u001b[0m \u001b[0;34m\u001b[0m\u001b[0m\n\u001b[1;32m    508\u001b[0m         \u001b[0;32mif\u001b[0m \u001b[0msample_weight\u001b[0m \u001b[0;32mis\u001b[0m \u001b[0;32mnot\u001b[0m \u001b[0;32mNone\u001b[0m\u001b[0;34m:\u001b[0m\u001b[0;34m\u001b[0m\u001b[0;34m\u001b[0m\u001b[0m\n",
      "\u001b[0;32m~/opt/anaconda3/lib/python3.7/site-packages/sklearn/base.py\u001b[0m in \u001b[0;36m_validate_data\u001b[0;34m(self, X, y, reset, validate_separately, **check_params)\u001b[0m\n\u001b[1;32m    430\u001b[0m                 \u001b[0my\u001b[0m \u001b[0;34m=\u001b[0m \u001b[0mcheck_array\u001b[0m\u001b[0;34m(\u001b[0m\u001b[0my\u001b[0m\u001b[0;34m,\u001b[0m \u001b[0;34m**\u001b[0m\u001b[0mcheck_y_params\u001b[0m\u001b[0;34m)\u001b[0m\u001b[0;34m\u001b[0m\u001b[0;34m\u001b[0m\u001b[0m\n\u001b[1;32m    431\u001b[0m             \u001b[0;32melse\u001b[0m\u001b[0;34m:\u001b[0m\u001b[0;34m\u001b[0m\u001b[0;34m\u001b[0m\u001b[0m\n\u001b[0;32m--> 432\u001b[0;31m                 \u001b[0mX\u001b[0m\u001b[0;34m,\u001b[0m \u001b[0my\u001b[0m \u001b[0;34m=\u001b[0m \u001b[0mcheck_X_y\u001b[0m\u001b[0;34m(\u001b[0m\u001b[0mX\u001b[0m\u001b[0;34m,\u001b[0m \u001b[0my\u001b[0m\u001b[0;34m,\u001b[0m \u001b[0;34m**\u001b[0m\u001b[0mcheck_params\u001b[0m\u001b[0;34m)\u001b[0m\u001b[0;34m\u001b[0m\u001b[0;34m\u001b[0m\u001b[0m\n\u001b[0m\u001b[1;32m    433\u001b[0m             \u001b[0mout\u001b[0m \u001b[0;34m=\u001b[0m \u001b[0mX\u001b[0m\u001b[0;34m,\u001b[0m \u001b[0my\u001b[0m\u001b[0;34m\u001b[0m\u001b[0;34m\u001b[0m\u001b[0m\n\u001b[1;32m    434\u001b[0m \u001b[0;34m\u001b[0m\u001b[0m\n",
      "\u001b[0;32m~/opt/anaconda3/lib/python3.7/site-packages/sklearn/utils/validation.py\u001b[0m in \u001b[0;36minner_f\u001b[0;34m(*args, **kwargs)\u001b[0m\n\u001b[1;32m     70\u001b[0m                           FutureWarning)\n\u001b[1;32m     71\u001b[0m         \u001b[0mkwargs\u001b[0m\u001b[0;34m.\u001b[0m\u001b[0mupdate\u001b[0m\u001b[0;34m(\u001b[0m\u001b[0;34m{\u001b[0m\u001b[0mk\u001b[0m\u001b[0;34m:\u001b[0m \u001b[0marg\u001b[0m \u001b[0;32mfor\u001b[0m \u001b[0mk\u001b[0m\u001b[0;34m,\u001b[0m \u001b[0marg\u001b[0m \u001b[0;32min\u001b[0m \u001b[0mzip\u001b[0m\u001b[0;34m(\u001b[0m\u001b[0msig\u001b[0m\u001b[0;34m.\u001b[0m\u001b[0mparameters\u001b[0m\u001b[0;34m,\u001b[0m \u001b[0margs\u001b[0m\u001b[0;34m)\u001b[0m\u001b[0;34m}\u001b[0m\u001b[0;34m)\u001b[0m\u001b[0;34m\u001b[0m\u001b[0;34m\u001b[0m\u001b[0m\n\u001b[0;32m---> 72\u001b[0;31m         \u001b[0;32mreturn\u001b[0m \u001b[0mf\u001b[0m\u001b[0;34m(\u001b[0m\u001b[0;34m**\u001b[0m\u001b[0mkwargs\u001b[0m\u001b[0;34m)\u001b[0m\u001b[0;34m\u001b[0m\u001b[0;34m\u001b[0m\u001b[0m\n\u001b[0m\u001b[1;32m     73\u001b[0m     \u001b[0;32mreturn\u001b[0m \u001b[0minner_f\u001b[0m\u001b[0;34m\u001b[0m\u001b[0;34m\u001b[0m\u001b[0m\n\u001b[1;32m     74\u001b[0m \u001b[0;34m\u001b[0m\u001b[0m\n",
      "\u001b[0;32m~/opt/anaconda3/lib/python3.7/site-packages/sklearn/utils/validation.py\u001b[0m in \u001b[0;36mcheck_X_y\u001b[0;34m(X, y, accept_sparse, accept_large_sparse, dtype, order, copy, force_all_finite, ensure_2d, allow_nd, multi_output, ensure_min_samples, ensure_min_features, y_numeric, estimator)\u001b[0m\n\u001b[1;32m    800\u001b[0m                     \u001b[0mensure_min_samples\u001b[0m\u001b[0;34m=\u001b[0m\u001b[0mensure_min_samples\u001b[0m\u001b[0;34m,\u001b[0m\u001b[0;34m\u001b[0m\u001b[0;34m\u001b[0m\u001b[0m\n\u001b[1;32m    801\u001b[0m                     \u001b[0mensure_min_features\u001b[0m\u001b[0;34m=\u001b[0m\u001b[0mensure_min_features\u001b[0m\u001b[0;34m,\u001b[0m\u001b[0;34m\u001b[0m\u001b[0;34m\u001b[0m\u001b[0m\n\u001b[0;32m--> 802\u001b[0;31m                     estimator=estimator)\n\u001b[0m\u001b[1;32m    803\u001b[0m     \u001b[0;32mif\u001b[0m \u001b[0mmulti_output\u001b[0m\u001b[0;34m:\u001b[0m\u001b[0;34m\u001b[0m\u001b[0;34m\u001b[0m\u001b[0m\n\u001b[1;32m    804\u001b[0m         y = check_array(y, accept_sparse='csr', force_all_finite=True,\n",
      "\u001b[0;32m~/opt/anaconda3/lib/python3.7/site-packages/sklearn/utils/validation.py\u001b[0m in \u001b[0;36minner_f\u001b[0;34m(*args, **kwargs)\u001b[0m\n\u001b[1;32m     70\u001b[0m                           FutureWarning)\n\u001b[1;32m     71\u001b[0m         \u001b[0mkwargs\u001b[0m\u001b[0;34m.\u001b[0m\u001b[0mupdate\u001b[0m\u001b[0;34m(\u001b[0m\u001b[0;34m{\u001b[0m\u001b[0mk\u001b[0m\u001b[0;34m:\u001b[0m \u001b[0marg\u001b[0m \u001b[0;32mfor\u001b[0m \u001b[0mk\u001b[0m\u001b[0;34m,\u001b[0m \u001b[0marg\u001b[0m \u001b[0;32min\u001b[0m \u001b[0mzip\u001b[0m\u001b[0;34m(\u001b[0m\u001b[0msig\u001b[0m\u001b[0;34m.\u001b[0m\u001b[0mparameters\u001b[0m\u001b[0;34m,\u001b[0m \u001b[0margs\u001b[0m\u001b[0;34m)\u001b[0m\u001b[0;34m}\u001b[0m\u001b[0;34m)\u001b[0m\u001b[0;34m\u001b[0m\u001b[0;34m\u001b[0m\u001b[0m\n\u001b[0;32m---> 72\u001b[0;31m         \u001b[0;32mreturn\u001b[0m \u001b[0mf\u001b[0m\u001b[0;34m(\u001b[0m\u001b[0;34m**\u001b[0m\u001b[0mkwargs\u001b[0m\u001b[0;34m)\u001b[0m\u001b[0;34m\u001b[0m\u001b[0;34m\u001b[0m\u001b[0m\n\u001b[0m\u001b[1;32m     73\u001b[0m     \u001b[0;32mreturn\u001b[0m \u001b[0minner_f\u001b[0m\u001b[0;34m\u001b[0m\u001b[0;34m\u001b[0m\u001b[0m\n\u001b[1;32m     74\u001b[0m \u001b[0;34m\u001b[0m\u001b[0m\n",
      "\u001b[0;32m~/opt/anaconda3/lib/python3.7/site-packages/sklearn/utils/validation.py\u001b[0m in \u001b[0;36mcheck_array\u001b[0;34m(array, accept_sparse, accept_large_sparse, dtype, order, copy, force_all_finite, ensure_2d, allow_nd, ensure_min_samples, ensure_min_features, estimator)\u001b[0m\n\u001b[1;32m    643\u001b[0m         \u001b[0;32mif\u001b[0m \u001b[0mforce_all_finite\u001b[0m\u001b[0;34m:\u001b[0m\u001b[0;34m\u001b[0m\u001b[0;34m\u001b[0m\u001b[0m\n\u001b[1;32m    644\u001b[0m             _assert_all_finite(array,\n\u001b[0;32m--> 645\u001b[0;31m                                allow_nan=force_all_finite == 'allow-nan')\n\u001b[0m\u001b[1;32m    646\u001b[0m \u001b[0;34m\u001b[0m\u001b[0m\n\u001b[1;32m    647\u001b[0m     \u001b[0;32mif\u001b[0m \u001b[0mensure_min_samples\u001b[0m \u001b[0;34m>\u001b[0m \u001b[0;36m0\u001b[0m\u001b[0;34m:\u001b[0m\u001b[0;34m\u001b[0m\u001b[0;34m\u001b[0m\u001b[0m\n",
      "\u001b[0;32m~/opt/anaconda3/lib/python3.7/site-packages/sklearn/utils/validation.py\u001b[0m in \u001b[0;36m_assert_all_finite\u001b[0;34m(X, allow_nan, msg_dtype)\u001b[0m\n\u001b[1;32m     97\u001b[0m                     \u001b[0mmsg_err\u001b[0m\u001b[0;34m.\u001b[0m\u001b[0mformat\u001b[0m\u001b[0;34m\u001b[0m\u001b[0;34m\u001b[0m\u001b[0m\n\u001b[1;32m     98\u001b[0m                     (type_err,\n\u001b[0;32m---> 99\u001b[0;31m                      msg_dtype if msg_dtype is not None else X.dtype)\n\u001b[0m\u001b[1;32m    100\u001b[0m             )\n\u001b[1;32m    101\u001b[0m     \u001b[0;31m# for object dtype data, we only check for NaNs (GH-13254)\u001b[0m\u001b[0;34m\u001b[0m\u001b[0;34m\u001b[0m\u001b[0;34m\u001b[0m\u001b[0m\n",
      "\u001b[0;31mValueError\u001b[0m: Input contains NaN, infinity or a value too large for dtype('float64')."
     ]
    }
   ],
   "source": [
    "# Fit the linear regression blindly on the dataset with MCAR missingness, see what happens\n",
    "LinearRegression().fit(df_mcar[['x1','x2']],df_mcar['y'])"
   ]
  },
  {
   "cell_type": "markdown",
   "metadata": {},
   "source": [
    "**Q2.1** Why aren't the estimates exactly $\\hat{\\beta}_1 = 3$ and $\\hat{\\beta}_2 = -2$ from the complete data set?  How does sklearn handle missingness?  What would be a first naive approach to handling missingness?"
   ]
  },
  {
   "cell_type": "markdown",
   "metadata": {},
   "source": [
    "**Answer:** There is random sampling of data from the true population line ($n=500$) and there is random/stochastic noise, so the estimates will vary based on what sample of data is actually taken.\n",
    "\n",
    "`sklearn` hates missingness: it won't even run the models!  The naive approach is to just drop the observations (rows) with the missingness.  One could drop the variable(s) (columns) instead, but that does not make sense here since we care about estimating all the $\\beta$ coefficients."
   ]
  },
  {
   "cell_type": "markdown",
   "metadata": {},
   "source": [
    "### What happens when you just drop rows?"
   ]
  },
  {
   "cell_type": "code",
   "execution_count": 33,
   "metadata": {},
   "outputs": [
    {
     "name": "stdout",
     "output_type": "stream",
     "text": [
      "0.10204379528391672 [ 2.92281015 -1.93658251]\n"
     ]
    }
   ],
   "source": [
    "# no missingness for comparison sake\n",
    "ols = LinearRegression().fit(X,y)\n",
    "print(ols.intercept_,ols.coef_)"
   ]
  },
  {
   "cell_type": "code",
   "execution_count": 34,
   "metadata": {
    "scrolled": true
   },
   "outputs": [
    {
     "name": "stdout",
     "output_type": "stream",
     "text": [
      "0.11920998640429431 [ 2.93863687 -1.95022496]\n"
     ]
    }
   ],
   "source": [
    "# MCAR: drop the rows that have any missingness\n",
    "ols_mcar = LinearRegression().fit(df_mcar.dropna()[['x1','x2']],df_mcar.dropna()['y'])\n",
    "print(ols_mcar.intercept_,ols_mcar.coef_)"
   ]
  },
  {
   "cell_type": "code",
   "execution_count": 35,
   "metadata": {},
   "outputs": [
    {
     "name": "stdout",
     "output_type": "stream",
     "text": [
      "0.11920998640429431 [ 2.95841887 -1.91054504]\n"
     ]
    }
   ],
   "source": [
    "### edTest(test_mar) ###\n",
    "\n",
    "# MAR: drop the rows that have any missingness\n",
    "ols_mar = LinearRegression().fit(df_mar.dropna()[['x1','x2']],df_mar.dropna()['y'])\n",
    "print(ols_mcar.intercept_,ols_mar.coef_)"
   ]
  },
  {
   "cell_type": "code",
   "execution_count": 36,
   "metadata": {},
   "outputs": [
    {
     "name": "stdout",
     "output_type": "stream",
     "text": [
      "0.0006294788367179338 [ 2.77437893 -1.83485388]\n"
     ]
    }
   ],
   "source": [
    "# MNAR: drop the rows that have any missingness\n",
    "X_mnar_raw = X.copy()\n",
    "X_mnar_raw['x1'] = x1_mnar\n",
    "X_mnar = X.iloc[miss_mnar==0]\n",
    "y_mnar = y[miss_mnar==0]\n",
    "\n",
    "ols_mnar = LinearRegression().fit(X_mnar,y_mnar)\n",
    "print(ols_mnar.intercept_,ols_mnar.coef_)"
   ]
  },
  {
   "cell_type": "markdown",
   "metadata": {},
   "source": [
    "**Q2.2** How do the estimates compare when just dropping rows?  Are they able to recover the values of $\\beta_1$ that they should?  In which form of missingness is the result the worst?"
   ]
  },
  {
   "cell_type": "markdown",
   "metadata": {},
   "source": [
    "**Answer:** The result of dropping rows depends on the missingness: only the sample size is affected under MCAR (thus our estimates will have a little more uncertainty); under MAR, the estimates are a little biased (here, $\\hat{\\beta}_2$ is actually worse than $\\hat{\\beta}_1$); and under MNAR, are estimates are pushed quite far away from reality (both coefficients are worse off than under MNAR or MCAR)."
   ]
  },
  {
   "cell_type": "markdown",
   "metadata": {},
   "source": [
    "## Let's Start Imputing"
   ]
  },
  {
   "cell_type": "code",
   "execution_count": 37,
   "metadata": {},
   "outputs": [],
   "source": [
    "X_mcar = df_mcar[['x1','x2']]\n",
    "X_mar = df_mar[['x1','x2']]\n",
    "X_mnar = df_mnar[['x1','x2']]"
   ]
  },
  {
   "cell_type": "code",
   "execution_count": 38,
   "metadata": {},
   "outputs": [],
   "source": [
    "#Make back-=up copies for later since we'll have lots of imputation approaches.\n",
    "X_mcar_raw = X_mcar.copy()\n",
    "X_mar_raw = X_mar.copy()\n",
    "X_mnar_raw = X_mnar.copy()"
   ]
  },
  {
   "cell_type": "markdown",
   "metadata": {},
   "source": [
    "### Mean Imputation:\n",
    "\n",
    "Perform mean imputation using the `fillna`, `dropna`, and `mean` functions."
   ]
  },
  {
   "cell_type": "code",
   "execution_count": 39,
   "metadata": {},
   "outputs": [
    {
     "name": "stdout",
     "output_type": "stream",
     "text": [
      "0.07741706175496277 [ 2.76479882 -1.64782188]\n"
     ]
    }
   ],
   "source": [
    "X_mcar = X_mcar_raw.copy()\n",
    "X_mcar['x1'] = X_mcar['x1'].fillna(X_mcar['x1'].dropna().mean())\n",
    "\n",
    "ols_mcar_mean = LinearRegression().fit(X_mcar,y)\n",
    "print(ols_mcar_mean.intercept_,ols_mcar_mean.coef_)"
   ]
  },
  {
   "cell_type": "code",
   "execution_count": 40,
   "metadata": {},
   "outputs": [
    {
     "name": "stdout",
     "output_type": "stream",
     "text": [
      "0.4190134064121406 [ 2.66029655 -1.22639957]\n"
     ]
    }
   ],
   "source": [
    "### edTest(test_mar_mean) ###\n",
    "\n",
    "X_mar = X_mar_raw.copy()\n",
    "\n",
    "\n",
    "X_mar['x1'] = X_mar['x1'].fillna(X_mar['x1'].dropna().mean())\n",
    "\n",
    "ols_mar_mean = LinearRegression().fit(X_mar,y)\n",
    "print(ols_mar_mean.intercept_,ols_mar_mean.coef_)"
   ]
  },
  {
   "cell_type": "code",
   "execution_count": 41,
   "metadata": {},
   "outputs": [
    {
     "name": "stdout",
     "output_type": "stream",
     "text": [
      "0.54125703762347 [ 2.65222288 -1.66674473]\n"
     ]
    }
   ],
   "source": [
    "X_mnar = X_mnar_raw.copy()\n",
    "X_mnar['x1'] = X_mnar['x1'].fillna(X_mnar['x1'].dropna().mean())\n",
    "\n",
    "ols_mnar_mean = LinearRegression().fit(X_mnar,y)\n",
    "print(ols_mnar_mean.intercept_,ols_mnar_mean.coef_)"
   ]
  },
  {
   "cell_type": "markdown",
   "metadata": {},
   "source": [
    "**Q2.3** How do the estimates compare when performing mean imputation vs. just dropping rows?  Have things gotten better or worse (for what types of missingness)?"
   ]
  },
  {
   "cell_type": "markdown",
   "metadata": {},
   "source": [
    "**Answer:** The result of mean imputation is worse across the board here than dropping rows.  Surprisingly, the estimates are most affected under MAR (though that is not necessarily always the case).  If inference about your $\\beta$s is the goal, then mean imputation is a very bad choice."
   ]
  },
  {
   "cell_type": "markdown",
   "metadata": {},
   "source": [
    "### Linear Regression Imputation \n",
    "\n",
    "This is difficult to keep straight.  There are two models here: \n",
    "\n",
    "1. an imputation model based on OLS concerning just the predictors (to predict $X_1$ from $X_2$) and \n",
    "2. the model we really care about to predict $Y$ from the 'improved' $X_1$ (now with imputed values) and $X_2$."
   ]
  },
  {
   "cell_type": "code",
   "execution_count": 42,
   "metadata": {},
   "outputs": [
    {
     "name": "stdout",
     "output_type": "stream",
     "text": [
      "0.11220418095753587 [ 2.93863687 -2.00159509]\n"
     ]
    }
   ],
   "source": [
    "X_mcar = X_mcar_raw.copy()\n",
    "\n",
    "# fit the imputation model\n",
    "ols_imputer_mcar = LinearRegression().fit(X_mcar.dropna()[['x2']],X_mcar.dropna()['x1'])\n",
    "\n",
    "# perform some imputations\n",
    "yhat_impute = pd.Series(ols_imputer_mcar.predict(X_mcar[['x2']]))\n",
    "X_mcar['x1'] = X_mcar['x1'].fillna(yhat_impute)\n",
    "\n",
    "# fit the model we care about\n",
    "ols_mcar_ols = LinearRegression().fit(X_mcar,y)\n",
    "print(ols_mcar_ols.intercept_,ols_mcar_ols.coef_)"
   ]
  },
  {
   "cell_type": "code",
   "execution_count": 43,
   "metadata": {},
   "outputs": [
    {
     "name": "stdout",
     "output_type": "stream",
     "text": [
      "0.06872418874114894 [ 2.95841887 -1.96118355]\n"
     ]
    }
   ],
   "source": [
    "X_mar = X_mar_raw.copy()\n",
    "ols_imputer_mar = LinearRegression().fit(X_mar.dropna()[['x2']],X_mar.dropna()['x1'])\n",
    "\n",
    "yhat_impute = pd.Series(ols_imputer_mar.predict(X_mar[['x2']]))\n",
    "X_mar['x1'] = X_mar['x1'].fillna(yhat_impute)\n",
    "\n",
    "ols_mar_ols = LinearRegression().fit(X_mar,y)\n",
    "print(ols_mar_ols.intercept_,ols_mar_ols.coef_)"
   ]
  },
  {
   "cell_type": "code",
   "execution_count": 44,
   "metadata": {},
   "outputs": [
    {
     "name": "stdout",
     "output_type": "stream",
     "text": [
      "0.6535573132179666 [ 2.77437893 -1.95978805]\n"
     ]
    }
   ],
   "source": [
    "\n",
    "X_mnar = X_mnar_raw.copy()\n",
    "ols_imputer_mnar = LinearRegression().fit(X_mnar.dropna()[['x2']],X_mnar.dropna()['x1'])\n",
    "\n",
    "yhat_impute = pd.Series(ols_imputer_mnar.predict(X_mnar[['x2']]))\n",
    "X_mnar['x1'] = X_mnar['x1'].fillna(yhat_impute)\n",
    "\n",
    "ols_mnar_ols = LinearRegression().fit(X_mnar,y)\n",
    "print(ols_mnar_ols.intercept_,ols_mnar_ols.coef_)"
   ]
  },
  {
   "cell_type": "markdown",
   "metadata": {},
   "source": [
    "**Q2.4**: How do the estimates compare when performing model-based imputation vs. mean imputation?  Have things gotten better or worse (for what types of missingness)?"
   ]
  },
  {
   "cell_type": "markdown",
   "metadata": {},
   "source": [
    "**Answer:** Now the results are starting to looks a little better.  As expected, the estimates under MCAR is similar to dropping rows.  MAR appear to be right on track, and MNAR has improved from either method above (though $\\hat{\\beta}_1$ is still off a bit.  This is the most reasonable choice considered so far if removing bias of your $\\beta$ estimates is the only goal."
   ]
  },
  {
   "cell_type": "markdown",
   "metadata": {},
   "source": [
    "### $k$-NN Imputation ($k$=1)"
   ]
  },
  {
   "cell_type": "code",
   "execution_count": 45,
   "metadata": {},
   "outputs": [
    {
     "name": "stdout",
     "output_type": "stream",
     "text": [
      "0.1606408504046106 [ 2.40810773 -1.74530406]\n"
     ]
    }
   ],
   "source": [
    "X_mcar = X_mcar_raw.copy()\n",
    "X_mcar = KNNImputer(n_neighbors=1).fit_transform(X_mcar)\n",
    "\n",
    "ols_mcar_knn = LinearRegression().fit(X_mcar,y)\n",
    "print(ols_mcar_knn.intercept_,ols_mcar_knn.coef_)"
   ]
  },
  {
   "cell_type": "code",
   "execution_count": 46,
   "metadata": {},
   "outputs": [
    {
     "name": "stdout",
     "output_type": "stream",
     "text": [
      "0.3473357109024488 [ 2.5527624  -1.37981145]\n"
     ]
    }
   ],
   "source": [
    "X_mar = X_mar_raw.copy()\n",
    "X_mar = KNNImputer(n_neighbors=1).fit_transform(X_mar)\n",
    "\n",
    "ols_mar_knn = LinearRegression().fit(X_mar,y)\n",
    "print(ols_mar_knn.intercept_,ols_mar_knn.coef_)"
   ]
  },
  {
   "cell_type": "code",
   "execution_count": 47,
   "metadata": {},
   "outputs": [
    {
     "name": "stdout",
     "output_type": "stream",
     "text": [
      "0.5974467868950186 [ 2.36797864 -1.79954878]\n"
     ]
    }
   ],
   "source": [
    "X_mnar = X_mnar_raw.copy()\n",
    "X_mnar = KNNImputer(n_neighbors=1).fit_transform(X_mnar)\n",
    "\n",
    "ols_mnar_knn = LinearRegression().fit(X_mnar,y)\n",
    "print(ols_mnar_knn.intercept_,ols_mnar_knn.coef_)"
   ]
  },
  {
   "cell_type": "markdown",
   "metadata": {},
   "source": [
    "**Q2.5**: Which of the 4 methods for handling missingness worked best?  Which worked the worst?  Were the estimates improved or worsened in each of the 3 types of missingness?"
   ]
  },
  {
   "cell_type": "markdown",
   "metadata": {},
   "source": [
    "**Answer:** $k$-NN with $k=1$ does not improve the primary model's estimated $\\beta$ coefficients. As mentioned above, using a linear regression type imputer is the only one considered that improved the results.  Note: $k$-NN with $k=1$ is an overfit model, so randomly selected a single observation from the neighborhood with $k$ properly tuned would be a better approach (try $k=20$)."
   ]
  },
  {
   "cell_type": "markdown",
   "metadata": {},
   "source": [
    "**Q2.6**: This exercise focused on 'inference' (considering just the estimates of coefficients, not the uncertainty of these estimates, which would be even worse).  What are the ramifications on prediction?  Is the situation more or less concerning?  "
   ]
  },
  {
   "cell_type": "markdown",
   "metadata": {},
   "source": [
    "**Answer:** Prediction is less concerning, especially in the presence of collinearity where the other predictors could make up for a variable's missigness.  So in this situation, dropping a predictor is reasonable if the missingness is too much.  Using a binary indicator of missingness in the model can help as well."
   ]
  },
  {
   "cell_type": "code",
   "execution_count": null,
   "metadata": {},
   "outputs": [],
   "source": []
  },
  {
   "cell_type": "markdown",
   "metadata": {},
   "source": [
    "---"
   ]
  }
 ],
 "metadata": {
  "anaconda-cloud": {},
  "kernelspec": {
   "display_name": "Python 3",
   "language": "python",
   "name": "python3"
  },
  "language_info": {
   "codemirror_mode": {
    "name": "ipython",
    "version": 3
   },
   "file_extension": ".py",
   "mimetype": "text/x-python",
   "name": "python",
   "nbconvert_exporter": "python",
   "pygments_lexer": "ipython3",
   "version": "3.7.6"
  }
 },
 "nbformat": 4,
 "nbformat_minor": 1
}
