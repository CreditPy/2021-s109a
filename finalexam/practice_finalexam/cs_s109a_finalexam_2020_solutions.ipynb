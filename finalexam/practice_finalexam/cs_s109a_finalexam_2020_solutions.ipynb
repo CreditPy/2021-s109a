{
 "cells": [
  {
   "cell_type": "markdown",
   "metadata": {
    "button": false,
    "colab_type": "text",
    "id": "XEBMPatktupR",
    "new_sheet": false,
    "run_control": {
     "read_only": false
    }
   },
   "source": [
    "# <img style=\"float: left; padding-right: 10px; width: 45px\" src=\"https://raw.githubusercontent.com/Harvard-IACS/2018-CS109A/master/content/styles/iacs.png\"> CS-S109A Introduction to Data Science \n",
    "\n",
    "## Final Exam: Airline Delays\n",
    "\n",
    "**Harvard University**<br/>\n",
    "**Summer 2020**<br/>\n",
    "**Instructors**: Kevin Rader\n",
    "\n",
    "\n",
    "<hr style='height:2px'>\n",
    "\n",
    "---\n",
    "\n"
   ]
  },
  {
   "cell_type": "code",
   "execution_count": 1,
   "metadata": {
    "colab": {
     "base_uri": "https://localhost:8080/",
     "height": 17
    },
    "colab_type": "code",
    "executionInfo": {
     "elapsed": 802,
     "status": "ok",
     "timestamp": 1596636606743,
     "user": {
      "displayName": "Chris Gumb",
      "photoUrl": "https://lh3.googleusercontent.com/a-/AOh14GiJjageaKLnzdbQiZUMbCVyEGAEDK5Oc_a7G3XA3g=s64",
      "userId": "13489793638003795436"
     },
     "user_tz": 240
    },
    "id": "BPcuuUTZtupT",
    "outputId": "841faa87-180b-4d2b-9996-7626a68263f3"
   },
   "outputs": [
    {
     "data": {
      "text/html": [
       "<style>\n",
       "blockquote { background: #AEDE94; }\n",
       "h1 { \n",
       "    padding-top: 25px;\n",
       "    padding-bottom: 25px;\n",
       "    text-align: left; \n",
       "    padding-left: 10px;\n",
       "    background-color: #DDDDDD; \n",
       "    color: black;\n",
       "}\n",
       "h2 { \n",
       "    padding-top: 10px;\n",
       "    padding-bottom: 10px;\n",
       "    text-align: left; \n",
       "    padding-left: 5px;\n",
       "    background-color: #EEEEEE; \n",
       "    color: black;\n",
       "}\n",
       "\n",
       "div.exercise {\n",
       "\tbackground-color: #ffcccc;\n",
       "\tborder-color: #E9967A; \t\n",
       "\tborder-left: 5px solid #800080; \n",
       "\tpadding: 0.5em;\n",
       "}\n",
       "\n",
       "span.sub-q {\n",
       "\tfont-weight: bold;\n",
       "}\n",
       "div.theme {\n",
       "\tbackground-color: #DDDDDD;\n",
       "\tborder-color: #E9967A; \t\n",
       "\tborder-left: 5px solid #800080; \n",
       "\tpadding: 0.5em;\n",
       "\tfont-size: 18pt;\n",
       "}\n",
       "div.gc { \n",
       "\tbackground-color: #AEDE94;\n",
       "\tborder-color: #E9967A; \t \n",
       "\tborder-left: 5px solid #800080; \n",
       "\tpadding: 0.5em;\n",
       "\tfont-size: 12pt;\n",
       "}\n",
       "p.q1 { \n",
       "    padding-top: 5px;\n",
       "    padding-bottom: 5px;\n",
       "    text-align: left; \n",
       "    padding-left: 5px;\n",
       "    background-color: #EEEEEE; \n",
       "    color: black;\n",
       "}\n",
       "header {\n",
       "   padding-top: 35px;\n",
       "    padding-bottom: 35px;\n",
       "    text-align: left; \n",
       "    padding-left: 10px;\n",
       "    background-color: #DDDDDD; \n",
       "    color: black;\n",
       "}\n",
       "</style>\n",
       "\n"
      ],
      "text/plain": [
       "<IPython.core.display.HTML object>"
      ]
     },
     "execution_count": 1,
     "metadata": {},
     "output_type": "execute_result"
    }
   ],
   "source": [
    "## RUN THIS CELL TO GET THE RIGHT FORMATTING \n",
    "import requests\n",
    "from IPython.core.display import HTML\n",
    "styles = requests.get(\"https://raw.githubusercontent.com/Harvard-IACS/2018-CS109A/master/content/styles/cs109.css\").text\n",
    "HTML(styles)"
   ]
  },
  {
   "cell_type": "markdown",
   "metadata": {
    "colab_type": "text",
    "id": "dAgNR5Qwtupf"
   },
   "source": [
    "### INSTRUCTIONS\n",
    "\n",
    "- To submit your assignment follow the instructions given in Canvas.\n",
    "- Restart the kernel and run the whole notebook again before you submit. \n",
    "- If you submit individually and you have worked with someone, please include the name of your [one] partner below. \n",
    "- As much as possible, try and stick to the hints and functions we import at the top of the homework, as those are the ideas and tools the class supports and is aiming to teach. And if a problem specifies a particular library you're required to use that library, and possibly others from the import list.\n",
    "- Please use .head() when viewing data. Do not submit a notebook that is excessively long because output was not suppressed or otherwise limited. "
   ]
  },
  {
   "cell_type": "code",
   "execution_count": 2,
   "metadata": {
    "colab": {},
    "colab_type": "code",
    "id": "GD6svQ0Ktupl"
   },
   "outputs": [],
   "source": [
    "import numpy as np\n",
    "import pandas as pd\n",
    "import sklearn as sk\n",
    "import matplotlib.pyplot as plt\n",
    "\n",
    "\n",
    "#from sklearn.preprocessing import PolynomialFeatures\n",
    "from sklearn.ensemble import AdaBoostClassifier, RandomForestRegressor\n",
    "from sklearn.linear_model import LinearRegression, LogisticRegression, LassoCV\n",
    "from sklearn.metrics import r2_score \n",
    "from sklearn.model_selection import train_test_split, cross_val_score\n",
    "from sklearn.tree import DecisionTreeClassifier\n",
    "from tensorflow.keras.models import Sequential\n",
    "from tensorflow.keras.layers import Dense\n",
    "\n",
    "\n",
    "#from sklearn.linear_model import LogisticRegressionCV \n",
    "#from sklearn.linear_model import LogisticRegression \n",
    "#from sklearn.utils import resample\n",
    "#from sklearn.tree import DecisionTreeClassifier\n",
    "#from sklearn.ensemble import RandomForestClassifier\n",
    "#from sklearn.ensemble import AdaBoostClassifier\n",
    "#from sklearn.metrics import accuracy_score\n",
    "\n",
    "%matplotlib inline\n",
    "\n",
    "import seaborn as sns\n",
    "sns.set(style='whitegrid')\n",
    "pd.set_option('display.width', 1500)\n",
    "pd.set_option('display.max_columns', 100)"
   ]
  },
  {
   "cell_type": "code",
   "execution_count": 3,
   "metadata": {
    "colab": {
     "base_uri": "https://localhost:8080/",
     "height": 34
    },
    "colab_type": "code",
    "executionInfo": {
     "elapsed": 1809,
     "status": "ok",
     "timestamp": 1596636611127,
     "user": {
      "displayName": "Chris Gumb",
      "photoUrl": "https://lh3.googleusercontent.com/a-/AOh14GiJjageaKLnzdbQiZUMbCVyEGAEDK5Oc_a7G3XA3g=s64",
      "userId": "13489793638003795436"
     },
     "user_tz": 240
    },
    "id": "jw9_ir0ytups",
    "outputId": "a53e202d-ad6c-4a7a-8720-4c253edb5cbe"
   },
   "outputs": [
    {
     "name": "stdout",
     "output_type": "stream",
     "text": [
      "2.2.0\n"
     ]
    }
   ],
   "source": [
    "### cs109default ### \n",
    "# TensorFlow and tf.keras\n",
    "import tensorflow as tf\n",
    "\n",
    "print(tf.__version__)  # You should see a 2.2.0 here!"
   ]
  },
  {
   "cell_type": "code",
   "execution_count": 4,
   "metadata": {
    "colab": {},
    "colab_type": "code",
    "id": "E7HNeEcstup3"
   },
   "outputs": [],
   "source": [
    "# pip install --upgrade tensorflow"
   ]
  },
  {
   "cell_type": "markdown",
   "metadata": {
    "colab_type": "text",
    "id": "muTFnP2-tup9"
   },
   "source": [
    "<hr style=\"height:2pt\">"
   ]
  },
  {
   "cell_type": "code",
   "execution_count": 5,
   "metadata": {
    "colab": {},
    "colab_type": "code",
    "id": "p3uFnBByvkzT"
   },
   "outputs": [
    {
     "name": "stdout",
     "output_type": "stream",
     "text": [
      "(602453, 28) (625763, 28) (607346, 28) (574268, 28)\n"
     ]
    }
   ],
   "source": [
    "#from google.colab import drive\n",
    "#drive.mount('/content/drive')\n",
    "\n",
    "# Load data\n",
    "nov19 = pd.read_csv('data/flightdelays_nov19.csv')\n",
    "dec19 = pd.read_csv('data/flightdelays_dec19.csv')\n",
    "jan20 = pd.read_csv('data/flightdelays_jan20.csv')\n",
    "feb20 = pd.read_csv('data/flightdelays_feb20.csv')\n",
    "\n",
    "\n",
    "print(nov19.shape,dec19.shape,jan20.shape,feb20.shape)"
   ]
  },
  {
   "cell_type": "code",
   "execution_count": 6,
   "metadata": {
    "colab": {},
    "colab_type": "code",
    "id": "KLXks8p-wGBt"
   },
   "outputs": [],
   "source": [
    "#data_dir = '/content/drive/My Drive/S109A Data/Final/final/data'"
   ]
  },
  {
   "cell_type": "markdown",
   "metadata": {
    "colab_type": "text",
    "id": "zpVUFLpQtup-"
   },
   "source": [
    "# Predicting Flight Delays\n",
    "\n",
    "The Bureau of Trapnsportaions Statistics houses many datasets, including detailed information about every domestic flight's departure and arrival information, see [here](https://www.transtats.bts.gov/DL_SelectFields.asp?Table_ID=236).\n",
    "\n",
    "The variables included are:\n",
    "\n",
    "- `year`: the year of the flight (2019 or 2020)\n",
    "- `month`: the month of the flight where 1 = January, for example\n",
    "- `day_of_month`: the day of the month\n",
    "- `day_of_week`: the day of the week where 1 = Monday, 2 = Tuesday, etc.\n",
    "- `carrier`: the unique airline carrier code.  See [here](https://www.transtats.bts.gov/Fields.asp?Table_ID=273)\n",
    "- `tail_number`: the unique tail number of the aircraft.\n",
    "- `origin`: 3-letter code for the originating airport of the flight\n",
    "- `origin_state`: the FIPS code of the state the origin airport is located.  See [here](https://www.nrcs.usda.gov/wps/portal/nrcs/detail/?cid=nrcs143_013696). \n",
    "- `dest`: 3-letter code for the destination airport of the flight\n",
    "- `dest_state`: the FIPS code of the state the destination airport is located.\n",
    "- `scheduled_depart_time`: scheduled departure time, in HHMM format (1730 is 5:30pm.)\n",
    "- `actual_depart_time`: the actual departure time, in HHMM format\n",
    "- `depart_delay`: the difference between actual and scheduled departure times, in minutes (negative means it departed early)\n",
    "- `taxi_out`: the time it took for the flight to take off after leaving the gate, in minutes\n",
    "- `taxi_in`: the time it took for the flight to arrive at the gate after landing\n",
    "- `scheduled_arrival_time`: the scheduled arrival time, in HHMM format\n",
    "- `actual_arrival_time`: the actual arrival time, in HHMM format\n",
    "- `arrival_delay`: the difference between actual and scheduled arrival times, in minutes (negative means it arrived early)\n",
    "- `cancelled`: an indicator for whether the flight was cancelled.\n",
    "- `diverted`: an indicator for whether the flight was diverted to a different airport.\n",
    "- `elapsed_time`: total time from gate-to-gate\n",
    "- `air_time`: time in the air between take-off and landing\n",
    "- `distance`: the distance of the flight, in miles\n",
    "- `carrier_delay`: the amount of time the flight was delayed due to carrier-controllable problems\n",
    "- `weather_delay`: the amount of time the flight was delayed due to sever weather\n",
    "- `nas_delay`: the amount of time the flight was delayed due to issues in the national aviation system\n",
    "- `security_delay`: the amount of time the flight was delayed due to security issues \n",
    "- `late_aircraft_delay`: the amount of time the flight was delayed due to the aircraft arriving late from another flight.\n",
    "\n",
    "*Note: see [here](https://www.bts.gov/topics/airlines-and-airports/understanding-reporting-causes-flight-delays-and-cancellations) for more details on the delay types.\n",
    "\n",
    "Use the provided data sets (`flightdelays_nov19.csv`,`flightdelays_dec19.csv`,`flightdelays_jan20.csv`, and `flightdelays_feb20.csv`) to answer the following questions:"
   ]
  },
  {
   "cell_type": "markdown",
   "metadata": {
    "colab_type": "text",
    "id": "v-FI-xyvtup_"
   },
   "source": [
    "# <div class='exercise'><b>Question 1 [30pts]: Data Wrangling and Explorations </b></div>\n",
    "\n",
    "**1.1** Combine the four flight data sets (each one represents a different month from November 2019 until Feb 2020).\n",
    "\n",
    "**1.2** Next, let's perform some data wrangling: \n",
    "1. drop the flights that were cancelled or diverted\n",
    "2. convert the 5 `_delay` variables at the end of the dataset into indicators whether or not there was any delay due to this reason (you will need to impute zeros for missing values, and convert any non-zeros into ones).  \n",
    "3. convert `scheduled_depart_time` and `scheduled_arrival_time` into minutes (Hint: the operations `\\\\` and `%` will be useful for this).\n",
    "How many flights were dropped?  How many observations were imputed in each of the `_delay` variables (they should all be the same)?  Save your cleaned data frame as `flights`. \n",
    "\n",
    "**1.3** Create a new variable called `delayed` that measures whether or not a flight was delayed by 15 minutes or more at arrival. This will be one of your primary response variables.\n",
    "\n",
    "**1.4** Split the data, 50-50, into `train` and `test` using `random_state = 109` and `shuffle = True` in sklearn's `train_test_split`.  Why is it important to shuffle the data set first?\n",
    "\n",
    "**1.5** Create two datasets called `bos_flights_train` and `bos_flights_test` which contains only the flights either departing from or arriving at Boston's Logan Airport in the train and test sets from the previous part.  \n",
    "\n",
    "**1.6** Answer some exploratory questions: \n",
    "1. What proportion of flights were delayed in total?  Which month had the highest proportion of flights delayed?\n",
    "2. Which airport was the busiest (had the most flights in and out)?  \n",
    "3. Which airport had the highest proportion of departures delayed? \n",
    "4. Which airlines had the highest and least proportion of arrivals delayed?\n",
    "5. How many flights did Boston have over this time period (combined across train and test counts)?  \n",
    "6. What proportion of departing flights from Boston's Logan Airport were delayed in train?  \n",
    "7. How do the distributions of arrival delays compare in flight leaving Boston vs. flights arriving at Boston (in train).  Provide a visual and interpret what you see.\n"
   ]
  },
  {
   "cell_type": "code",
   "execution_count": 7,
   "metadata": {
    "colab": {
     "base_uri": "https://localhost:8080/",
     "height": 244
    },
    "colab_type": "code",
    "executionInfo": {
     "elapsed": 4986,
     "status": "ok",
     "timestamp": 1596646902937,
     "user": {
      "displayName": "Chris Gumb",
      "photoUrl": "https://lh3.googleusercontent.com/a-/AOh14GiJjageaKLnzdbQiZUMbCVyEGAEDK5Oc_a7G3XA3g=s64",
      "userId": "13489793638003795436"
     },
     "user_tz": 240
    },
    "id": "0WhFAtGOtuqA",
    "outputId": "e7ee7692-253c-4b17-c867-5cf37a47fc4b"
   },
   "outputs": [
    {
     "name": "stdout",
     "output_type": "stream",
     "text": [
      "(602453, 28) (625763, 28) (607346, 28) (574268, 28)\n"
     ]
    }
   ],
   "source": [
    "# Load data\n",
    "#nov19 = pd.read_csv(f'{data_dir}/flightdelays_nov19.csv')\n",
    "#dec19 = pd.read_csv(f'{data_dir}/flightdelays_dec19.csv')\n",
    "#jan20 = pd.read_csv(f'{data_dir}/flightdelays_jan20.csv')\n",
    "#feb20 = pd.read_csv(f'{data_dir}/flightdelays_feb20.csv')\n",
    "\n",
    "# Load data\n",
    "nov19 = pd.read_csv('data/flightdelays_nov19.csv')\n",
    "dec19 = pd.read_csv('data/flightdelays_dec19.csv')\n",
    "jan20 = pd.read_csv('data/flightdelays_jan20.csv')\n",
    "feb20 = pd.read_csv('data/flightdelays_feb20.csv')\n",
    "\n",
    "\n",
    "print(nov19.shape,dec19.shape,jan20.shape,feb20.shape)\n",
    "\n"
   ]
  },
  {
   "cell_type": "markdown",
   "metadata": {
    "colab_type": "text",
    "id": "e3lrEm4YA2-E"
   },
   "source": [
    "\n",
    "**1.1** Combine the four flight data sets (each one represents a different month from November 2019 until Feb 2020)."
   ]
  },
  {
   "cell_type": "code",
   "execution_count": 8,
   "metadata": {
    "colab": {
     "base_uri": "https://localhost:8080/",
     "height": 34
    },
    "colab_type": "code",
    "executionInfo": {
     "elapsed": 4667,
     "status": "ok",
     "timestamp": 1596646903136,
     "user": {
      "displayName": "Chris Gumb",
      "photoUrl": "https://lh3.googleusercontent.com/a-/AOh14GiJjageaKLnzdbQiZUMbCVyEGAEDK5Oc_a7G3XA3g=s64",
      "userId": "13489793638003795436"
     },
     "user_tz": 240
    },
    "id": "9XJOXKD6tuqI",
    "outputId": "fef457c0-7d1d-46fd-c434-444da5ec900b"
   },
   "outputs": [
    {
     "name": "stdout",
     "output_type": "stream",
     "text": [
      "(2409830, 28)\n"
     ]
    },
    {
     "data": {
      "text/html": [
       "<div>\n",
       "<style scoped>\n",
       "    .dataframe tbody tr th:only-of-type {\n",
       "        vertical-align: middle;\n",
       "    }\n",
       "\n",
       "    .dataframe tbody tr th {\n",
       "        vertical-align: top;\n",
       "    }\n",
       "\n",
       "    .dataframe thead th {\n",
       "        text-align: right;\n",
       "    }\n",
       "</style>\n",
       "<table border=\"1\" class=\"dataframe\">\n",
       "  <thead>\n",
       "    <tr style=\"text-align: right;\">\n",
       "      <th></th>\n",
       "      <th>year</th>\n",
       "      <th>month</th>\n",
       "      <th>day_of_month</th>\n",
       "      <th>day_of_week</th>\n",
       "      <th>carrier</th>\n",
       "      <th>tail_number</th>\n",
       "      <th>origin</th>\n",
       "      <th>origin_state</th>\n",
       "      <th>dest</th>\n",
       "      <th>dest_state</th>\n",
       "      <th>scheduled_depart_time</th>\n",
       "      <th>actual_depart_time</th>\n",
       "      <th>depart_delay</th>\n",
       "      <th>taxi_out</th>\n",
       "      <th>taxi_in</th>\n",
       "      <th>scheduled_arrival_time</th>\n",
       "      <th>actual_arrival_time</th>\n",
       "      <th>arrival_delay</th>\n",
       "      <th>cancelled</th>\n",
       "      <th>diverted</th>\n",
       "      <th>elapsed_time</th>\n",
       "      <th>air_time</th>\n",
       "      <th>distance</th>\n",
       "      <th>carrier_delay</th>\n",
       "      <th>weather_delay</th>\n",
       "      <th>nas_delay</th>\n",
       "      <th>security_delay</th>\n",
       "      <th>late_aircraft_delay</th>\n",
       "    </tr>\n",
       "  </thead>\n",
       "  <tbody>\n",
       "    <tr>\n",
       "      <th>0</th>\n",
       "      <td>2019</td>\n",
       "      <td>11</td>\n",
       "      <td>23</td>\n",
       "      <td>6</td>\n",
       "      <td>WN</td>\n",
       "      <td>N220WN</td>\n",
       "      <td>RSW</td>\n",
       "      <td>12</td>\n",
       "      <td>CMH</td>\n",
       "      <td>39</td>\n",
       "      <td>1505</td>\n",
       "      <td>1457.0</td>\n",
       "      <td>-8.0</td>\n",
       "      <td>10.0</td>\n",
       "      <td>2.0</td>\n",
       "      <td>1725</td>\n",
       "      <td>1710.0</td>\n",
       "      <td>-15.0</td>\n",
       "      <td>0</td>\n",
       "      <td>0</td>\n",
       "      <td>133.0</td>\n",
       "      <td>121.0</td>\n",
       "      <td>930</td>\n",
       "      <td>NaN</td>\n",
       "      <td>NaN</td>\n",
       "      <td>NaN</td>\n",
       "      <td>NaN</td>\n",
       "      <td>NaN</td>\n",
       "    </tr>\n",
       "    <tr>\n",
       "      <th>1</th>\n",
       "      <td>2019</td>\n",
       "      <td>11</td>\n",
       "      <td>23</td>\n",
       "      <td>6</td>\n",
       "      <td>WN</td>\n",
       "      <td>N490WN</td>\n",
       "      <td>RSW</td>\n",
       "      <td>12</td>\n",
       "      <td>CMH</td>\n",
       "      <td>39</td>\n",
       "      <td>2130</td>\n",
       "      <td>2121.0</td>\n",
       "      <td>-9.0</td>\n",
       "      <td>10.0</td>\n",
       "      <td>3.0</td>\n",
       "      <td>2350</td>\n",
       "      <td>2335.0</td>\n",
       "      <td>-15.0</td>\n",
       "      <td>0</td>\n",
       "      <td>0</td>\n",
       "      <td>134.0</td>\n",
       "      <td>121.0</td>\n",
       "      <td>930</td>\n",
       "      <td>NaN</td>\n",
       "      <td>NaN</td>\n",
       "      <td>NaN</td>\n",
       "      <td>NaN</td>\n",
       "      <td>NaN</td>\n",
       "    </tr>\n",
       "    <tr>\n",
       "      <th>2</th>\n",
       "      <td>2019</td>\n",
       "      <td>11</td>\n",
       "      <td>23</td>\n",
       "      <td>6</td>\n",
       "      <td>WN</td>\n",
       "      <td>N489WN</td>\n",
       "      <td>RSW</td>\n",
       "      <td>12</td>\n",
       "      <td>DAL</td>\n",
       "      <td>48</td>\n",
       "      <td>1915</td>\n",
       "      <td>1908.0</td>\n",
       "      <td>-7.0</td>\n",
       "      <td>10.0</td>\n",
       "      <td>15.0</td>\n",
       "      <td>2115</td>\n",
       "      <td>2104.0</td>\n",
       "      <td>-11.0</td>\n",
       "      <td>0</td>\n",
       "      <td>0</td>\n",
       "      <td>176.0</td>\n",
       "      <td>151.0</td>\n",
       "      <td>1005</td>\n",
       "      <td>NaN</td>\n",
       "      <td>NaN</td>\n",
       "      <td>NaN</td>\n",
       "      <td>NaN</td>\n",
       "      <td>NaN</td>\n",
       "    </tr>\n",
       "    <tr>\n",
       "      <th>3</th>\n",
       "      <td>2019</td>\n",
       "      <td>11</td>\n",
       "      <td>23</td>\n",
       "      <td>6</td>\n",
       "      <td>WN</td>\n",
       "      <td>N8692F</td>\n",
       "      <td>RSW</td>\n",
       "      <td>12</td>\n",
       "      <td>IND</td>\n",
       "      <td>18</td>\n",
       "      <td>1405</td>\n",
       "      <td>1400.0</td>\n",
       "      <td>-5.0</td>\n",
       "      <td>11.0</td>\n",
       "      <td>5.0</td>\n",
       "      <td>1640</td>\n",
       "      <td>1619.0</td>\n",
       "      <td>-21.0</td>\n",
       "      <td>0</td>\n",
       "      <td>0</td>\n",
       "      <td>139.0</td>\n",
       "      <td>123.0</td>\n",
       "      <td>945</td>\n",
       "      <td>NaN</td>\n",
       "      <td>NaN</td>\n",
       "      <td>NaN</td>\n",
       "      <td>NaN</td>\n",
       "      <td>NaN</td>\n",
       "    </tr>\n",
       "    <tr>\n",
       "      <th>4</th>\n",
       "      <td>2019</td>\n",
       "      <td>11</td>\n",
       "      <td>23</td>\n",
       "      <td>6</td>\n",
       "      <td>WN</td>\n",
       "      <td>N8314L</td>\n",
       "      <td>RSW</td>\n",
       "      <td>12</td>\n",
       "      <td>IND</td>\n",
       "      <td>18</td>\n",
       "      <td>2035</td>\n",
       "      <td>2031.0</td>\n",
       "      <td>-4.0</td>\n",
       "      <td>11.0</td>\n",
       "      <td>5.0</td>\n",
       "      <td>2310</td>\n",
       "      <td>2256.0</td>\n",
       "      <td>-14.0</td>\n",
       "      <td>0</td>\n",
       "      <td>0</td>\n",
       "      <td>145.0</td>\n",
       "      <td>129.0</td>\n",
       "      <td>945</td>\n",
       "      <td>NaN</td>\n",
       "      <td>NaN</td>\n",
       "      <td>NaN</td>\n",
       "      <td>NaN</td>\n",
       "      <td>NaN</td>\n",
       "    </tr>\n",
       "  </tbody>\n",
       "</table>\n",
       "</div>"
      ],
      "text/plain": [
       "   year  month  day_of_month  day_of_week carrier tail_number origin  origin_state dest  dest_state  scheduled_depart_time  actual_depart_time  depart_delay  taxi_out  taxi_in  scheduled_arrival_time  actual_arrival_time  arrival_delay  cancelled  diverted  elapsed_time  air_time  distance  carrier_delay  weather_delay  nas_delay  security_delay  late_aircraft_delay\n",
       "0  2019     11            23            6      WN      N220WN    RSW            12  CMH          39                   1505              1457.0          -8.0      10.0      2.0                    1725               1710.0          -15.0          0         0         133.0     121.0       930            NaN            NaN        NaN             NaN                  NaN\n",
       "1  2019     11            23            6      WN      N490WN    RSW            12  CMH          39                   2130              2121.0          -9.0      10.0      3.0                    2350               2335.0          -15.0          0         0         134.0     121.0       930            NaN            NaN        NaN             NaN                  NaN\n",
       "2  2019     11            23            6      WN      N489WN    RSW            12  DAL          48                   1915              1908.0          -7.0      10.0     15.0                    2115               2104.0          -11.0          0         0         176.0     151.0      1005            NaN            NaN        NaN             NaN                  NaN\n",
       "3  2019     11            23            6      WN      N8692F    RSW            12  IND          18                   1405              1400.0          -5.0      11.0      5.0                    1640               1619.0          -21.0          0         0         139.0     123.0       945            NaN            NaN        NaN             NaN                  NaN\n",
       "4  2019     11            23            6      WN      N8314L    RSW            12  IND          18                   2035              2031.0          -4.0      11.0      5.0                    2310               2256.0          -14.0          0         0         145.0     129.0       945            NaN            NaN        NaN             NaN                  NaN"
      ]
     },
     "execution_count": 8,
     "metadata": {},
     "output_type": "execute_result"
    }
   ],
   "source": [
    "# 1.1 \n",
    "flights = pd.concat([nov19,dec19,jan20,feb20])\n",
    "print(flights.shape)\n",
    "flights.head()"
   ]
  },
  {
   "cell_type": "markdown",
   "metadata": {
    "colab_type": "text",
    "id": "8uvRNuuhByrP"
   },
   "source": [
    "<span style='color:red'>\n",
    "\n",
    "**Rubric**\n",
    "\n",
    "**Q1.1 [2 points total]** \n",
    "    \n",
    "**Points**\n",
    "\n",
    "-[ -1 ] Somehow fail to import correctly\n",
    "\n",
    "-[ -1 ] fail to combine dataframes correctly (append by row)\n",
    "\n"
   ]
  },
  {
   "cell_type": "markdown",
   "metadata": {
    "colab_type": "text",
    "id": "uZG96zNNA7yT"
   },
   "source": [
    "**1.2** Next, let's perform some data wrangling: \n",
    "1. drop the flights that were cancelled or diverted\n",
    "2. convert the 5 `_delay` variables at the end of the dataset into indicators whether or not there was any delay due to this reason (you will need to impute zeros for missing values, and convert any non-zeros into ones).  \n",
    "3. convert `scheduled_depart_time` and `scheduled_arrival_time` into minutes (Hint: the operations `\\\\` and `%` will be useful for this).\n",
    "How many flights were dropped?  How many observations were imputed in each of the `_delay` variables (they should all be the same)?  Save your cleaned data frame as `flights`. "
   ]
  },
  {
   "cell_type": "code",
   "execution_count": 9,
   "metadata": {
    "colab": {
     "base_uri": "https://localhost:8080/",
     "height": 34
    },
    "colab_type": "code",
    "executionInfo": {
     "elapsed": 4749,
     "status": "ok",
     "timestamp": 1596646904030,
     "user": {
      "displayName": "Chris Gumb",
      "photoUrl": "https://lh3.googleusercontent.com/a-/AOh14GiJjageaKLnzdbQiZUMbCVyEGAEDK5Oc_a7G3XA3g=s64",
      "userId": "13489793638003795436"
     },
     "user_tz": 240
    },
    "id": "FK3zKDG-tuqP",
    "outputId": "19853ec8-e336-4e47-8a9e-27b253ea54fa"
   },
   "outputs": [
    {
     "name": "stdout",
     "output_type": "stream",
     "text": [
      "rows dropped: 26767\n"
     ]
    }
   ],
   "source": [
    "# 1.2\n",
    "# drop cancelled or diverted\n",
    "flights_old_shape = flights.shape[0]\n",
    "flights = flights[(flights['cancelled']==0)&(flights['diverted']==0)]\n",
    "print('rows dropped:', flights_old_shape - flights.shape[0])"
   ]
  },
  {
   "cell_type": "code",
   "execution_count": 10,
   "metadata": {
    "colab": {
     "base_uri": "https://localhost:8080/",
     "height": 141
    },
    "colab_type": "code",
    "executionInfo": {
     "elapsed": 5040,
     "status": "ok",
     "timestamp": 1596646904574,
     "user": {
      "displayName": "Chris Gumb",
      "photoUrl": "https://lh3.googleusercontent.com/a-/AOh14GiJjageaKLnzdbQiZUMbCVyEGAEDK5Oc_a7G3XA3g=s64",
      "userId": "13489793638003795436"
     },
     "user_tz": 240
    },
    "id": "__W3oBWWiAsS",
    "outputId": "91fd6724-87ba-460f-bdf7-afd959b61ce9"
   },
   "outputs": [
    {
     "name": "stdout",
     "output_type": "stream",
     "text": [
      "columns to impute: ['carrier_delay', 'weather_delay', 'nas_delay', 'security_delay', 'late_aircraft_delay']\n",
      "rows to impute for carrier_delay: 2003566\n",
      "rows to impute for weather_delay: 2003566\n",
      "rows to impute for nas_delay: 2003566\n",
      "rows to impute for security_delay: 2003566\n",
      "rows to impute for late_aircraft_delay: 2003566\n"
     ]
    }
   ],
   "source": [
    "# impute zeros for missing values\n",
    "to_impute = [c for c in flights.columns if c.endswith('_delay') and not (c.startswith('arrival') or c.startswith('depart'))]\n",
    "print('columns to impute:', to_impute)\n",
    "\n",
    "for col in to_impute:\n",
    "    print(f'rows to impute for {col}:', np.sum(flights[col].isnull()))\n",
    "\n",
    "flights[to_impute]=1*(flights[to_impute]>0)\n",
    "flights[to_impute]=(flights[to_impute].fillna(0))"
   ]
  },
  {
   "cell_type": "code",
   "execution_count": 11,
   "metadata": {
    "colab": {
     "base_uri": "https://localhost:8080/",
     "height": 54
    },
    "colab_type": "code",
    "executionInfo": {
     "elapsed": 4938,
     "status": "ok",
     "timestamp": 1596646904772,
     "user": {
      "displayName": "Chris Gumb",
      "photoUrl": "https://lh3.googleusercontent.com/a-/AOh14GiJjageaKLnzdbQiZUMbCVyEGAEDK5Oc_a7G3XA3g=s64",
      "userId": "13489793638003795436"
     },
     "user_tz": 240
    },
    "id": "h3y5-amoh2RN",
    "outputId": "257ce2a3-04ae-4f88-bd14-6a135da81511"
   },
   "outputs": [
    {
     "name": "stdout",
     "output_type": "stream",
     "text": [
      "columns to convert: ['scheduled_depart_time', 'actual_depart_time', 'scheduled_arrival_time', 'actual_arrival_time']\n"
     ]
    }
   ],
   "source": [
    "# convert times to minutes\n",
    "to_convert = [c for c in flights.columns if (c.endswith('arrival_time') or c.endswith('depart_time'))]\n",
    "print('columns to convert:', to_convert)\n",
    "\n",
    "for col in to_convert:\n",
    "    flights.loc[:,col] = (flights[col] // 100 * 60 + flights[col] % 100)"
   ]
  },
  {
   "cell_type": "markdown",
   "metadata": {
    "colab_type": "text",
    "id": "np3Hf8s6Clwv"
   },
   "source": [
    "<span style='color:red'>\n",
    "\n",
    "**Rubric**\n",
    "\n",
    "**Q1.2 [5 points total]** \n",
    "\n",
    "**Notes**\n",
    " - They were not asked to convert the actual times, just scheduled\n",
    "    \n",
    "**Points**\n",
    "\n",
    "- [ -1 ]fails to drop canceled and/or diverted\n",
    "\n",
    "- [ -1 ]fails to convert `_delay` variables to indicators\n",
    "\n",
    "- [ -1 ]doesn't impute zeros for missing values\n",
    "\n",
    "- [ -1 ]doesn't convert arrival and/or depart time to minutes properly\n",
    "\n",
    "- [ -1 ]doesn't report number dropped and/or imputed\n"
   ]
  },
  {
   "cell_type": "markdown",
   "metadata": {
    "colab_type": "text",
    "id": "OJYuoa19A_lc"
   },
   "source": [
    "**1.3** Create a new variable called `delayed` that measures whether or not a flight was delayed by 15 minutes or more at arrival. This will be one of your primary response variables."
   ]
  },
  {
   "cell_type": "code",
   "execution_count": 12,
   "metadata": {
    "colab": {
     "base_uri": "https://localhost:8080/",
     "height": 34
    },
    "colab_type": "code",
    "executionInfo": {
     "elapsed": 417,
     "status": "ok",
     "timestamp": 1596646906513,
     "user": {
      "displayName": "Chris Gumb",
      "photoUrl": "https://lh3.googleusercontent.com/a-/AOh14GiJjageaKLnzdbQiZUMbCVyEGAEDK5Oc_a7G3XA3g=s64",
      "userId": "13489793638003795436"
     },
     "user_tz": 240
    },
    "id": "fcu9G1VhtuqU",
    "outputId": "8392cc62-7490-48ba-a515-2aaf819dbc85"
   },
   "outputs": [],
   "source": [
    "# 1.3\n",
    "flights['delayed'] = 1*(flights['arrival_delay']>=15)"
   ]
  },
  {
   "cell_type": "markdown",
   "metadata": {
    "colab_type": "text",
    "id": "Vogg2RubGjXX"
   },
   "source": [
    "<span style='color:red'>\n",
    "\n",
    "**Rubric**\n",
    "\n",
    "**Q1.3 [2 points total]** \n",
    "    \n",
    "**Points**\n",
    "\n",
    "- [ -2 ] creates `delayed` feature completely incorrectly\n",
    "    \n",
    "- [ -1 ] if they do strictly '> 15'\n",
    "\n"
   ]
  },
  {
   "cell_type": "markdown",
   "metadata": {
    "colab_type": "text",
    "id": "55uD3cTZBEpG"
   },
   "source": [
    "**1.4** Split the data, 50-50, into `train` and `test` using `random_state = 109` and `shuffle = True` in sklearn's `train_test_split`.  Why is it important to shuffle the data set first?"
   ]
  },
  {
   "cell_type": "code",
   "execution_count": 13,
   "metadata": {
    "colab": {
     "base_uri": "https://localhost:8080/",
     "height": 52
    },
    "colab_type": "code",
    "executionInfo": {
     "elapsed": 3183,
     "status": "ok",
     "timestamp": 1596646910795,
     "user": {
      "displayName": "Chris Gumb",
      "photoUrl": "https://lh3.googleusercontent.com/a-/AOh14GiJjageaKLnzdbQiZUMbCVyEGAEDK5Oc_a7G3XA3g=s64",
      "userId": "13489793638003795436"
     },
     "user_tz": 240
    },
    "id": "3eSBxTdituqd",
    "outputId": "90403f5b-9409-4714-bf3b-7094f82eef9c"
   },
   "outputs": [
    {
     "name": "stdout",
     "output_type": "stream",
     "text": [
      "train shape: (1191531, 29)\n",
      "test shape: (1191532, 29)\n"
     ]
    }
   ],
   "source": [
    "#1.4\n",
    "# splitting indices\n",
    "itrain, itest = train_test_split(range(flights.shape[0]), train_size=0.50,random_state=109, shuffle=True)\n",
    "\n",
    "train = flights.iloc[itrain, :]\n",
    "test = flights.iloc[itest, :]\n",
    "print('train shape:', train.shape)\n",
    "print('test shape:', test.shape)"
   ]
  },
  {
   "cell_type": "markdown",
   "metadata": {
    "colab_type": "text",
    "id": "_YzUHMrngTob"
   },
   "source": [
    "*your answer here*\n",
    "\n",
    "It is important to shuffle the data before splitting to ensure that the observations are represented as equally as possible in both train and test (like a simple random sample into the two sets). We know from how we combined our datasets into one large dataframe that there is an ordering to the rows. If we didn't shuffle we may end up with the test data being all observations from a single month for example."
   ]
  },
  {
   "cell_type": "markdown",
   "metadata": {
    "colab_type": "text",
    "id": "QrlCv--8fs0C"
   },
   "source": [
    "<span style='color:red'>\n",
    "\n",
    "**Rubric**\n",
    "\n",
    "**Q1.4 [4 points total]** \n",
    "    \n",
    "**Points**\n",
    "\n",
    "- [ -1 ] incorrect split (e.g., they have Xs and ys rather than just train and test)\n",
    "- [ up to -2 ] poor/missing explanation for why shuffling is important\n",
    "- [ -1] doesn't connect to how our data set was created)\n",
    "\n"
   ]
  },
  {
   "cell_type": "markdown",
   "metadata": {
    "colab_type": "text",
    "id": "NLu8MzZ_BJ2y"
   },
   "source": [
    "**1.5** Create two datasets called `bos_flights_train` and `bos_flights_test` which contains only the flights either departing from or arriving at Boston's Logan Airport in the train and test sets from the previous part.  "
   ]
  },
  {
   "cell_type": "code",
   "execution_count": 14,
   "metadata": {
    "colab": {
     "base_uri": "https://localhost:8080/",
     "height": 52
    },
    "colab_type": "code",
    "executionInfo": {
     "elapsed": 540,
     "status": "ok",
     "timestamp": 1596646911256,
     "user": {
      "displayName": "Chris Gumb",
      "photoUrl": "https://lh3.googleusercontent.com/a-/AOh14GiJjageaKLnzdbQiZUMbCVyEGAEDK5Oc_a7G3XA3g=s64",
      "userId": "13489793638003795436"
     },
     "user_tz": 240
    },
    "id": "RDIXT4lptuqq",
    "outputId": "08a3a216-7cf4-4eec-e9e1-3f728a09a219"
   },
   "outputs": [
    {
     "name": "stdout",
     "output_type": "stream",
     "text": [
      "bos_flights_train shape: (48766, 29)\n",
      "bos_flights_train shape: (48216, 29)\n"
     ]
    }
   ],
   "source": [
    "#1.5\n",
    "bos_flights_train = train[(train['origin']==\"BOS\") | (train['dest']==\"BOS\") ]\n",
    "bos_flights_test = test[(test['origin']==\"BOS\") | (test['dest']==\"BOS\") ]\n",
    "\n",
    "print('bos_flights_train shape:', bos_flights_train.shape)\n",
    "print('bos_flights_train shape:', bos_flights_test.shape)"
   ]
  },
  {
   "cell_type": "markdown",
   "metadata": {
    "colab_type": "text",
    "id": "W_6UnovArXO6"
   },
   "source": [
    "<span style='color:red'>\n",
    "\n",
    "**Rubric**\n",
    "\n",
    "**Q1.5 [2 points total]** \n",
    "    \n",
    "**Points**\n",
    "\n",
    "- [ -1 ] if only look at origin or destination\n",
    "- [ -2 ] if more substantial mistake\n",
    "\n"
   ]
  },
  {
   "cell_type": "markdown",
   "metadata": {
    "colab_type": "text",
    "id": "ks4sqYDHBOSk"
   },
   "source": [
    "**1.6** Answer some exploratory questions: \n",
    "1. What proportion of flights were delayed in total?  Which month had the highest proportion of flights delayed?\n",
    "2. Which airport was the busiest (had the most flights in and out)?  \n",
    "3. Which airport had the highest proportion of departures delayed? \n",
    "4. Which airlines had the highest and least proportion of arrivals delayed?\n",
    "5. How many flights did Boston have over this time period (combined across train and test counts)?  \n",
    "6. What proportion of departing flights from Boston's Logan Airport were delayed in train?  \n",
    "7. How do the distributions of arrival delays compare in flight leaving Boston vs. flights arriving at Boston (in train).  Provide a visual and interpret what you see."
   ]
  },
  {
   "cell_type": "code",
   "execution_count": 108,
   "metadata": {
    "colab": {
     "base_uri": "https://localhost:8080/",
     "height": 178
    },
    "colab_type": "code",
    "executionInfo": {
     "elapsed": 617,
     "status": "ok",
     "timestamp": 1596647188035,
     "user": {
      "displayName": "Chris Gumb",
      "photoUrl": "https://lh3.googleusercontent.com/a-/AOh14GiJjageaKLnzdbQiZUMbCVyEGAEDK5Oc_a7G3XA3g=s64",
      "userId": "13489793638003795436"
     },
     "user_tz": 240
    },
    "id": "FUZiZQKutuqv",
    "outputId": "72de08c0-e6c8-49cd-a9a9-aedeb88912b1"
   },
   "outputs": [
    {
     "name": "stdout",
     "output_type": "stream",
     "text": [
      "proportion of flights delayed: 0.1594679450219927\n"
     ]
    },
    {
     "data": {
      "text/html": [
       "<div>\n",
       "<style scoped>\n",
       "    .dataframe tbody tr th:only-of-type {\n",
       "        vertical-align: middle;\n",
       "    }\n",
       "\n",
       "    .dataframe tbody tr th {\n",
       "        vertical-align: top;\n",
       "    }\n",
       "\n",
       "    .dataframe thead th {\n",
       "        text-align: right;\n",
       "    }\n",
       "</style>\n",
       "<table border=\"1\" class=\"dataframe\">\n",
       "  <thead>\n",
       "    <tr style=\"text-align: right;\">\n",
       "      <th>month</th>\n",
       "      <th>1</th>\n",
       "      <th>2</th>\n",
       "      <th>11</th>\n",
       "      <th>12</th>\n",
       "    </tr>\n",
       "    <tr>\n",
       "      <th>delayed</th>\n",
       "      <th></th>\n",
       "      <th></th>\n",
       "      <th></th>\n",
       "      <th></th>\n",
       "    </tr>\n",
       "  </thead>\n",
       "  <tbody>\n",
       "    <tr>\n",
       "      <th>0</th>\n",
       "      <td>0.862889</td>\n",
       "      <td>0.850717</td>\n",
       "      <td>0.856426</td>\n",
       "      <td>0.794235</td>\n",
       "    </tr>\n",
       "    <tr>\n",
       "      <th>1</th>\n",
       "      <td>0.137111</td>\n",
       "      <td>0.149283</td>\n",
       "      <td>0.143574</td>\n",
       "      <td>0.205765</td>\n",
       "    </tr>\n",
       "  </tbody>\n",
       "</table>\n",
       "</div>"
      ],
      "text/plain": [
       "month          1         2         11        12\n",
       "delayed                                        \n",
       "0        0.862889  0.850717  0.856426  0.794235\n",
       "1        0.137111  0.149283  0.143574  0.205765"
      ]
     },
     "metadata": {},
     "output_type": "display_data"
    },
    {
     "name": "stdout",
     "output_type": "stream",
     "text": [
      "month /w most delays: 12\n"
     ]
    }
   ],
   "source": [
    "#1.6\n",
    "#1. What proportion of flights were delayed in total? \n",
    "print('proportion of flights delayed:', np.mean(train['delayed']))\n",
    "\n",
    "#Which month had the highest proportion of flights delayed?\n",
    "crosstab = pd.crosstab(train['delayed'],train['month'], normalize='columns')\n",
    "display(crosstab)\n",
    "worst_month = crosstab.columns[np.argmax(crosstab.loc[1,:])]\n",
    "print('month /w most delays:', worst_month)"
   ]
  },
  {
   "cell_type": "code",
   "execution_count": 111,
   "metadata": {
    "colab": {
     "base_uri": "https://localhost:8080/",
     "height": 34
    },
    "colab_type": "code",
    "executionInfo": {
     "elapsed": 4940,
     "status": "ok",
     "timestamp": 1596647296868,
     "user": {
      "displayName": "Chris Gumb",
      "photoUrl": "https://lh3.googleusercontent.com/a-/AOh14GiJjageaKLnzdbQiZUMbCVyEGAEDK5Oc_a7G3XA3g=s64",
      "userId": "13489793638003795436"
     },
     "user_tz": 240
    },
    "id": "As6U5wnfk4pw",
    "outputId": "febffb25-7927-4d46-97b4-22f8b2e502a8"
   },
   "outputs": [
    {
     "name": "stdout",
     "output_type": "stream",
     "text": [
      "busiest airport: ATL\n"
     ]
    }
   ],
   "source": [
    "#2. Which airport was the busiest (had the most flights in and out)?  \n",
    "\n",
    "dest_airport = np.unique(train[['dest','origin']],return_counts=True)\n",
    "#origin_airport=np.unique(train['origin'],return_counts=True)\n",
    "busiest_airport = dest_airport[0][np.argmax(dest_airport[1])]\n",
    "\n",
    "print('busiest airport:', busiest_airport)"
   ]
  },
  {
   "cell_type": "code",
   "execution_count": 112,
   "metadata": {
    "colab": {
     "base_uri": "https://localhost:8080/",
     "height": 34
    },
    "colab_type": "code",
    "executionInfo": {
     "elapsed": 817,
     "status": "ok",
     "timestamp": 1596662673359,
     "user": {
      "displayName": "Chris Gumb",
      "photoUrl": "https://lh3.googleusercontent.com/a-/AOh14GiJjageaKLnzdbQiZUMbCVyEGAEDK5Oc_a7G3XA3g=s64",
      "userId": "13489793638003795436"
     },
     "user_tz": 240
    },
    "id": "mrOzhF_7mKVH",
    "outputId": "e7cad5ec-070e-42a6-d887-dff5b9b4dc0a"
   },
   "outputs": [
    {
     "name": "stdout",
     "output_type": "stream",
     "text": [
      "airport /w highest proportion of delays: ADK\n"
     ]
    }
   ],
   "source": [
    "#3. Which airport had the highest proportion of departures delayed? \n",
    "worst_airport = dest_airport[0][np.argmin(pd.crosstab(train['depart_delay'] >= 15,train['origin'], normalize='columns')[:1])]\n",
    "print('airport /w highest proportion of delays:', worst_airport)"
   ]
  },
  {
   "cell_type": "code",
   "execution_count": 113,
   "metadata": {
    "colab": {
     "base_uri": "https://localhost:8080/",
     "height": 156
    },
    "colab_type": "code",
    "executionInfo": {
     "elapsed": 721,
     "status": "ok",
     "timestamp": 1596657960672,
     "user": {
      "displayName": "Chris Gumb",
      "photoUrl": "https://lh3.googleusercontent.com/a-/AOh14GiJjageaKLnzdbQiZUMbCVyEGAEDK5Oc_a7G3XA3g=s64",
      "userId": "13489793638003795436"
     },
     "user_tz": 240
    },
    "id": "3PBXVvO5tuq2",
    "outputId": "b939f467-49ce-41c5-e8fb-261893c63075"
   },
   "outputs": [
    {
     "name": "stdout",
     "output_type": "stream",
     "text": [
      "delayed\n",
      "0    0.77055\n",
      "1    0.22945\n",
      "Name: OH, dtype: float64\n",
      "delayed\n",
      "0    0.898614\n",
      "1    0.101386\n",
      "Name: HA, dtype: float64\n"
     ]
    }
   ],
   "source": [
    "#4. Which airlines had the highest and least proportion of arrivals delayed?\n",
    "carrier_table = pd.crosstab(train['delayed'],train['carrier'], normalize='columns')\n",
    "print(carrier_table.iloc[:,np.argmax(carrier_table.iloc[1])])\n",
    "print(carrier_table.iloc[:,np.argmin(carrier_table.iloc[1])])"
   ]
  },
  {
   "cell_type": "code",
   "execution_count": 19,
   "metadata": {
    "colab": {
     "base_uri": "https://localhost:8080/",
     "height": 34
    },
    "colab_type": "code",
    "executionInfo": {
     "elapsed": 345,
     "status": "ok",
     "timestamp": 1596647483033,
     "user": {
      "displayName": "Chris Gumb",
      "photoUrl": "https://lh3.googleusercontent.com/a-/AOh14GiJjageaKLnzdbQiZUMbCVyEGAEDK5Oc_a7G3XA3g=s64",
      "userId": "13489793638003795436"
     },
     "user_tz": 240
    },
    "id": "Wku9brGrmj0Y",
    "outputId": "87d90bc6-5ed2-4f1b-91d2-53aa7da08959"
   },
   "outputs": [
    {
     "name": "stdout",
     "output_type": "stream",
     "text": [
      "# Boston flights: 96982\n"
     ]
    }
   ],
   "source": [
    "#5. How many flights did Boston have over this time period?  \n",
    "n_bos_flights = bos_flights_train.shape[0]+bos_flights_test.shape[0]\n",
    "print('# Boston flights:', n_bos_flights)"
   ]
  },
  {
   "cell_type": "code",
   "execution_count": 20,
   "metadata": {
    "colab": {
     "base_uri": "https://localhost:8080/",
     "height": 34
    },
    "colab_type": "code",
    "executionInfo": {
     "elapsed": 424,
     "status": "ok",
     "timestamp": 1596647538949,
     "user": {
      "displayName": "Chris Gumb",
      "photoUrl": "https://lh3.googleusercontent.com/a-/AOh14GiJjageaKLnzdbQiZUMbCVyEGAEDK5Oc_a7G3XA3g=s64",
      "userId": "13489793638003795436"
     },
     "user_tz": 240
    },
    "id": "WeeBza4Qml9T",
    "outputId": "eec81111-3fe1-44b4-8ace-1372de253363"
   },
   "outputs": [
    {
     "name": "stdout",
     "output_type": "stream",
     "text": [
      "proportion of delayed Boston flights: 0.17967107703722024\n"
     ]
    }
   ],
   "source": [
    "#6. What proportion of departing flights from Boston's Logan Airport were delayed?  \n",
    "bos_delayed_prop = np.mean(bos_flights_train['delayed'][bos_flights_train['origin']=='BOS'])\n",
    "print('proportion of delayed Boston flights:', bos_delayed_prop)"
   ]
  },
  {
   "cell_type": "code",
   "execution_count": 21,
   "metadata": {
    "colab": {
     "base_uri": "https://localhost:8080/",
     "height": 268
    },
    "colab_type": "code",
    "executionInfo": {
     "elapsed": 601,
     "status": "ok",
     "timestamp": 1596658023447,
     "user": {
      "displayName": "Chris Gumb",
      "photoUrl": "https://lh3.googleusercontent.com/a-/AOh14GiJjageaKLnzdbQiZUMbCVyEGAEDK5Oc_a7G3XA3g=s64",
      "userId": "13489793638003795436"
     },
     "user_tz": 240
    },
    "id": "Ep3aavn7moBe",
    "outputId": "938f8dd5-1672-4818-b922-325dd8a2fdba"
   },
   "outputs": [
    {
     "data": {
      "image/png": "[encoded data removed]",
      "text/plain": [
       "<Figure size 432x288 with 1 Axes>"
      ]
     },
     "metadata": {},
     "output_type": "display_data"
    }
   ],
   "source": [
    "#7. How do the distributions of arrival delays compare in flight leaving Boston vs. flights arriving at Boston.  \n",
    "# Provide a visual and interpret what you see.\n",
    "plt.boxplot([bos_flights_train['arrival_delay'][bos_flights_train['origin']=='BOS'],\n",
    "             bos_flights_train['arrival_delay'][bos_flights_train['dest']=='BOS']])\n",
    "plt.xticks([1,2],['Departing','Arriving']);"
   ]
  },
  {
   "cell_type": "code",
   "execution_count": 22,
   "metadata": {
    "colab": {
     "base_uri": "https://localhost:8080/",
     "height": 285
    },
    "colab_type": "code",
    "executionInfo": {
     "elapsed": 822,
     "status": "ok",
     "timestamp": 1596658072504,
     "user": {
      "displayName": "Chris Gumb",
      "photoUrl": "https://lh3.googleusercontent.com/a-/AOh14GiJjageaKLnzdbQiZUMbCVyEGAEDK5Oc_a7G3XA3g=s64",
      "userId": "13489793638003795436"
     },
     "user_tz": 240
    },
    "id": "yGJ5iWVPoAmy",
    "outputId": "62b62611-7090-4642-b6cf-be54a02f344a"
   },
   "outputs": [
    {
     "data": {
      "image/png": "[encoded data removed]",
      "text/plain": [
       "<Figure size 432x288 with 1 Axes>"
      ]
     },
     "metadata": {},
     "output_type": "display_data"
    }
   ],
   "source": [
    "arrive_df = pd.DataFrame(bos_flights_train.loc[bos_flights_train['origin']=='BOS', 'arrival_delay'])\n",
    "arrive_df['type'] = 'Departing'\n",
    "\n",
    "depart_df = pd.DataFrame(bos_flights_train.loc[bos_flights_train['dest']=='BOS', 'arrival_delay'])\n",
    "depart_df['type'] = 'Arriving'\n",
    "\n",
    "bos_delays_df = pd.concat([arrive_df, depart_df])\n",
    "sns.violinplot(x='type', y='arrival_delay', data=bos_delays_df);"
   ]
  },
  {
   "cell_type": "markdown",
   "metadata": {
    "colab_type": "text",
    "id": "MGs6VstDr04h"
   },
   "source": [
    "<span style='color:red'>\n",
    "\n",
    "**Rubric**\n",
    "\n",
    "**Q1.6 [15 points total]** \n",
    "    \n",
    "**Points**\n",
    "\n",
    "- [ -2 ] if they do not use train for each and every one of these questions (except 1.6.5)\n",
    "\n",
    "- 1.6.1: \n",
    "    - [-1] for missing overall proportion \n",
    "    - [-1] for not finding December as the most common month\n",
    "\n",
    "- 1.6.2: \n",
    "    - [-1] for not combining departures and arrivals\n",
    "    - [-1] for not finding Atlanta\n",
    "\n",
    "- 1.6.3: \n",
    "    - [-1] for not using proportions (used counts)\n",
    "    - [-1] for not finding ADK: Adak Airport (Alaska) or SHR: Sheridan County Airport (Wyoming)\n",
    "\n",
    "- 1.6.4: \n",
    "    - [-1] for not finding the best (HA: Hawaiian Airlines)\n",
    "    - [-1] for not finding the worst (OH: PSA Airlines)\n",
    "\n",
    "- 1.6.5: \n",
    "    - [-1] for not combining train and test\n",
    "\n",
    "- 1.6.6: \n",
    "    - [-1] for not subsetting just departures\n",
    "    - [-1] for not calculating arrival delays\n",
    "\n",
    "- 1.6.7: \n",
    "    - [-1] for not providing a reasonable visual (side-by-side boxplots, violin plots, or comparable histograms)\n",
    "    - [-1] for not mentioning outliers\n",
    "    - [-1] for not comparing (arrivals are a little later on average).\n"
   ]
  },
  {
   "cell_type": "markdown",
   "metadata": {
    "colab_type": "text",
    "id": "b-yBe8w8tuq7"
   },
   "source": [
    "<div class='exercise'><b>Question 2 [25pts]: Predicting whether a flight was delayed at arrival </b></div>\n",
    "\n",
    "**2.1** Fit a logistic regression model  to predict whether a flight is delayed or not from the carrier of the flight.  What is the estimated probability for a Sothwest Airlines (`carrier` = 'WN') flight to be delayed?  \n",
    "\n",
    "**2.2** Calculate and interpret the misclassification rate and AUC for the logit model on the train set.  Explain why this value make sense based on the estimated coefficients from the previous part.\n",
    "\n",
    "**2.3** Build a well-tuned decision tree model to predict `delayed` from the predictor set: `['month', 'day_of_month', 'day_of_week', 'carrier',  'origin_state','origin','dest',  'dest_state', 'scheduled_depart_time', 'depart_delay','scheduled_arrival_time', 'distance']`.  Use 2-fold cross-validation to to select the best `max_depth` from the set `np.arange(1,21)`.\n",
    "\n",
    "*Hint: it is useful to use `pd.astype('category')` and `pd.cat.codes` for the categorical predictors.\n",
    "\n",
    "**2.4** Evaluate the misclassification rate and AUC on both train and test for your well-tuned decision tree in the previous part.  How do these copmare to the logistic regression model?\n",
    "\n",
    "**2.5** Provide a plot which shows which predictors are most important in building the well-tuned decision tree model.  Interpret this plot.  \n",
    "\n",
    "**2.6**. If a well-tuned random forest model were built from this set of predictors, would you expect the tuned 'max_features' to be above, below, or nearly equal to the default of $\\sqrt{P}$, where $P$ is the number of predictors?  Justify briefly. \n"
   ]
  },
  {
   "cell_type": "markdown",
   "metadata": {
    "colab_type": "text",
    "id": "eQ_jX05ts4Dr"
   },
   "source": [
    "**2.1** Fit a logistic regression model  to predict whether a flight is delayed or not from the carrier of the flight.  What is the estimated probability for a Sothwest Airlines (`carrier` = 'WN') flight to be delayed?  "
   ]
  },
  {
   "cell_type": "code",
   "execution_count": 23,
   "metadata": {
    "colab": {
     "base_uri": "https://localhost:8080/",
     "height": 104
    },
    "colab_type": "code",
    "executionInfo": {
     "elapsed": 6437,
     "status": "ok",
     "timestamp": 1596672340260,
     "user": {
      "displayName": "Chris Gumb",
      "photoUrl": "https://lh3.googleusercontent.com/a-/AOh14GiJjageaKLnzdbQiZUMbCVyEGAEDK5Oc_a7G3XA3g=s64",
      "userId": "13489793638003795436"
     },
     "user_tz": 240
    },
    "id": "5GnAX2n3turA",
    "outputId": "c036b5f3-a5fb-469e-e9da-ac2ba333e3c9"
   },
   "outputs": [
    {
     "name": "stdout",
     "output_type": "stream",
     "text": [
      "[-1.82749381]\n"
     ]
    },
    {
     "data": {
      "text/plain": [
       "array([[ 0.17902399,  0.39848512,  0.50078125, -0.13508143,  0.31250453,\n",
       "         0.41603597,  0.57679077, -0.35387145,  0.32787827,  0.1039844 ,\n",
       "         0.61607865,  0.20486075,  0.17446397, -0.0089062 ,  0.34970723,\n",
       "         0.13272778]])"
      ]
     },
     "execution_count": 23,
     "metadata": {},
     "output_type": "execute_result"
    }
   ],
   "source": [
    "#2.1\n",
    "X_train_carrier = pd.get_dummies(train['carrier'], drop_first=True)\n",
    "X_test_carrier = pd.get_dummies(test['carrier'], drop_first=True)\n",
    "\n",
    "logit=LogisticRegression(C=10000).fit(X_train_carrier,train['delayed'])\n",
    "print(logit.intercept_)\n",
    "logit.coef_"
   ]
  },
  {
   "cell_type": "code",
   "execution_count": 24,
   "metadata": {
    "colab": {
     "base_uri": "https://localhost:8080/",
     "height": 268
    },
    "colab_type": "code",
    "executionInfo": {
     "elapsed": 607,
     "status": "ok",
     "timestamp": 1596672342306,
     "user": {
      "displayName": "Chris Gumb",
      "photoUrl": "https://lh3.googleusercontent.com/a-/AOh14GiJjageaKLnzdbQiZUMbCVyEGAEDK5Oc_a7G3XA3g=s64",
      "userId": "13489793638003795436"
     },
     "user_tz": 240
    },
    "id": "D5_XTRoMx2bT",
    "outputId": "bf38e7a9-02a2-4056-a6f8-aaec4678788d"
   },
   "outputs": [
    {
     "data": {
      "image/png": "[encoded data removed]",
      "text/plain": [
       "<Figure size 432x288 with 1 Axes>"
      ]
     },
     "metadata": {},
     "output_type": "display_data"
    }
   ],
   "source": [
    "plt.bar(range(len(logit.coef_[0])),logit.coef_[0])\n",
    "plt.xticks(range(len(X_train_carrier.columns)), labels=X_train_carrier.columns)\n",
    "plt.ylabel('logistic regression coef value');"
   ]
  },
  {
   "cell_type": "code",
   "execution_count": 25,
   "metadata": {
    "colab": {
     "base_uri": "https://localhost:8080/",
     "height": 34
    },
    "colab_type": "code",
    "executionInfo": {
     "elapsed": 442,
     "status": "ok",
     "timestamp": 1596672344048,
     "user": {
      "displayName": "Chris Gumb",
      "photoUrl": "https://lh3.googleusercontent.com/a-/AOh14GiJjageaKLnzdbQiZUMbCVyEGAEDK5Oc_a7G3XA3g=s64",
      "userId": "13489793638003795436"
     },
     "user_tz": 240
    },
    "id": "52oOlT7Qunv2",
    "outputId": "1984be4a-17e1-4391-e776-f99fe5aec345"
   },
   "outputs": [
    {
     "name": "stdout",
     "output_type": "stream",
     "text": [
      "WN estimated delay probability: 0.1374776142398017\n"
     ]
    }
   ],
   "source": [
    "x_WN = X_train_carrier[X_train_carrier['WN'] == 1].iloc[0].values.reshape(1,-1)\n",
    "WN_delay_proba= logit.predict_proba(x_WN)[0][1]\n",
    "print('WN estimated delay probability:', WN_delay_proba)"
   ]
  },
  {
   "cell_type": "code",
   "execution_count": 26,
   "metadata": {
    "colab": {
     "base_uri": "https://localhost:8080/",
     "height": 34
    },
    "colab_type": "code",
    "executionInfo": {
     "elapsed": 394,
     "status": "ok",
     "timestamp": 1596672345371,
     "user": {
      "displayName": "Chris Gumb",
      "photoUrl": "https://lh3.googleusercontent.com/a-/AOh14GiJjageaKLnzdbQiZUMbCVyEGAEDK5Oc_a7G3XA3g=s64",
      "userId": "13489793638003795436"
     },
     "user_tz": 240
    },
    "id": "hzPTcmsdPvUD",
    "outputId": "3a6a0602-c6f2-439d-b3cd-70469417563a"
   },
   "outputs": [
    {
     "data": {
      "text/plain": [
       "0.13747761423980168"
      ]
     },
     "execution_count": 26,
     "metadata": {},
     "output_type": "execute_result"
    }
   ],
   "source": [
    "odds_wn = np.exp(logit.intercept_+logit.coef_[0][X_train_carrier.columns==\"WN\"])\n",
    "(odds_wn/(1+odds_wn))[0]"
   ]
  },
  {
   "cell_type": "markdown",
   "metadata": {
    "colab_type": "text",
    "id": "gjCNGFr3veMm"
   },
   "source": [
    "<span style='color:red'>\n",
    "\n",
    "**Rubric**\n",
    "\n",
    "**Q2.1 [4 points total]** \n",
    "    \n",
    "**Points**\n",
    "\n",
    "- [ -1 ] mistakes in handling categorical predictor (i.e., get_dummies, have both an intercept and do not drop the first category)\n",
    "- [ -1 ] misspecified logistic regression model (-0.5 if they do not set `C` to be large)\n",
    "- [ -2 ] Incorrect estimate of delay probability for 'WN' carrier\n"
   ]
  },
  {
   "cell_type": "markdown",
   "metadata": {
    "colab_type": "text",
    "id": "b6fQmOIPtBZD"
   },
   "source": [
    "**2.2** Calculate and interpret the misclassification rate and AUC for the logit model on the train set.  Explain why this value make sense based on the estimated coefficients from the previous part."
   ]
  },
  {
   "cell_type": "code",
   "execution_count": 27,
   "metadata": {
    "colab": {
     "base_uri": "https://localhost:8080/",
     "height": 52
    },
    "colab_type": "code",
    "executionInfo": {
     "elapsed": 1228,
     "status": "ok",
     "timestamp": 1596672376254,
     "user": {
      "displayName": "Chris Gumb",
      "photoUrl": "https://lh3.googleusercontent.com/a-/AOh14GiJjageaKLnzdbQiZUMbCVyEGAEDK5Oc_a7G3XA3g=s64",
      "userId": "13489793638003795436"
     },
     "user_tz": 240
    },
    "id": "p-zxzgDqv_cl",
    "outputId": "02c6f785-5fc1-4a6c-852a-322c6a0aaf17"
   },
   "outputs": [
    {
     "name": "stdout",
     "output_type": "stream",
     "text": [
      "train misclassification rate: 0.15946794502199269\n",
      "train AUC: 0.5574780354943476\n"
     ]
    }
   ],
   "source": [
    "logit_train_acc = logit.score(X_train_carrier, train['delayed'])\n",
    "print('train misclassification rate:', 1-logit_train_acc)\n",
    "\n",
    "logit_train_auc = sk.metrics.roc_auc_score(train['delayed'],logit.predict_proba(X_train_carrier)[:,1])\n",
    "print('train AUC:', logit_train_auc)"
   ]
  },
  {
   "cell_type": "markdown",
   "metadata": {
    "colab_type": "text",
    "id": "3nIs3QD5xG2h"
   },
   "source": [
    "*your answer here*\n",
    "\n",
    "The misclassification rate is actually the same as the overall proportion of flights that are considered delayed for this very unbalanced response variable.  Since the log-odds are negative for each and every carrier, every predicted classification is a zero, and thus they match (the estimated coefficients are all smaller in magnitude than the very negative intercept).  AUC is very poor which is not surprising since the coefficients are so small in magnitude (and all of our predictors are binaries/dummies) and "
   ]
  },
  {
   "cell_type": "markdown",
   "metadata": {
    "colab_type": "text",
    "id": "VOcT03QjwuhH"
   },
   "source": [
    "<span style='color:red'>\n",
    "\n",
    "**Rubric**\n",
    "\n",
    "**Q2.2 [4 points total]** \n",
    "    \n",
    "**Points**\n",
    "\n",
    "- [ -1 ] incorrect train misclassification\n",
    "- [ -1 ] incorrect train AUC\n",
    "- [ up to -2 ] poor explanation for why these values (especially misclassification rate) make sense (/w reference to coefficients) because the estimated log odds is always negative.  Allow pretty much any reasonable answer for AUC eplanation."
   ]
  },
  {
   "cell_type": "markdown",
   "metadata": {
    "colab_type": "text",
    "id": "mmzxadlBtFJi"
   },
   "source": [
    "**2.3** Build a well-tuned decision tree model to predict `delayed` from the predictor set: `['month', 'day_of_month', 'day_of_week', 'carrier',  'origin_state','origin','dest',  'dest_state', 'scheduled_depart_time', 'depart_delay','scheduled_arrival_time', 'distance']`.  Use 2-fold cross-validation to to select the best `max_depth` from the set `np.arange(1,21)`.\n",
    "\n",
    "*Hint: it is useful to use `pd.astype('category')` and `pd.cat.codes` for the categorical predictors."
   ]
  },
  {
   "cell_type": "code",
   "execution_count": 28,
   "metadata": {
    "colab": {},
    "colab_type": "code",
    "executionInfo": {
     "elapsed": 2468,
     "status": "ok",
     "timestamp": 1596672401071,
     "user": {
      "displayName": "Chris Gumb",
      "photoUrl": "https://lh3.googleusercontent.com/a-/AOh14GiJjageaKLnzdbQiZUMbCVyEGAEDK5Oc_a7G3XA3g=s64",
      "userId": "13489793638003795436"
     },
     "user_tz": 240
    },
    "id": "eI6COF-oKzsw"
   },
   "outputs": [],
   "source": [
    "X_train = train.copy()\n",
    "X_test = test.copy()\n",
    "cols = ['month', 'day_of_month', 'day_of_week', 'carrier',\n",
    "        'origin_state','origin','dest',  'dest_state',\n",
    "        'scheduled_depart_time', 'depart_delay','scheduled_arrival_time',\n",
    "        'distance']\n",
    "\n",
    "def df_proc(original_df, cols=cols):\n",
    "    df = original_df.copy()\n",
    "    df = df[cols]\n",
    "    df.loc[:,'carrier'] = df['carrier'].astype('category')\n",
    "    # if name == 'train':\n",
    "    #     # remember code <-> string category mapping\n",
    "    #     carrier_cats = {code: string for code, string in enumerate(df['carrier'].cat.categories)}\n",
    "    df.loc[:,'carrier'] = df['carrier'].cat.codes\n",
    "\n",
    "    df.loc[:,'origin'] = df['origin'].astype('category')\n",
    "    # if name == 'train':\n",
    "    #     airport_cats = {code: string for code, string in enumerate(df['origin'].cat.categories)}\n",
    "    df.loc[:,'origin'] = df['origin'].cat.codes\n",
    "\n",
    "    df.loc[:,'dest'] = df['dest'].astype('category')\n",
    "    df.loc[:,'dest'] = df['dest'].cat.codes\n",
    "    return df\n",
    "\n",
    "X_train = df_proc(train)\n",
    "X_test = df_proc(test)"
   ]
  },
  {
   "cell_type": "code",
   "execution_count": 29,
   "metadata": {
    "colab": {},
    "colab_type": "code",
    "executionInfo": {
     "elapsed": 95209,
     "status": "ok",
     "timestamp": 1596672498105,
     "user": {
      "displayName": "Chris Gumb",
      "photoUrl": "https://lh3.googleusercontent.com/a-/AOh14GiJjageaKLnzdbQiZUMbCVyEGAEDK5Oc_a7G3XA3g=s64",
      "userId": "13489793638003795436"
     },
     "user_tz": 240
    },
    "id": "jdvX0fQ5turL"
   },
   "outputs": [],
   "source": [
    "depths = range(1,11)\n",
    "cv_means = []\n",
    "cv_stdevs = []\n",
    "train_scores = []\n",
    "for d in depths:\n",
    "    dt = DecisionTreeClassifier(max_depth=d).fit(X_train,train['delayed'])\n",
    "    train_scores.append(dt.score(X_train, train['delayed']))\n",
    "    cv_scores = cross_val_score(dt, X_train, train['delayed'], cv=2)\n",
    "    cv_means.append(cv_scores.mean())\n",
    "    cv_stdevs.append(cv_scores.std())"
   ]
  },
  {
   "cell_type": "code",
   "execution_count": 30,
   "metadata": {
    "colab": {
     "base_uri": "https://localhost:8080/",
     "height": 288
    },
    "colab_type": "code",
    "executionInfo": {
     "elapsed": 699,
     "status": "ok",
     "timestamp": 1596672919596,
     "user": {
      "displayName": "Chris Gumb",
      "photoUrl": "https://lh3.googleusercontent.com/a-/AOh14GiJjageaKLnzdbQiZUMbCVyEGAEDK5Oc_a7G3XA3g=s64",
      "userId": "13489793638003795436"
     },
     "user_tz": 240
    },
    "id": "8TGHFt2p2iUM",
    "outputId": "01a5255c-b570-4958-d132-5cfa798fd67d"
   },
   "outputs": [
    {
     "data": {
      "image/png": "[encoded data removed]",
      "text/plain": [
       "<Figure size 432x288 with 1 Axes>"
      ]
     },
     "metadata": {},
     "output_type": "display_data"
    }
   ],
   "source": [
    "# your code here \n",
    "cv_means = np.array(cv_means)\n",
    "cv_stdevs = np.array(cv_stdevs)\n",
    "\n",
    "\n",
    "# plot means and shade the 2 SD interval\n",
    "plt.plot(depths, cv_means, '*-', label=\"Mean CV\")\n",
    "plt.fill_between(depths, cv_means - 2*cv_stdevs, cv_means + 2*cv_stdevs, alpha=0.3)\n",
    "ylim = plt.ylim()\n",
    "plt.plot(depths, train_scores, '-+', label=\"Train\")\n",
    "plt.ylim(ylim)\n",
    "plt.legend()\n",
    "plt.ylabel(\"Accuracy\")\n",
    "plt.xlabel(\"Max Depth\")\n",
    "plt.xticks(depths);"
   ]
  },
  {
   "cell_type": "code",
   "execution_count": 31,
   "metadata": {
    "colab": {},
    "colab_type": "code",
    "executionInfo": {
     "elapsed": 6641,
     "status": "ok",
     "timestamp": 1596672930445,
     "user": {
      "displayName": "Chris Gumb",
      "photoUrl": "https://lh3.googleusercontent.com/a-/AOh14GiJjageaKLnzdbQiZUMbCVyEGAEDK5Oc_a7G3XA3g=s64",
      "userId": "13489793638003795436"
     },
     "user_tz": 240
    },
    "id": "rAi7yCDa1rgj"
   },
   "outputs": [],
   "source": [
    "dt = DecisionTreeClassifier(max_depth=6).fit(X_train,train['delayed'])"
   ]
  },
  {
   "cell_type": "markdown",
   "metadata": {
    "colab_type": "text",
    "id": "maiGxL2B1Vkk"
   },
   "source": [
    "<span style='color:red'>\n",
    "\n",
    "**Rubric**\n",
    "\n",
    "**Q2.3 [6 points total]** \n",
    "    \n",
    "**Points**\n",
    "\n",
    "- [ -2 ] incorrect handling of categorical variables\n",
    "- [ -1 ] didn't use 2-fold CV\n",
    "- [ -2 ] didn't tune `max_depth`\n",
    "- [ -1 ] picked unreasonable `max_depth` or it is unclear why they decided on this value (6 and 7 look good)"
   ]
  },
  {
   "cell_type": "markdown",
   "metadata": {
    "colab_type": "text",
    "id": "Af6Ep_UHtOVf"
   },
   "source": [
    "**2.4** Evaluate the misclassification rate and AUC on both train and test for your well-tuned decision tree in the previous part.  How do these compare to the logistic regression model?"
   ]
  },
  {
   "cell_type": "code",
   "execution_count": 32,
   "metadata": {
    "colab": {
     "base_uri": "https://localhost:8080/",
     "height": 52
    },
    "colab_type": "code",
    "executionInfo": {
     "elapsed": 1242,
     "status": "ok",
     "timestamp": 1596672948469,
     "user": {
      "displayName": "Chris Gumb",
      "photoUrl": "https://lh3.googleusercontent.com/a-/AOh14GiJjageaKLnzdbQiZUMbCVyEGAEDK5Oc_a7G3XA3g=s64",
      "userId": "13489793638003795436"
     },
     "user_tz": 240
    },
    "id": "75HLmYaEturO",
    "outputId": "925bec4d-132b-4a32-e92c-2ce5b64f532b"
   },
   "outputs": [
    {
     "name": "stdout",
     "output_type": "stream",
     "text": [
      "train misclassification rate: 0.06334119716566333\n",
      "train AUC: 0.9179979465957102\n"
     ]
    }
   ],
   "source": [
    "dt_train_acc = dt.score(X_train, train['delayed'])\n",
    "print('train misclassification rate:', 1-dt_train_acc)\n",
    "\n",
    "dt_train_auc = sk.metrics.roc_auc_score(train['delayed'],dt.predict_proba(X_train)[:,1])\n",
    "print('train AUC:', dt_train_auc)"
   ]
  },
  {
   "cell_type": "markdown",
   "metadata": {
    "colab_type": "text",
    "id": "WtjUNT-a5a7f"
   },
   "source": [
    "<span style='color:red'>\n",
    "\n",
    "    \n",
    "**Rubric**\n",
    "\n",
    "**Q2.4 [4 points total]** \n",
    "    \n",
    "**Points**\n",
    "\n",
    "- [ -1 ] incorrect train misclassification\n",
    "- [ -1 ] incorrect train AUC\n",
    "- [ up to -2 ] poor / incorrect / missing comparision to logistic regression model (should reference actual difference in models!)"
   ]
  },
  {
   "cell_type": "markdown",
   "metadata": {
    "colab_type": "text",
    "id": "J_XnIZX0tZnh"
   },
   "source": [
    "**2.5** Provide a plot which shows which predictors are most important in building the well-tuned decision tree model.  Interpret this plot. "
   ]
  },
  {
   "cell_type": "code",
   "execution_count": 33,
   "metadata": {
    "colab": {
     "base_uri": "https://localhost:8080/",
     "height": 69
    },
    "colab_type": "code",
    "executionInfo": {
     "elapsed": 434,
     "status": "ok",
     "timestamp": 1596652519886,
     "user": {
      "displayName": "Chris Gumb",
      "photoUrl": "https://lh3.googleusercontent.com/a-/AOh14GiJjageaKLnzdbQiZUMbCVyEGAEDK5Oc_a7G3XA3g=s64",
      "userId": "13489793638003795436"
     },
     "user_tz": 240
    },
    "id": "kW0FoZKK5_jQ",
    "outputId": "e2f3c26d-0aee-4005-9349-a8effcbf1158"
   },
   "outputs": [
    {
     "data": {
      "text/plain": [
       "array([0.00000000e+00, 5.55143841e-05, 0.00000000e+00, 3.96677459e-03,\n",
       "       3.67720854e-05, 1.60985692e-04, 2.81807323e-05, 1.02100259e-04,\n",
       "       8.15938502e-04, 9.91030714e-01, 0.00000000e+00, 3.80301959e-03])"
      ]
     },
     "execution_count": 33,
     "metadata": {},
     "output_type": "execute_result"
    }
   ],
   "source": [
    "dt.feature_importances_"
   ]
  },
  {
   "cell_type": "code",
   "execution_count": 34,
   "metadata": {
    "colab": {
     "base_uri": "https://localhost:8080/",
     "height": 301
    },
    "colab_type": "code",
    "executionInfo": {
     "elapsed": 624,
     "status": "ok",
     "timestamp": 1596652708551,
     "user": {
      "displayName": "Chris Gumb",
      "photoUrl": "https://lh3.googleusercontent.com/a-/AOh14GiJjageaKLnzdbQiZUMbCVyEGAEDK5Oc_a7G3XA3g=s64",
      "userId": "13489793638003795436"
     },
     "user_tz": 240
    },
    "id": "NH3YCYjS5vhF",
    "outputId": "6ecac9d4-3592-421a-c3ce-39bf290cce0a"
   },
   "outputs": [
    {
     "data": {
      "image/png": "[encoded data removed]",
      "text/plain": [
       "<Figure size 432x288 with 1 Axes>"
      ]
     },
     "metadata": {},
     "output_type": "display_data"
    }
   ],
   "source": [
    "pd.Series(dt.feature_importances_,index=list(X_train)).sort_values().plot(kind=\"barh\");\n",
    "plt.xlabel('feature importance')\n",
    "plt.ylabel('feature')\n",
    "plt.title('Decision Tree');"
   ]
  },
  {
   "cell_type": "markdown",
   "metadata": {
    "colab_type": "text",
    "id": "glTQ2Zsn60BF"
   },
   "source": [
    "*your answer here*\n",
    "\n",
    "`depart_delay` dominates all other features."
   ]
  },
  {
   "cell_type": "markdown",
   "metadata": {
    "colab_type": "text",
    "id": "mFTsDrZK6-Yh"
   },
   "source": [
    "<span style='color:red'>\n",
    "    \n",
    "**Rubric**\n",
    "\n",
    "**Q2.5 [3 points total]** \n",
    "    \n",
    "**Points**\n",
    "\n",
    "- [ up to -2 ] poor / incorrect / missing feature importance plot\n",
    "- [ -1 ] poor / incorrect / missing interpretation"
   ]
  },
  {
   "cell_type": "markdown",
   "metadata": {
    "colab_type": "text",
    "id": "GHlp4j84tf72"
   },
   "source": [
    "\n",
    "**2.6**. If a well-tuned random forest model were built from this set of predictors, would you expect the tuned 'max_features' to be above, below, or nearly equal to the default of $\\sqrt{P}$, where $P$ is the number of predictors?  Justify briefly.  "
   ]
  },
  {
   "cell_type": "markdown",
   "metadata": {
    "colab_type": "text",
    "id": "lMUGRtSU7Q6W"
   },
   "source": [
    "*your answer here*\n",
    "\n",
    "We would expect this number to be tuned to a value **above** the default of $\\sqrt{P}$ since there is just one overly dominant feature.  If the number of features randomly slected is too low, then there is a chance that this one feature is never selected for a tree (or only on one branch of the tree), and thus this one base estimator will be very poor, pulling down the accuracy of the entire random forest model."
   ]
  },
  {
   "cell_type": "markdown",
   "metadata": {
    "colab_type": "text",
    "id": "qNeamS-c7RRQ"
   },
   "source": [
    "<span style='color:red'>\n",
    "    \n",
    "**Rubric**\n",
    "\n",
    "**Q2.6 [4 points total]** \n",
    "    \n",
    "**Points**\n",
    "\n",
    "- [ -2 ] if do not say above/higher than $\\sqrt{P}$ \n",
    "- [ up to -2 ] poorly justified expectation for ideal max_features based on plot (should be higher than sqrt(P))"
   ]
  },
  {
   "cell_type": "markdown",
   "metadata": {
    "colab_type": "text",
    "id": "VaSrnnsBturf"
   },
   "source": [
    "<div class='exercise'><b>Question 3 [25pts]: Predicting how delayed a flight will be at arrival </b></div>\n",
    "\n",
    "**3.1** Fit a linear regression model to predict how much a flight will be delayed on arrival from the scheduled departure time. Plot the fitted line on top of the scatterplot.  What is the estimated delay for a 5am departing flight?  For an 11pm departing flight?\n",
    "\n",
    "**3.2** Build a well-tuned Lasso model to predict `arrival_delay` from `origin`.  Use 2-fold cross-validation to to select the best `alpha` from the set `10.0**(np.arange(-4,2))`.  For this Lasso model, how many airports are considered to be unimportant?  How is Boston treated?\n",
    "\n",
    "**3.3** Compare the number of departing flights for origin airports considered to be unimportant to those that are important from the Lasso model.  In what way does this explain why these airports were deemed to be unimportant in the Lasso model?\n",
    "\n",
    "**3.4** Build a well-tuned random forest model (use 200 base trees and a max_depth of 15) to predict the amount of `arrival_delay` from `['month', 'day_of_month', 'day_of_week', 'carrier',  'origin_state','origin','dest',  'dest_state', 'scheduled_depart_time','depart_delay', 'scheduled_arrival_time', 'distance']`.  Note: feel free to use a subset of your training data set to train this model...just explain your approach.  Evaluate it's performance on the full train and test sets using $R^2$.\n",
    "\n",
    "**3.5** A friend of yours suggests that airlines can \"make up time in the air\" if a flight departs late and is a long enough flight.  Investigate this claim visually and interpret what you see.\n",
    "\n",
    "Hint: Look at the relationship between the Y = predicted amount of arrival delay based on the X = amount of departure delay, for several well-chosen values of `distance`."
   ]
  },
  {
   "cell_type": "markdown",
   "metadata": {
    "colab_type": "text",
    "id": "JWlEQlW5turg"
   },
   "source": [
    "## Answers:"
   ]
  },
  {
   "cell_type": "markdown",
   "metadata": {
    "colab_type": "text",
    "id": "Oag9UkIvturi"
   },
   "source": [
    "\n",
    "**3.1** Fit a linear regression model to predict how much a flight will be delayed on arrival from the scheduled departure time. Plot the fitted line on top of the scatterplot.  What is the estimated delay for a 5am departing flight?  For an 11pm departing flight?"
   ]
  },
  {
   "cell_type": "code",
   "execution_count": 35,
   "metadata": {
    "colab": {
     "base_uri": "https://localhost:8080/",
     "height": 52
    },
    "colab_type": "code",
    "executionInfo": {
     "elapsed": 406,
     "status": "ok",
     "timestamp": 1596653523799,
     "user": {
      "displayName": "Chris Gumb",
      "photoUrl": "https://lh3.googleusercontent.com/a-/AOh14GiJjageaKLnzdbQiZUMbCVyEGAEDK5Oc_a7G3XA3g=s64",
      "userId": "13489793638003795436"
     },
     "user_tz": 240
    },
    "id": "A97SsUn6turj",
    "outputId": "b1896e6b-2174-4749-e532-ce710cb560d5"
   },
   "outputs": [
    {
     "name": "stdout",
     "output_type": "stream",
     "text": [
      "slope: 0.009032477654584944\n",
      "intercept: -6.138827412992144\n"
     ]
    }
   ],
   "source": [
    "#3.1\n",
    "ols = LinearRegression().fit(train[['scheduled_depart_time']],train['arrival_delay'])\n",
    "print('slope:', ols.coef_[0])\n",
    "print('intercept:', ols.intercept_)"
   ]
  },
  {
   "cell_type": "code",
   "execution_count": 36,
   "metadata": {
    "colab": {
     "base_uri": "https://localhost:8080/",
     "height": 302
    },
    "colab_type": "code",
    "executionInfo": {
     "elapsed": 14908,
     "status": "ok",
     "timestamp": 1596653647294,
     "user": {
      "displayName": "Chris Gumb",
      "photoUrl": "https://lh3.googleusercontent.com/a-/AOh14GiJjageaKLnzdbQiZUMbCVyEGAEDK5Oc_a7G3XA3g=s64",
      "userId": "13489793638003795436"
     },
     "user_tz": 240
    },
    "id": "CTHH_f3Uturp",
    "outputId": "73f0b66f-212a-4135-c12f-dd8c36019067"
   },
   "outputs": [
    {
     "data": {
      "image/png": "[encoded data removed]",
      "text/plain": [
       "<Figure size 432x288 with 1 Axes>"
      ]
     },
     "metadata": {},
     "output_type": "display_data"
    }
   ],
   "source": [
    "x_dummy = np.linspace(train['scheduled_depart_time'].min(), train['scheduled_depart_time'].max(), 1000)\n",
    "y_hat = ols.predict(x_dummy.reshape(-1,1))\n",
    "plt.scatter(train['scheduled_depart_time'], train['arrival_delay'],alpha=0.05, label='data')\n",
    "plt.plot(x_dummy, y_hat, c='r', alpha=0.9, label='predicted')\n",
    "plt.ylabel('arrival_delay')\n",
    "plt.xlabel('scheduled_depart_time')\n",
    "plt.legend();"
   ]
  },
  {
   "cell_type": "code",
   "execution_count": 37,
   "metadata": {
    "colab": {
     "base_uri": "https://localhost:8080/",
     "height": 52
    },
    "colab_type": "code",
    "executionInfo": {
     "elapsed": 478,
     "status": "ok",
     "timestamp": 1596664095533,
     "user": {
      "displayName": "Chris Gumb",
      "photoUrl": "https://lh3.googleusercontent.com/a-/AOh14GiJjageaKLnzdbQiZUMbCVyEGAEDK5Oc_a7G3XA3g=s64",
      "userId": "13489793638003795436"
     },
     "user_tz": 240
    },
    "id": "YbVM-qTb9Pm5",
    "outputId": "32032243-2a23-4831-b8c0-5e21fe18dfdd"
   },
   "outputs": [
    {
     "name": "stdout",
     "output_type": "stream",
     "text": [
      "predicted delay for 5am departing flight: -3.4290841166166603\n",
      "predicted delay for 11pm departing flight: 6.325991750335079\n"
     ]
    }
   ],
   "source": [
    "delay_5am = ols.predict(np.array([5*60]).reshape(1,-1))[0]\n",
    "print('predicted delay for 5am departing flight:', delay_5am)\n",
    "delay_11pm = ols.predict(np.array([23*60]).reshape(1,-1))[0]\n",
    "print('predicted delay for 11pm departing flight:', delay_11pm)"
   ]
  },
  {
   "cell_type": "markdown",
   "metadata": {
    "colab_type": "text",
    "id": "djkH8uDm_qXB"
   },
   "source": [
    "<span style='color:red'>\n",
    "    \n",
    "**Rubric**\n",
    "\n",
    "**Q3.1 [5 points total]** \n",
    "    \n",
    "**Points**\n",
    "\n",
    "- [ -1 ] misspecified regression model\n",
    "- [ up to -2 ] poor / illegible plot (should use dummy Xs!)\n",
    "- [ -1 each ] incorrect prediction for 5am and /or 11pm departure delay"
   ]
  },
  {
   "cell_type": "markdown",
   "metadata": {
    "colab_type": "text",
    "id": "WETVCC4Wturv"
   },
   "source": [
    "**3.2** Build a well-tuned Lasso model to predict `arrival_delay` from `origin`.  Use 2-fold cross-validation to to select the best `alpha` from the set `10.0**(np.arange(-4,2))`.  For this Lasso model, how many airports are considered to be unimportant?  How is Boston treated?"
   ]
  },
  {
   "cell_type": "code",
   "execution_count": 38,
   "metadata": {
    "colab": {},
    "colab_type": "code",
    "id": "rJUY66W0turw"
   },
   "outputs": [],
   "source": [
    "X_train_origin = pd.get_dummies(train['origin'], drop_first=True)\n",
    "\n",
    "alphas = 10.0**(np.arange(-4,2))\n",
    "\n",
    "lasso = LassoCV(alphas=alphas, cv=2).fit(X_train_origin,train['arrival_delay'])"
   ]
  },
  {
   "cell_type": "code",
   "execution_count": 39,
   "metadata": {
    "colab": {
     "base_uri": "https://localhost:8080/",
     "height": 34
    },
    "colab_type": "code",
    "executionInfo": {
     "elapsed": 449,
     "status": "ok",
     "timestamp": 1596654542847,
     "user": {
      "displayName": "Chris Gumb",
      "photoUrl": "https://lh3.googleusercontent.com/a-/AOh14GiJjageaKLnzdbQiZUMbCVyEGAEDK5Oc_a7G3XA3g=s64",
      "userId": "13489793638003795436"
     },
     "user_tz": 240
    },
    "id": "Ufi3lFORtur0",
    "outputId": "f431ee6f-cb0c-4f71-9608-55f019caa1d9"
   },
   "outputs": [
    {
     "name": "stdout",
     "output_type": "stream",
     "text": [
      "number of 'unimportant' airports: 149\n",
      "number of 'important' airports: 204\n"
     ]
    }
   ],
   "source": [
    "print(\"number of 'unimportant' airports:\", np.sum(lasso.coef_==0))\n",
    "print(\"number of 'important' airports:\", np.sum(lasso.coef_!=0))"
   ]
  },
  {
   "cell_type": "code",
   "execution_count": 40,
   "metadata": {
    "colab": {
     "base_uri": "https://localhost:8080/",
     "height": 312
    },
    "colab_type": "code",
    "executionInfo": {
     "elapsed": 269,
     "status": "ok",
     "timestamp": 1596483377983,
     "user": {
      "displayName": "Chris Gumb",
      "photoUrl": "https://lh3.googleusercontent.com/a-/AOh14GiJjageaKLnzdbQiZUMbCVyEGAEDK5Oc_a7G3XA3g=s64",
      "userId": "13489793638003795436"
     },
     "user_tz": 240
    },
    "id": "DeJaqWwwtur4",
    "outputId": "f382706c-8f30-4f6a-b659-eff35ba2ecf2"
   },
   "outputs": [
    {
     "data": {
      "text/plain": [
       "array(['ABR', 'ABY', 'ACT', 'ADK', 'ADQ', 'AEX', 'AGS', 'ALO', 'ATY',\n",
       "       'AVP', 'BET', 'BFF', 'BFL', 'BFM', 'BJI', 'BKG', 'BMI', 'BPT',\n",
       "       'BQK', 'BRD', 'BRW', 'BTR', 'CDV', 'CGI', 'CHA', 'CMX', 'CNY',\n",
       "       'COD', 'COS', 'COU', 'CPR', 'CWA', 'DBQ', 'DDC', 'DHN', 'DRO',\n",
       "       'DVL', 'EAR', 'EAU', 'EKO', 'ELP', 'EVV', 'EWN', 'FAY', 'FWA',\n",
       "       'GCC', 'GCK', 'GFK', 'GGG', 'GPT', 'GRB', 'GRI', 'GRK', 'GSO',\n",
       "       'GTR', 'GUC', 'GUM', 'HDN', 'HGR', 'HIB', 'HOB', 'HTS', 'HVN',\n",
       "       'HYS', 'IDA', 'IMT', 'JMS', 'JNU', 'KTN', 'LAN', 'LAR', 'LAW',\n",
       "       'LBB', 'LBE', 'LBF', 'LBL', 'LCH', 'LEX', 'LFT', 'LSE', 'LWB',\n",
       "       'LWS', 'LYH', 'MBS', 'MEM', 'MHK', 'MKG', 'MLB', 'MLU', 'MMH',\n",
       "       'MOT', 'MSN', 'MSO', 'MYR', 'OAJ', 'OGD', 'ORF', 'OTH', 'OWB',\n",
       "       'PAH', 'PGD', 'PGV', 'PHF', 'PIB', 'PIR', 'PRC', 'PSC', 'PSG',\n",
       "       'PSM', 'PUB', 'PVU', 'PWM', 'RDM', 'RFD', 'RHI', 'RKS', 'ROA',\n",
       "       'ROC', 'RSW', 'SCC', 'SCE', 'SCK', 'SGU', 'SHD', 'SIT', 'SJT',\n",
       "       'SLN', 'SMX', 'SPN', 'SPS', 'STC', 'STS', 'STX', 'SUN', 'SUX',\n",
       "       'SWF', 'SWO', 'SYR', 'TOL', 'TRI', 'TWF', 'TXK', 'TYR', 'UIN',\n",
       "       'VEL', 'VLD', 'WRG', 'YAK', 'YUM'], dtype=object)"
      ]
     },
     "execution_count": 40,
     "metadata": {},
     "output_type": "execute_result"
    }
   ],
   "source": [
    "unimportant = np.array(X_train_origin.columns[lasso.coef_==0])\n",
    "unimportant"
   ]
  },
  {
   "cell_type": "code",
   "execution_count": 41,
   "metadata": {
    "colab": {
     "base_uri": "https://localhost:8080/",
     "height": 416
    },
    "colab_type": "code",
    "executionInfo": {
     "elapsed": 466,
     "status": "ok",
     "timestamp": 1596654914373,
     "user": {
      "displayName": "Chris Gumb",
      "photoUrl": "https://lh3.googleusercontent.com/a-/AOh14GiJjageaKLnzdbQiZUMbCVyEGAEDK5Oc_a7G3XA3g=s64",
      "userId": "13489793638003795436"
     },
     "user_tz": 240
    },
    "id": "70yCS2ocC7xz",
    "outputId": "9ff037c7-f680-4a6c-d236-7c4417e2ef8d"
   },
   "outputs": [
    {
     "data": {
      "text/plain": [
       "array(['ABI', 'ABQ', 'ACV', 'ACY', 'ALB', 'AMA', 'ANC', 'APN', 'ASE',\n",
       "       'ATL', 'ATW', 'AUS', 'AVL', 'AZA', 'AZO', 'BDL', 'BGM', 'BGR',\n",
       "       'BHM', 'BIL', 'BIS', 'BLI', 'BLV', 'BNA', 'BOI', 'BOS', 'BQN',\n",
       "       'BRO', 'BTM', 'BTV', 'BUF', 'BUR', 'BWI', 'BZN', 'CAE', 'CAK',\n",
       "       'CDC', 'CHO', 'CHS', 'CID', 'CIU', 'CKB', 'CLE', 'CLL', 'CLT',\n",
       "       'CMH', 'CMI', 'CRP', 'CRW', 'CSG', 'CVG', 'CYS', 'DAB', 'DAL',\n",
       "       'DAY', 'DCA', 'DEN', 'DFW', 'DLH', 'DRT', 'DSM', 'DTW', 'ECP',\n",
       "       'EGE', 'ELM', 'ERI', 'ESC', 'EUG', 'EWR', 'EYW', 'FAI', 'FAR',\n",
       "       'FAT', 'FCA', 'FLG', 'FLL', 'FNT', 'FSD', 'FSM', 'GEG', 'GJT',\n",
       "       'GNV', 'GRR', 'GSP', 'GTF', 'HHH', 'HLN', 'HNL', 'HOU', 'HPN',\n",
       "       'HRL', 'HSV', 'IAD', 'IAG', 'IAH', 'ICT', 'ILM', 'IND', 'INL',\n",
       "       'ISP', 'ITH', 'ITO', 'JAC', 'JAN', 'JAX', 'JFK', 'JLN', 'KOA',\n",
       "       'LAS', 'LAX', 'LCK', 'LGA', 'LGB', 'LIH', 'LIT', 'LNK', 'LRD',\n",
       "       'MAF', 'MCI', 'MCO', 'MDT', 'MDW', 'MEI', 'MFE', 'MFR', 'MGM',\n",
       "       'MHT', 'MIA', 'MKE', 'MLI', 'MOB', 'MQT', 'MRY', 'MSP', 'MSY',\n",
       "       'MTJ', 'OAK', 'OGG', 'OGS', 'OKC', 'OMA', 'OME', 'ONT', 'ORD',\n",
       "       'ORH', 'OTZ', 'PAE', 'PBG', 'PBI', 'PDX', 'PHL', 'PHX', 'PIA',\n",
       "       'PIE', 'PIH', 'PIT', 'PLN', 'PNS', 'PPG', 'PSE', 'PSP', 'PVD',\n",
       "       'RAP', 'RDD', 'RDU', 'RIC', 'RIW', 'RNO', 'ROW', 'RST', 'SAF',\n",
       "       'SAN', 'SAT', 'SAV', 'SBA', 'SBN', 'SBP', 'SDF', 'SEA', 'SFB',\n",
       "       'SFO', 'SGF', 'SHR', 'SHV', 'SJC', 'SJU', 'SLC', 'SMF', 'SNA',\n",
       "       'SPI', 'SRQ', 'STL', 'STT', 'TLH', 'TPA', 'TTN', 'TUL', 'TUS',\n",
       "       'TVC', 'TYS', 'USA', 'VPS', 'XNA', 'XWA'], dtype=object)"
      ]
     },
     "execution_count": 41,
     "metadata": {},
     "output_type": "execute_result"
    }
   ],
   "source": [
    " np.array(X_train_origin.columns[lasso.coef_!=0])"
   ]
  },
  {
   "cell_type": "code",
   "execution_count": 42,
   "metadata": {
    "colab": {
     "base_uri": "https://localhost:8080/",
     "height": 301
    },
    "colab_type": "code",
    "executionInfo": {
     "elapsed": 595,
     "status": "ok",
     "timestamp": 1596655087378,
     "user": {
      "displayName": "Chris Gumb",
      "photoUrl": "https://lh3.googleusercontent.com/a-/AOh14GiJjageaKLnzdbQiZUMbCVyEGAEDK5Oc_a7G3XA3g=s64",
      "userId": "13489793638003795436"
     },
     "user_tz": 240
    },
    "id": "E1G3utN3B2Tn",
    "outputId": "60ce89c8-ee97-46e3-e53a-b7f0b6febd29"
   },
   "outputs": [
    {
     "data": {
      "image/png": "[encoded data removed]",
      "text/plain": [
       "<Figure size 432x288 with 1 Axes>"
      ]
     },
     "metadata": {},
     "output_type": "display_data"
    }
   ],
   "source": [
    "plt.hist(lasso.coef_[lasso.coef_!=0])\n",
    "plt.title('non-zero coefficients')\n",
    "plt.ylabel('count')\n",
    "plt.xlabel('coefficient value');"
   ]
  },
  {
   "cell_type": "code",
   "execution_count": 43,
   "metadata": {
    "colab": {
     "base_uri": "https://localhost:8080/",
     "height": 34
    },
    "colab_type": "code",
    "executionInfo": {
     "elapsed": 473,
     "status": "ok",
     "timestamp": 1596655138168,
     "user": {
      "displayName": "Chris Gumb",
      "photoUrl": "https://lh3.googleusercontent.com/a-/AOh14GiJjageaKLnzdbQiZUMbCVyEGAEDK5Oc_a7G3XA3g=s64",
      "userId": "13489793638003795436"
     },
     "user_tz": 240
    },
    "id": "mfch31JXyrzm",
    "outputId": "466a6f5d-7a7c-4b6d-8bb3-1572fe52003a"
   },
   "outputs": [
    {
     "name": "stdout",
     "output_type": "stream",
     "text": [
      "Boston's coefficient in Lasso model: -1.099934919162365\n"
     ]
    }
   ],
   "source": [
    "bos_lasso_coef = lasso.coef_[np.where(X_train_origin.columns == 'BOS')[0][0]]\n",
    "print('Boston\\'s coefficient in Lasso model:', bos_lasso_coef)"
   ]
  },
  {
   "cell_type": "markdown",
   "metadata": {
    "colab_type": "text",
    "id": "PKTG-qSQECxs"
   },
   "source": [
    "*your answer here*\n",
    "\n",
    "Boston is treated as having a slight negative affect on arrival delay ('negative' as in less delay). Though its magnitute is not extreme based on the histogram of all non-zero coefficients above, it is still deemed important since the coefficient is non-zero."
   ]
  },
  {
   "cell_type": "markdown",
   "metadata": {
    "colab_type": "text",
    "id": "wqKYwtwhA5Bh"
   },
   "source": [
    "<span style='color:red'>\n",
    "    \n",
    "**Rubric**\n",
    "\n",
    "**Q3.2 [5 points total]** \n",
    "    \n",
    "**Points**\n",
    "\n",
    "- [ -1 ] incorrect handling of categorical predictors (drop_first should be True!)\n",
    "- [ -1 ] doesn't use 2-fold CV\n",
    "- [ -1 ] somehow manages to choose a strange alpha value\n",
    "- [ -1 ] incorrected reported # of 'unimportant' airports (305 unimportant if they didn't drop_first :()\n",
    "- [ -1 ] incorrect description of model's treatment of Boston (Boston is 'unimportant' if they didn't drop_first))"
   ]
  },
  {
   "cell_type": "markdown",
   "metadata": {
    "colab_type": "text",
    "id": "0OhWgoaxtusC"
   },
   "source": [
    "**3.3** Compare the number of departing flights for origin airports considered to be unimportant to those that are important from the Lasso model.  In what way does this explain why these airports were deemed to be unimportant in the Lasso model?"
   ]
  },
  {
   "cell_type": "code",
   "execution_count": 44,
   "metadata": {
    "colab": {
     "base_uri": "https://localhost:8080/",
     "height": 34
    },
    "colab_type": "code",
    "executionInfo": {
     "elapsed": 686,
     "status": "ok",
     "timestamp": 1596483494149,
     "user": {
      "displayName": "Chris Gumb",
      "photoUrl": "https://lh3.googleusercontent.com/a-/AOh14GiJjageaKLnzdbQiZUMbCVyEGAEDK5Oc_a7G3XA3g=s64",
      "userId": "13489793638003795436"
     },
     "user_tz": 240
    },
    "id": "sr-Jisnm01BM",
    "outputId": "b02fb993-94b7-4724-f261-d506feab5e46"
   },
   "outputs": [
    {
     "data": {
      "text/plain": [
       "count     149.000000\n",
       "mean      469.563758\n",
       "std       863.370355\n",
       "min         2.000000\n",
       "25%       111.000000\n",
       "50%       176.000000\n",
       "75%       481.000000\n",
       "max      7533.000000\n",
       "dtype: float64"
      ]
     },
     "execution_count": 44,
     "metadata": {},
     "output_type": "execute_result"
    }
   ],
   "source": [
    "unimportant = np.append(False,(lasso.coef_==0))\n",
    "important = np.append(False,(lasso.coef_!=0))\n",
    "\n",
    "airport_departure_counts = np.unique(train['origin'], return_counts=True)\n",
    "\n",
    "pd.Series(airport_departure_counts[1][unimportant]).describe()"
   ]
  },
  {
   "cell_type": "code",
   "execution_count": 45,
   "metadata": {},
   "outputs": [
    {
     "data": {
      "text/plain": [
       "count      204.000000\n",
       "mean      5494.303922\n",
       "std       9862.159683\n",
       "min         14.000000\n",
       "25%        430.000000\n",
       "50%       1202.000000\n",
       "75%       4910.750000\n",
       "max      62410.000000\n",
       "dtype: float64"
      ]
     },
     "execution_count": 45,
     "metadata": {},
     "output_type": "execute_result"
    }
   ],
   "source": [
    "pd.Series(airport_departure_counts[1][important]).describe()"
   ]
  },
  {
   "cell_type": "markdown",
   "metadata": {
    "colab_type": "text",
    "id": "eFleILAxEkEp"
   },
   "source": [
    "*your answer here*\n",
    "\n",
    "The airports that were deemed important had many more flights than the airports deemed unimportant, on average.  Smaller airports that only had a few flights per day (250 flights in this dataset is roughly 2 flights per day) were often indistinguishable from baseline delay rate, and thus their coefficients were shrunk to zero more commonly. If there is not enough data for an airport, it is likely to be shrunk to zero."
   ]
  },
  {
   "cell_type": "markdown",
   "metadata": {
    "colab_type": "text",
    "id": "w68YqcsUEnj7"
   },
   "source": [
    "<span style='color:red'>\n",
    "    \n",
    "\n",
    "**Rubric**\n",
    "\n",
    "**Q3.3 [4 points total]** \n",
    "    \n",
    "**Points**\n",
    "\n",
    "- [ up to -2 ] if their comparison method is not well chosen (just count number of flights total, for example, in each group).  Need some comparision of distribution or summary statistics.\n",
    "- [ up to -2 ] poor response as to why this explains these airports being labeled unimportant (should reference the fact that there are far fewer flights for these unimportant airports)"
   ]
  },
  {
   "cell_type": "markdown",
   "metadata": {
    "colab_type": "text",
    "id": "AQBEKqpE4-D-"
   },
   "source": [
    "**3.4** Build a well-tuned random forest model (use 200 base trees and a max_depth of 15) to predict the amount of `arrival_delay` from `['month', 'day_of_month', 'day_of_week', 'carrier',  'origin_state','origin','dest',  'dest_state', 'scheduled_depart_time','depart_delay', 'scheduled_arrival_time', 'distance']`.  Note: feel free to use a subset of your training data set to train this model...just explain your approach.  Evaluate it's performance on the full train and test sets using $R^2$.\n"
   ]
  },
  {
   "cell_type": "code",
   "execution_count": 46,
   "metadata": {
    "colab": {},
    "colab_type": "code",
    "id": "ukkXDEBmtusC"
   },
   "outputs": [],
   "source": [
    "i_subset, _ = train_test_split(range(train.shape[0]), train_size=0.1,random_state=109,shuffle=True)\n",
    "X_train_subset = X_train.iloc[i_subset]\n",
    "y_train_subset = train['arrival_delay'].iloc[i_subset]"
   ]
  },
  {
   "cell_type": "code",
   "execution_count": 47,
   "metadata": {
    "colab": {},
    "colab_type": "code",
    "id": "ZzYDAnqt4zGa"
   },
   "outputs": [],
   "source": [
    "max_features = [2,4,6,8,10]\n",
    "cv_means = []\n",
    "cv_stdevs = []\n",
    "train_scores = []\n",
    "for mf in max_features:\n",
    "    rf = RandomForestRegressor(200,max_depth=15,max_features=mf).fit(X_train_subset, y_train_subset)\n",
    "    train_scores.append(rf.score(X_train_subset, y_train_subset))\n",
    "    cv_scores = cross_val_score(rf, X_train_subset, y_train_subset, cv=2)\n",
    "    cv_means.append(cv_scores.mean())\n",
    "    cv_stdevs.append(cv_scores.std())"
   ]
  },
  {
   "cell_type": "code",
   "execution_count": 48,
   "metadata": {
    "colab": {
     "base_uri": "https://localhost:8080/",
     "height": 104
    },
    "colab_type": "code",
    "executionInfo": {
     "elapsed": 354564,
     "status": "ok",
     "timestamp": 1596656689796,
     "user": {
      "displayName": "Chris Gumb",
      "photoUrl": "https://lh3.googleusercontent.com/a-/AOh14GiJjageaKLnzdbQiZUMbCVyEGAEDK5Oc_a7G3XA3g=s64",
      "userId": "13489793638003795436"
     },
     "user_tz": 240
    },
    "id": "yI4FtkLzIaD0",
    "outputId": "5a70e136-f482-4f79-fb0c-d93935a72b22"
   },
   "outputs": [
    {
     "data": {
      "text/plain": [
       "[0.910638872172057,\n",
       " 0.9424048903272794,\n",
       " 0.9469184656568249,\n",
       " 0.9477759061990765,\n",
       " 0.9479404297536229]"
      ]
     },
     "execution_count": 48,
     "metadata": {},
     "output_type": "execute_result"
    }
   ],
   "source": [
    "train_scores"
   ]
  },
  {
   "cell_type": "code",
   "execution_count": 49,
   "metadata": {
    "colab": {
     "base_uri": "https://localhost:8080/",
     "height": 285
    },
    "colab_type": "code",
    "executionInfo": {
     "elapsed": 602,
     "status": "ok",
     "timestamp": 1596656741775,
     "user": {
      "displayName": "Chris Gumb",
      "photoUrl": "https://lh3.googleusercontent.com/a-/AOh14GiJjageaKLnzdbQiZUMbCVyEGAEDK5Oc_a7G3XA3g=s64",
      "userId": "13489793638003795436"
     },
     "user_tz": 240
    },
    "id": "YqkgWQWVIAw9",
    "outputId": "578799ba-3e8b-46ba-9653-7941431972e6"
   },
   "outputs": [
    {
     "data": {
      "image/png": "[encoded data removed]",
      "text/plain": [
       "<Figure size 432x288 with 1 Axes>"
      ]
     },
     "metadata": {},
     "output_type": "display_data"
    }
   ],
   "source": [
    "# your code here \n",
    "cv_means = np.array(cv_means)\n",
    "cv_stdevs = np.array(cv_stdevs)\n",
    "\n",
    "# plot means and shade the 2 SD interval\n",
    "plt.plot(max_features, cv_means, '*-', label=\"Mean CV\")\n",
    "plt.fill_between(max_features, cv_means - 2*cv_stdevs, cv_means + 2*cv_stdevs, alpha=0.3)\n",
    "# ylim = plt.ylim()\n",
    "plt.plot(max_features, train_scores, '-+', label=\"Train\")\n",
    "# plt.ylim(ylim)\n",
    "plt.legend()\n",
    "plt.ylabel(r\"$R^2$\")\n",
    "plt.xlabel(\"Max Features\")\n",
    "plt.xticks(max_features);"
   ]
  },
  {
   "cell_type": "code",
   "execution_count": 50,
   "metadata": {
    "colab": {},
    "colab_type": "code",
    "id": "qGdCNQjjKN0u"
   },
   "outputs": [],
   "source": [
    "rf = RandomForestRegressor(200,max_depth=15,max_features=10).fit(X_train_subset, y_train_subset)"
   ]
  },
  {
   "cell_type": "code",
   "execution_count": 51,
   "metadata": {
    "colab": {
     "base_uri": "https://localhost:8080/",
     "height": 34
    },
    "colab_type": "code",
    "executionInfo": {
     "elapsed": 2431,
     "status": "ok",
     "timestamp": 1596657285217,
     "user": {
      "displayName": "Chris Gumb",
      "photoUrl": "https://lh3.googleusercontent.com/a-/AOh14GiJjageaKLnzdbQiZUMbCVyEGAEDK5Oc_a7G3XA3g=s64",
      "userId": "13489793638003795436"
     },
     "user_tz": 240
    },
    "id": "j_0C9CbKtusL",
    "outputId": "b743e001-0893-4900-ef51-d2a300ab5e09"
   },
   "outputs": [
    {
     "data": {
      "text/plain": [
       "0.9249193734486681"
      ]
     },
     "execution_count": 51,
     "metadata": {},
     "output_type": "execute_result"
    }
   ],
   "source": [
    "rf.score(X_train, train['arrival_delay'])"
   ]
  },
  {
   "cell_type": "code",
   "execution_count": 52,
   "metadata": {
    "colab": {
     "base_uri": "https://localhost:8080/",
     "height": 34
    },
    "colab_type": "code",
    "executionInfo": {
     "elapsed": 35023,
     "status": "ok",
     "timestamp": 1596657501110,
     "user": {
      "displayName": "Chris Gumb",
      "photoUrl": "https://lh3.googleusercontent.com/a-/AOh14GiJjageaKLnzdbQiZUMbCVyEGAEDK5Oc_a7G3XA3g=s64",
      "userId": "13489793638003795436"
     },
     "user_tz": 240
    },
    "id": "T6GIUIlm8v7S",
    "outputId": "abb968c5-1f63-4399-b511-6bdfa701e22b"
   },
   "outputs": [
    {
     "data": {
      "text/plain": [
       "0.920502370184661"
      ]
     },
     "execution_count": 52,
     "metadata": {},
     "output_type": "execute_result"
    }
   ],
   "source": [
    "rf.score(X_test, test['arrival_delay'])"
   ]
  },
  {
   "cell_type": "markdown",
   "metadata": {
    "colab_type": "text",
    "id": "QdTtCdkLFbrF"
   },
   "source": [
    "<span style='color:red'>\n",
    "    \n",
    "**Rubric**\n",
    "\n",
    "**Q3.4 [6 points total]** \n",
    "\n",
    "**Note**\n",
    "Some students may be evaluating in batches...that is 100% fine\n",
    "    \n",
    "**Points**\n",
    "\n",
    "- [ -2 ] does not tune max features\n",
    "- [ -1 ] doesn't use 200 trees /w depth 15\n",
    "- [ up to -2 ] if do not justify their approach to subsampling or they sample too few observations (1% or fewer).\n",
    "- [ -1 each ] missing train/test R^2 scores (these should be >= 0.89)"
   ]
  },
  {
   "cell_type": "markdown",
   "metadata": {
    "colab_type": "text",
    "id": "kHgXxsAo8vom"
   },
   "source": [
    "**3.5** A friend of yours suggests that airlines can \"make up time in the air\" if a flight departs late and is a long enough flight.  Investigate this claim visually and interpret what you see.\n",
    "\n",
    "Hint: Look at the relationship between the Y = predicted amount of arrival delay based on the X = amount of departure delay, for several well-chosen values of `distance`."
   ]
  },
  {
   "cell_type": "code",
   "execution_count": 53,
   "metadata": {
    "colab": {},
    "colab_type": "code",
    "id": "uGYl_0XoIuFy"
   },
   "outputs": [
    {
     "name": "stdout",
     "output_type": "stream",
     "text": [
      "Short b0 =  -6.083 Short b1 =  1.011903\n",
      "Med b0 =  -7.322 Medium b1 =  1.006201\n",
      "Long b0 =  -10.216 Long b1 =  1.000603\n"
     ]
    },
    {
     "data": {
      "image/png": "[encoded data removed]",
      "text/plain": [
       "<Figure size 432x288 with 1 Axes>"
      ]
     },
     "metadata": {},
     "output_type": "display_data"
    }
   ],
   "source": [
    "# your code here\n",
    "\n",
    "short_flights = train.loc[train['distance']<=500]\n",
    "med_flights = train.loc[(train['distance']>500) &(train['distance']<=2000)]\n",
    "long_flights = train.loc[train['distance']>2000]\n",
    "\n",
    "plt.boxplot([short_flights['arrival_delay']-short_flights['depart_delay'], \n",
    "             med_flights['arrival_delay']-med_flights['depart_delay'],\n",
    "             long_flights['arrival_delay']-long_flights['depart_delay']]);\n",
    "\n",
    "short_ols = LinearRegression( fit_intercept=True).fit(short_flights[['depart_delay']], short_flights['arrival_delay'])\n",
    "print(\"Short b0 = \",np.round(short_ols.intercept_,3),\"Short b1 = \",np.round(short_ols.coef_[0],6))\n",
    "\n",
    "med_ols = LinearRegression( fit_intercept=True).fit(med_flights[['depart_delay']], med_flights['arrival_delay'])\n",
    "print(\"Med b0 = \",np.round(med_ols.intercept_,3),\"Medium b1 = \",np.round(med_ols.coef_[0],6))\n",
    "\n",
    "long_ols = LinearRegression( fit_intercept=True).fit(long_flights[['depart_delay']], long_flights['arrival_delay'])\n",
    "print(\"Long b0 = \",np.round(long_ols.intercept_,3),\"Long b1 = \",np.round(long_ols.coef_[0],6))\n"
   ]
  },
  {
   "cell_type": "markdown",
   "metadata": {
    "colab_type": "text",
    "id": "SLaqEVRLKdvE"
   },
   "source": [
    "*your answer here*\n",
    "\n",
    "There is some evidence from the linear regression models above that airlines can make up time in the air, but every so slightly.  A longer flight will be able to make up a delayed departure based on these models: for a flight that takes off an hour late, the estimated arrival delay would be $-6.083+1.0119\\times60 = 54.6$ minutes for a short flight (less than 500 miles), $-7.322+1.0062*\\times60=53.1$ minutes for a medium length flight (500-2000 miles), and $-10.216+1.0006\\times 60 = 49.8$ minutes for a long flight (greater than 2000 miles).\n",
    "\n"
   ]
  },
  {
   "cell_type": "markdown",
   "metadata": {
    "colab_type": "text",
    "id": "Bus5yOEO8xJB"
   },
   "source": [
    "<span style='color:red'>\n",
    "    \n",
    "**Rubric**\n",
    "\n",
    "**Q3.5 [5 points total]** \n",
    "    \n",
    "**Points**\n",
    "\n",
    "- [ up to -2 ] does not choose a good display or approach: should explore various relationships for each distance investigated (range of distances)...using predictions from previous model is fine.\n",
    "- [ -1 ] illegible / confusing plot\n",
    "- [ up to -2 ] poor or lacking interpretation"
   ]
  },
  {
   "cell_type": "markdown",
   "metadata": {
    "colab_type": "text",
    "id": "0EHzGB20tusP"
   },
   "source": [
    "<div class='exercise'><b>Question 4 [20pts]: Predicting delays out of Boston </b></div>\n",
    "\n",
    "For this question, use the `bos_flights_train` and `bos_flights_test` data sets you created in question 1.\n",
    "\n",
    "**4.1** Build a boosted tree-based model to predict whether or not a Boston flight will be delayed from `['month', 'day_of_month', 'day_of_week', 'carrier',  'origin_state','origin','dest',  'dest_state', 'scheduled_depart_time',,'depart_delay', 'scheduled_arrival_time', 'distance']`. Justify your choices for the 3 parameters that could be tuned for this model (a visual or set of visuals can help for this).  Evaluate the accuracy of this model on the test set.\n",
    "\n",
    "**4.2** Build a fully-connected neural network (NN) model to predict the amount of `arrival_delay` from `['month', 'day_of_month', 'day_of_week', 'carrier',  'origin_state','origin','dest',  'dest_state', 'scheduled_depart_time', ,'depart_delay','scheduled_arrival_time', 'distance']` in Boston flights.  Briefly justify your choice for the network architecture. Evaluate the accuracy of this model on the test set.\n",
    "\n",
    "**4.3** You have a scheduled flight on United Arilines (UA) from Boston (BOS) to San Francisco (SFO) that is scheduled to depart at 2pm on Wednesday, November 26 (the day before Thanksgiving) and arrive at 5:15pm.  Use your models in the previous two parts to determine the (i) probability that the flight will be delayed on arrival and (ii) predicted amount of arrival delay given it takes off anywhere from 5 minutes early to 2 hours late.\n",
    "\n",
    "**4.4** The data set `bos_weather.csv` includes daily weather from this same time period .  Use this dataset and the boston flight data to investigate the effect of weather (precipitation, temperature, etc.) on flight delays at Logan Airport.  Would this extra data source improve the predictions from the models in 4.1 and 4.2?  Explain."
   ]
  },
  {
   "cell_type": "markdown",
   "metadata": {
    "colab_type": "text",
    "id": "HD9cuzd4JpPA"
   },
   "source": [
    "## Answers"
   ]
  },
  {
   "cell_type": "markdown",
   "metadata": {
    "colab_type": "text",
    "id": "93H4Rnn6JlKF"
   },
   "source": [
    "**4.1** Build a boosted tree-based model to predict whether or not a Boston flight will be delayed from `['month', 'day_of_month', 'day_of_week', 'carrier',  'origin_state','origin','dest',  'dest_state', 'scheduled_depart_time',,'depart_delay', 'scheduled_arrival_time', 'distance']`. Justify your choices for the 3 parameters that could be tuned for this model (a visual or set of visuals can help for this).  Evaluate the accuracy of this model on the test set."
   ]
  },
  {
   "cell_type": "code",
   "execution_count": 54,
   "metadata": {
    "colab": {
     "base_uri": "https://localhost:8080/",
     "height": 141
    },
    "colab_type": "code",
    "executionInfo": {
     "elapsed": 950,
     "status": "ok",
     "timestamp": 1596658938604,
     "user": {
      "displayName": "Chris Gumb",
      "photoUrl": "https://lh3.googleusercontent.com/a-/AOh14GiJjageaKLnzdbQiZUMbCVyEGAEDK5Oc_a7G3XA3g=s64",
      "userId": "13489793638003795436"
     },
     "user_tz": 240
    },
    "id": "1n1Uab1BtusS",
    "outputId": "ad3b7eb5-162f-4e7d-8d20-dfa3acaf9f6b"
   },
   "outputs": [
    {
     "name": "stderr",
     "output_type": "stream",
     "text": [
      "/Users/kevinrader/opt/anaconda3/lib/python3.7/site-packages/pandas/core/indexing.py:965: SettingWithCopyWarning: \n",
      "A value is trying to be set on a copy of a slice from a DataFrame.\n",
      "Try using .loc[row_indexer,col_indexer] = value instead\n",
      "\n",
      "See the caveats in the documentation: https://pandas.pydata.org/pandas-docs/stable/user_guide/indexing.html#returning-a-view-versus-a-copy\n",
      "  self.obj[item] = s\n"
     ]
    }
   ],
   "source": [
    "for df in [bos_flights_train, bos_flights_test]:\n",
    "    for col in df.columns:\n",
    "        if df[col].dtype == object:\n",
    "            df.loc[:, col] = df[col].astype('category').cat.codes"
   ]
  },
  {
   "cell_type": "code",
   "execution_count": 55,
   "metadata": {
    "colab": {
     "base_uri": "https://localhost:8080/",
     "height": 725
    },
    "colab_type": "code",
    "executionInfo": {
     "elapsed": 1326958,
     "status": "ok",
     "timestamp": 1596486925159,
     "user": {
      "displayName": "Chris Gumb",
      "photoUrl": "https://lh3.googleusercontent.com/a-/AOh14GiJjageaKLnzdbQiZUMbCVyEGAEDK5Oc_a7G3XA3g=s64",
      "userId": "13489793638003795436"
     },
     "user_tz": 240
    },
    "id": "Z47uiGEjtusZ",
    "outputId": "c2507716-93e9-422e-f9d9-e78562e27a56"
   },
   "outputs": [
    {
     "data": {
      "image/png": "[encoded data removed]",
      "text/plain": [
       "<Figure size 720x720 with 12 Axes>"
      ]
     },
     "metadata": {},
     "output_type": "display_data"
    }
   ],
   "source": [
    "cols = ['month', 'day_of_month', 'day_of_week', 'carrier',\n",
    "        'origin_state','origin','dest',  \n",
    "        'dest_state', 'scheduled_depart_time',\n",
    "        'depart_delay', 'scheduled_arrival_time', 'distance']\n",
    "train_scores_dict = {}\n",
    "test_scores_dict = {}\n",
    "depths = [2,3,4]\n",
    "lrs = [0.01, 0.03, 0.1, 0.3]\n",
    "fig, axs = plt.subplots(len(lrs), len(depths), sharey=True, figsize=(10,10))\n",
    "for i, lr in enumerate(lrs):\n",
    "    for j, d in enumerate(depths):\n",
    "        ada = AdaBoostClassifier(DecisionTreeClassifier(max_depth=d), n_estimators=500, learning_rate=lr)\n",
    "        ada.fit(bos_flights_train[cols],bos_flights_train['delayed']) \n",
    "        train_scores = list(ada.staged_score(bos_flights_train[cols], bos_flights_train['delayed']))\n",
    "        test_scores = list(ada.staged_score(bos_flights_test[cols], bos_flights_test['delayed']))\n",
    "        train_scores_dict[(d,lr)] = train_scores\n",
    "        test_scores_dict[(d,lr)] = test_scores\n",
    "        axs[i,j].plot(train_scores)\n",
    "        axs[i,j].plot(test_scores)\n",
    "        axs[i,j].set_title(f'depth = {d} lr = {lr}')\n",
    "plt.tight_layout();"
   ]
  },
  {
   "cell_type": "code",
   "execution_count": 57,
   "metadata": {
    "colab": {},
    "colab_type": "code",
    "id": "hRo_m4TRtusd",
    "outputId": "0a103681-b536-4470-a327-7ad370ab5d33"
   },
   "outputs": [
    {
     "name": "stdout",
     "output_type": "stream",
     "text": [
      "(2, 0.01) 0.9336112493777999\n",
      "(3, 0.01) 0.9340882694541232\n",
      "(4, 0.01) 0.9347104695536751\n",
      "(2, 0.03) 0.9345238095238095\n",
      "(3, 0.03) 0.9351460096233616\n",
      "(4, 0.03) 0.9358096897295504\n",
      "(2, 0.1) 0.9347519495603119\n",
      "(3, 0.1) 0.9355193296830927\n",
      "(4, 0.1) 0.9358511697361872\n",
      "(2, 0.3) 0.9353948896631823\n",
      "(3, 0.3) 0.9353534096565456\n",
      "(4, 0.3) 0.9358719097395055\n"
     ]
    }
   ],
   "source": [
    "for k, v in test_scores_dict.items():\n",
    "    print(k, max(v))"
   ]
  },
  {
   "cell_type": "code",
   "execution_count": 58,
   "metadata": {
    "colab": {
     "base_uri": "https://localhost:8080/",
     "height": 295
    },
    "colab_type": "code",
    "executionInfo": {
     "elapsed": 5036,
     "status": "ok",
     "timestamp": 1596658948534,
     "user": {
      "displayName": "Chris Gumb",
      "photoUrl": "https://lh3.googleusercontent.com/a-/AOh14GiJjageaKLnzdbQiZUMbCVyEGAEDK5Oc_a7G3XA3g=s64",
      "userId": "13489793638003795436"
     },
     "user_tz": 240
    },
    "id": "MukaiuPBRzZv",
    "outputId": "3675f224-01a1-4ad3-97cb-2aa6c0c75381"
   },
   "outputs": [
    {
     "data": {
      "text/plain": [
       "AdaBoostClassifier(algorithm='SAMME.R',\n",
       "                   base_estimator=DecisionTreeClassifier(ccp_alpha=0.0,\n",
       "                                                         class_weight=None,\n",
       "                                                         criterion='gini',\n",
       "                                                         max_depth=4,\n",
       "                                                         max_features=None,\n",
       "                                                         max_leaf_nodes=None,\n",
       "                                                         min_impurity_decrease=0.0,\n",
       "                                                         min_impurity_split=None,\n",
       "                                                         min_samples_leaf=1,\n",
       "                                                         min_samples_split=2,\n",
       "                                                         min_weight_fraction_leaf=0.0,\n",
       "                                                         presort='deprecated',\n",
       "                                                         random_state=None,\n",
       "                                                         splitter='best'),\n",
       "                   learning_rate=0.3, n_estimators=30, random_state=None)"
      ]
     },
     "execution_count": 58,
     "metadata": {},
     "output_type": "execute_result"
    }
   ],
   "source": [
    "ada = AdaBoostClassifier(DecisionTreeClassifier(max_depth=4), n_estimators=30, learning_rate=0.3)\n",
    "ada.fit(bos_flights_train[cols],bos_flights_train['delayed']) "
   ]
  },
  {
   "cell_type": "code",
   "execution_count": 59,
   "metadata": {
    "colab": {
     "base_uri": "https://localhost:8080/",
     "height": 34
    },
    "colab_type": "code",
    "executionInfo": {
     "elapsed": 685,
     "status": "ok",
     "timestamp": 1596659003740,
     "user": {
      "displayName": "Chris Gumb",
      "photoUrl": "https://lh3.googleusercontent.com/a-/AOh14GiJjageaKLnzdbQiZUMbCVyEGAEDK5Oc_a7G3XA3g=s64",
      "userId": "13489793638003795436"
     },
     "user_tz": 240
    },
    "id": "zzyu0-IRSVjj",
    "outputId": "4d32c081-507b-4f6c-d0dc-746eaae8ce0c"
   },
   "outputs": [
    {
     "name": "stdout",
     "output_type": "stream",
     "text": [
      "test accuracy: 0.9351667496266799\n"
     ]
    }
   ],
   "source": [
    "test_acc = ada.score(bos_flights_test[cols], bos_flights_test['delayed'])\n",
    "print('test accuracy:', test_acc)"
   ]
  },
  {
   "cell_type": "markdown",
   "metadata": {
    "colab_type": "text",
    "id": "1nolAClpQtJK"
   },
   "source": [
    "*your answer here*\n"
   ]
  },
  {
   "cell_type": "markdown",
   "metadata": {
    "colab_type": "text",
    "id": "4Z-jPHfRQnYE"
   },
   "source": [
    "<span style='color:red'>\n",
    "    \n",
    "**Rubric**\n",
    "\n",
    "**Q4.1 [6 points total]**\n",
    "\n",
    "**Points**\n",
    "- [ -1 ] for an incorrectly specified adaboost model (regression, for example)\n",
    "- [ -1 ] if they tuned using the test set\n",
    "- [ -1 ] if they did not report accuracy on the test set\n",
    "- [ up to -3 ] if they did not justify their choices for the 3 parameters well or did zero tuning (selecting and justfying a specified depth and learning rate, and tuning just the # estimators is good enough here)."
   ]
  },
  {
   "cell_type": "markdown",
   "metadata": {
    "colab_type": "text",
    "id": "QjtvxKUYJ2CG"
   },
   "source": [
    "**4.2** Build a fully-connected neural network (NN) model to predict the amount of `arrival_delay` from `['month', 'day_of_month', 'day_of_week', 'carrier',  'origin_state','origin','dest',  'dest_state', 'scheduled_depart_time', ,'depart_delay','scheduled_arrival_time', 'distance']` in Boston flights.  Briefly justify your choice for the network architecture. Evaluate the accuracy of this model on the test set."
   ]
  },
  {
   "cell_type": "code",
   "execution_count": 61,
   "metadata": {
    "colab": {
     "base_uri": "https://localhost:8080/",
     "height": 1000
    },
    "colab_type": "code",
    "executionInfo": {
     "elapsed": 1541741,
     "status": "ok",
     "timestamp": 1596661162945,
     "user": {
      "displayName": "Chris Gumb",
      "photoUrl": "https://lh3.googleusercontent.com/a-/AOh14GiJjageaKLnzdbQiZUMbCVyEGAEDK5Oc_a7G3XA3g=s64",
      "userId": "13489793638003795436"
     },
     "user_tz": 240
    },
    "id": "vbPmCMMfJ-QS",
    "outputId": "0bb31230-10a4-41ff-cbdf-4a6e370775e5"
   },
   "outputs": [
    {
     "name": "stdout",
     "output_type": "stream",
     "text": [
      "Epoch 1/100\n",
      "153/153 [==============================] - 0s 2ms/step - loss: 1076.4611 - val_loss: 307.6234\n",
      "Epoch 2/100\n",
      "153/153 [==============================] - 0s 2ms/step - loss: 310.5328 - val_loss: 290.3417\n",
      "Epoch 3/100\n",
      "153/153 [==============================] - 0s 2ms/step - loss: 290.9115 - val_loss: 266.8076\n",
      "Epoch 4/100\n",
      "153/153 [==============================] - 0s 2ms/step - loss: 281.1368 - val_loss: 274.2914\n",
      "Epoch 5/100\n",
      "153/153 [==============================] - 0s 2ms/step - loss: 284.9301 - val_loss: 271.2798\n",
      "Epoch 6/100\n",
      "153/153 [==============================] - 0s 2ms/step - loss: 279.9231 - val_loss: 265.1277\n",
      "Epoch 7/100\n",
      "153/153 [==============================] - 0s 2ms/step - loss: 275.1054 - val_loss: 266.5147\n",
      "Epoch 8/100\n",
      "153/153 [==============================] - 0s 2ms/step - loss: 273.5721 - val_loss: 288.4095\n",
      "Epoch 9/100\n",
      "153/153 [==============================] - 0s 2ms/step - loss: 275.0587 - val_loss: 258.2260\n",
      "Epoch 10/100\n",
      "153/153 [==============================] - 0s 2ms/step - loss: 269.7999 - val_loss: 262.4760\n",
      "Epoch 11/100\n",
      "153/153 [==============================] - 0s 2ms/step - loss: 272.9038 - val_loss: 265.1114\n",
      "Epoch 12/100\n",
      "153/153 [==============================] - 0s 2ms/step - loss: 265.4176 - val_loss: 259.2711\n",
      "Epoch 13/100\n",
      "153/153 [==============================] - 0s 2ms/step - loss: 270.3558 - val_loss: 262.2731\n",
      "Epoch 14/100\n",
      "153/153 [==============================] - 0s 2ms/step - loss: 267.4329 - val_loss: 260.0452\n",
      "Epoch 15/100\n",
      "153/153 [==============================] - 0s 2ms/step - loss: 266.8599 - val_loss: 289.1378\n",
      "Epoch 16/100\n",
      "153/153 [==============================] - 0s 2ms/step - loss: 266.8795 - val_loss: 264.1375\n",
      "Epoch 17/100\n",
      "153/153 [==============================] - 0s 2ms/step - loss: 270.6294 - val_loss: 271.4629\n",
      "Epoch 18/100\n",
      "153/153 [==============================] - 0s 2ms/step - loss: 270.5845 - val_loss: 268.7432\n",
      "Epoch 19/100\n",
      "153/153 [==============================] - 0s 2ms/step - loss: 268.7288 - val_loss: 267.6977\n",
      "Epoch 20/100\n",
      "153/153 [==============================] - 0s 2ms/step - loss: 264.7844 - val_loss: 263.5622\n",
      "Epoch 21/100\n",
      "153/153 [==============================] - 0s 2ms/step - loss: 272.9648 - val_loss: 257.9500\n",
      "Epoch 22/100\n",
      "153/153 [==============================] - 0s 2ms/step - loss: 263.1771 - val_loss: 254.3612\n",
      "Epoch 23/100\n",
      "153/153 [==============================] - 0s 2ms/step - loss: 262.6652 - val_loss: 257.0548\n",
      "Epoch 24/100\n",
      "153/153 [==============================] - 0s 2ms/step - loss: 265.1100 - val_loss: 256.3867\n",
      "Epoch 25/100\n",
      "153/153 [==============================] - 0s 2ms/step - loss: 266.0705 - val_loss: 256.4157\n",
      "Epoch 26/100\n",
      "153/153 [==============================] - 0s 2ms/step - loss: 268.3835 - val_loss: 274.0556\n",
      "Epoch 27/100\n",
      "153/153 [==============================] - 0s 2ms/step - loss: 260.8432 - val_loss: 254.6276\n",
      "Epoch 28/100\n",
      "153/153 [==============================] - 0s 2ms/step - loss: 261.3103 - val_loss: 254.8185\n",
      "Epoch 29/100\n",
      "153/153 [==============================] - 0s 2ms/step - loss: 266.3114 - val_loss: 283.8092\n",
      "Epoch 30/100\n",
      "153/153 [==============================] - 0s 2ms/step - loss: 269.5597 - val_loss: 283.4775\n",
      "Epoch 31/100\n",
      "153/153 [==============================] - 0s 2ms/step - loss: 265.7387 - val_loss: 256.5550\n",
      "Epoch 32/100\n",
      "153/153 [==============================] - 0s 2ms/step - loss: 261.5059 - val_loss: 280.4595\n",
      "Epoch 33/100\n",
      "153/153 [==============================] - 0s 2ms/step - loss: 264.6116 - val_loss: 270.4203\n",
      "Epoch 34/100\n",
      "153/153 [==============================] - 0s 2ms/step - loss: 263.5774 - val_loss: 259.6811\n",
      "Epoch 35/100\n",
      "153/153 [==============================] - 0s 2ms/step - loss: 260.8285 - val_loss: 253.8928\n",
      "Epoch 36/100\n",
      "153/153 [==============================] - 0s 2ms/step - loss: 259.7513 - val_loss: 257.7754\n",
      "Epoch 37/100\n",
      "153/153 [==============================] - 0s 2ms/step - loss: 260.9322 - val_loss: 261.3280\n",
      "Epoch 38/100\n",
      "153/153 [==============================] - 0s 2ms/step - loss: 261.2842 - val_loss: 250.7096\n",
      "Epoch 39/100\n",
      "153/153 [==============================] - 0s 2ms/step - loss: 259.4217 - val_loss: 261.6784\n",
      "Epoch 40/100\n",
      "153/153 [==============================] - 0s 2ms/step - loss: 262.9933 - val_loss: 267.2696\n",
      "Epoch 41/100\n",
      "153/153 [==============================] - 0s 2ms/step - loss: 260.4166 - val_loss: 258.6847\n",
      "Epoch 42/100\n",
      "153/153 [==============================] - 0s 2ms/step - loss: 257.8366 - val_loss: 256.6982\n",
      "Epoch 43/100\n",
      "153/153 [==============================] - 0s 2ms/step - loss: 261.3629 - val_loss: 252.6546\n",
      "Epoch 44/100\n",
      "153/153 [==============================] - 0s 2ms/step - loss: 257.8422 - val_loss: 252.4934\n",
      "Epoch 45/100\n",
      "153/153 [==============================] - 0s 2ms/step - loss: 258.6868 - val_loss: 250.8916\n",
      "Epoch 46/100\n",
      "153/153 [==============================] - 0s 2ms/step - loss: 258.8840 - val_loss: 254.9931\n",
      "Epoch 47/100\n",
      "153/153 [==============================] - 0s 2ms/step - loss: 258.5025 - val_loss: 260.3606\n",
      "Epoch 48/100\n",
      "153/153 [==============================] - 0s 2ms/step - loss: 260.0311 - val_loss: 252.8232\n",
      "Epoch 49/100\n",
      "153/153 [==============================] - 0s 2ms/step - loss: 257.7466 - val_loss: 261.8737\n",
      "Epoch 50/100\n",
      "153/153 [==============================] - 0s 2ms/step - loss: 259.1985 - val_loss: 250.8670\n",
      "Epoch 51/100\n",
      "153/153 [==============================] - 0s 2ms/step - loss: 260.5604 - val_loss: 251.1121\n",
      "Epoch 52/100\n",
      "153/153 [==============================] - 0s 2ms/step - loss: 259.5480 - val_loss: 255.2717\n",
      "Epoch 53/100\n",
      "153/153 [==============================] - 0s 2ms/step - loss: 259.1907 - val_loss: 253.5049\n",
      "Epoch 54/100\n",
      "153/153 [==============================] - 0s 2ms/step - loss: 262.6142 - val_loss: 279.6456\n",
      "Epoch 55/100\n",
      "153/153 [==============================] - 0s 2ms/step - loss: 258.8735 - val_loss: 250.8572\n",
      "Epoch 56/100\n",
      "153/153 [==============================] - 0s 2ms/step - loss: 258.6495 - val_loss: 253.9516\n",
      "Epoch 57/100\n",
      "153/153 [==============================] - 0s 2ms/step - loss: 257.8215 - val_loss: 253.9399\n",
      "Epoch 58/100\n",
      "153/153 [==============================] - 0s 2ms/step - loss: 261.1877 - val_loss: 252.5256\n",
      "Epoch 59/100\n",
      "153/153 [==============================] - 0s 2ms/step - loss: 256.5542 - val_loss: 251.4023\n",
      "Epoch 60/100\n",
      "153/153 [==============================] - 0s 2ms/step - loss: 259.0352 - val_loss: 249.8440\n",
      "Epoch 61/100\n",
      "153/153 [==============================] - 0s 2ms/step - loss: 254.9432 - val_loss: 256.8219\n",
      "Epoch 62/100\n",
      "153/153 [==============================] - 0s 2ms/step - loss: 258.3059 - val_loss: 257.5688\n",
      "Epoch 63/100\n",
      "153/153 [==============================] - 0s 2ms/step - loss: 256.2936 - val_loss: 268.8465\n",
      "Epoch 64/100\n",
      "153/153 [==============================] - 0s 2ms/step - loss: 256.4836 - val_loss: 255.9713\n",
      "Epoch 65/100\n",
      "153/153 [==============================] - 0s 2ms/step - loss: 257.8513 - val_loss: 253.2788\n",
      "Epoch 66/100\n",
      "153/153 [==============================] - 0s 2ms/step - loss: 255.4787 - val_loss: 265.8460\n",
      "Epoch 67/100\n",
      "153/153 [==============================] - 0s 2ms/step - loss: 255.3924 - val_loss: 251.5226\n",
      "Epoch 68/100\n",
      "153/153 [==============================] - 0s 2ms/step - loss: 254.1465 - val_loss: 251.2724\n",
      "Epoch 69/100\n",
      "153/153 [==============================] - 0s 2ms/step - loss: 254.0587 - val_loss: 252.1690\n",
      "Epoch 70/100\n",
      "153/153 [==============================] - 0s 2ms/step - loss: 258.2259 - val_loss: 252.0366\n",
      "Epoch 71/100\n",
      "153/153 [==============================] - 0s 2ms/step - loss: 259.3403 - val_loss: 250.6590\n",
      "Epoch 72/100\n",
      "153/153 [==============================] - 0s 2ms/step - loss: 254.6440 - val_loss: 251.8087\n",
      "Epoch 73/100\n",
      "153/153 [==============================] - 0s 2ms/step - loss: 255.5000 - val_loss: 257.6533\n",
      "Epoch 74/100\n",
      "153/153 [==============================] - 0s 2ms/step - loss: 253.6135 - val_loss: 256.5636\n",
      "Epoch 75/100\n",
      "153/153 [==============================] - 0s 2ms/step - loss: 254.2704 - val_loss: 254.7790\n",
      "Epoch 76/100\n",
      "153/153 [==============================] - 0s 2ms/step - loss: 254.9522 - val_loss: 256.0721\n",
      "Epoch 77/100\n",
      "153/153 [==============================] - 0s 2ms/step - loss: 252.4891 - val_loss: 251.5661\n",
      "Epoch 78/100\n",
      "153/153 [==============================] - 0s 2ms/step - loss: 252.6401 - val_loss: 252.3804\n",
      "Epoch 79/100\n",
      "153/153 [==============================] - 0s 2ms/step - loss: 252.5917 - val_loss: 261.4789\n",
      "Epoch 80/100\n",
      "153/153 [==============================] - 0s 2ms/step - loss: 251.2747 - val_loss: 252.2495\n",
      "Epoch 81/100\n",
      "153/153 [==============================] - 0s 2ms/step - loss: 252.5065 - val_loss: 249.8201\n",
      "Epoch 82/100\n",
      "153/153 [==============================] - 0s 2ms/step - loss: 252.3963 - val_loss: 260.6126\n",
      "Epoch 83/100\n",
      "153/153 [==============================] - 0s 2ms/step - loss: 253.4077 - val_loss: 247.7669\n",
      "Epoch 84/100\n",
      "153/153 [==============================] - 0s 2ms/step - loss: 252.6323 - val_loss: 252.1935\n",
      "Epoch 85/100\n",
      "153/153 [==============================] - 0s 2ms/step - loss: 252.3878 - val_loss: 267.1927\n",
      "Epoch 86/100\n",
      "153/153 [==============================] - 0s 2ms/step - loss: 253.9244 - val_loss: 246.4933\n",
      "Epoch 87/100\n",
      "153/153 [==============================] - 0s 2ms/step - loss: 253.4027 - val_loss: 249.9122\n",
      "Epoch 88/100\n",
      "153/153 [==============================] - 0s 2ms/step - loss: 252.3920 - val_loss: 247.3834\n",
      "Epoch 89/100\n",
      "153/153 [==============================] - 0s 2ms/step - loss: 252.7384 - val_loss: 262.8872\n",
      "Epoch 90/100\n",
      "153/153 [==============================] - 0s 2ms/step - loss: 252.8790 - val_loss: 251.1794\n",
      "Epoch 91/100\n",
      "153/153 [==============================] - 0s 2ms/step - loss: 250.2832 - val_loss: 245.5448\n",
      "Epoch 92/100\n",
      "153/153 [==============================] - 0s 2ms/step - loss: 250.3909 - val_loss: 247.3254\n",
      "Epoch 93/100\n",
      "153/153 [==============================] - 0s 2ms/step - loss: 248.1031 - val_loss: 252.7777\n",
      "Epoch 94/100\n",
      "153/153 [==============================] - 0s 2ms/step - loss: 251.5349 - val_loss: 246.6988\n",
      "Epoch 95/100\n",
      "153/153 [==============================] - 0s 2ms/step - loss: 249.6429 - val_loss: 248.4640\n",
      "Epoch 96/100\n",
      "153/153 [==============================] - 0s 2ms/step - loss: 250.4954 - val_loss: 252.8779\n",
      "Epoch 97/100\n",
      "153/153 [==============================] - 0s 2ms/step - loss: 249.0692 - val_loss: 250.6898\n",
      "Epoch 98/100\n",
      "153/153 [==============================] - 0s 2ms/step - loss: 249.4196 - val_loss: 250.7063\n",
      "Epoch 99/100\n",
      "153/153 [==============================] - 0s 2ms/step - loss: 249.5323 - val_loss: 247.6489\n",
      "Epoch 100/100\n",
      "153/153 [==============================] - 0s 2ms/step - loss: 248.7169 - val_loss: 244.9902\n"
     ]
    }
   ],
   "source": [
    "######\n",
    "# your code here\n",
    "######\n",
    "# your code here\n",
    "nn_cols = ['month', 'day_of_month',\n",
    "           'day_of_week', 'carrier', 'origin_state','origin','dest',\n",
    "           'dest_state', 'scheduled_depart_time', 'depart_delay',\n",
    "           'scheduled_arrival_time', 'distance']\n",
    "\n",
    "# Build the model \n",
    "model_NN = tf.keras.Sequential([\n",
    "    tf.keras.layers.Dense(100, input_shape = (len(nn_cols),), activation = 'relu'),\n",
    "    tf.keras.layers.Dense(100, activation = 'relu'),\n",
    "    tf.keras.layers.Dense(50, activation = 'relu'),\n",
    "    tf.keras.layers.Dense(50, activation = 'relu'),    \n",
    "    tf.keras.layers.Dense(25, activation = 'relu'),\n",
    "    tf.keras.layers.Dense(25, activation = 'relu'),\n",
    "    tf.keras.layers.Dense(1, activation = 'linear')\n",
    "])\n",
    "\n",
    "# Configure the model for training\n",
    "model_NN.compile(loss = 'mse', optimizer = 'adam')\n",
    "\n",
    "# Train the model on the X_train_nn data for 100 epochs\n",
    "history = model_NN.fit(bos_flights_train[nn_cols], bos_flights_train['arrival_delay'], epochs=100, batch_size=256, validation_split = 0.2, verbose=1)\n",
    "\n",
    "\n",
    "\n"
   ]
  },
  {
   "cell_type": "code",
   "execution_count": 96,
   "metadata": {},
   "outputs": [
    {
     "data": {
      "text/html": [
       "<div>\n",
       "<style scoped>\n",
       "    .dataframe tbody tr th:only-of-type {\n",
       "        vertical-align: middle;\n",
       "    }\n",
       "\n",
       "    .dataframe tbody tr th {\n",
       "        vertical-align: top;\n",
       "    }\n",
       "\n",
       "    .dataframe thead th {\n",
       "        text-align: right;\n",
       "    }\n",
       "</style>\n",
       "<table border=\"1\" class=\"dataframe\">\n",
       "  <thead>\n",
       "    <tr style=\"text-align: right;\">\n",
       "      <th></th>\n",
       "      <th>month</th>\n",
       "      <th>day_of_month</th>\n",
       "      <th>day_of_week</th>\n",
       "      <th>carrier</th>\n",
       "      <th>origin_state</th>\n",
       "      <th>origin</th>\n",
       "      <th>dest</th>\n",
       "      <th>dest_state</th>\n",
       "      <th>scheduled_depart_time</th>\n",
       "      <th>depart_delay</th>\n",
       "      <th>scheduled_arrival_time</th>\n",
       "      <th>distance</th>\n",
       "    </tr>\n",
       "  </thead>\n",
       "  <tbody>\n",
       "    <tr>\n",
       "      <th>397537</th>\n",
       "      <td>12</td>\n",
       "      <td>16</td>\n",
       "      <td>1</td>\n",
       "      <td>WN</td>\n",
       "      <td>25</td>\n",
       "      <td>BOS</td>\n",
       "      <td>BWI</td>\n",
       "      <td>24</td>\n",
       "      <td>1085</td>\n",
       "      <td>-4.0</td>\n",
       "      <td>1195</td>\n",
       "      <td>369</td>\n",
       "    </tr>\n",
       "    <tr>\n",
       "      <th>336217</th>\n",
       "      <td>1</td>\n",
       "      <td>27</td>\n",
       "      <td>1</td>\n",
       "      <td>B6</td>\n",
       "      <td>25</td>\n",
       "      <td>BOS</td>\n",
       "      <td>MSY</td>\n",
       "      <td>22</td>\n",
       "      <td>960</td>\n",
       "      <td>-1.0</td>\n",
       "      <td>1139</td>\n",
       "      <td>1368</td>\n",
       "    </tr>\n",
       "    <tr>\n",
       "      <th>165855</th>\n",
       "      <td>12</td>\n",
       "      <td>2</td>\n",
       "      <td>1</td>\n",
       "      <td>AA</td>\n",
       "      <td>25</td>\n",
       "      <td>BOS</td>\n",
       "      <td>MIA</td>\n",
       "      <td>12</td>\n",
       "      <td>339</td>\n",
       "      <td>135.0</td>\n",
       "      <td>557</td>\n",
       "      <td>1258</td>\n",
       "    </tr>\n",
       "    <tr>\n",
       "      <th>280154</th>\n",
       "      <td>1</td>\n",
       "      <td>19</td>\n",
       "      <td>7</td>\n",
       "      <td>YX</td>\n",
       "      <td>39</td>\n",
       "      <td>CMH</td>\n",
       "      <td>BOS</td>\n",
       "      <td>25</td>\n",
       "      <td>480</td>\n",
       "      <td>-6.0</td>\n",
       "      <td>611</td>\n",
       "      <td>640</td>\n",
       "    </tr>\n",
       "    <tr>\n",
       "      <th>191819</th>\n",
       "      <td>12</td>\n",
       "      <td>1</td>\n",
       "      <td>7</td>\n",
       "      <td>DL</td>\n",
       "      <td>6</td>\n",
       "      <td>LAX</td>\n",
       "      <td>BOS</td>\n",
       "      <td>25</td>\n",
       "      <td>495</td>\n",
       "      <td>-2.0</td>\n",
       "      <td>1012</td>\n",
       "      <td>2611</td>\n",
       "    </tr>\n",
       "  </tbody>\n",
       "</table>\n",
       "</div>"
      ],
      "text/plain": [
       "        month  day_of_month  day_of_week carrier  origin_state origin dest  dest_state  scheduled_depart_time  depart_delay  scheduled_arrival_time  distance\n",
       "397537     12            16            1      WN            25    BOS  BWI          24                   1085          -4.0                    1195       369\n",
       "336217      1            27            1      B6            25    BOS  MSY          22                    960          -1.0                    1139      1368\n",
       "165855     12             2            1      AA            25    BOS  MIA          12                    339         135.0                     557      1258\n",
       "280154      1            19            7      YX            39    CMH  BOS          25                    480          -6.0                     611       640\n",
       "191819     12             1            7      DL             6    LAX  BOS          25                    495          -2.0                    1012      2611"
      ]
     },
     "execution_count": 96,
     "metadata": {},
     "output_type": "execute_result"
    }
   ],
   "source": [
    "bos_flights_train[nn_cols].head()"
   ]
  },
  {
   "cell_type": "code",
   "execution_count": 63,
   "metadata": {
    "colab": {
     "base_uri": "https://localhost:8080/",
     "height": 69
    },
    "colab_type": "code",
    "executionInfo": {
     "elapsed": 41195,
     "status": "ok",
     "timestamp": 1596673080460,
     "user": {
      "displayName": "Chris Gumb",
      "photoUrl": "https://lh3.googleusercontent.com/a-/AOh14GiJjageaKLnzdbQiZUMbCVyEGAEDK5Oc_a7G3XA3g=s64",
      "userId": "13489793638003795436"
     },
     "user_tz": 240
    },
    "id": "BblRMUJkVzXL",
    "outputId": "4e8709f4-7247-44d0-f98f-1159972ecafb"
   },
   "outputs": [
    {
     "name": "stdout",
     "output_type": "stream",
     "text": [
      "R-squared scores of the neural network model:\n",
      "\tTrain R-squared score= 0.9101151077462727\n",
      "\tTest R-squared score = 0.9107314261052097\n"
     ]
    }
   ],
   "source": [
    "yhat_train_nn = model_NN.predict(bos_flights_train[nn_cols])\n",
    "yhat_test_nn = model_NN.predict(bos_flights_test[nn_cols])\n",
    "\n",
    "ANN_train_score = sk.metrics.r2_score(bos_flights_train['arrival_delay'], yhat_train_nn)\n",
    "ANN_test_score = sk.metrics.r2_score(bos_flights_test['arrival_delay'], yhat_test_nn)\n",
    "\n",
    "# Print the scores\n",
    "print(\"R-squared scores of the neural network model:\")\n",
    "print(\"\\tTrain R-squared score= {}\".format(ANN_train_score))\n",
    "print(\"\\tTest R-squared score = {}\".format(ANN_test_score))"
   ]
  },
  {
   "cell_type": "markdown",
   "metadata": {
    "colab_type": "text",
    "id": "BWEwYBpAJ-oe"
   },
   "source": [
    "<ins>**Solution:**</ins>\n",
    "\n",
    "There are 3 necessities to building this network:\n",
    "1. the output layer must have a linear activation\n",
    "2. the loss function should be MSE\n",
    "3. the evaluation of accuracy should be $R^2$, which is easy to calculate based on MSE.\n",
    "\n",
    "Optional values: the above Keras model uses 6 hidden layers and relu activations in each layer.  Relu was chosen because it is a very discrete activation, and allows for very flexible signal approximations.  "
   ]
  },
  {
   "cell_type": "markdown",
   "metadata": {
    "colab_type": "text",
    "id": "r6pbZoF6QySH"
   },
   "source": [
    "<span style='color:red'>\n",
    "\n",
    "**Rubric**\n",
    "\n",
    "**Q4.2 [6 points total]**\n",
    "\n",
    "**Points**\n",
    "- [ -1 ] if they did not use MSE (or justify using MAE) as loss function.\n",
    "- [ -1 ] if they did not use linear activation in output layer.\n",
    "- [ -1 ] if they did not evaluate accuracy with $R^2$.\n",
    "- [ -1 ] if their model is way too complex or way too simple\n",
    "- [ up to -2 ] if they did not explain their model architecture well."
   ]
  },
  {
   "cell_type": "markdown",
   "metadata": {
    "colab_type": "text",
    "id": "bS8PN0FCQ7F_"
   },
   "source": [
    "**4.3** You have a scheduled flight on United Arilines (UA) from Boston (BOS) to San Francisco (SFO) that is scheduled to depart at 2pm on Wednesday, November 26 (the day before Thanksgiving) and arrive at 5:15pm.  Use your models in the previous two parts to determine the (i) probability that the flight will be delayed on arrival and (ii) predicted amount of arrival delay given it takes off anywhere from 5 minutes early to 2 hours late."
   ]
  },
  {
   "cell_type": "code",
   "execution_count": 85,
   "metadata": {
    "colab": {},
    "colab_type": "code",
    "id": "d8zI-LWSQ9J_"
   },
   "outputs": [
    {
     "name": "stdout",
     "output_type": "stream",
     "text": [
      "Distance from BOS to SFO: 2704\n",
      "The four carriers to choose from: (array(['AS', 'B6', 'DL', 'UA'], dtype=object), array([ 88, 294,  49, 334]))\n",
      "Dimension of predictor X: (126, 12)\n"
     ]
    },
    {
     "data": {
      "image/png": "[encoded data removed]",
      "text/plain": [
       "<Figure size 1080x432 with 2 Axes>"
      ]
     },
     "metadata": {},
     "output_type": "display_data"
    }
   ],
   "source": [
    "###### # your code here\n",
    "######\n",
    "\n",
    "carriers = np.unique(train[['carrier']][(train['origin']==\"BOS\")&(train['dest']==\"SFO\")],return_counts=True)\n",
    "dist = np.unique(train[['distance']][(train['origin']==\"BOS\")&(train['dest']==\"SFO\")],return_counts=True)[0][0]\n",
    "print(\"Distance from BOS to SFO:\", dist)\n",
    "print(\"The four carriers to choose from:\", carriers)\n",
    "\n",
    "\n",
    "delay_times = np.arange(-5,121)\n",
    "x = pd.Series([11,26,3,11,25,3,55,6,840,0,1035,dist])\n",
    "x.index = ['month', 'day_of_month','day_of_week', 'carrier', 'origin_state','origin','dest','dest_state', 'scheduled_depart_time', 'depart_delay','scheduled_arrival_time', 'distance']\n",
    "\n",
    "\n",
    "X_BOS_SFO = pd.DataFrame([np.transpose(x)]*delay_times.size)\n",
    "X_BOS_SFO['depart_delay'] = delay_times\n",
    "print(\"Dimension of predictor X:\", X_BOS_SFO.shape)\n",
    "X_BOS_SFO.head()\n",
    "\n",
    "\n",
    "# predicted probability from the adaBoost model\n",
    "fig, (ax1, ax2) = plt.subplots(1, 2, figsize=(15,6))\n",
    "fig.suptitle('Predictions: probabiltiies based on adaboost(left) and amount time delay from NN (right)')\n",
    "\n",
    "\n",
    "yhat_BOS_SFO_ada =ada.predict_proba(np.asarray(X_BOS_SFO))[:,1]\n",
    "ax1.plot(delay_times,yhat_BOS_SFO_ada);\n",
    "ax1.set_ylim((0,1))\n",
    "ax1.set(xlabel='Departure Delay Time (Minutes)', ylabel='Predicted Probability of Delay')\n",
    "# predicted delay time from the NN model:\n",
    "\n",
    "yhat_BOS_SFO_NN = model_NN.predict(np.asarray(X_BOS_SFO))\n",
    "ax2.plot(delay_times,yhat_BOS_SFO_NN)\n",
    "ax2.set(xlabel='Departure Delay Time (Minutes)', ylabel='Predicted Amount of Delay (Minutes)')\n",
    "\n",
    "plt.show();"
   ]
  },
  {
   "cell_type": "markdown",
   "metadata": {
    "colab_type": "text",
    "id": "-ANkH9fyQ-n0"
   },
   "source": [
    "<span style='color:red'>\n",
    "\n",
    "**Rubric**\n",
    "\n",
    "**Q4.3 [4 points total]**\n",
    "\n",
    "**Points**\n",
    "- [ -1 ] if they did not predict at each value of -5, -4, ..., 119, 120.\n",
    "- [ -1 ] if they did not use the boost model (4.1) for probabilities or NN model for amount of delay (4.2)\n",
    "- [ -1 ] if they calculated predicted probabiilties incorrectly (did pure classifications, for example).\n",
    "- [ -1 ] if they calculated predicted times incorrectly."
   ]
  },
  {
   "cell_type": "markdown",
   "metadata": {
    "colab_type": "text",
    "id": "ESiKNyWRRPkD"
   },
   "source": [
    "**4.4** The data set `bos_weather.csv` includes daily weather from this same time period .  Use this dataset and the boston flight data to investigate the effect of weather (precipitation, temperature, etc.) on flight delays at Logan Airport.  Would this extra data source improve the predictions from the models in 4.1 and 4.2?  Explain."
   ]
  },
  {
   "cell_type": "code",
   "execution_count": 90,
   "metadata": {
    "colab": {},
    "colab_type": "code",
    "id": "PgODAAo2RSXg"
   },
   "outputs": [
    {
     "name": "stdout",
     "output_type": "stream",
     "text": [
      "(121, 8)\n"
     ]
    },
    {
     "data": {
      "text/html": [
       "<div>\n",
       "<style scoped>\n",
       "    .dataframe tbody tr th:only-of-type {\n",
       "        vertical-align: middle;\n",
       "    }\n",
       "\n",
       "    .dataframe tbody tr th {\n",
       "        vertical-align: top;\n",
       "    }\n",
       "\n",
       "    .dataframe thead th {\n",
       "        text-align: right;\n",
       "    }\n",
       "</style>\n",
       "<table border=\"1\" class=\"dataframe\">\n",
       "  <thead>\n",
       "    <tr style=\"text-align: right;\">\n",
       "      <th></th>\n",
       "      <th>year</th>\n",
       "      <th>month</th>\n",
       "      <th>day</th>\n",
       "      <th>meantemp</th>\n",
       "      <th>meanhumid</th>\n",
       "      <th>meanwind</th>\n",
       "      <th>meanpress</th>\n",
       "      <th>precip</th>\n",
       "    </tr>\n",
       "  </thead>\n",
       "  <tbody>\n",
       "    <tr>\n",
       "      <th>0</th>\n",
       "      <td>2019</td>\n",
       "      <td>11</td>\n",
       "      <td>1</td>\n",
       "      <td>57.2</td>\n",
       "      <td>49.3</td>\n",
       "      <td>21.6</td>\n",
       "      <td>29.8</td>\n",
       "      <td>0.07</td>\n",
       "    </tr>\n",
       "    <tr>\n",
       "      <th>1</th>\n",
       "      <td>2019</td>\n",
       "      <td>11</td>\n",
       "      <td>2</td>\n",
       "      <td>45.7</td>\n",
       "      <td>52.0</td>\n",
       "      <td>6.9</td>\n",
       "      <td>30.1</td>\n",
       "      <td>0.00</td>\n",
       "    </tr>\n",
       "    <tr>\n",
       "      <th>2</th>\n",
       "      <td>2019</td>\n",
       "      <td>11</td>\n",
       "      <td>3</td>\n",
       "      <td>48.9</td>\n",
       "      <td>45.4</td>\n",
       "      <td>10.0</td>\n",
       "      <td>30.0</td>\n",
       "      <td>0.00</td>\n",
       "    </tr>\n",
       "    <tr>\n",
       "      <th>3</th>\n",
       "      <td>2019</td>\n",
       "      <td>11</td>\n",
       "      <td>4</td>\n",
       "      <td>48.2</td>\n",
       "      <td>46.7</td>\n",
       "      <td>8.6</td>\n",
       "      <td>30.3</td>\n",
       "      <td>0.00</td>\n",
       "    </tr>\n",
       "    <tr>\n",
       "      <th>4</th>\n",
       "      <td>2019</td>\n",
       "      <td>11</td>\n",
       "      <td>5</td>\n",
       "      <td>54.7</td>\n",
       "      <td>80.7</td>\n",
       "      <td>7.2</td>\n",
       "      <td>30.1</td>\n",
       "      <td>0.00</td>\n",
       "    </tr>\n",
       "  </tbody>\n",
       "</table>\n",
       "</div>"
      ],
      "text/plain": [
       "   year  month  day  meantemp  meanhumid  meanwind  meanpress  precip\n",
       "0  2019     11    1      57.2       49.3      21.6       29.8    0.07\n",
       "1  2019     11    2      45.7       52.0       6.9       30.1    0.00\n",
       "2  2019     11    3      48.9       45.4      10.0       30.0    0.00\n",
       "3  2019     11    4      48.2       46.7       8.6       30.3    0.00\n",
       "4  2019     11    5      54.7       80.7       7.2       30.1    0.00"
      ]
     },
     "execution_count": 90,
     "metadata": {},
     "output_type": "execute_result"
    }
   ],
   "source": [
    "# your code here\n",
    "\n",
    "bos_weather = pd.read_csv('data/bosweather.csv')\n",
    "print(bos_weather.shape)\n",
    "bos_weather.head()"
   ]
  },
  {
   "cell_type": "code",
   "execution_count": 92,
   "metadata": {},
   "outputs": [
    {
     "data": {
      "text/html": [
       "<div>\n",
       "<style scoped>\n",
       "    .dataframe tbody tr th:only-of-type {\n",
       "        vertical-align: middle;\n",
       "    }\n",
       "\n",
       "    .dataframe tbody tr th {\n",
       "        vertical-align: top;\n",
       "    }\n",
       "\n",
       "    .dataframe thead th {\n",
       "        text-align: right;\n",
       "    }\n",
       "</style>\n",
       "<table border=\"1\" class=\"dataframe\">\n",
       "  <thead>\n",
       "    <tr style=\"text-align: right;\">\n",
       "      <th></th>\n",
       "      <th>year</th>\n",
       "      <th>month</th>\n",
       "      <th>day_of_month</th>\n",
       "      <th>day_of_week</th>\n",
       "      <th>carrier</th>\n",
       "      <th>tail_number</th>\n",
       "      <th>origin</th>\n",
       "      <th>origin_state</th>\n",
       "      <th>dest</th>\n",
       "      <th>dest_state</th>\n",
       "      <th>scheduled_depart_time</th>\n",
       "      <th>actual_depart_time</th>\n",
       "      <th>depart_delay</th>\n",
       "      <th>taxi_out</th>\n",
       "      <th>taxi_in</th>\n",
       "      <th>scheduled_arrival_time</th>\n",
       "      <th>actual_arrival_time</th>\n",
       "      <th>arrival_delay</th>\n",
       "      <th>cancelled</th>\n",
       "      <th>diverted</th>\n",
       "      <th>elapsed_time</th>\n",
       "      <th>air_time</th>\n",
       "      <th>distance</th>\n",
       "      <th>carrier_delay</th>\n",
       "      <th>weather_delay</th>\n",
       "      <th>nas_delay</th>\n",
       "      <th>security_delay</th>\n",
       "      <th>late_aircraft_delay</th>\n",
       "      <th>delayed</th>\n",
       "    </tr>\n",
       "  </thead>\n",
       "  <tbody>\n",
       "    <tr>\n",
       "      <th>397537</th>\n",
       "      <td>2019</td>\n",
       "      <td>12</td>\n",
       "      <td>16</td>\n",
       "      <td>1</td>\n",
       "      <td>12</td>\n",
       "      <td>2818</td>\n",
       "      <td>3</td>\n",
       "      <td>25</td>\n",
       "      <td>6</td>\n",
       "      <td>24</td>\n",
       "      <td>1085</td>\n",
       "      <td>1081.0</td>\n",
       "      <td>-4.0</td>\n",
       "      <td>22.0</td>\n",
       "      <td>4.0</td>\n",
       "      <td>1195</td>\n",
       "      <td>1178.0</td>\n",
       "      <td>-17.0</td>\n",
       "      <td>0</td>\n",
       "      <td>0</td>\n",
       "      <td>97.0</td>\n",
       "      <td>71.0</td>\n",
       "      <td>369</td>\n",
       "      <td>0</td>\n",
       "      <td>0</td>\n",
       "      <td>0</td>\n",
       "      <td>0</td>\n",
       "      <td>0</td>\n",
       "      <td>0</td>\n",
       "    </tr>\n",
       "    <tr>\n",
       "      <th>336217</th>\n",
       "      <td>2020</td>\n",
       "      <td>1</td>\n",
       "      <td>27</td>\n",
       "      <td>1</td>\n",
       "      <td>3</td>\n",
       "      <td>1660</td>\n",
       "      <td>3</td>\n",
       "      <td>25</td>\n",
       "      <td>38</td>\n",
       "      <td>22</td>\n",
       "      <td>960</td>\n",
       "      <td>959.0</td>\n",
       "      <td>-1.0</td>\n",
       "      <td>23.0</td>\n",
       "      <td>5.0</td>\n",
       "      <td>1139</td>\n",
       "      <td>1120.0</td>\n",
       "      <td>-19.0</td>\n",
       "      <td>0</td>\n",
       "      <td>0</td>\n",
       "      <td>221.0</td>\n",
       "      <td>193.0</td>\n",
       "      <td>1368</td>\n",
       "      <td>0</td>\n",
       "      <td>0</td>\n",
       "      <td>0</td>\n",
       "      <td>0</td>\n",
       "      <td>0</td>\n",
       "      <td>0</td>\n",
       "    </tr>\n",
       "    <tr>\n",
       "      <th>165855</th>\n",
       "      <td>2019</td>\n",
       "      <td>12</td>\n",
       "      <td>2</td>\n",
       "      <td>1</td>\n",
       "      <td>1</td>\n",
       "      <td>297</td>\n",
       "      <td>3</td>\n",
       "      <td>25</td>\n",
       "      <td>35</td>\n",
       "      <td>12</td>\n",
       "      <td>339</td>\n",
       "      <td>474.0</td>\n",
       "      <td>135.0</td>\n",
       "      <td>22.0</td>\n",
       "      <td>8.0</td>\n",
       "      <td>557</td>\n",
       "      <td>678.0</td>\n",
       "      <td>121.0</td>\n",
       "      <td>0</td>\n",
       "      <td>0</td>\n",
       "      <td>204.0</td>\n",
       "      <td>174.0</td>\n",
       "      <td>1258</td>\n",
       "      <td>1</td>\n",
       "      <td>0</td>\n",
       "      <td>0</td>\n",
       "      <td>0</td>\n",
       "      <td>0</td>\n",
       "      <td>1</td>\n",
       "    </tr>\n",
       "    <tr>\n",
       "      <th>280154</th>\n",
       "      <td>2020</td>\n",
       "      <td>1</td>\n",
       "      <td>19</td>\n",
       "      <td>7</td>\n",
       "      <td>14</td>\n",
       "      <td>339</td>\n",
       "      <td>10</td>\n",
       "      <td>39</td>\n",
       "      <td>3</td>\n",
       "      <td>25</td>\n",
       "      <td>480</td>\n",
       "      <td>474.0</td>\n",
       "      <td>-6.0</td>\n",
       "      <td>22.0</td>\n",
       "      <td>9.0</td>\n",
       "      <td>611</td>\n",
       "      <td>586.0</td>\n",
       "      <td>-25.0</td>\n",
       "      <td>0</td>\n",
       "      <td>0</td>\n",
       "      <td>112.0</td>\n",
       "      <td>81.0</td>\n",
       "      <td>640</td>\n",
       "      <td>0</td>\n",
       "      <td>0</td>\n",
       "      <td>0</td>\n",
       "      <td>0</td>\n",
       "      <td>0</td>\n",
       "      <td>0</td>\n",
       "    </tr>\n",
       "    <tr>\n",
       "      <th>191819</th>\n",
       "      <td>2019</td>\n",
       "      <td>12</td>\n",
       "      <td>1</td>\n",
       "      <td>7</td>\n",
       "      <td>4</td>\n",
       "      <td>2017</td>\n",
       "      <td>29</td>\n",
       "      <td>6</td>\n",
       "      <td>3</td>\n",
       "      <td>25</td>\n",
       "      <td>495</td>\n",
       "      <td>493.0</td>\n",
       "      <td>-2.0</td>\n",
       "      <td>15.0</td>\n",
       "      <td>15.0</td>\n",
       "      <td>1012</td>\n",
       "      <td>982.0</td>\n",
       "      <td>-30.0</td>\n",
       "      <td>0</td>\n",
       "      <td>0</td>\n",
       "      <td>309.0</td>\n",
       "      <td>279.0</td>\n",
       "      <td>2611</td>\n",
       "      <td>0</td>\n",
       "      <td>0</td>\n",
       "      <td>0</td>\n",
       "      <td>0</td>\n",
       "      <td>0</td>\n",
       "      <td>0</td>\n",
       "    </tr>\n",
       "  </tbody>\n",
       "</table>\n",
       "</div>"
      ],
      "text/plain": [
       "        year  month  day_of_month  day_of_week  carrier  tail_number  origin  origin_state  dest  dest_state  scheduled_depart_time  actual_depart_time  depart_delay  taxi_out  taxi_in  scheduled_arrival_time  actual_arrival_time  arrival_delay  cancelled  diverted  elapsed_time  air_time  distance  carrier_delay  weather_delay  nas_delay  security_delay  late_aircraft_delay  delayed\n",
       "397537  2019     12            16            1       12         2818       3            25     6          24                   1085              1081.0          -4.0      22.0      4.0                    1195               1178.0          -17.0          0         0          97.0      71.0       369              0              0          0               0                    0        0\n",
       "336217  2020      1            27            1        3         1660       3            25    38          22                    960               959.0          -1.0      23.0      5.0                    1139               1120.0          -19.0          0         0         221.0     193.0      1368              0              0          0               0                    0        0\n",
       "165855  2019     12             2            1        1          297       3            25    35          12                    339               474.0         135.0      22.0      8.0                     557                678.0          121.0          0         0         204.0     174.0      1258              1              0          0               0                    0        1\n",
       "280154  2020      1            19            7       14          339      10            39     3          25                    480               474.0          -6.0      22.0      9.0                     611                586.0          -25.0          0         0         112.0      81.0       640              0              0          0               0                    0        0\n",
       "191819  2019     12             1            7        4         2017      29             6     3          25                    495               493.0          -2.0      15.0     15.0                    1012                982.0          -30.0          0         0         309.0     279.0      2611              0              0          0               0                    0        0"
      ]
     },
     "execution_count": 92,
     "metadata": {},
     "output_type": "execute_result"
    }
   ],
   "source": [
    "bos_flights_train.head()"
   ]
  },
  {
   "cell_type": "code",
   "execution_count": 97,
   "metadata": {},
   "outputs": [
    {
     "data": {
      "text/plain": [
       "month  day_of_month\n",
       "1      1               0.096096\n",
       "       2               0.103448\n",
       "       3               0.082687\n",
       "       4               0.243243\n",
       "       5               0.154040\n",
       "Name: delayed, dtype: float64"
      ]
     },
     "execution_count": 97,
     "metadata": {},
     "output_type": "execute_result"
    }
   ],
   "source": [
    "delay_by_day = bos_flights_train.groupby(['month','day_of_month']).mean()['delayed']\n",
    "delay_by_day.head()"
   ]
  },
  {
   "cell_type": "code",
   "execution_count": 101,
   "metadata": {},
   "outputs": [],
   "source": [
    "bos_weather['day_of_month']=bos_weather['day']\n",
    "merged=pd.merge(bos_weather,delay_by_day,on=['month','day_of_month'])\n",
    "\n",
    "\n"
   ]
  },
  {
   "cell_type": "code",
   "execution_count": 107,
   "metadata": {},
   "outputs": [
    {
     "data": {
      "image/png": "[encoded data removed]",
      "text/plain": [
       "<Figure size 1296x360 with 3 Axes>"
      ]
     },
     "metadata": {},
     "output_type": "display_data"
    }
   ],
   "source": [
    "fig, (ax1, ax2, ax3) = plt.subplots(1, 3, figsize=(18,5))\n",
    "\n",
    "ax1.boxplot([merged['delayed'][merged['precip']==0],merged['delayed'][merged['precip']>0]]);\n",
    "ax1.set_xticklabels(['No Precipitation','Some Precipitation']);\n",
    "ax1.set_title('Proportion of Flights Delayed vs. Precipitation')\n",
    "\n",
    "ax2.scatter(merged['meanwind'],merged['delayed']);\n",
    "ax2.set_title('Proportion of Flights Delayed vs. Mean Wind Speed (mph)')\n",
    "\n",
    "\n",
    "ax3.scatter(merged['meantemp'],merged['delayed']);\n",
    "ax3.set_title('Proportion of Flights Delayed vs. Mean Temperature (F)')\n",
    "\n",
    "plt.show()"
   ]
  },
  {
   "cell_type": "markdown",
   "metadata": {
    "colab_type": "text",
    "id": "6cvIpIlPRUn_"
   },
   "source": [
    "*your answer here*\n",
    "\n",
    "Note: in order to merge, it is simplest to do a group_by for date on the Boston flights dataset, and look at the proportion of flights that are delayed for each date.  Based on the above visuals, it does look like the weather, mainly the precipitation amount, is quite associated with delay amount.  This does not necessarily mean that using weather will improve the modeling done in 4.1 and 4.2: it is a question of whether the weather provides any additional predictivce ability beyond the predictor set already used (mainly, the dominant predictor of `depart_delay`)."
   ]
  },
  {
   "cell_type": "markdown",
   "metadata": {
    "colab_type": "text",
    "id": "V-D7rq1SRX9v"
   },
   "source": [
    "<span style='color:red'>\n",
    "    \n",
    "**Rubric**\n",
    "\n",
    "**Q4.4 [4 points total]**\n",
    "\n",
    "**Points**\n",
    "- [ -1 ] if they did not \"merge\" data properly (either look at collapsed flights to days, or apply weather data to all the flights on that day)\n",
    "- [ -1 ] for well chosen visuals/summaries\n",
    "- [ -1 ] for interpreting their visuals/summaries\n",
    "- [ -1 ] if poor justification for whether this could improve the models."
   ]
  },
  {
   "cell_type": "code",
   "execution_count": null,
   "metadata": {
    "colab": {},
    "colab_type": "code",
    "id": "AasYyhj2tusl"
   },
   "outputs": [],
   "source": []
  }
 ],
 "metadata": {
  "anaconda-cloud": {},
  "colab": {
   "collapsed_sections": [],
   "name": "cs_s109a_finalexam_solutions.ipynb",
   "provenance": []
  },
  "kernelspec": {
   "display_name": "Python 3",
   "language": "python",
   "name": "python3"
  },
  "language_info": {
   "codemirror_mode": {
    "name": "ipython",
    "version": 3
   },
   "file_extension": ".py",
   "mimetype": "text/x-python",
   "name": "python",
   "nbconvert_exporter": "python",
   "pygments_lexer": "ipython3",
   "version": "3.7.6"
  }
 },
 "nbformat": 4,
 "nbformat_minor": 1
}
